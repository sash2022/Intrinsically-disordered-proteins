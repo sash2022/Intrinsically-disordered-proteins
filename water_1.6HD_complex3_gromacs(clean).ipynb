{
 "cells": [
  {
   "cell_type": "markdown",
   "metadata": {},
   "source": [
    "This code is to run the MD simulation of 1,6Hex in water using gromacs on my desktop."
   ]
  },
  {
   "cell_type": "code",
   "execution_count": 1,
   "metadata": {
    "nbpresent": {
     "id": "57ae234e-1d9a-4341-ae4b-7e2ae3da2144"
    }
   },
   "outputs": [
    {
     "data": {
      "text/html": [
       "<style>\n",
       ".solarized.base03 { color: #002b36; }\n",
       ".solarized.base02 { color: #073642; }\n",
       ".solarized.base01 { color: #586e75; }\n",
       ".solarized.base00 { color: #657b83; }\n",
       ".solarized.base0 { color: #839496; }\n",
       ".solarized.base1 { color: #93a1a1; }\n",
       ".solarized.base2 { color: #eee8d5; }\n",
       ".solarized.base3  { color: #fdf6e3; }\n",
       ".solarized.solar-yellow  { color: #b58900; }\n",
       ".solarized.solar-orange  { color: #cb4b16; }\n",
       ".solarized.solar-red { color: #dc322f; }\n",
       ".solarized.solar-magenta { color: #d33682; }\n",
       ".solarized.solar-violet  { color: #6c71c4; }\n",
       ".solarized.solar-blue { color: #268bd2; }\n",
       ".solarized.solar-cyan { color: #2aa198; }\n",
       ".solarized.solar-green { color: #859900; }\n",
       "\n",
       ".ansiyellow { color: #b58900; }\n",
       ".ansiorange { color: #cb4b16; }\n",
       ".ansired { color: #dc322f; }\n",
       ".ansimagenta { color: #d33682; }\n",
       ".ansiviolet { color: #6c71c4; }\n",
       ".ansiblue { color: #268bd2; }\n",
       ".ansicyan { color: #2aa198; }\n",
       ".ansigreen { color: #859900; }\n",
       "\n",
       ".gromacs.blue {color: #3e3e7f}\n",
       "/* Notebook styling */\n",
       "\n",
       "body, p, div.rendered_html { \n",
       "    color: #3e3e7f;\n",
       "/*    font-family: 'PT Serif', Georgia, Times, 'Times New Roman', serif; */\n",
       "    font-size: 12pt;\n",
       "}\n",
       "\n",
       "body { background-color: #eee8d5 !important; }\n",
       "\n",
       "#notebook { \n",
       "    background-color: #d0d0ff !important;\n",
       "    box-shadow: inset 20px 36px 20px -35px black !important;\n",
       "}\n",
       "\n",
       "/*\n",
       "#maintoolbar { padding-top: 1em; padding-bottom: 1em; }\n",
       "#header { border-color: #93a1a1 !important; }\n",
       "*/\n",
       "/* Pager */\n",
       "\n",
       "#pager_splitter { background: none !important; }\n",
       "#pager {\n",
       "    background-color: #eee8d5;\n",
       "}\n",
       "div#pager pre {\n",
       "    background-color: #fdf6e3;\n",
       "    color: #586e75;\n",
       "}    \n",
       "\n",
       "/* Forms and menus */\n",
       "/*\n",
       ".navbar-default, .navbar-static-top {\n",
       "    background-color: #fdf6e3 !important;\n",
       "    color: #586e75 !important;\n",
       "}\n",
       ".navbar-default { border: none !important; }\n",
       ".navbar-nav > li > a { color: #586e75 !important; }\n",
       ".navbar-nav > li.open > a { background-color: #eee8d5 !important; color: #93a1a1 !important; }\n",
       ".nav > li.active > a { background-color: #eee8d5 !important; color: #586e75 !important; }\n",
       "\n",
       ".dropdown-menu { background-color: #fdf6e3 !important; border: none !important; }\n",
       ".dropdown-menu > li > a { color: #586e75 !important; }\n",
       ".dropdown-menu > li > a:hover { background-color: #eee8d5 !important; }\n",
       ".dropdown-menu > li.disabled > a { color: #93a1a1 !important; }\n",
       "\n",
       "button, .btn-default, .form-control, select {\n",
       "    background-color: #fdf6e3 !important;\n",
       "    color: #586e75 !important;\n",
       "}\n",
       "*/\n",
       "/* Tooltips */\n",
       "\n",
       ".completions {\n",
       "    border: none;\n",
       "    -moz-box-shadow: none;\n",
       "    -webkit-box-shadow: none;\n",
       "    box-shadow: none;\n",
       "    border-radius: 0;\n",
       "    margin-top: 0.5em;\n",
       "}\n",
       ".completions select { font-size: 11pt; }\n",
       "\n",
       ".ipython_tooltip .tooltiptext pre { \n",
       "    font-size: 10pt;\n",
       "    background-color: #eee8d5;\n",
       "    color: #586e75;\n",
       "}\n",
       ".ipython_tooltip {\n",
       "    -moz-box-shadow: none;\n",
       "    -webkit-box-shadow: none;\n",
       "    box-shadow: none;\n",
       "    background-color: #eee8d5;\n",
       "    color: #586e75;\n",
       "}\n",
       ".pretooltiparrow:before {\n",
       "    background-color: #eee8d5;\n",
       "}\n",
       "\n",
       "/* Cell output */\n",
       "\n",
       ".rendered_html pre, .rendered_html code {\n",
       "    color: inherit !important;\n",
       "    background-color: inherit !important;\n",
       "}\n",
       "div.output_area pre {\n",
       "    color: #93a1a1 !important;\n",
       "}\n",
       ".rendered_html table, .rendered_html td, .rendered_html th {\n",
       "    border: 1px solid #586e75 !important;\n",
       "}\n",
       "\n",
       "/* Modal dialogs */\n",
       "\n",
       ".modal-content, .modal-content p {\n",
       "    background-color: #eee8d5 !important;\n",
       "    color: #586e75 !important;\n",
       "}\n",
       "\n",
       "/* Cell styling */\n",
       "\n",
       "div.cell.selected { border-color: #839496 !important; }\n",
       "div.cell.edit_mode { border-color: #268bd2 !important; }\n",
       "div.input_prompt { color: #268bd2 !important; }\n",
       "div.output_prompt { color: #dc322f !important; }\n",
       "div.input_area { border: none !important; background: none !important; }\n",
       "\n",
       ".celltoolbar {\n",
       "    background: #eee8d5 !important;\n",
       "    color: #586e75 !important;\n",
       "}\n",
       "\n",
       "/*    border: 1px solid #002b36 !important;*/\n",
       "/* CodeMirror Styling */\n",
       "/*\n",
       ".cm-s-ipython {\n",
       "    line-height: 1.45em;\n",
       "    color-profile: sRGB;\n",
       "    rendering-intent: auto;\n",
       "    background-color: #002b36;\n",
       "    color: #93a1a1;\n",
       "    text-shadow: none;\n",
       "    border-radius: 4px;\n",
       "}\n",
       "*/\n",
       "/* Cursor */\n",
       "\n",
       ".cm-s-ipython div.CodeMirror-cursor {\n",
       "    border: none;\n",
       "    width: 0.6em;\n",
       "    background-color: rgba(100, 100, 100, 0.5);\n",
       "}\n",
       "\n",
       "/* Gutters */\n",
       "\n",
       "/*\n",
       ".cm-s-ipython .CodeMirror-gutters {\n",
       "  border-right: 1px solid;\n",
       "}\n",
       "\n",
       ".cm-s-ipython .CodeMirror-gutters {\n",
       "  background-color:  #002b36;\n",
       "  border-color: #00232c;\n",
       "}\n",
       "\n",
       ".cm-s-ipython .CodeMirror-linenumber {\n",
       "  text-shadow: #021014 0 -1px;\n",
       "  padding: 0 8px 0 0;\n",
       "  color: #586e75;\n",
       "}\n",
       "*/\n",
       "/*\n",
       ".cm-s-ipython .CodeMirror-guttermarker-subtle { color: #586e75; }\n",
       ".cm-s-ipython .CodeMirror-guttermarker { color: #ddd; }\n",
       "*/\n",
       "/* Syntax highlighting */\n",
       "/*\n",
       ".cm-s-ipython span.cm-keyword { color: #cb4b16 }\n",
       ".cm-s-ipython span.cm-atom { color: #d33682; }\n",
       ".cm-s-ipython span.cm-number { color: #d33682; }\n",
       ".cm-s-ipython span.cm-def { color: #268bd2; font-weight: bold; }\n",
       "\n",
       ".cm-s-ipython span.cm-variable { color: #93a1a1; }\n",
       ".cm-s-ipython span.cm-variable-2 { color: #b58900; }\n",
       ".cm-s-ipython span.cm-variable-3 { color: #6c71c4; }\n",
       "\n",
       ".cm-s-ipython span.cm-property { color: #2aa198; }\n",
       ".cm-s-ipython span.cm-operator {color: #6c71c4;}\n",
       "\n",
       ".cm-s-ipython span.cm-comment { color: #6c71c4; font-style: italic; }\n",
       "\n",
       ".cm-s-ipython span.cm-string { color: #2aa198; }\n",
       ".cm-s-ipython span.cm-string-2 { color: #b58900; }\n",
       "\n",
       ".cm-s-ipython span.cm-meta { color: #859900; }\n",
       ".cm-s-ipython span.cm-qualifier { color: #b58900; }\n",
       ".cm-s-ipython span.cm-builtin { color: #859900; }\n",
       ".cm-s-ipython span.cm-bracket { color: #cb4b16; }\n",
       ".cm-s-ipython .CodeMirror-matchingbracket { color: #b58900 !important; font-weight: bold; }\n",
       ".cm-s-ipython .CodeMirror-nonmatchingbracket { color: #dc322f; }\n",
       ".cm-s-ipython span.cm-tag { color: #93a1a1 }\n",
       ".cm-s-ipython span.cm-attribute {  color: #2aa198; }\n",
       ".cm-s-ipython span.cm-header { color: #586e75; }\n",
       ".cm-s-ipython span.cm-quote { color: #93a1a1; }\n",
       ".cm-s-ipython span.cm-hr {\n",
       "  color: transparent;\n",
       "  border-top: 1px solid #080e05;\n",
       "  display: block;\n",
       "}\n",
       ".cm-s-ipython span.cm-link { color: #93a1a1; cursor: pointer; }\n",
       ".cm-s-ipython span.cm-special { color: #6c71c4; }\n",
       ".cm-s-ipython span.cm-em {\n",
       "  color: #999;\n",
       "  text-decoration: underline;\n",
       "  text-decoration-style: dotted;\n",
       "}\n",
       ".cm-s-ipython span.cm-strong { color: #eee; }\n",
       ".cm-s-ipython span.cm-error,\n",
       ".cm-s-ipython span.cm-invalidchar {\n",
       "  color: #586e75;\n",
       "  border-bottom: 1px dotted #dc322f;\n",
       "}\n",
       "*/\n",
       "</style>\n"
      ],
      "text/plain": [
       "<IPython.core.display.HTML object>"
      ]
     },
     "metadata": {},
     "output_type": "display_data"
    },
    {
     "data": {
      "application/vnd.jupyter.widget-view+json": {
       "model_id": "461eac98d4fe4adc80361116670e8ff8",
       "version_major": 2,
       "version_minor": 0
      },
      "text/plain": []
     },
     "metadata": {},
     "output_type": "display_data"
    },
    {
     "data": {
      "text/html": [
       "\n",
       "        <script>\n",
       "            function code_toggle_12355925858129820266() {\n",
       "                $('div.cell.code_cell.rendered.selected').find('div.input').toggle();\n",
       "            }\n",
       "\n",
       "            \n",
       "        </script>\n",
       "\n",
       "        <a href=\"javascript:code_toggle_12355925858129820266()\">Show/hide solution</a>\n",
       "    "
      ],
      "text/plain": [
       "<IPython.core.display.HTML object>"
      ]
     },
     "execution_count": 1,
     "metadata": {},
     "output_type": "execute_result"
    }
   ],
   "source": [
    "# Execute this first \n",
    "#\n",
    "#  * trigger notebook styling\n",
    "#  * check if notebook had been modified since its distribution\n",
    "# \n",
    "# Note: executing any cells before this modifies the notebook.\n",
    "# \n",
    "%run src/init_notebooks.py\n",
    "hide_toggle()\n",
    "#check_notebook()"
   ]
  },
  {
   "cell_type": "markdown",
   "metadata": {
    "nbpresent": {
     "id": "dde7b85f-ae2f-42f9-9ebf-58ab93239983"
    }
   },
   "source": [
    "# Molecular dynamics simulation of a small protein using GROMACS "
   ]
  },
  {
   "cell_type": "markdown",
   "metadata": {
    "nbpresent": {
     "id": "59d19417-8116-4511-8fc5-c5abbbfe82b3"
    }
   },
   "source": [
    "    authors  : Alessandra Villa (based on a Justin Lemkuhl tutorial see http://www.mdtutorials.com or Living J. Comp. Mol. Sci. 2018, 1, 5068).    \n",
    "    goal     : learn step-by-step how to run a molecular dynamics simulation of a small protein using GROMACS \n",
    "    time     : 90 minutes\n",
    "    software : GROMACS 2024 (2023), python modules: numpy, matplotlib, re, nglviewer, md_traj, panda. \n",
    "    optional software: visualization software [VMD](https://www.ks.uiuc.edu/Research/vmd), Xmgrace plotting tool\n",
    "    tutorial source: tutorials.gromacs.org\n",
    "    version  : release - doi:10.5281/zenodo.11198376"
   ]
  },
  {
   "cell_type": "markdown",
   "metadata": {},
   "source": [
    "# Preparations to run this notebook"
   ]
  },
  {
   "cell_type": "code",
   "execution_count": 19,
   "metadata": {
    "nbpresent": {
     "id": "cf4e0e9a-6503-430f-8c60-815a9ae22616"
    }
   },
   "outputs": [
    {
     "name": "stdout",
     "output_type": "stream",
     "text": [
      "/media/saeed/Expansion/ASU/1,6HD/pure_water/3000water/final\n"
     ]
    }
   ],
   "source": [
    "# Change to the data directory\n",
    "# Note that executing this command twice will result in an error you can ignore\n",
    "%cd /media/saeed/Expansion/ASU/1,6HD/pure_water/3000water/final"
   ]
  },
  {
   "cell_type": "markdown",
   "metadata": {
    "jp-MarkdownHeadingCollapsed": true,
    "nbpresent": {
     "id": "3d13b2f5-7423-4201-b832-303524849db8"
    }
   },
   "source": [
    "# Obtaining the input for a simulation"
   ]
  },
  {
   "cell_type": "markdown",
   "metadata": {
    "nbpresent": {
     "id": "40fa54aa-811b-4991-8dcf-3fdc464b1249"
    }
   },
   "source": [
    "The starting point for each simulation is a molecular structure file. For this tutorial, we will utilize Factor Xa, a protein playing critical role in the formation of blood clots. The 3D structure is available from the RCSB website, https://www.rcsb.org/ with PDB code 1FJS. You can find the PDB file for the crystal structure in \"input\" directory as \"1fjs.pdb\"."
   ]
  },
  {
   "cell_type": "markdown",
   "metadata": {},
   "source": [
    "Now we visualize the structure"
   ]
  },
  {
   "cell_type": "code",
   "execution_count": 15,
   "metadata": {},
   "outputs": [
    {
     "data": {
      "application/vnd.jupyter.widget-view+json": {
       "model_id": "1811603e8e004644b50d37ca47183b98",
       "version_major": 2,
       "version_minor": 0
      },
      "text/plain": [
       "NGLWidget()"
      ]
     },
     "metadata": {},
     "output_type": "display_data"
    }
   ],
   "source": [
    "import nglview as ng\n",
    "view = ng.show_structure_file(\"1,6HD.pdb\")\n",
    "view\n",
    "# click and drag to rotate, zoom with your mouseweel \n",
    "# for more infor on this viewer have a look at https://github.com/nglviewer/nglview"
   ]
  },
  {
   "cell_type": "markdown",
   "metadata": {},
   "source": [
    "In alternative, you can use VMD to visualize the structure on your local machine. To run VMD from within this notebook, remove the comment character (#) in the following cell and VMD should pop up:\n",
    " **`close the VMD window after you are done looking at the protein to continue with this notebook`**"
   ]
  },
  {
   "cell_type": "code",
   "execution_count": 16,
   "metadata": {
    "nbpresent": {
     "id": "c45f02d0-d499-40b4-bb12-5b54a57e2866"
    }
   },
   "outputs": [
    {
     "name": "stdout",
     "output_type": "stream",
     "text": [
      "qt.qpa.xcb: could not connect to display \n",
      "qt.qpa.plugin: Could not load the Qt platform plugin \"xcb\" in \"\" even though it was found.\n",
      "This application failed to start because no Qt platform plugin could be initialized. Reinstalling the application may fix this problem.\n",
      "\n",
      "Available platform plugins are: eglfs, minimal, minimalegl, offscreen, vnc, webgl, xcb.\n",
      "\n"
     ]
    }
   ],
   "source": [
    "!pymol 1,6HD.pdb"
   ]
  },
  {
   "cell_type": "markdown",
   "metadata": {
    "nbpresent": {
     "id": "d5d197b7-16ea-4cb7-bc4c-dc18ea76e1d1"
    }
   },
   "source": [
    "## Cleaning the input structure"
   ]
  },
  {
   "cell_type": "markdown",
   "metadata": {
    "nbpresent": {
     "id": "992503cc-771a-439b-bae3-3a660a755b7c"
    }
   },
   "source": [
    "Once you've had a look at the molecule, you are going to want to strip out all the atoms that do not belong to the protein (e.i crystal waters, ligands, etc). To delete those atoms (labelled \"HETATM\" in the PDB file) and eventually their connectivity, either use a plain text editor like vi, emacs (Linux/Mac), or Notepad (Windows). Do not use word processing software! Alternatively, you can use grep to delete these lines very easily:"
   ]
  },
  {
   "cell_type": "code",
   "execution_count": 6,
   "metadata": {
    "nbpresent": {
     "id": "2655e386-be87-4ac5-91ef-9ac4ee9360f9"
    },
    "scrolled": true
   },
   "outputs": [],
   "source": [
    "#!grep -v HETATM input/1fjs.pdb > 1fjs_protein_tmp.pdb\n",
    "#!grep -v CONECT 1fjs_protein_tmp.pdb > 1fjs_protein.pdb\n",
    "!grep -v HEZ solve.gro > solve_no_hez.gro"
   ]
  },
  {
   "cell_type": "markdown",
   "metadata": {},
   "source": [
    "View the cleaned structure"
   ]
  },
  {
   "cell_type": "code",
   "execution_count": 8,
   "metadata": {},
   "outputs": [
    {
     "data": {
      "application/vnd.jupyter.widget-view+json": {
       "model_id": "dab210ef3c434c2cb6fdc01fde254470",
       "version_major": 2,
       "version_minor": 0
      },
      "text/plain": [
       "NGLWidget()"
      ]
     },
     "metadata": {},
     "output_type": "display_data"
    }
   ],
   "source": [
    "import nglview as ng\n",
    "view = ng.show_structure_file(\"solve_no_hez.gro\")\n",
    "view\n",
    "# click and drag to rotate, zoom with your mouseweel \n",
    "# for more infor on this viewer have a look at https://github.com/nglviewer/nglview"
   ]
  },
  {
   "cell_type": "markdown",
   "metadata": {},
   "source": [
    "In alternative, you can use VMD to visualize the structure on your local machine. To run VMD from within this notebook, remove the comment character (#) in the following cell and VMD should pop up:"
   ]
  },
  {
   "cell_type": "code",
   "execution_count": null,
   "metadata": {
    "nbpresent": {
     "id": "f45c2308-0e74-4025-ac1e-200ba2869162"
    },
    "scrolled": true
   },
   "outputs": [],
   "source": [
    "#!vmd 1fjs_protein.pdb"
   ]
  },
  {
   "cell_type": "markdown",
   "metadata": {
    "nbpresent": {
     "id": "345d6e37-b392-4f54-b2ed-4d19f5c13b3d"
    }
   },
   "source": [
    "Note *Such a procedure is not universally appropriate (e.g., the case of a tightly bound ligand or otherwise functional active-site water molecule).*"
   ]
  },
  {
   "cell_type": "markdown",
   "metadata": {
    "nbpresent": {
     "id": "345d6e37-b392-4f54-b2ed-4d19f5c13b3d"
    }
   },
   "source": [
    "Always check your .pdb file for entries listed under the comment MISSING, as these entries indicate either atoms or whole residues that are not present in the crystal structure. Terminal regions may be absent, and may not present a problem for dynamics."
   ]
  },
  {
   "cell_type": "code",
   "execution_count": null,
   "metadata": {},
   "outputs": [],
   "source": [
    "!grep MISSING input/1fjs.pdb"
   ]
  },
  {
   "cell_type": "markdown",
   "metadata": {
    "nbpresent": {
     "id": "21e7a22b-6304-496d-8a9d-dfec05a513f6"
    }
   },
   "source": [
    "## Generating a topology"
   ]
  },
  {
   "cell_type": "markdown",
   "metadata": {
    "nbpresent": {
     "id": "1d259e27-9071-43e4-93ab-4c45dbf7c7a1"
    }
   },
   "source": [
    "Now we have verified that all the necessary atoms are present and the PDB file contains only protein atoms, and is ready to be input into GROMACS (see <a href=http://manual.gromacs.org/current/index.html> GROMACS documentation </a>). \n",
    "The first GROMACS tool, we use, is [`gmx pdb2gmx`](https://manual.gromacs.org/current/onlinehelp/gmx-pdb2gmx.html). The purpose of `gmx pdb2gmx` is to generate three files:\n",
    "\n",
    "* The topology for the molecule.\n",
    "* A position restraint file.\n",
    "* A post-processed structure file. \n",
    "\n",
    "The topology (topol.top by default) contains all the information necessary to define the molecule within a simulation. This information includes nonbonded parameters (atom types and charges) as well as bonded parameters (bonds, angles, dihedrals and atom connectivity). We will take a more detailed look at the topology once it has been generated."
   ]
  },
  {
   "cell_type": "markdown",
   "metadata": {},
   "source": [
    "Note *Incomplete internal sequences or any amino acid residues that have missing atoms will cause `gmx pdb2gmx` to fail. These missing atoms/residues must be modeled in using other software packages. Also note that `gmx pdb2gmx` is not magic. It cannot generate topologies for arbitrary molecules, just the residues defined by the force field (in the *.rtp files - generally proteins, nucleic acids, and a very finite amount of cofactors, like NAD(H) and ATP).*"
   ]
  },
  {
   "cell_type": "markdown",
   "metadata": {},
   "source": [
    "Execute `gmx pdb2gmx` by issuing the following command:"
   ]
  },
  {
   "cell_type": "code",
   "execution_count": null,
   "metadata": {
    "nbpresent": {
     "id": "2f9730de-896f-4e92-84c7-3de46d837d53"
    },
    "scrolled": true
   },
   "outputs": [],
   "source": [
    "!gmx pdb2gmx -f 1fjs_protein.pdb -o 1fjs_processed.gro -water tip3p -ff \"charmm27\""
   ]
  },
  {
   "cell_type": "markdown",
   "metadata": {
    "nbpresent": {
     "id": "d5ba1bb9-c859-4e03-a21b-780533486c27"
    }
   },
   "source": [
    "Here, we made an important decision for the course of the simulation in choosing the CHARMM27 all-atom force field. The force field will contain the information that will be written to the topology. This is a very important choice! You should always read thoroughly about each force field and decide which is most applicable to your situation. Other choices are given, when running `gmx pdb2gmx` without the -ff flag"
   ]
  },
  {
   "cell_type": "markdown",
   "metadata": {
    "nbpresent": {
     "id": "b5b8ad6b-94b6-4ffc-b771-87dadfb78841"
    }
   },
   "source": [
    "    Select the Force Field:\n",
    "    From '/usr/local/gromacs/share/gromacs/top':\n",
    "     1: AMBER03 protein, nucleic AMBER94 (Duan et al., J. Comp. Chem. 24, 1999-2012, 2003)\n",
    "     2: AMBER94 force field (Cornell et al., JACS 117, 5179-5197, 1995)\n",
    "     3: AMBER96 protein, nucleic AMBER94 (Kollman et al., Acc. Chem. Res. 29, 461-469, 1996)\n",
    "     4: AMBER99 protein, nucleic AMBER94 (Wang et al., J. Comp. Chem. 21, 1049-1074, 2000)\n",
    "     5: AMBER99SB protein, nucleic AMBER94 (Hornak et al., Proteins 65, 712-725, 2006)\n",
    "     6: AMBER99SB-ILDN protein, nucleic AMBER94 (Lindorff-Larsen et al., Proteins 78, 1950-58, 2010)\n",
    "     7: AMBERGS force field (Garcia & Sanbonmatsu, PNAS 99, 2782-2787, 2002)\n",
    "     8: CHARMM27 all-atom force field (CHARM22 plus CMAP for proteins)\n",
    "     9: GROMOS96 43a1 force field\n",
    "    10: GROMOS96 43a2 force field (improved alkane dihedrals)\n",
    "    11: GROMOS96 45a3 force field (Schuler JCC 2001 22 1205)\n",
    "    12: GROMOS96 53a5 force field (JCC 2004 vol 25 pag 1656)\n",
    "    13: GROMOS96 53a6 force field (JCC 2004 vol 25 pag 1656)\n",
    "    14: GROMOS96 54a7 force field (Eur. Biophys. J. (2011), 40,, 843-856, DOI: 10.1007/s00249-011-0700-9)\n",
    "    15: OPLS-AA/L all-atom force field (2001 aminoacid dihedrals)\n"
   ]
  },
  {
   "cell_type": "markdown",
   "metadata": {
    "nbpresent": {
     "id": "313f7d4f-aef7-4034-a8f0-d01ccbc0f61a"
    }
   },
   "source": [
    "There are many other options that can be passed to `gmx pdb2gmx` (see http://manual.gromacs.org/documentation/current/onlinehelp/gmx-pdb2gmx.html). Some commonly used ones are listed here:\n",
    "\n",
    "| Option | Effect |\n",
    "|--------|--------\n",
    "|-water  | Water model to use: none, spc, spce, tip3p, tip4p, tip5p, tips3p.|\n",
    "|-ignh   | Ignore H atoms in the PDB file; especially useful for NMR structures. Otherwise, if H atoms are present, they must be in the named exactly how the force fields in GROMACS expect them to be. Different conventions exist, so dealing with H atoms can occasionally be a headache! If you need to preserve the initial H coordinates, but renaming is required, then the Linux sed command is your friend.|\n",
    "|-ter    | Interactively assign charge states for N- and C-termini.|\n",
    "|-inter  | Interactively assign charge states for Glu, Asp, Lys, Arg, and His; choose which Cys are involved in disulfide bonds.|"
   ]
  },
  {
   "cell_type": "markdown",
   "metadata": {
    "nbpresent": {
     "id": "d0e9e6a0-2330-4d50-90ee-9c2ebcfeccb9"
    }
   },
   "source": [
    "## A peek at the generated files"
   ]
  },
  {
   "cell_type": "code",
   "execution_count": null,
   "metadata": {
    "nbpresent": {
     "id": "db39c2bf-2b27-4143-a5bf-2d8a9ad69a86"
    },
    "scrolled": true
   },
   "outputs": [],
   "source": [
    "!ls"
   ]
  },
  {
   "cell_type": "markdown",
   "metadata": {
    "nbpresent": {
     "id": "e726db3d-da64-4dc6-979a-37de5aca3555"
    }
   },
   "source": [
    "You have now generated three new files: 1fjs_processed.gro, topol.top, topol_Protein_chain_X.itp and posre_Protein_chain_X.itp. 1fjs_processed.gro is a GROMACS-formatted structure file that contains all the atoms defined within the force field (i.e., H atoms have been added to the amino acids in the protein). The topol.top file is the system topology (more on this in a minute). The posre files contain information used to restrain the positions of heavy atoms (more on this later).\n",
    "\n",
    "One final note: many users assume that a .gro file is mandatory. This is not true. GROMACS can handle many different file formats, with .gro simply being the default for commands that write coordinate files. It is a very compact format, but it has limited precision. If you prefer to use, for instance, PDB format, all you need to do is to specify an appropriate file name with .pdb extension as your output. The purpose of `gmx pdb2gmx` is to produce a force field-compliant topology; the output structure is largely a side effect of this purpose and is intended for user convenience. The format can be just about anything you like (see http://manual.gromacs.org/documentation/current/reference-manual/file-formats.html for different formats)."
   ]
  },
  {
   "cell_type": "markdown",
   "metadata": {
    "jp-MarkdownHeadingCollapsed": true,
    "nbpresent": {
     "id": "aeae1bf0-ee7a-466f-8a74-ffa719813bc6"
    }
   },
   "source": [
    "# Understanding molecule \"topologies\""
   ]
  },
  {
   "cell_type": "markdown",
   "metadata": {
    "nbpresent": {
     "id": "93e9c7bd-075d-429f-be86-6b3118cb5b1c"
    }
   },
   "source": [
    "Let's look at what is in the output topology (topol.top). Again, using a plain text editor, inspect its contents. After several comment lines (preceded by `;`), you will find the following:"
   ]
  },
  {
   "cell_type": "code",
   "execution_count": null,
   "metadata": {
    "scrolled": true
   },
   "outputs": [],
   "source": [
    "!cat topol.top"
   ]
  },
  {
   "cell_type": "markdown",
   "metadata": {
    "nbpresent": {
     "id": "c2e72686-c836-46ff-947a-faaf1e87d18a"
    }
   },
   "source": [
    "The first line calls the parameters within the chosen force field. It is at the beginning of the file, indicating that all subsequent parameters are derived from this force field.  Then next important line is [ moleculetype ], that you find in  "
   ]
  },
  {
   "cell_type": "code",
   "execution_count": null,
   "metadata": {},
   "outputs": [],
   "source": [
    "!grep \"moleculetype\" -A 3 topol_Protein_chain_A.itp"
   ]
  },
  {
   "cell_type": "markdown",
   "metadata": {},
   "source": [
    "and"
   ]
  },
  {
   "cell_type": "code",
   "execution_count": null,
   "metadata": {},
   "outputs": [],
   "source": [
    "!grep \"moleculetype\" -A 3 topol_Protein_chain_L.itp"
   ]
  },
  {
   "cell_type": "markdown",
   "metadata": {
    "nbpresent": {
     "id": "49a884b4-6326-4c0b-99a0-d66f60bd9e4d"
    }
   },
   "source": [
    "The name \"Protein_chain_A\" defines the molecule name, based on the fact that the protein was labeled as chain A in the PDB file. There are 3 exclusions for bonded neighbors. More information on exclusions can be found in the <a href=http://manual.gromacs.org/current/reference-manual/topologies.html>GROMACS manual</a>."
   ]
  },
  {
   "cell_type": "markdown",
   "metadata": {
    "nbpresent": {
     "id": "db680c9f-9999-4423-b607-47b2746a64c4"
    }
   },
   "source": [
    "## Atoms in a topology"
   ]
  },
  {
   "cell_type": "markdown",
   "metadata": {
    "nbpresent": {
     "id": "98122e18-61f8-44b2-b5cf-6b4fa20ae864"
    }
   },
   "source": [
    "The next section defines the [ atoms ] in the protein. The information is presented as columns:"
   ]
  },
  {
   "cell_type": "code",
   "execution_count": null,
   "metadata": {},
   "outputs": [],
   "source": [
    "! grep \"atoms\" -A 4 topol_Protein_chain_A.itp"
   ]
  },
  {
   "cell_type": "markdown",
   "metadata": {
    "nbpresent": {
     "id": "09648857-440c-4e54-86c6-932fa288cfa9"
    }
   },
   "source": [
    "The interpretation of this information is as follows:\n",
    "\n",
    "|Field  |  description |\n",
    "|--|--\n",
    "|nr|Atom number\n",
    "|type| Atom type\n",
    "|resnr|Amino acid residue number\n",
    "|residue| The amino acid residue name- Note that this may be different from .rtp entry. \n",
    "|atom| Atom name\n",
    "|cgnr| Charge group number - Not used anymore \n",
    "|charge| Self-explanatory - The \"qtot\" descriptor is a running total of the charge on the molecule\n",
    "|mass| Also self-explanatory\n",
    "|typeB, chargeB, massB| Used for free energy perturbation (not discussed here) "
   ]
  },
  {
   "cell_type": "markdown",
   "metadata": {
    "nbpresent": {
     "id": "18a65484-38e3-49fc-9dc2-57f04d698628"
    }
   },
   "source": [
    "## Bonds and other interactions"
   ]
  },
  {
   "cell_type": "markdown",
   "metadata": {
    "nbpresent": {
     "id": "0a8bda1d-2727-4a76-983d-dab8112e1dcf"
    }
   },
   "source": [
    "Subsequent sections include [ bonds ], [ pairs ], [ angles ], and [ dihedrals ]. Some of these sections are self-explanatory (bonds, angles, and dihedrals). These interactions are found [here](http://manual.gromacs.org/current/reference-manual/functions.html) and special 1-4 interactions are included under [pairs](http://manual.gromacs.org/current/reference-manual/functions/interaction-methods.html#exclusions-and-1-4-interactions). For format associated to function types [see topology file table](http://manual.gromacs.org/documentation/2020-beta1/reference-manual/topologies/topology-file-formats.html) in GROMACS manual."
   ]
  },
  {
   "cell_type": "markdown",
   "metadata": {},
   "source": [
    "Below we look for these interactions in topology file. As example we start with chain A. Bonded interactions"
   ]
  },
  {
   "cell_type": "code",
   "execution_count": null,
   "metadata": {},
   "outputs": [],
   "source": [
    "!grep \"bonds\" -A 2 topol_Protein_chain_A.itp"
   ]
  },
  {
   "cell_type": "markdown",
   "metadata": {},
   "source": [
    "Pair interactions"
   ]
  },
  {
   "cell_type": "code",
   "execution_count": null,
   "metadata": {},
   "outputs": [],
   "source": [
    "!grep \"pairs\" -A 2  topol_Protein_chain_A.itp"
   ]
  },
  {
   "cell_type": "markdown",
   "metadata": {},
   "source": [
    "Angle interactions"
   ]
  },
  {
   "cell_type": "code",
   "execution_count": null,
   "metadata": {},
   "outputs": [],
   "source": [
    "!grep \"angles\" -A 2 topol_Protein_chain_A.itp"
   ]
  },
  {
   "cell_type": "markdown",
   "metadata": {},
   "source": [
    "Dihedral interactions"
   ]
  },
  {
   "cell_type": "code",
   "execution_count": null,
   "metadata": {},
   "outputs": [],
   "source": [
    "!grep \"dihedrals\" -A 2 topol_Protein_chain_A.itp"
   ]
  },
  {
   "cell_type": "markdown",
   "metadata": {
    "nbpresent": {
     "id": "ef42771f-cf92-4505-a904-9e5b8f9ab0d1"
    }
   },
   "source": [
    "## Water and position restraints"
   ]
  },
  {
   "cell_type": "markdown",
   "metadata": {
    "nbpresent": {
     "id": "b43f5e17-887e-415c-a7da-1b61d8e53b93"
    }
   },
   "source": [
    "The remainder of the file involves including a few other useful/necessary topologies, starting with position restraints. The \"posre.itp\" file was generated by `gmx pdb2gmx`; it defines a force constant used to keep atoms in place during equilibration (more on this later)."
   ]
  },
  {
   "cell_type": "code",
   "execution_count": null,
   "metadata": {},
   "outputs": [],
   "source": [
    "!grep \"posre\" topol*.itp"
   ]
  },
  {
   "cell_type": "code",
   "execution_count": null,
   "metadata": {
    "nbpresent": {
     "id": "04e0801a-6444-4279-b4ed-36245a918cba"
    },
    "scrolled": true
   },
   "outputs": [],
   "source": [
    "!cat posre_Protein_chain_A.itp"
   ]
  },
  {
   "cell_type": "markdown",
   "metadata": {
    "nbpresent": {
     "id": "3efdb33e-1797-47b0-8866-deb26bef0b7b"
    }
   },
   "source": [
    "Here ends the \"Protein_chain_A\" moleculetype definition. Then the \"Protein_chain_L\" moleculetype definition starts. The remainder of the topology file is dedicated to defining other molecules and providing system-level descriptions. The next moleculetype (by default) is the solvent, in this case TIP3P water. Other typical choices for water include SPC, SPC/E, and TIP4P. We chose this by passing \"-water tip3p\" to `gmx pdb2gmx`. For an excellent summary of the many different water models, click [here](http://www1.lsbu.ac.uk/water/water_models.html) , but be aware that not all of these models are present within GROMACS."
   ]
  },
  {
   "cell_type": "markdown",
   "metadata": {
    "nbpresent": {
     "id": "39ea31e7-3219-49d9-b756-2bd0fb8dca0b"
    }
   },
   "source": [
    "## Ions and other parameters"
   ]
  },
  {
   "cell_type": "markdown",
   "metadata": {
    "nbpresent": {
     "id": "ecd3d9b7-4388-4f41-a597-677407b6a8fd"
    }
   },
   "source": [
    "Ion parameters are included next:"
   ]
  },
  {
   "cell_type": "code",
   "execution_count": null,
   "metadata": {},
   "outputs": [],
   "source": [
    "!grep \"ions\" topol.top"
   ]
  },
  {
   "cell_type": "markdown",
   "metadata": {},
   "source": [
    "## System level definitions"
   ]
  },
  {
   "cell_type": "markdown",
   "metadata": {
    "nbpresent": {
     "id": "5ccbb2b2-116b-48d2-9212-33ff648831ca"
    }
   },
   "source": [
    "Finally come system-level definitions. The [ system ] directive gives the name of the system that will be written to output files during the simulation. The [ molecules ] directive lists all of the molecules in the system."
   ]
  },
  {
   "cell_type": "code",
   "execution_count": null,
   "metadata": {},
   "outputs": [],
   "source": [
    "!tail -8 topol.top"
   ]
  },
  {
   "cell_type": "markdown",
   "metadata": {
    "nbpresent": {
     "id": "8c2b434c-5817-4179-9529-ec89fdb0800d"
    }
   },
   "source": [
    "A few key notes about the `[ molecules ]` directive:\n",
    "\n",
    "- The order of the listed molecules must exactly match the order of the molecules in the coordinate (in this case, .gro) file.\n",
    "- The names listed must match the `[ moleculetype ]` name for each species, not residue names or anything else.\n",
    "\n",
    "If you fail to satisfy these concrete requirements at any time, you will get fatal errors from grompp (discussed later) about mismatched names, molecules not being found, or a number of others."
   ]
  },
  {
   "cell_type": "markdown",
   "metadata": {
    "nbpresent": {
     "id": "3b32f9b6-e20b-460f-ae55-7cdd99ea1892"
    }
   },
   "source": [
    "Now that we have examined the contents of a topology file, we can continue building our system."
   ]
  },
  {
   "cell_type": "markdown",
   "metadata": {
    "jp-MarkdownHeadingCollapsed": true,
    "nbpresent": {
     "id": "598b0d30-9d4c-4b31-a670-959bb96ab87f"
    }
   },
   "source": [
    "# Solvating the simulation system"
   ]
  },
  {
   "cell_type": "markdown",
   "metadata": {
    "nbpresent": {
     "id": "4c7344d8-d42d-4e4c-918c-0e1a160a1319"
    }
   },
   "source": [
    "Now that you are familiar with the contents of the GROMACS topology, it is time to continue building our system. In this example, we are going to be simulating a simple aqueous system. It is possible to simulate proteins and other molecules in different solvents, provided that good parameters are available for all species involved.\n",
    "\n",
    "There are two steps to defining the box and filling it with solvent:\n",
    "\n",
    "- Define the box dimensions using the [`gmx editconf`](https://manual.gromacs.org/current/onlinehelp/gmx-editconf.html) tool.\n",
    "- Fill the box with water using the [`gmx solvate`](https://manual.gromacs.org/current/onlinehelp/gmx-solvate.html) tool. \n",
    "\n",
    "You are now presented with a choice as to how to treat the unit cell. For the purpose of this tutorial, we will use the rhombic dodecahedron, as its volume is ~71% of the cubic box of the same periodic distance, thus saving on the number of water molecules that need to be added to solvate the protein."
   ]
  },
  {
   "cell_type": "markdown",
   "metadata": {
    "nbpresent": {
     "id": "95ad5707-817d-46aa-b35f-09cfb6796c02"
    }
   },
   "source": [
    "## step1-Defining the simulation box"
   ]
  },
  {
   "cell_type": "code",
   "execution_count": 1,
   "metadata": {
    "nbpresent": {
     "id": "cf4e0e9a-6503-430f-8c60-815a9ae22616"
    }
   },
   "outputs": [
    {
     "name": "stdout",
     "output_type": "stream",
     "text": [
      "/media/saeed/Expansion/ASU/results/1,6HD/wat_1.6HD_dens/complex\n"
     ]
    }
   ],
   "source": [
    "# Change to the data directory\n",
    "# Note that executing this command twice will result in an error you can ignore\n",
    "%cd /media/saeed/Expansion/ASU/results/1,6HD/wat_1.6HD_dens/complex"
   ]
  },
  {
   "cell_type": "markdown",
   "metadata": {
    "nbpresent": {
     "id": "b6a06a69-5b82-4302-a61f-ba3c568c497e"
    }
   },
   "source": [
    "Let's define the box using `gmx editconf`:"
   ]
  },
  {
   "cell_type": "code",
   "execution_count": 16,
   "metadata": {
    "nbpresent": {
     "id": "23d642d0-a609-4be8-aed1-00aee72b22bf"
    },
    "scrolled": true
   },
   "outputs": [
    {
     "name": "stdout",
     "output_type": "stream",
     "text": [
      "                     :-) GROMACS - gmx editconf, 2024.2 (-:\n",
      "\n",
      "Executable:   /home/saeed/.local/gromacs_2024/bin/gmx_2024\n",
      "Data prefix:  /home/saeed/.local/gromacs_2024\n",
      "Working dir:  /media/saeed/Expansion/ASU/1,6HD/pure_water/3000water\n",
      "Command line:\n",
      "  gmx_2024 editconf -f /home/saeed/.local/gromacs_2024/share/gromacs/top/tip4p.gro -o tip4p-cubic-4.292.gro -bt cubic -box 4.292\n",
      "\n",
      "Note that major changes are planned in future for editconf, to improve usability and utility.\n",
      "Read 864 atoms\n",
      "Volume: 6.52076 nm^3, corresponds to roughly 2900 electrons\n",
      "Velocities found\n",
      "    system size :  1.960  1.922  1.988 (nm)\n",
      "    diameter    :  2.955               (nm)\n",
      "    center      :  0.942  0.917  0.943 (nm)\n",
      "    box vectors :  1.868  1.868  1.868 (nm)\n",
      "    box angles  :  90.00  90.00  90.00 (degrees)\n",
      "    box volume  :   6.52               (nm^3)\n",
      "    shift       :  1.204  1.229  1.203 (nm)\n",
      "new center      :  2.146  2.146  2.146 (nm)\n",
      "new box vectors :  4.292  4.292  4.292 (nm)\n",
      "new box angles  :  90.00  90.00  90.00 (degrees)\n",
      "new box volume  :  79.06               (nm^3)\n",
      "\n",
      "GROMACS reminds you: \"Science is organized knowledge. Wisdom is organized life.\" (Immanuel Kant)\n",
      "\n"
     ]
    }
   ],
   "source": [
    "!gmx_2024 editconf -f ${GMXDATA}/top/tip4p.gro -o tip4p-cubic-4.292.gro -bt cubic -box 4.292"
   ]
  },
  {
   "cell_type": "markdown",
   "metadata": {
    "nbpresent": {
     "id": "e68f5978-ef1b-4700-84bb-a40173c8ccf8"
    }
   },
   "source": [
    "The above command centers the protein in the box (-c), and places it at least 1.0 nm from the box edge (-d 1.0). The box type is defined as a rhombic dodecahedron (-bt dodecahedron). Have a look at this [section](http://manual.gromacs.org/current/reference-manual/algorithms/periodic-boundary-conditions.html#pbc) in the manual for more on periodic boundary conditions and dodecahedrons."
   ]
  },
  {
   "cell_type": "markdown",
   "metadata": {
    "nbpresent": {
     "id": "e68f5978-ef1b-4700-84bb-a40173c8ccf8"
    }
   },
   "source": [
    "The distance to the edge of the box is an important parameter. A protein should never interact with its periodic image (minimum image convention), otherwise the forces calculated will be spurious. The minimum image convention implies that the distance between two periodic images of the protein should be larger than the cut-off radius used to truncate non-bonded interactions. Here we will use a cut-off radius of 1.2 nm (see below). Specifying a solute-box distance of 1.0 nm will mean that there are at least 2.0 nm between any two periodic images of a protein. We expect that at that distance all protein-protein interactions are negligible."
   ]
  },
  {
   "cell_type": "markdown",
   "metadata": {
    "nbpresent": {
     "id": "75d89a8d-1463-4767-a002-581b3c015753"
    }
   },
   "source": [
    "## Step2-Filling the box with water"
   ]
  },
  {
   "cell_type": "code",
   "execution_count": 9,
   "metadata": {
    "nbpresent": {
     "id": "cf4e0e9a-6503-430f-8c60-815a9ae22616"
    }
   },
   "outputs": [
    {
     "name": "stdout",
     "output_type": "stream",
     "text": [
      "/media/saeed/Expansion/ASU/1,6HD/pure_water/3000water/new\n"
     ]
    }
   ],
   "source": [
    "# Change to the data directory\n",
    "# Note that executing this command twice will result in an error you can ignore\n",
    "%cd /media/saeed/Expansion/ASU/1,6HD/pure_water/3000water/new"
   ]
  },
  {
   "cell_type": "code",
   "execution_count": 13,
   "metadata": {
    "nbpresent": {
     "id": "82f1ad5a-cef0-46fe-9494-92477b273cd9"
    },
    "scrolled": true
   },
   "outputs": [
    {
     "name": "stdout",
     "output_type": "stream",
     "text": [
      "                     :-) GROMACS - gmx solvate, 2024.2 (-:\n",
      "\n",
      "Executable:   /home/saeed/.local/gromacs_2024/bin/gmx_2024\n",
      "Data prefix:  /home/saeed/.local/gromacs_2024\n",
      "Working dir:  /media/saeed/Expansion/ASU/1,6HD/pure_water/3000water/new\n",
      "Command line:\n",
      "  gmx_2024 solvate -cp tip4p-cubic-4.292.gro -cs tip4p.gro -o tip4p-solvated-cubic-4.292.gro -p tip4p-AMBER99sbws-solvated-cubic.top -maxsol 3000\n",
      "\n",
      "\n",
      "-------------------------------------------------------\n",
      "Program:     gmx solvate, version 2024.2\n",
      "Source file: src/gromacs/commandline/cmdlineparser.cpp (line 271)\n",
      "Function:    void gmx::CommandLineParser::parse(int*, char**)\n",
      "\n",
      "Error in user input:\n",
      "Invalid command-line options\n",
      "  In command-line option -p\n",
      "    File 'tip4p-AMBER99sbws-solvated-cubic.top' does not exist or is not\n",
      "    accessible.\n",
      "    The file could not be opened.\n",
      "      Reason: No such file or directory\n",
      "      (call to fopen() returned error code 2)\n",
      "\n",
      "For more information and tips for troubleshooting, please check the GROMACS\n",
      "website at https://manual.gromacs.org/current/user-guide/run-time-errors.html\n",
      "-------------------------------------------------------\n"
     ]
    }
   ],
   "source": [
    "#!gmx_2024 solvate -cp tip4p-cubic-4.gro -cs tip4p.gro -o tip4p-solvated-cubic-4.gro -maxsol 3000\n",
    "!gmx_2024 solvate -cp tip4p-cubic-4.292.gro -cs tip4p.gro -o tip4p-solvated-cubic-4.292.gro -maxsol 3000"
   ]
  },
  {
   "cell_type": "markdown",
   "metadata": {
    "nbpresent": {
     "id": "3fb8e6fc-1343-47e9-925c-c754b822b91b"
    }
   },
   "source": [
    "The configuration of the protein (-cp) is contained in the output of the previous `gmx editconf` step, and the configuration of the solvent (-cs) is part of the standard GROMACS installation. We are using spc216.gro, which is a generic equilibrated 3-point solvent model box. You can use spc216.gro as the solvent configuration for SPC, SPC/E, or TIP3P water, since they are all three-point water models. The output is called 1fjs_solv.gro, and we tell solvate the name of the topology file (topol.top) so it can be modified. Note the changes to the [ molecules ] directive of topol.top:"
   ]
  },
  {
   "cell_type": "code",
   "execution_count": 36,
   "metadata": {
    "nbpresent": {
     "id": "27850d11-a3ed-4feb-939a-3d687b5ab001"
    },
    "scrolled": true
   },
   "outputs": [
    {
     "name": "stdout",
     "output_type": "stream",
     "text": [
      " 2998SOL     MW11992   3.897   4.200   4.438\n",
      " 2999SOL     OW11993   4.047   3.862   3.920\n",
      " 2999SOL    HW111994   3.976   3.917   3.888\n",
      " 2999SOL    HW211995   4.089   3.828   3.841\n",
      " 2999SOL     MW11996   4.043   3.864   3.906\n",
      " 3000SOL     OW11997   3.803   3.961   3.769\n",
      " 3000SOL    HW111998   3.770   4.040   3.813\n",
      " 3000SOL    HW211999   3.858   3.994   3.698\n",
      " 3000SOL     MW12000   3.806   3.975   3.766\n",
      "   4.29200   4.29200   4.29200\n"
     ]
    }
   ],
   "source": [
    "!tail tip4p-solvated-cubic-4.292.gro"
   ]
  },
  {
   "cell_type": "markdown",
   "metadata": {},
   "source": [
    "## Step 3. Generate the topology and index files"
   ]
  },
  {
   "cell_type": "markdown",
   "metadata": {
    "nbpresent": {
     "id": "cf8c6e22-eb31-486d-88d9-67d800524670"
    }
   },
   "source": [
    "\n",
    "`gmx solvate` kept track of how many water molecules it has added, which it then writes to your topology to reflect the changes that have been made. Note that if you use any other (non-water) solvent,`gmx solvate` will not make these changes to your topology! Its compatibility with updating water molecules is hard-coded."
   ]
  },
  {
   "cell_type": "code",
   "execution_count": 1,
   "metadata": {},
   "outputs": [],
   "source": [
    "#echo does not work here because we have to select two parameters interactively. but for one parameter like just forcefield it will work properly. thankGOD!\n",
    "#!echo \"18 1\" | gmx_2024 pdb2gmx -f tip4p-solvated-cubic-4.gro -o AMBER99sbsw-solvated-cubic.gro -p tip4p-AMBER99sbsw-solvated-cubic.top -n tip4p-AMBER99sbsw-solvated-cubic.ndx\n",
    "\n"
   ]
  },
  {
   "cell_type": "code",
   "execution_count": 37,
   "metadata": {
    "nbpresent": {
     "id": "cf4e0e9a-6503-430f-8c60-815a9ae22616"
    }
   },
   "outputs": [
    {
     "name": "stdout",
     "output_type": "stream",
     "text": [
      "/media/saeed/Expansion/ASU/1,6HD/pure_water/3000water/final\n"
     ]
    }
   ],
   "source": [
    "# Change to the data directory\n",
    "# Note that executing this command twice will result in an error you can ignore\n",
    "%cd /media/saeed/Expansion/ASU/1,6HD/pure_water/3000water/final"
   ]
  },
  {
   "cell_type": "code",
   "execution_count": 38,
   "metadata": {},
   "outputs": [
    {
     "name": "stdout",
     "output_type": "stream",
     "text": [
      "                     :-) GROMACS - gmx pdb2gmx, 2024.2 (-:\n",
      "\n",
      "Executable:   /home/saeed/.local/gromacs_2024/bin/gmx_2024\n",
      "Data prefix:  /home/saeed/.local/gromacs_2024\n",
      "Working dir:  /media/saeed/Expansion/ASU/1,6HD/pure_water/3000water/final\n",
      "Command line:\n",
      "  gmx_2024 pdb2gmx -f tip4p-solvated-cubic-4.292.gro -o tip4p-AMBER99sbws-solvated-cubic.gro -p tip4p-AMBER99sbws-solvated-cubic.top -n tip4p-AMBER99sbws-solvated-cubic.ndx\n",
      "\n",
      "Select the Force Field:\n",
      "\n",
      "From '/usr/local/gromacs/share/gromacs/top':\n",
      "\n",
      " 1: ============================================================\n",
      "\n",
      " 2: AMBER03 protein, nucleic AMBER94 (Duan et al., J. Comp. Chem. 24, 1999-2012, 2003)\n",
      "\n",
      " 3: AMBER03* modification of ff03 (Best and Hummer, J. Phys. Chem. B, 113, 9004-9015, 2009)\n",
      "\n",
      " 4: AMBER03w\n",
      "\n",
      " 5: AMBER03ws modification of ff03 (Best, Zheng and Mittal, J. Chem. Theor. Comput., \n",
      "\n",
      " 6: AMBER03ws_oldion\n",
      "\n",
      " 7: AMBER03_TEST_ONLY_DO_NOT_USE_FOR_PRODUCTION\n",
      "\n",
      " 8: AMBER94 force field (Cornell et al., JACS 117, 5179-5197, 1995)\n",
      "\n",
      " 9: AMBER96 protein, nucleic AMBER94 (Kollman et al., Acc. Chem. Res. 29, 461-469, 1996)\n",
      "\n",
      "10: AMBER99 protein, nucleic AMBER94 (Wang et al., J. Comp. Chem. 21, 1049-1074, 2000)\n",
      "\n",
      "11: AMBER99SB protein, nucleic AMBER94 (Hornak et al., Proteins 65, 712-725, 2006)\n",
      "\n",
      "12: AMBER99SB* modification of ff99SB (Best and Hummer, J. Phys. Chem. B, 113, 9004-9015, 2009)\n",
      "\n",
      "13: AMBER99SB* modification of ff99SB (Best and Hummer, J. Phys. Chem. B, 113, 9004-9015, 2009)\n",
      "\n",
      "14: AMBER99SB* modification of ff99SB (Best and Hummer, J. Phys. Chem. B, 113, 9004-9015, 2009)\n",
      "\n",
      "15: AMBER99SB-ILDN protein, nucleic AMBER94 (Lindorff-Larsen et al., Proteins 78, 1950-58, 2010)\n",
      "\n",
      "16: AMBER99SB-ildn-phi-bsc0-cufix (Jejoong Yoo and Aleksei Aksimentiev, JCTC 2016, 12, 430–443)\n",
      "\n",
      "17: Amber99sb-stq\n",
      "\n",
      "18: AMBER99SBws (Best 2014)\n",
      "\n",
      "19: AMBERGS force field (Garcia & Sanbonmatsu, PNAS 99, 2782-2787, 2002)\n",
      "\n",
      "20: CHARMM22* all-atom force field\n",
      "\n",
      "21: CHARMM27 all-atom force field (with CMAP) - version 2.0\n",
      "\n",
      "22: CHARMM36m all-atom force field (March 2017)\n",
      "\n",
      "23: GROMOS96 43a1 force field\n",
      "\n",
      "24: GROMOS96 43a2 force field (improved alkane dihedrals)\n",
      "\n",
      "25: GROMOS96 45a3 force field (Schuler JCC 2001 22 1205)\n",
      "\n",
      "26: GROMOS96 53a5 force field (JCC 2004 vol 25 pag 1656)\n",
      "\n",
      "27: GROMOS96 53a6 force field (JCC 2004 vol 25 pag 1656)\n",
      "\n",
      "28: GROMOS96 54a7 force field (Eur. Biophys. J. (2011), 40,, 843-856, DOI: 10.1007/s00249-011-0700-9)\n",
      "\n",
      "29: KBFF force field for proteins version 2\n",
      "\n",
      "30: OPLS-AA/L all-atom force field (2001 aminoacid dihedrals)\n",
      "\n",
      "31: OPLS-AA/L all-atom force field (2001 aminoacid dihedrals) with optional L-OPLS modifications\n",
      "\n",
      "32: [DEPRECATED] Encad all-atom force field, using full solvent charges\n",
      "\n",
      "33: [DEPRECATED] Encad all-atom force field, using scaled-down vacuum charges\n",
      "\n",
      "34: [DEPRECATED] Gromacs force field (see manual)\n",
      "\n",
      "35: [DEPRECATED] Gromacs force field with hydrogens for NMR\n",
      "\n",
      "From '/home/saeed/.local/gromacs_2024/share/gromacs/top':\n",
      "\n",
      "36: ============================================================\n",
      "\n",
      "37: AMBER03 protein, nucleic AMBER94 (Duan et al., J. Comp. Chem. 24, 1999-2012, 2003)\n",
      "\n",
      "38: AMBER03* modification of ff03 (Best and Hummer, J. Phys. Chem. B, 113, 9004-9015, 2009)\n",
      "\n",
      "39: AMBER03w\n",
      "\n",
      "40: AMBER03ws modification of ff03 (Best, Zheng and Mittal, J. Chem. Theor. Comput., \n",
      "\n",
      "41: AMBER03ws_oldion\n",
      "\n",
      "42: AMBER03_TEST_ONLY_DO_NOT_USE_FOR_PRODUCTION\n",
      "\n",
      "43: AMBER94 force field (Cornell et al., JACS 117, 5179-5197, 1995)\n",
      "\n",
      "44: AMBER96 protein, nucleic AMBER94 (Kollman et al., Acc. Chem. Res. 29, 461-469, 1996)\n",
      "\n",
      "45: AMBER99 protein, nucleic AMBER94 (Wang et al., J. Comp. Chem. 21, 1049-1074, 2000)\n",
      "\n",
      "46: AMBER99SB protein, nucleic AMBER94 (Hornak et al., Proteins 65, 712-725, 2006)\n",
      "\n",
      "47: AMBER99SB* modification of ff99SB (Best and Hummer, J. Phys. Chem. B, 113, 9004-9015, 2009)\n",
      "\n",
      "48: AMBER99SB* modification of ff99SB (Best and Hummer, J. Phys. Chem. B, 113, 9004-9015, 2009)\n",
      "\n",
      "49: AMBER99SB* modification of ff99SB (Best and Hummer, J. Phys. Chem. B, 113, 9004-9015, 2009)\n",
      "\n",
      "50: AMBER99SB-ILDN protein, nucleic AMBER94 (Lindorff-Larsen et al., Proteins 78, 1950-58, 2010)\n",
      "\n",
      "51: AMBER99SB-ildn-phi-bsc0-cufix (Jejoong Yoo and Aleksei Aksimentiev, JCTC 2016, 12, 430–443)\n",
      "\n",
      "52: Amber99sb-stq\n",
      "\n",
      "53: AMBER99SBws (Best 2014)\n",
      "\n",
      "54: AMBERGS force field (Garcia & Sanbonmatsu, PNAS 99, 2782-2787, 2002)\n",
      "\n",
      "55: CHARMM22* all-atom force field\n",
      "\n",
      "56: CHARMM27 all-atom force field (with CMAP) - version 2.0\n",
      "\n",
      "57: CHARMM36m all-atom force field (March 2017)\n",
      "\n",
      "58: GROMOS96 43a1 force field\n",
      "\n",
      "59: GROMOS96 43a2 force field (improved alkane dihedrals)\n",
      "\n",
      "60: GROMOS96 45a3 force field (Schuler JCC 2001 22 1205)\n",
      "\n",
      "61: GROMOS96 53a5 force field (JCC 2004 vol 25 pag 1656)\n",
      "\n",
      "62: GROMOS96 53a6 force field (JCC 2004 vol 25 pag 1656)\n",
      "\n",
      "63: GROMOS96 54a7 force field (Eur. Biophys. J. (2011), 40,, 843-856, DOI: 10.1007/s00249-011-0700-9)\n",
      "\n",
      "64: KBFF force field for proteins version 2\n",
      "\n",
      "65: OPLS-AA/L all-atom force field (2001 aminoacid dihedrals)\n",
      "\n",
      "66: OPLS-AA/L all-atom force field (2001 aminoacid dihedrals) with optional L-OPLS modifications\n",
      "\n",
      "67: [DEPRECATED] Encad all-atom force field, using full solvent charges\n",
      "\n",
      "68: [DEPRECATED] Encad all-atom force field, using scaled-down vacuum charges\n",
      "\n",
      "69: [DEPRECATED] Gromacs force field (see manual)\n",
      "\n",
      "70: [DEPRECATED] Gromacs force field with hydrogens for NMR\n",
      "\n",
      "Using the Amber99sbws force field in directory /usr/local/gromacs/share/gromacs/top/amber99sbws.ff\n",
      "Opening force field file /usr/local/gromacs/share/gromacs/top/amber99sbws.ff/watermodels.dat\n",
      "\n",
      "Select the Water Model:\n",
      "\n",
      " 1: TIP4P/2005 for use with scaled protein-water interactions\n",
      "\n",
      " 2: TIP4PD     Piana's water model\n",
      "\n",
      " 3: TIP4P/2005 TIP 4-point optimized in 2005\n",
      "\n",
      " 4: TIP3P     TIP 3-point, recommended\n",
      "\n",
      " 5: TIP4P     TIP 4-point\n",
      "\n",
      " 6: TIP4P-Ew  TIP 4-point optimized with Ewald, recommended \n",
      "\n",
      " 7: SPC       simple point charge\n",
      "\n",
      " 8: SPC/E     extended simple point charge\n",
      "\n",
      " 9: None\n",
      "\n",
      "going to rename /usr/local/gromacs/share/gromacs/top/amber99sbws.ff/aminoacids.r2b\n",
      "Opening force field file /usr/local/gromacs/share/gromacs/top/amber99sbws.ff/aminoacids.r2b\n",
      "\n",
      "going to rename /usr/local/gromacs/share/gromacs/top/amber99sbws.ff/dna.r2b\n",
      "Opening force field file /usr/local/gromacs/share/gromacs/top/amber99sbws.ff/dna.r2b\n",
      "\n",
      "going to rename /usr/local/gromacs/share/gromacs/top/amber99sbws.ff/rna.r2b\n",
      "Opening force field file /usr/local/gromacs/share/gromacs/top/amber99sbws.ff/rna.r2b\n",
      "Reading tip4p-solvated-cubic-4.292.gro...\n",
      "Read '216 TIP4P Water Molecules Equilibrated for 20 ps at 300 K', 12000 atoms\n",
      "\n",
      "Analyzing pdb file\n",
      "Splitting chemical chains based on TER records or chain id changing.\n",
      "\n",
      "There are 0 chains and 1 blocks of water and 3000 residues with 12000 atoms\n",
      "\n",
      "  chain  #res #atoms\n",
      "\n",
      "  1 ' '  3000  12000  (only water)\n",
      "\n",
      "No occupancies in tip4p-solvated-cubic-4.292.gro\n",
      "No occupancies in tip4p-solvated-cubic-4.292.gro\n",
      "Opening force field file /usr/local/gromacs/share/gromacs/top/amber99sbws.ff/atomtypes.atp\n",
      "\n",
      "Reading residue database... (Amber99sbws)\n",
      "Opening force field file /usr/local/gromacs/share/gromacs/top/amber99sbws.ff/aminoacids.rtp\n",
      "Opening force field file /usr/local/gromacs/share/gromacs/top/amber99sbws.ff/dna.rtp\n",
      "Opening force field file /usr/local/gromacs/share/gromacs/top/amber99sbws.ff/rna.rtp\n",
      "Opening force field file /usr/local/gromacs/share/gromacs/top/amber99sbws.ff/aminoacids.hdb\n",
      "Opening force field file /usr/local/gromacs/share/gromacs/top/amber99sbws.ff/dna.hdb\n",
      "Opening force field file /usr/local/gromacs/share/gromacs/top/amber99sbws.ff/rna.hdb\n",
      "Opening force field file /usr/local/gromacs/share/gromacs/top/amber99sbws.ff/aminoacids.n.tdb\n",
      "Opening force field file /usr/local/gromacs/share/gromacs/top/amber99sbws.ff/aminoacids.c.tdb\n",
      "\n",
      "Back Off! I just backed up tip4p-AMBER99sbws-solvated-cubic.top to ./#tip4p-AMBER99sbws-solvated-cubic.top.2#\n",
      "\n",
      "Processing chain 1 (12000 atoms, 3000 residues)\n",
      "\n",
      "Problem with chain definition, or missing terminal residues. This chain does not appear to contain a recognized chain molecule. If this is incorrect, you can edit residuetypes.dat to modify the behavior.\n",
      "8 out of 8 lines of specbond.dat converted successfully\n",
      "Opening force field file /usr/local/gromacs/share/gromacs/top/amber99sbws.ff/aminoacids.arn\n",
      "Opening force field file /usr/local/gromacs/share/gromacs/top/amber99sbws.ff/dna.arn\n",
      "Opening force field file /usr/local/gromacs/share/gromacs/top/amber99sbws.ff/rna.arn\n",
      "\n",
      "Checking for duplicate atoms....\n",
      "\n",
      "Back Off! I just backed up tip4p-AMBER99sbws-solvated-cubic.ndx to ./#tip4p-AMBER99sbws-solvated-cubic.ndx.2#\n",
      "\n",
      "Generating any missing hydrogen atoms and/or adding termini.\n",
      "\n",
      "Now there are 3000 residues with 12000 atoms\n",
      "\n",
      "Making bonds...\n",
      "\n",
      "Number of bonds was 6000, now 6000\n",
      "\n",
      "Generating angles, dihedrals and pairs...\n",
      "\n",
      "Making cmap torsions...\n",
      "\n",
      "There are    0 dihedrals,    0 impropers, 3000 angles\n",
      "             0 pairs,     6000 bonds and     0 virtual sites\n",
      "\n",
      "Total mass 54048.000 a.m.u.\n",
      "\n",
      "Total charge 0.000 e\n",
      "\n",
      "Writing coordinate file...\n",
      "\n",
      "Back Off! I just backed up tip4p-AMBER99sbws-solvated-cubic.gro to ./#tip4p-AMBER99sbws-solvated-cubic.gro.2#\n",
      "\n",
      "\t\t--------- PLEASE NOTE ------------\n",
      "\n",
      "You have successfully generated a topology from: tip4p-solvated-cubic-4.292.gro.\n",
      "\n",
      "The Amber99sbws force field and the tip4p2005s water model are used.\n",
      "\n",
      "\t\t--------- ETON ESAELP ------------\n",
      "\n",
      "GROMACS reminds you: \"What's Your Definition Of Dirty ?\" (G. Michael)\n",
      "\n"
     ]
    }
   ],
   "source": [
    "#Thank GOD! here we made an input file and put the 18 (forcefield_number) and 1 (water model) inside that and read it in here to do the interactive job in batch mode. thankGOD!\n",
    "!gmx_2024 pdb2gmx -f tip4p-solvated-cubic-4.292.gro -o tip4p-AMBER99sbws-solvated-cubic.gro -p tip4p-AMBER99sbws-solvated-cubic.top -n tip4p-AMBER99sbws-solvated-cubic.ndx <input.txt"
   ]
  },
  {
   "cell_type": "markdown",
   "metadata": {
    "nbpresent": {
     "id": "33086651-f3c8-43b7-b47f-36645fa72aaa"
    }
   },
   "source": [
    "# Adding Ions"
   ]
  },
  {
   "cell_type": "markdown",
   "metadata": {
    "nbpresent": {
     "id": "1c524b7e-8fcc-420a-b0fb-8ccb7d0f54c1"
    }
   },
   "source": [
    "We now have a solvated system that contains a charged protein. The output of `pdb2gmx` told us that the protein has a net charge of -2e (based on its amino acid composition). If you missed this information in the `pdb2gmx` output, look at the last line of each [ atoms ] directive in topology file; it should read  \"qtot 1.\" for chain A and  \"qtot -3.\" for chain L. Since life does not exist at a net charge, we must add ions to our system. Further, we aim to approximate physiological conditions and use therefore a NaCl concentration of 0.15 M."
   ]
  },
  {
   "cell_type": "markdown",
   "metadata": {
    "nbpresent": {
     "id": "3c3ff084-1058-4bf3-afa0-a0cea3c1df09"
    }
   },
   "source": [
    "## Preparing the input for \"gmx genion\""
   ]
  },
  {
   "cell_type": "markdown",
   "metadata": {
    "nbpresent": {
     "id": "68bf2221-bfce-429a-95d9-156af62a3359"
    }
   },
   "source": [
    "The tool for adding ions within GROMACS is called [`gmx genion`](https://manual.gromacs.org/current/onlinehelp/gmx-genion.html). What `gmx genion` does is read through the topology and replace water molecules with the ions that the user specifies. The input is called a run input file, which has an extension of .tpr; this file is produced by the GROMACS grompp module (GROMACS pre-processor), which will also be used later when we run our first simulation. `grompp` processes the coordinate file and topology (which describes the molecules) to generate an atomic-level input (`.tpr`). The .tpr file contains all the parameters for all of the atoms in the system."
   ]
  },
  {
   "cell_type": "markdown",
   "metadata": {
    "nbpresent": {
     "id": "15158eb8-2025-44e7-88dd-9966aea64b60"
    }
   },
   "source": [
    "To produce a .tpr file with [`gmx grompp`](https://manual.gromacs.org/current/onlinehelp/gmx-grompp.html), we will need an additional input file, with the extension .mdp (molecular dynamics parameter file); `gmx grompp` will assemble the parameters specified in the .mdp file with the coordinates and topology information to generate a .tpr file."
   ]
  },
  {
   "cell_type": "markdown",
   "metadata": {
    "nbpresent": {
     "id": "cc071b1a-1700-4426-9285-a039f320ee60"
    }
   },
   "source": [
    "An .mdp file is normally used to run energy minimization or an MD simulation, but in this case is simply used to generate an atomic description of the system. We can proceed with an completely empty .mdp file in this case, its only role is to create the .tpr file."
   ]
  },
  {
   "cell_type": "code",
   "execution_count": null,
   "metadata": {},
   "outputs": [],
   "source": [
    "!touch ions.mdp"
   ]
  },
  {
   "cell_type": "markdown",
   "metadata": {
    "nbpresent": {
     "id": "3f058b29-44cc-4e0c-8462-588b1279457b"
    }
   },
   "source": [
    "Assemble your .tpr file with the following:"
   ]
  },
  {
   "cell_type": "code",
   "execution_count": null,
   "metadata": {
    "nbpresent": {
     "id": "1bc074e1-d521-46ec-b9a2-359cdea24637"
    },
    "scrolled": true
   },
   "outputs": [],
   "source": [
    "!gmx grompp -f ions.mdp -c 1fjs_solv.gro -p topol.top -o ions.tpr"
   ]
  },
  {
   "cell_type": "markdown",
   "metadata": {
    "nbpresent": {
     "id": "9c28bff3-bef7-4d81-aac3-7581c40629c2"
    }
   },
   "source": [
    "Be aware that there are some `NOTE` in the output. In all other cases than generating an output `tpr` for `gmx genion` these are very important and may not be ignored, here however we only need the atomic-level description of our system in the binary file ions.tpr. We will pass this file to genion:"
   ]
  },
  {
   "cell_type": "markdown",
   "metadata": {},
   "source": [
    "*Note: A lot of GROMACS tools promt for input at the command line. As this does not play well with the jupyter notebook setup, we feed the input to the command line with a print command and a newline \\n substituting enter*"
   ]
  },
  {
   "cell_type": "code",
   "execution_count": null,
   "metadata": {
    "nbpresent": {
     "id": "88837846-7a76-4ce4-9419-6588a42e8b1f"
    },
    "scrolled": true
   },
   "outputs": [],
   "source": [
    "!printf \"SOL\\n\" | gmx genion -s ions.tpr -o 1fjs_solv_ions.gro -conc 0.15 -p \\\n",
    "topol.top -pname NA -nname CL -neutral"
   ]
  },
  {
   "cell_type": "markdown",
   "metadata": {
    "nbpresent": {
     "id": "af2e805e-ca9f-4b95-b58f-0d4055f7d165"
    }
   },
   "source": [
    "We chose group \"SOL\" for embedding ions. You do not want to replace parts of your protein with ions."
   ]
  },
  {
   "cell_type": "markdown",
   "metadata": {},
   "source": [
    "*Note: Make sure to run `gmx genion` only once. `gmx genion` edits the topology \"in-place\" and does not know if there are already Cl or Na ions in the system. If you run it over again, ions will be added until there is no water left to replace with ions.*"
   ]
  },
  {
   "cell_type": "markdown",
   "metadata": {
    "nbpresent": {
     "id": "9f3bfe12-f048-4d58-88ed-b2cb22450ea2"
    }
   },
   "source": [
    "In the `gmx genion` command, we provide the structure/state file (-s) as input, generate a .gro file as output (-o), process the topology (-p) to reflect the removal of water molecules and addition of ions, define positive and negative ion names (-pname and -nname, respectively), and tell `gmx genion` to add ions necessary to neutralize the net charge on the protein by adding the correct number of negative ions (-neutral, which in this case will add 2 Na+ ions to offset the -2 charge on the protein). We further use genion to add a specified concentration of ions in addition to simply neutralizing the system by specifying the -neutral and -conc options in conjunction. Refer to the genion man page for information on how to use these options.\n",
    "\n",
    "The names of the ions specified with -pname and -nname GROMACS are standardized and not dependent on the force-field. The specified ion names are always the elemental symbol in all capital letters, which is the [ moleculetype ] name that is then written to the topology. Residue or atom names may or may not append the sign of the charge (+/-), depending on the force field. Do not use atom or residue names in the genion command, or you will encounter errors in subsequent steps."
   ]
  },
  {
   "cell_type": "markdown",
   "metadata": {
    "nbpresent": {
     "id": "e474e9aa-baeb-4ff7-b445-c17bbdd0173a"
    }
   },
   "source": [
    "Your [ molecules ] directive should now be similar to"
   ]
  },
  {
   "cell_type": "markdown",
   "metadata": {
    "nbpresent": {
     "id": "3fe444f7-f9a1-4b1b-8faa-8436793520fe"
    }
   },
   "source": [
    "    [ molecules ]\n",
    "    ; Compound      #mols\n",
    "    Protein_chain_A    1\n",
    "    Protein_chain_L    1\n",
    "    SOL           11703\n",
    "    NA              38\n",
    "    CL              36"
   ]
  },
  {
   "cell_type": "markdown",
   "metadata": {},
   "source": [
    "Let's check the last lines of the topology file"
   ]
  },
  {
   "cell_type": "code",
   "execution_count": null,
   "metadata": {
    "nbpresent": {
     "id": "e6be30a5-ee4c-44f9-bb44-5799f3e70317"
    },
    "scrolled": true
   },
   "outputs": [],
   "source": [
    "!tail -6 topol.top"
   ]
  },
  {
   "cell_type": "markdown",
   "metadata": {},
   "source": [
    "If you see multiple lines of NA and CL, you most likely ran genion multiple times. Start over with the `pdb2gmx`."
   ]
  },
  {
   "cell_type": "markdown",
   "metadata": {
    "jp-MarkdownHeadingCollapsed": true,
    "nbpresent": {
     "id": "bb96f417-4653-4a5e-914c-54771fe98290"
    }
   },
   "source": [
    "# Energy minimisation"
   ]
  },
  {
   "cell_type": "markdown",
   "metadata": {
    "nbpresent": {
     "id": "60af9d49-7607-43dd-b50e-ed6111b93c45"
    }
   },
   "source": [
    "The solvated, electroneutral system is now assembled. Before we can begin dynamics, we must ensure that the system has no steric clashes or inappropriate geometry. The structure is relaxed through a process called energy minimization (EM)."
   ]
  },
  {
   "cell_type": "markdown",
   "metadata": {
    "nbpresent": {
     "id": "60af9d49-7607-43dd-b50e-ed6111b93c45"
    }
   },
   "source": [
    "To perform energy minimization, we are once again going to use `gmx grompp` to assemble the structure, topology, and simulation parameters into a binary input file (.tpr), then we will use GROMACS MD engine, mdrun, to run the energy minimization."
   ]
  },
  {
   "cell_type": "markdown",
   "metadata": {
    "nbpresent": {
     "id": "60af9d49-7607-43dd-b50e-ed6111b93c45"
    }
   },
   "source": [
    "Assemble the binary input using `gmx grompp` using the .mdp parameter file, as input. The simulation parameter file (.mdp) determines how the simulation shall be run. Find more information on all the options in the [manual](http://manual.gromacs.org/documentation/current/user-guide/mdp-options.html) or in the following [webinar](https://bioexcel.eu/webinar-a-walk-through-simulation-parameter-options-mdp-files-for-gromacs-2019-12-05/). There are a lot of parameters that can be set, here we ony set the elemental parametes and leave everything else as default. Let's have a look at the input file:"
   ]
  },
  {
   "cell_type": "code",
   "execution_count": 96,
   "metadata": {
    "nbpresent": {
     "id": "cf4e0e9a-6503-430f-8c60-815a9ae22616"
    }
   },
   "outputs": [
    {
     "name": "stdout",
     "output_type": "stream",
     "text": [
      "/media/saeed/Expansion/ASU/results/1,6HD/wat_1.6HD_dens/thirtytwo_1.6HD/minimize\n"
     ]
    }
   ],
   "source": [
    "# Change to the data directory\n",
    "# Note that executing this command twice will result in an error you can ignore\n",
    "%cd /media/saeed/Expansion/ASU/results/1,6HD/wat_1.6HD_dens/thirtytwo_1.6HD/minimize/"
   ]
  },
  {
   "cell_type": "code",
   "execution_count": 97,
   "metadata": {},
   "outputs": [
    {
     "name": "stdout",
     "output_type": "stream",
     "text": [
      "   ; min.mdp - used as input into grompp to generate em.tpr\n",
      "   ; Parameters describing what to do, when to stop and what to save\n",
      "   integrator  = steep         ; Algorithm (steep = steepest descent minimization)\n",
      "   emtol       = 10.0        ; Stop minimization when the maximum force < 1000.0 kJ/mol/nm\n",
      "   emstep      = 0.01          ; Minimization step size\n",
      "   nsteps      = 10000         ; Maximum number of (minimization) steps to perform\n",
      "   \n",
      "   ; Parameters describing how to find the neighbors of each atom and how to calculate the interactions\n",
      "   nstlist         = 1         ; Frequency to update the neighbor list and long range forces\n",
      "   cutoff-scheme   = Verlet    ; Buffered neighbor searching\n",
      "   ns_type         = grid      ; Method to determine neighbor list (simple, grid)\n",
      "   coulombtype     = PME       ; Treatment of long range electrostatic interactions\n",
      "   rcoulomb        = 1.0       ; Short-range electrostatic cut-off\n",
      "   rvdw            = 1.0       ; Short-range Van der Waals cut-off\n",
      "   pbc             = xyz       ; Periodic Boundary Conditions in all 3 dimensions\n",
      "\n"
     ]
    }
   ],
   "source": [
    "!cat min.mdp"
   ]
  },
  {
   "cell_type": "code",
   "execution_count": 101,
   "metadata": {
    "nbpresent": {
     "id": "34b6c3cb-5926-4ba5-b97a-8b42457956ce"
    },
    "scrolled": true
   },
   "outputs": [
    {
     "name": "stdout",
     "output_type": "stream",
     "text": [
      "                      :-) GROMACS - gmx grompp, 2024.2 (-:\n",
      "\n",
      "Executable:   /home/saeed/.local/gromacs_2024/bin/gmx_2024\n",
      "Data prefix:  /home/saeed/.local/gromacs_2024\n",
      "Working dir:  /media/saeed/Expansion/ASU/results/1,6HD/wat_1.6HD_dens/thirtytwo_1.6HD/minimize\n",
      "Command line:\n",
      "  gmx_2024 grompp -v -f min.mdp -c complex_32.gro -p complex3.top -o em.tpr\n",
      "\n",
      "Ignoring obsolete mdp entry 'ns_type'\n",
      "checking input for internal consistency...\n",
      "\n",
      "NOTE 1 [file min.mdp]:\n",
      "  With Verlet lists the optimal nstlist is >= 10, with GPUs >= 20. Note\n",
      "  that with the Verlet scheme, nstlist has no effect on the accuracy of\n",
      "  your simulation.\n",
      "\n",
      "\n",
      "Setting the LD random seed to -4292610\n",
      "\n",
      "processing topology...\n",
      "\n",
      "Generated 2999 of the 3003 non-bonded parameter combinations\n",
      "Generating 1-4 interactions: fudge = 0.5\n",
      "\n",
      "Generated 3003 of the 3003 1-4 parameter combinations\n",
      "\n",
      "Excluding 3 bonded neighbours molecule type 'HEZ'\n",
      "\n",
      "Excluding 3 bonded neighbours molecule type 'HEZ'\n",
      "\n",
      "Excluding 1 bonded neighbours molecule type 'SOL'\n",
      "\n",
      "processing coordinates...\n",
      "\n",
      "WARNING: Bad box in file complex_32.gro\n",
      "\n",
      "Generated a cubic box   10.891 x   11.336 x   11.382\n",
      "\n",
      "double-checking input for internal consistency...\n",
      "\n",
      "Cleaning up constraints and constant bonded interactions with virtual sites\n",
      "renumbering atomtypes...\n",
      "\n",
      "converting bonded parameters...\n",
      "\n",
      "initialising group options...\n",
      "processing index file...\n",
      "Analysing residue names:\n",
      "There are:    32      Other residues\n",
      "There are:  2824      Water residues\n",
      "Analysing residues not classified as Protein/DNA/RNA/Water and splitting into groups...\n",
      "Making dummy/rest group for T-Coupling containing 12000 elements\n",
      "Making dummy/rest group for Acc. not used containing 12000 elements\n",
      "Making dummy/rest group for Freeze containing 12000 elements\n",
      "Making dummy/rest group for Energy Mon. containing 12000 elements\n",
      "Making dummy/rest group for VCM containing 12000 elements\n",
      "Number of degrees of freedom in T-Coupling group rest is 19053.00\n",
      "Making dummy/rest group for User1 containing 12000 elements\n",
      "Making dummy/rest group for User2 containing 12000 elements\n",
      "Making dummy/rest group for Compressed X containing 12000 elements\n",
      "Making dummy/rest group for Or. Res. Fit containing 12000 elements\n",
      "Making dummy/rest group for QMMM containing 12000 elements\n",
      "T-Coupling       has 1 element(s): rest\n",
      "Energy Mon.      has 1 element(s): rest\n",
      "Acc. not used    has 1 element(s): rest\n",
      "Freeze           has 1 element(s): rest\n",
      "User1            has 1 element(s): rest\n",
      "User2            has 1 element(s): rest\n",
      "VCM              has 1 element(s): rest\n",
      "Compressed X     has 1 element(s): rest\n",
      "Or. Res. Fit     has 1 element(s): rest\n",
      "QMMM             has 1 element(s): rest\n",
      "The integrator does not provide a ensemble temperature, there is no system ensemble temperature\n",
      "\n",
      "The largest distance between excluded atoms is 0.389 nm between atom 358 and 367\n",
      "Calculating fourier grid dimensions for X Y Z\n",
      "Using a fourier grid of 96x96x96, spacing 0.113 0.118 0.119\n",
      "\n",
      "Estimate for the relative computational load of the PME mesh part: 0.90\n",
      "\n",
      "NOTE 2 [file min.mdp]:\n",
      "  The optimal PME mesh load for parallel simulations is below 0.5\n",
      "  and for highly parallel simulations between 0.25 and 0.33,\n",
      "  for higher performance, increase the cut-off and the PME grid spacing.\n",
      "\n",
      "\n",
      "\n",
      "This run will generate roughly 1 Mb of data\n",
      "\n",
      "writing run input file...\n",
      "\n",
      "There were 2 NOTEs\n",
      "\n",
      "GROMACS reminds you: \"Move Over Hogey Bear\" (Urban Dance Squad)\n",
      "\n"
     ]
    }
   ],
   "source": [
    "!gmx_2024 grompp -v -f min.mdp -c complex_32.gro -p complex3.top -o em.tpr"
   ]
  },
  {
   "cell_type": "markdown",
   "metadata": {
    "nbpresent": {
     "id": "b59bc1fe-5773-440c-ac9e-109d3df55ec4"
    }
   },
   "source": [
    "Make sure you have been updating your topol.top file when running genbox and genion, or else you will get lots of nasty error messages (\"number of coordinates in coordinate file does not match topology,\" etc)."
   ]
  },
  {
   "cell_type": "markdown",
   "metadata": {
    "nbpresent": {
     "id": "a9136c8d-2907-40aa-9eae-d697c9467e49"
    }
   },
   "source": [
    "Once run, we will find the energy-minimized structure in a file called `em.gro`. Additionally to this we will find more information on the run in an ASCII-text log file of the EM process,  `em.log`, a file for storage of energy, `em.edr` and a binary full-precision trajectory `em.trr`. \n"
   ]
  },
  {
   "cell_type": "markdown",
   "metadata": {
    "nbpresent": {
     "id": "b59bc1fe-5773-440c-ac9e-109d3df55ec4"
    }
   },
   "source": [
    "We are now ready to run mdrun to carry out the energy minimisation:"
   ]
  },
  {
   "cell_type": "code",
   "execution_count": 102,
   "metadata": {
    "nbpresent": {
     "id": "eb3e7e13-d78e-4c99-806c-99e9b30d3d69"
    },
    "scrolled": true
   },
   "outputs": [
    {
     "name": "stdout",
     "output_type": "stream",
     "text": [
      "                      :-) GROMACS - gmx mdrun, 2024.2 (-:\n",
      "\n",
      "Executable:   /home/saeed/.local/gromacs_2024/bin/gmx_2024\n",
      "Data prefix:  /home/saeed/.local/gromacs_2024\n",
      "Working dir:  /media/saeed/Expansion/ASU/results/1,6HD/wat_1.6HD_dens/thirtytwo_1.6HD/minimize\n",
      "Command line:\n",
      "  gmx_2024 mdrun -v -deffnm em\n",
      "\n",
      "Reading file em.tpr, VERSION 2024.2 (single precision)\n",
      "1 GPU selected for this run.\n",
      "Mapping of GPU IDs to the 1 GPU task in the 1 rank on this node:\n",
      "  PP:0\n",
      "PP tasks will do (non-perturbed) short-ranged interactions on the GPU\n",
      "PP task will update and constrain coordinates on the CPU\n",
      "Using 1 MPI thread\n",
      "Using 24 OpenMP threads \n",
      "\n",
      "\n",
      "Steepest Descents:\n",
      "   Tolerance (Fmax)   =  1.00000e+01\n",
      "   Number of steps    =        10000\n",
      "Step=    0, Dmax= 1.0e-02 nm, Epot=  4.71961e+08 Fmax= 5.27549e+10, atom= 386\n",
      "Step=    1, Dmax= 1.0e-02 nm, Epot=  1.75001e+08 Fmax= 8.14839e+09, atom= 390\n",
      "Step=    2, Dmax= 1.2e-02 nm, Epot=  6.97726e+07 Fmax= 1.68641e+09, atom= 386\n",
      "Step=    3, Dmax= 1.4e-02 nm, Epot=  2.55904e+07 Fmax= 3.09009e+08, atom= 390\n",
      "Step=    4, Dmax= 1.7e-02 nm, Epot=  8.54058e+06 Fmax= 5.09288e+07, atom= 386\n",
      "Step=    5, Dmax= 2.1e-02 nm, Epot=  3.34229e+06 Fmax= 8.23174e+06, atom= 1337\n",
      "Step=    6, Dmax= 2.5e-02 nm, Epot=  1.25167e+06 Fmax= 2.75669e+06, atom= 9809\n",
      "Step=    7, Dmax= 3.0e-02 nm, Epot=  6.82183e+05 Fmax= 1.60615e+06, atom= 2853\n",
      "Step=    8, Dmax= 3.6e-02 nm, Epot=  4.30595e+05 Fmax= 1.93853e+06, atom= 68\n",
      "Step=    9, Dmax= 4.3e-02 nm, Epot=  3.04335e+05 Fmax= 5.65135e+05, atom= 757\n",
      "Step=   10, Dmax= 5.2e-02 nm, Epot=  1.65876e+05 Fmax= 1.99766e+06, atom= 80\n",
      "\n",
      "step 11: One or more water molecules can not be settled.\n",
      "Check for bad contacts and/or reduce the timestep if appropriate.\n",
      "Wrote pdb files with previous and current coordinates\n",
      "Step=   12, Dmax= 3.1e-02 nm, Epot=  1.33917e+05 Fmax= 1.75715e+05, atom= 687\n",
      "Step=   13, Dmax= 3.7e-02 nm, Epot=  6.09729e+04 Fmax= 6.12612e+05, atom= 1085\n",
      "Step=   14, Dmax= 4.5e-02 nm, Epot=  4.64981e+04 Fmax= 1.46978e+05, atom= 1085\n",
      "Step=   15, Dmax= 5.3e-02 nm, Epot=  1.18220e+04 Fmax= 3.94535e+05, atom= 1085\n",
      "\n",
      "step 16: One or more water molecules can not be settled.\n",
      "Check for bad contacts and/or reduce the timestep if appropriate.\n",
      "Wrote pdb files with previous and current coordinates\n",
      "Step=   17, Dmax= 3.2e-02 nm, Epot=  2.22215e+03 Fmax= 2.73966e+04, atom= 6785\n",
      "Step=   18, Dmax= 3.9e-02 nm, Epot= -4.19017e+04 Fmax= 5.21921e+04, atom= 8869\n",
      "Step=   19, Dmax= 4.6e-02 nm, Epot= -5.03635e+04 Fmax= 6.30042e+04, atom= 8869\n",
      "Step=   20, Dmax= 5.5e-02 nm, Epot= -5.71377e+04 Fmax= 3.47919e+04, atom= 8869\n",
      "\n",
      "step 21: One or more water molecules can not be settled.\n",
      "Check for bad contacts and/or reduce the timestep if appropriate.\n",
      "Wrote pdb files with previous and current coordinates\n",
      "Step=   22, Dmax= 3.3e-02 nm, Epot= -6.27532e+04 Fmax= 1.55665e+04, atom= 3029\n",
      "Step=   23, Dmax= 4.0e-02 nm, Epot= -7.19065e+04 Fmax= 4.50843e+04, atom= 304\n",
      "Step=   24, Dmax= 4.8e-02 nm, Epot= -7.53465e+04 Fmax= 1.84884e+04, atom= 304\n",
      "Step=   25, Dmax= 5.8e-02 nm, Epot= -8.11860e+04 Fmax= 4.32132e+04, atom= 304\n",
      "Step=   26, Dmax= 6.9e-02 nm, Epot= -8.41296e+04 Fmax= 2.35930e+04, atom= 304\n",
      "Step=   27, Dmax= 8.3e-02 nm, Epot= -8.74827e+04 Fmax= 4.58991e+04, atom= 304\n",
      "Step=   28, Dmax= 9.9e-02 nm, Epot= -9.01201e+04 Fmax= 3.49241e+04, atom= 304\n",
      "Step=   29, Dmax= 1.2e-01 nm, Epot= -9.11434e+04 Fmax= 5.33839e+04, atom= 67\n",
      "\n",
      "step 30: One or more water molecules can not be settled.\n",
      "Check for bad contacts and/or reduce the timestep if appropriate.\n",
      "Wrote pdb files with previous and current coordinates\n",
      "Step=   31, Dmax= 7.2e-02 nm, Epot= -9.42536e+04 Fmax= 2.70015e+04, atom= 674\n",
      "Step=   32, Dmax= 8.6e-02 nm, Epot= -9.53912e+04 Fmax= 7.77851e+04, atom= 67\n",
      "Step=   33, Dmax= 1.0e-01 nm, Epot= -9.74365e+04 Fmax= 3.13328e+04, atom= 67\n",
      "Step=   35, Dmax= 6.2e-02 nm, Epot= -9.91678e+04 Fmax= 1.19540e+04, atom= 71\n",
      "Step=   37, Dmax= 3.7e-02 nm, Epot= -1.00456e+05 Fmax= 2.33003e+04, atom= 67\n",
      "Step=   38, Dmax= 4.5e-02 nm, Epot= -1.01644e+05 Fmax= 1.77072e+04, atom= 68\n",
      "Step=   39, Dmax= 5.3e-02 nm, Epot= -1.01902e+05 Fmax= 3.46891e+04, atom= 68\n",
      "Step=   40, Dmax= 6.4e-02 nm, Epot= -1.03120e+05 Fmax= 2.63075e+04, atom= 72\n",
      "Step=   42, Dmax= 3.8e-02 nm, Epot= -1.04814e+05 Fmax= 6.92435e+03, atom= 72\n",
      "Step=   43, Dmax= 4.6e-02 nm, Epot= -1.04848e+05 Fmax= 3.70647e+04, atom= 72\n",
      "Step=   44, Dmax= 5.5e-02 nm, Epot= -1.07284e+05 Fmax= 1.51076e+04, atom= 72\n",
      "Step=   46, Dmax= 3.3e-02 nm, Epot= -1.07907e+05 Fmax= 1.63116e+04, atom= 72\n",
      "Step=   47, Dmax= 4.0e-02 nm, Epot= -1.08212e+05 Fmax= 2.18404e+04, atom= 72\n",
      "Step=   48, Dmax= 4.8e-02 nm, Epot= -1.08719e+05 Fmax= 2.33024e+04, atom= 72\n",
      "Step=   50, Dmax= 2.9e-02 nm, Epot= -1.09909e+05 Fmax= 3.54054e+03, atom= 72\n",
      "Step=   51, Dmax= 3.4e-02 nm, Epot= -1.10372e+05 Fmax= 3.15303e+04, atom= 72\n",
      "Step=   52, Dmax= 4.1e-02 nm, Epot= -1.12258e+05 Fmax= 1.01347e+04, atom= 72\n",
      "Step=   54, Dmax= 2.5e-02 nm, Epot= -1.12616e+05 Fmax= 1.31792e+04, atom= 72\n",
      "Step=   55, Dmax= 3.0e-02 nm, Epot= -1.12915e+05 Fmax= 1.48067e+04, atom= 72\n",
      "Step=   56, Dmax= 3.6e-02 nm, Epot= -1.13153e+05 Fmax= 1.89638e+04, atom= 72\n",
      "Step=   57, Dmax= 4.3e-02 nm, Epot= -1.13317e+05 Fmax= 2.08791e+04, atom= 72\n",
      "Step=   58, Dmax= 5.1e-02 nm, Epot= -1.13342e+05 Fmax= 2.69174e+04, atom= 72\n",
      "Step=   60, Dmax= 3.1e-02 nm, Epot= -1.14710e+05 Fmax= 3.39676e+03, atom= 72\n",
      "Step=   62, Dmax= 1.9e-02 nm, Epot= -1.15225e+05 Fmax= 1.34444e+04, atom= 72\n",
      "Step=   63, Dmax= 2.2e-02 nm, Epot= -1.15687e+05 Fmax= 7.26151e+03, atom= 75\n",
      "Step=   65, Dmax= 1.3e-02 nm, Epot= -1.16010e+05 Fmax= 4.89921e+03, atom= 75\n",
      "Step=   66, Dmax= 1.6e-02 nm, Epot= -1.16291e+05 Fmax= 9.62164e+03, atom= 75\n",
      "Step=   67, Dmax= 1.9e-02 nm, Epot= -1.16625e+05 Fmax= 8.03056e+03, atom= 72\n",
      "Step=   68, Dmax= 2.3e-02 nm, Epot= -1.16730e+05 Fmax= 1.29901e+04, atom= 75\n",
      "Step=   69, Dmax= 2.8e-02 nm, Epot= -1.17058e+05 Fmax= 1.25470e+04, atom= 72\n",
      "Step=   71, Dmax= 1.7e-02 nm, Epot= -1.17515e+05 Fmax= 3.41274e+03, atom= 72\n",
      "Step=   72, Dmax= 2.0e-02 nm, Epot= -1.17727e+05 Fmax= 1.62005e+04, atom= 72\n",
      "Step=   73, Dmax= 2.4e-02 nm, Epot= -1.18279e+05 Fmax= 6.81188e+03, atom= 72\n",
      "Step=   75, Dmax= 1.4e-02 nm, Epot= -1.18520e+05 Fmax= 6.49096e+03, atom= 72\n",
      "Step=   76, Dmax= 1.7e-02 nm, Epot= -1.18694e+05 Fmax= 9.39238e+03, atom= 72\n",
      "Step=   77, Dmax= 2.1e-02 nm, Epot= -1.18918e+05 Fmax= 9.88871e+03, atom= 72\n",
      "Step=   78, Dmax= 2.5e-02 nm, Epot= -1.19003e+05 Fmax= 1.29551e+04, atom= 72\n",
      "Step=   79, Dmax= 3.0e-02 nm, Epot= -1.19175e+05 Fmax= 1.47440e+04, atom= 72\n",
      "Step=   81, Dmax= 1.8e-02 nm, Epot= -1.19676e+05 Fmax= 2.46437e+03, atom= 72\n",
      "Step=   82, Dmax= 2.1e-02 nm, Epot= -1.19880e+05 Fmax= 1.87386e+04, atom= 72\n",
      "Step=   83, Dmax= 2.6e-02 nm, Epot= -1.20529e+05 Fmax= 6.21794e+03, atom= 72\n",
      "Step=   85, Dmax= 1.5e-02 nm, Epot= -1.20694e+05 Fmax= 8.11943e+03, atom= 72\n",
      "Step=   86, Dmax= 1.8e-02 nm, Epot= -1.20840e+05 Fmax= 9.01550e+03, atom= 72\n",
      "Step=   87, Dmax= 2.2e-02 nm, Epot= -1.20953e+05 Fmax= 1.17391e+04, atom= 72\n",
      "Step=   88, Dmax= 2.7e-02 nm, Epot= -1.21047e+05 Fmax= 1.28334e+04, atom= 72\n",
      "Step=   89, Dmax= 3.2e-02 nm, Epot= -1.21066e+05 Fmax= 1.69424e+04, atom= 72\n",
      "Step=   90, Dmax= 3.8e-02 nm, Epot= -1.21071e+05 Fmax= 1.80434e+04, atom= 72\n",
      "Step=   92, Dmax= 2.3e-02 nm, Epot= -1.21833e+05 Fmax= 2.50909e+03, atom= 72\n",
      "Step=   94, Dmax= 1.4e-02 nm, Epot= -1.22089e+05 Fmax= 9.93864e+03, atom= 68\n",
      "Step=   95, Dmax= 1.7e-02 nm, Epot= -1.22319e+05 Fmax= 5.39498e+03, atom= 72\n",
      "Step=   96, Dmax= 2.0e-02 nm, Epot= -1.22352e+05 Fmax= 1.34612e+04, atom= 72\n",
      "Step=   97, Dmax= 2.4e-02 nm, Epot= -1.22619e+05 Fmax= 8.84459e+03, atom= 72\n",
      "Step=   99, Dmax= 1.4e-02 nm, Epot= -1.22823e+05 Fmax= 4.26974e+03, atom= 72\n",
      "Step=  100, Dmax= 1.7e-02 nm, Epot= -1.22902e+05 Fmax= 1.15358e+04, atom= 72\n",
      "Step=  101, Dmax= 2.1e-02 nm, Epot= -1.23139e+05 Fmax= 7.58142e+03, atom= 72\n",
      "Step=  103, Dmax= 1.2e-02 nm, Epot= -1.23308e+05 Fmax= 3.94046e+03, atom= 72\n",
      "Step=  104, Dmax= 1.5e-02 nm, Epot= -1.23410e+05 Fmax= 1.01000e+04, atom= 72\n",
      "Step=  105, Dmax= 1.8e-02 nm, Epot= -1.23606e+05 Fmax= 6.52300e+03, atom= 72\n",
      "Step=  107, Dmax= 1.1e-02 nm, Epot= -1.23754e+05 Fmax= 3.39536e+03, atom= 72\n",
      "Step=  108, Dmax= 1.3e-02 nm, Epot= -1.23878e+05 Fmax= 8.45042e+03, atom= 72\n",
      "Step=  109, Dmax= 1.5e-02 nm, Epot= -1.24045e+05 Fmax= 5.90796e+03, atom= 72\n",
      "Step=  110, Dmax= 1.8e-02 nm, Epot= -1.24071e+05 Fmax= 1.11798e+04, atom= 72\n",
      "Step=  111, Dmax= 2.2e-02 nm, Epot= -1.24242e+05 Fmax= 9.45218e+03, atom= 72\n",
      "Step=  113, Dmax= 1.3e-02 nm, Epot= -1.24452e+05 Fmax= 2.94381e+03, atom= 72\n",
      "Step=  114, Dmax= 1.6e-02 nm, Epot= -1.24526e+05 Fmax= 1.22977e+04, atom= 72\n",
      "Step=  115, Dmax= 1.9e-02 nm, Epot= -1.24788e+05 Fmax= 5.68244e+03, atom= 72\n",
      "Step=  117, Dmax= 1.1e-02 nm, Epot= -1.24906e+05 Fmax= 4.99524e+03, atom= 72\n",
      "Step=  118, Dmax= 1.4e-02 nm, Epot= -1.24988e+05 Fmax= 7.68528e+03, atom= 72\n",
      "Step=  119, Dmax= 1.7e-02 nm, Epot= -1.25099e+05 Fmax= 7.75082e+03, atom= 72\n",
      "Step=  120, Dmax= 2.0e-02 nm, Epot= -1.25134e+05 Fmax= 1.05023e+04, atom= 72\n",
      "Step=  121, Dmax= 2.4e-02 nm, Epot= -1.25214e+05 Fmax= 1.16799e+04, atom= 72\n",
      "Step=  123, Dmax= 1.4e-02 nm, Epot= -1.25485e+05 Fmax= 1.89287e+03, atom= 72\n",
      "Step=  124, Dmax= 1.7e-02 nm, Epot= -1.25593e+05 Fmax= 1.48952e+04, atom= 72\n",
      "Step=  125, Dmax= 2.1e-02 nm, Epot= -1.25943e+05 Fmax= 4.74745e+03, atom= 72\n",
      "Step=  127, Dmax= 1.2e-02 nm, Epot= -1.26023e+05 Fmax= 6.84512e+03, atom= 72\n",
      "Step=  128, Dmax= 1.5e-02 nm, Epot= -1.26111e+05 Fmax= 6.78061e+03, atom= 72\n",
      "Step=  129, Dmax= 1.8e-02 nm, Epot= -1.26147e+05 Fmax= 9.93968e+03, atom= 72\n",
      "Step=  130, Dmax= 2.1e-02 nm, Epot= -1.26226e+05 Fmax= 9.66048e+03, atom= 72\n",
      "Step=  132, Dmax= 1.3e-02 nm, Epot= -1.26448e+05 Fmax= 1.78162e+03, atom= 72\n",
      "Step=  133, Dmax= 1.5e-02 nm, Epot= -1.26529e+05 Fmax= 1.19763e+04, atom= 72\n",
      "Step=  134, Dmax= 1.8e-02 nm, Epot= -1.26832e+05 Fmax= 4.94200e+03, atom= 72\n",
      "Step=  136, Dmax= 1.1e-02 nm, Epot= -1.26912e+05 Fmax= 5.24842e+03, atom= 72\n",
      "Step=  137, Dmax= 1.3e-02 nm, Epot= -1.26972e+05 Fmax= 7.24017e+03, atom= 72\n",
      "Step=  138, Dmax= 1.6e-02 nm, Epot= -1.27045e+05 Fmax= 7.45460e+03, atom= 72\n",
      "Step=  139, Dmax= 1.9e-02 nm, Epot= -1.27059e+05 Fmax= 1.04936e+04, atom= 72\n",
      "Step=  140, Dmax= 2.3e-02 nm, Epot= -1.27119e+05 Fmax= 1.05802e+04, atom= 72\n",
      "Step=  142, Dmax= 1.4e-02 nm, Epot= -1.27368e+05 Fmax= 1.82023e+03, atom= 72\n",
      "Step=  143, Dmax= 1.7e-02 nm, Epot= -1.27370e+05 Fmax= 1.33309e+04, atom= 72\n",
      "Step=  144, Dmax= 2.0e-02 nm, Epot= -1.27712e+05 Fmax= 5.10270e+03, atom= 72\n",
      "Step=  146, Dmax= 1.2e-02 nm, Epot= -1.27779e+05 Fmax= 5.82287e+03, atom= 72\n",
      "Step=  147, Dmax= 1.4e-02 nm, Epot= -1.27825e+05 Fmax= 7.48286e+03, atom= 72\n",
      "Step=  148, Dmax= 1.7e-02 nm, Epot= -1.27880e+05 Fmax= 8.29168e+03, atom= 72\n",
      "Step=  149, Dmax= 2.1e-02 nm, Epot= -1.27882e+05 Fmax= 1.08154e+04, atom= 72\n",
      "Step=  150, Dmax= 2.5e-02 nm, Epot= -1.27915e+05 Fmax= 1.18052e+04, atom= 72\n",
      "Step=  152, Dmax= 1.5e-02 nm, Epot= -1.28197e+05 Fmax= 1.81576e+03, atom= 72\n",
      "Step=  154, Dmax= 8.9e-03 nm, Epot= -1.28285e+05 Fmax= 6.47915e+03, atom= 72\n",
      "Step=  155, Dmax= 1.1e-02 nm, Epot= -1.28393e+05 Fmax= 3.51559e+03, atom= 72\n",
      "Step=  156, Dmax= 1.3e-02 nm, Epot= -1.28405e+05 Fmax= 8.37522e+03, atom= 72\n",
      "Step=  157, Dmax= 1.5e-02 nm, Epot= -1.28522e+05 Fmax= 5.92653e+03, atom= 72\n",
      "Step=  159, Dmax= 9.2e-03 nm, Epot= -1.28625e+05 Fmax= 2.46407e+03, atom= 72\n",
      "Step=  160, Dmax= 1.1e-02 nm, Epot= -1.28664e+05 Fmax= 7.74761e+03, atom= 72\n",
      "Step=  161, Dmax= 1.3e-02 nm, Epot= -1.28792e+05 Fmax= 4.39353e+03, atom= 72\n",
      "Step=  163, Dmax= 7.9e-03 nm, Epot= -1.28864e+05 Fmax= 3.01196e+03, atom= 72\n",
      "Step=  164, Dmax= 9.5e-03 nm, Epot= -1.28915e+05 Fmax= 5.79145e+03, atom= 72\n",
      "Step=  165, Dmax= 1.1e-02 nm, Epot= -1.28990e+05 Fmax= 4.86270e+03, atom= 72\n",
      "Step=  166, Dmax= 1.4e-02 nm, Epot= -1.29006e+05 Fmax= 7.82970e+03, atom= 72\n",
      "Step=  167, Dmax= 1.6e-02 nm, Epot= -1.29074e+05 Fmax= 7.45163e+03, atom= 72\n",
      "Step=  169, Dmax= 9.9e-03 nm, Epot= -1.29208e+05 Fmax= 1.58040e+03, atom= 72\n",
      "Step=  170, Dmax= 1.2e-02 nm, Epot= -1.29268e+05 Fmax= 9.61023e+03, atom= 72\n",
      "Step=  171, Dmax= 1.4e-02 nm, Epot= -1.29443e+05 Fmax= 3.54098e+03, atom= 72\n",
      "Step=  173, Dmax= 8.5e-03 nm, Epot= -1.29497e+05 Fmax= 4.41574e+03, atom= 72\n",
      "Step=  174, Dmax= 1.0e-02 nm, Epot= -1.29550e+05 Fmax= 4.97619e+03, atom= 72\n",
      "Step=  175, Dmax= 1.2e-02 nm, Epot= -1.29589e+05 Fmax= 6.47645e+03, atom= 72\n",
      "Step=  176, Dmax= 1.5e-02 nm, Epot= -1.29632e+05 Fmax= 7.06206e+03, atom= 72\n",
      "Step=  177, Dmax= 1.8e-02 nm, Epot= -1.29637e+05 Fmax= 9.39064e+03, atom= 72\n",
      "Step=  178, Dmax= 2.1e-02 nm, Epot= -1.29665e+05 Fmax= 1.00550e+04, atom= 72\n",
      "Step=  180, Dmax= 1.3e-02 nm, Epot= -1.29871e+05 Fmax= 1.58445e+03, atom= 72\n",
      "Step=  182, Dmax= 7.7e-03 nm, Epot= -1.29944e+05 Fmax= 5.47079e+03, atom= 72\n",
      "Step=  183, Dmax= 9.2e-03 nm, Epot= -1.30024e+05 Fmax= 3.11556e+03, atom= 72\n",
      "Step=  184, Dmax= 1.1e-02 nm, Epot= -1.30040e+05 Fmax= 7.04757e+03, atom= 72\n",
      "Step=  185, Dmax= 1.3e-02 nm, Epot= -1.30125e+05 Fmax= 5.24292e+03, atom= 72\n",
      "Step=  187, Dmax= 7.9e-03 nm, Epot= -1.30205e+05 Fmax= 2.00255e+03, atom= 72\n",
      "Step=  188, Dmax= 9.5e-03 nm, Epot= -1.30244e+05 Fmax= 6.86923e+03, atom= 72\n",
      "Step=  189, Dmax= 1.1e-02 nm, Epot= -1.30345e+05 Fmax= 3.60691e+03, atom= 72\n",
      "Step=  191, Dmax= 6.9e-03 nm, Epot= -1.30400e+05 Fmax= 2.76959e+03, atom= 72\n",
      "Step=  192, Dmax= 8.2e-03 nm, Epot= -1.30442e+05 Fmax= 4.76464e+03, atom= 72\n",
      "Step=  193, Dmax= 9.9e-03 nm, Epot= -1.30497e+05 Fmax= 4.40878e+03, atom= 72\n",
      "Step=  194, Dmax= 1.2e-02 nm, Epot= -1.30519e+05 Fmax= 6.46693e+03, atom= 72\n",
      "Step=  195, Dmax= 1.4e-02 nm, Epot= -1.30564e+05 Fmax= 6.70128e+03, atom= 72\n",
      "Step=  197, Dmax= 8.5e-03 nm, Epot= -1.30671e+05 Fmax= 1.12554e+03, atom= 72\n",
      "Step=  198, Dmax= 1.0e-02 nm, Epot= -1.30755e+05 Fmax= 8.66951e+03, atom= 72\n",
      "Step=  199, Dmax= 1.2e-02 nm, Epot= -1.30897e+05 Fmax= 2.71076e+03, atom= 72\n",
      "Step=  201, Dmax= 7.4e-03 nm, Epot= -1.30940e+05 Fmax= 4.17856e+03, atom= 72\n",
      "Step=  202, Dmax= 8.8e-03 nm, Epot= -1.30988e+05 Fmax= 3.89903e+03, atom= 72\n",
      "Step=  203, Dmax= 1.1e-02 nm, Epot= -1.31013e+05 Fmax= 6.00875e+03, atom= 72\n",
      "Step=  204, Dmax= 1.3e-02 nm, Epot= -1.31062e+05 Fmax= 5.64671e+03, atom= 72\n",
      "Step=  206, Dmax= 7.6e-03 nm, Epot= -1.31145e+05 Fmax= 1.33311e+03, atom= 72\n",
      "Step=  207, Dmax= 9.2e-03 nm, Epot= -1.31203e+05 Fmax= 6.89384e+03, atom= 72\n",
      "Step=  208, Dmax= 1.1e-02 nm, Epot= -1.31306e+05 Fmax= 3.26639e+03, atom= 72\n",
      "Step=  210, Dmax= 6.6e-03 nm, Epot= -1.31352e+05 Fmax= 2.77823e+03, atom= 72\n",
      "Step=  211, Dmax= 7.9e-03 nm, Epot= -1.31387e+05 Fmax= 4.63330e+03, atom= 72\n",
      "Step=  212, Dmax= 9.5e-03 nm, Epot= -1.31436e+05 Fmax= 4.08156e+03, atom= 72\n",
      "Step=  213, Dmax= 1.1e-02 nm, Epot= -1.31447e+05 Fmax= 6.55883e+03, atom= 72\n",
      "Step=  214, Dmax= 1.4e-02 nm, Epot= -1.31499e+05 Fmax= 5.98671e+03, atom= 72\n",
      "Step=  216, Dmax= 8.2e-03 nm, Epot= -1.31587e+05 Fmax= 1.54620e+03, atom= 72\n",
      "Step=  217, Dmax= 9.9e-03 nm, Epot= -1.31614e+05 Fmax= 7.38389e+03, atom= 72\n",
      "Step=  218, Dmax= 1.2e-02 nm, Epot= -1.31724e+05 Fmax= 3.56064e+03, atom= 72\n",
      "Step=  220, Dmax= 7.1e-03 nm, Epot= -1.31770e+05 Fmax= 2.93517e+03, atom= 72\n",
      "Step=  221, Dmax= 8.5e-03 nm, Epot= -1.31796e+05 Fmax= 4.99925e+03, atom= 72\n",
      "Step=  222, Dmax= 1.0e-02 nm, Epot= -1.31845e+05 Fmax= 4.36255e+03, atom= 72\n",
      "Step=  224, Dmax= 6.1e-03 nm, Epot= -1.31904e+05 Fmax= 1.31220e+03, atom= 72\n",
      "Step=  225, Dmax= 7.4e-03 nm, Epot= -1.31958e+05 Fmax= 5.35792e+03, atom= 72\n",
      "Step=  226, Dmax= 8.8e-03 nm, Epot= -1.32028e+05 Fmax= 2.83560e+03, atom= 72\n",
      "Step=  228, Dmax= 5.3e-03 nm, Epot= -1.32069e+05 Fmax= 2.00398e+03, atom= 72\n",
      "Step=  229, Dmax= 6.4e-03 nm, Epot= -1.32106e+05 Fmax= 3.93003e+03, atom= 72\n",
      "Step=  230, Dmax= 7.6e-03 nm, Epot= -1.32153e+05 Fmax= 3.04930e+03, atom= 72\n",
      "Step=  231, Dmax= 9.2e-03 nm, Epot= -1.32170e+05 Fmax= 5.46180e+03, atom= 72\n",
      "Step=  232, Dmax= 1.1e-02 nm, Epot= -1.32221e+05 Fmax= 4.59412e+03, atom= 72\n",
      "Step=  234, Dmax= 6.6e-03 nm, Epot= -1.32282e+05 Fmax= 1.49838e+03, atom= 72\n",
      "Step=  235, Dmax= 7.9e-03 nm, Epot= -1.32319e+05 Fmax= 5.69561e+03, atom= 72\n",
      "Step=  236, Dmax= 9.5e-03 nm, Epot= -1.32390e+05 Fmax= 3.10409e+03, atom= 72\n",
      "Step=  238, Dmax= 5.7e-03 nm, Epot= -1.32432e+05 Fmax= 2.09684e+03, atom= 72\n",
      "Step=  239, Dmax= 6.8e-03 nm, Epot= -1.32463e+05 Fmax= 4.26405e+03, atom= 72\n",
      "Step=  240, Dmax= 8.2e-03 nm, Epot= -1.32510e+05 Fmax= 3.23430e+03, atom= 72\n",
      "Step=  241, Dmax= 9.8e-03 nm, Epot= -1.32518e+05 Fmax= 5.89216e+03, atom= 72\n",
      "Step=  242, Dmax= 1.2e-02 nm, Epot= -1.32571e+05 Fmax= 4.90851e+03, atom= 72\n",
      "Step=  244, Dmax= 7.1e-03 nm, Epot= -1.32634e+05 Fmax= 1.63465e+03, atom= 72\n",
      "Step=  245, Dmax= 8.5e-03 nm, Epot= -1.32657e+05 Fmax= 6.11989e+03, atom= 72\n",
      "Step=  246, Dmax= 1.0e-02 nm, Epot= -1.32733e+05 Fmax= 3.33365e+03, atom= 72\n",
      "Step=  248, Dmax= 6.1e-03 nm, Epot= -1.32775e+05 Fmax= 2.25432e+03, atom= 72\n",
      "Step=  249, Dmax= 7.3e-03 nm, Epot= -1.32799e+05 Fmax= 4.56238e+03, atom= 72\n",
      "Step=  250, Dmax= 8.8e-03 nm, Epot= -1.32846e+05 Fmax= 3.49296e+03, atom= 72\n",
      "Step=  252, Dmax= 5.3e-03 nm, Epot= -1.32890e+05 Fmax= 1.41052e+03, atom= 72\n",
      "Step=  253, Dmax= 6.3e-03 nm, Epot= -1.32931e+05 Fmax= 4.36075e+03, atom= 72\n",
      "Step=  254, Dmax= 7.6e-03 nm, Epot= -1.32981e+05 Fmax= 2.69992e+03, atom= 72\n",
      "Step=  255, Dmax= 9.1e-03 nm, Epot= -1.32988e+05 Fmax= 5.67134e+03, atom= 72\n",
      "Step=  256, Dmax= 1.1e-02 nm, Epot= -1.33041e+05 Fmax= 4.46937e+03, atom= 72\n",
      "Step=  258, Dmax= 6.6e-03 nm, Epot= -1.33097e+05 Fmax= 1.52358e+03, atom= 72\n",
      "Step=  259, Dmax= 7.9e-03 nm, Epot= -1.33120e+05 Fmax= 5.81863e+03, atom= 72\n",
      "Step=  260, Dmax= 9.5e-03 nm, Epot= -1.33193e+05 Fmax= 2.83243e+03, atom= 72\n",
      "Step=  262, Dmax= 5.7e-03 nm, Epot= -1.33228e+05 Fmax= 2.43396e+03, atom= 72\n",
      "Step=  263, Dmax= 6.8e-03 nm, Epot= -1.33255e+05 Fmax= 3.78102e+03, atom= 72\n",
      "Step=  264, Dmax= 8.2e-03 nm, Epot= -1.33289e+05 Fmax= 3.79194e+03, atom= 72\n",
      "Step=  265, Dmax= 9.8e-03 nm, Epot= -1.33304e+05 Fmax= 5.18228e+03, atom= 72\n",
      "Step=  266, Dmax= 1.2e-02 nm, Epot= -1.33329e+05 Fmax= 5.69247e+03, atom= 72\n",
      "Step=  267, Dmax= 1.4e-02 nm, Epot= -1.33329e+05 Fmax= 7.23445e+03, atom= 72\n",
      "Step=  268, Dmax= 1.7e-02 nm, Epot= -1.33331e+05 Fmax= 8.36536e+03, atom= 72\n",
      "Step=  270, Dmax= 1.0e-02 nm, Epot= -1.33477e+05 Fmax= 9.57877e+02, atom= 72\n",
      "Step=  271, Dmax= 1.2e-02 nm, Epot= -1.33479e+05 Fmax= 1.08348e+04, atom= 72\n",
      "Step=  272, Dmax= 1.5e-02 nm, Epot= -1.33672e+05 Fmax= 2.84455e+03, atom= 72\n",
      "Step=  274, Dmax= 8.8e-03 nm, Epot= -1.33683e+05 Fmax= 5.36267e+03, atom= 72\n",
      "Step=  275, Dmax= 1.1e-02 nm, Epot= -1.33726e+05 Fmax= 4.24752e+03, atom= 72\n",
      "Step=  277, Dmax= 6.3e-03 nm, Epot= -1.33776e+05 Fmax= 1.50176e+03, atom= 72\n",
      "Step=  278, Dmax= 7.6e-03 nm, Epot= -1.33798e+05 Fmax= 5.24374e+03, atom= 72\n",
      "Step=  279, Dmax= 9.1e-03 nm, Epot= -1.33859e+05 Fmax= 3.10295e+03, atom= 72\n",
      "Step=  281, Dmax= 5.5e-03 nm, Epot= -1.33894e+05 Fmax= 1.90686e+03, atom= 72\n",
      "Step=  282, Dmax= 6.6e-03 nm, Epot= -1.33916e+05 Fmax= 4.26420e+03, atom= 72\n",
      "Step=  283, Dmax= 7.9e-03 nm, Epot= -1.33958e+05 Fmax= 2.95354e+03, atom= 72\n",
      "Step=  285, Dmax= 4.7e-03 nm, Epot= -1.33994e+05 Fmax= 1.39421e+03, atom= 72\n",
      "Step=  286, Dmax= 5.7e-03 nm, Epot= -1.34026e+05 Fmax= 3.67583e+03, atom= 72\n",
      "Step=  287, Dmax= 6.8e-03 nm, Epot= -1.34066e+05 Fmax= 2.60049e+03, atom= 72\n",
      "Step=  288, Dmax= 8.2e-03 nm, Epot= -1.34076e+05 Fmax= 4.76667e+03, atom= 72\n",
      "Step=  289, Dmax= 9.8e-03 nm, Epot= -1.34115e+05 Fmax= 4.26851e+03, atom= 72\n",
      "Step=  291, Dmax= 5.9e-03 nm, Epot= -1.34165e+05 Fmax= 1.16712e+03, atom= 72\n",
      "Step=  292, Dmax= 7.1e-03 nm, Epot= -1.34193e+05 Fmax= 5.55948e+03, atom= 72\n",
      "Step=  293, Dmax= 8.5e-03 nm, Epot= -1.34260e+05 Fmax= 2.26183e+03, atom= 72\n",
      "Step=  295, Dmax= 5.1e-03 nm, Epot= -1.34289e+05 Fmax= 2.45080e+03, atom= 72\n",
      "Step=  296, Dmax= 6.1e-03 nm, Epot= -1.34314e+05 Fmax= 3.06457e+03, atom= 72\n",
      "Step=  297, Dmax= 7.3e-03 nm, Epot= -1.34338e+05 Fmax= 3.72405e+03, atom= 72\n",
      "Step=  298, Dmax= 8.8e-03 nm, Epot= -1.34359e+05 Fmax= 4.24784e+03, atom= 72\n",
      "Step=  299, Dmax= 1.1e-02 nm, Epot= -1.34370e+05 Fmax= 5.52103e+03, atom= 72\n",
      "Step=  300, Dmax= 1.3e-02 nm, Epot= -1.34385e+05 Fmax= 5.96424e+03, atom= 72\n",
      "Step=  302, Dmax= 7.6e-03 nm, Epot= -1.34473e+05 Fmax= 8.47977e+02, atom= 72\n",
      "Step=  303, Dmax= 9.1e-03 nm, Epot= -1.34499e+05 Fmax= 7.21725e+03, atom= 72\n",
      "Step=  304, Dmax= 1.1e-02 nm, Epot= -1.34617e+05 Fmax= 2.78248e+03, atom= 72\n",
      "Step=  306, Dmax= 6.6e-03 nm, Epot= -1.34641e+05 Fmax= 3.18945e+03, atom= 72\n",
      "Step=  307, Dmax= 7.9e-03 nm, Epot= -1.34660e+05 Fmax= 4.11255e+03, atom= 72\n",
      "Step=  308, Dmax= 9.4e-03 nm, Epot= -1.34681e+05 Fmax= 4.49970e+03, atom= 72\n",
      "Step=  309, Dmax= 1.1e-02 nm, Epot= -1.34685e+05 Fmax= 5.99128e+03, atom= 72\n",
      "Step=  310, Dmax= 1.4e-02 nm, Epot= -1.34700e+05 Fmax= 6.39410e+03, atom= 72\n",
      "Step=  312, Dmax= 8.2e-03 nm, Epot= -1.34796e+05 Fmax= 1.00070e+03, atom= 72\n",
      "Step=  314, Dmax= 4.9e-03 nm, Epot= -1.34834e+05 Fmax= 3.44844e+03, atom= 72\n",
      "Step=  315, Dmax= 5.9e-03 nm, Epot= -1.34872e+05 Fmax= 1.99712e+03, atom= 72\n",
      "Step=  316, Dmax= 7.0e-03 nm, Epot= -1.34884e+05 Fmax= 4.41459e+03, atom= 72\n",
      "Step=  317, Dmax= 8.5e-03 nm, Epot= -1.34924e+05 Fmax= 3.39025e+03, atom= 72\n",
      "Step=  319, Dmax= 5.1e-03 nm, Epot= -1.34962e+05 Fmax= 1.24853e+03, atom= 72\n",
      "Step=  320, Dmax= 6.1e-03 nm, Epot= -1.34986e+05 Fmax= 4.43454e+03, atom= 72\n",
      "Step=  321, Dmax= 7.3e-03 nm, Epot= -1.35034e+05 Fmax= 2.24789e+03, atom= 72\n",
      "Step=  323, Dmax= 4.4e-03 nm, Epot= -1.35062e+05 Fmax= 1.80445e+03, atom= 72\n",
      "Step=  324, Dmax= 5.3e-03 nm, Epot= -1.35085e+05 Fmax= 2.96660e+03, atom= 72\n",
      "Step=  325, Dmax= 6.3e-03 nm, Epot= -1.35113e+05 Fmax= 2.86417e+03, atom= 72\n",
      "Step=  326, Dmax= 7.6e-03 nm, Epot= -1.35128e+05 Fmax= 4.03089e+03, atom= 72\n",
      "Step=  327, Dmax= 9.1e-03 nm, Epot= -1.35151e+05 Fmax= 4.34958e+03, atom= 72\n",
      "Step=  328, Dmax= 1.1e-02 nm, Epot= -1.35155e+05 Fmax= 5.59007e+03, atom= 72\n",
      "Step=  329, Dmax= 1.3e-02 nm, Epot= -1.35165e+05 Fmax= 6.45008e+03, atom= 72\n",
      "Step=  331, Dmax= 7.9e-03 nm, Epot= -1.35256e+05 Fmax= 7.76349e+02, atom= 72\n",
      "Step=  332, Dmax= 9.4e-03 nm, Epot= -1.35285e+05 Fmax= 8.24117e+03, atom= 72\n",
      "Step=  333, Dmax= 1.1e-02 nm, Epot= -1.35406e+05 Fmax= 2.24234e+03, atom= 72\n",
      "Step=  335, Dmax= 6.8e-03 nm, Epot= -1.35421e+05 Fmax= 4.06296e+03, atom= 72\n",
      "Step=  336, Dmax= 8.1e-03 nm, Epot= -1.35452e+05 Fmax= 3.34032e+03, atom= 72\n",
      "Step=  338, Dmax= 4.9e-03 nm, Epot= -1.35488e+05 Fmax= 1.10062e+03, atom= 72\n",
      "Step=  339, Dmax= 5.9e-03 nm, Epot= -1.35517e+05 Fmax= 4.10679e+03, atom= 72\n",
      "Step=  340, Dmax= 7.0e-03 nm, Epot= -1.35560e+05 Fmax= 2.32862e+03, atom= 72\n",
      "Step=  342, Dmax= 4.2e-03 nm, Epot= -1.35586e+05 Fmax= 1.52311e+03, atom= 72\n",
      "Step=  343, Dmax= 5.1e-03 nm, Epot= -1.35609e+05 Fmax= 3.21235e+03, atom= 72\n",
      "Step=  344, Dmax= 6.1e-03 nm, Epot= -1.35639e+05 Fmax= 2.33834e+03, atom= 72\n",
      "Step=  345, Dmax= 7.3e-03 nm, Epot= -1.35647e+05 Fmax= 4.45677e+03, atom= 72\n",
      "Step=  346, Dmax= 8.8e-03 nm, Epot= -1.35681e+05 Fmax= 3.54085e+03, atom= 72\n",
      "Step=  348, Dmax= 5.3e-03 nm, Epot= -1.35720e+05 Fmax= 1.24126e+03, atom= 72\n",
      "Step=  349, Dmax= 6.3e-03 nm, Epot= -1.35739e+05 Fmax= 4.38331e+03, atom= 72\n",
      "Step=  350, Dmax= 7.6e-03 nm, Epot= -1.35785e+05 Fmax= 2.53568e+03, atom= 72\n",
      "Step=  352, Dmax= 4.5e-03 nm, Epot= -1.35812e+05 Fmax= 1.61289e+03, atom= 72\n",
      "Step=  353, Dmax= 5.4e-03 nm, Epot= -1.35831e+05 Fmax= 3.47242e+03, atom= 72\n",
      "Step=  354, Dmax= 6.5e-03 nm, Epot= -1.35862e+05 Fmax= 2.50060e+03, atom= 72\n",
      "Step=  355, Dmax= 7.8e-03 nm, Epot= -1.35865e+05 Fmax= 4.79865e+03, atom= 72\n",
      "Step=  356, Dmax= 9.4e-03 nm, Epot= -1.35901e+05 Fmax= 3.80215e+03, atom= 72\n",
      "Step=  358, Dmax= 5.6e-03 nm, Epot= -1.35942e+05 Fmax= 1.33187e+03, atom= 72\n",
      "Step=  359, Dmax= 6.8e-03 nm, Epot= -1.35954e+05 Fmax= 4.72513e+03, atom= 72\n",
      "Step=  360, Dmax= 8.1e-03 nm, Epot= -1.36005e+05 Fmax= 2.70609e+03, atom= 72\n",
      "Step=  362, Dmax= 4.9e-03 nm, Epot= -1.36032e+05 Fmax= 1.75599e+03, atom= 72\n",
      "Step=  363, Dmax= 5.9e-03 nm, Epot= -1.36047e+05 Fmax= 3.69992e+03, atom= 72\n",
      "Step=  364, Dmax= 7.0e-03 nm, Epot= -1.36079e+05 Fmax= 2.72136e+03, atom= 72\n",
      "Step=  366, Dmax= 4.2e-03 nm, Epot= -1.36108e+05 Fmax= 1.13893e+03, atom= 72\n",
      "Step=  367, Dmax= 5.1e-03 nm, Epot= -1.36133e+05 Fmax= 3.39456e+03, atom= 72\n",
      "Step=  368, Dmax= 6.1e-03 nm, Epot= -1.36166e+05 Fmax= 2.17688e+03, atom= 72\n",
      "Step=  369, Dmax= 7.3e-03 nm, Epot= -1.36171e+05 Fmax= 4.39802e+03, atom= 72\n",
      "Step=  370, Dmax= 8.7e-03 nm, Epot= -1.36205e+05 Fmax= 3.62210e+03, atom= 72\n",
      "Step=  372, Dmax= 5.2e-03 nm, Epot= -1.36243e+05 Fmax= 1.19902e+03, atom= 72\n",
      "Step=  373, Dmax= 6.3e-03 nm, Epot= -1.36258e+05 Fmax= 4.70451e+03, atom= 72\n",
      "Step=  374, Dmax= 7.6e-03 nm, Epot= -1.36307e+05 Fmax= 2.22966e+03, atom= 72\n",
      "Step=  376, Dmax= 4.5e-03 nm, Epot= -1.36330e+05 Fmax= 1.93810e+03, atom= 72\n",
      "Step=  377, Dmax= 5.4e-03 nm, Epot= -1.36348e+05 Fmax= 2.97416e+03, atom= 72\n",
      "Step=  378, Dmax= 6.5e-03 nm, Epot= -1.36371e+05 Fmax= 3.03213e+03, atom= 72\n",
      "Step=  379, Dmax= 7.8e-03 nm, Epot= -1.36381e+05 Fmax= 4.06221e+03, atom= 72\n",
      "Step=  380, Dmax= 9.4e-03 nm, Epot= -1.36397e+05 Fmax= 4.58274e+03, atom= 72\n",
      "Step=  381, Dmax= 1.1e-02 nm, Epot= -1.36398e+05 Fmax= 5.63651e+03, atom= 72\n",
      "Step=  383, Dmax= 6.8e-03 nm, Epot= -1.36474e+05 Fmax= 4.56561e+02, atom= 72\n",
      "Step=  384, Dmax= 8.1e-03 nm, Epot= -1.36547e+05 Fmax= 6.89483e+03, atom= 72\n",
      "Step=  385, Dmax= 9.7e-03 nm, Epot= -1.36655e+05 Fmax= 2.14092e+03, atom= 72\n",
      "Step=  387, Dmax= 5.8e-03 nm, Epot= -1.36671e+05 Fmax= 3.17896e+03, atom= 72\n",
      "Step=  388, Dmax= 7.0e-03 nm, Epot= -1.36691e+05 Fmax= 3.27095e+03, atom= 72\n",
      "Step=  389, Dmax= 8.4e-03 nm, Epot= -1.36698e+05 Fmax= 4.42279e+03, atom= 72\n",
      "Step=  390, Dmax= 1.0e-02 nm, Epot= -1.36711e+05 Fmax= 4.85179e+03, atom= 72\n",
      "Step=  392, Dmax= 6.1e-03 nm, Epot= -1.36770e+05 Fmax= 6.65609e+02, atom= 72\n",
      "Step=  393, Dmax= 7.3e-03 nm, Epot= -1.36806e+05 Fmax= 6.12505e+03, atom= 72\n",
      "Step=  394, Dmax= 8.7e-03 nm, Epot= -1.36882e+05 Fmax= 1.86325e+03, atom= 72\n",
      "Step=  396, Dmax= 5.2e-03 nm, Epot= -1.36898e+05 Fmax= 2.96830e+03, atom= 72\n",
      "Step=  397, Dmax= 6.3e-03 nm, Epot= -1.36920e+05 Fmax= 2.74178e+03, atom= 72\n",
      "Step=  398, Dmax= 7.5e-03 nm, Epot= -1.36927e+05 Fmax= 4.20085e+03, atom= 72\n",
      "Step=  399, Dmax= 9.0e-03 nm, Epot= -1.36948e+05 Fmax= 4.03138e+03, atom= 72\n",
      "Step=  401, Dmax= 5.4e-03 nm, Epot= -1.36990e+05 Fmax= 9.05752e+02, atom= 72\n",
      "Step=  402, Dmax= 6.5e-03 nm, Epot= -1.37009e+05 Fmax= 4.97123e+03, atom= 72\n",
      "Step=  403, Dmax= 7.8e-03 nm, Epot= -1.37063e+05 Fmax= 2.19592e+03, atom= 72\n",
      "Step=  405, Dmax= 4.7e-03 nm, Epot= -1.37083e+05 Fmax= 2.07820e+03, atom= 72\n",
      "Step=  406, Dmax= 5.6e-03 nm, Epot= -1.37097e+05 Fmax= 3.10678e+03, atom= 72\n",
      "Step=  407, Dmax= 6.8e-03 nm, Epot= -1.37117e+05 Fmax= 3.05015e+03, atom= 72\n",
      "Step=  408, Dmax= 8.1e-03 nm, Epot= -1.37122e+05 Fmax= 4.40033e+03, atom= 72\n",
      "Step=  409, Dmax= 9.7e-03 nm, Epot= -1.37140e+05 Fmax= 4.46262e+03, atom= 72\n",
      "Step=  411, Dmax= 5.8e-03 nm, Epot= -1.37189e+05 Fmax= 8.75351e+02, atom= 72\n",
      "Step=  412, Dmax= 7.0e-03 nm, Epot= -1.37200e+05 Fmax= 5.51387e+03, atom= 72\n",
      "Step=  413, Dmax= 8.4e-03 nm, Epot= -1.37265e+05 Fmax= 2.23339e+03, atom= 72\n",
      "Step=  415, Dmax= 5.0e-03 nm, Epot= -1.37283e+05 Fmax= 2.36424e+03, atom= 72\n",
      "Step=  416, Dmax= 6.1e-03 nm, Epot= -1.37296e+05 Fmax= 3.18980e+03, atom= 72\n",
      "Step=  417, Dmax= 7.3e-03 nm, Epot= -1.37313e+05 Fmax= 3.43536e+03, atom= 72\n",
      "Step=  418, Dmax= 8.7e-03 nm, Epot= -1.37317e+05 Fmax= 4.54563e+03, atom= 72\n",
      "Step=  419, Dmax= 1.0e-02 nm, Epot= -1.37329e+05 Fmax= 4.99210e+03, atom= 72\n",
      "Step=  421, Dmax= 6.3e-03 nm, Epot= -1.37388e+05 Fmax= 7.93457e+02, atom= 72\n",
      "Step=  422, Dmax= 7.5e-03 nm, Epot= -1.37393e+05 Fmax= 6.17516e+03, atom= 72\n",
      "Step=  423, Dmax= 9.0e-03 nm, Epot= -1.37472e+05 Fmax= 2.21790e+03, atom= 72\n",
      "Step=  425, Dmax= 5.4e-03 nm, Epot= -1.37487e+05 Fmax= 2.73047e+03, atom= 72\n",
      "Step=  426, Dmax= 6.5e-03 nm, Epot= -1.37501e+05 Fmax= 3.22106e+03, atom= 72\n",
      "Step=  427, Dmax= 7.8e-03 nm, Epot= -1.37511e+05 Fmax= 3.91543e+03, atom= 72\n",
      "Step=  428, Dmax= 9.4e-03 nm, Epot= -1.37517e+05 Fmax= 4.63816e+03, atom= 72\n",
      "Step=  429, Dmax= 1.1e-02 nm, Epot= -1.37518e+05 Fmax= 5.64054e+03, atom= 72\n",
      "Step=  431, Dmax= 6.7e-03 nm, Epot= -1.37591e+05 Fmax= 6.49129e+02, atom= 72\n",
      "Step=  432, Dmax= 8.1e-03 nm, Epot= -1.37597e+05 Fmax= 6.94768e+03, atom= 72\n",
      "Step=  433, Dmax= 9.7e-03 nm, Epot= -1.37696e+05 Fmax= 2.14195e+03, atom= 72\n",
      "Step=  435, Dmax= 5.8e-03 nm, Epot= -1.37706e+05 Fmax= 3.18910e+03, atom= 72\n",
      "Step=  436, Dmax= 7.0e-03 nm, Epot= -1.37722e+05 Fmax= 3.20095e+03, atom= 72\n",
      "Step=  437, Dmax= 8.4e-03 nm, Epot= -1.37724e+05 Fmax= 4.49501e+03, atom= 72\n",
      "Step=  438, Dmax= 1.0e-02 nm, Epot= -1.37734e+05 Fmax= 4.69123e+03, atom= 72\n",
      "Step=  440, Dmax= 6.0e-03 nm, Epot= -1.37792e+05 Fmax= 6.98838e+02, atom= 72\n",
      "Step=  441, Dmax= 7.2e-03 nm, Epot= -1.37797e+05 Fmax= 5.80903e+03, atom= 72\n",
      "Step=  442, Dmax= 8.7e-03 nm, Epot= -1.37878e+05 Fmax= 2.00483e+03, atom= 72\n",
      "Step=  444, Dmax= 5.2e-03 nm, Epot= -1.37890e+05 Fmax= 2.77846e+03, atom= 72\n",
      "Step=  445, Dmax= 6.3e-03 nm, Epot= -1.37906e+05 Fmax= 2.94914e+03, atom= 72\n",
      "Step=  446, Dmax= 7.5e-03 nm, Epot= -1.37910e+05 Fmax= 3.91094e+03, atom= 72\n",
      "Step=  447, Dmax= 9.0e-03 nm, Epot= -1.37922e+05 Fmax= 4.33599e+03, atom= 72\n",
      "Step=  449, Dmax= 5.4e-03 nm, Epot= -1.37970e+05 Fmax= 7.03026e+02, atom= 72\n",
      "Step=  450, Dmax= 6.5e-03 nm, Epot= -1.37983e+05 Fmax= 5.34445e+03, atom= 72\n",
      "Step=  451, Dmax= 7.8e-03 nm, Epot= -1.38044e+05 Fmax= 1.90211e+03, atom= 72\n",
      "Step=  453, Dmax= 4.7e-03 nm, Epot= -1.38058e+05 Fmax= 2.36663e+03, atom= 72\n",
      "Step=  454, Dmax= 5.6e-03 nm, Epot= -1.38071e+05 Fmax= 2.75288e+03, atom= 72\n",
      "Step=  455, Dmax= 6.7e-03 nm, Epot= -1.38081e+05 Fmax= 3.40680e+03, atom= 72\n",
      "Step=  456, Dmax= 8.1e-03 nm, Epot= -1.38088e+05 Fmax= 3.95606e+03, atom= 72\n",
      "Step=  457, Dmax= 9.7e-03 nm, Epot= -1.38090e+05 Fmax= 4.92246e+03, atom= 72\n",
      "Step=  459, Dmax= 5.8e-03 nm, Epot= -1.38149e+05 Fmax= 5.22123e+02, atom= 72\n",
      "Step=  460, Dmax= 7.0e-03 nm, Epot= -1.38174e+05 Fmax= 6.01871e+03, atom= 72\n",
      "Step=  461, Dmax= 8.4e-03 nm, Epot= -1.38250e+05 Fmax= 1.79966e+03, atom= 72\n",
      "Step=  463, Dmax= 5.0e-03 nm, Epot= -1.38260e+05 Fmax= 2.80020e+03, atom= 72\n",
      "Step=  464, Dmax= 6.0e-03 nm, Epot= -1.38276e+05 Fmax= 2.71059e+03, atom= 72\n",
      "Step=  465, Dmax= 7.2e-03 nm, Epot= -1.38278e+05 Fmax= 3.92937e+03, atom= 72\n",
      "Step=  466, Dmax= 8.7e-03 nm, Epot= -1.38291e+05 Fmax= 3.99581e+03, atom= 72\n",
      "Step=  468, Dmax= 5.2e-03 nm, Epot= -1.38335e+05 Fmax= 6.61599e+02, atom= 72\n",
      "Step=  469, Dmax= 6.3e-03 nm, Epot= -1.38344e+05 Fmax= 4.94226e+03, atom= 72\n",
      "Step=  470, Dmax= 7.5e-03 nm, Epot= -1.38405e+05 Fmax= 1.80134e+03, atom= 72\n",
      "Step=  472, Dmax= 4.5e-03 nm, Epot= -1.38417e+05 Fmax= 2.32405e+03, atom= 72\n",
      "Step=  473, Dmax= 5.4e-03 nm, Epot= -1.38431e+05 Fmax= 2.62647e+03, atom= 72\n",
      "Step=  474, Dmax= 6.5e-03 nm, Epot= -1.38437e+05 Fmax= 3.29284e+03, atom= 72\n",
      "Step=  475, Dmax= 7.8e-03 nm, Epot= -1.38447e+05 Fmax= 3.83452e+03, atom= 72\n",
      "Step=  477, Dmax= 4.7e-03 nm, Epot= -1.38486e+05 Fmax= 5.20479e+02, atom= 72\n",
      "Step=  478, Dmax= 5.6e-03 nm, Epot= -1.38514e+05 Fmax= 4.69555e+03, atom= 72\n",
      "Step=  479, Dmax= 6.7e-03 nm, Epot= -1.38564e+05 Fmax= 1.54808e+03, atom= 72\n",
      "Step=  481, Dmax= 4.0e-03 nm, Epot= -1.38577e+05 Fmax= 2.13754e+03, atom= 72\n",
      "Step=  482, Dmax= 4.8e-03 nm, Epot= -1.38590e+05 Fmax= 2.28053e+03, atom= 72\n",
      "Step=  483, Dmax= 5.8e-03 nm, Epot= -1.38598e+05 Fmax= 3.03830e+03, atom= 72\n",
      "Step=  484, Dmax= 7.0e-03 nm, Epot= -1.38609e+05 Fmax= 3.31813e+03, atom= 72\n",
      "Step=  485, Dmax= 8.4e-03 nm, Epot= -1.38610e+05 Fmax= 4.35020e+03, atom= 72\n",
      "Step=  486, Dmax= 1.0e-02 nm, Epot= -1.38612e+05 Fmax= 4.78200e+03, atom= 72\n",
      "Step=  488, Dmax= 6.0e-03 nm, Epot= -1.38673e+05 Fmax= 5.65662e+02, atom= 72\n",
      "Step=  490, Dmax= 3.6e-03 nm, Epot= -1.38697e+05 Fmax= 2.71956e+03, atom= 72\n",
      "Step=  491, Dmax= 4.3e-03 nm, Epot= -1.38722e+05 Fmax= 1.22707e+03, atom= 72\n",
      "Step=  492, Dmax= 5.2e-03 nm, Epot= -1.38724e+05 Fmax= 3.48824e+03, atom= 72\n",
      "Step=  493, Dmax= 6.2e-03 nm, Epot= -1.38753e+05 Fmax= 2.18087e+03, atom= 72\n",
      "Step=  495, Dmax= 3.7e-03 nm, Epot= -1.38771e+05 Fmax= 1.27369e+03, atom= 72\n",
      "Step=  496, Dmax= 4.5e-03 nm, Epot= -1.38779e+05 Fmax= 2.87373e+03, atom= 72\n",
      "Step=  497, Dmax= 5.4e-03 nm, Epot= -1.38800e+05 Fmax= 2.08733e+03, atom= 72\n",
      "Step=  499, Dmax= 3.2e-03 nm, Epot= -1.38817e+05 Fmax= 8.47092e+02, atom= 72\n",
      "Step=  500, Dmax= 3.9e-03 nm, Epot= -1.38831e+05 Fmax= 2.67258e+03, atom= 72\n",
      "Step=  501, Dmax= 4.7e-03 nm, Epot= -1.38853e+05 Fmax= 1.55850e+03, atom= 72\n",
      "Step=  503, Dmax= 2.8e-03 nm, Epot= -1.38868e+05 Fmax= 1.01328e+03, atom= 72\n",
      "Step=  504, Dmax= 3.4e-03 nm, Epot= -1.38881e+05 Fmax= 2.07141e+03, atom= 72\n",
      "Step=  505, Dmax= 4.0e-03 nm, Epot= -1.38897e+05 Fmax= 1.62522e+03, atom= 72\n",
      "Step=  506, Dmax= 4.8e-03 nm, Epot= -1.38903e+05 Fmax= 2.81858e+03, atom= 72\n",
      "Step=  507, Dmax= 5.8e-03 nm, Epot= -1.38919e+05 Fmax= 2.49495e+03, atom= 72\n",
      "Step=  509, Dmax= 3.5e-03 nm, Epot= -1.38941e+05 Fmax= 6.45874e+02, atom= 72\n",
      "Step=  510, Dmax= 4.2e-03 nm, Epot= -1.38958e+05 Fmax= 3.12375e+03, atom= 72\n",
      "Step=  511, Dmax= 5.0e-03 nm, Epot= -1.38987e+05 Fmax= 1.40939e+03, atom= 72\n",
      "Step=  513, Dmax= 3.0e-03 nm, Epot= -1.39000e+05 Fmax= 1.34904e+03, atom= 72\n",
      "Step=  514, Dmax= 3.6e-03 nm, Epot= -1.39012e+05 Fmax= 1.96147e+03, atom= 72\n",
      "Step=  515, Dmax= 4.3e-03 nm, Epot= -1.39024e+05 Fmax= 2.00199e+03, atom= 72\n",
      "Step=  516, Dmax= 5.2e-03 nm, Epot= -1.39032e+05 Fmax= 2.76589e+03, atom= 72\n",
      "Step=  517, Dmax= 6.2e-03 nm, Epot= -1.39042e+05 Fmax= 2.92977e+03, atom= 72\n",
      "Step=  518, Dmax= 7.5e-03 nm, Epot= -1.39043e+05 Fmax= 3.93848e+03, atom= 72\n",
      "Step=  519, Dmax= 9.0e-03 nm, Epot= -1.39048e+05 Fmax= 4.24132e+03, atom= 72\n",
      "Step=  521, Dmax= 5.4e-03 nm, Epot= -1.39098e+05 Fmax= 5.57495e+02, atom= 72\n",
      "Step=  523, Dmax= 3.2e-03 nm, Epot= -1.39119e+05 Fmax= 2.37958e+03, atom= 72\n",
      "Step=  524, Dmax= 3.9e-03 nm, Epot= -1.39139e+05 Fmax= 1.15361e+03, atom= 72\n",
      "Step=  525, Dmax= 4.7e-03 nm, Epot= -1.39142e+05 Fmax= 3.06487e+03, atom= 72\n",
      "Step=  526, Dmax= 5.6e-03 nm, Epot= -1.39167e+05 Fmax= 2.01341e+03, atom= 72\n",
      "Step=  528, Dmax= 3.4e-03 nm, Epot= -1.39183e+05 Fmax= 1.07659e+03, atom= 72\n",
      "Step=  529, Dmax= 4.0e-03 nm, Epot= -1.39191e+05 Fmax= 2.63553e+03, atom= 72\n",
      "Step=  530, Dmax= 4.8e-03 nm, Epot= -1.39210e+05 Fmax= 1.80160e+03, atom= 72\n",
      "Step=  532, Dmax= 2.9e-03 nm, Epot= -1.39226e+05 Fmax= 8.27380e+02, atom= 72\n",
      "Step=  533, Dmax= 3.5e-03 nm, Epot= -1.39238e+05 Fmax= 2.32184e+03, atom= 72\n",
      "Step=  534, Dmax= 4.2e-03 nm, Epot= -1.39256e+05 Fmax= 1.46894e+03, atom= 72\n",
      "Step=  535, Dmax= 5.0e-03 nm, Epot= -1.39258e+05 Fmax= 3.06281e+03, atom= 72\n",
      "Step=  536, Dmax= 6.0e-03 nm, Epot= -1.39278e+05 Fmax= 2.40023e+03, atom= 72\n",
      "Step=  538, Dmax= 3.6e-03 nm, Epot= -1.39298e+05 Fmax= 9.27965e+02, atom= 72\n",
      "Step=  539, Dmax= 4.3e-03 nm, Epot= -1.39305e+05 Fmax= 3.07246e+03, atom= 72\n",
      "Step=  540, Dmax= 5.2e-03 nm, Epot= -1.39329e+05 Fmax= 1.70723e+03, atom= 72\n",
      "Step=  542, Dmax= 3.1e-03 nm, Epot= -1.39343e+05 Fmax= 1.12364e+03, atom= 72\n",
      "Step=  543, Dmax= 3.7e-03 nm, Epot= -1.39352e+05 Fmax= 2.26545e+03, atom= 72\n",
      "Step=  544, Dmax= 4.5e-03 nm, Epot= -1.39367e+05 Fmax= 1.81720e+03, atom= 72\n",
      "Step=  545, Dmax= 5.4e-03 nm, Epot= -1.39368e+05 Fmax= 3.06061e+03, atom= 72\n",
      "Step=  546, Dmax= 6.5e-03 nm, Epot= -1.39384e+05 Fmax= 2.82383e+03, atom= 72\n",
      "Step=  548, Dmax= 3.9e-03 nm, Epot= -1.39409e+05 Fmax= 7.64136e+02, atom= 72\n",
      "Step=  549, Dmax= 4.6e-03 nm, Epot= -1.39415e+05 Fmax= 3.54961e+03, atom= 72\n",
      "Step=  550, Dmax= 5.6e-03 nm, Epot= -1.39446e+05 Fmax= 1.60135e+03, atom= 72\n",
      "Step=  552, Dmax= 3.3e-03 nm, Epot= -1.39459e+05 Fmax= 1.44778e+03, atom= 72\n",
      "Step=  553, Dmax= 4.0e-03 nm, Epot= -1.39467e+05 Fmax= 2.20100e+03, atom= 72\n",
      "Step=  554, Dmax= 4.8e-03 nm, Epot= -1.39479e+05 Fmax= 2.19688e+03, atom= 72\n",
      "Step=  555, Dmax= 5.8e-03 nm, Epot= -1.39482e+05 Fmax= 3.05503e+03, atom= 72\n",
      "Step=  556, Dmax= 6.9e-03 nm, Epot= -1.39491e+05 Fmax= 3.28417e+03, atom= 72\n",
      "Step=  558, Dmax= 4.2e-03 nm, Epot= -1.39523e+05 Fmax= 5.85030e+02, atom= 72\n",
      "Step=  559, Dmax= 5.0e-03 nm, Epot= -1.39532e+05 Fmax= 4.06621e+03, atom= 72\n",
      "Step=  560, Dmax= 6.0e-03 nm, Epot= -1.39571e+05 Fmax= 1.48481e+03, atom= 72\n",
      "Step=  562, Dmax= 3.6e-03 nm, Epot= -1.39581e+05 Fmax= 1.79969e+03, atom= 72\n",
      "Step=  563, Dmax= 4.3e-03 nm, Epot= -1.39590e+05 Fmax= 2.12995e+03, atom= 72\n",
      "Step=  564, Dmax= 5.2e-03 nm, Epot= -1.39598e+05 Fmax= 2.60793e+03, atom= 72\n",
      "Step=  565, Dmax= 6.2e-03 nm, Epot= -1.39604e+05 Fmax= 3.04796e+03, atom= 72\n",
      "Step=  566, Dmax= 7.5e-03 nm, Epot= -1.39606e+05 Fmax= 3.78209e+03, atom= 72\n",
      "Step=  568, Dmax= 4.5e-03 nm, Epot= -1.39645e+05 Fmax= 3.91403e+02, atom= 72\n",
      "Step=  569, Dmax= 5.4e-03 nm, Epot= -1.39670e+05 Fmax= 4.62188e+03, atom= 72\n",
      "Step=  570, Dmax= 6.4e-03 nm, Epot= -1.39718e+05 Fmax= 1.35813e+03, atom= 72\n",
      "Step=  572, Dmax= 3.9e-03 nm, Epot= -1.39726e+05 Fmax= 2.17971e+03, atom= 72\n",
      "Step=  573, Dmax= 4.6e-03 nm, Epot= -1.39738e+05 Fmax= 2.05419e+03, atom= 72\n",
      "Step=  574, Dmax= 5.6e-03 nm, Epot= -1.39740e+05 Fmax= 3.05019e+03, atom= 72\n",
      "Step=  575, Dmax= 6.7e-03 nm, Epot= -1.39750e+05 Fmax= 3.04222e+03, atom= 72\n",
      "Step=  577, Dmax= 4.0e-03 nm, Epot= -1.39778e+05 Fmax= 5.54063e+02, atom= 72\n",
      "Step=  578, Dmax= 4.8e-03 nm, Epot= -1.39786e+05 Fmax= 3.75878e+03, atom= 72\n",
      "Step=  579, Dmax= 5.8e-03 nm, Epot= -1.39824e+05 Fmax= 1.44456e+03, atom= 72\n",
      "Step=  581, Dmax= 3.5e-03 nm, Epot= -1.39834e+05 Fmax= 1.72460e+03, atom= 72\n",
      "Step=  582, Dmax= 4.2e-03 nm, Epot= -1.39842e+05 Fmax= 2.08696e+03, atom= 72\n",
      "Step=  583, Dmax= 5.0e-03 nm, Epot= -1.39849e+05 Fmax= 2.46531e+03, atom= 72\n",
      "Step=  584, Dmax= 6.0e-03 nm, Epot= -1.39855e+05 Fmax= 3.02157e+03, atom= 72\n",
      "Step=  585, Dmax= 7.2e-03 nm, Epot= -1.39857e+05 Fmax= 3.51831e+03, atom= 72\n",
      "Step=  587, Dmax= 4.3e-03 nm, Epot= -1.39893e+05 Fmax= 3.38337e+02, atom= 75\n",
      "Step=  588, Dmax= 5.2e-03 nm, Epot= -1.39918e+05 Fmax= 4.31176e+03, atom= 75\n",
      "Step=  589, Dmax= 6.2e-03 nm, Epot= -1.39970e+05 Fmax= 1.27675e+03, atom= 75\n",
      "Step=  591, Dmax= 3.7e-03 nm, Epot= -1.39976e+05 Fmax= 2.12598e+03, atom= 75\n",
      "Step=  592, Dmax= 4.5e-03 nm, Epot= -1.39988e+05 Fmax= 1.96109e+03, atom= 75\n",
      "Step=  593, Dmax= 5.4e-03 nm, Epot= -1.39989e+05 Fmax= 2.92737e+03, atom= 75\n",
      "Step=  594, Dmax= 6.4e-03 nm, Epot= -1.39999e+05 Fmax= 2.95155e+03, atom= 75\n",
      "Step=  596, Dmax= 3.9e-03 nm, Epot= -1.40026e+05 Fmax= 6.24316e+02, atom= 75\n",
      "Step=  597, Dmax= 4.6e-03 nm, Epot= -1.40030e+05 Fmax= 3.67072e+03, atom= 72\n",
      "Step=  598, Dmax= 5.6e-03 nm, Epot= -1.40063e+05 Fmax= 1.46594e+03, atom= 72\n",
      "Step=  600, Dmax= 3.3e-03 nm, Epot= -1.40073e+05 Fmax= 1.57771e+03, atom= 72\n",
      "Step=  601, Dmax= 4.0e-03 nm, Epot= -1.40080e+05 Fmax= 2.06575e+03, atom= 75\n",
      "Step=  602, Dmax= 4.8e-03 nm, Epot= -1.40088e+05 Fmax= 2.32036e+03, atom= 75\n",
      "Step=  603, Dmax= 5.8e-03 nm, Epot= -1.40091e+05 Fmax= 2.92804e+03, atom= 75\n",
      "Step=  604, Dmax= 6.9e-03 nm, Epot= -1.40096e+05 Fmax= 3.39267e+03, atom= 75\n",
      "Step=  606, Dmax= 4.1e-03 nm, Epot= -1.40128e+05 Fmax= 4.65063e+02, atom= 72\n",
      "Step=  607, Dmax= 5.0e-03 nm, Epot= -1.40138e+05 Fmax= 4.17753e+03, atom= 72\n",
      "Step=  608, Dmax= 6.0e-03 nm, Epot= -1.40180e+05 Fmax= 1.35617e+03, atom= 72\n",
      "Step=  610, Dmax= 3.6e-03 nm, Epot= -1.40187e+05 Fmax= 1.92171e+03, atom= 72\n",
      "Step=  611, Dmax= 4.3e-03 nm, Epot= -1.40196e+05 Fmax= 1.99799e+03, atom= 72\n",
      "Step=  612, Dmax= 5.2e-03 nm, Epot= -1.40200e+05 Fmax= 2.73034e+03, atom= 72\n",
      "Step=  613, Dmax= 6.2e-03 nm, Epot= -1.40206e+05 Fmax= 2.91172e+03, atom= 72\n",
      "Step=  615, Dmax= 3.7e-03 nm, Epot= -1.40232e+05 Fmax= 4.25695e+02, atom= 75\n",
      "Step=  616, Dmax= 4.5e-03 nm, Epot= -1.40246e+05 Fmax= 3.59310e+03, atom= 75\n",
      "Step=  617, Dmax= 5.4e-03 nm, Epot= -1.40282e+05 Fmax= 1.23729e+03, atom= 75\n",
      "Step=  619, Dmax= 3.2e-03 nm, Epot= -1.40290e+05 Fmax= 1.70078e+03, atom= 75\n",
      "Step=  620, Dmax= 3.9e-03 nm, Epot= -1.40298e+05 Fmax= 1.82629e+03, atom= 75\n",
      "Step=  621, Dmax= 4.6e-03 nm, Epot= -1.40303e+05 Fmax= 2.39669e+03, atom= 75\n",
      "Step=  622, Dmax= 5.5e-03 nm, Epot= -1.40310e+05 Fmax= 2.67985e+03, atom= 75\n",
      "Step=  624, Dmax= 3.3e-03 nm, Epot= -1.40333e+05 Fmax= 4.04673e+02, atom= 72\n",
      "Step=  625, Dmax= 4.0e-03 nm, Epot= -1.40350e+05 Fmax= 3.30644e+03, atom= 72\n",
      "Step=  626, Dmax= 4.8e-03 nm, Epot= -1.40379e+05 Fmax= 1.12117e+03, atom= 72\n",
      "Step=  628, Dmax= 2.9e-03 nm, Epot= -1.40388e+05 Fmax= 1.50834e+03, atom= 72\n",
      "Step=  629, Dmax= 3.5e-03 nm, Epot= -1.40396e+05 Fmax= 1.63738e+03, atom= 72\n",
      "Step=  630, Dmax= 4.1e-03 nm, Epot= -1.40402e+05 Fmax= 2.15453e+03, atom= 72\n",
      "Step=  631, Dmax= 5.0e-03 nm, Epot= -1.40409e+05 Fmax= 2.37472e+03, atom= 72\n",
      "Step=  632, Dmax= 6.0e-03 nm, Epot= -1.40411e+05 Fmax= 3.09116e+03, atom= 72\n",
      "Step=  633, Dmax= 7.2e-03 nm, Epot= -1.40414e+05 Fmax= 3.42314e+03, atom= 72\n",
      "Step=  635, Dmax= 4.3e-03 nm, Epot= -1.40448e+05 Fmax= 4.28435e+02, atom= 75\n",
      "Step=  636, Dmax= 5.2e-03 nm, Epot= -1.40453e+05 Fmax= 4.21180e+03, atom= 75\n",
      "Step=  637, Dmax= 6.2e-03 nm, Epot= -1.40501e+05 Fmax= 1.36118e+03, atom= 75\n",
      "Step=  639, Dmax= 3.7e-03 nm, Epot= -1.40506e+05 Fmax= 2.03379e+03, atom= 75\n",
      "Step=  640, Dmax= 4.5e-03 nm, Epot= -1.40515e+05 Fmax= 2.03964e+03, atom= 75\n",
      "Step=  641, Dmax= 5.3e-03 nm, Epot= -1.40516e+05 Fmax= 2.83801e+03, atom= 75\n",
      "Step=  642, Dmax= 6.4e-03 nm, Epot= -1.40523e+05 Fmax= 3.02300e+03, atom= 75\n",
      "Step=  644, Dmax= 3.8e-03 nm, Epot= -1.40550e+05 Fmax= 5.39097e+02, atom= 75\n",
      "Step=  645, Dmax= 4.6e-03 nm, Epot= -1.40554e+05 Fmax= 3.73473e+03, atom= 75\n",
      "Step=  646, Dmax= 5.5e-03 nm, Epot= -1.40587e+05 Fmax= 1.38616e+03, atom= 75\n",
      "Step=  648, Dmax= 3.3e-03 nm, Epot= -1.40595e+05 Fmax= 1.64710e+03, atom= 75\n",
      "Step=  649, Dmax= 4.0e-03 nm, Epot= -1.40602e+05 Fmax= 1.99033e+03, atom= 75\n",
      "Step=  650, Dmax= 4.8e-03 nm, Epot= -1.40608e+05 Fmax= 2.38198e+03, atom= 75\n",
      "Step=  651, Dmax= 5.7e-03 nm, Epot= -1.40611e+05 Fmax= 2.85376e+03, atom= 75\n",
      "Step=  652, Dmax= 6.9e-03 nm, Epot= -1.40613e+05 Fmax= 3.44708e+03, atom= 75\n",
      "Step=  654, Dmax= 4.1e-03 nm, Epot= -1.40645e+05 Fmax= 3.94631e+02, atom= 72\n",
      "Step=  655, Dmax= 5.0e-03 nm, Epot= -1.40656e+05 Fmax= 4.23650e+03, atom= 72\n",
      "Step=  656, Dmax= 6.0e-03 nm, Epot= -1.40698e+05 Fmax= 1.27805e+03, atom= 72\n",
      "Step=  658, Dmax= 3.6e-03 nm, Epot= -1.40704e+05 Fmax= 1.99159e+03, atom= 72\n",
      "Step=  659, Dmax= 4.3e-03 nm, Epot= -1.40712e+05 Fmax= 1.91694e+03, atom= 72\n",
      "Step=  660, Dmax= 5.1e-03 nm, Epot= -1.40713e+05 Fmax= 2.79902e+03, atom= 72\n",
      "Step=  661, Dmax= 6.2e-03 nm, Epot= -1.40721e+05 Fmax= 2.82701e+03, atom= 72\n",
      "Step=  663, Dmax= 3.7e-03 nm, Epot= -1.40745e+05 Fmax= 5.03225e+02, atom= 75\n",
      "Step=  664, Dmax= 4.4e-03 nm, Epot= -1.40749e+05 Fmax= 3.50372e+03, atom= 75\n",
      "Step=  665, Dmax= 5.3e-03 nm, Epot= -1.40782e+05 Fmax= 1.31155e+03, atom= 75\n",
      "Step=  667, Dmax= 3.2e-03 nm, Epot= -1.40789e+05 Fmax= 1.61740e+03, atom= 75\n",
      "Step=  668, Dmax= 3.8e-03 nm, Epot= -1.40796e+05 Fmax= 1.89836e+03, atom= 75\n",
      "Step=  669, Dmax= 4.6e-03 nm, Epot= -1.40800e+05 Fmax= 2.31259e+03, atom= 75\n",
      "Step=  670, Dmax= 5.5e-03 nm, Epot= -1.40805e+05 Fmax= 2.74848e+03, atom= 75\n",
      "Step=  671, Dmax= 6.6e-03 nm, Epot= -1.40805e+05 Fmax= 3.30466e+03, atom= 75\n",
      "Step=  673, Dmax= 4.0e-03 nm, Epot= -1.40837e+05 Fmax= 2.74694e+02, atom= 75\n",
      "Step=  674, Dmax= 4.8e-03 nm, Epot= -1.40861e+05 Fmax= 4.05028e+03, atom= 75\n",
      "Step=  675, Dmax= 5.7e-03 nm, Epot= -1.40906e+05 Fmax= 1.12591e+03, atom= 75\n",
      "Step=  677, Dmax= 3.4e-03 nm, Epot= -1.40910e+05 Fmax= 2.02653e+03, atom= 75\n",
      "Step=  678, Dmax= 4.1e-03 nm, Epot= -1.40920e+05 Fmax= 1.74613e+03, atom= 75\n",
      "Step=  680, Dmax= 2.5e-03 nm, Epot= -1.40933e+05 Fmax= 5.35015e+02, atom= 75\n",
      "Step=  681, Dmax= 3.0e-03 nm, Epot= -1.40943e+05 Fmax= 2.19063e+03, atom= 75\n",
      "Step=  682, Dmax= 3.6e-03 nm, Epot= -1.40957e+05 Fmax= 1.08968e+03, atom= 75\n",
      "Step=  684, Dmax= 2.1e-03 nm, Epot= -1.40966e+05 Fmax= 8.60195e+02, atom= 75\n",
      "Step=  685, Dmax= 2.6e-03 nm, Epot= -1.40973e+05 Fmax= 1.48678e+03, atom= 75\n",
      "Step=  686, Dmax= 3.1e-03 nm, Epot= -1.40982e+05 Fmax= 1.32240e+03, atom= 75\n",
      "Step=  687, Dmax= 3.7e-03 nm, Epot= -1.40986e+05 Fmax= 2.05418e+03, atom= 75\n",
      "Step=  688, Dmax= 4.4e-03 nm, Epot= -1.40995e+05 Fmax= 1.99347e+03, atom= 75\n",
      "Step=  690, Dmax= 2.7e-03 nm, Epot= -1.41009e+05 Fmax= 4.58102e+02, atom= 75\n",
      "Step=  691, Dmax= 3.2e-03 nm, Epot= -1.41021e+05 Fmax= 2.47467e+03, atom= 75\n",
      "Step=  692, Dmax= 3.8e-03 nm, Epot= -1.41039e+05 Fmax= 1.05477e+03, atom= 75\n",
      "Step=  694, Dmax= 2.3e-03 nm, Epot= -1.41047e+05 Fmax= 1.04222e+03, atom= 75\n",
      "Step=  695, Dmax= 2.8e-03 nm, Epot= -1.41053e+05 Fmax= 1.48019e+03, atom= 75\n",
      "Step=  696, Dmax= 3.3e-03 nm, Epot= -1.41061e+05 Fmax= 1.54160e+03, atom= 75\n",
      "Step=  697, Dmax= 4.0e-03 nm, Epot= -1.41065e+05 Fmax= 2.08830e+03, atom= 75\n",
      "Step=  698, Dmax= 4.8e-03 nm, Epot= -1.41072e+05 Fmax= 2.26609e+03, atom= 75\n",
      "Step=  700, Dmax= 2.9e-03 nm, Epot= -1.41089e+05 Fmax= 3.73081e+02, atom= 75\n",
      "Step=  701, Dmax= 3.4e-03 nm, Epot= -1.41104e+05 Fmax= 2.78581e+03, atom= 75\n",
      "Step=  702, Dmax= 4.1e-03 nm, Epot= -1.41125e+05 Fmax= 1.01448e+03, atom= 75\n",
      "Step=  704, Dmax= 2.5e-03 nm, Epot= -1.41133e+05 Fmax= 1.24101e+03, atom= 75\n",
      "Step=  705, Dmax= 3.0e-03 nm, Epot= -1.41140e+05 Fmax= 1.47053e+03, atom= 75\n",
      "Step=  706, Dmax= 3.6e-03 nm, Epot= -1.41146e+05 Fmax= 1.78070e+03, atom= 75\n",
      "Step=  707, Dmax= 4.3e-03 nm, Epot= -1.41151e+05 Fmax= 2.12199e+03, atom= 75\n",
      "Step=  708, Dmax= 5.1e-03 nm, Epot= -1.41155e+05 Fmax= 2.56342e+03, atom= 75\n",
      "Step=  709, Dmax= 6.2e-03 nm, Epot= -1.41156e+05 Fmax= 3.05116e+03, atom= 75\n",
      "Step=  711, Dmax= 3.7e-03 nm, Epot= -1.41183e+05 Fmax= 2.75611e+02, atom= 75\n",
      "Step=  712, Dmax= 4.4e-03 nm, Epot= -1.41205e+05 Fmax= 3.74787e+03, atom= 75\n",
      "Step=  713, Dmax= 5.3e-03 nm, Epot= -1.41243e+05 Fmax= 1.05961e+03, atom= 75\n",
      "Step=  715, Dmax= 3.2e-03 nm, Epot= -1.41247e+05 Fmax= 1.86631e+03, atom= 75\n",
      "Step=  716, Dmax= 3.8e-03 nm, Epot= -1.41256e+05 Fmax= 1.63082e+03, atom= 75\n",
      "Step=  717, Dmax= 4.6e-03 nm, Epot= -1.41256e+05 Fmax= 2.56826e+03, atom= 75\n",
      "Step=  718, Dmax= 5.5e-03 nm, Epot= -1.41266e+05 Fmax= 2.46321e+03, atom= 75\n",
      "Step=  720, Dmax= 3.3e-03 nm, Epot= -1.41285e+05 Fmax= 5.84123e+02, atom= 75\n",
      "Step=  721, Dmax= 4.0e-03 nm, Epot= -1.41286e+05 Fmax= 3.06346e+03, atom= 75\n",
      "Step=  722, Dmax= 4.8e-03 nm, Epot= -1.41310e+05 Fmax= 1.32270e+03, atom= 75\n",
      "Step=  724, Dmax= 2.9e-03 nm, Epot= -1.41317e+05 Fmax= 1.28184e+03, atom= 75\n",
      "Step=  725, Dmax= 3.4e-03 nm, Epot= -1.41322e+05 Fmax= 1.84974e+03, atom= 75\n",
      "Step=  726, Dmax= 4.1e-03 nm, Epot= -1.41329e+05 Fmax= 1.90271e+03, atom= 75\n",
      "Step=  727, Dmax= 4.9e-03 nm, Epot= -1.41330e+05 Fmax= 2.60396e+03, atom= 75\n",
      "Step=  728, Dmax= 5.9e-03 nm, Epot= -1.41336e+05 Fmax= 2.80294e+03, atom= 75\n",
      "Step=  730, Dmax= 3.6e-03 nm, Epot= -1.41358e+05 Fmax= 4.75730e+02, atom= 75\n",
      "Step=  731, Dmax= 4.3e-03 nm, Epot= -1.41361e+05 Fmax= 3.45688e+03, atom= 75\n",
      "Step=  732, Dmax= 5.1e-03 nm, Epot= -1.41391e+05 Fmax= 1.26767e+03, atom= 75\n",
      "Step=  734, Dmax= 3.1e-03 nm, Epot= -1.41397e+05 Fmax= 1.53378e+03, atom= 75\n",
      "Step=  735, Dmax= 3.7e-03 nm, Epot= -1.41403e+05 Fmax= 1.83244e+03, atom= 75\n",
      "Step=  736, Dmax= 4.4e-03 nm, Epot= -1.41407e+05 Fmax= 2.20537e+03, atom= 75\n",
      "Step=  737, Dmax= 5.3e-03 nm, Epot= -1.41410e+05 Fmax= 2.63962e+03, atom= 75\n",
      "Step=  738, Dmax= 6.4e-03 nm, Epot= -1.41411e+05 Fmax= 3.17897e+03, atom= 75\n",
      "Step=  740, Dmax= 3.8e-03 nm, Epot= -1.41439e+05 Fmax= 3.55248e+02, atom= 75\n",
      "Step=  741, Dmax= 4.6e-03 nm, Epot= -1.41447e+05 Fmax= 3.89043e+03, atom= 75\n",
      "Step=  742, Dmax= 5.5e-03 nm, Epot= -1.41484e+05 Fmax= 1.20394e+03, atom= 75\n",
      "Step=  744, Dmax= 3.3e-03 nm, Epot= -1.41488e+05 Fmax= 1.80947e+03, atom= 75\n",
      "Step=  745, Dmax= 4.0e-03 nm, Epot= -1.41495e+05 Fmax= 1.80933e+03, atom= 75\n",
      "Step=  746, Dmax= 4.8e-03 nm, Epot= -1.41497e+05 Fmax= 2.53742e+03, atom= 75\n",
      "Step=  747, Dmax= 5.7e-03 nm, Epot= -1.41502e+05 Fmax= 2.67175e+03, atom= 75\n",
      "Step=  749, Dmax= 3.4e-03 nm, Epot= -1.41523e+05 Fmax= 4.15251e+02, atom= 75\n",
      "Step=  750, Dmax= 4.1e-03 nm, Epot= -1.41529e+05 Fmax= 3.30423e+03, atom= 75\n",
      "Step=  751, Dmax= 4.9e-03 nm, Epot= -1.41558e+05 Fmax= 1.15244e+03, atom= 75\n",
      "Step=  753, Dmax= 3.0e-03 nm, Epot= -1.41563e+05 Fmax= 1.55561e+03, atom= 75\n",
      "Step=  754, Dmax= 3.5e-03 nm, Epot= -1.41570e+05 Fmax= 1.68819e+03, atom= 75\n",
      "Step=  755, Dmax= 4.3e-03 nm, Epot= -1.41573e+05 Fmax= 2.20494e+03, atom= 75\n",
      "Step=  756, Dmax= 5.1e-03 nm, Epot= -1.41578e+05 Fmax= 2.46523e+03, atom= 75\n",
      "Step=  758, Dmax= 3.1e-03 nm, Epot= -1.41596e+05 Fmax= 3.65730e+02, atom= 75\n",
      "Step=  759, Dmax= 3.7e-03 nm, Epot= -1.41608e+05 Fmax= 3.02136e+03, atom= 75\n",
      "Step=  760, Dmax= 4.4e-03 nm, Epot= -1.41631e+05 Fmax= 1.05207e+03, atom= 75\n",
      "Step=  762, Dmax= 2.6e-03 nm, Epot= -1.41637e+05 Fmax= 1.36411e+03, atom= 75\n",
      "Step=  763, Dmax= 3.2e-03 nm, Epot= -1.41644e+05 Fmax= 1.54018e+03, atom= 75\n",
      "Step=  764, Dmax= 3.8e-03 nm, Epot= -1.41648e+05 Fmax= 1.94328e+03, atom= 75\n",
      "Step=  765, Dmax= 4.6e-03 nm, Epot= -1.41652e+05 Fmax= 2.23689e+03, atom= 75\n",
      "Step=  766, Dmax= 5.5e-03 nm, Epot= -1.41655e+05 Fmax= 2.78324e+03, atom= 75\n",
      "Step=  768, Dmax= 3.3e-03 nm, Epot= -1.41677e+05 Fmax= 2.65112e+02, atom= 75\n",
      "Step=  769, Dmax= 4.0e-03 nm, Epot= -1.41697e+05 Fmax= 3.41474e+03, atom= 72\n",
      "Step=  770, Dmax= 4.7e-03 nm, Epot= -1.41726e+05 Fmax= 9.68506e+02, atom= 75\n",
      "Step=  772, Dmax= 2.8e-03 nm, Epot= -1.41731e+05 Fmax= 1.63621e+03, atom= 72\n",
      "Step=  773, Dmax= 3.4e-03 nm, Epot= -1.41739e+05 Fmax= 1.48249e+03, atom= 75\n",
      "Step=  774, Dmax= 4.1e-03 nm, Epot= -1.41741e+05 Fmax= 2.27355e+03, atom= 72\n",
      "Step=  775, Dmax= 4.9e-03 nm, Epot= -1.41748e+05 Fmax= 2.21864e+03, atom= 75\n",
      "Step=  777, Dmax= 3.0e-03 nm, Epot= -1.41763e+05 Fmax= 4.48054e+02, atom= 75\n",
      "Step=  778, Dmax= 3.5e-03 nm, Epot= -1.41770e+05 Fmax= 2.76347e+03, atom= 75\n",
      "Step=  779, Dmax= 4.3e-03 nm, Epot= -1.41790e+05 Fmax= 1.08427e+03, atom= 75\n",
      "Step=  781, Dmax= 2.6e-03 nm, Epot= -1.41797e+05 Fmax= 1.25172e+03, atom= 75\n",
      "Step=  782, Dmax= 3.1e-03 nm, Epot= -1.41803e+05 Fmax= 1.54705e+03, atom= 75\n",
      "Step=  783, Dmax= 3.7e-03 nm, Epot= -1.41808e+05 Fmax= 1.81251e+03, atom= 75\n",
      "Step=  784, Dmax= 4.4e-03 nm, Epot= -1.41811e+05 Fmax= 2.21809e+03, atom= 75\n",
      "Step=  785, Dmax= 5.3e-03 nm, Epot= -1.41814e+05 Fmax= 2.61264e+03, atom= 75\n",
      "Step=  787, Dmax= 3.2e-03 nm, Epot= -1.41834e+05 Fmax= 2.51497e+02, atom= 75\n",
      "Step=  788, Dmax= 3.8e-03 nm, Epot= -1.41854e+05 Fmax= 3.21115e+03, atom= 75\n",
      "Step=  789, Dmax= 4.6e-03 nm, Epot= -1.41883e+05 Fmax= 9.22237e+02, atom= 75\n",
      "Step=  791, Dmax= 2.7e-03 nm, Epot= -1.41888e+05 Fmax= 1.59064e+03, atom= 75\n",
      "Step=  792, Dmax= 3.3e-03 nm, Epot= -1.41896e+05 Fmax= 1.41400e+03, atom= 75\n",
      "Step=  793, Dmax= 3.9e-03 nm, Epot= -1.41897e+05 Fmax= 2.19488e+03, atom= 75\n",
      "Step=  794, Dmax= 4.7e-03 nm, Epot= -1.41904e+05 Fmax= 2.12965e+03, atom= 75\n",
      "Step=  796, Dmax= 2.8e-03 nm, Epot= -1.41919e+05 Fmax= 4.89299e+02, atom= 75\n",
      "Step=  797, Dmax= 3.4e-03 nm, Epot= -1.41924e+05 Fmax= 2.64256e+03, atom= 75\n",
      "Step=  798, Dmax= 4.1e-03 nm, Epot= -1.41942e+05 Fmax= 1.12627e+03, atom= 75\n",
      "Step=  800, Dmax= 2.5e-03 nm, Epot= -1.41949e+05 Fmax= 1.11211e+03, atom= 75\n",
      "Step=  801, Dmax= 2.9e-03 nm, Epot= -1.41954e+05 Fmax= 1.58060e+03, atom= 75\n",
      "Step=  802, Dmax= 3.5e-03 nm, Epot= -1.41960e+05 Fmax= 1.64478e+03, atom= 75\n",
      "Step=  803, Dmax= 4.2e-03 nm, Epot= -1.41962e+05 Fmax= 2.22996e+03, atom= 75\n",
      "Step=  804, Dmax= 5.1e-03 nm, Epot= -1.41967e+05 Fmax= 2.41773e+03, atom= 75\n",
      "Step=  806, Dmax= 3.1e-03 nm, Epot= -1.41985e+05 Fmax= 3.99976e+02, atom= 75\n",
      "Step=  807, Dmax= 3.7e-03 nm, Epot= -1.41991e+05 Fmax= 2.97344e+03, atom= 75\n",
      "Step=  808, Dmax= 4.4e-03 nm, Epot= -1.42014e+05 Fmax= 1.08476e+03, atom= 75\n",
      "Step=  810, Dmax= 2.6e-03 nm, Epot= -1.42020e+05 Fmax= 1.32266e+03, atom= 75\n",
      "Step=  811, Dmax= 3.2e-03 nm, Epot= -1.42025e+05 Fmax= 1.57184e+03, atom= 75\n",
      "Step=  812, Dmax= 3.8e-03 nm, Epot= -1.42029e+05 Fmax= 1.89830e+03, atom= 75\n",
      "Step=  813, Dmax= 4.6e-03 nm, Epot= -1.42033e+05 Fmax= 2.26752e+03, atom= 75\n",
      "Step=  814, Dmax= 5.5e-03 nm, Epot= -1.42034e+05 Fmax= 2.73336e+03, atom= 75\n",
      "Step=  816, Dmax= 3.3e-03 nm, Epot= -1.42056e+05 Fmax= 3.02402e+02, atom= 75\n",
      "Step=  817, Dmax= 3.9e-03 nm, Epot= -1.42068e+05 Fmax= 3.34043e+03, atom= 72\n",
      "Step=  818, Dmax= 4.7e-03 nm, Epot= -1.42096e+05 Fmax= 1.03020e+03, atom= 75\n",
      "Step=  820, Dmax= 2.8e-03 nm, Epot= -1.42100e+05 Fmax= 1.55904e+03, atom= 75\n",
      "Step=  821, Dmax= 3.4e-03 nm, Epot= -1.42107e+05 Fmax= 1.55273e+03, atom= 75\n",
      "Step=  822, Dmax= 4.1e-03 nm, Epot= -1.42109e+05 Fmax= 2.18195e+03, atom= 75\n",
      "Step=  823, Dmax= 4.9e-03 nm, Epot= -1.42114e+05 Fmax= 2.29740e+03, atom= 75\n",
      "Step=  825, Dmax= 2.9e-03 nm, Epot= -1.42130e+05 Fmax= 3.59374e+02, atom= 75\n",
      "Step=  826, Dmax= 3.5e-03 nm, Epot= -1.42138e+05 Fmax= 2.84606e+03, atom= 75\n",
      "Step=  827, Dmax= 4.2e-03 nm, Epot= -1.42161e+05 Fmax= 9.88054e+02, atom= 75\n",
      "Step=  829, Dmax= 2.5e-03 nm, Epot= -1.42166e+05 Fmax= 1.34009e+03, atom= 75\n",
      "Step=  830, Dmax= 3.1e-03 nm, Epot= -1.42172e+05 Fmax= 1.44679e+03, atom= 75\n",
      "Step=  831, Dmax= 3.7e-03 nm, Epot= -1.42175e+05 Fmax= 1.90039e+03, atom= 75\n",
      "Step=  832, Dmax= 4.4e-03 nm, Epot= -1.42180e+05 Fmax= 2.11265e+03, atom= 75\n",
      "Step=  834, Dmax= 2.6e-03 nm, Epot= -1.42194e+05 Fmax= 3.19011e+02, atom= 75\n",
      "Step=  835, Dmax= 3.2e-03 nm, Epot= -1.42207e+05 Fmax= 2.58427e+03, atom= 75\n",
      "Step=  836, Dmax= 3.8e-03 nm, Epot= -1.42225e+05 Fmax= 9.13807e+02, atom= 75\n",
      "Step=  838, Dmax= 2.3e-03 nm, Epot= -1.42231e+05 Fmax= 1.16200e+03, atom= 75\n",
      "Step=  839, Dmax= 2.7e-03 nm, Epot= -1.42236e+05 Fmax= 1.33557e+03, atom= 75\n",
      "Step=  840, Dmax= 3.3e-03 nm, Epot= -1.42241e+05 Fmax= 1.65731e+03, atom= 75\n",
      "Step=  841, Dmax= 3.9e-03 nm, Epot= -1.42245e+05 Fmax= 1.93698e+03, atom= 75\n",
      "Step=  842, Dmax= 4.7e-03 nm, Epot= -1.42247e+05 Fmax= 2.37649e+03, atom= 75\n",
      "Step=  843, Dmax= 5.7e-03 nm, Epot= -1.42248e+05 Fmax= 2.79439e+03, atom= 75\n",
      "Step=  845, Dmax= 3.4e-03 nm, Epot= -1.42271e+05 Fmax= 2.70339e+02, atom= 75\n",
      "Step=  846, Dmax= 4.1e-03 nm, Epot= -1.42283e+05 Fmax= 3.43614e+03, atom= 75\n",
      "Step=  847, Dmax= 4.9e-03 nm, Epot= -1.42315e+05 Fmax= 9.90767e+02, atom= 75\n",
      "Step=  849, Dmax= 2.9e-03 nm, Epot= -1.42318e+05 Fmax= 1.70143e+03, atom= 75\n",
      "Step=  850, Dmax= 3.5e-03 nm, Epot= -1.42325e+05 Fmax= 1.51786e+03, atom= 75\n",
      "Step=  852, Dmax= 2.1e-03 nm, Epot= -1.42335e+05 Fmax= 4.27989e+02, atom= 75\n",
      "Step=  853, Dmax= 2.5e-03 nm, Epot= -1.42343e+05 Fmax= 1.89336e+03, atom= 75\n",
      "Step=  854, Dmax= 3.0e-03 nm, Epot= -1.42354e+05 Fmax= 9.05674e+02, atom= 75\n",
      "Step=  856, Dmax= 1.8e-03 nm, Epot= -1.42360e+05 Fmax= 7.58651e+02, atom= 75\n",
      "Step=  857, Dmax= 2.2e-03 nm, Epot= -1.42366e+05 Fmax= 1.24738e+03, atom= 75\n",
      "Step=  858, Dmax= 2.6e-03 nm, Epot= -1.42372e+05 Fmax= 1.15056e+03, atom= 75\n",
      "Step=  859, Dmax= 3.2e-03 nm, Epot= -1.42375e+05 Fmax= 1.73508e+03, atom= 75\n",
      "Step=  860, Dmax= 3.8e-03 nm, Epot= -1.42382e+05 Fmax= 1.72030e+03, atom= 75\n",
      "Step=  862, Dmax= 2.3e-03 nm, Epot= -1.42392e+05 Fmax= 3.70858e+02, atom= 75\n",
      "Step=  863, Dmax= 2.7e-03 nm, Epot= -1.42402e+05 Fmax= 2.12553e+03, atom= 75\n",
      "Step=  864, Dmax= 3.3e-03 nm, Epot= -1.42414e+05 Fmax= 8.85291e+02, atom= 75\n",
      "Step=  866, Dmax= 2.0e-03 nm, Epot= -1.42421e+05 Fmax= 9.04183e+02, atom= 75\n",
      "Step=  867, Dmax= 2.4e-03 nm, Epot= -1.42426e+05 Fmax= 1.25155e+03, atom= 75\n",
      "Step=  868, Dmax= 2.8e-03 nm, Epot= -1.42432e+05 Fmax= 1.32723e+03, atom= 75\n",
      "Step=  869, Dmax= 3.4e-03 nm, Epot= -1.42435e+05 Fmax= 1.77443e+03, atom= 75\n",
      "Step=  870, Dmax= 4.1e-03 nm, Epot= -1.42440e+05 Fmax= 1.94200e+03, atom= 75\n",
      "Step=  871, Dmax= 4.9e-03 nm, Epot= -1.42440e+05 Fmax= 2.52027e+03, atom= 75\n",
      "Step=  872, Dmax= 5.9e-03 nm, Epot= -1.42442e+05 Fmax= 2.83428e+03, atom= 75\n",
      "Step=  874, Dmax= 3.5e-03 nm, Epot= -1.42465e+05 Fmax= 4.14768e+02, atom= 75\n",
      "Step=  876, Dmax= 2.1e-03 nm, Epot= -1.42473e+05 Fmax= 1.51699e+03, atom= 75\n",
      "Step=  877, Dmax= 2.5e-03 nm, Epot= -1.42482e+05 Fmax= 8.08377e+02, atom= 75\n",
      "Step=  878, Dmax= 3.0e-03 nm, Epot= -1.42484e+05 Fmax= 1.97317e+03, atom= 75\n",
      "Step=  879, Dmax= 3.6e-03 nm, Epot= -1.42494e+05 Fmax= 1.37115e+03, atom= 75\n",
      "Step=  881, Dmax= 2.2e-03 nm, Epot= -1.42502e+05 Fmax= 6.17809e+02, atom= 75\n",
      "Step=  882, Dmax= 2.6e-03 nm, Epot= -1.42506e+05 Fmax= 1.77725e+03, atom= 75\n",
      "Step=  883, Dmax= 3.2e-03 nm, Epot= -1.42516e+05 Fmax= 1.08877e+03, atom= 75\n",
      "Step=  885, Dmax= 1.9e-03 nm, Epot= -1.42522e+05 Fmax= 6.46271e+02, atom= 75\n",
      "Step=  886, Dmax= 2.3e-03 nm, Epot= -1.42528e+05 Fmax= 1.42796e+03, atom= 75\n",
      "Step=  887, Dmax= 2.7e-03 nm, Epot= -1.42535e+05 Fmax= 1.06934e+03, atom= 75\n",
      "Step=  888, Dmax= 3.3e-03 nm, Epot= -1.42537e+05 Fmax= 1.92061e+03, atom= 75\n",
      "Step=  889, Dmax= 3.9e-03 nm, Epot= -1.42544e+05 Fmax= 1.67183e+03, atom= 75\n",
      "Step=  891, Dmax= 2.4e-03 nm, Epot= -1.42554e+05 Fmax= 4.63625e+02, atom= 75\n",
      "Step=  892, Dmax= 2.8e-03 nm, Epot= -1.42560e+05 Fmax= 2.10995e+03, atom= 75\n",
      "Step=  893, Dmax= 3.4e-03 nm, Epot= -1.42573e+05 Fmax= 9.66803e+02, atom= 75\n",
      "Step=  895, Dmax= 2.0e-03 nm, Epot= -1.42579e+05 Fmax= 8.96698e+02, atom= 75\n",
      "Step=  896, Dmax= 2.4e-03 nm, Epot= -1.42584e+05 Fmax= 1.33180e+03, atom= 75\n",
      "Step=  897, Dmax= 2.9e-03 nm, Epot= -1.42589e+05 Fmax= 1.34936e+03, atom= 75\n",
      "Step=  898, Dmax= 3.5e-03 nm, Epot= -1.42592e+05 Fmax= 1.86155e+03, atom= 75\n",
      "Step=  899, Dmax= 4.2e-03 nm, Epot= -1.42597e+05 Fmax= 1.99529e+03, atom= 75\n",
      "Step=  901, Dmax= 2.5e-03 nm, Epot= -1.42609e+05 Fmax= 2.97443e+02, atom= 75\n",
      "Step=  902, Dmax= 3.0e-03 nm, Epot= -1.42621e+05 Fmax= 2.47183e+03, atom= 75\n",
      "Step=  903, Dmax= 3.6e-03 nm, Epot= -1.42638e+05 Fmax= 8.31897e+02, atom= 75\n",
      "Step=  905, Dmax= 2.2e-03 nm, Epot= -1.42644e+05 Fmax= 1.17080e+03, atom= 75\n",
      "Step=  906, Dmax= 2.6e-03 nm, Epot= -1.42649e+05 Fmax= 1.22279e+03, atom= 75\n",
      "Step=  907, Dmax= 3.1e-03 nm, Epot= -1.42652e+05 Fmax= 1.65701e+03, atom= 75\n",
      "Step=  908, Dmax= 3.8e-03 nm, Epot= -1.42657e+05 Fmax= 1.79056e+03, atom= 75\n",
      "Step=  909, Dmax= 4.5e-03 nm, Epot= -1.42658e+05 Fmax= 2.35123e+03, atom= 75\n",
      "Step=  910, Dmax= 5.4e-03 nm, Epot= -1.42661e+05 Fmax= 2.61454e+03, atom= 75\n",
      "Step=  912, Dmax= 3.3e-03 nm, Epot= -1.42680e+05 Fmax= 3.93249e+02, atom= 75\n",
      "Step=  913, Dmax= 3.9e-03 nm, Epot= -1.42681e+05 Fmax= 3.20777e+03, atom= 75\n",
      "Step=  914, Dmax= 4.7e-03 nm, Epot= -1.42707e+05 Fmax= 1.12488e+03, atom= 75\n",
      "Step=  916, Dmax= 2.8e-03 nm, Epot= -1.42711e+05 Fmax= 1.44548e+03, atom= 75\n",
      "Step=  917, Dmax= 3.4e-03 nm, Epot= -1.42716e+05 Fmax= 1.64558e+03, atom= 75\n",
      "Step=  918, Dmax= 4.1e-03 nm, Epot= -1.42718e+05 Fmax= 2.05972e+03, atom= 75\n",
      "Step=  919, Dmax= 4.9e-03 nm, Epot= -1.42720e+05 Fmax= 2.38923e+03, atom= 75\n",
      "Step=  921, Dmax= 2.9e-03 nm, Epot= -1.42737e+05 Fmax= 2.54843e+02, atom= 75\n",
      "Step=  922, Dmax= 3.5e-03 nm, Epot= -1.42751e+05 Fmax= 2.94150e+03, atom= 75\n",
      "Step=  923, Dmax= 4.2e-03 nm, Epot= -1.42774e+05 Fmax= 8.72814e+02, atom= 75\n",
      "Step=  925, Dmax= 2.5e-03 nm, Epot= -1.42778e+05 Fmax= 1.44232e+03, atom= 75\n",
      "Step=  926, Dmax= 3.0e-03 nm, Epot= -1.42784e+05 Fmax= 1.32416e+03, atom= 75\n",
      "Step=  927, Dmax= 3.6e-03 nm, Epot= -1.42786e+05 Fmax= 2.00175e+03, atom= 75\n",
      "Step=  928, Dmax= 4.4e-03 nm, Epot= -1.42791e+05 Fmax= 1.98104e+03, atom= 75\n",
      "Step=  930, Dmax= 2.6e-03 nm, Epot= -1.42804e+05 Fmax= 4.27022e+02, atom= 75\n",
      "Step=  931, Dmax= 3.1e-03 nm, Epot= -1.42808e+05 Fmax= 2.45088e+03, atom= 75\n",
      "Step=  932, Dmax= 3.8e-03 nm, Epot= -1.42824e+05 Fmax= 1.01624e+03, atom= 75\n",
      "Step=  934, Dmax= 2.3e-03 nm, Epot= -1.42830e+05 Fmax= 1.04525e+03, atom= 75\n",
      "Step=  935, Dmax= 2.7e-03 nm, Epot= -1.42834e+05 Fmax= 1.43641e+03, atom= 75\n",
      "Step=  936, Dmax= 3.3e-03 nm, Epot= -1.42839e+05 Fmax= 1.53402e+03, atom= 75\n",
      "Step=  937, Dmax= 3.9e-03 nm, Epot= -1.42840e+05 Fmax= 2.03726e+03, atom= 75\n",
      "Step=  938, Dmax= 4.7e-03 nm, Epot= -1.42844e+05 Fmax= 2.24299e+03, atom= 75\n",
      "Step=  940, Dmax= 2.8e-03 nm, Epot= -1.42859e+05 Fmax= 3.47334e+02, atom= 75\n",
      "Step=  941, Dmax= 3.4e-03 nm, Epot= -1.42866e+05 Fmax= 2.75115e+03, atom= 75\n",
      "Step=  942, Dmax= 4.1e-03 nm, Epot= -1.42885e+05 Fmax= 9.81362e+02, atom= 75\n",
      "Step=  944, Dmax= 2.4e-03 nm, Epot= -1.42890e+05 Fmax= 1.23513e+03, atom= 75\n",
      "Step=  945, Dmax= 2.9e-03 nm, Epot= -1.42894e+05 Fmax= 1.43229e+03, atom= 75\n",
      "Step=  946, Dmax= 3.5e-03 nm, Epot= -1.42898e+05 Fmax= 1.76275e+03, atom= 75\n",
      "Step=  947, Dmax= 4.2e-03 nm, Epot= -1.42900e+05 Fmax= 2.07622e+03, atom= 75\n",
      "Step=  948, Dmax= 5.0e-03 nm, Epot= -1.42901e+05 Fmax= 2.52822e+03, atom= 75\n",
      "Step=  950, Dmax= 3.0e-03 nm, Epot= -1.42920e+05 Fmax= 2.61676e+02, atom= 75\n",
      "Step=  951, Dmax= 3.6e-03 nm, Epot= -1.42931e+05 Fmax= 3.07590e+03, atom= 75\n",
      "Step=  952, Dmax= 4.4e-03 nm, Epot= -1.42955e+05 Fmax= 9.45775e+02, atom= 75\n",
      "Step=  954, Dmax= 2.6e-03 nm, Epot= -1.42959e+05 Fmax= 1.43692e+03, atom= 75\n",
      "Step=  955, Dmax= 3.1e-03 nm, Epot= -1.42965e+05 Fmax= 1.43026e+03, atom= 75\n",
      "Step=  956, Dmax= 3.8e-03 nm, Epot= -1.42966e+05 Fmax= 2.00701e+03, atom= 75\n",
      "Step=  957, Dmax= 4.5e-03 nm, Epot= -1.42970e+05 Fmax= 2.12002e+03, atom= 75\n",
      "Step=  959, Dmax= 2.7e-03 nm, Epot= -1.42984e+05 Fmax= 3.31603e+02, atom= 75\n",
      "Step=  960, Dmax= 3.3e-03 nm, Epot= -1.42991e+05 Fmax= 2.62728e+03, atom= 75\n",
      "Step=  961, Dmax= 3.9e-03 nm, Epot= -1.43009e+05 Fmax= 9.08392e+02, atom= 75\n",
      "Step=  963, Dmax= 2.3e-03 nm, Epot= -1.43014e+05 Fmax= 1.23588e+03, atom= 75\n",
      "Step=  964, Dmax= 2.8e-03 nm, Epot= -1.43019e+05 Fmax= 1.32950e+03, atom= 75\n",
      "Step=  965, Dmax= 3.4e-03 nm, Epot= -1.43021e+05 Fmax= 1.75383e+03, atom= 75\n",
      "Step=  966, Dmax= 4.0e-03 nm, Epot= -1.43026e+05 Fmax= 1.94077e+03, atom= 75\n",
      "Step=  968, Dmax= 2.4e-03 nm, Epot= -1.43038e+05 Fmax= 2.94833e+02, atom= 75\n",
      "Step=  969, Dmax= 2.9e-03 nm, Epot= -1.43048e+05 Fmax= 2.37326e+03, atom= 75\n",
      "Step=  970, Dmax= 3.5e-03 nm, Epot= -1.43063e+05 Fmax= 8.44644e+02, atom= 75\n",
      "Step=  972, Dmax= 2.1e-03 nm, Epot= -1.43068e+05 Fmax= 1.06653e+03, atom= 75\n",
      "Step=  973, Dmax= 2.5e-03 nm, Epot= -1.43073e+05 Fmax= 1.23468e+03, atom= 75\n",
      "Step=  974, Dmax= 3.0e-03 nm, Epot= -1.43077e+05 Fmax= 1.52062e+03, atom= 75\n",
      "Step=  975, Dmax= 3.6e-03 nm, Epot= -1.43080e+05 Fmax= 1.79104e+03, atom= 75\n",
      "Step=  976, Dmax= 4.4e-03 nm, Epot= -1.43082e+05 Fmax= 2.17996e+03, atom= 75\n",
      "Step=  977, Dmax= 5.2e-03 nm, Epot= -1.43083e+05 Fmax= 2.58478e+03, atom= 75\n",
      "Step=  979, Dmax= 3.1e-03 nm, Epot= -1.43102e+05 Fmax= 2.44541e+02, atom= 75\n",
      "Step=  980, Dmax= 3.8e-03 nm, Epot= -1.43113e+05 Fmax= 3.17455e+03, atom= 75\n",
      "Step=  981, Dmax= 4.5e-03 nm, Epot= -1.43140e+05 Fmax= 9.08460e+02, atom= 75\n",
      "Step=  983, Dmax= 2.7e-03 nm, Epot= -1.43142e+05 Fmax= 1.57135e+03, atom= 75\n",
      "Step=  984, Dmax= 3.2e-03 nm, Epot= -1.43149e+05 Fmax= 1.39302e+03, atom= 75\n",
      "Step=  986, Dmax= 1.9e-03 nm, Epot= -1.43157e+05 Fmax= 3.97058e+02, atom= 75\n",
      "Step=  987, Dmax= 2.3e-03 nm, Epot= -1.43164e+05 Fmax= 1.73879e+03, atom= 75\n",
      "Step=  988, Dmax= 2.8e-03 nm, Epot= -1.43173e+05 Fmax= 8.36806e+02, atom= 75\n",
      "Step=  990, Dmax= 1.7e-03 nm, Epot= -1.43178e+05 Fmax= 6.96274e+02, atom= 75\n",
      "Step=  991, Dmax= 2.0e-03 nm, Epot= -1.43183e+05 Fmax= 1.15150e+03, atom= 75\n",
      "Step=  992, Dmax= 2.4e-03 nm, Epot= -1.43188e+05 Fmax= 1.05723e+03, atom= 75\n",
      "Step=  993, Dmax= 2.9e-03 nm, Epot= -1.43191e+05 Fmax= 1.60093e+03, atom= 75\n",
      "Step=  994, Dmax= 3.5e-03 nm, Epot= -1.43196e+05 Fmax= 1.58160e+03, atom= 75\n",
      "Step=  996, Dmax= 2.1e-03 nm, Epot= -1.43205e+05 Fmax= 3.42009e+02, atom= 75\n",
      "Step=  997, Dmax= 2.5e-03 nm, Epot= -1.43213e+05 Fmax= 1.95452e+03, atom= 75\n",
      "Step=  998, Dmax= 3.0e-03 nm, Epot= -1.43225e+05 Fmax= 8.15777e+02, atom= 75\n",
      "Step= 1000, Dmax= 1.8e-03 nm, Epot= -1.43230e+05 Fmax= 8.32286e+02, atom= 75\n",
      "Step= 1001, Dmax= 2.2e-03 nm, Epot= -1.43234e+05 Fmax= 1.15345e+03, atom= 75\n",
      "Step= 1002, Dmax= 2.6e-03 nm, Epot= -1.43239e+05 Fmax= 1.22153e+03, atom= 75\n",
      "Step= 1003, Dmax= 3.1e-03 nm, Epot= -1.43242e+05 Fmax= 1.63574e+03, atom= 75\n",
      "Step= 1004, Dmax= 3.8e-03 nm, Epot= -1.43246e+05 Fmax= 1.78685e+03, atom= 75\n",
      "Step= 1005, Dmax= 4.5e-03 nm, Epot= -1.43246e+05 Fmax= 2.32444e+03, atom= 75\n",
      "Step= 1006, Dmax= 5.4e-03 nm, Epot= -1.43248e+05 Fmax= 2.60650e+03, atom= 75\n",
      "Step= 1008, Dmax= 3.2e-03 nm, Epot= -1.43268e+05 Fmax= 3.80166e+02, atom= 75\n",
      "Step= 1010, Dmax= 1.9e-03 nm, Epot= -1.43275e+05 Fmax= 1.39773e+03, atom= 75\n",
      "Step= 1011, Dmax= 2.3e-03 nm, Epot= -1.43282e+05 Fmax= 7.43108e+02, atom= 75\n",
      "Step= 1012, Dmax= 2.8e-03 nm, Epot= -1.43284e+05 Fmax= 1.81646e+03, atom= 75\n",
      "Step= 1013, Dmax= 3.4e-03 nm, Epot= -1.43292e+05 Fmax= 1.26251e+03, atom= 75\n",
      "Step= 1015, Dmax= 2.0e-03 nm, Epot= -1.43299e+05 Fmax= 5.70562e+02, atom= 75\n",
      "Step= 1016, Dmax= 2.4e-03 nm, Epot= -1.43303e+05 Fmax= 1.63719e+03, atom= 75\n",
      "Step= 1017, Dmax= 2.9e-03 nm, Epot= -1.43311e+05 Fmax= 1.00380e+03, atom= 75\n",
      "Step= 1019, Dmax= 1.7e-03 nm, Epot= -1.43317e+05 Fmax= 5.93396e+02, atom= 75\n",
      "Step= 1020, Dmax= 2.1e-03 nm, Epot= -1.43321e+05 Fmax= 1.31573e+03, atom= 75\n",
      "Step= 1021, Dmax= 2.5e-03 nm, Epot= -1.43328e+05 Fmax= 9.83336e+02, atom= 75\n",
      "Step= 1022, Dmax= 3.0e-03 nm, Epot= -1.43329e+05 Fmax= 1.76854e+03, atom= 75\n",
      "Step= 1023, Dmax= 3.6e-03 nm, Epot= -1.43336e+05 Fmax= 1.53936e+03, atom= 75\n",
      "Step= 1025, Dmax= 2.2e-03 nm, Epot= -1.43344e+05 Fmax= 4.29290e+02, atom= 75\n",
      "Step= 1026, Dmax= 2.6e-03 nm, Epot= -1.43349e+05 Fmax= 1.94320e+03, atom= 75\n",
      "Step= 1027, Dmax= 3.1e-03 nm, Epot= -1.43360e+05 Fmax= 8.92721e+02, atom= 75\n",
      "Step= 1029, Dmax= 1.9e-03 nm, Epot= -1.43365e+05 Fmax= 8.22837e+02, atom= 75\n",
      "Step= 1030, Dmax= 2.2e-03 nm, Epot= -1.43369e+05 Fmax= 1.22876e+03, atom= 75\n",
      "Step= 1031, Dmax= 2.7e-03 nm, Epot= -1.43374e+05 Fmax= 1.24026e+03, atom= 75\n",
      "Step= 1032, Dmax= 3.2e-03 nm, Epot= -1.43376e+05 Fmax= 1.71587e+03, atom= 75\n",
      "Step= 1033, Dmax= 3.9e-03 nm, Epot= -1.43380e+05 Fmax= 1.83626e+03, atom= 75\n",
      "Step= 1035, Dmax= 2.3e-03 nm, Epot= -1.43391e+05 Fmax= 2.77924e+02, atom= 75\n",
      "Step= 1036, Dmax= 2.8e-03 nm, Epot= -1.43401e+05 Fmax= 2.27427e+03, atom= 75\n",
      "Step= 1037, Dmax= 3.4e-03 nm, Epot= -1.43416e+05 Fmax= 7.71403e+02, atom= 75\n",
      "Step= 1039, Dmax= 2.0e-03 nm, Epot= -1.43420e+05 Fmax= 1.07266e+03, atom= 75\n",
      "Step= 1040, Dmax= 2.4e-03 nm, Epot= -1.43425e+05 Fmax= 1.13169e+03, atom= 75\n",
      "Step= 1041, Dmax= 2.9e-03 nm, Epot= -1.43428e+05 Fmax= 1.52027e+03, atom= 75\n",
      "Step= 1042, Dmax= 3.5e-03 nm, Epot= -1.43432e+05 Fmax= 1.65481e+03, atom= 75\n",
      "Step= 1043, Dmax= 4.2e-03 nm, Epot= -1.43433e+05 Fmax= 2.16025e+03, atom= 75\n",
      "Step= 1044, Dmax= 5.0e-03 nm, Epot= -1.43435e+05 Fmax= 2.41308e+03, atom= 75\n",
      "Step= 1046, Dmax= 3.0e-03 nm, Epot= -1.43452e+05 Fmax= 3.53291e+02, atom= 75\n",
      "Step= 1047, Dmax= 3.6e-03 nm, Epot= -1.43454e+05 Fmax= 2.95840e+03, atom= 75\n",
      "Step= 1048, Dmax= 4.3e-03 nm, Epot= -1.43476e+05 Fmax= 1.02733e+03, atom= 75\n",
      "Step= 1050, Dmax= 2.6e-03 nm, Epot= -1.43480e+05 Fmax= 1.33989e+03, atom= 75\n",
      "Step= 1051, Dmax= 3.1e-03 nm, Epot= -1.43483e+05 Fmax= 1.50758e+03, atom= 75\n",
      "Step= 1052, Dmax= 3.7e-03 nm, Epot= -1.43486e+05 Fmax= 1.90476e+03, atom= 75\n",
      "Step= 1053, Dmax= 4.5e-03 nm, Epot= -1.43488e+05 Fmax= 2.19376e+03, atom= 75\n",
      "Step= 1055, Dmax= 2.7e-03 nm, Epot= -1.43502e+05 Fmax= 2.45178e+02, atom= 75\n",
      "Step= 1056, Dmax= 3.2e-03 nm, Epot= -1.43513e+05 Fmax= 2.69926e+03, atom= 75\n",
      "Step= 1057, Dmax= 3.9e-03 nm, Epot= -1.43532e+05 Fmax= 8.16902e+02, atom= 75\n",
      "Step= 1059, Dmax= 2.3e-03 nm, Epot= -1.43536e+05 Fmax= 1.31433e+03, atom= 75\n",
      "Step= 1060, Dmax= 2.8e-03 nm, Epot= -1.43541e+05 Fmax= 1.23348e+03, atom= 75\n",
      "Step= 1061, Dmax= 3.4e-03 nm, Epot= -1.43542e+05 Fmax= 1.82945e+03, atom= 75\n",
      "Step= 1062, Dmax= 4.0e-03 nm, Epot= -1.43547e+05 Fmax= 1.83905e+03, atom= 75\n",
      "Step= 1064, Dmax= 2.4e-03 nm, Epot= -1.43558e+05 Fmax= 3.76914e+02, atom= 75\n",
      "Step= 1065, Dmax= 2.9e-03 nm, Epot= -1.43562e+05 Fmax= 2.27194e+03, atom= 75\n",
      "Step= 1066, Dmax= 3.5e-03 nm, Epot= -1.43576e+05 Fmax= 9.18823e+02, atom= 75\n",
      "Step= 1068, Dmax= 2.1e-03 nm, Epot= -1.43581e+05 Fmax= 9.80210e+02, atom= 75\n",
      "Step= 1069, Dmax= 2.5e-03 nm, Epot= -1.43584e+05 Fmax= 1.30555e+03, atom= 75\n",
      "Step= 1070, Dmax= 3.0e-03 nm, Epot= -1.43588e+05 Fmax= 1.43062e+03, atom= 75\n",
      "Step= 1071, Dmax= 3.6e-03 nm, Epot= -1.43590e+05 Fmax= 1.85897e+03, atom= 75\n",
      "Step= 1072, Dmax= 4.3e-03 nm, Epot= -1.43593e+05 Fmax= 2.08361e+03, atom= 75\n",
      "Step= 1074, Dmax= 2.6e-03 nm, Epot= -1.43606e+05 Fmax= 2.99948e+02, atom= 75\n",
      "Step= 1075, Dmax= 3.1e-03 nm, Epot= -1.43612e+05 Fmax= 2.55062e+03, atom= 75\n",
      "Step= 1076, Dmax= 3.7e-03 nm, Epot= -1.43629e+05 Fmax= 8.84637e+02, atom= 75\n",
      "Step= 1078, Dmax= 2.2e-03 nm, Epot= -1.43633e+05 Fmax= 1.15658e+03, atom= 75\n",
      "Step= 1079, Dmax= 2.7e-03 nm, Epot= -1.43637e+05 Fmax= 1.30054e+03, atom= 75\n",
      "Step= 1080, Dmax= 3.2e-03 nm, Epot= -1.43640e+05 Fmax= 1.64202e+03, atom= 75\n",
      "Step= 1081, Dmax= 3.9e-03 nm, Epot= -1.43643e+05 Fmax= 1.89443e+03, atom= 75\n",
      "Step= 1082, Dmax= 4.6e-03 nm, Epot= -1.43643e+05 Fmax= 2.34609e+03, atom= 75\n",
      "Step= 1084, Dmax= 2.8e-03 nm, Epot= -1.43659e+05 Fmax= 2.20959e+02, atom= 75\n",
      "Step= 1085, Dmax= 3.3e-03 nm, Epot= -1.43672e+05 Fmax= 2.84567e+03, atom= 75\n",
      "Step= 1086, Dmax= 4.0e-03 nm, Epot= -1.43692e+05 Fmax= 8.55144e+02, atom= 75\n",
      "Step= 1088, Dmax= 2.4e-03 nm, Epot= -1.43696e+05 Fmax= 1.33857e+03, atom= 75\n",
      "Step= 1089, Dmax= 2.9e-03 nm, Epot= -1.43700e+05 Fmax= 1.30272e+03, atom= 75\n",
      "Step= 1090, Dmax= 3.5e-03 nm, Epot= -1.43701e+05 Fmax= 1.86229e+03, atom= 75\n",
      "Step= 1091, Dmax= 4.2e-03 nm, Epot= -1.43705e+05 Fmax= 1.93979e+03, atom= 75\n",
      "Step= 1093, Dmax= 2.5e-03 nm, Epot= -1.43717e+05 Fmax= 3.20426e+02, atom= 75\n",
      "Step= 1094, Dmax= 3.0e-03 nm, Epot= -1.43722e+05 Fmax= 2.40752e+03, atom= 75\n",
      "Step= 1095, Dmax= 3.6e-03 nm, Epot= -1.43737e+05 Fmax= 8.51382e+02, atom= 75\n",
      "Step= 1097, Dmax= 2.2e-03 nm, Epot= -1.43741e+05 Fmax= 1.12345e+03, atom= 75\n",
      "Step= 1098, Dmax= 2.6e-03 nm, Epot= -1.43745e+05 Fmax= 1.23879e+03, atom= 75\n",
      "Step= 1099, Dmax= 3.1e-03 nm, Epot= -1.43748e+05 Fmax= 1.60128e+03, atom= 75\n",
      "Step= 1100, Dmax= 3.7e-03 nm, Epot= -1.43751e+05 Fmax= 1.80120e+03, atom= 75\n",
      "Step= 1102, Dmax= 2.2e-03 nm, Epot= -1.43761e+05 Fmax= 2.56575e+02, atom= 75\n",
      "Step= 1103, Dmax= 2.7e-03 nm, Epot= -1.43771e+05 Fmax= 2.19649e+03, atom= 75\n",
      "Step= 1104, Dmax= 3.2e-03 nm, Epot= -1.43784e+05 Fmax= 7.65503e+02, atom= 75\n",
      "Step= 1106, Dmax= 1.9e-03 nm, Epot= -1.43789e+05 Fmax= 9.94305e+02, atom= 75\n",
      "Step= 1107, Dmax= 2.3e-03 nm, Epot= -1.43793e+05 Fmax= 1.12572e+03, atom= 75\n",
      "Step= 1108, Dmax= 2.8e-03 nm, Epot= -1.43796e+05 Fmax= 1.41151e+03, atom= 75\n",
      "Step= 1109, Dmax= 3.3e-03 nm, Epot= -1.43799e+05 Fmax= 1.63938e+03, atom= 75\n",
      "Step= 1110, Dmax= 4.0e-03 nm, Epot= -1.43801e+05 Fmax= 2.01756e+03, atom= 75\n",
      "Step= 1111, Dmax= 4.8e-03 nm, Epot= -1.43801e+05 Fmax= 2.37205e+03, atom= 75\n",
      "Step= 1113, Dmax= 2.9e-03 nm, Epot= -1.43817e+05 Fmax= 2.36468e+02, atom= 75\n",
      "Step= 1114, Dmax= 3.5e-03 nm, Epot= -1.43826e+05 Fmax= 2.91463e+03, atom= 75\n",
      "Step= 1115, Dmax= 4.2e-03 nm, Epot= -1.43848e+05 Fmax= 8.48247e+02, atom= 75\n",
      "Step= 1117, Dmax= 2.5e-03 nm, Epot= -1.43850e+05 Fmax= 1.43487e+03, atom= 75\n",
      "Step= 1118, Dmax= 3.0e-03 nm, Epot= -1.43856e+05 Fmax= 1.29505e+03, atom= 75\n",
      "Step= 1119, Dmax= 3.6e-03 nm, Epot= -1.43856e+05 Fmax= 1.98495e+03, atom= 75\n",
      "Step= 1120, Dmax= 4.3e-03 nm, Epot= -1.43860e+05 Fmax= 1.94497e+03, atom= 75\n",
      "Step= 1122, Dmax= 2.6e-03 nm, Epot= -1.43872e+05 Fmax= 4.30431e+02, atom= 75\n",
      "Step= 1123, Dmax= 3.1e-03 nm, Epot= -1.43872e+05 Fmax= 2.41096e+03, atom= 75\n",
      "Step= 1124, Dmax= 3.7e-03 nm, Epot= -1.43887e+05 Fmax= 1.00901e+03, atom= 75\n",
      "Step= 1126, Dmax= 2.2e-03 nm, Epot= -1.43892e+05 Fmax= 1.02541e+03, atom= 75\n",
      "Step= 1127, Dmax= 2.7e-03 nm, Epot= -1.43895e+05 Fmax= 1.42221e+03, atom= 75\n",
      "Step= 1128, Dmax= 3.2e-03 nm, Epot= -1.43898e+05 Fmax= 1.50896e+03, atom= 75\n",
      "Step= 1129, Dmax= 3.9e-03 nm, Epot= -1.43899e+05 Fmax= 2.01342e+03, atom= 75\n",
      "Step= 1130, Dmax= 4.6e-03 nm, Epot= -1.43902e+05 Fmax= 2.20995e+03, atom= 75\n",
      "Step= 1132, Dmax= 2.8e-03 nm, Epot= -1.43916e+05 Fmax= 3.45497e+02, atom= 75\n",
      "Step= 1133, Dmax= 3.3e-03 nm, Epot= -1.43917e+05 Fmax= 2.71284e+03, atom= 75\n",
      "Step= 1134, Dmax= 4.0e-03 nm, Epot= -1.43935e+05 Fmax= 9.69185e+02, atom= 75\n",
      "Step= 1136, Dmax= 2.4e-03 nm, Epot= -1.43939e+05 Fmax= 1.21799e+03, atom= 75\n",
      "Step= 1137, Dmax= 2.9e-03 nm, Epot= -1.43943e+05 Fmax= 1.41335e+03, atom= 75\n",
      "Step= 1138, Dmax= 3.5e-03 nm, Epot= -1.43944e+05 Fmax= 1.73920e+03, atom= 75\n",
      "Step= 1139, Dmax= 4.1e-03 nm, Epot= -1.43946e+05 Fmax= 2.04786e+03, atom= 75\n",
      "Step= 1140, Dmax= 5.0e-03 nm, Epot= -1.43946e+05 Fmax= 2.49510e+03, atom= 75\n",
      "Step= 1142, Dmax= 3.0e-03 nm, Epot= -1.43964e+05 Fmax= 2.57490e+02, atom= 75\n",
      "Step= 1143, Dmax= 3.6e-03 nm, Epot= -1.43969e+05 Fmax= 3.03387e+03, atom= 75\n",
      "Step= 1144, Dmax= 4.3e-03 nm, Epot= -1.43992e+05 Fmax= 9.33652e+02, atom= 75\n",
      "Step= 1146, Dmax= 2.6e-03 nm, Epot= -1.43994e+05 Fmax= 1.41711e+03, atom= 75\n",
      "Step= 1147, Dmax= 3.1e-03 nm, Epot= -1.43998e+05 Fmax= 1.41186e+03, atom= 75\n",
      "Step= 1148, Dmax= 3.7e-03 nm, Epot= -1.43999e+05 Fmax= 1.97920e+03, atom= 75\n",
      "Step= 1149, Dmax= 4.5e-03 nm, Epot= -1.44002e+05 Fmax= 2.09246e+03, atom= 75\n",
      "Step= 1151, Dmax= 2.7e-03 nm, Epot= -1.44015e+05 Fmax= 3.26238e+02, atom= 75\n",
      "Step= 1152, Dmax= 3.2e-03 nm, Epot= -1.44017e+05 Fmax= 2.59269e+03, atom= 75\n",
      "Step= 1153, Dmax= 3.9e-03 nm, Epot= -1.44035e+05 Fmax= 8.95574e+02, atom= 75\n",
      "Step= 1155, Dmax= 2.3e-03 nm, Epot= -1.44038e+05 Fmax= 1.21980e+03, atom= 75\n",
      "Step= 1156, Dmax= 2.8e-03 nm, Epot= -1.44042e+05 Fmax= 1.31118e+03, atom= 75\n",
      "Step= 1157, Dmax= 3.3e-03 nm, Epot= -1.44044e+05 Fmax= 1.73080e+03, atom= 75\n",
      "Step= 1158, Dmax= 4.0e-03 nm, Epot= -1.44047e+05 Fmax= 1.91432e+03, atom= 75\n",
      "Step= 1160, Dmax= 2.4e-03 nm, Epot= -1.44058e+05 Fmax= 2.91352e+02, atom= 75\n",
      "Step= 1161, Dmax= 2.9e-03 nm, Epot= -1.44063e+05 Fmax= 2.34026e+03, atom= 75\n",
      "Step= 1162, Dmax= 3.5e-03 nm, Epot= -1.44078e+05 Fmax= 8.34567e+02, atom= 75\n",
      "Step= 1164, Dmax= 2.1e-03 nm, Epot= -1.44082e+05 Fmax= 1.05084e+03, atom= 75\n",
      "Step= 1165, Dmax= 2.5e-03 nm, Epot= -1.44085e+05 Fmax= 1.21966e+03, atom= 75\n",
      "Step= 1166, Dmax= 3.0e-03 nm, Epot= -1.44088e+05 Fmax= 1.49858e+03, atom= 75\n",
      "Step= 1167, Dmax= 3.6e-03 nm, Epot= -1.44090e+05 Fmax= 1.76885e+03, atom= 75\n",
      "Step= 1168, Dmax= 4.3e-03 nm, Epot= -1.44092e+05 Fmax= 2.14882e+03, atom= 75\n",
      "Step= 1170, Dmax= 2.6e-03 nm, Epot= -1.44105e+05 Fmax= 2.25005e+02, atom= 75\n",
      "Step= 1171, Dmax= 3.1e-03 nm, Epot= -1.44115e+05 Fmax= 2.60322e+03, atom= 75\n",
      "Step= 1172, Dmax= 3.7e-03 nm, Epot= -1.44132e+05 Fmax= 8.15674e+02, atom= 75\n",
      "Step= 1174, Dmax= 2.2e-03 nm, Epot= -1.44135e+05 Fmax= 1.21095e+03, atom= 75\n",
      "Step= 1175, Dmax= 2.7e-03 nm, Epot= -1.44140e+05 Fmax= 1.23002e+03, atom= 75\n",
      "Step= 1176, Dmax= 3.2e-03 nm, Epot= -1.44141e+05 Fmax= 1.69341e+03, atom= 75\n",
      "Step= 1177, Dmax= 3.8e-03 nm, Epot= -1.44144e+05 Fmax= 1.81941e+03, atom= 75\n",
      "Step= 1179, Dmax= 2.3e-03 nm, Epot= -1.44155e+05 Fmax= 2.67659e+02, atom= 75\n",
      "Step= 1180, Dmax= 2.8e-03 nm, Epot= -1.44161e+05 Fmax= 2.25725e+03, atom= 75\n",
      "Step= 1181, Dmax= 3.3e-03 nm, Epot= -1.44176e+05 Fmax= 7.52689e+02, atom= 75\n",
      "Step= 1183, Dmax= 2.0e-03 nm, Epot= -1.44179e+05 Fmax= 1.07303e+03, atom= 75\n",
      "Step= 1184, Dmax= 2.4e-03 nm, Epot= -1.44183e+05 Fmax= 1.10875e+03, atom= 75\n",
      "Step= 1185, Dmax= 2.9e-03 nm, Epot= -1.44185e+05 Fmax= 1.51581e+03, atom= 75\n",
      "Step= 1186, Dmax= 3.4e-03 nm, Epot= -1.44189e+05 Fmax= 1.62685e+03, atom= 75\n",
      "Step= 1187, Dmax= 4.1e-03 nm, Epot= -1.44189e+05 Fmax= 2.14735e+03, atom= 75\n",
      "Step= 1188, Dmax= 5.0e-03 nm, Epot= -1.44191e+05 Fmax= 2.37944e+03, atom= 75\n",
      "Step= 1190, Dmax= 3.0e-03 nm, Epot= -1.44207e+05 Fmax= 3.64998e+02, atom= 75\n",
      "Step= 1192, Dmax= 1.8e-03 nm, Epot= -1.44212e+05 Fmax= 1.26388e+03, atom= 75\n",
      "Step= 1193, Dmax= 2.1e-03 nm, Epot= -1.44218e+05 Fmax= 7.00906e+02, atom= 75\n",
      "Step= 1194, Dmax= 2.6e-03 nm, Epot= -1.44219e+05 Fmax= 1.64752e+03, atom= 75\n",
      "Step= 1195, Dmax= 3.1e-03 nm, Epot= -1.44226e+05 Fmax= 1.17889e+03, atom= 75\n",
      "Step= 1197, Dmax= 1.9e-03 nm, Epot= -1.44232e+05 Fmax= 5.02285e+02, atom= 75\n",
      "Step= 1198, Dmax= 2.2e-03 nm, Epot= -1.44235e+05 Fmax= 1.52509e+03, atom= 75\n",
      "Step= 1199, Dmax= 2.7e-03 nm, Epot= -1.44242e+05 Fmax= 8.97590e+02, atom= 75\n",
      "Step= 1201, Dmax= 1.6e-03 nm, Epot= -1.44246e+05 Fmax= 5.68996e+02, atom= 75\n",
      "Step= 1202, Dmax= 1.9e-03 nm, Epot= -1.44250e+05 Fmax= 1.18197e+03, atom= 75\n",
      "Step= 1203, Dmax= 2.3e-03 nm, Epot= -1.44255e+05 Fmax= 9.28477e+02, atom= 75\n",
      "Step= 1204, Dmax= 2.8e-03 nm, Epot= -1.44256e+05 Fmax= 1.59621e+03, atom= 75\n",
      "Step= 1205, Dmax= 3.3e-03 nm, Epot= -1.44261e+05 Fmax= 1.44010e+03, atom= 75\n",
      "Step= 1207, Dmax= 2.0e-03 nm, Epot= -1.44269e+05 Fmax= 3.65273e+02, atom= 75\n",
      "Step= 1208, Dmax= 2.4e-03 nm, Epot= -1.44273e+05 Fmax= 1.81449e+03, atom= 75\n",
      "Step= 1209, Dmax= 2.9e-03 nm, Epot= -1.44282e+05 Fmax= 7.86924e+02, atom= 75\n",
      "Step= 1211, Dmax= 1.7e-03 nm, Epot= -1.44286e+05 Fmax= 7.88517e+02, atom= 75\n",
      "Step= 1212, Dmax= 2.1e-03 nm, Epot= -1.44290e+05 Fmax= 1.09344e+03, atom= 75\n",
      "Step= 1213, Dmax= 2.5e-03 nm, Epot= -1.44293e+05 Fmax= 1.17287e+03, atom= 75\n",
      "Step= 1214, Dmax= 3.0e-03 nm, Epot= -1.44295e+05 Fmax= 1.53913e+03, atom= 75\n",
      "Step= 1215, Dmax= 3.6e-03 nm, Epot= -1.44298e+05 Fmax= 1.72075e+03, atom= 75\n",
      "Step= 1216, Dmax= 4.3e-03 nm, Epot= -1.44299e+05 Fmax= 2.18662e+03, atom= 75\n",
      "Step= 1217, Dmax= 5.1e-03 nm, Epot= -1.44299e+05 Fmax= 2.50234e+03, atom= 75\n",
      "Step= 1219, Dmax= 3.1e-03 nm, Epot= -1.44317e+05 Fmax= 2.82242e+02, atom= 75\n",
      "Step= 1221, Dmax= 1.8e-03 nm, Epot= -1.44324e+05 Fmax= 1.40662e+03, atom= 75\n",
      "Step= 1222, Dmax= 2.2e-03 nm, Epot= -1.44331e+05 Fmax= 6.10426e+02, atom= 75\n",
      "Step= 1223, Dmax= 2.7e-03 nm, Epot= -1.44331e+05 Fmax= 1.82173e+03, atom= 75\n",
      "Step= 1224, Dmax= 3.2e-03 nm, Epot= -1.44340e+05 Fmax= 1.08652e+03, atom= 75\n",
      "Step= 1226, Dmax= 1.9e-03 nm, Epot= -1.44345e+05 Fmax= 6.70202e+02, atom= 75\n",
      "Step= 1227, Dmax= 2.3e-03 nm, Epot= -1.44347e+05 Fmax= 1.43045e+03, atom= 75\n",
      "Step= 1228, Dmax= 2.8e-03 nm, Epot= -1.44353e+05 Fmax= 1.09786e+03, atom= 75\n",
      "Step= 1230, Dmax= 1.7e-03 nm, Epot= -1.44358e+05 Fmax= 4.08289e+02, atom= 75\n",
      "Step= 1231, Dmax= 2.0e-03 nm, Epot= -1.44362e+05 Fmax= 1.40821e+03, atom= 75\n",
      "Step= 1232, Dmax= 2.4e-03 nm, Epot= -1.44369e+05 Fmax= 7.60965e+02, atom= 75\n",
      "Step= 1234, Dmax= 1.4e-03 nm, Epot= -1.44373e+05 Fmax= 5.50035e+02, atom= 75\n",
      "Step= 1235, Dmax= 1.7e-03 nm, Epot= -1.44377e+05 Fmax= 1.01495e+03, atom= 75\n",
      "Step= 1236, Dmax= 2.1e-03 nm, Epot= -1.44381e+05 Fmax= 8.71669e+02, atom= 75\n",
      "Step= 1237, Dmax= 2.5e-03 nm, Epot= -1.44384e+05 Fmax= 1.38440e+03, atom= 75\n",
      "Step= 1238, Dmax= 3.0e-03 nm, Epot= -1.44388e+05 Fmax= 1.33023e+03, atom= 75\n",
      "Step= 1239, Dmax= 3.6e-03 nm, Epot= -1.44388e+05 Fmax= 1.92075e+03, atom= 75\n",
      "Step= 1240, Dmax= 4.3e-03 nm, Epot= -1.44391e+05 Fmax= 1.98503e+03, atom= 75\n",
      "Step= 1242, Dmax= 2.6e-03 nm, Epot= -1.44403e+05 Fmax= 3.40099e+02, atom= 75\n",
      "Step= 1243, Dmax= 3.1e-03 nm, Epot= -1.44404e+05 Fmax= 2.46121e+03, atom= 75\n",
      "Step= 1244, Dmax= 3.7e-03 nm, Epot= -1.44420e+05 Fmax= 8.88109e+02, atom= 75\n",
      "Step= 1246, Dmax= 2.2e-03 nm, Epot= -1.44424e+05 Fmax= 1.13848e+03, atom= 75\n",
      "Step= 1247, Dmax= 2.7e-03 nm, Epot= -1.44427e+05 Fmax= 1.28647e+03, atom= 75\n",
      "Step= 1248, Dmax= 3.2e-03 nm, Epot= -1.44429e+05 Fmax= 1.62922e+03, atom= 75\n",
      "Step= 1249, Dmax= 3.8e-03 nm, Epot= -1.44431e+05 Fmax= 1.86343e+03, atom= 75\n",
      "Step= 1251, Dmax= 2.3e-03 nm, Epot= -1.44442e+05 Fmax= 2.46325e+02, atom= 75\n",
      "Step= 1252, Dmax= 2.8e-03 nm, Epot= -1.44449e+05 Fmax= 2.27052e+03, atom= 75\n",
      "Step= 1253, Dmax= 3.3e-03 nm, Epot= -1.44463e+05 Fmax= 7.68155e+02, atom= 75\n",
      "Step= 1255, Dmax= 2.0e-03 nm, Epot= -1.44467e+05 Fmax= 1.03834e+03, atom= 75\n",
      "Step= 1256, Dmax= 2.4e-03 nm, Epot= -1.44470e+05 Fmax= 1.13804e+03, atom= 75\n",
      "Step= 1257, Dmax= 2.9e-03 nm, Epot= -1.44472e+05 Fmax= 1.46657e+03, atom= 75\n",
      "Step= 1258, Dmax= 3.4e-03 nm, Epot= -1.44475e+05 Fmax= 1.66579e+03, atom= 75\n",
      "Step= 1259, Dmax= 4.1e-03 nm, Epot= -1.44476e+05 Fmax= 2.08789e+03, atom= 75\n",
      "Step= 1260, Dmax= 4.9e-03 nm, Epot= -1.44476e+05 Fmax= 2.41976e+03, atom= 75\n",
      "Step= 1262, Dmax= 3.0e-03 nm, Epot= -1.44492e+05 Fmax= 2.62366e+02, atom= 75\n",
      "Step= 1263, Dmax= 3.6e-03 nm, Epot= -1.44494e+05 Fmax= 2.97006e+03, atom= 75\n",
      "Step= 1264, Dmax= 4.3e-03 nm, Epot= -1.44517e+05 Fmax= 8.95996e+02, atom= 75\n",
      "Step= 1266, Dmax= 2.6e-03 nm, Epot= -1.44519e+05 Fmax= 1.44681e+03, atom= 75\n",
      "Step= 1267, Dmax= 3.1e-03 nm, Epot= -1.44523e+05 Fmax= 1.35563e+03, atom= 75\n",
      "Step= 1269, Dmax= 1.8e-03 nm, Epot= -1.44530e+05 Fmax= 3.34844e+02, atom= 75\n",
      "Step= 1270, Dmax= 2.2e-03 nm, Epot= -1.44535e+05 Fmax= 1.68299e+03, atom= 75\n",
      "Step= 1271, Dmax= 2.7e-03 nm, Epot= -1.44544e+05 Fmax= 7.50334e+02, atom= 75\n",
      "Step= 1273, Dmax= 1.6e-03 nm, Epot= -1.44547e+05 Fmax= 6.99465e+02, atom= 75\n",
      "Step= 1274, Dmax= 1.9e-03 nm, Epot= -1.44551e+05 Fmax= 1.04732e+03, atom= 75\n",
      "Step= 1275, Dmax= 2.3e-03 nm, Epot= -1.44555e+05 Fmax= 1.04142e+03, atom= 75\n",
      "Step= 1276, Dmax= 2.8e-03 nm, Epot= -1.44557e+05 Fmax= 1.47206e+03, atom= 75\n",
      "Step= 1277, Dmax= 3.3e-03 nm, Epot= -1.44560e+05 Fmax= 1.53758e+03, atom= 75\n",
      "Step= 1279, Dmax= 2.0e-03 nm, Epot= -1.44568e+05 Fmax= 2.79509e+02, atom= 75\n",
      "Step= 1280, Dmax= 2.4e-03 nm, Epot= -1.44574e+05 Fmax= 1.88920e+03, atom= 75\n",
      "Step= 1281, Dmax= 2.9e-03 nm, Epot= -1.44584e+05 Fmax= 7.28470e+02, atom= 75\n",
      "Step= 1283, Dmax= 1.7e-03 nm, Epot= -1.44588e+05 Fmax= 8.29749e+02, atom= 75\n",
      "Step= 1284, Dmax= 2.1e-03 nm, Epot= -1.44591e+05 Fmax= 1.04797e+03, atom= 75\n",
      "Step= 1285, Dmax= 2.5e-03 nm, Epot= -1.44595e+05 Fmax= 1.19761e+03, atom= 75\n",
      "Step= 1286, Dmax= 3.0e-03 nm, Epot= -1.44597e+05 Fmax= 1.50425e+03, atom= 75\n",
      "Step= 1287, Dmax= 3.6e-03 nm, Epot= -1.44599e+05 Fmax= 1.73179e+03, atom= 75\n",
      "Step= 1288, Dmax= 4.3e-03 nm, Epot= -1.44599e+05 Fmax= 2.15651e+03, atom= 75\n",
      "Step= 1289, Dmax= 5.1e-03 nm, Epot= -1.44599e+05 Fmax= 2.50587e+03, atom= 75\n",
      "Step= 1291, Dmax= 3.1e-03 nm, Epot= -1.44617e+05 Fmax= 3.14852e+02, atom= 75\n",
      "Step= 1293, Dmax= 1.8e-03 nm, Epot= -1.44623e+05 Fmax= 1.36437e+03, atom= 75\n",
      "Step= 1294, Dmax= 2.2e-03 nm, Epot= -1.44629e+05 Fmax= 6.59652e+02, atom= 75\n",
      "Step= 1295, Dmax= 2.7e-03 nm, Epot= -1.44630e+05 Fmax= 1.75830e+03, atom= 75\n",
      "Step= 1296, Dmax= 3.2e-03 nm, Epot= -1.44637e+05 Fmax= 1.15248e+03, atom= 75\n",
      "Step= 1298, Dmax= 1.9e-03 nm, Epot= -1.44643e+05 Fmax= 5.81359e+02, atom= 75\n",
      "Step= 1299, Dmax= 2.3e-03 nm, Epot= -1.44644e+05 Fmax= 1.50731e+03, atom= 75\n",
      "Step= 1300, Dmax= 2.7e-03 nm, Epot= -1.44651e+05 Fmax= 9.90418e+02, atom= 75\n",
      "Step= 1302, Dmax= 1.6e-03 nm, Epot= -1.44656e+05 Fmax= 5.19356e+02, atom= 75\n",
      "Step= 1303, Dmax= 2.0e-03 nm, Epot= -1.44659e+05 Fmax= 1.28423e+03, atom= 75\n",
      "Step= 1304, Dmax= 2.4e-03 nm, Epot= -1.44664e+05 Fmax= 8.89439e+02, atom= 75\n",
      "Step= 1306, Dmax= 1.4e-03 nm, Epot= -1.44669e+05 Fmax= 4.05280e+02, atom= 75\n",
      "Step= 1307, Dmax= 1.7e-03 nm, Epot= -1.44673e+05 Fmax= 1.15767e+03, atom= 75\n",
      "Step= 1308, Dmax= 2.1e-03 nm, Epot= -1.44678e+05 Fmax= 7.07302e+02, atom= 75\n",
      "Step= 1309, Dmax= 2.5e-03 nm, Epot= -1.44679e+05 Fmax= 1.53946e+03, atom= 75\n",
      "Step= 1310, Dmax= 3.0e-03 nm, Epot= -1.44685e+05 Fmax= 1.14792e+03, atom= 75\n",
      "Step= 1312, Dmax= 1.8e-03 nm, Epot= -1.44690e+05 Fmax= 4.76255e+02, atom= 75\n",
      "Step= 1313, Dmax= 2.1e-03 nm, Epot= -1.44694e+05 Fmax= 1.46344e+03, atom= 75\n",
      "Step= 1314, Dmax= 2.6e-03 nm, Epot= -1.44700e+05 Fmax= 8.74538e+02, atom= 75\n",
      "Step= 1316, Dmax= 1.5e-03 nm, Epot= -1.44704e+05 Fmax= 5.17655e+02, atom= 75\n",
      "Step= 1317, Dmax= 1.8e-03 nm, Epot= -1.44708e+05 Fmax= 1.16163e+03, atom= 75\n",
      "Step= 1318, Dmax= 2.2e-03 nm, Epot= -1.44712e+05 Fmax= 8.44023e+02, atom= 75\n",
      "Step= 1319, Dmax= 2.6e-03 nm, Epot= -1.44714e+05 Fmax= 1.57083e+03, atom= 75\n",
      "Step= 1320, Dmax= 3.2e-03 nm, Epot= -1.44719e+05 Fmax= 1.31906e+03, atom= 75\n",
      "Step= 1322, Dmax= 1.9e-03 nm, Epot= -1.44725e+05 Fmax= 4.27623e+02, atom= 75\n",
      "Step= 1323, Dmax= 2.3e-03 nm, Epot= -1.44728e+05 Fmax= 1.65840e+03, atom= 75\n",
      "Step= 1324, Dmax= 2.7e-03 nm, Epot= -1.44736e+05 Fmax= 8.56428e+02, atom= 75\n",
      "Step= 1326, Dmax= 1.6e-03 nm, Epot= -1.44740e+05 Fmax= 6.40573e+02, atom= 75\n",
      "Step= 1327, Dmax= 2.0e-03 nm, Epot= -1.44743e+05 Fmax= 1.16390e+03, atom= 75\n",
      "Step= 1328, Dmax= 2.4e-03 nm, Epot= -1.44747e+05 Fmax= 9.92869e+02, atom= 75\n",
      "Step= 1329, Dmax= 2.8e-03 nm, Epot= -1.44748e+05 Fmax= 1.60279e+03, atom= 75\n",
      "Step= 1330, Dmax= 3.4e-03 nm, Epot= -1.44753e+05 Fmax= 1.50488e+03, atom= 75\n",
      "Step= 1332, Dmax= 2.0e-03 nm, Epot= -1.44760e+05 Fmax= 3.74053e+02, atom= 75\n",
      "Step= 1333, Dmax= 2.5e-03 nm, Epot= -1.44763e+05 Fmax= 1.86920e+03, atom= 75\n",
      "Step= 1334, Dmax= 2.9e-03 nm, Epot= -1.44773e+05 Fmax= 8.36331e+02, atom= 75\n",
      "Step= 1336, Dmax= 1.8e-03 nm, Epot= -1.44777e+05 Fmax= 7.73157e+02, atom= 75\n",
      "Step= 1337, Dmax= 2.1e-03 nm, Epot= -1.44780e+05 Fmax= 1.16634e+03, atom= 75\n",
      "Step= 1338, Dmax= 2.5e-03 nm, Epot= -1.44783e+05 Fmax= 1.15290e+03, atom= 75\n",
      "Step= 1339, Dmax= 3.1e-03 nm, Epot= -1.44784e+05 Fmax= 1.63732e+03, atom= 75\n",
      "Step= 1340, Dmax= 3.7e-03 nm, Epot= -1.44788e+05 Fmax= 1.70468e+03, atom= 75\n",
      "Step= 1342, Dmax= 2.2e-03 nm, Epot= -1.44797e+05 Fmax= 3.17073e+02, atom= 75\n",
      "Step= 1343, Dmax= 2.6e-03 nm, Epot= -1.44801e+05 Fmax= 2.09493e+03, atom= 75\n",
      "Step= 1344, Dmax= 3.2e-03 nm, Epot= -1.44812e+05 Fmax= 8.16330e+02, atom= 75\n",
      "Step= 1346, Dmax= 1.9e-03 nm, Epot= -1.44816e+05 Fmax= 9.13845e+02, atom= 75\n",
      "Step= 1347, Dmax= 2.3e-03 nm, Epot= -1.44818e+05 Fmax= 1.17098e+03, atom= 75\n",
      "Step= 1348, Dmax= 2.7e-03 nm, Epot= -1.44821e+05 Fmax= 1.32302e+03, atom= 75\n",
      "Step= 1349, Dmax= 3.3e-03 nm, Epot= -1.44823e+05 Fmax= 1.67658e+03, atom= 75\n",
      "Step= 1350, Dmax= 3.9e-03 nm, Epot= -1.44825e+05 Fmax= 1.91764e+03, atom= 75\n",
      "Step= 1352, Dmax= 2.4e-03 nm, Epot= -1.44836e+05 Fmax= 2.58456e+02, atom= 75\n",
      "Step= 1353, Dmax= 2.8e-03 nm, Epot= -1.44842e+05 Fmax= 2.33397e+03, atom= 75\n",
      "Step= 1354, Dmax= 3.4e-03 nm, Epot= -1.44856e+05 Fmax= 8.00003e+02, atom= 75\n",
      "Step= 1356, Dmax= 2.0e-03 nm, Epot= -1.44859e+05 Fmax= 1.05969e+03, atom= 75\n",
      "Step= 1357, Dmax= 2.5e-03 nm, Epot= -1.44862e+05 Fmax= 1.18153e+03, atom= 75\n",
      "Step= 1358, Dmax= 2.9e-03 nm, Epot= -1.44864e+05 Fmax= 1.50032e+03, atom= 75\n",
      "Step= 1359, Dmax= 3.5e-03 nm, Epot= -1.44866e+05 Fmax= 1.72455e+03, atom= 75\n",
      "Step= 1360, Dmax= 4.2e-03 nm, Epot= -1.44867e+05 Fmax= 2.14105e+03, atom= 75\n",
      "Step= 1362, Dmax= 2.5e-03 nm, Epot= -1.44880e+05 Fmax= 2.02246e+02, atom= 75\n",
      "Step= 1363, Dmax= 3.1e-03 nm, Epot= -1.44890e+05 Fmax= 2.58482e+03, atom= 72\n",
      "Step= 1364, Dmax= 3.7e-03 nm, Epot= -1.44907e+05 Fmax= 7.89096e+02, atom= 75\n",
      "Step= 1366, Dmax= 2.2e-03 nm, Epot= -1.44909e+05 Fmax= 1.20936e+03, atom= 75\n",
      "Step= 1367, Dmax= 2.6e-03 nm, Epot= -1.44913e+05 Fmax= 1.19987e+03, atom= 75\n",
      "Step= 1368, Dmax= 3.2e-03 nm, Epot= -1.44914e+05 Fmax= 1.68420e+03, atom= 75\n",
      "Step= 1369, Dmax= 3.8e-03 nm, Epot= -1.44917e+05 Fmax= 1.78273e+03, atom= 75\n",
      "Step= 1371, Dmax= 2.3e-03 nm, Epot= -1.44927e+05 Fmax= 2.75891e+02, atom= 75\n",
      "Step= 1372, Dmax= 2.7e-03 nm, Epot= -1.44931e+05 Fmax= 2.21704e+03, atom= 75\n",
      "Step= 1373, Dmax= 3.3e-03 nm, Epot= -1.44944e+05 Fmax= 7.52008e+02, atom= 75\n",
      "Step= 1375, Dmax= 2.0e-03 nm, Epot= -1.44947e+05 Fmax= 1.04991e+03, atom= 75\n",
      "Step= 1376, Dmax= 2.4e-03 nm, Epot= -1.44951e+05 Fmax= 1.10224e+03, atom= 75\n",
      "Step= 1377, Dmax= 2.8e-03 nm, Epot= -1.44953e+05 Fmax= 1.48782e+03, atom= 75\n",
      "Step= 1378, Dmax= 3.4e-03 nm, Epot= -1.44956e+05 Fmax= 1.61251e+03, atom= 75\n",
      "Step= 1380, Dmax= 2.0e-03 nm, Epot= -1.44964e+05 Fmax= 2.64895e+02, atom= 75\n",
      "Step= 1381, Dmax= 2.4e-03 nm, Epot= -1.44971e+05 Fmax= 1.96663e+03, atom= 75\n",
      "Step= 1382, Dmax= 2.9e-03 nm, Epot= -1.44981e+05 Fmax= 7.34373e+02, atom= 75\n",
      "Step= 1384, Dmax= 1.8e-03 nm, Epot= -1.44985e+05 Fmax= 8.68611e+02, atom= 75\n",
      "Step= 1385, Dmax= 2.1e-03 nm, Epot= -1.44987e+05 Fmax= 1.06526e+03, atom= 75\n",
      "Step= 1386, Dmax= 2.5e-03 nm, Epot= -1.44991e+05 Fmax= 1.24625e+03, atom= 75\n",
      "Step= 1387, Dmax= 3.0e-03 nm, Epot= -1.44993e+05 Fmax= 1.53566e+03, atom= 75\n",
      "Step= 1388, Dmax= 3.7e-03 nm, Epot= -1.44994e+05 Fmax= 1.79623e+03, atom= 75\n",
      "Step= 1389, Dmax= 4.4e-03 nm, Epot= -1.44995e+05 Fmax= 2.20533e+03, atom= 75\n",
      "Step= 1391, Dmax= 2.6e-03 nm, Epot= -1.45009e+05 Fmax= 1.70670e+02, atom= 75\n",
      "Step= 1392, Dmax= 3.2e-03 nm, Epot= -1.45021e+05 Fmax= 2.71473e+03, atom= 75\n",
      "Step= 1393, Dmax= 3.8e-03 nm, Epot= -1.45041e+05 Fmax= 7.14943e+02, atom= 75\n",
      "Step= 1395, Dmax= 2.3e-03 nm, Epot= -1.45043e+05 Fmax= 1.36846e+03, atom= 75\n",
      "Step= 1396, Dmax= 2.7e-03 nm, Epot= -1.45047e+05 Fmax= 1.11937e+03, atom= 75\n",
      "Step= 1398, Dmax= 1.6e-03 nm, Epot= -1.45053e+05 Fmax= 3.83689e+02, atom= 75\n",
      "Step= 1399, Dmax= 2.0e-03 nm, Epot= -1.45057e+05 Fmax= 1.40703e+03, atom= 75\n",
      "Step= 1400, Dmax= 2.4e-03 nm, Epot= -1.45063e+05 Fmax= 7.55160e+02, atom= 75\n",
      "Step= 1402, Dmax= 1.4e-03 nm, Epot= -1.45067e+05 Fmax= 5.31152e+02, atom= 75\n",
      "Step= 1403, Dmax= 1.7e-03 nm, Epot= -1.45070e+05 Fmax= 1.02203e+03, atom= 75\n",
      "Step= 1404, Dmax= 2.0e-03 nm, Epot= -1.45074e+05 Fmax= 8.31433e+02, atom= 75\n",
      "Step= 1405, Dmax= 2.4e-03 nm, Epot= -1.45076e+05 Fmax= 1.40152e+03, atom= 75\n",
      "Step= 1406, Dmax= 2.9e-03 nm, Epot= -1.45081e+05 Fmax= 1.26917e+03, atom= 75\n",
      "Step= 1408, Dmax= 1.8e-03 nm, Epot= -1.45087e+05 Fmax= 3.45868e+02, atom= 75\n",
      "Step= 1409, Dmax= 2.1e-03 nm, Epot= -1.45091e+05 Fmax= 1.57870e+03, atom= 75\n",
      "Step= 1410, Dmax= 2.5e-03 nm, Epot= -1.45098e+05 Fmax= 7.46060e+02, atom= 75\n",
      "Step= 1412, Dmax= 1.5e-03 nm, Epot= -1.45102e+05 Fmax= 6.36665e+02, atom= 75\n",
      "Step= 1413, Dmax= 1.8e-03 nm, Epot= -1.45105e+05 Fmax= 1.03199e+03, atom= 75\n",
      "Step= 1414, Dmax= 2.2e-03 nm, Epot= -1.45109e+05 Fmax= 9.60701e+02, atom= 75\n",
      "Step= 1415, Dmax= 2.6e-03 nm, Epot= -1.45111e+05 Fmax= 1.43928e+03, atom= 75\n",
      "Step= 1416, Dmax= 3.2e-03 nm, Epot= -1.45115e+05 Fmax= 1.43253e+03, atom= 75\n",
      "Step= 1418, Dmax= 1.9e-03 nm, Epot= -1.45122e+05 Fmax= 3.04556e+02, atom= 75\n",
      "Step= 1419, Dmax= 2.3e-03 nm, Epot= -1.45126e+05 Fmax= 1.76451e+03, atom= 75\n",
      "Step= 1420, Dmax= 2.7e-03 nm, Epot= -1.45135e+05 Fmax= 7.36568e+02, atom= 75\n",
      "Step= 1422, Dmax= 1.6e-03 nm, Epot= -1.45139e+05 Fmax= 7.49891e+02, atom= 75\n",
      "Step= 1423, Dmax= 2.0e-03 nm, Epot= -1.45142e+05 Fmax= 1.04352e+03, atom= 75\n",
      "Step= 1424, Dmax= 2.4e-03 nm, Epot= -1.45146e+05 Fmax= 1.09918e+03, atom= 75\n",
      "Step= 1425, Dmax= 2.8e-03 nm, Epot= -1.45147e+05 Fmax= 1.48058e+03, atom= 75\n",
      "Step= 1426, Dmax= 3.4e-03 nm, Epot= -1.45150e+05 Fmax= 1.60766e+03, atom= 75\n",
      "Step= 1428, Dmax= 2.0e-03 nm, Epot= -1.45158e+05 Fmax= 2.61445e+02, atom= 75\n",
      "Step= 1429, Dmax= 2.4e-03 nm, Epot= -1.45165e+05 Fmax= 1.96210e+03, atom= 75\n",
      "Step= 1430, Dmax= 2.9e-03 nm, Epot= -1.45175e+05 Fmax= 7.29057e+02, atom= 75\n",
      "Step= 1432, Dmax= 1.8e-03 nm, Epot= -1.45179e+05 Fmax= 8.68713e+02, atom= 75\n",
      "Step= 1433, Dmax= 2.1e-03 nm, Epot= -1.45182e+05 Fmax= 1.05907e+03, atom= 75\n",
      "Step= 1434, Dmax= 2.5e-03 nm, Epot= -1.45184e+05 Fmax= 1.24475e+03, atom= 75\n",
      "Step= 1435, Dmax= 3.0e-03 nm, Epot= -1.45186e+05 Fmax= 1.52837e+03, atom= 75\n",
      "Step= 1436, Dmax= 3.6e-03 nm, Epot= -1.45188e+05 Fmax= 1.79251e+03, atom= 75\n",
      "Step= 1438, Dmax= 2.2e-03 nm, Epot= -1.45198e+05 Fmax= 2.19081e+02, atom= 75\n",
      "Step= 1439, Dmax= 2.6e-03 nm, Epot= -1.45206e+05 Fmax= 2.16950e+03, atom= 75\n",
      "Step= 1440, Dmax= 3.1e-03 nm, Epot= -1.45219e+05 Fmax= 7.27008e+02, atom= 75\n",
      "Step= 1442, Dmax= 1.9e-03 nm, Epot= -1.45222e+05 Fmax= 9.90279e+02, atom= 75\n",
      "Step= 1443, Dmax= 2.3e-03 nm, Epot= -1.45225e+05 Fmax= 1.08173e+03, atom= 75\n",
      "Step= 1444, Dmax= 2.7e-03 nm, Epot= -1.45227e+05 Fmax= 1.39557e+03, atom= 75\n",
      "Step= 1445, Dmax= 3.3e-03 nm, Epot= -1.45230e+05 Fmax= 1.58539e+03, atom= 75\n",
      "Step= 1446, Dmax= 3.9e-03 nm, Epot= -1.45231e+05 Fmax= 1.98589e+03, atom= 75\n",
      "Step= 1448, Dmax= 2.4e-03 nm, Epot= -1.45242e+05 Fmax= 1.79851e+02, atom= 75\n",
      "Step= 1449, Dmax= 2.8e-03 nm, Epot= -1.45254e+05 Fmax= 2.39524e+03, atom= 72\n",
      "Step= 1450, Dmax= 3.4e-03 nm, Epot= -1.45268e+05 Fmax= 7.18988e+02, atom= 75\n",
      "Step= 1452, Dmax= 2.0e-03 nm, Epot= -1.45271e+05 Fmax= 1.13078e+03, atom= 72\n",
      "Step= 1453, Dmax= 2.4e-03 nm, Epot= -1.45275e+05 Fmax= 1.09265e+03, atom= 75\n",
      "Step= 1454, Dmax= 2.9e-03 nm, Epot= -1.45276e+05 Fmax= 1.57421e+03, atom= 72\n",
      "Step= 1455, Dmax= 3.5e-03 nm, Epot= -1.45279e+05 Fmax= 1.62819e+03, atom= 75\n",
      "Step= 1457, Dmax= 2.1e-03 nm, Epot= -1.45287e+05 Fmax= 2.75933e+02, atom= 72\n",
      "Step= 1458, Dmax= 2.5e-03 nm, Epot= -1.45292e+05 Fmax= 2.01988e+03, atom= 75\n",
      "Step= 1459, Dmax= 3.0e-03 nm, Epot= -1.45303e+05 Fmax= 7.24309e+02, atom= 75\n",
      "Step= 1461, Dmax= 1.8e-03 nm, Epot= -1.45307e+05 Fmax= 9.41738e+02, atom= 75\n",
      "Step= 1462, Dmax= 2.2e-03 nm, Epot= -1.45310e+05 Fmax= 1.04614e+03, atom= 75\n",
      "Step= 1463, Dmax= 2.6e-03 nm, Epot= -1.45312e+05 Fmax= 1.34849e+03, atom= 75\n",
      "Step= 1464, Dmax= 3.1e-03 nm, Epot= -1.45315e+05 Fmax= 1.51591e+03, atom= 75\n",
      "Step= 1466, Dmax= 1.9e-03 nm, Epot= -1.45322e+05 Fmax= 2.19770e+02, atom= 75\n",
      "Step= 1467, Dmax= 2.3e-03 nm, Epot= -1.45331e+05 Fmax= 1.83494e+03, atom= 75\n",
      "Step= 1468, Dmax= 2.7e-03 nm, Epot= -1.45340e+05 Fmax= 6.61248e+02, atom= 75\n",
      "Step= 1470, Dmax= 1.6e-03 nm, Epot= -1.45343e+05 Fmax= 8.19372e+02, atom= 72\n",
      "Step= 1471, Dmax= 2.0e-03 nm, Epot= -1.45347e+05 Fmax= 9.68041e+02, atom= 75\n",
      "Step= 1472, Dmax= 2.3e-03 nm, Epot= -1.45349e+05 Fmax= 1.16690e+03, atom= 75\n",
      "Step= 1473, Dmax= 2.8e-03 nm, Epot= -1.45352e+05 Fmax= 1.40507e+03, atom= 75\n",
      "Step= 1474, Dmax= 3.4e-03 nm, Epot= -1.45353e+05 Fmax= 1.67302e+03, atom= 75\n",
      "Step= 1475, Dmax= 4.1e-03 nm, Epot= -1.45354e+05 Fmax= 2.02611e+03, atom= 75\n",
      "Step= 1477, Dmax= 2.4e-03 nm, Epot= -1.45366e+05 Fmax= 1.69111e+02, atom= 75\n",
      "Step= 1478, Dmax= 2.9e-03 nm, Epot= -1.45377e+05 Fmax= 2.50509e+03, atom= 75\n",
      "Step= 1479, Dmax= 3.5e-03 nm, Epot= -1.45395e+05 Fmax= 6.63200e+02, atom= 75\n",
      "Step= 1481, Dmax= 2.1e-03 nm, Epot= -1.45396e+05 Fmax= 1.26230e+03, atom= 75\n",
      "Step= 1482, Dmax= 2.5e-03 nm, Epot= -1.45401e+05 Fmax= 1.03510e+03, atom= 75\n",
      "Step= 1484, Dmax= 1.5e-03 nm, Epot= -1.45405e+05 Fmax= 3.54544e+02, atom= 75\n",
      "Step= 1485, Dmax= 1.8e-03 nm, Epot= -1.45410e+05 Fmax= 1.29757e+03, atom= 75\n",
      "Step= 1486, Dmax= 2.2e-03 nm, Epot= -1.45415e+05 Fmax= 7.01275e+02, atom= 75\n",
      "Step= 1488, Dmax= 1.3e-03 nm, Epot= -1.45419e+05 Fmax= 4.86265e+02, atom= 75\n",
      "Step= 1489, Dmax= 1.6e-03 nm, Epot= -1.45422e+05 Fmax= 9.50546e+02, atom= 75\n",
      "Step= 1490, Dmax= 1.9e-03 nm, Epot= -1.45426e+05 Fmax= 7.60915e+02, atom= 75\n",
      "Step= 1491, Dmax= 2.3e-03 nm, Epot= -1.45428e+05 Fmax= 1.30376e+03, atom= 75\n",
      "Step= 1492, Dmax= 2.7e-03 nm, Epot= -1.45432e+05 Fmax= 1.16297e+03, atom= 75\n",
      "Step= 1494, Dmax= 1.6e-03 nm, Epot= -1.45437e+05 Fmax= 3.30229e+02, atom= 75\n",
      "Step= 1495, Dmax= 2.0e-03 nm, Epot= -1.45441e+05 Fmax= 1.44537e+03, atom= 75\n",
      "Step= 1496, Dmax= 2.3e-03 nm, Epot= -1.45448e+05 Fmax= 7.03517e+02, atom= 75\n",
      "Step= 1498, Dmax= 1.4e-03 nm, Epot= -1.45451e+05 Fmax= 5.72958e+02, atom= 75\n",
      "Step= 1499, Dmax= 1.7e-03 nm, Epot= -1.45454e+05 Fmax= 9.70465e+02, atom= 75\n",
      "Step= 1500, Dmax= 2.0e-03 nm, Epot= -1.45458e+05 Fmax= 8.69673e+02, atom= 75\n",
      "Step= 1501, Dmax= 2.4e-03 nm, Epot= -1.45460e+05 Fmax= 1.34911e+03, atom= 75\n",
      "Step= 1502, Dmax= 2.9e-03 nm, Epot= -1.45463e+05 Fmax= 1.30327e+03, atom= 75\n",
      "Step= 1504, Dmax= 1.7e-03 nm, Epot= -1.45469e+05 Fmax= 3.02606e+02, atom= 75\n",
      "Step= 1505, Dmax= 2.1e-03 nm, Epot= -1.45474e+05 Fmax= 1.60602e+03, atom= 75\n",
      "Step= 1506, Dmax= 2.5e-03 nm, Epot= -1.45481e+05 Fmax= 7.05157e+02, atom= 75\n",
      "Step= 1508, Dmax= 1.5e-03 nm, Epot= -1.45484e+05 Fmax= 6.67234e+02, atom= 75\n",
      "Step= 1509, Dmax= 1.8e-03 nm, Epot= -1.45487e+05 Fmax= 9.91158e+02, atom= 75\n",
      "Step= 1510, Dmax= 2.2e-03 nm, Epot= -1.45491e+05 Fmax= 9.87490e+02, atom= 75\n",
      "Step= 1511, Dmax= 2.6e-03 nm, Epot= -1.45492e+05 Fmax= 1.39723e+03, atom= 75\n",
      "Step= 1512, Dmax= 3.1e-03 nm, Epot= -1.45496e+05 Fmax= 1.45470e+03, atom= 75\n",
      "Step= 1514, Dmax= 1.9e-03 nm, Epot= -1.45502e+05 Fmax= 2.72723e+02, atom= 75\n",
      "Step= 1515, Dmax= 2.3e-03 nm, Epot= -1.45507e+05 Fmax= 1.77872e+03, atom= 75\n",
      "Step= 1516, Dmax= 2.7e-03 nm, Epot= -1.45516e+05 Fmax= 7.07597e+02, atom= 75\n",
      "Step= 1518, Dmax= 1.6e-03 nm, Epot= -1.45519e+05 Fmax= 7.67736e+02, atom= 75\n",
      "Step= 1519, Dmax= 1.9e-03 nm, Epot= -1.45522e+05 Fmax= 1.01458e+03, atom= 75\n",
      "Step= 1520, Dmax= 2.3e-03 nm, Epot= -1.45525e+05 Fmax= 1.11284e+03, atom= 75\n",
      "Step= 1521, Dmax= 2.8e-03 nm, Epot= -1.45527e+05 Fmax= 1.45038e+03, atom= 75\n",
      "Step= 1522, Dmax= 3.4e-03 nm, Epot= -1.45529e+05 Fmax= 1.61646e+03, atom= 75\n",
      "Step= 1524, Dmax= 2.0e-03 nm, Epot= -1.45537e+05 Fmax= 2.42124e+02, atom= 75\n",
      "Step= 1525, Dmax= 2.4e-03 nm, Epot= -1.45543e+05 Fmax= 1.96200e+03, atom= 75\n",
      "Step= 1526, Dmax= 2.9e-03 nm, Epot= -1.45553e+05 Fmax= 7.13116e+02, atom= 75\n",
      "Step= 1528, Dmax= 1.7e-03 nm, Epot= -1.45556e+05 Fmax= 8.72783e+02, atom= 75\n",
      "Step= 1529, Dmax= 2.1e-03 nm, Epot= -1.45559e+05 Fmax= 1.04279e+03, atom= 75\n",
      "Step= 1530, Dmax= 2.5e-03 nm, Epot= -1.45561e+05 Fmax= 1.24465e+03, atom= 75\n",
      "Step= 1531, Dmax= 3.0e-03 nm, Epot= -1.45563e+05 Fmax= 1.51050e+03, atom= 75\n",
      "Step= 1532, Dmax= 3.6e-03 nm, Epot= -1.45565e+05 Fmax= 1.78735e+03, atom= 75\n",
      "Step= 1534, Dmax= 2.2e-03 nm, Epot= -1.45574e+05 Fmax= 2.12907e+02, atom= 75\n",
      "Step= 1535, Dmax= 2.6e-03 nm, Epot= -1.45581e+05 Fmax= 2.16003e+03, atom= 72\n",
      "Step= 1536, Dmax= 3.1e-03 nm, Epot= -1.45593e+05 Fmax= 7.16694e+02, atom= 75\n",
      "Step= 1538, Dmax= 1.9e-03 nm, Epot= -1.45596e+05 Fmax= 9.91335e+02, atom= 72\n",
      "Step= 1539, Dmax= 2.3e-03 nm, Epot= -1.45599e+05 Fmax= 1.06396e+03, atom= 75\n",
      "Step= 1540, Dmax= 2.7e-03 nm, Epot= -1.45601e+05 Fmax= 1.39703e+03, atom= 72\n",
      "Step= 1541, Dmax= 3.2e-03 nm, Epot= -1.45603e+05 Fmax= 1.56342e+03, atom= 75\n",
      "Step= 1542, Dmax= 3.9e-03 nm, Epot= -1.45603e+05 Fmax= 1.98355e+03, atom= 75\n",
      "Step= 1543, Dmax= 4.7e-03 nm, Epot= -1.45603e+05 Fmax= 2.27579e+03, atom= 75\n",
      "Step= 1545, Dmax= 2.8e-03 nm, Epot= -1.45618e+05 Fmax= 2.48535e+02, atom= 75\n",
      "Step= 1547, Dmax= 1.7e-03 nm, Epot= -1.45624e+05 Fmax= 1.29420e+03, atom= 75\n",
      "Step= 1548, Dmax= 2.0e-03 nm, Epot= -1.45629e+05 Fmax= 5.36803e+02, atom= 75\n",
      "Step= 1549, Dmax= 2.4e-03 nm, Epot= -1.45630e+05 Fmax= 1.67550e+03, atom= 75\n",
      "Step= 1550, Dmax= 2.9e-03 nm, Epot= -1.45637e+05 Fmax= 9.63577e+02, atom= 75\n",
      "Step= 1552, Dmax= 1.7e-03 nm, Epot= -1.45641e+05 Fmax= 6.34990e+02, atom= 75\n",
      "Step= 1553, Dmax= 2.1e-03 nm, Epot= -1.45643e+05 Fmax= 1.27111e+03, atom= 75\n",
      "Step= 1554, Dmax= 2.5e-03 nm, Epot= -1.45647e+05 Fmax= 1.02810e+03, atom= 75\n",
      "Step= 1556, Dmax= 1.5e-03 nm, Epot= -1.45651e+05 Fmax= 3.37996e+02, atom= 75\n",
      "Step= 1557, Dmax= 1.8e-03 nm, Epot= -1.45655e+05 Fmax= 1.31717e+03, atom= 75\n",
      "Step= 1558, Dmax= 2.2e-03 nm, Epot= -1.45660e+05 Fmax= 6.50812e+02, atom= 75\n",
      "Step= 1560, Dmax= 1.3e-03 nm, Epot= -1.45664e+05 Fmax= 5.42419e+02, atom= 75\n",
      "Step= 1561, Dmax= 1.6e-03 nm, Epot= -1.45667e+05 Fmax= 8.76982e+02, atom= 75\n",
      "Step= 1562, Dmax= 1.9e-03 nm, Epot= -1.45670e+05 Fmax= 8.39082e+02, atom= 75\n",
      "Step= 1563, Dmax= 2.2e-03 nm, Epot= -1.45672e+05 Fmax= 1.20837e+03, atom= 75\n",
      "Step= 1564, Dmax= 2.7e-03 nm, Epot= -1.45675e+05 Fmax= 1.25942e+03, atom= 75\n",
      "Step= 1565, Dmax= 3.2e-03 nm, Epot= -1.45676e+05 Fmax= 1.69192e+03, atom= 75\n",
      "Step= 1566, Dmax= 3.9e-03 nm, Epot= -1.45677e+05 Fmax= 1.85714e+03, atom= 75\n",
      "Step= 1568, Dmax= 2.3e-03 nm, Epot= -1.45687e+05 Fmax= 2.50913e+02, atom= 75\n",
      "Step= 1569, Dmax= 2.8e-03 nm, Epot= -1.45690e+05 Fmax= 2.30515e+03, atom= 75\n",
      "Step= 1570, Dmax= 3.4e-03 nm, Epot= -1.45705e+05 Fmax= 7.33282e+02, atom= 75\n",
      "Step= 1572, Dmax= 2.0e-03 nm, Epot= -1.45706e+05 Fmax= 1.11074e+03, atom= 75\n",
      "Step= 1573, Dmax= 2.4e-03 nm, Epot= -1.45710e+05 Fmax= 1.08999e+03, atom= 75\n",
      "Step= 1574, Dmax= 2.9e-03 nm, Epot= -1.45710e+05 Fmax= 1.56020e+03, atom= 75\n",
      "Step= 1575, Dmax= 3.5e-03 nm, Epot= -1.45713e+05 Fmax= 1.61008e+03, atom= 75\n",
      "Step= 1577, Dmax= 2.1e-03 nm, Epot= -1.45721e+05 Fmax= 3.08718e+02, atom= 75\n",
      "Step= 1578, Dmax= 2.5e-03 nm, Epot= -1.45723e+05 Fmax= 1.97340e+03, atom= 75\n",
      "Step= 1579, Dmax= 3.0e-03 nm, Epot= -1.45734e+05 Fmax= 7.88100e+02, atom= 75\n",
      "Step= 1581, Dmax= 1.8e-03 nm, Epot= -1.45737e+05 Fmax= 8.51521e+02, atom= 75\n",
      "Step= 1582, Dmax= 2.2e-03 nm, Epot= -1.45739e+05 Fmax= 1.12736e+03, atom= 75\n",
      "Step= 1583, Dmax= 2.6e-03 nm, Epot= -1.45741e+05 Fmax= 1.23636e+03, atom= 75\n",
      "Step= 1584, Dmax= 3.1e-03 nm, Epot= -1.45742e+05 Fmax= 1.60992e+03, atom= 75\n",
      "Step= 1585, Dmax= 3.7e-03 nm, Epot= -1.45744e+05 Fmax= 1.79720e+03, atom= 75\n",
      "Step= 1587, Dmax= 2.2e-03 nm, Epot= -1.45754e+05 Fmax= 2.66857e+02, atom= 75\n",
      "Step= 1588, Dmax= 2.7e-03 nm, Epot= -1.45756e+05 Fmax= 2.18596e+03, atom= 75\n",
      "Step= 1589, Dmax= 3.2e-03 nm, Epot= -1.45768e+05 Fmax= 7.85853e+02, atom= 75\n",
      "Step= 1591, Dmax= 1.9e-03 nm, Epot= -1.45771e+05 Fmax= 9.76553e+02, atom= 75\n",
      "Step= 1592, Dmax= 2.3e-03 nm, Epot= -1.45773e+05 Fmax= 1.15036e+03, atom= 75\n",
      "Step= 1593, Dmax= 2.8e-03 nm, Epot= -1.45775e+05 Fmax= 1.39135e+03, atom= 75\n",
      "Step= 1594, Dmax= 3.4e-03 nm, Epot= -1.45776e+05 Fmax= 1.66818e+03, atom= 75\n",
      "Step= 1595, Dmax= 4.0e-03 nm, Epot= -1.45777e+05 Fmax= 1.99581e+03, atom= 75\n",
      "Step= 1597, Dmax= 2.4e-03 nm, Epot= -1.45788e+05 Fmax= 2.26248e+02, atom= 75\n",
      "Step= 1598, Dmax= 2.9e-03 nm, Epot= -1.45792e+05 Fmax= 2.40874e+03, atom= 75\n",
      "Step= 1599, Dmax= 3.5e-03 nm, Epot= -1.45807e+05 Fmax= 7.90277e+02, atom= 75\n",
      "Step= 1601, Dmax= 2.1e-03 nm, Epot= -1.45809e+05 Fmax= 1.10420e+03, atom= 75\n",
      "Step= 1602, Dmax= 2.5e-03 nm, Epot= -1.45811e+05 Fmax= 1.18176e+03, atom= 75\n",
      "Step= 1603, Dmax= 3.0e-03 nm, Epot= -1.45812e+05 Fmax= 1.55149e+03, atom= 75\n",
      "Step= 1604, Dmax= 3.6e-03 nm, Epot= -1.45814e+05 Fmax= 1.73709e+03, atom= 75\n",
      "Step= 1606, Dmax= 2.2e-03 nm, Epot= -1.45823e+05 Fmax= 2.15744e+02, atom= 72\n",
      "Step= 1607, Dmax= 2.6e-03 nm, Epot= -1.45828e+05 Fmax= 2.15247e+03, atom= 75\n",
      "Step= 1608, Dmax= 3.1e-03 nm, Epot= -1.45840e+05 Fmax= 6.63379e+02, atom= 75\n",
      "Step= 1610, Dmax= 1.9e-03 nm, Epot= -1.45842e+05 Fmax= 1.04748e+03, atom= 75\n",
      "Step= 1611, Dmax= 2.2e-03 nm, Epot= -1.45846e+05 Fmax= 9.92116e+02, atom= 75\n",
      "Step= 1612, Dmax= 2.7e-03 nm, Epot= -1.45846e+05 Fmax= 1.46560e+03, atom= 75\n",
      "Step= 1613, Dmax= 3.2e-03 nm, Epot= -1.45849e+05 Fmax= 1.47267e+03, atom= 75\n",
      "Step= 1615, Dmax= 1.9e-03 nm, Epot= -1.45856e+05 Fmax= 3.07346e+02, atom= 75\n",
      "Step= 1616, Dmax= 2.3e-03 nm, Epot= -1.45859e+05 Fmax= 1.80662e+03, atom= 75\n",
      "Step= 1617, Dmax= 2.8e-03 nm, Epot= -1.45868e+05 Fmax= 7.54052e+02, atom= 75\n",
      "Step= 1619, Dmax= 1.7e-03 nm, Epot= -1.45870e+05 Fmax= 7.65257e+02, atom= 75\n",
      "Step= 1620, Dmax= 2.0e-03 nm, Epot= -1.45873e+05 Fmax= 1.07005e+03, atom= 75\n",
      "Step= 1621, Dmax= 2.4e-03 nm, Epot= -1.45875e+05 Fmax= 1.12054e+03, atom= 75\n",
      "Step= 1622, Dmax= 2.9e-03 nm, Epot= -1.45876e+05 Fmax= 1.51868e+03, atom= 75\n",
      "Step= 1623, Dmax= 3.5e-03 nm, Epot= -1.45878e+05 Fmax= 1.63893e+03, atom= 75\n",
      "Step= 1625, Dmax= 2.1e-03 nm, Epot= -1.45886e+05 Fmax= 2.75183e+02, atom= 75\n",
      "Step= 1626, Dmax= 2.5e-03 nm, Epot= -1.45889e+05 Fmax= 1.99724e+03, atom= 75\n",
      "Step= 1627, Dmax= 3.0e-03 nm, Epot= -1.45899e+05 Fmax= 7.57572e+02, atom= 75\n",
      "Step= 1629, Dmax= 1.8e-03 nm, Epot= -1.45902e+05 Fmax= 8.75734e+02, atom= 75\n",
      "Step= 1630, Dmax= 2.2e-03 nm, Epot= -1.45904e+05 Fmax= 1.09661e+03, atom= 75\n",
      "Step= 1631, Dmax= 2.6e-03 nm, Epot= -1.45906e+05 Fmax= 1.25900e+03, atom= 75\n",
      "Step= 1632, Dmax= 3.1e-03 nm, Epot= -1.45907e+05 Fmax= 1.57757e+03, atom= 75\n",
      "Step= 1633, Dmax= 3.7e-03 nm, Epot= -1.45909e+05 Fmax= 1.81834e+03, atom= 75\n",
      "Step= 1635, Dmax= 2.2e-03 nm, Epot= -1.45918e+05 Fmax= 2.41584e+02, atom= 75\n",
      "Step= 1636, Dmax= 2.7e-03 nm, Epot= -1.45921e+05 Fmax= 2.20437e+03, atom= 72\n",
      "Step= 1637, Dmax= 3.2e-03 nm, Epot= -1.45933e+05 Fmax= 7.58885e+02, atom= 75\n",
      "Step= 1639, Dmax= 1.9e-03 nm, Epot= -1.45936e+05 Fmax= 1.00010e+03, atom= 72\n",
      "Step= 1640, Dmax= 2.3e-03 nm, Epot= -1.45938e+05 Fmax= 1.11648e+03, atom= 75\n",
      "Step= 1641, Dmax= 2.8e-03 nm, Epot= -1.45940e+05 Fmax= 1.41739e+03, atom= 72\n",
      "Step= 1642, Dmax= 3.3e-03 nm, Epot= -1.45941e+05 Fmax= 1.63141e+03, atom= 75\n",
      "Step= 1644, Dmax= 2.0e-03 nm, Epot= -1.45949e+05 Fmax= 1.80737e+02, atom= 72\n",
      "Step= 1645, Dmax= 2.4e-03 nm, Epot= -1.45956e+05 Fmax= 2.00353e+03, atom= 75\n",
      "Step= 1646, Dmax= 2.9e-03 nm, Epot= -1.45968e+05 Fmax= 6.07886e+02, atom= 75\n",
      "Step= 1648, Dmax= 1.7e-03 nm, Epot= -1.45970e+05 Fmax= 9.79164e+02, atom= 75\n",
      "Step= 1649, Dmax= 2.1e-03 nm, Epot= -1.45973e+05 Fmax= 9.11413e+02, atom= 75\n",
      "Step= 1650, Dmax= 2.5e-03 nm, Epot= -1.45974e+05 Fmax= 1.36792e+03, atom= 75\n",
      "Step= 1651, Dmax= 3.0e-03 nm, Epot= -1.45977e+05 Fmax= 1.35580e+03, atom= 75\n",
      "Step= 1653, Dmax= 1.8e-03 nm, Epot= -1.45982e+05 Fmax= 2.94545e+02, atom= 75\n",
      "Step= 1654, Dmax= 2.2e-03 nm, Epot= -1.45985e+05 Fmax= 1.66358e+03, atom= 75\n",
      "Step= 1655, Dmax= 2.6e-03 nm, Epot= -1.45993e+05 Fmax= 7.10177e+02, atom= 75\n",
      "Step= 1657, Dmax= 1.6e-03 nm, Epot= -1.45996e+05 Fmax= 6.97989e+02, atom= 75\n",
      "Step= 1658, Dmax= 1.9e-03 nm, Epot= -1.45998e+05 Fmax= 1.00422e+03, atom= 75\n",
      "Step= 1659, Dmax= 2.2e-03 nm, Epot= -1.46001e+05 Fmax= 1.02632e+03, atom= 75\n",
      "Step= 1660, Dmax= 2.7e-03 nm, Epot= -1.46001e+05 Fmax= 1.42121e+03, atom= 75\n",
      "Step= 1661, Dmax= 3.2e-03 nm, Epot= -1.46004e+05 Fmax= 1.50586e+03, atom= 75\n",
      "Step= 1663, Dmax= 1.9e-03 nm, Epot= -1.46011e+05 Fmax= 2.68508e+02, atom= 75\n",
      "Step= 1664, Dmax= 2.3e-03 nm, Epot= -1.46014e+05 Fmax= 1.83655e+03, atom= 75\n",
      "Step= 1665, Dmax= 2.8e-03 nm, Epot= -1.46023e+05 Fmax= 7.16698e+02, atom= 75\n",
      "Step= 1667, Dmax= 1.7e-03 nm, Epot= -1.46025e+05 Fmax= 7.97296e+02, atom= 72\n",
      "Step= 1668, Dmax= 2.0e-03 nm, Epot= -1.46027e+05 Fmax= 1.03185e+03, atom= 75\n",
      "Step= 1669, Dmax= 2.4e-03 nm, Epot= -1.46030e+05 Fmax= 1.15163e+03, atom= 75\n",
      "Step= 1670, Dmax= 2.9e-03 nm, Epot= -1.46031e+05 Fmax= 1.47881e+03, atom= 75\n",
      "Step= 1671, Dmax= 3.5e-03 nm, Epot= -1.46032e+05 Fmax= 1.66900e+03, atom= 75\n",
      "Step= 1673, Dmax= 2.1e-03 nm, Epot= -1.46040e+05 Fmax= 2.40152e+02, atom= 75\n",
      "Step= 1674, Dmax= 2.5e-03 nm, Epot= -1.46043e+05 Fmax= 2.02606e+03, atom= 72\n",
      "Step= 1675, Dmax= 3.0e-03 nm, Epot= -1.46054e+05 Fmax= 7.19687e+02, atom= 75\n",
      "Step= 1677, Dmax= 1.8e-03 nm, Epot= -1.46057e+05 Fmax= 9.11600e+02, atom= 72\n",
      "Step= 1678, Dmax= 2.2e-03 nm, Epot= -1.46059e+05 Fmax= 1.05017e+03, atom= 75\n",
      "Step= 1679, Dmax= 2.6e-03 nm, Epot= -1.46060e+05 Fmax= 1.29949e+03, atom= 72\n",
      "Step= 1680, Dmax= 3.1e-03 nm, Epot= -1.46062e+05 Fmax= 1.52655e+03, atom= 75\n",
      "Step= 1682, Dmax= 1.9e-03 nm, Epot= -1.46069e+05 Fmax= 1.54856e+02, atom= 72\n",
      "Step= 1683, Dmax= 2.2e-03 nm, Epot= -1.46078e+05 Fmax= 1.86669e+03, atom= 75\n",
      "Step= 1684, Dmax= 2.7e-03 nm, Epot= -1.46087e+05 Fmax= 5.55718e+02, atom= 75\n",
      "Step= 1686, Dmax= 1.6e-03 nm, Epot= -1.46090e+05 Fmax= 9.16133e+02, atom= 75\n",
      "Step= 1687, Dmax= 1.9e-03 nm, Epot= -1.46093e+05 Fmax= 8.36545e+02, atom= 75\n",
      "Step= 1688, Dmax= 2.3e-03 nm, Epot= -1.46094e+05 Fmax= 1.27720e+03, atom= 75\n",
      "Step= 1689, Dmax= 2.8e-03 nm, Epot= -1.46097e+05 Fmax= 1.24786e+03, atom= 75\n",
      "Step= 1691, Dmax= 1.7e-03 nm, Epot= -1.46102e+05 Fmax= 2.81790e+02, atom= 75\n",
      "Step= 1692, Dmax= 2.0e-03 nm, Epot= -1.46105e+05 Fmax= 1.53270e+03, atom= 75\n",
      "Step= 1693, Dmax= 2.4e-03 nm, Epot= -1.46112e+05 Fmax= 6.67639e+02, atom= 75\n",
      "Step= 1695, Dmax= 1.4e-03 nm, Epot= -1.46114e+05 Fmax= 6.37836e+02, atom= 75\n",
      "Step= 1696, Dmax= 1.7e-03 nm, Epot= -1.46117e+05 Fmax= 9.40949e+02, atom= 75\n",
      "Step= 1697, Dmax= 2.1e-03 nm, Epot= -1.46119e+05 Fmax= 9.41481e+02, atom= 75\n",
      "Step= 1698, Dmax= 2.5e-03 nm, Epot= -1.46120e+05 Fmax= 1.32818e+03, atom= 75\n",
      "Step= 1699, Dmax= 3.0e-03 nm, Epot= -1.46123e+05 Fmax= 1.38549e+03, atom= 75\n",
      "Step= 1701, Dmax= 1.8e-03 nm, Epot= -1.46129e+05 Fmax= 2.59142e+02, atom= 75\n",
      "Step= 1702, Dmax= 2.1e-03 nm, Epot= -1.46132e+05 Fmax= 1.69142e+03, atom= 75\n",
      "Step= 1703, Dmax= 2.6e-03 nm, Epot= -1.46140e+05 Fmax= 6.74945e+02, atom= 75\n",
      "Step= 1705, Dmax= 1.5e-03 nm, Epot= -1.46142e+05 Fmax= 7.28665e+02, atom= 75\n",
      "Step= 1706, Dmax= 1.9e-03 nm, Epot= -1.46144e+05 Fmax= 9.67716e+02, atom= 75\n",
      "Step= 1707, Dmax= 2.2e-03 nm, Epot= -1.46147e+05 Fmax= 1.05656e+03, atom= 75\n",
      "Step= 1708, Dmax= 2.7e-03 nm, Epot= -1.46148e+05 Fmax= 1.38269e+03, atom= 75\n",
      "Step= 1709, Dmax= 3.2e-03 nm, Epot= -1.46149e+05 Fmax= 1.53547e+03, atom= 75\n",
      "Step= 1711, Dmax= 1.9e-03 nm, Epot= -1.46157e+05 Fmax= 2.33667e+02, atom= 75\n",
      "Step= 1712, Dmax= 2.3e-03 nm, Epot= -1.46160e+05 Fmax= 1.86401e+03, atom= 72\n",
      "Step= 1713, Dmax= 2.8e-03 nm, Epot= -1.46169e+05 Fmax= 6.81131e+02, atom= 75\n",
      "Step= 1715, Dmax= 1.7e-03 nm, Epot= -1.46171e+05 Fmax= 8.30649e+02, atom= 72\n",
      "Step= 1716, Dmax= 2.0e-03 nm, Epot= -1.46174e+05 Fmax= 9.89165e+02, atom= 75\n",
      "Step= 1717, Dmax= 2.4e-03 nm, Epot= -1.46176e+05 Fmax= 1.18804e+03, atom= 72\n",
      "Step= 1718, Dmax= 2.9e-03 nm, Epot= -1.46176e+05 Fmax= 1.43346e+03, atom= 75\n",
      "Step= 1719, Dmax= 3.4e-03 nm, Epot= -1.46177e+05 Fmax= 1.70517e+03, atom= 75\n",
      "Step= 1721, Dmax= 2.1e-03 nm, Epot= -1.46186e+05 Fmax= 1.98557e+02, atom= 75\n",
      "Step= 1722, Dmax= 2.5e-03 nm, Epot= -1.46190e+05 Fmax= 2.06604e+03, atom= 72\n",
      "Step= 1723, Dmax= 3.0e-03 nm, Epot= -1.46201e+05 Fmax= 6.68962e+02, atom= 75\n",
      "Step= 1725, Dmax= 1.8e-03 nm, Epot= -1.46203e+05 Fmax= 9.60714e+02, atom= 72\n",
      "Step= 1726, Dmax= 2.1e-03 nm, Epot= -1.46205e+05 Fmax= 9.91304e+02, atom= 75\n",
      "Step= 1727, Dmax= 2.6e-03 nm, Epot= -1.46206e+05 Fmax= 1.35701e+03, atom= 72\n",
      "Step= 1728, Dmax= 3.1e-03 nm, Epot= -1.46208e+05 Fmax= 1.45460e+03, atom= 75\n",
      "Step= 1730, Dmax= 1.9e-03 nm, Epot= -1.46215e+05 Fmax= 2.22397e+02, atom= 72\n",
      "Step= 1731, Dmax= 2.2e-03 nm, Epot= -1.46219e+05 Fmax= 1.78446e+03, atom= 75\n",
      "Step= 1732, Dmax= 2.7e-03 nm, Epot= -1.46228e+05 Fmax= 6.29597e+02, atom= 75\n",
      "Step= 1734, Dmax= 1.6e-03 nm, Epot= -1.46230e+05 Fmax= 8.36280e+02, atom= 75\n",
      "Step= 1735, Dmax= 1.9e-03 nm, Epot= -1.46232e+05 Fmax= 9.11030e+02, atom= 75\n",
      "Step= 1736, Dmax= 2.3e-03 nm, Epot= -1.46233e+05 Fmax= 1.19553e+03, atom= 75\n",
      "Step= 1737, Dmax= 2.8e-03 nm, Epot= -1.46235e+05 Fmax= 1.32243e+03, atom= 75\n",
      "Step= 1738, Dmax= 3.3e-03 nm, Epot= -1.46235e+05 Fmax= 1.70589e+03, atom= 75\n",
      "Step= 1739, Dmax= 4.0e-03 nm, Epot= -1.46236e+05 Fmax= 1.92230e+03, atom= 75\n",
      "Step= 1741, Dmax= 2.4e-03 nm, Epot= -1.46247e+05 Fmax= 2.78906e+02, atom= 75\n",
      "Step= 1743, Dmax= 1.4e-03 nm, Epot= -1.46250e+05 Fmax= 1.02558e+03, atom= 72\n",
      "Step= 1744, Dmax= 1.7e-03 nm, Epot= -1.46254e+05 Fmax= 5.48165e+02, atom= 75\n",
      "Step= 1745, Dmax= 2.1e-03 nm, Epot= -1.46255e+05 Fmax= 1.33376e+03, atom= 72\n",
      "Step= 1746, Dmax= 2.5e-03 nm, Epot= -1.46259e+05 Fmax= 9.32033e+02, atom= 75\n",
      "Step= 1748, Dmax= 1.5e-03 nm, Epot= -1.46262e+05 Fmax= 4.18276e+02, atom= 72\n",
      "Step= 1749, Dmax= 1.8e-03 nm, Epot= -1.46264e+05 Fmax= 1.20166e+03, atom= 75\n",
      "Step= 1750, Dmax= 2.1e-03 nm, Epot= -1.46268e+05 Fmax= 7.41140e+02, atom= 72\n",
      "Step= 1752, Dmax= 1.3e-03 nm, Epot= -1.46271e+05 Fmax= 4.35801e+02, atom= 75\n",
      "Step= 1753, Dmax= 1.5e-03 nm, Epot= -1.46273e+05 Fmax= 9.65410e+02, atom= 72\n",
      "Step= 1754, Dmax= 1.9e-03 nm, Epot= -1.46276e+05 Fmax= 7.27797e+02, atom= 75\n",
      "Step= 1755, Dmax= 2.2e-03 nm, Epot= -1.46277e+05 Fmax= 1.29383e+03, atom= 75\n",
      "Step= 1756, Dmax= 2.7e-03 nm, Epot= -1.46280e+05 Fmax= 1.14197e+03, atom= 75\n",
      "Step= 1758, Dmax= 1.6e-03 nm, Epot= -1.46285e+05 Fmax= 3.07429e+02, atom= 72\n",
      "Step= 1759, Dmax= 1.9e-03 nm, Epot= -1.46287e+05 Fmax= 1.43377e+03, atom= 75\n",
      "Step= 1760, Dmax= 2.3e-03 nm, Epot= -1.46293e+05 Fmax= 6.51807e+02, atom= 75\n",
      "Step= 1762, Dmax= 1.4e-03 nm, Epot= -1.46295e+05 Fmax= 6.13128e+02, atom= 75\n",
      "Step= 1763, Dmax= 1.7e-03 nm, Epot= -1.46297e+05 Fmax= 8.93546e+02, atom= 75\n",
      "Step= 1764, Dmax= 2.0e-03 nm, Epot= -1.46300e+05 Fmax= 9.25270e+02, atom= 75\n",
      "Step= 1765, Dmax= 2.4e-03 nm, Epot= -1.46300e+05 Fmax= 1.24727e+03, atom= 75\n",
      "Step= 1766, Dmax= 2.9e-03 nm, Epot= -1.46303e+05 Fmax= 1.36800e+03, atom= 75\n",
      "Step= 1768, Dmax= 1.7e-03 nm, Epot= -1.46309e+05 Fmax= 1.87595e+02, atom= 72\n",
      "Step= 1769, Dmax= 2.1e-03 nm, Epot= -1.46314e+05 Fmax= 1.68779e+03, atom= 75\n",
      "Step= 1770, Dmax= 2.5e-03 nm, Epot= -1.46322e+05 Fmax= 5.52136e+02, atom= 75\n",
      "Step= 1772, Dmax= 1.5e-03 nm, Epot= -1.46324e+05 Fmax= 8.06962e+02, atom= 75\n",
      "Step= 1773, Dmax= 1.8e-03 nm, Epot= -1.46326e+05 Fmax= 8.12941e+02, atom= 75\n",
      "Step= 1774, Dmax= 2.1e-03 nm, Epot= -1.46327e+05 Fmax= 1.14009e+03, atom= 75\n",
      "Step= 1775, Dmax= 2.6e-03 nm, Epot= -1.46330e+05 Fmax= 1.19407e+03, atom= 75\n",
      "Step= 1776, Dmax= 3.1e-03 nm, Epot= -1.46330e+05 Fmax= 1.61395e+03, atom= 75\n",
      "Step= 1777, Dmax= 3.7e-03 nm, Epot= -1.46331e+05 Fmax= 1.74926e+03, atom= 75\n",
      "Step= 1779, Dmax= 2.2e-03 nm, Epot= -1.46340e+05 Fmax= 2.88453e+02, atom= 75\n",
      "Step= 1781, Dmax= 1.3e-03 nm, Epot= -1.46343e+05 Fmax= 9.17545e+02, atom= 75\n",
      "Step= 1782, Dmax= 1.6e-03 nm, Epot= -1.46346e+05 Fmax= 5.43442e+02, atom= 75\n",
      "Step= 1783, Dmax= 1.9e-03 nm, Epot= -1.46347e+05 Fmax= 1.19867e+03, atom= 75\n",
      "Step= 1784, Dmax= 2.3e-03 nm, Epot= -1.46351e+05 Fmax= 9.02855e+02, atom= 75\n",
      "Step= 1786, Dmax= 1.4e-03 nm, Epot= -1.46354e+05 Fmax= 3.47031e+02, atom= 72\n",
      "Step= 1787, Dmax= 1.7e-03 nm, Epot= -1.46356e+05 Fmax= 1.16400e+03, atom= 75\n",
      "Step= 1788, Dmax= 2.0e-03 nm, Epot= -1.46360e+05 Fmax= 6.36936e+02, atom= 75\n",
      "Step= 1790, Dmax= 1.2e-03 nm, Epot= -1.46363e+05 Fmax= 4.54282e+02, atom= 75\n",
      "Step= 1791, Dmax= 1.4e-03 nm, Epot= -1.46365e+05 Fmax= 8.44494e+02, atom= 75\n",
      "Step= 1792, Dmax= 1.7e-03 nm, Epot= -1.46368e+05 Fmax= 7.25041e+02, atom= 75\n",
      "Step= 1793, Dmax= 2.1e-03 nm, Epot= -1.46369e+05 Fmax= 1.14856e+03, atom= 75\n",
      "Step= 1794, Dmax= 2.5e-03 nm, Epot= -1.46372e+05 Fmax= 1.10896e+03, atom= 75\n",
      "Step= 1796, Dmax= 1.5e-03 nm, Epot= -1.46376e+05 Fmax= 2.33996e+02, atom= 72\n",
      "Step= 1797, Dmax= 1.8e-03 nm, Epot= -1.46379e+05 Fmax= 1.39107e+03, atom= 75\n",
      "Step= 1798, Dmax= 2.1e-03 nm, Epot= -1.46385e+05 Fmax= 5.43102e+02, atom= 75\n",
      "Step= 1800, Dmax= 1.3e-03 nm, Epot= -1.46388e+05 Fmax= 6.29354e+02, atom= 75\n",
      "Step= 1801, Dmax= 1.5e-03 nm, Epot= -1.46390e+05 Fmax= 7.67600e+02, atom= 75\n",
      "Step= 1802, Dmax= 1.8e-03 nm, Epot= -1.46392e+05 Fmax= 9.18105e+02, atom= 75\n",
      "Step= 1803, Dmax= 2.2e-03 nm, Epot= -1.46393e+05 Fmax= 1.09563e+03, atom= 75\n",
      "Step= 1804, Dmax= 2.7e-03 nm, Epot= -1.46395e+05 Fmax= 1.32837e+03, atom= 75\n",
      "Step= 1805, Dmax= 3.2e-03 nm, Epot= -1.46396e+05 Fmax= 1.57347e+03, atom= 75\n",
      "Step= 1807, Dmax= 1.9e-03 nm, Epot= -1.46403e+05 Fmax= 1.83497e+02, atom= 75\n",
      "Step= 1808, Dmax= 2.3e-03 nm, Epot= -1.46408e+05 Fmax= 1.89834e+03, atom= 75\n",
      "Step= 1809, Dmax= 2.8e-03 nm, Epot= -1.46417e+05 Fmax= 6.29734e+02, atom= 75\n",
      "Step= 1811, Dmax= 1.7e-03 nm, Epot= -1.46419e+05 Fmax= 8.70463e+02, atom= 75\n",
      "Step= 1812, Dmax= 2.0e-03 nm, Epot= -1.46421e+05 Fmax= 9.39756e+02, atom= 75\n",
      "Step= 1813, Dmax= 2.4e-03 nm, Epot= -1.46422e+05 Fmax= 1.22418e+03, atom= 75\n",
      "Step= 1814, Dmax= 2.9e-03 nm, Epot= -1.46424e+05 Fmax= 1.38009e+03, atom= 75\n",
      "Step= 1815, Dmax= 3.4e-03 nm, Epot= -1.46424e+05 Fmax= 1.73953e+03, atom= 75\n",
      "Step= 1817, Dmax= 2.1e-03 nm, Epot= -1.46432e+05 Fmax= 1.51081e+02, atom= 75\n",
      "Step= 1818, Dmax= 2.5e-03 nm, Epot= -1.46440e+05 Fmax= 2.09506e+03, atom= 72\n",
      "Step= 1819, Dmax= 3.0e-03 nm, Epot= -1.46450e+05 Fmax= 6.22697e+02, atom= 75\n",
      "Step= 1821, Dmax= 1.8e-03 nm, Epot= -1.46451e+05 Fmax= 9.94723e+02, atom= 72\n",
      "Step= 1822, Dmax= 2.1e-03 nm, Epot= -1.46454e+05 Fmax= 9.46517e+02, atom= 75\n",
      "Step= 1823, Dmax= 2.6e-03 nm, Epot= -1.46454e+05 Fmax= 1.38525e+03, atom= 72\n",
      "Step= 1824, Dmax= 3.1e-03 nm, Epot= -1.46456e+05 Fmax= 1.41040e+03, atom= 75\n",
      "Step= 1826, Dmax= 1.8e-03 nm, Epot= -1.46463e+05 Fmax= 2.55586e+02, atom= 72\n",
      "Step= 1827, Dmax= 2.2e-03 nm, Epot= -1.46464e+05 Fmax= 1.74360e+03, atom= 75\n",
      "Step= 1828, Dmax= 2.7e-03 nm, Epot= -1.46472e+05 Fmax= 6.55515e+02, atom= 75\n",
      "Step= 1830, Dmax= 1.6e-03 nm, Epot= -1.46474e+05 Fmax= 7.99424e+02, atom= 75\n",
      "Step= 1831, Dmax= 1.9e-03 nm, Epot= -1.46476e+05 Fmax= 9.37482e+02, atom= 75\n",
      "Step= 1832, Dmax= 2.3e-03 nm, Epot= -1.46478e+05 Fmax= 1.15433e+03, atom= 75\n",
      "Step= 1833, Dmax= 2.7e-03 nm, Epot= -1.46479e+05 Fmax= 1.34839e+03, atom= 75\n",
      "Step= 1834, Dmax= 3.3e-03 nm, Epot= -1.46479e+05 Fmax= 1.65936e+03, atom= 75\n",
      "Step= 1835, Dmax= 4.0e-03 nm, Epot= -1.46479e+05 Fmax= 1.94673e+03, atom= 75\n",
      "Step= 1837, Dmax= 2.4e-03 nm, Epot= -1.46489e+05 Fmax= 2.39794e+02, atom= 75\n",
      "Step= 1839, Dmax= 1.4e-03 nm, Epot= -1.46493e+05 Fmax= 1.05747e+03, atom= 72\n",
      "Step= 1840, Dmax= 1.7e-03 nm, Epot= -1.46497e+05 Fmax= 5.05449e+02, atom= 75\n",
      "Step= 1841, Dmax= 2.1e-03 nm, Epot= -1.46497e+05 Fmax= 1.36601e+03, atom= 72\n",
      "Step= 1842, Dmax= 2.5e-03 nm, Epot= -1.46502e+05 Fmax= 8.84177e+02, atom= 75\n",
      "Step= 1844, Dmax= 1.5e-03 nm, Epot= -1.46505e+05 Fmax= 4.57864e+02, atom= 72\n",
      "Step= 1845, Dmax= 1.8e-03 nm, Epot= -1.46506e+05 Fmax= 1.15151e+03, atom= 75\n",
      "Step= 1846, Dmax= 2.1e-03 nm, Epot= -1.46510e+05 Fmax= 7.79610e+02, atom= 72\n",
      "Step= 1848, Dmax= 1.3e-03 nm, Epot= -1.46513e+05 Fmax= 3.89027e+02, atom= 75\n",
      "Step= 1849, Dmax= 1.5e-03 nm, Epot= -1.46515e+05 Fmax= 1.00453e+03, atom= 72\n",
      "Step= 1850, Dmax= 1.8e-03 nm, Epot= -1.46518e+05 Fmax= 6.76892e+02, atom= 75\n",
      "Step= 1851, Dmax= 2.2e-03 nm, Epot= -1.46518e+05 Fmax= 1.33344e+03, atom= 72\n",
      "Step= 1852, Dmax= 2.6e-03 nm, Epot= -1.46522e+05 Fmax= 1.08596e+03, atom= 75\n",
      "Step= 1854, Dmax= 1.6e-03 nm, Epot= -1.46526e+05 Fmax= 3.54495e+02, atom= 72\n",
      "Step= 1855, Dmax= 1.9e-03 nm, Epot= -1.46527e+05 Fmax= 1.37496e+03, atom= 75\n",
      "Step= 1856, Dmax= 2.3e-03 nm, Epot= -1.46532e+05 Fmax= 6.98046e+02, atom= 75\n",
      "Step= 1858, Dmax= 1.4e-03 nm, Epot= -1.46534e+05 Fmax= 5.57688e+02, atom= 75\n",
      "Step= 1859, Dmax= 1.6e-03 nm, Epot= -1.46536e+05 Fmax= 9.40410e+02, atom= 75\n",
      "Step= 1860, Dmax= 2.0e-03 nm, Epot= -1.46539e+05 Fmax= 8.65820e+02, atom= 75\n",
      "Step= 1861, Dmax= 2.4e-03 nm, Epot= -1.46539e+05 Fmax= 1.29417e+03, atom= 75\n",
      "Step= 1862, Dmax= 2.8e-03 nm, Epot= -1.46541e+05 Fmax= 1.30368e+03, atom= 75\n",
      "Step= 1864, Dmax= 1.7e-03 nm, Epot= -1.46546e+05 Fmax= 2.41892e+02, atom= 72\n",
      "Step= 1865, Dmax= 2.0e-03 nm, Epot= -1.46549e+05 Fmax= 1.61992e+03, atom= 75\n",
      "Step= 1866, Dmax= 2.5e-03 nm, Epot= -1.46556e+05 Fmax= 6.06184e+02, atom= 75\n",
      "Step= 1868, Dmax= 1.5e-03 nm, Epot= -1.46558e+05 Fmax= 7.42548e+02, atom= 75\n",
      "Step= 1869, Dmax= 1.8e-03 nm, Epot= -1.46560e+05 Fmax= 8.67851e+02, atom= 75\n",
      "Step= 1870, Dmax= 2.1e-03 nm, Epot= -1.46561e+05 Fmax= 1.07149e+03, atom= 75\n",
      "Step= 1871, Dmax= 2.5e-03 nm, Epot= -1.46563e+05 Fmax= 1.24909e+03, atom= 75\n",
      "Step= 1872, Dmax= 3.1e-03 nm, Epot= -1.46563e+05 Fmax= 1.54004e+03, atom= 75\n",
      "Step= 1873, Dmax= 3.7e-03 nm, Epot= -1.46564e+05 Fmax= 1.80350e+03, atom= 75\n",
      "Step= 1875, Dmax= 2.2e-03 nm, Epot= -1.46572e+05 Fmax= 2.21806e+02, atom= 75\n",
      "Step= 1876, Dmax= 2.6e-03 nm, Epot= -1.46573e+05 Fmax= 2.18993e+03, atom= 72\n",
      "Step= 1877, Dmax= 3.2e-03 nm, Epot= -1.46585e+05 Fmax= 7.23656e+02, atom= 75\n",
      "Step= 1879, Dmax= 1.9e-03 nm, Epot= -1.46586e+05 Fmax= 1.00704e+03, atom= 72\n",
      "Step= 1880, Dmax= 2.3e-03 nm, Epot= -1.46588e+05 Fmax= 1.07429e+03, atom= 75\n",
      "Step= 1881, Dmax= 2.7e-03 nm, Epot= -1.46589e+05 Fmax= 1.41992e+03, atom= 75\n",
      "Step= 1882, Dmax= 3.3e-03 nm, Epot= -1.46590e+05 Fmax= 1.57693e+03, atom= 75\n",
      "Step= 1884, Dmax= 2.0e-03 nm, Epot= -1.46597e+05 Fmax= 2.05046e+02, atom= 72\n",
      "Step= 1885, Dmax= 2.4e-03 nm, Epot= -1.46599e+05 Fmax= 1.94598e+03, atom= 75\n",
      "Step= 1886, Dmax= 2.8e-03 nm, Epot= -1.46609e+05 Fmax= 6.23515e+02, atom= 75\n",
      "Step= 1888, Dmax= 1.7e-03 nm, Epot= -1.46611e+05 Fmax= 9.33919e+02, atom= 75\n",
      "Step= 1889, Dmax= 2.0e-03 nm, Epot= -1.46613e+05 Fmax= 9.27573e+02, atom= 75\n",
      "Step= 1890, Dmax= 2.5e-03 nm, Epot= -1.46613e+05 Fmax= 1.31120e+03, atom= 75\n",
      "Step= 1891, Dmax= 2.9e-03 nm, Epot= -1.46615e+05 Fmax= 1.37010e+03, atom= 75\n",
      "Step= 1893, Dmax= 1.8e-03 nm, Epot= -1.46621e+05 Fmax= 2.51956e+02, atom= 75\n",
      "Step= 1894, Dmax= 2.1e-03 nm, Epot= -1.46623e+05 Fmax= 1.68019e+03, atom= 75\n",
      "Step= 1895, Dmax= 2.5e-03 nm, Epot= -1.46630e+05 Fmax= 6.53305e+02, atom= 75\n",
      "Step= 1897, Dmax= 1.5e-03 nm, Epot= -1.46632e+05 Fmax= 7.33886e+02, atom= 75\n",
      "Step= 1898, Dmax= 1.8e-03 nm, Epot= -1.46633e+05 Fmax= 9.37682e+02, atom= 75\n",
      "Step= 1899, Dmax= 2.2e-03 nm, Epot= -1.46635e+05 Fmax= 1.06208e+03, atom= 75\n",
      "Step= 1900, Dmax= 2.6e-03 nm, Epot= -1.46636e+05 Fmax= 1.34278e+03, atom= 75\n",
      "Step= 1901, Dmax= 3.2e-03 nm, Epot= -1.46637e+05 Fmax= 1.53931e+03, atom= 75\n",
      "Step= 1903, Dmax= 1.9e-03 nm, Epot= -1.46644e+05 Fmax= 2.05482e+02, atom= 75\n",
      "Step= 1904, Dmax= 2.3e-03 nm, Epot= -1.46647e+05 Fmax= 1.87170e+03, atom= 72\n",
      "Step= 1905, Dmax= 2.7e-03 nm, Epot= -1.46655e+05 Fmax= 6.38949e+02, atom= 75\n",
      "Step= 1907, Dmax= 1.6e-03 nm, Epot= -1.46657e+05 Fmax= 8.53880e+02, atom= 72\n",
      "Step= 1908, Dmax= 2.0e-03 nm, Epot= -1.46659e+05 Fmax= 9.41545e+02, atom= 75\n",
      "Step= 1909, Dmax= 2.4e-03 nm, Epot= -1.46660e+05 Fmax= 1.20929e+03, atom= 75\n",
      "Step= 1910, Dmax= 2.8e-03 nm, Epot= -1.46661e+05 Fmax= 1.37617e+03, atom= 75\n",
      "Step= 1912, Dmax= 1.7e-03 nm, Epot= -1.46667e+05 Fmax= 1.62946e+02, atom= 72\n",
      "Step= 1913, Dmax= 2.0e-03 nm, Epot= -1.46672e+05 Fmax= 1.69053e+03, atom= 75\n",
      "Step= 1914, Dmax= 2.5e-03 nm, Epot= -1.46680e+05 Fmax= 5.27719e+02, atom= 75\n",
      "Step= 1916, Dmax= 1.5e-03 nm, Epot= -1.46682e+05 Fmax= 8.15993e+02, atom= 75\n",
      "Step= 1917, Dmax= 1.8e-03 nm, Epot= -1.46684e+05 Fmax= 7.89238e+02, atom= 75\n",
      "Step= 1918, Dmax= 2.1e-03 nm, Epot= -1.46685e+05 Fmax= 1.14232e+03, atom= 75\n",
      "Step= 1919, Dmax= 2.5e-03 nm, Epot= -1.46687e+05 Fmax= 1.17002e+03, atom= 75\n",
      "Step= 1921, Dmax= 1.5e-03 nm, Epot= -1.46691e+05 Fmax= 2.28121e+02, atom= 75\n",
      "Step= 1922, Dmax= 1.8e-03 nm, Epot= -1.46694e+05 Fmax= 1.43656e+03, atom= 75\n",
      "Step= 1923, Dmax= 2.2e-03 nm, Epot= -1.46700e+05 Fmax= 5.74887e+02, atom= 75\n",
      "Step= 1925, Dmax= 1.3e-03 nm, Epot= -1.46702e+05 Fmax= 6.21448e+02, atom= 75\n",
      "Step= 1926, Dmax= 1.6e-03 nm, Epot= -1.46704e+05 Fmax= 8.20909e+02, atom= 75\n",
      "Step= 1927, Dmax= 1.9e-03 nm, Epot= -1.46706e+05 Fmax= 9.03798e+02, atom= 75\n",
      "Step= 1928, Dmax= 2.3e-03 nm, Epot= -1.46707e+05 Fmax= 1.17106e+03, atom= 75\n",
      "Step= 1929, Dmax= 2.7e-03 nm, Epot= -1.46708e+05 Fmax= 1.31455e+03, atom= 75\n",
      "Step= 1931, Dmax= 1.6e-03 nm, Epot= -1.46713e+05 Fmax= 1.89026e+02, atom= 75\n",
      "Step= 1932, Dmax= 2.0e-03 nm, Epot= -1.46717e+05 Fmax= 1.59973e+03, atom= 75\n",
      "Step= 1933, Dmax= 2.4e-03 nm, Epot= -1.46724e+05 Fmax= 5.64255e+02, atom= 75\n",
      "Step= 1935, Dmax= 1.4e-03 nm, Epot= -1.46726e+05 Fmax= 7.22488e+02, atom= 72\n",
      "Step= 1936, Dmax= 1.7e-03 nm, Epot= -1.46728e+05 Fmax= 8.27206e+02, atom= 75\n",
      "Step= 1937, Dmax= 2.0e-03 nm, Epot= -1.46729e+05 Fmax= 1.02755e+03, atom= 75\n",
      "Step= 1938, Dmax= 2.4e-03 nm, Epot= -1.46731e+05 Fmax= 1.20291e+03, atom= 75\n",
      "Step= 1939, Dmax= 2.9e-03 nm, Epot= -1.46731e+05 Fmax= 1.47046e+03, atom= 75\n",
      "Step= 1941, Dmax= 1.8e-03 nm, Epot= -1.46737e+05 Fmax= 1.47560e+02, atom= 75\n",
      "Step= 1942, Dmax= 2.1e-03 nm, Epot= -1.46744e+05 Fmax= 1.78108e+03, atom= 72\n",
      "Step= 1943, Dmax= 2.5e-03 nm, Epot= -1.46751e+05 Fmax= 5.44633e+02, atom= 75\n",
      "Step= 1945, Dmax= 1.5e-03 nm, Epot= -1.46753e+05 Fmax= 8.42632e+02, atom= 72\n",
      "Step= 1946, Dmax= 1.8e-03 nm, Epot= -1.46755e+05 Fmax= 8.19664e+02, atom= 75\n",
      "Step= 1947, Dmax= 2.2e-03 nm, Epot= -1.46756e+05 Fmax= 1.17941e+03, atom= 72\n",
      "Step= 1948, Dmax= 2.6e-03 nm, Epot= -1.46758e+05 Fmax= 1.21473e+03, atom= 75\n",
      "Step= 1950, Dmax= 1.6e-03 nm, Epot= -1.46763e+05 Fmax= 2.14261e+02, atom= 72\n",
      "Step= 1951, Dmax= 1.9e-03 nm, Epot= -1.46765e+05 Fmax= 1.49817e+03, atom= 75\n",
      "Step= 1952, Dmax= 2.3e-03 nm, Epot= -1.46771e+05 Fmax= 5.59600e+02, atom= 75\n",
      "Step= 1954, Dmax= 1.4e-03 nm, Epot= -1.46774e+05 Fmax= 6.86223e+02, atom= 75\n",
      "Step= 1955, Dmax= 1.6e-03 nm, Epot= -1.46775e+05 Fmax= 8.02555e+02, atom= 75\n",
      "Step= 1956, Dmax= 2.0e-03 nm, Epot= -1.46777e+05 Fmax= 9.88997e+02, atom= 75\n",
      "Step= 1957, Dmax= 2.4e-03 nm, Epot= -1.46778e+05 Fmax= 1.15601e+03, atom= 75\n",
      "Step= 1958, Dmax= 2.8e-03 nm, Epot= -1.46779e+05 Fmax= 1.42077e+03, atom= 75\n",
      "Step= 1959, Dmax= 3.4e-03 nm, Epot= -1.46779e+05 Fmax= 1.66974e+03, atom= 75\n",
      "Step= 1961, Dmax= 2.0e-03 nm, Epot= -1.46787e+05 Fmax= 2.01377e+02, atom= 75\n",
      "Step= 1962, Dmax= 2.4e-03 nm, Epot= -1.46789e+05 Fmax= 2.03556e+03, atom= 72\n",
      "Step= 1963, Dmax= 2.9e-03 nm, Epot= -1.46799e+05 Fmax= 6.53625e+02, atom= 75\n",
      "Step= 1965, Dmax= 1.8e-03 nm, Epot= -1.46800e+05 Fmax= 9.49511e+02, atom= 72\n",
      "Step= 1966, Dmax= 2.1e-03 nm, Epot= -1.46802e+05 Fmax= 9.70613e+02, atom= 75\n",
      "Step= 1967, Dmax= 2.5e-03 nm, Epot= -1.46802e+05 Fmax= 1.33918e+03, atom= 72\n",
      "Step= 1968, Dmax= 3.0e-03 nm, Epot= -1.46804e+05 Fmax= 1.42622e+03, atom= 75\n",
      "Step= 1970, Dmax= 1.8e-03 nm, Epot= -1.46810e+05 Fmax= 2.22517e+02, atom= 72\n",
      "Step= 1971, Dmax= 2.2e-03 nm, Epot= -1.46811e+05 Fmax= 1.75715e+03, atom= 75\n",
      "Step= 1972, Dmax= 2.6e-03 nm, Epot= -1.46819e+05 Fmax= 6.18694e+02, atom= 75\n",
      "Step= 1974, Dmax= 1.6e-03 nm, Epot= -1.46821e+05 Fmax= 8.19849e+02, atom= 75\n",
      "Step= 1975, Dmax= 1.9e-03 nm, Epot= -1.46822e+05 Fmax= 9.01239e+02, atom= 75\n",
      "Step= 1976, Dmax= 2.3e-03 nm, Epot= -1.46823e+05 Fmax= 1.16739e+03, atom= 75\n",
      "Step= 1977, Dmax= 2.7e-03 nm, Epot= -1.46825e+05 Fmax= 1.31192e+03, atom= 75\n",
      "Step= 1979, Dmax= 1.6e-03 nm, Epot= -1.46830e+05 Fmax= 1.87278e+02, atom= 75\n",
      "Step= 1980, Dmax= 2.0e-03 nm, Epot= -1.46833e+05 Fmax= 1.59848e+03, atom= 72\n",
      "Step= 1981, Dmax= 2.4e-03 nm, Epot= -1.46840e+05 Fmax= 5.57694e+02, atom= 75\n",
      "Step= 1983, Dmax= 1.4e-03 nm, Epot= -1.46842e+05 Fmax= 7.26370e+02, atom= 72\n",
      "Step= 1984, Dmax= 1.7e-03 nm, Epot= -1.46843e+05 Fmax= 8.16469e+02, atom= 75\n",
      "Step= 1985, Dmax= 2.0e-03 nm, Epot= -1.46845e+05 Fmax= 1.03301e+03, atom= 72\n",
      "Step= 1986, Dmax= 2.4e-03 nm, Epot= -1.46846e+05 Fmax= 1.18926e+03, atom= 75\n",
      "Step= 1987, Dmax= 2.9e-03 nm, Epot= -1.46846e+05 Fmax= 1.47601e+03, atom= 75\n",
      "Step= 1989, Dmax= 1.8e-03 nm, Epot= -1.46852e+05 Fmax= 1.36753e+02, atom= 75\n",
      "Step= 1990, Dmax= 2.1e-03 nm, Epot= -1.46859e+05 Fmax= 1.79068e+03, atom= 72\n",
      "Step= 1991, Dmax= 2.5e-03 nm, Epot= -1.46867e+05 Fmax= 5.26547e+02, atom= 75\n",
      "Step= 1993, Dmax= 1.5e-03 nm, Epot= -1.46868e+05 Fmax= 8.58485e+02, atom= 72\n",
      "Step= 1994, Dmax= 1.8e-03 nm, Epot= -1.46871e+05 Fmax= 7.96671e+02, atom= 75\n",
      "Step= 1995, Dmax= 2.2e-03 nm, Epot= -1.46871e+05 Fmax= 1.19921e+03, atom= 72\n",
      "Step= 1996, Dmax= 2.6e-03 nm, Epot= -1.46873e+05 Fmax= 1.18464e+03, atom= 75\n",
      "Step= 1998, Dmax= 1.6e-03 nm, Epot= -1.46877e+05 Fmax= 2.40307e+02, atom= 72\n",
      "Step= 1999, Dmax= 1.9e-03 nm, Epot= -1.46879e+05 Fmax= 1.46335e+03, atom= 75\n",
      "Step= 2000, Dmax= 2.3e-03 nm, Epot= -1.46885e+05 Fmax= 5.88582e+02, atom= 72\n",
      "Step= 2002, Dmax= 1.4e-03 nm, Epot= -1.46887e+05 Fmax= 6.52062e+02, atom= 75\n",
      "Step= 2003, Dmax= 1.6e-03 nm, Epot= -1.46888e+05 Fmax= 8.32660e+02, atom= 72\n",
      "Step= 2004, Dmax= 2.0e-03 nm, Epot= -1.46890e+05 Fmax= 9.52667e+02, atom= 75\n",
      "Step= 2005, Dmax= 2.3e-03 nm, Epot= -1.46891e+05 Fmax= 1.18636e+03, atom= 75\n",
      "Step= 2006, Dmax= 2.8e-03 nm, Epot= -1.46892e+05 Fmax= 1.38188e+03, atom= 75\n",
      "Step= 2008, Dmax= 1.7e-03 nm, Epot= -1.46898e+05 Fmax= 1.47282e+02, atom= 72\n",
      "Step= 2009, Dmax= 2.0e-03 nm, Epot= -1.46903e+05 Fmax= 1.69425e+03, atom= 75\n",
      "Step= 2010, Dmax= 2.4e-03 nm, Epot= -1.46910e+05 Fmax= 5.09196e+02, atom= 75\n",
      "Step= 2012, Dmax= 1.5e-03 nm, Epot= -1.46912e+05 Fmax= 8.24238e+02, atom= 75\n",
      "Step= 2013, Dmax= 1.8e-03 nm, Epot= -1.46914e+05 Fmax= 7.71234e+02, atom= 75\n",
      "Step= 2014, Dmax= 2.1e-03 nm, Epot= -1.46914e+05 Fmax= 1.14585e+03, atom= 75\n",
      "Step= 2015, Dmax= 2.5e-03 nm, Epot= -1.46916e+05 Fmax= 1.15197e+03, atom= 75\n",
      "Step= 2017, Dmax= 1.5e-03 nm, Epot= -1.46921e+05 Fmax= 2.36226e+02, atom= 75\n",
      "Step= 2018, Dmax= 1.8e-03 nm, Epot= -1.46923e+05 Fmax= 1.42152e+03, atom= 75\n",
      "Step= 2019, Dmax= 2.2e-03 nm, Epot= -1.46928e+05 Fmax= 5.75865e+02, atom= 75\n",
      "Step= 2021, Dmax= 1.3e-03 nm, Epot= -1.46930e+05 Fmax= 6.13599e+02, atom= 75\n",
      "Step= 2022, Dmax= 1.6e-03 nm, Epot= -1.46931e+05 Fmax= 8.17885e+02, atom= 75\n",
      "Step= 2023, Dmax= 1.9e-03 nm, Epot= -1.46933e+05 Fmax= 8.96414e+02, atom= 75\n",
      "Step= 2024, Dmax= 2.3e-03 nm, Epot= -1.46934e+05 Fmax= 1.16348e+03, atom= 75\n",
      "Step= 2025, Dmax= 2.7e-03 nm, Epot= -1.46935e+05 Fmax= 1.30676e+03, atom= 75\n",
      "Step= 2027, Dmax= 1.6e-03 nm, Epot= -1.46940e+05 Fmax= 1.86417e+02, atom= 75\n",
      "Step= 2028, Dmax= 2.0e-03 nm, Epot= -1.46943e+05 Fmax= 1.59518e+03, atom= 75\n",
      "Step= 2029, Dmax= 2.3e-03 nm, Epot= -1.46950e+05 Fmax= 5.53805e+02, atom= 75\n",
      "Step= 2031, Dmax= 1.4e-03 nm, Epot= -1.46952e+05 Fmax= 7.25597e+02, atom= 72\n",
      "Step= 2032, Dmax= 1.7e-03 nm, Epot= -1.46953e+05 Fmax= 8.12826e+02, atom= 75\n",
      "Step= 2033, Dmax= 2.0e-03 nm, Epot= -1.46954e+05 Fmax= 1.03085e+03, atom= 75\n",
      "Step= 2034, Dmax= 2.4e-03 nm, Epot= -1.46955e+05 Fmax= 1.18396e+03, atom= 75\n",
      "Step= 2035, Dmax= 2.9e-03 nm, Epot= -1.46956e+05 Fmax= 1.47301e+03, atom= 75\n",
      "Step= 2037, Dmax= 1.7e-03 nm, Epot= -1.46962e+05 Fmax= 1.34032e+02, atom= 75\n",
      "Step= 2038, Dmax= 2.1e-03 nm, Epot= -1.46968e+05 Fmax= 1.78959e+03, atom= 72\n",
      "Step= 2039, Dmax= 2.5e-03 nm, Epot= -1.46976e+05 Fmax= 5.19883e+02, atom= 75\n",
      "Step= 2041, Dmax= 1.5e-03 nm, Epot= -1.46977e+05 Fmax= 8.60074e+02, atom= 72\n",
      "Step= 2042, Dmax= 1.8e-03 nm, Epot= -1.46979e+05 Fmax= 7.90268e+02, atom= 75\n",
      "Step= 2043, Dmax= 2.2e-03 nm, Epot= -1.46980e+05 Fmax= 1.19838e+03, atom= 72\n",
      "Step= 2044, Dmax= 2.6e-03 nm, Epot= -1.46982e+05 Fmax= 1.17841e+03, atom= 75\n",
      "Step= 2046, Dmax= 1.6e-03 nm, Epot= -1.46986e+05 Fmax= 2.41592e+02, atom= 72\n",
      "Step= 2047, Dmax= 1.9e-03 nm, Epot= -1.46987e+05 Fmax= 1.45881e+03, atom= 75\n",
      "Step= 2048, Dmax= 2.3e-03 nm, Epot= -1.46993e+05 Fmax= 5.86119e+02, atom= 75\n",
      "Step= 2050, Dmax= 1.4e-03 nm, Epot= -1.46995e+05 Fmax= 6.50630e+02, atom= 75\n",
      "Step= 2051, Dmax= 1.6e-03 nm, Epot= -1.46996e+05 Fmax= 8.29527e+02, atom= 75\n",
      "Step= 2052, Dmax= 2.0e-03 nm, Epot= -1.46998e+05 Fmax= 9.49466e+02, atom= 75\n",
      "Step= 2053, Dmax= 2.3e-03 nm, Epot= -1.46998e+05 Fmax= 1.18302e+03, atom= 75\n",
      "Step= 2054, Dmax= 2.8e-03 nm, Epot= -1.46999e+05 Fmax= 1.37626e+03, atom= 75\n",
      "Step= 2056, Dmax= 1.7e-03 nm, Epot= -1.47005e+05 Fmax= 1.47669e+02, atom= 72\n",
      "Step= 2057, Dmax= 2.0e-03 nm, Epot= -1.47009e+05 Fmax= 1.69109e+03, atom= 75\n",
      "Step= 2058, Dmax= 2.4e-03 nm, Epot= -1.47017e+05 Fmax= 5.05479e+02, atom= 75\n",
      "Step= 2060, Dmax= 1.5e-03 nm, Epot= -1.47018e+05 Fmax= 8.22851e+02, atom= 75\n",
      "Step= 2061, Dmax= 1.7e-03 nm, Epot= -1.47020e+05 Fmax= 7.67819e+02, atom= 75\n",
      "Step= 2062, Dmax= 2.1e-03 nm, Epot= -1.47021e+05 Fmax= 1.14242e+03, atom= 75\n",
      "Step= 2063, Dmax= 2.5e-03 nm, Epot= -1.47023e+05 Fmax= 1.14825e+03, atom= 75\n",
      "Step= 2065, Dmax= 1.5e-03 nm, Epot= -1.47027e+05 Fmax= 2.35056e+02, atom= 75\n",
      "Step= 2066, Dmax= 1.8e-03 nm, Epot= -1.47029e+05 Fmax= 1.41879e+03, atom= 75\n",
      "Step= 2067, Dmax= 2.2e-03 nm, Epot= -1.47034e+05 Fmax= 5.71591e+02, atom= 75\n",
      "Step= 2069, Dmax= 1.3e-03 nm, Epot= -1.47036e+05 Fmax= 6.14573e+02, atom= 75\n",
      "Step= 2070, Dmax= 1.6e-03 nm, Epot= -1.47037e+05 Fmax= 8.11725e+02, atom= 75\n",
      "Step= 2071, Dmax= 1.9e-03 nm, Epot= -1.47039e+05 Fmax= 8.97472e+02, atom= 75\n",
      "Step= 2072, Dmax= 2.3e-03 nm, Epot= -1.47040e+05 Fmax= 1.15513e+03, atom= 75\n",
      "Step= 2073, Dmax= 2.7e-03 nm, Epot= -1.47041e+05 Fmax= 1.30750e+03, atom= 75\n",
      "Step= 2075, Dmax= 1.6e-03 nm, Epot= -1.47046e+05 Fmax= 1.80505e+02, atom= 75\n",
      "Step= 2076, Dmax= 1.9e-03 nm, Epot= -1.47048e+05 Fmax= 1.59737e+03, atom= 75\n",
      "Step= 2077, Dmax= 2.3e-03 nm, Epot= -1.47055e+05 Fmax= 5.44360e+02, atom= 75\n",
      "Step= 2079, Dmax= 1.4e-03 nm, Epot= -1.47057e+05 Fmax= 7.30865e+02, atom= 75\n",
      "Step= 2080, Dmax= 1.7e-03 nm, Epot= -1.47058e+05 Fmax= 8.02693e+02, atom= 75\n",
      "Step= 2081, Dmax= 2.0e-03 nm, Epot= -1.47059e+05 Fmax= 1.03546e+03, atom= 75\n",
      "Step= 2082, Dmax= 2.4e-03 nm, Epot= -1.47060e+05 Fmax= 1.17180e+03, atom= 75\n",
      "Step= 2083, Dmax= 2.9e-03 nm, Epot= -1.47061e+05 Fmax= 1.47710e+03, atom= 75\n",
      "Step= 2084, Dmax= 3.5e-03 nm, Epot= -1.47061e+05 Fmax= 1.69904e+03, atom= 75\n",
      "Step= 2086, Dmax= 2.1e-03 nm, Epot= -1.47069e+05 Fmax= 1.90859e+02, atom= 75\n",
      "Step= 2087, Dmax= 2.5e-03 nm, Epot= -1.47069e+05 Fmax= 2.08438e+03, atom= 75\n",
      "Step= 2088, Dmax= 3.0e-03 nm, Epot= -1.47080e+05 Fmax= 6.41505e+02, atom= 75\n",
      "Step= 2090, Dmax= 1.8e-03 nm, Epot= -1.47081e+05 Fmax= 1.00732e+03, atom= 75\n",
      "Step= 2091, Dmax= 2.2e-03 nm, Epot= -1.47083e+05 Fmax= 9.69578e+02, atom= 75\n",
      "Step= 2093, Dmax= 1.3e-03 nm, Epot= -1.47086e+05 Fmax= 2.22819e+02, atom= 75\n",
      "Step= 2094, Dmax= 1.6e-03 nm, Epot= -1.47088e+05 Fmax= 1.20327e+03, atom= 75\n",
      "Step= 2095, Dmax= 1.9e-03 nm, Epot= -1.47092e+05 Fmax= 5.12282e+02, atom= 75\n",
      "Step= 2097, Dmax= 1.1e-03 nm, Epot= -1.47094e+05 Fmax= 5.10930e+02, atom= 75\n",
      "Step= 2098, Dmax= 1.4e-03 nm, Epot= -1.47096e+05 Fmax= 7.19419e+02, atom= 75\n",
      "Step= 2099, Dmax= 1.6e-03 nm, Epot= -1.47098e+05 Fmax= 7.54808e+02, atom= 75\n",
      "Step= 2100, Dmax= 1.9e-03 nm, Epot= -1.47098e+05 Fmax= 1.01581e+03, atom= 75\n",
      "Step= 2101, Dmax= 2.3e-03 nm, Epot= -1.47100e+05 Fmax= 1.10824e+03, atom= 75\n",
      "Step= 2102, Dmax= 2.8e-03 nm, Epot= -1.47100e+05 Fmax= 1.43999e+03, atom= 75\n",
      "Step= 2103, Dmax= 3.4e-03 nm, Epot= -1.47100e+05 Fmax= 1.61998e+03, atom= 75\n",
      "Step= 2105, Dmax= 2.0e-03 nm, Epot= -1.47108e+05 Fmax= 2.29999e+02, atom= 75\n",
      "Step= 2107, Dmax= 1.2e-03 nm, Epot= -1.47110e+05 Fmax= 8.72179e+02, atom= 75\n",
      "Step= 2108, Dmax= 1.5e-03 nm, Epot= -1.47113e+05 Fmax= 4.53523e+02, atom= 75\n",
      "Step= 2109, Dmax= 1.7e-03 nm, Epot= -1.47113e+05 Fmax= 1.13491e+03, atom= 75\n",
      "Step= 2110, Dmax= 2.1e-03 nm, Epot= -1.47117e+05 Fmax= 7.73189e+02, atom= 75\n",
      "Step= 2112, Dmax= 1.3e-03 nm, Epot= -1.47119e+05 Fmax= 3.65041e+02, atom= 75\n",
      "Step= 2113, Dmax= 1.5e-03 nm, Epot= -1.47120e+05 Fmax= 1.00350e+03, atom= 75\n",
      "Step= 2114, Dmax= 1.8e-03 nm, Epot= -1.47123e+05 Fmax= 6.36554e+02, atom= 75\n",
      "Step= 2116, Dmax= 1.1e-03 nm, Epot= -1.47125e+05 Fmax= 3.52998e+02, atom= 75\n",
      "Step= 2117, Dmax= 1.3e-03 nm, Epot= -1.47127e+05 Fmax= 8.31911e+02, atom= 75\n",
      "Step= 2118, Dmax= 1.6e-03 nm, Epot= -1.47129e+05 Fmax= 5.92490e+02, atom= 75\n",
      "Step= 2119, Dmax= 1.9e-03 nm, Epot= -1.47130e+05 Fmax= 1.11505e+03, atom= 75\n",
      "Step= 2120, Dmax= 2.2e-03 nm, Epot= -1.47132e+05 Fmax= 9.34971e+02, atom= 75\n",
      "Step= 2122, Dmax= 1.3e-03 nm, Epot= -1.47135e+05 Fmax= 2.87622e+02, atom= 75\n",
      "Step= 2123, Dmax= 1.6e-03 nm, Epot= -1.47136e+05 Fmax= 1.18258e+03, atom= 75\n",
      "Step= 2124, Dmax= 1.9e-03 nm, Epot= -1.47140e+05 Fmax= 5.78869e+02, atom= 75\n",
      "Step= 2126, Dmax= 1.2e-03 nm, Epot= -1.47142e+05 Fmax= 4.84158e+02, atom= 75\n",
      "Step= 2127, Dmax= 1.4e-03 nm, Epot= -1.47143e+05 Fmax= 7.89353e+02, atom= 75\n",
      "Step= 2128, Dmax= 1.7e-03 nm, Epot= -1.47145e+05 Fmax= 7.40512e+02, atom= 75\n",
      "Step= 2129, Dmax= 2.0e-03 nm, Epot= -1.47146e+05 Fmax= 1.09424e+03, atom= 75\n",
      "Step= 2130, Dmax= 2.4e-03 nm, Epot= -1.47148e+05 Fmax= 1.10750e+03, atom= 75\n",
      "Step= 2132, Dmax= 1.4e-03 nm, Epot= -1.47152e+05 Fmax= 2.05596e+02, atom= 75\n",
      "Step= 2133, Dmax= 1.7e-03 nm, Epot= -1.47154e+05 Fmax= 1.37370e+03, atom= 75\n",
      "Step= 2134, Dmax= 2.1e-03 nm, Epot= -1.47159e+05 Fmax= 5.18179e+02, atom= 75\n",
      "Step= 2136, Dmax= 1.3e-03 nm, Epot= -1.47161e+05 Fmax= 6.23561e+02, atom= 75\n",
      "Step= 2137, Dmax= 1.5e-03 nm, Epot= -1.47162e+05 Fmax= 7.44928e+02, atom= 75\n",
      "Step= 2138, Dmax= 1.8e-03 nm, Epot= -1.47163e+05 Fmax= 8.98199e+02, atom= 75\n",
      "Step= 2139, Dmax= 2.2e-03 nm, Epot= -1.47165e+05 Fmax= 1.07300e+03, atom= 75\n",
      "Step= 2140, Dmax= 2.6e-03 nm, Epot= -1.47165e+05 Fmax= 1.29150e+03, atom= 75\n",
      "Step= 2141, Dmax= 3.1e-03 nm, Epot= -1.47165e+05 Fmax= 1.54758e+03, atom= 75\n",
      "Step= 2143, Dmax= 1.9e-03 nm, Epot= -1.47172e+05 Fmax= 1.67452e+02, atom= 75\n",
      "Step= 2144, Dmax= 2.2e-03 nm, Epot= -1.47174e+05 Fmax= 1.88590e+03, atom= 75\n",
      "Step= 2145, Dmax= 2.7e-03 nm, Epot= -1.47183e+05 Fmax= 5.82751e+02, atom= 75\n",
      "Step= 2147, Dmax= 1.6e-03 nm, Epot= -1.47184e+05 Fmax= 8.87251e+02, atom= 75\n",
      "Step= 2148, Dmax= 1.9e-03 nm, Epot= -1.47186e+05 Fmax= 8.78406e+02, atom= 75\n",
      "Step= 2149, Dmax= 2.3e-03 nm, Epot= -1.47186e+05 Fmax= 1.24050e+03, atom= 75\n",
      "Step= 2150, Dmax= 2.8e-03 nm, Epot= -1.47187e+05 Fmax= 1.30127e+03, atom= 75\n",
      "Step= 2152, Dmax= 1.7e-03 nm, Epot= -1.47192e+05 Fmax= 2.13720e+02, atom= 75\n",
      "Step= 2153, Dmax= 2.0e-03 nm, Epot= -1.47194e+05 Fmax= 1.60829e+03, atom= 75\n",
      "Step= 2154, Dmax= 2.4e-03 nm, Epot= -1.47200e+05 Fmax= 5.75852e+02, atom= 75\n",
      "Step= 2156, Dmax= 1.4e-03 nm, Epot= -1.47202e+05 Fmax= 7.43099e+02, atom= 75\n",
      "Step= 2157, Dmax= 1.7e-03 nm, Epot= -1.47203e+05 Fmax= 8.38519e+02, atom= 75\n",
      "Step= 2158, Dmax= 2.1e-03 nm, Epot= -1.47204e+05 Fmax= 1.05944e+03, atom= 75\n",
      "Step= 2159, Dmax= 2.5e-03 nm, Epot= -1.47205e+05 Fmax= 1.21843e+03, atom= 75\n",
      "Step= 2161, Dmax= 1.5e-03 nm, Epot= -1.47210e+05 Fmax= 1.56154e+02, atom= 75\n",
      "Step= 2162, Dmax= 1.8e-03 nm, Epot= -1.47214e+05 Fmax= 1.48827e+03, atom= 75\n",
      "Step= 2163, Dmax= 2.2e-03 nm, Epot= -1.47220e+05 Fmax= 4.89821e+02, atom= 75\n",
      "Step= 2165, Dmax= 1.3e-03 nm, Epot= -1.47221e+05 Fmax= 6.89488e+02, atom= 75\n",
      "Step= 2166, Dmax= 1.6e-03 nm, Epot= -1.47222e+05 Fmax= 7.27474e+02, atom= 75\n",
      "Step= 2167, Dmax= 1.9e-03 nm, Epot= -1.47224e+05 Fmax= 9.72186e+02, atom= 75\n",
      "Step= 2168, Dmax= 2.2e-03 nm, Epot= -1.47225e+05 Fmax= 1.06762e+03, atom= 75\n",
      "Step= 2169, Dmax= 2.7e-03 nm, Epot= -1.47225e+05 Fmax= 1.38127e+03, atom= 75\n",
      "Step= 2170, Dmax= 3.2e-03 nm, Epot= -1.47226e+05 Fmax= 1.55453e+03, atom= 75\n",
      "Step= 2172, Dmax= 1.9e-03 nm, Epot= -1.47233e+05 Fmax= 1.94074e+02, atom= 75\n",
      "Step= 2173, Dmax= 2.3e-03 nm, Epot= -1.47233e+05 Fmax= 1.90748e+03, atom= 75\n",
      "Step= 2174, Dmax= 2.8e-03 nm, Epot= -1.47242e+05 Fmax= 6.13874e+02, atom= 75\n",
      "Step= 2176, Dmax= 1.7e-03 nm, Epot= -1.47243e+05 Fmax= 9.09415e+02, atom= 75\n",
      "Step= 2177, Dmax= 2.0e-03 nm, Epot= -1.47245e+05 Fmax= 9.18271e+02, atom= 75\n",
      "Step= 2178, Dmax= 2.4e-03 nm, Epot= -1.47245e+05 Fmax= 1.27335e+03, atom= 75\n",
      "Step= 2179, Dmax= 2.9e-03 nm, Epot= -1.47246e+05 Fmax= 1.35826e+03, atom= 75\n",
      "Step= 2181, Dmax= 1.7e-03 nm, Epot= -1.47252e+05 Fmax= 2.30240e+02, atom= 75\n",
      "Step= 2182, Dmax= 2.1e-03 nm, Epot= -1.47252e+05 Fmax= 1.67425e+03, atom= 75\n",
      "Step= 2183, Dmax= 2.5e-03 nm, Epot= -1.47259e+05 Fmax= 6.11770e+02, atom= 75\n",
      "Step= 2185, Dmax= 1.5e-03 nm, Epot= -1.47260e+05 Fmax= 7.51386e+02, atom= 75\n",
      "Step= 2186, Dmax= 1.8e-03 nm, Epot= -1.47262e+05 Fmax= 8.84812e+02, atom= 75\n",
      "Step= 2187, Dmax= 2.2e-03 nm, Epot= -1.47262e+05 Fmax= 1.07903e+03, atom= 75\n",
      "Step= 2188, Dmax= 2.6e-03 nm, Epot= -1.47263e+05 Fmax= 1.27643e+03, atom= 75\n",
      "Step= 2190, Dmax= 1.6e-03 nm, Epot= -1.47268e+05 Fmax= 1.28836e+02, atom= 75\n",
      "Step= 2191, Dmax= 1.9e-03 nm, Epot= -1.47273e+05 Fmax= 1.56029e+03, atom= 75\n",
      "Step= 2192, Dmax= 2.2e-03 nm, Epot= -1.47280e+05 Fmax= 4.65687e+02, atom= 75\n",
      "Step= 2194, Dmax= 1.3e-03 nm, Epot= -1.47281e+05 Fmax= 7.56925e+02, atom= 75\n",
      "Step= 2195, Dmax= 1.6e-03 nm, Epot= -1.47283e+05 Fmax= 7.09347e+02, atom= 75\n",
      "Step= 2196, Dmax= 1.9e-03 nm, Epot= -1.47283e+05 Fmax= 1.04956e+03, atom= 75\n",
      "Step= 2197, Dmax= 2.3e-03 nm, Epot= -1.47285e+05 Fmax= 1.06162e+03, atom= 75\n",
      "Step= 2199, Dmax= 1.4e-03 nm, Epot= -1.47289e+05 Fmax= 2.11228e+02, atom= 75\n",
      "Step= 2200, Dmax= 1.7e-03 nm, Epot= -1.47291e+05 Fmax= 1.31468e+03, atom= 75\n",
      "Step= 2201, Dmax= 2.0e-03 nm, Epot= -1.47295e+05 Fmax= 5.17327e+02, atom= 75\n",
      "Step= 2203, Dmax= 1.2e-03 nm, Epot= -1.47297e+05 Fmax= 5.76304e+02, atom= 75\n",
      "Step= 2204, Dmax= 1.4e-03 nm, Epot= -1.47298e+05 Fmax= 7.36901e+02, atom= 75\n",
      "Step= 2205, Dmax= 1.7e-03 nm, Epot= -1.47300e+05 Fmax= 8.38743e+02, atom= 75\n",
      "Step= 2206, Dmax= 2.1e-03 nm, Epot= -1.47300e+05 Fmax= 1.05151e+03, atom= 75\n",
      "Step= 2207, Dmax= 2.5e-03 nm, Epot= -1.47302e+05 Fmax= 1.21828e+03, atom= 75\n",
      "Step= 2209, Dmax= 1.5e-03 nm, Epot= -1.47306e+05 Fmax= 1.50955e+02, atom= 75\n",
      "Step= 2210, Dmax= 1.8e-03 nm, Epot= -1.47310e+05 Fmax= 1.49004e+03, atom= 75\n",
      "Step= 2211, Dmax= 2.2e-03 nm, Epot= -1.47316e+05 Fmax= 4.81554e+02, atom= 75\n",
      "Step= 2213, Dmax= 1.3e-03 nm, Epot= -1.47317e+05 Fmax= 6.94348e+02, atom= 75\n",
      "Step= 2214, Dmax= 1.5e-03 nm, Epot= -1.47319e+05 Fmax= 7.17833e+02, atom= 75\n",
      "Step= 2215, Dmax= 1.9e-03 nm, Epot= -1.47319e+05 Fmax= 9.76728e+02, atom= 75\n",
      "Step= 2216, Dmax= 2.2e-03 nm, Epot= -1.47321e+05 Fmax= 1.05624e+03, atom= 75\n",
      "Step= 2217, Dmax= 2.7e-03 nm, Epot= -1.47321e+05 Fmax= 1.38517e+03, atom= 75\n",
      "Step= 2218, Dmax= 3.2e-03 nm, Epot= -1.47321e+05 Fmax= 1.54093e+03, atom= 75\n",
      "Step= 2220, Dmax= 1.9e-03 nm, Epot= -1.47328e+05 Fmax= 2.02665e+02, atom= 75\n",
      "Step= 2222, Dmax= 1.2e-03 nm, Epot= -1.47331e+05 Fmax= 8.49132e+02, atom= 75\n",
      "Step= 2223, Dmax= 1.4e-03 nm, Epot= -1.47333e+05 Fmax= 4.13023e+02, atom= 75\n",
      "Step= 2224, Dmax= 1.7e-03 nm, Epot= -1.47334e+05 Fmax= 1.10197e+03, atom= 75\n",
      "Step= 2225, Dmax= 2.0e-03 nm, Epot= -1.47337e+05 Fmax= 7.16206e+02, atom= 75\n",
      "Step= 2227, Dmax= 1.2e-03 nm, Epot= -1.47339e+05 Fmax= 3.79341e+02, atom= 75\n",
      "Step= 2228, Dmax= 1.4e-03 nm, Epot= -1.47340e+05 Fmax= 9.34860e+02, atom= 75\n",
      "Step= 2229, Dmax= 1.7e-03 nm, Epot= -1.47342e+05 Fmax= 6.42141e+02, atom= 75\n",
      "Step= 2231, Dmax= 1.0e-03 nm, Epot= -1.47344e+05 Fmax= 3.00050e+02, atom= 75\n",
      "Step= 2232, Dmax= 1.2e-03 nm, Epot= -1.47346e+05 Fmax= 8.31076e+02, atom= 75\n",
      "Step= 2233, Dmax= 1.5e-03 nm, Epot= -1.47348e+05 Fmax= 5.26088e+02, atom= 75\n",
      "Step= 2234, Dmax= 1.8e-03 nm, Epot= -1.47348e+05 Fmax= 1.10218e+03, atom= 75\n",
      "Step= 2235, Dmax= 2.1e-03 nm, Epot= -1.47351e+05 Fmax= 8.52626e+02, atom= 75\n",
      "Step= 2237, Dmax= 1.3e-03 nm, Epot= -1.47354e+05 Fmax= 3.25653e+02, atom= 75\n",
      "Step= 2238, Dmax= 1.5e-03 nm, Epot= -1.47355e+05 Fmax= 1.08804e+03, atom= 75\n",
      "Step= 2239, Dmax= 1.9e-03 nm, Epot= -1.47358e+05 Fmax= 6.08228e+02, atom= 75\n",
      "Step= 2241, Dmax= 1.1e-03 nm, Epot= -1.47360e+05 Fmax= 4.05123e+02, atom= 75\n",
      "Step= 2242, Dmax= 1.3e-03 nm, Epot= -1.47361e+05 Fmax= 8.11144e+02, atom= 75\n",
      "Step= 2243, Dmax= 1.6e-03 nm, Epot= -1.47363e+05 Fmax= 6.48445e+02, atom= 75\n",
      "Step= 2245, Dmax= 9.6e-04 nm, Epot= -1.47365e+05 Fmax= 2.30647e+02, atom= 75\n",
      "Step= 2246, Dmax= 1.2e-03 nm, Epot= -1.47367e+05 Fmax= 8.23545e+02, atom= 75\n",
      "Step= 2247, Dmax= 1.4e-03 nm, Epot= -1.47370e+05 Fmax= 4.42223e+02, atom= 75\n",
      "Step= 2248, Dmax= 1.7e-03 nm, Epot= -1.47370e+05 Fmax= 1.07637e+03, atom= 75\n",
      "Step= 2249, Dmax= 2.0e-03 nm, Epot= -1.47373e+05 Fmax= 7.45552e+02, atom= 75\n",
      "Step= 2251, Dmax= 1.2e-03 nm, Epot= -1.47375e+05 Fmax= 3.42699e+02, atom= 75\n",
      "Step= 2252, Dmax= 1.4e-03 nm, Epot= -1.47376e+05 Fmax= 9.63344e+02, atom= 75\n",
      "Step= 2253, Dmax= 1.7e-03 nm, Epot= -1.47379e+05 Fmax= 6.04159e+02, atom= 75\n",
      "Step= 2255, Dmax= 1.0e-03 nm, Epot= -1.47381e+05 Fmax= 3.40213e+02, atom= 75\n",
      "Step= 2256, Dmax= 1.2e-03 nm, Epot= -1.47382e+05 Fmax= 7.92677e+02, atom= 75\n",
      "Step= 2257, Dmax= 1.5e-03 nm, Epot= -1.47384e+05 Fmax= 5.66938e+02, atom= 75\n",
      "Step= 2258, Dmax= 1.8e-03 nm, Epot= -1.47385e+05 Fmax= 1.06480e+03, atom= 75\n",
      "Step= 2259, Dmax= 2.1e-03 nm, Epot= -1.47387e+05 Fmax= 8.92347e+02, atom= 75\n",
      "Step= 2261, Dmax= 1.3e-03 nm, Epot= -1.47390e+05 Fmax= 2.76411e+02, atom= 75\n",
      "Step= 2262, Dmax= 1.5e-03 nm, Epot= -1.47391e+05 Fmax= 1.12627e+03, atom= 75\n",
      "Step= 2263, Dmax= 1.9e-03 nm, Epot= -1.47394e+05 Fmax= 5.57277e+02, atom= 75\n",
      "Step= 2265, Dmax= 1.1e-03 nm, Epot= -1.47396e+05 Fmax= 4.57189e+02, atom= 75\n",
      "Step= 2266, Dmax= 1.3e-03 nm, Epot= -1.47397e+05 Fmax= 7.60054e+02, atom= 75\n",
      "Step= 2267, Dmax= 1.6e-03 nm, Epot= -1.47399e+05 Fmax= 7.00470e+02, atom= 75\n",
      "Step= 2268, Dmax= 1.9e-03 nm, Epot= -1.47399e+05 Fmax= 1.05262e+03, atom= 75\n",
      "Step= 2269, Dmax= 2.3e-03 nm, Epot= -1.47401e+05 Fmax= 1.04955e+03, atom= 75\n",
      "Step= 2271, Dmax= 1.4e-03 nm, Epot= -1.47405e+05 Fmax= 2.05690e+02, atom= 75\n",
      "Step= 2272, Dmax= 1.7e-03 nm, Epot= -1.47406e+05 Fmax= 1.30023e+03, atom= 75\n",
      "Step= 2273, Dmax= 2.0e-03 nm, Epot= -1.47411e+05 Fmax= 5.08054e+02, atom= 75\n",
      "Step= 2275, Dmax= 1.2e-03 nm, Epot= -1.47412e+05 Fmax= 5.81662e+02, atom= 75\n",
      "Step= 2276, Dmax= 1.4e-03 nm, Epot= -1.47414e+05 Fmax= 7.26352e+02, atom= 75\n",
      "Step= 2277, Dmax= 1.7e-03 nm, Epot= -1.47415e+05 Fmax= 8.42292e+02, atom= 75\n",
      "Step= 2278, Dmax= 2.1e-03 nm, Epot= -1.47416e+05 Fmax= 1.04134e+03, atom= 75\n",
      "Step= 2279, Dmax= 2.5e-03 nm, Epot= -1.47416e+05 Fmax= 1.21659e+03, atom= 75\n",
      "Step= 2281, Dmax= 1.5e-03 nm, Epot= -1.47421e+05 Fmax= 1.31715e+02, atom= 75\n",
      "Step= 2282, Dmax= 1.8e-03 nm, Epot= -1.47425e+05 Fmax= 1.48446e+03, atom= 75\n",
      "Step= 2283, Dmax= 2.1e-03 nm, Epot= -1.47431e+05 Fmax= 4.58082e+02, atom= 75\n",
      "Step= 2285, Dmax= 1.3e-03 nm, Epot= -1.47432e+05 Fmax= 7.12708e+02, atom= 75\n",
      "Step= 2286, Dmax= 1.5e-03 nm, Epot= -1.47434e+05 Fmax= 6.92759e+02, atom= 75\n",
      "Step= 2287, Dmax= 1.9e-03 nm, Epot= -1.47435e+05 Fmax= 9.92232e+02, atom= 75\n",
      "Step= 2288, Dmax= 2.2e-03 nm, Epot= -1.47436e+05 Fmax= 1.03134e+03, atom= 75\n",
      "Step= 2290, Dmax= 1.3e-03 nm, Epot= -1.47440e+05 Fmax= 1.87503e+02, atom= 75\n",
      "Step= 2291, Dmax= 1.6e-03 nm, Epot= -1.47442e+05 Fmax= 1.27601e+03, atom= 75\n",
      "Step= 2292, Dmax= 1.9e-03 nm, Epot= -1.47446e+05 Fmax= 4.78671e+02, atom= 75\n",
      "Step= 2294, Dmax= 1.2e-03 nm, Epot= -1.47447e+05 Fmax= 5.70066e+02, atom= 75\n",
      "Step= 2295, Dmax= 1.4e-03 nm, Epot= -1.47449e+05 Fmax= 6.87832e+02, atom= 75\n",
      "Step= 2296, Dmax= 1.7e-03 nm, Epot= -1.47450e+05 Fmax= 8.22673e+02, atom= 75\n",
      "Step= 2297, Dmax= 2.0e-03 nm, Epot= -1.47451e+05 Fmax= 9.88618e+02, atom= 75\n",
      "Step= 2298, Dmax= 2.4e-03 nm, Epot= -1.47451e+05 Fmax= 1.18717e+03, atom= 75\n",
      "Step= 2299, Dmax= 2.9e-03 nm, Epot= -1.47452e+05 Fmax= 1.42049e+03, atom= 75\n",
      "Step= 2301, Dmax= 1.7e-03 nm, Epot= -1.47457e+05 Fmax= 1.36102e+02, atom= 75\n",
      "Step= 2302, Dmax= 2.1e-03 nm, Epot= -1.47460e+05 Fmax= 1.72783e+03, atom= 75\n",
      "Step= 2303, Dmax= 2.5e-03 nm, Epot= -1.47468e+05 Fmax= 5.15586e+02, atom= 75\n",
      "Step= 2305, Dmax= 1.5e-03 nm, Epot= -1.47469e+05 Fmax= 8.37161e+02, atom= 75\n",
      "Step= 2306, Dmax= 1.8e-03 nm, Epot= -1.47471e+05 Fmax= 7.87184e+02, atom= 75\n",
      "Step= 2307, Dmax= 2.1e-03 nm, Epot= -1.47471e+05 Fmax= 1.15937e+03, atom= 75\n",
      "Step= 2308, Dmax= 2.6e-03 nm, Epot= -1.47472e+05 Fmax= 1.17901e+03, atom= 75\n",
      "Step= 2310, Dmax= 1.5e-03 nm, Epot= -1.47477e+05 Fmax= 2.29687e+02, atom= 75\n",
      "Step= 2311, Dmax= 1.8e-03 nm, Epot= -1.47477e+05 Fmax= 1.46321e+03, atom= 75\n",
      "Step= 2312, Dmax= 2.2e-03 nm, Epot= -1.47482e+05 Fmax= 5.64931e+02, atom= 75\n",
      "Step= 2314, Dmax= 1.3e-03 nm, Epot= -1.47484e+05 Fmax= 6.47046e+02, atom= 75\n",
      "Step= 2315, Dmax= 1.6e-03 nm, Epot= -1.47485e+05 Fmax= 8.05954e+02, atom= 75\n",
      "Step= 2316, Dmax= 1.9e-03 nm, Epot= -1.47486e+05 Fmax= 9.39604e+02, atom= 75\n",
      "Step= 2317, Dmax= 2.3e-03 nm, Epot= -1.47487e+05 Fmax= 1.15264e+03, atom= 75\n",
      "Step= 2318, Dmax= 2.8e-03 nm, Epot= -1.47487e+05 Fmax= 1.36151e+03, atom= 75\n",
      "Step= 2320, Dmax= 1.7e-03 nm, Epot= -1.47492e+05 Fmax= 1.54377e+02, atom= 75\n",
      "Step= 2321, Dmax= 2.0e-03 nm, Epot= -1.47494e+05 Fmax= 1.66809e+03, atom= 75\n",
      "Step= 2322, Dmax= 2.4e-03 nm, Epot= -1.47501e+05 Fmax= 5.15458e+02, atom= 75\n",
      "Step= 2324, Dmax= 1.4e-03 nm, Epot= -1.47502e+05 Fmax= 7.87604e+02, atom= 75\n",
      "Step= 2325, Dmax= 1.7e-03 nm, Epot= -1.47504e+05 Fmax= 7.75286e+02, atom= 75\n",
      "Step= 2326, Dmax= 2.1e-03 nm, Epot= -1.47504e+05 Fmax= 1.10226e+03, atom= 75\n",
      "Step= 2327, Dmax= 2.5e-03 nm, Epot= -1.47505e+05 Fmax= 1.14838e+03, atom= 75\n",
      "Step= 2329, Dmax= 1.5e-03 nm, Epot= -1.47509e+05 Fmax= 1.95586e+02, atom= 75\n",
      "Step= 2330, Dmax= 1.8e-03 nm, Epot= -1.47511e+05 Fmax= 1.41579e+03, atom= 75\n",
      "Step= 2331, Dmax= 2.1e-03 nm, Epot= -1.47516e+05 Fmax= 5.20934e+02, atom= 75\n",
      "Step= 2333, Dmax= 1.3e-03 nm, Epot= -1.47517e+05 Fmax= 6.46194e+02, atom= 75\n",
      "Step= 2334, Dmax= 1.5e-03 nm, Epot= -1.47518e+05 Fmax= 7.55429e+02, atom= 75\n",
      "Step= 2335, Dmax= 1.8e-03 nm, Epot= -1.47520e+05 Fmax= 9.24676e+02, atom= 75\n",
      "Step= 2336, Dmax= 2.2e-03 nm, Epot= -1.47520e+05 Fmax= 1.09352e+03, atom= 75\n",
      "Step= 2337, Dmax= 2.7e-03 nm, Epot= -1.47520e+05 Fmax= 1.32484e+03, atom= 75\n",
      "Step= 2339, Dmax= 1.6e-03 nm, Epot= -1.47526e+05 Fmax= 1.19400e+02, atom= 75\n",
      "Step= 2340, Dmax= 1.9e-03 nm, Epot= -1.47530e+05 Fmax= 1.60832e+03, atom= 75\n",
      "Step= 2341, Dmax= 2.3e-03 nm, Epot= -1.47537e+05 Fmax= 4.72313e+02, atom= 75\n",
      "Step= 2343, Dmax= 1.4e-03 nm, Epot= -1.47538e+05 Fmax= 7.81970e+02, atom= 75\n",
      "Step= 2344, Dmax= 1.7e-03 nm, Epot= -1.47539e+05 Fmax= 7.24157e+02, atom= 75\n",
      "Step= 2345, Dmax= 2.0e-03 nm, Epot= -1.47539e+05 Fmax= 1.08052e+03, atom= 75\n",
      "Step= 2346, Dmax= 2.4e-03 nm, Epot= -1.47541e+05 Fmax= 1.08766e+03, atom= 75\n",
      "Step= 2348, Dmax= 1.4e-03 nm, Epot= -1.47545e+05 Fmax= 2.18114e+02, atom= 75\n",
      "Step= 2349, Dmax= 1.7e-03 nm, Epot= -1.47546e+05 Fmax= 1.35143e+03, atom= 75\n",
      "Step= 2350, Dmax= 2.1e-03 nm, Epot= -1.47550e+05 Fmax= 5.28511e+02, atom= 75\n",
      "Step= 2352, Dmax= 1.2e-03 nm, Epot= -1.47551e+05 Fmax= 5.95398e+02, atom= 75\n",
      "Step= 2353, Dmax= 1.5e-03 nm, Epot= -1.47553e+05 Fmax= 7.51774e+02, atom= 75\n",
      "Step= 2354, Dmax= 1.8e-03 nm, Epot= -1.47554e+05 Fmax= 8.66800e+02, atom= 75\n",
      "Step= 2355, Dmax= 2.1e-03 nm, Epot= -1.47554e+05 Fmax= 1.07321e+03, atom= 75\n",
      "Step= 2356, Dmax= 2.6e-03 nm, Epot= -1.47555e+05 Fmax= 1.25798e+03, atom= 75\n",
      "Step= 2358, Dmax= 1.5e-03 nm, Epot= -1.47560e+05 Fmax= 1.47056e+02, atom= 75\n",
      "Step= 2359, Dmax= 1.8e-03 nm, Epot= -1.47562e+05 Fmax= 1.54239e+03, atom= 75\n",
      "Step= 2360, Dmax= 2.2e-03 nm, Epot= -1.47568e+05 Fmax= 4.81309e+02, atom= 75\n",
      "Step= 2362, Dmax= 1.3e-03 nm, Epot= -1.47569e+05 Fmax= 7.27137e+02, atom= 75\n",
      "Step= 2363, Dmax= 1.6e-03 nm, Epot= -1.47570e+05 Fmax= 7.21990e+02, atom= 75\n",
      "Step= 2364, Dmax= 1.9e-03 nm, Epot= -1.47571e+05 Fmax= 1.01893e+03, atom= 75\n",
      "Step= 2365, Dmax= 2.3e-03 nm, Epot= -1.47573e+05 Fmax= 1.06786e+03, atom= 75\n",
      "Step= 2367, Dmax= 1.4e-03 nm, Epot= -1.47576e+05 Fmax= 1.78876e+02, atom= 75\n",
      "Step= 2368, Dmax= 1.6e-03 nm, Epot= -1.47578e+05 Fmax= 1.31542e+03, atom= 75\n",
      "Step= 2369, Dmax= 2.0e-03 nm, Epot= -1.47583e+05 Fmax= 4.81002e+02, atom= 75\n",
      "Step= 2371, Dmax= 1.2e-03 nm, Epot= -1.47584e+05 Fmax= 6.01048e+02, atom= 75\n",
      "Step= 2372, Dmax= 1.4e-03 nm, Epot= -1.47585e+05 Fmax= 6.98623e+02, atom= 75\n",
      "Step= 2373, Dmax= 1.7e-03 nm, Epot= -1.47586e+05 Fmax= 8.59129e+02, atom= 75\n",
      "Step= 2374, Dmax= 2.1e-03 nm, Epot= -1.47587e+05 Fmax= 1.01222e+03, atom= 75\n",
      "Step= 2375, Dmax= 2.5e-03 nm, Epot= -1.47587e+05 Fmax= 1.23023e+03, atom= 75\n",
      "Step= 2376, Dmax= 3.0e-03 nm, Epot= -1.47587e+05 Fmax= 1.46469e+03, atom= 75\n",
      "Step= 2378, Dmax= 1.8e-03 nm, Epot= -1.47593e+05 Fmax= 1.61153e+02, atom= 75\n",
      "Step= 2379, Dmax= 2.1e-03 nm, Epot= -1.47594e+05 Fmax= 1.79332e+03, atom= 75\n",
      "Step= 2380, Dmax= 2.6e-03 nm, Epot= -1.47602e+05 Fmax= 5.47431e+02, atom= 75\n",
      "Step= 2382, Dmax= 1.5e-03 nm, Epot= -1.47603e+05 Fmax= 8.49024e+02, atom= 75\n",
      "Step= 2383, Dmax= 1.8e-03 nm, Epot= -1.47605e+05 Fmax= 8.25472e+02, atom= 75\n",
      "Step= 2385, Dmax= 1.1e-03 nm, Epot= -1.47607e+05 Fmax= 1.75660e+02, atom= 75\n",
      "Step= 2386, Dmax= 1.3e-03 nm, Epot= -1.47609e+05 Fmax= 1.02509e+03, atom= 75\n",
      "Step= 2387, Dmax= 1.6e-03 nm, Epot= -1.47612e+05 Fmax= 4.17588e+02, atom= 75\n",
      "Step= 2389, Dmax= 9.5e-04 nm, Epot= -1.47614e+05 Fmax= 4.50972e+02, atom= 75\n",
      "Step= 2390, Dmax= 1.1e-03 nm, Epot= -1.47615e+05 Fmax= 5.91888e+02, atom= 75\n",
      "Step= 2391, Dmax= 1.4e-03 nm, Epot= -1.47616e+05 Fmax= 6.58541e+02, atom= 75\n",
      "Step= 2392, Dmax= 1.6e-03 nm, Epot= -1.47617e+05 Fmax= 8.43297e+02, atom= 75\n",
      "Step= 2393, Dmax= 2.0e-03 nm, Epot= -1.47618e+05 Fmax= 9.56938e+02, atom= 75\n",
      "Step= 2394, Dmax= 2.4e-03 nm, Epot= -1.47619e+05 Fmax= 1.20598e+03, atom= 75\n",
      "Step= 2396, Dmax= 1.4e-03 nm, Epot= -1.47623e+05 Fmax= 9.80521e+01, atom= 75\n",
      "Step= 2397, Dmax= 1.7e-03 nm, Epot= -1.47629e+05 Fmax= 1.46722e+03, atom= 75\n",
      "Step= 2398, Dmax= 2.0e-03 nm, Epot= -1.47634e+05 Fmax= 4.09691e+02, atom= 75\n",
      "Step= 2400, Dmax= 1.2e-03 nm, Epot= -1.47635e+05 Fmax= 7.10580e+02, atom= 75\n",
      "Step= 2401, Dmax= 1.5e-03 nm, Epot= -1.47637e+05 Fmax= 6.33559e+02, atom= 75\n",
      "Step= 2402, Dmax= 1.8e-03 nm, Epot= -1.47637e+05 Fmax= 9.80997e+02, atom= 75\n",
      "Step= 2403, Dmax= 2.1e-03 nm, Epot= -1.47639e+05 Fmax= 9.54665e+02, atom= 75\n",
      "Step= 2405, Dmax= 1.3e-03 nm, Epot= -1.47642e+05 Fmax= 2.01308e+02, atom= 75\n",
      "Step= 2406, Dmax= 1.5e-03 nm, Epot= -1.47643e+05 Fmax= 1.18558e+03, atom= 75\n",
      "Step= 2407, Dmax= 1.8e-03 nm, Epot= -1.47647e+05 Fmax= 4.80298e+02, atom= 75\n",
      "Step= 2409, Dmax= 1.1e-03 nm, Epot= -1.47648e+05 Fmax= 5.23477e+02, atom= 75\n",
      "Step= 2410, Dmax= 1.3e-03 nm, Epot= -1.47649e+05 Fmax= 6.81821e+02, atom= 75\n",
      "Step= 2411, Dmax= 1.6e-03 nm, Epot= -1.47651e+05 Fmax= 7.63137e+02, atom= 75\n",
      "Step= 2412, Dmax= 1.9e-03 nm, Epot= -1.47651e+05 Fmax= 9.72535e+02, atom= 75\n",
      "Step= 2413, Dmax= 2.3e-03 nm, Epot= -1.47652e+05 Fmax= 1.10742e+03, atom= 75\n",
      "Step= 2414, Dmax= 2.7e-03 nm, Epot= -1.47652e+05 Fmax= 1.39231e+03, atom= 75\n",
      "Step= 2416, Dmax= 1.6e-03 nm, Epot= -1.47658e+05 Fmax= 1.16418e+02, atom= 72\n",
      "Step= 2417, Dmax= 2.0e-03 nm, Epot= -1.47662e+05 Fmax= 1.69764e+03, atom= 72\n",
      "Step= 2418, Dmax= 2.4e-03 nm, Epot= -1.47669e+05 Fmax= 4.72226e+02, atom= 72\n",
      "Step= 2420, Dmax= 1.4e-03 nm, Epot= -1.47670e+05 Fmax= 8.23241e+02, atom= 72\n",
      "Step= 2421, Dmax= 1.7e-03 nm, Epot= -1.47671e+05 Fmax= 7.29151e+02, atom= 72\n",
      "Step= 2422, Dmax= 2.0e-03 nm, Epot= -1.47671e+05 Fmax= 1.13780e+03, atom= 72\n",
      "Step= 2423, Dmax= 2.5e-03 nm, Epot= -1.47673e+05 Fmax= 1.09749e+03, atom= 72\n",
      "Step= 2425, Dmax= 1.5e-03 nm, Epot= -1.47676e+05 Fmax= 2.36980e+02, atom= 75\n",
      "Step= 2426, Dmax= 1.8e-03 nm, Epot= -1.47676e+05 Fmax= 1.36390e+03, atom= 75\n",
      "Step= 2427, Dmax= 2.1e-03 nm, Epot= -1.47681e+05 Fmax= 5.59538e+02, atom= 75\n",
      "Step= 2429, Dmax= 1.3e-03 nm, Epot= -1.47683e+05 Fmax= 6.00458e+02, atom= 75\n",
      "Step= 2430, Dmax= 1.5e-03 nm, Epot= -1.47684e+05 Fmax= 7.92540e+02, atom= 75\n",
      "Step= 2431, Dmax= 1.8e-03 nm, Epot= -1.47685e+05 Fmax= 8.77170e+02, atom= 75\n",
      "Step= 2432, Dmax= 2.2e-03 nm, Epot= -1.47685e+05 Fmax= 1.12882e+03, atom= 75\n",
      "Step= 2433, Dmax= 2.6e-03 nm, Epot= -1.47685e+05 Fmax= 1.27449e+03, atom= 75\n",
      "Step= 2435, Dmax= 1.6e-03 nm, Epot= -1.47690e+05 Fmax= 1.59189e+02, atom= 75\n",
      "Step= 2436, Dmax= 1.9e-03 nm, Epot= -1.47692e+05 Fmax= 1.55873e+03, atom= 75\n",
      "Step= 2437, Dmax= 2.3e-03 nm, Epot= -1.47698e+05 Fmax= 5.07511e+02, atom= 75\n",
      "Step= 2439, Dmax= 1.4e-03 nm, Epot= -1.47699e+05 Fmax= 7.38389e+02, atom= 75\n",
      "Step= 2440, Dmax= 1.6e-03 nm, Epot= -1.47700e+05 Fmax= 7.58224e+02, atom= 75\n",
      "Step= 2441, Dmax= 2.0e-03 nm, Epot= -1.47701e+05 Fmax= 1.03505e+03, atom= 75\n",
      "Step= 2442, Dmax= 2.4e-03 nm, Epot= -1.47702e+05 Fmax= 1.11988e+03, atom= 75\n",
      "Step= 2444, Dmax= 1.4e-03 nm, Epot= -1.47706e+05 Fmax= 1.79054e+02, atom= 75\n",
      "Step= 2445, Dmax= 1.7e-03 nm, Epot= -1.47707e+05 Fmax= 1.38152e+03, atom= 75\n",
      "Step= 2446, Dmax= 2.0e-03 nm, Epot= -1.47712e+05 Fmax= 4.88022e+02, atom= 75\n",
      "Step= 2448, Dmax= 1.2e-03 nm, Epot= -1.47713e+05 Fmax= 6.28678e+02, atom= 75\n",
      "Step= 2449, Dmax= 1.5e-03 nm, Epot= -1.47714e+05 Fmax= 7.10120e+02, atom= 75\n",
      "Step= 2450, Dmax= 1.8e-03 nm, Epot= -1.47715e+05 Fmax= 8.98391e+02, atom= 75\n",
      "Step= 2451, Dmax= 2.1e-03 nm, Epot= -1.47716e+05 Fmax= 1.02937e+03, atom= 75\n",
      "Step= 2452, Dmax= 2.5e-03 nm, Epot= -1.47716e+05 Fmax= 1.28774e+03, atom= 75\n",
      "Step= 2454, Dmax= 1.5e-03 nm, Epot= -1.47721e+05 Fmax= 1.10357e+02, atom= 72\n",
      "Step= 2455, Dmax= 1.8e-03 nm, Epot= -1.47725e+05 Fmax= 1.57052e+03, atom= 72\n",
      "Step= 2456, Dmax= 2.2e-03 nm, Epot= -1.47731e+05 Fmax= 4.41168e+02, atom= 72\n",
      "Step= 2458, Dmax= 1.3e-03 nm, Epot= -1.47732e+05 Fmax= 7.59975e+02, atom= 72\n",
      "Step= 2459, Dmax= 1.6e-03 nm, Epot= -1.47734e+05 Fmax= 6.79711e+02, atom= 72\n",
      "Step= 2460, Dmax= 1.9e-03 nm, Epot= -1.47734e+05 Fmax= 1.05119e+03, atom= 72\n",
      "Step= 2461, Dmax= 2.3e-03 nm, Epot= -1.47735e+05 Fmax= 1.02175e+03, atom= 72\n",
      "Step= 2463, Dmax= 1.4e-03 nm, Epot= -1.47739e+05 Fmax= 2.15892e+02, atom= 75\n",
      "Step= 2464, Dmax= 1.6e-03 nm, Epot= -1.47740e+05 Fmax= 1.26896e+03, atom= 75\n",
      "Step= 2465, Dmax= 2.0e-03 nm, Epot= -1.47744e+05 Fmax= 5.15263e+02, atom= 75\n",
      "Step= 2467, Dmax= 1.2e-03 nm, Epot= -1.47745e+05 Fmax= 5.60248e+02, atom= 75\n",
      "Step= 2468, Dmax= 1.4e-03 nm, Epot= -1.47746e+05 Fmax= 7.31438e+02, atom= 75\n",
      "Step= 2469, Dmax= 1.7e-03 nm, Epot= -1.47747e+05 Fmax= 8.16747e+02, atom= 75\n",
      "Step= 2470, Dmax= 2.0e-03 nm, Epot= -1.47748e+05 Fmax= 1.04330e+03, atom= 75\n",
      "Step= 2471, Dmax= 2.4e-03 nm, Epot= -1.47748e+05 Fmax= 1.18499e+03, atom= 75\n",
      "Step= 2473, Dmax= 1.5e-03 nm, Epot= -1.47753e+05 Fmax= 1.44901e+02, atom= 75\n",
      "Step= 2474, Dmax= 1.8e-03 nm, Epot= -1.47755e+05 Fmax= 1.44847e+03, atom= 75\n",
      "Step= 2475, Dmax= 2.1e-03 nm, Epot= -1.47761e+05 Fmax= 4.68164e+02, atom= 75\n",
      "Step= 2477, Dmax= 1.3e-03 nm, Epot= -1.47762e+05 Fmax= 6.87116e+02, atom= 75\n",
      "Step= 2478, Dmax= 1.5e-03 nm, Epot= -1.47763e+05 Fmax= 7.00689e+02, atom= 75\n",
      "Step= 2479, Dmax= 1.8e-03 nm, Epot= -1.47764e+05 Fmax= 9.62060e+02, atom= 75\n",
      "Step= 2480, Dmax= 2.2e-03 nm, Epot= -1.47764e+05 Fmax= 1.03610e+03, atom= 75\n",
      "Step= 2482, Dmax= 1.3e-03 nm, Epot= -1.47768e+05 Fmax= 1.67967e+02, atom= 75\n",
      "Step= 2483, Dmax= 1.6e-03 nm, Epot= -1.47770e+05 Fmax= 1.27862e+03, atom= 75\n",
      "Step= 2484, Dmax= 1.9e-03 nm, Epot= -1.47774e+05 Fmax= 4.54196e+02, atom= 75\n",
      "Step= 2486, Dmax= 1.1e-03 nm, Epot= -1.47775e+05 Fmax= 5.81420e+02, atom= 75\n",
      "Step= 2487, Dmax= 1.4e-03 nm, Epot= -1.47776e+05 Fmax= 6.60000e+02, atom= 75\n",
      "Step= 2488, Dmax= 1.6e-03 nm, Epot= -1.47777e+05 Fmax= 8.31549e+02, atom= 75\n",
      "Step= 2489, Dmax= 2.0e-03 nm, Epot= -1.47778e+05 Fmax= 9.56005e+02, atom= 75\n",
      "Step= 2490, Dmax= 2.4e-03 nm, Epot= -1.47778e+05 Fmax= 1.19256e+03, atom= 75\n",
      "Step= 2491, Dmax= 2.8e-03 nm, Epot= -1.47779e+05 Fmax= 1.38086e+03, atom= 75\n",
      "Step= 2493, Dmax= 1.7e-03 nm, Epot= -1.47784e+05 Fmax= 1.54320e+02, atom= 75\n",
      "Step= 2494, Dmax= 2.0e-03 nm, Epot= -1.47785e+05 Fmax= 1.68391e+03, atom= 75\n",
      "Step= 2495, Dmax= 2.4e-03 nm, Epot= -1.47793e+05 Fmax= 5.29346e+02, atom= 75\n",
      "Step= 2497, Dmax= 1.5e-03 nm, Epot= -1.47793e+05 Fmax= 8.05368e+02, atom= 75\n",
      "Step= 2498, Dmax= 1.8e-03 nm, Epot= -1.47794e+05 Fmax= 7.98453e+02, atom= 75\n",
      "Step= 2499, Dmax= 2.1e-03 nm, Epot= -1.47795e+05 Fmax= 1.12240e+03, atom= 75\n",
      "Step= 2500, Dmax= 2.5e-03 nm, Epot= -1.47796e+05 Fmax= 1.18660e+03, atom= 75\n",
      "Step= 2502, Dmax= 1.5e-03 nm, Epot= -1.47800e+05 Fmax= 2.05243e+02, atom= 75\n",
      "Step= 2503, Dmax= 1.8e-03 nm, Epot= -1.47800e+05 Fmax= 1.46816e+03, atom= 75\n",
      "Step= 2504, Dmax= 2.2e-03 nm, Epot= -1.47805e+05 Fmax= 5.35109e+02, atom= 75\n",
      "Step= 2506, Dmax= 1.3e-03 nm, Epot= -1.47807e+05 Fmax= 6.61585e+02, atom= 75\n",
      "Step= 2507, Dmax= 1.6e-03 nm, Epot= -1.47808e+05 Fmax= 7.72433e+02, atom= 75\n",
      "Step= 2508, Dmax= 1.9e-03 nm, Epot= -1.47809e+05 Fmax= 9.51273e+02, atom= 75\n",
      "Step= 2509, Dmax= 2.3e-03 nm, Epot= -1.47809e+05 Fmax= 1.11366e+03, atom= 75\n",
      "Step= 2511, Dmax= 1.4e-03 nm, Epot= -1.47813e+05 Fmax= 1.20093e+02, atom= 75\n",
      "Step= 2512, Dmax= 1.6e-03 nm, Epot= -1.47816e+05 Fmax= 1.35611e+03, atom= 75\n",
      "Step= 2513, Dmax= 2.0e-03 nm, Epot= -1.47821e+05 Fmax= 4.22272e+02, atom= 75\n",
      "Step= 2515, Dmax= 1.2e-03 nm, Epot= -1.47822e+05 Fmax= 6.48699e+02, atom= 75\n",
      "Step= 2516, Dmax= 1.4e-03 nm, Epot= -1.47824e+05 Fmax= 6.38321e+02, atom= 75\n",
      "Step= 2517, Dmax= 1.7e-03 nm, Epot= -1.47825e+05 Fmax= 9.03312e+02, atom= 75\n",
      "Step= 2518, Dmax= 2.0e-03 nm, Epot= -1.47825e+05 Fmax= 9.49667e+02, atom= 75\n",
      "Step= 2519, Dmax= 2.4e-03 nm, Epot= -1.47826e+05 Fmax= 1.26949e+03, atom= 75\n",
      "Step= 2521, Dmax= 1.5e-03 nm, Epot= -1.47830e+05 Fmax= 9.82727e+01, atom= 5843\n",
      "Step= 2522, Dmax= 1.8e-03 nm, Epot= -1.47839e+05 Fmax= 8.52767e+02, atom= 75\n",
      "Step= 2523, Dmax= 2.1e-03 nm, Epot= -1.47839e+05 Fmax= 1.06976e+03, atom= 75\n",
      "Step= 2524, Dmax= 2.5e-03 nm, Epot= -1.47840e+05 Fmax= 1.23462e+03, atom= 75\n",
      "Step= 2526, Dmax= 1.5e-03 nm, Epot= -1.47844e+05 Fmax= 1.42637e+02, atom= 75\n",
      "Step= 2527, Dmax= 1.8e-03 nm, Epot= -1.47847e+05 Fmax= 1.50150e+03, atom= 75\n",
      "Step= 2528, Dmax= 2.2e-03 nm, Epot= -1.47852e+05 Fmax= 4.80612e+02, atom= 75\n",
      "Step= 2530, Dmax= 1.3e-03 nm, Epot= -1.47853e+05 Fmax= 7.12256e+02, atom= 75\n",
      "Step= 2531, Dmax= 1.6e-03 nm, Epot= -1.47855e+05 Fmax= 7.22235e+02, atom= 75\n",
      "Step= 2532, Dmax= 1.9e-03 nm, Epot= -1.47855e+05 Fmax= 9.95418e+02, atom= 75\n",
      "Step= 2533, Dmax= 2.3e-03 nm, Epot= -1.47856e+05 Fmax= 1.06981e+03, atom= 75\n",
      "Step= 2535, Dmax= 1.4e-03 nm, Epot= -1.47860e+05 Fmax= 1.72851e+02, atom= 75\n",
      "Step= 2536, Dmax= 1.6e-03 nm, Epot= -1.47861e+05 Fmax= 1.32428e+03, atom= 75\n",
      "Step= 2537, Dmax= 2.0e-03 nm, Epot= -1.47865e+05 Fmax= 4.65249e+02, atom= 75\n",
      "Step= 2539, Dmax= 1.2e-03 nm, Epot= -1.47867e+05 Fmax= 6.05643e+02, atom= 75\n",
      "Step= 2540, Dmax= 1.4e-03 nm, Epot= -1.47868e+05 Fmax= 6.76702e+02, atom= 75\n",
      "Step= 2541, Dmax= 1.7e-03 nm, Epot= -1.47869e+05 Fmax= 8.65409e+02, atom= 75\n",
      "Step= 2542, Dmax= 2.0e-03 nm, Epot= -1.47870e+05 Fmax= 9.81652e+02, atom= 75\n",
      "Step= 2544, Dmax= 1.2e-03 nm, Epot= -1.47873e+05 Fmax= 1.23668e+02, atom= 75\n",
      "Step= 2545, Dmax= 1.5e-03 nm, Epot= -1.47876e+05 Fmax= 1.19613e+03, atom= 75\n",
      "Step= 2546, Dmax= 1.8e-03 nm, Epot= -1.47880e+05 Fmax= 3.96221e+02, atom= 75\n",
      "Step= 2548, Dmax= 1.1e-03 nm, Epot= -1.47881e+05 Fmax= 5.61232e+02, atom= 75\n",
      "Step= 2549, Dmax= 1.3e-03 nm, Epot= -1.47883e+05 Fmax= 5.90209e+02, atom= 75\n",
      "Step= 2550, Dmax= 1.5e-03 nm, Epot= -1.47883e+05 Fmax= 7.88353e+02, atom= 75\n",
      "Step= 2551, Dmax= 1.8e-03 nm, Epot= -1.47884e+05 Fmax= 8.69236e+02, atom= 75\n",
      "Step= 2552, Dmax= 2.2e-03 nm, Epot= -1.47884e+05 Fmax= 1.11597e+03, atom= 75\n",
      "Step= 2553, Dmax= 2.6e-03 nm, Epot= -1.47885e+05 Fmax= 1.27075e+03, atom= 75\n",
      "Step= 2555, Dmax= 1.6e-03 nm, Epot= -1.47890e+05 Fmax= 1.66661e+02, atom= 75\n",
      "Step= 2556, Dmax= 1.9e-03 nm, Epot= -1.47891e+05 Fmax= 1.56593e+03, atom= 75\n",
      "Step= 2557, Dmax= 2.3e-03 nm, Epot= -1.47897e+05 Fmax= 5.04314e+02, atom= 75\n",
      "Step= 2559, Dmax= 1.4e-03 nm, Epot= -1.47898e+05 Fmax= 7.33322e+02, atom= 75\n",
      "Step= 2560, Dmax= 1.6e-03 nm, Epot= -1.47899e+05 Fmax= 7.48960e+02, atom= 75\n",
      "Step= 2561, Dmax= 2.0e-03 nm, Epot= -1.47900e+05 Fmax= 1.03354e+03, atom= 75\n",
      "Step= 2562, Dmax= 2.3e-03 nm, Epot= -1.47900e+05 Fmax= 1.10117e+03, atom= 75\n",
      "Step= 2564, Dmax= 1.4e-03 nm, Epot= -1.47904e+05 Fmax= 1.75176e+02, atom= 75\n",
      "Step= 2565, Dmax= 1.7e-03 nm, Epot= -1.47905e+05 Fmax= 1.35077e+03, atom= 75\n",
      "Step= 2566, Dmax= 2.0e-03 nm, Epot= -1.47910e+05 Fmax= 4.88147e+02, atom= 75\n",
      "Step= 2568, Dmax= 1.2e-03 nm, Epot= -1.47911e+05 Fmax= 6.18421e+02, atom= 75\n",
      "Step= 2569, Dmax= 1.5e-03 nm, Epot= -1.47912e+05 Fmax= 7.12409e+02, atom= 75\n",
      "Step= 2570, Dmax= 1.8e-03 nm, Epot= -1.47913e+05 Fmax= 8.81041e+02, atom= 75\n",
      "Step= 2571, Dmax= 2.1e-03 nm, Epot= -1.47913e+05 Fmax= 1.03492e+03, atom= 75\n",
      "Step= 2572, Dmax= 2.5e-03 nm, Epot= -1.47914e+05 Fmax= 1.25922e+03, atom= 75\n",
      "Step= 2574, Dmax= 1.5e-03 nm, Epot= -1.47918e+05 Fmax= 1.12212e+02, atom= 75\n",
      "Step= 2575, Dmax= 1.8e-03 nm, Epot= -1.47922e+05 Fmax= 1.52264e+03, atom= 75\n",
      "Step= 2576, Dmax= 2.2e-03 nm, Epot= -1.47928e+05 Fmax= 4.53048e+02, atom= 75\n",
      "Step= 2578, Dmax= 1.3e-03 nm, Epot= -1.47929e+05 Fmax= 7.35944e+02, atom= 75\n",
      "Step= 2579, Dmax= 1.6e-03 nm, Epot= -1.47930e+05 Fmax= 6.94004e+02, atom= 75\n",
      "Step= 2580, Dmax= 1.9e-03 nm, Epot= -1.47931e+05 Fmax= 1.01781e+03, atom= 75\n",
      "Step= 2581, Dmax= 2.3e-03 nm, Epot= -1.47932e+05 Fmax= 1.04065e+03, atom= 75\n",
      "Step= 2583, Dmax= 1.4e-03 nm, Epot= -1.47935e+05 Fmax= 1.97803e+02, atom= 75\n",
      "Step= 2584, Dmax= 1.6e-03 nm, Epot= -1.47936e+05 Fmax= 1.29431e+03, atom= 75\n",
      "Step= 2585, Dmax= 2.0e-03 nm, Epot= -1.47940e+05 Fmax= 4.88979e+02, atom= 75\n",
      "Step= 2587, Dmax= 1.2e-03 nm, Epot= -1.47941e+05 Fmax= 5.78612e+02, atom= 75\n",
      "Step= 2588, Dmax= 1.4e-03 nm, Epot= -1.47942e+05 Fmax= 6.99194e+02, atom= 75\n",
      "Step= 2589, Dmax= 1.7e-03 nm, Epot= -1.47944e+05 Fmax= 8.37808e+02, atom= 75\n",
      "Step= 2590, Dmax= 2.0e-03 nm, Epot= -1.47944e+05 Fmax= 1.00270e+03, atom= 75\n",
      "Step= 2591, Dmax= 2.4e-03 nm, Epot= -1.47945e+05 Fmax= 1.21074e+03, atom= 75\n",
      "Step= 2593, Dmax= 1.5e-03 nm, Epot= -1.47949e+05 Fmax= 1.22130e+02, atom= 72\n",
      "Step= 2594, Dmax= 1.7e-03 nm, Epot= -1.47952e+05 Fmax= 1.48610e+03, atom= 75\n",
      "Step= 2595, Dmax= 2.1e-03 nm, Epot= -1.47957e+05 Fmax= 4.33910e+02, atom= 75\n",
      "Step= 2597, Dmax= 1.3e-03 nm, Epot= -1.47958e+05 Fmax= 7.13993e+02, atom= 75\n",
      "Step= 2598, Dmax= 1.5e-03 nm, Epot= -1.47960e+05 Fmax= 6.60745e+02, atom= 75\n",
      "Step= 2599, Dmax= 1.8e-03 nm, Epot= -1.47960e+05 Fmax= 9.92754e+02, atom= 75\n",
      "Step= 2600, Dmax= 2.2e-03 nm, Epot= -1.47961e+05 Fmax= 9.87260e+02, atom= 75\n",
      "Step= 2602, Dmax= 1.3e-03 nm, Epot= -1.47964e+05 Fmax= 1.96830e+02, atom= 75\n",
      "Step= 2603, Dmax= 1.6e-03 nm, Epot= -1.47966e+05 Fmax= 1.21911e+03, atom= 75\n",
      "Step= 2604, Dmax= 1.9e-03 nm, Epot= -1.47970e+05 Fmax= 4.86731e+02, atom= 75\n",
      "Step= 2606, Dmax= 1.1e-03 nm, Epot= -1.47971e+05 Fmax= 5.39552e+02, atom= 75\n",
      "Step= 2607, Dmax= 1.4e-03 nm, Epot= -1.47972e+05 Fmax= 6.94921e+02, atom= 75\n",
      "Step= 2608, Dmax= 1.6e-03 nm, Epot= -1.47973e+05 Fmax= 7.82921e+02, atom= 75\n",
      "Step= 2609, Dmax= 1.9e-03 nm, Epot= -1.47973e+05 Fmax= 9.94347e+02, atom= 75\n",
      "Step= 2610, Dmax= 2.3e-03 nm, Epot= -1.47973e+05 Fmax= 1.13354e+03, atom= 75\n",
      "Step= 2611, Dmax= 2.8e-03 nm, Epot= -1.47974e+05 Fmax= 1.42565e+03, atom= 75\n",
      "Step= 2613, Dmax= 1.7e-03 nm, Epot= -1.47979e+05 Fmax= 1.18062e+02, atom= 72\n",
      "Step= 2614, Dmax= 2.0e-03 nm, Epot= -1.47982e+05 Fmax= 1.73165e+03, atom= 75\n",
      "Step= 2615, Dmax= 2.4e-03 nm, Epot= -1.47989e+05 Fmax= 4.89481e+02, atom= 75\n",
      "Step= 2617, Dmax= 1.5e-03 nm, Epot= -1.47990e+05 Fmax= 8.36784e+02, atom= 75\n",
      "Step= 2618, Dmax= 1.7e-03 nm, Epot= -1.47991e+05 Fmax= 7.51828e+02, atom= 75\n",
      "Step= 2620, Dmax= 1.0e-03 nm, Epot= -1.47993e+05 Fmax= 1.98956e+02, atom= 75\n",
      "Step= 2621, Dmax= 1.3e-03 nm, Epot= -1.47995e+05 Fmax= 9.38774e+02, atom= 75\n",
      "Step= 2622, Dmax= 1.5e-03 nm, Epot= -1.47998e+05 Fmax= 4.31393e+02, atom= 75\n",
      "Step= 2624, Dmax= 9.0e-04 nm, Epot= -1.47999e+05 Fmax= 3.92278e+02, atom= 75\n",
      "Step= 2625, Dmax= 1.1e-03 nm, Epot= -1.48000e+05 Fmax= 5.98849e+02, atom= 75\n",
      "Step= 2626, Dmax= 1.3e-03 nm, Epot= -1.48001e+05 Fmax= 5.87418e+02, atom= 75\n",
      "Step= 2627, Dmax= 1.6e-03 nm, Epot= -1.48002e+05 Fmax= 8.39340e+02, atom= 75\n",
      "Step= 2628, Dmax= 1.9e-03 nm, Epot= -1.48003e+05 Fmax= 8.68760e+02, atom= 75\n",
      "Step= 2630, Dmax= 1.1e-03 nm, Epot= -1.48006e+05 Fmax= 1.53126e+02, atom= 75\n",
      "Step= 2631, Dmax= 1.4e-03 nm, Epot= -1.48008e+05 Fmax= 1.06802e+03, atom= 75\n",
      "Step= 2632, Dmax= 1.6e-03 nm, Epot= -1.48011e+05 Fmax= 4.04051e+02, atom= 75\n",
      "Step= 2634, Dmax= 9.7e-04 nm, Epot= -1.48013e+05 Fmax= 4.80928e+02, atom= 75\n",
      "Step= 2635, Dmax= 1.2e-03 nm, Epot= -1.48014e+05 Fmax= 5.83977e+02, atom= 75\n",
      "Step= 2636, Dmax= 1.4e-03 nm, Epot= -1.48015e+05 Fmax= 6.90469e+02, atom= 75\n",
      "Step= 2637, Dmax= 1.7e-03 nm, Epot= -1.48016e+05 Fmax= 8.42539e+02, atom= 75\n",
      "Step= 2638, Dmax= 2.0e-03 nm, Epot= -1.48016e+05 Fmax= 9.92613e+02, atom= 75\n",
      "Step= 2639, Dmax= 2.4e-03 nm, Epot= -1.48016e+05 Fmax= 1.21475e+03, atom= 75\n",
      "Step= 2640, Dmax= 2.9e-03 nm, Epot= -1.48016e+05 Fmax= 1.42717e+03, atom= 75\n",
      "Step= 2642, Dmax= 1.7e-03 nm, Epot= -1.48022e+05 Fmax= 1.49888e+02, atom= 75\n",
      "Step= 2643, Dmax= 2.1e-03 nm, Epot= -1.48023e+05 Fmax= 1.73251e+03, atom= 75\n",
      "Step= 2644, Dmax= 2.5e-03 nm, Epot= -1.48030e+05 Fmax= 5.40625e+02, atom= 75\n",
      "Step= 2646, Dmax= 1.5e-03 nm, Epot= -1.48031e+05 Fmax= 8.28819e+02, atom= 75\n",
      "Step= 2647, Dmax= 1.8e-03 nm, Epot= -1.48032e+05 Fmax= 8.18691e+02, atom= 75\n",
      "Step= 2649, Dmax= 1.1e-03 nm, Epot= -1.48034e+05 Fmax= 1.71538e+02, atom= 75\n",
      "Step= 2650, Dmax= 1.3e-03 nm, Epot= -1.48037e+05 Fmax= 1.02235e+03, atom= 75\n",
      "Step= 2651, Dmax= 1.6e-03 nm, Epot= -1.48039e+05 Fmax= 4.03267e+02, atom= 75\n",
      "Step= 2653, Dmax= 9.4e-04 nm, Epot= -1.48041e+05 Fmax= 4.50871e+02, atom= 75\n",
      "Step= 2654, Dmax= 1.1e-03 nm, Epot= -1.48042e+05 Fmax= 5.70833e+02, atom= 75\n",
      "Step= 2655, Dmax= 1.3e-03 nm, Epot= -1.48043e+05 Fmax= 6.58926e+02, atom= 75\n",
      "Step= 2656, Dmax= 1.6e-03 nm, Epot= -1.48044e+05 Fmax= 8.12796e+02, atom= 75\n",
      "Step= 2657, Dmax= 1.9e-03 nm, Epot= -1.48045e+05 Fmax= 9.58007e+02, atom= 75\n",
      "Step= 2658, Dmax= 2.3e-03 nm, Epot= -1.48045e+05 Fmax= 1.16148e+03, atom= 75\n",
      "Step= 2659, Dmax= 2.8e-03 nm, Epot= -1.48045e+05 Fmax= 1.38858e+03, atom= 75\n",
      "Step= 2661, Dmax= 1.7e-03 nm, Epot= -1.48050e+05 Fmax= 1.49470e+02, atom= 72\n",
      "Step= 2662, Dmax= 2.0e-03 nm, Epot= -1.48051e+05 Fmax= 1.69655e+03, atom= 75\n",
      "Step= 2663, Dmax= 2.4e-03 nm, Epot= -1.48058e+05 Fmax= 5.16810e+02, atom= 75\n",
      "Step= 2665, Dmax= 1.4e-03 nm, Epot= -1.48059e+05 Fmax= 8.05787e+02, atom= 75\n",
      "Step= 2666, Dmax= 1.7e-03 nm, Epot= -1.48060e+05 Fmax= 7.77000e+02, atom= 75\n",
      "Step= 2667, Dmax= 2.1e-03 nm, Epot= -1.48060e+05 Fmax= 1.12795e+03, atom= 75\n",
      "Step= 2668, Dmax= 2.5e-03 nm, Epot= -1.48061e+05 Fmax= 1.15189e+03, atom= 75\n",
      "Step= 2670, Dmax= 1.5e-03 nm, Epot= -1.48065e+05 Fmax= 2.10260e+02, atom= 75\n",
      "Step= 2671, Dmax= 1.8e-03 nm, Epot= -1.48066e+05 Fmax= 1.41749e+03, atom= 75\n",
      "Step= 2672, Dmax= 2.2e-03 nm, Epot= -1.48071e+05 Fmax= 5.45668e+02, atom= 75\n",
      "Step= 2674, Dmax= 1.3e-03 nm, Epot= -1.48072e+05 Fmax= 6.36055e+02, atom= 75\n",
      "Step= 2675, Dmax= 1.6e-03 nm, Epot= -1.48073e+05 Fmax= 7.86249e+02, atom= 75\n",
      "Step= 2676, Dmax= 1.9e-03 nm, Epot= -1.48073e+05 Fmax= 9.15422e+02, atom= 75\n",
      "Step= 2677, Dmax= 2.2e-03 nm, Epot= -1.48073e+05 Fmax= 1.13217e+03, atom= 75\n",
      "Step= 2678, Dmax= 2.7e-03 nm, Epot= -1.48074e+05 Fmax= 1.31771e+03, atom= 75\n",
      "Step= 2680, Dmax= 1.6e-03 nm, Epot= -1.48079e+05 Fmax= 1.45720e+02, atom= 75\n",
      "Step= 2681, Dmax= 1.9e-03 nm, Epot= -1.48080e+05 Fmax= 1.59843e+03, atom= 75\n",
      "Step= 2682, Dmax= 2.3e-03 nm, Epot= -1.48087e+05 Fmax= 5.10338e+02, atom= 75\n",
      "Step= 2684, Dmax= 1.4e-03 nm, Epot= -1.48087e+05 Fmax= 7.59068e+02, atom= 75\n",
      "Step= 2685, Dmax= 1.7e-03 nm, Epot= -1.48089e+05 Fmax= 7.69032e+02, atom= 75\n",
      "Step= 2687, Dmax= 1.0e-03 nm, Epot= -1.48091e+05 Fmax= 1.48916e+02, atom= 75\n",
      "Step= 2688, Dmax= 1.2e-03 nm, Epot= -1.48093e+05 Fmax= 9.59448e+02, atom= 75\n",
      "Step= 2689, Dmax= 1.4e-03 nm, Epot= -1.48096e+05 Fmax= 3.61899e+02, atom= 75\n",
      "Step= 2691, Dmax= 8.7e-04 nm, Epot= -1.48098e+05 Fmax= 4.30688e+02, atom= 75\n",
      "Step= 2692, Dmax= 1.0e-03 nm, Epot= -1.48099e+05 Fmax= 5.16440e+02, atom= 75\n",
      "Step= 2693, Dmax= 1.3e-03 nm, Epot= -1.48100e+05 Fmax= 6.24474e+02, atom= 75\n",
      "Step= 2694, Dmax= 1.5e-03 nm, Epot= -1.48101e+05 Fmax= 7.40018e+02, atom= 75\n",
      "Step= 2695, Dmax= 1.8e-03 nm, Epot= -1.48102e+05 Fmax= 9.02655e+02, atom= 75\n",
      "Step= 2696, Dmax= 2.2e-03 nm, Epot= -1.48102e+05 Fmax= 1.06267e+03, atom= 75\n",
      "Step= 2697, Dmax= 2.6e-03 nm, Epot= -1.48102e+05 Fmax= 1.30265e+03, atom= 75\n",
      "Step= 2698, Dmax= 3.1e-03 nm, Epot= -1.48102e+05 Fmax= 1.52709e+03, atom= 75\n",
      "Step= 2700, Dmax= 1.9e-03 nm, Epot= -1.48108e+05 Fmax= 1.62327e+02, atom= 75\n",
      "Step= 2702, Dmax= 1.1e-03 nm, Epot= -1.48111e+05 Fmax= 8.48945e+02, atom= 75\n",
      "Step= 2703, Dmax= 1.3e-03 nm, Epot= -1.48113e+05 Fmax= 3.74414e+02, atom= 75\n",
      "Step= 2705, Dmax= 8.1e-04 nm, Epot= -1.48115e+05 Fmax= 3.59248e+02, atom= 75\n",
      "Step= 2706, Dmax= 9.7e-04 nm, Epot= -1.48116e+05 Fmax= 5.25568e+02, atom= 75\n",
      "Step= 2707, Dmax= 1.2e-03 nm, Epot= -1.48117e+05 Fmax= 5.31076e+02, atom= 75\n",
      "Step= 2708, Dmax= 1.4e-03 nm, Epot= -1.48118e+05 Fmax= 7.41944e+02, atom= 75\n",
      "Step= 2709, Dmax= 1.7e-03 nm, Epot= -1.48119e+05 Fmax= 7.79989e+02, atom= 75\n",
      "Step= 2710, Dmax= 2.0e-03 nm, Epot= -1.48119e+05 Fmax= 1.05222e+03, atom= 75\n",
      "Step= 2711, Dmax= 2.4e-03 nm, Epot= -1.48120e+05 Fmax= 1.13929e+03, atom= 75\n",
      "Step= 2713, Dmax= 1.4e-03 nm, Epot= -1.48124e+05 Fmax= 1.71699e+02, atom= 75\n",
      "Step= 2714, Dmax= 1.7e-03 nm, Epot= -1.48125e+05 Fmax= 1.39006e+03, atom= 75\n",
      "Step= 2715, Dmax= 2.1e-03 nm, Epot= -1.48130e+05 Fmax= 4.98496e+02, atom= 75\n",
      "Step= 2717, Dmax= 1.2e-03 nm, Epot= -1.48131e+05 Fmax= 6.36444e+02, atom= 75\n",
      "Step= 2718, Dmax= 1.5e-03 nm, Epot= -1.48132e+05 Fmax= 7.31202e+02, atom= 75\n",
      "Step= 2719, Dmax= 1.8e-03 nm, Epot= -1.48133e+05 Fmax= 9.03595e+02, atom= 75\n",
      "Step= 2720, Dmax= 2.2e-03 nm, Epot= -1.48134e+05 Fmax= 1.06484e+03, atom= 75\n",
      "Step= 2722, Dmax= 1.3e-03 nm, Epot= -1.48137e+05 Fmax= 1.32689e+02, atom= 10187\n",
      "Step= 2723, Dmax= 1.6e-03 nm, Epot= -1.48141e+05 Fmax= 1.16283e+03, atom= 75\n",
      "Step= 2724, Dmax= 1.9e-03 nm, Epot= -1.48144e+05 Fmax= 5.38898e+02, atom= 75\n",
      "Step= 2726, Dmax= 1.1e-03 nm, Epot= -1.48146e+05 Fmax= 4.80495e+02, atom= 75\n",
      "Step= 2727, Dmax= 1.3e-03 nm, Epot= -1.48147e+05 Fmax= 7.37744e+02, atom= 75\n",
      "Step= 2728, Dmax= 1.6e-03 nm, Epot= -1.48148e+05 Fmax= 7.30109e+02, atom= 75\n",
      "Step= 2729, Dmax= 1.9e-03 nm, Epot= -1.48148e+05 Fmax= 1.02533e+03, atom= 75\n",
      "Step= 2730, Dmax= 2.3e-03 nm, Epot= -1.48149e+05 Fmax= 1.08861e+03, atom= 75\n",
      "Step= 2732, Dmax= 1.4e-03 nm, Epot= -1.48153e+05 Fmax= 1.84151e+02, atom= 72\n",
      "Step= 2733, Dmax= 1.7e-03 nm, Epot= -1.48154e+05 Fmax= 1.34797e+03, atom= 75\n",
      "Step= 2734, Dmax= 2.0e-03 nm, Epot= -1.48158e+05 Fmax= 4.83920e+02, atom= 75\n",
      "Step= 2736, Dmax= 1.2e-03 nm, Epot= -1.48160e+05 Fmax= 6.13359e+02, atom= 75\n",
      "Step= 2737, Dmax= 1.4e-03 nm, Epot= -1.48161e+05 Fmax= 6.97787e+02, atom= 75\n",
      "Step= 2738, Dmax= 1.7e-03 nm, Epot= -1.48162e+05 Fmax= 8.81873e+02, atom= 75\n",
      "Step= 2739, Dmax= 2.1e-03 nm, Epot= -1.48163e+05 Fmax= 1.00703e+03, atom= 75\n",
      "Step= 2740, Dmax= 2.5e-03 nm, Epot= -1.48163e+05 Fmax= 1.26768e+03, atom= 75\n",
      "Step= 2742, Dmax= 1.5e-03 nm, Epot= -1.48167e+05 Fmax= 1.50445e+02, atom= 10187\n",
      "Step= 2743, Dmax= 1.8e-03 nm, Epot= -1.48172e+05 Fmax= 1.02352e+03, atom= 72\n",
      "Step= 2744, Dmax= 2.2e-03 nm, Epot= -1.48173e+05 Fmax= 9.38494e+02, atom= 72\n",
      "Step= 2746, Dmax= 1.3e-03 nm, Epot= -1.48176e+05 Fmax= 2.33579e+02, atom= 75\n",
      "Step= 2747, Dmax= 1.6e-03 nm, Epot= -1.48177e+05 Fmax= 1.16613e+03, atom= 75\n",
      "Step= 2748, Dmax= 1.9e-03 nm, Epot= -1.48181e+05 Fmax= 5.23857e+02, atom= 75\n",
      "Step= 2750, Dmax= 1.1e-03 nm, Epot= -1.48182e+05 Fmax= 4.91901e+02, atom= 75\n",
      "Step= 2751, Dmax= 1.3e-03 nm, Epot= -1.48183e+05 Fmax= 7.32665e+02, atom= 75\n",
      "Step= 2752, Dmax= 1.6e-03 nm, Epot= -1.48184e+05 Fmax= 7.30438e+02, atom= 75\n",
      "Step= 2753, Dmax= 1.9e-03 nm, Epot= -1.48184e+05 Fmax= 1.03188e+03, atom= 75\n",
      "Step= 2754, Dmax= 2.3e-03 nm, Epot= -1.48186e+05 Fmax= 1.07496e+03, atom= 75\n",
      "Step= 2756, Dmax= 1.4e-03 nm, Epot= -1.48189e+05 Fmax= 1.85319e+02, atom= 75\n",
      "Step= 2757, Dmax= 1.7e-03 nm, Epot= -1.48190e+05 Fmax= 1.31578e+03, atom= 75\n",
      "Step= 2758, Dmax= 2.0e-03 nm, Epot= -1.48195e+05 Fmax= 4.99861e+02, atom= 75\n",
      "Step= 2760, Dmax= 1.2e-03 nm, Epot= -1.48196e+05 Fmax= 5.91320e+02, atom= 75\n",
      "Step= 2761, Dmax= 1.4e-03 nm, Epot= -1.48197e+05 Fmax= 7.24247e+02, atom= 75\n",
      "Step= 2762, Dmax= 1.7e-03 nm, Epot= -1.48198e+05 Fmax= 8.47484e+02, atom= 75\n",
      "Step= 2763, Dmax= 2.1e-03 nm, Epot= -1.48199e+05 Fmax= 1.04599e+03, atom= 75\n",
      "Step= 2764, Dmax= 2.5e-03 nm, Epot= -1.48199e+05 Fmax= 1.21737e+03, atom= 75\n",
      "Step= 2766, Dmax= 1.5e-03 nm, Epot= -1.48204e+05 Fmax= 1.62853e+02, atom= 10187\n",
      "Step= 2767, Dmax= 1.8e-03 nm, Epot= -1.48206e+05 Fmax= 1.21101e+03, atom= 75\n",
      "Step= 2768, Dmax= 2.1e-03 nm, Epot= -1.48210e+05 Fmax= 7.45110e+02, atom= 75\n",
      "Step= 2770, Dmax= 1.3e-03 nm, Epot= -1.48212e+05 Fmax= 4.31101e+02, atom= 75\n",
      "Step= 2771, Dmax= 1.5e-03 nm, Epot= -1.48212e+05 Fmax= 9.87222e+02, atom= 75\n",
      "Step= 2772, Dmax= 1.9e-03 nm, Epot= -1.48214e+05 Fmax= 7.06224e+02, atom= 75\n",
      "Step= 2774, Dmax= 1.1e-03 nm, Epot= -1.48216e+05 Fmax= 3.08839e+02, atom= 75\n",
      "Step= 2775, Dmax= 1.3e-03 nm, Epot= -1.48217e+05 Fmax= 9.01483e+02, atom= 75\n",
      "Step= 2776, Dmax= 1.6e-03 nm, Epot= -1.48220e+05 Fmax= 5.59978e+02, atom= 75\n",
      "Step= 2778, Dmax= 9.6e-04 nm, Epot= -1.48221e+05 Fmax= 3.16766e+02, atom= 75\n",
      "Step= 2779, Dmax= 1.2e-03 nm, Epot= -1.48222e+05 Fmax= 7.42257e+02, atom= 75\n",
      "Step= 2780, Dmax= 1.4e-03 nm, Epot= -1.48224e+05 Fmax= 5.20702e+02, atom= 75\n",
      "Step= 2781, Dmax= 1.7e-03 nm, Epot= -1.48224e+05 Fmax= 1.00218e+03, atom= 75\n",
      "Step= 2782, Dmax= 2.0e-03 nm, Epot= -1.48226e+05 Fmax= 8.16799e+02, atom= 75\n",
      "Step= 2784, Dmax= 1.2e-03 nm, Epot= -1.48228e+05 Fmax= 2.73103e+02, atom= 75\n",
      "Step= 2785, Dmax= 1.4e-03 nm, Epot= -1.48230e+05 Fmax= 1.02586e+03, atom= 75\n",
      "Step= 2786, Dmax= 1.7e-03 nm, Epot= -1.48232e+05 Fmax= 5.43605e+02, atom= 75\n",
      "Step= 2788, Dmax= 1.0e-03 nm, Epot= -1.48233e+05 Fmax= 3.98218e+02, atom= 75\n",
      "Step= 2789, Dmax= 1.2e-03 nm, Epot= -1.48235e+05 Fmax= 7.38954e+02, atom= 75\n",
      "Step= 2790, Dmax= 1.5e-03 nm, Epot= -1.48236e+05 Fmax= 6.17985e+02, atom= 75\n",
      "Step= 2791, Dmax= 1.8e-03 nm, Epot= -1.48236e+05 Fmax= 1.01787e+03, atom= 75\n",
      "Step= 2792, Dmax= 2.1e-03 nm, Epot= -1.48238e+05 Fmax= 9.36499e+02, atom= 75\n",
      "Step= 2794, Dmax= 1.3e-03 nm, Epot= -1.48240e+05 Fmax= 2.34084e+02, atom= 75\n",
      "Step= 2795, Dmax= 1.5e-03 nm, Epot= -1.48242e+05 Fmax= 1.15961e+03, atom= 75\n",
      "Step= 2796, Dmax= 1.9e-03 nm, Epot= -1.48245e+05 Fmax= 5.26137e+02, atom= 75\n",
      "Step= 2798, Dmax= 1.1e-03 nm, Epot= -1.48246e+05 Fmax= 4.85641e+02, atom= 75\n",
      "Step= 2799, Dmax= 1.3e-03 nm, Epot= -1.48247e+05 Fmax= 7.35799e+02, atom= 75\n",
      "Step= 2800, Dmax= 1.6e-03 nm, Epot= -1.48249e+05 Fmax= 7.21955e+02, atom= 75\n",
      "Step= 2802, Dmax= 9.6e-04 nm, Epot= -1.48251e+05 Fmax= 1.54221e+02, atom= 10419\n",
      "Step= 2803, Dmax= 1.2e-03 nm, Epot= -1.48254e+05 Fmax= 8.77306e+02, atom= 75\n",
      "Step= 2804, Dmax= 1.4e-03 nm, Epot= -1.48256e+05 Fmax= 3.82769e+02, atom= 75\n",
      "Step= 2805, Dmax= 1.7e-03 nm, Epot= -1.48256e+05 Fmax= 1.12062e+03, atom= 75\n",
      "Step= 2806, Dmax= 2.0e-03 nm, Epot= -1.48259e+05 Fmax= 6.94066e+02, atom= 75\n",
      "Step= 2808, Dmax= 1.2e-03 nm, Epot= -1.48260e+05 Fmax= 3.95425e+02, atom= 75\n",
      "Step= 2809, Dmax= 1.4e-03 nm, Epot= -1.48260e+05 Fmax= 9.20302e+02, atom= 75\n",
      "Step= 2810, Dmax= 1.7e-03 nm, Epot= -1.48263e+05 Fmax= 6.49161e+02, atom= 75\n",
      "Step= 2812, Dmax= 1.0e-03 nm, Epot= -1.48265e+05 Fmax= 2.92667e+02, atom= 75\n",
      "Step= 2813, Dmax= 1.2e-03 nm, Epot= -1.48266e+05 Fmax= 8.28923e+02, atom= 75\n",
      "Step= 2814, Dmax= 1.5e-03 nm, Epot= -1.48268e+05 Fmax= 5.27018e+02, atom= 75\n",
      "Step= 2816, Dmax= 8.9e-04 nm, Epot= -1.48269e+05 Fmax= 2.85346e+02, atom= 75\n",
      "Step= 2817, Dmax= 1.1e-03 nm, Epot= -1.48270e+05 Fmax= 6.97721e+02, atom= 75\n",
      "Step= 2818, Dmax= 1.3e-03 nm, Epot= -1.48272e+05 Fmax= 4.72854e+02, atom= 75\n",
      "Step= 2819, Dmax= 1.5e-03 nm, Epot= -1.48272e+05 Fmax= 9.39991e+02, atom= 75\n",
      "Step= 2820, Dmax= 1.9e-03 nm, Epot= -1.48274e+05 Fmax= 7.46237e+02, atom= 75\n",
      "Step= 2822, Dmax= 1.1e-03 nm, Epot= -1.48276e+05 Fmax= 2.65145e+02, atom= 75\n",
      "Step= 2823, Dmax= 1.3e-03 nm, Epot= -1.48277e+05 Fmax= 9.38802e+02, atom= 75\n",
      "Step= 2824, Dmax= 1.6e-03 nm, Epot= -1.48280e+05 Fmax= 5.17576e+02, atom= 75\n",
      "Step= 2826, Dmax= 9.6e-04 nm, Epot= -1.48281e+05 Fmax= 3.55298e+02, atom= 75\n",
      "Step= 2827, Dmax= 1.2e-03 nm, Epot= -1.48282e+05 Fmax= 7.00162e+02, atom= 75\n",
      "Step= 2828, Dmax= 1.4e-03 nm, Epot= -1.48284e+05 Fmax= 5.57653e+02, atom= 75\n",
      "Step= 2829, Dmax= 1.7e-03 nm, Epot= -1.48284e+05 Fmax= 9.60118e+02, atom= 75\n",
      "Step= 2830, Dmax= 2.0e-03 nm, Epot= -1.48286e+05 Fmax= 8.51799e+02, atom= 75\n",
      "Step= 2832, Dmax= 1.2e-03 nm, Epot= -1.48288e+05 Fmax= 2.34536e+02, atom= 75\n",
      "Step= 2833, Dmax= 1.4e-03 nm, Epot= -1.48289e+05 Fmax= 1.05748e+03, atom= 75\n",
      "Step= 2834, Dmax= 1.7e-03 nm, Epot= -1.48292e+05 Fmax= 5.06720e+02, atom= 75\n",
      "Step= 2836, Dmax= 1.0e-03 nm, Epot= -1.48293e+05 Fmax= 4.31182e+02, atom= 75\n",
      "Step= 2837, Dmax= 1.2e-03 nm, Epot= -1.48294e+05 Fmax= 7.02364e+02, atom= 75\n",
      "Step= 2838, Dmax= 1.5e-03 nm, Epot= -1.48295e+05 Fmax= 6.49093e+02, atom= 75\n",
      "Step= 2839, Dmax= 1.8e-03 nm, Epot= -1.48296e+05 Fmax= 9.81408e+02, atom= 75\n",
      "Step= 2840, Dmax= 2.1e-03 nm, Epot= -1.48297e+05 Fmax= 9.65382e+02, atom= 75\n",
      "Step= 2842, Dmax= 1.3e-03 nm, Epot= -1.48300e+05 Fmax= 2.01518e+02, atom= 75\n",
      "Step= 2843, Dmax= 1.5e-03 nm, Epot= -1.48300e+05 Fmax= 1.18423e+03, atom= 75\n",
      "Step= 2844, Dmax= 1.8e-03 nm, Epot= -1.48304e+05 Fmax= 4.95974e+02, atom= 75\n",
      "Step= 2846, Dmax= 1.1e-03 nm, Epot= -1.48306e+05 Fmax= 5.11635e+02, atom= 75\n",
      "Step= 2847, Dmax= 1.3e-03 nm, Epot= -1.48306e+05 Fmax= 7.06017e+02, atom= 75\n",
      "Step= 2848, Dmax= 1.6e-03 nm, Epot= -1.48307e+05 Fmax= 7.46016e+02, atom= 75\n",
      "Step= 2849, Dmax= 1.9e-03 nm, Epot= -1.48308e+05 Fmax= 1.00581e+03, atom= 75\n",
      "Step= 2850, Dmax= 2.3e-03 nm, Epot= -1.48309e+05 Fmax= 1.08601e+03, atom= 75\n",
      "Step= 2852, Dmax= 1.4e-03 nm, Epot= -1.48312e+05 Fmax= 1.67301e+02, atom= 75\n",
      "Step= 2853, Dmax= 1.7e-03 nm, Epot= -1.48313e+05 Fmax= 1.31798e+03, atom= 75\n",
      "Step= 2854, Dmax= 2.0e-03 nm, Epot= -1.48317e+05 Fmax= 4.87236e+02, atom= 75\n",
      "Step= 2856, Dmax= 1.2e-03 nm, Epot= -1.48318e+05 Fmax= 5.95282e+02, atom= 75\n",
      "Step= 2857, Dmax= 1.4e-03 nm, Epot= -1.48319e+05 Fmax= 7.12872e+02, atom= 75\n",
      "Step= 2858, Dmax= 1.7e-03 nm, Epot= -1.48320e+05 Fmax= 8.47310e+02, atom= 75\n",
      "Step= 2859, Dmax= 2.1e-03 nm, Epot= -1.48320e+05 Fmax= 1.03478e+03, atom= 75\n",
      "Step= 2860, Dmax= 2.5e-03 nm, Epot= -1.48321e+05 Fmax= 1.21283e+03, atom= 75\n",
      "Step= 2862, Dmax= 1.5e-03 nm, Epot= -1.48325e+05 Fmax= 1.33587e+02, atom= 75\n",
      "Step= 2863, Dmax= 1.8e-03 nm, Epot= -1.48327e+05 Fmax= 1.45619e+03, atom= 75\n",
      "Step= 2864, Dmax= 2.1e-03 nm, Epot= -1.48332e+05 Fmax= 4.83360e+02, atom= 75\n",
      "Step= 2866, Dmax= 1.3e-03 nm, Epot= -1.48333e+05 Fmax= 6.79901e+02, atom= 75\n",
      "Step= 2867, Dmax= 1.5e-03 nm, Epot= -1.48335e+05 Fmax= 7.25639e+02, atom= 75\n",
      "Step= 2869, Dmax= 9.2e-04 nm, Epot= -1.48336e+05 Fmax= 1.17575e+02, atom= 72\n",
      "Step= 2870, Dmax= 1.1e-03 nm, Epot= -1.48339e+05 Fmax= 8.94898e+02, atom= 75\n",
      "Step= 2871, Dmax= 1.3e-03 nm, Epot= -1.48342e+05 Fmax= 3.16734e+02, atom= 75\n",
      "Step= 2873, Dmax= 8.0e-04 nm, Epot= -1.48343e+05 Fmax= 4.13583e+02, atom= 75\n",
      "Step= 2874, Dmax= 9.6e-04 nm, Epot= -1.48344e+05 Fmax= 4.54150e+02, atom= 75\n",
      "Step= 2875, Dmax= 1.1e-03 nm, Epot= -1.48345e+05 Fmax= 5.96159e+02, atom= 75\n",
      "Step= 2876, Dmax= 1.4e-03 nm, Epot= -1.48346e+05 Fmax= 6.54972e+02, atom= 75\n",
      "Step= 2877, Dmax= 1.7e-03 nm, Epot= -1.48346e+05 Fmax= 8.56191e+02, atom= 75\n",
      "Step= 2878, Dmax= 2.0e-03 nm, Epot= -1.48347e+05 Fmax= 9.46895e+02, atom= 75\n",
      "Step= 2880, Dmax= 1.2e-03 nm, Epot= -1.48350e+05 Fmax= 1.35268e+02, atom= 75\n",
      "Step= 2881, Dmax= 1.4e-03 nm, Epot= -1.48352e+05 Fmax= 1.14229e+03, atom= 75\n",
      "Step= 2882, Dmax= 1.7e-03 nm, Epot= -1.48355e+05 Fmax= 4.16258e+02, atom= 75\n",
      "Step= 2884, Dmax= 1.0e-03 nm, Epot= -1.48357e+05 Fmax= 5.16801e+02, atom= 75\n",
      "Step= 2885, Dmax= 1.2e-03 nm, Epot= -1.48357e+05 Fmax= 6.12141e+02, atom= 75\n",
      "Step= 2886, Dmax= 1.5e-03 nm, Epot= -1.48358e+05 Fmax= 7.32885e+02, atom= 75\n",
      "Step= 2887, Dmax= 1.8e-03 nm, Epot= -1.48359e+05 Fmax= 8.91316e+02, atom= 75\n",
      "Step= 2888, Dmax= 2.1e-03 nm, Epot= -1.48360e+05 Fmax= 1.04685e+03, atom= 75\n",
      "Step= 2890, Dmax= 1.3e-03 nm, Epot= -1.48363e+05 Fmax= 1.15882e+02, atom= 75\n",
      "Step= 2891, Dmax= 1.5e-03 nm, Epot= -1.48365e+05 Fmax= 1.25258e+03, atom= 75\n",
      "Step= 2892, Dmax= 1.8e-03 nm, Epot= -1.48370e+05 Fmax= 4.22241e+02, atom= 75\n",
      "Step= 2894, Dmax= 1.1e-03 nm, Epot= -1.48371e+05 Fmax= 5.80398e+02, atom= 75\n",
      "Step= 2895, Dmax= 1.3e-03 nm, Epot= -1.48372e+05 Fmax= 6.32912e+02, atom= 75\n",
      "Step= 2896, Dmax= 1.6e-03 nm, Epot= -1.48372e+05 Fmax= 8.12533e+02, atom= 75\n",
      "Step= 2897, Dmax= 1.9e-03 nm, Epot= -1.48373e+05 Fmax= 9.32823e+02, atom= 75\n",
      "Step= 2899, Dmax= 1.1e-03 nm, Epot= -1.48376e+05 Fmax= 1.15976e+02, atom= 72\n",
      "Step= 2900, Dmax= 1.4e-03 nm, Epot= -1.48378e+05 Fmax= 1.13812e+03, atom= 75\n",
      "Step= 2901, Dmax= 1.7e-03 nm, Epot= -1.48382e+05 Fmax= 3.68754e+02, atom= 75\n",
      "Step= 2903, Dmax= 9.9e-04 nm, Epot= -1.48383e+05 Fmax= 5.38060e+02, atom= 75\n",
      "Step= 2904, Dmax= 1.2e-03 nm, Epot= -1.48384e+05 Fmax= 5.40543e+02, atom= 75\n",
      "Step= 2905, Dmax= 1.4e-03 nm, Epot= -1.48385e+05 Fmax= 7.63829e+02, atom= 75\n",
      "Step= 2906, Dmax= 1.7e-03 nm, Epot= -1.48385e+05 Fmax= 7.91209e+02, atom= 75\n",
      "Step= 2908, Dmax= 1.0e-03 nm, Epot= -1.48387e+05 Fmax= 1.43261e+02, atom= 75\n",
      "Step= 2909, Dmax= 1.2e-03 nm, Epot= -1.48389e+05 Fmax= 9.59917e+02, atom= 75\n",
      "Step= 2910, Dmax= 1.5e-03 nm, Epot= -1.48392e+05 Fmax= 3.85941e+02, atom= 75\n",
      "Step= 2912, Dmax= 8.9e-04 nm, Epot= -1.48394e+05 Fmax= 4.18473e+02, atom= 75\n",
      "Step= 2913, Dmax= 1.1e-03 nm, Epot= -1.48394e+05 Fmax= 5.56534e+02, atom= 75\n",
      "Step= 2914, Dmax= 1.3e-03 nm, Epot= -1.48395e+05 Fmax= 6.03438e+02, atom= 75\n",
      "Step= 2915, Dmax= 1.5e-03 nm, Epot= -1.48396e+05 Fmax= 7.98741e+02, atom= 75\n",
      "Step= 2916, Dmax= 1.8e-03 nm, Epot= -1.48397e+05 Fmax= 8.73089e+02, atom= 75\n",
      "Step= 2917, Dmax= 2.2e-03 nm, Epot= -1.48397e+05 Fmax= 1.14442e+03, atom= 75\n",
      "Step= 2918, Dmax= 2.6e-03 nm, Epot= -1.48397e+05 Fmax= 1.26406e+03, atom= 75\n",
      "Step= 2920, Dmax= 1.6e-03 nm, Epot= -1.48402e+05 Fmax= 1.78469e+02, atom= 75\n",
      "Step= 2922, Dmax= 9.5e-04 nm, Epot= -1.48403e+05 Fmax= 6.78254e+02, atom= 75\n",
      "Step= 2923, Dmax= 1.1e-03 nm, Epot= -1.48404e+05 Fmax= 3.65975e+02, atom= 75\n",
      "Step= 2925, Dmax= 6.9e-04 nm, Epot= -1.48406e+05 Fmax= 2.56709e+02, atom= 75\n",
      "Step= 2926, Dmax= 8.2e-04 nm, Epot= -1.48407e+05 Fmax= 5.00747e+02, atom= 75\n",
      "Step= 2927, Dmax= 9.9e-04 nm, Epot= -1.48408e+05 Fmax= 3.97209e+02, atom= 75\n",
      "Step= 2928, Dmax= 1.2e-03 nm, Epot= -1.48409e+05 Fmax= 6.90520e+02, atom= 75\n",
      "Step= 2929, Dmax= 1.4e-03 nm, Epot= -1.48410e+05 Fmax= 6.03723e+02, atom= 75\n",
      "Step= 2931, Dmax= 8.5e-04 nm, Epot= -1.48411e+05 Fmax= 1.75539e+02, atom= 75\n",
      "Step= 2932, Dmax= 1.0e-03 nm, Epot= -1.48413e+05 Fmax= 7.45439e+02, atom= 75\n",
      "Step= 2933, Dmax= 1.2e-03 nm, Epot= -1.48415e+05 Fmax= 3.76127e+02, atom= 75\n",
      "Step= 2934, Dmax= 1.5e-03 nm, Epot= -1.48415e+05 Fmax= 9.58461e+02, atom= 75\n",
      "Step= 2935, Dmax= 1.8e-03 nm, Epot= -1.48417e+05 Fmax= 6.56187e+02, atom= 75\n",
      "Step= 2937, Dmax= 1.1e-03 nm, Epot= -1.48418e+05 Fmax= 3.10892e+02, atom= 75\n",
      "Step= 2938, Dmax= 1.3e-03 nm, Epot= -1.48418e+05 Fmax= 8.61439e+02, atom= 75\n",
      "Step= 2939, Dmax= 1.5e-03 nm, Epot= -1.48421e+05 Fmax= 5.32156e+02, atom= 75\n",
      "Step= 2941, Dmax= 9.2e-04 nm, Epot= -1.48422e+05 Fmax= 3.06535e+02, atom= 75\n",
      "Step= 2942, Dmax= 1.1e-03 nm, Epot= -1.48423e+05 Fmax= 6.89137e+02, atom= 75\n",
      "Step= 2943, Dmax= 1.3e-03 nm, Epot= -1.48424e+05 Fmax= 5.17829e+02, atom= 75\n",
      "Step= 2945, Dmax= 7.9e-04 nm, Epot= -1.48426e+05 Fmax= 2.04786e+02, atom= 72\n",
      "Step= 2946, Dmax= 9.5e-04 nm, Epot= -1.48427e+05 Fmax= 6.68261e+02, atom= 75\n",
      "Step= 2947, Dmax= 1.1e-03 nm, Epot= -1.48428e+05 Fmax= 3.71109e+02, atom= 75\n",
      "Step= 2948, Dmax= 1.4e-03 nm, Epot= -1.48429e+05 Fmax= 8.87261e+02, atom= 75\n",
      "Step= 2949, Dmax= 1.6e-03 nm, Epot= -1.48430e+05 Fmax= 6.10433e+02, atom= 75\n",
      "Step= 2951, Dmax= 9.9e-04 nm, Epot= -1.48432e+05 Fmax= 2.90154e+02, atom= 75\n",
      "Step= 2952, Dmax= 1.2e-03 nm, Epot= -1.48432e+05 Fmax= 7.79178e+02, atom= 75\n",
      "Step= 2953, Dmax= 1.4e-03 nm, Epot= -1.48434e+05 Fmax= 5.17189e+02, atom= 75\n",
      "Step= 2955, Dmax= 8.5e-04 nm, Epot= -1.48435e+05 Fmax= 2.58879e+02, atom= 72\n",
      "Step= 2956, Dmax= 1.0e-03 nm, Epot= -1.48437e+05 Fmax= 6.79938e+02, atom= 75\n",
      "Step= 2957, Dmax= 1.2e-03 nm, Epot= -1.48438e+05 Fmax= 4.37273e+02, atom= 75\n",
      "Step= 2958, Dmax= 1.5e-03 nm, Epot= -1.48438e+05 Fmax= 9.14165e+02, atom= 75\n",
      "Step= 2959, Dmax= 1.8e-03 nm, Epot= -1.48440e+05 Fmax= 6.95578e+02, atom= 75\n",
      "Step= 2961, Dmax= 1.1e-03 nm, Epot= -1.48441e+05 Fmax= 2.71678e+02, atom= 75\n",
      "Step= 2962, Dmax= 1.3e-03 nm, Epot= -1.48442e+05 Fmax= 8.76644e+02, atom= 75\n",
      "Step= 2963, Dmax= 1.5e-03 nm, Epot= -1.48444e+05 Fmax= 5.15698e+02, atom= 75\n",
      "Step= 2965, Dmax= 9.2e-04 nm, Epot= -1.48445e+05 Fmax= 3.17738e+02, atom= 72\n",
      "Step= 2966, Dmax= 1.1e-03 nm, Epot= -1.48446e+05 Fmax= 6.91524e+02, atom= 75\n",
      "Step= 2967, Dmax= 1.3e-03 nm, Epot= -1.48447e+05 Fmax= 5.09233e+02, atom= 75\n",
      "Step= 2968, Dmax= 1.6e-03 nm, Epot= -1.48448e+05 Fmax= 9.42372e+02, atom= 75\n",
      "Step= 2969, Dmax= 1.9e-03 nm, Epot= -1.48449e+05 Fmax= 7.87575e+02, atom= 75\n",
      "Step= 2971, Dmax= 1.1e-03 nm, Epot= -1.48451e+05 Fmax= 2.51277e+02, atom= 75\n",
      "Step= 2972, Dmax= 1.4e-03 nm, Epot= -1.48451e+05 Fmax= 9.81498e+02, atom= 75\n",
      "Step= 2973, Dmax= 1.6e-03 nm, Epot= -1.48454e+05 Fmax= 5.14157e+02, atom= 75\n",
      "Step= 2975, Dmax= 9.9e-04 nm, Epot= -1.48455e+05 Fmax= 3.81048e+02, atom= 75\n",
      "Step= 2976, Dmax= 1.2e-03 nm, Epot= -1.48456e+05 Fmax= 7.03717e+02, atom= 75\n",
      "Step= 2977, Dmax= 1.4e-03 nm, Epot= -1.48457e+05 Fmax= 5.86638e+02, atom= 75\n",
      "Step= 2979, Dmax= 8.5e-04 nm, Epot= -1.48458e+05 Fmax= 1.90247e+02, atom= 75\n",
      "Step= 2980, Dmax= 1.0e-03 nm, Epot= -1.48460e+05 Fmax= 7.28482e+02, atom= 75\n",
      "Step= 2981, Dmax= 1.2e-03 nm, Epot= -1.48462e+05 Fmax= 3.89696e+02, atom= 75\n",
      "Step= 2983, Dmax= 7.4e-04 nm, Epot= -1.48462e+05 Fmax= 2.78647e+02, atom= 72\n",
      "Step= 2984, Dmax= 8.8e-04 nm, Epot= -1.48464e+05 Fmax= 5.30597e+02, atom= 75\n",
      "Step= 2985, Dmax= 1.1e-03 nm, Epot= -1.48465e+05 Fmax= 4.31691e+02, atom= 75\n",
      "Step= 2986, Dmax= 1.3e-03 nm, Epot= -1.48465e+05 Fmax= 7.33404e+02, atom= 75\n",
      "Step= 2987, Dmax= 1.5e-03 nm, Epot= -1.48467e+05 Fmax= 6.53473e+02, atom= 75\n",
      "Step= 2989, Dmax= 9.2e-04 nm, Epot= -1.48468e+05 Fmax= 1.80885e+02, atom= 75\n",
      "Step= 2990, Dmax= 1.1e-03 nm, Epot= -1.48469e+05 Fmax= 8.05646e+02, atom= 75\n",
      "Step= 2991, Dmax= 1.3e-03 nm, Epot= -1.48471e+05 Fmax= 3.95554e+02, atom= 75\n",
      "Step= 2993, Dmax= 7.9e-04 nm, Epot= -1.48472e+05 Fmax= 3.22367e+02, atom= 72\n",
      "Step= 2994, Dmax= 9.5e-04 nm, Epot= -1.48474e+05 Fmax= 5.47634e+02, atom= 75\n",
      "Step= 2995, Dmax= 1.1e-03 nm, Epot= -1.48475e+05 Fmax= 4.86733e+02, atom= 75\n",
      "Step= 2996, Dmax= 1.4e-03 nm, Epot= -1.48475e+05 Fmax= 7.64874e+02, atom= 75\n",
      "Step= 2997, Dmax= 1.6e-03 nm, Epot= -1.48476e+05 Fmax= 7.25813e+02, atom= 75\n",
      "Step= 2999, Dmax= 9.8e-04 nm, Epot= -1.48478e+05 Fmax= 1.70478e+02, atom= 75\n",
      "Step= 3000, Dmax= 1.2e-03 nm, Epot= -1.48479e+05 Fmax= 8.88845e+02, atom= 75\n",
      "Step= 3001, Dmax= 1.4e-03 nm, Epot= -1.48482e+05 Fmax= 4.01685e+02, atom= 75\n",
      "Step= 3003, Dmax= 8.5e-04 nm, Epot= -1.48483e+05 Fmax= 3.69330e+02, atom= 75\n",
      "Step= 3004, Dmax= 1.0e-03 nm, Epot= -1.48484e+05 Fmax= 5.66089e+02, atom= 75\n",
      "Step= 3005, Dmax= 1.2e-03 nm, Epot= -1.48485e+05 Fmax= 5.45758e+02, atom= 75\n",
      "Step= 3006, Dmax= 1.5e-03 nm, Epot= -1.48485e+05 Fmax= 7.99077e+02, atom= 75\n",
      "Step= 3007, Dmax= 1.8e-03 nm, Epot= -1.48486e+05 Fmax= 8.03332e+02, atom= 75\n",
      "Step= 3008, Dmax= 2.1e-03 nm, Epot= -1.48486e+05 Fmax= 1.13120e+03, atom= 75\n",
      "Step= 3009, Dmax= 2.5e-03 nm, Epot= -1.48487e+05 Fmax= 1.17726e+03, atom= 75\n",
      "Step= 3011, Dmax= 1.5e-03 nm, Epot= -1.48491e+05 Fmax= 2.05792e+02, atom= 75\n",
      "Step= 3013, Dmax= 9.1e-04 nm, Epot= -1.48492e+05 Fmax= 6.16506e+02, atom= 75\n",
      "Step= 3014, Dmax= 1.1e-03 nm, Epot= -1.48493e+05 Fmax= 3.84830e+02, atom= 75\n",
      "Step= 3015, Dmax= 1.3e-03 nm, Epot= -1.48494e+05 Fmax= 8.05712e+02, atom= 75\n",
      "Step= 3016, Dmax= 1.6e-03 nm, Epot= -1.48495e+05 Fmax= 6.35538e+02, atom= 75\n",
      "Step= 3018, Dmax= 9.5e-04 nm, Epot= -1.48497e+05 Fmax= 2.28465e+02, atom= 72\n",
      "Step= 3019, Dmax= 1.1e-03 nm, Epot= -1.48498e+05 Fmax= 8.13888e+02, atom= 75\n",
      "Step= 3020, Dmax= 1.4e-03 nm, Epot= -1.48499e+05 Fmax= 4.28516e+02, atom= 75\n",
      "Step= 3022, Dmax= 8.2e-04 nm, Epot= -1.48500e+05 Fmax= 3.20271e+02, atom= 75\n",
      "Step= 3023, Dmax= 9.8e-04 nm, Epot= -1.48501e+05 Fmax= 5.67882e+02, atom= 75\n",
      "Step= 3024, Dmax= 1.2e-03 nm, Epot= -1.48503e+05 Fmax= 5.09394e+02, atom= 75\n",
      "Step= 3025, Dmax= 1.4e-03 nm, Epot= -1.48503e+05 Fmax= 7.72735e+02, atom= 75\n",
      "Step= 3026, Dmax= 1.7e-03 nm, Epot= -1.48504e+05 Fmax= 7.77482e+02, atom= 75\n",
      "Step= 3028, Dmax= 1.0e-03 nm, Epot= -1.48506e+05 Fmax= 1.53958e+02, atom= 72\n",
      "Step= 3029, Dmax= 1.2e-03 nm, Epot= -1.48508e+05 Fmax= 9.59476e+02, atom= 75\n",
      "Step= 3030, Dmax= 1.5e-03 nm, Epot= -1.48510e+05 Fmax= 3.79675e+02, atom= 72\n",
      "Step= 3032, Dmax= 8.8e-04 nm, Epot= -1.48511e+05 Fmax= 4.24224e+02, atom= 75\n",
      "Step= 3033, Dmax= 1.1e-03 nm, Epot= -1.48512e+05 Fmax= 5.33310e+02, atom= 72\n",
      "Step= 3034, Dmax= 1.3e-03 nm, Epot= -1.48513e+05 Fmax= 6.24928e+02, atom= 75\n",
      "Step= 3035, Dmax= 1.5e-03 nm, Epot= -1.48513e+05 Fmax= 7.55145e+02, atom= 75\n",
      "Step= 3036, Dmax= 1.8e-03 nm, Epot= -1.48514e+05 Fmax= 9.12289e+02, atom= 75\n",
      "Step= 3037, Dmax= 2.2e-03 nm, Epot= -1.48514e+05 Fmax= 1.07686e+03, atom= 75\n",
      "Step= 3039, Dmax= 1.3e-03 nm, Epot= -1.48518e+05 Fmax= 1.16203e+02, atom= 75\n",
      "Step= 3040, Dmax= 1.6e-03 nm, Epot= -1.48520e+05 Fmax= 1.28642e+03, atom= 75\n",
      "Step= 3041, Dmax= 1.9e-03 nm, Epot= -1.48524e+05 Fmax= 4.32639e+02, atom= 75\n",
      "Step= 3043, Dmax= 1.1e-03 nm, Epot= -1.48525e+05 Fmax= 5.96725e+02, atom= 75\n",
      "Step= 3044, Dmax= 1.4e-03 nm, Epot= -1.48526e+05 Fmax= 6.49312e+02, atom= 75\n",
      "Step= 3045, Dmax= 1.6e-03 nm, Epot= -1.48526e+05 Fmax= 8.34659e+02, atom= 75\n",
      "Step= 3046, Dmax= 2.0e-03 nm, Epot= -1.48527e+05 Fmax= 9.57798e+02, atom= 75\n",
      "Step= 3048, Dmax= 1.2e-03 nm, Epot= -1.48530e+05 Fmax= 1.20509e+02, atom= 72\n",
      "Step= 3049, Dmax= 1.4e-03 nm, Epot= -1.48532e+05 Fmax= 1.15936e+03, atom= 75\n",
      "Step= 3050, Dmax= 1.7e-03 nm, Epot= -1.48536e+05 Fmax= 3.90166e+02, atom= 72\n",
      "Step= 3052, Dmax= 1.0e-03 nm, Epot= -1.48536e+05 Fmax= 5.37883e+02, atom= 75\n",
      "Step= 3053, Dmax= 1.2e-03 nm, Epot= -1.48537e+05 Fmax= 5.70442e+02, atom= 72\n",
      "Step= 3054, Dmax= 1.5e-03 nm, Epot= -1.48538e+05 Fmax= 7.67185e+02, atom= 75\n",
      "Step= 3055, Dmax= 1.8e-03 nm, Epot= -1.48539e+05 Fmax= 8.28931e+02, atom= 75\n",
      "Step= 3056, Dmax= 2.1e-03 nm, Epot= -1.48539e+05 Fmax= 1.09827e+03, atom= 75\n",
      "Step= 3057, Dmax= 2.5e-03 nm, Epot= -1.48539e+05 Fmax= 1.20154e+03, atom= 75\n",
      "Step= 3059, Dmax= 1.5e-03 nm, Epot= -1.48543e+05 Fmax= 1.76058e+02, atom= 75\n",
      "Step= 3061, Dmax= 9.1e-04 nm, Epot= -1.48545e+05 Fmax= 6.42083e+02, atom= 75\n",
      "Step= 3062, Dmax= 1.1e-03 nm, Epot= -1.48546e+05 Fmax= 3.55652e+02, atom= 75\n",
      "Step= 3063, Dmax= 1.3e-03 nm, Epot= -1.48547e+05 Fmax= 8.30366e+02, atom= 75\n",
      "Step= 3064, Dmax= 1.6e-03 nm, Epot= -1.48548e+05 Fmax= 6.05685e+02, atom= 75\n",
      "Step= 3066, Dmax= 9.4e-04 nm, Epot= -1.48550e+05 Fmax= 2.55787e+02, atom= 72\n",
      "Step= 3067, Dmax= 1.1e-03 nm, Epot= -1.48550e+05 Fmax= 7.81424e+02, atom= 75\n",
      "Step= 3068, Dmax= 1.4e-03 nm, Epot= -1.48552e+05 Fmax= 4.57583e+02, atom= 72\n",
      "Step= 3070, Dmax= 8.2e-04 nm, Epot= -1.48553e+05 Fmax= 2.87863e+02, atom= 75\n",
      "Step= 3071, Dmax= 9.8e-04 nm, Epot= -1.48554e+05 Fmax= 5.96663e+02, atom= 75\n",
      "Step= 3072, Dmax= 1.2e-03 nm, Epot= -1.48555e+05 Fmax= 4.76618e+02, atom= 75\n",
      "Step= 3073, Dmax= 1.4e-03 nm, Epot= -1.48555e+05 Fmax= 8.00664e+02, atom= 75\n",
      "Step= 3074, Dmax= 1.7e-03 nm, Epot= -1.48557e+05 Fmax= 7.43895e+02, atom= 75\n",
      "Step= 3076, Dmax= 1.0e-03 nm, Epot= -1.48559e+05 Fmax= 1.84382e+02, atom= 72\n",
      "Step= 3077, Dmax= 1.2e-03 nm, Epot= -1.48560e+05 Fmax= 9.25906e+02, atom= 75\n",
      "Step= 3078, Dmax= 1.5e-03 nm, Epot= -1.48562e+05 Fmax= 4.09039e+02, atom= 72\n",
      "Step= 3080, Dmax= 8.8e-04 nm, Epot= -1.48563e+05 Fmax= 3.91558e+02, atom= 75\n",
      "Step= 3081, Dmax= 1.1e-03 nm, Epot= -1.48564e+05 Fmax= 5.62760e+02, atom= 72\n",
      "Step= 3082, Dmax= 1.3e-03 nm, Epot= -1.48565e+05 Fmax= 5.90512e+02, atom= 75\n",
      "Step= 3083, Dmax= 1.5e-03 nm, Epot= -1.48565e+05 Fmax= 7.84457e+02, atom= 75\n",
      "Step= 3084, Dmax= 1.8e-03 nm, Epot= -1.48566e+05 Fmax= 8.76951e+02, atom= 75\n",
      "Step= 3086, Dmax= 1.1e-03 nm, Epot= -1.48569e+05 Fmax= 1.23047e+02, atom= 72\n",
      "Step= 3087, Dmax= 1.3e-03 nm, Epot= -1.48571e+05 Fmax= 1.06021e+03, atom= 75\n",
      "Step= 3088, Dmax= 1.6e-03 nm, Epot= -1.48574e+05 Fmax= 3.77871e+02, atom= 72\n",
      "Step= 3090, Dmax= 9.4e-04 nm, Epot= -1.48575e+05 Fmax= 4.80833e+02, atom= 75\n",
      "Step= 3091, Dmax= 1.1e-03 nm, Epot= -1.48576e+05 Fmax= 5.48657e+02, atom= 72\n",
      "Step= 3092, Dmax= 1.4e-03 nm, Epot= -1.48576e+05 Fmax= 6.88733e+02, atom= 75\n",
      "Step= 3093, Dmax= 1.6e-03 nm, Epot= -1.48577e+05 Fmax= 7.93736e+02, atom= 72\n",
      "Step= 3094, Dmax= 2.0e-03 nm, Epot= -1.48578e+05 Fmax= 9.89139e+02, atom= 75\n",
      "Step= 3095, Dmax= 2.3e-03 nm, Epot= -1.48578e+05 Fmax= 1.14498e+03, atom= 72\n",
      "Step= 3097, Dmax= 1.4e-03 nm, Epot= -1.48581e+05 Fmax= 1.32060e+02, atom= 75\n",
      "Step= 3098, Dmax= 1.7e-03 nm, Epot= -1.48583e+05 Fmax= 1.37385e+03, atom= 75\n",
      "Step= 3099, Dmax= 2.0e-03 nm, Epot= -1.48587e+05 Fmax= 4.67044e+02, atom= 75\n",
      "Step= 3101, Dmax= 1.2e-03 nm, Epot= -1.48588e+05 Fmax= 6.36518e+02, atom= 75\n",
      "Step= 3102, Dmax= 1.5e-03 nm, Epot= -1.48589e+05 Fmax= 6.98197e+02, atom= 75\n",
      "Step= 3103, Dmax= 1.8e-03 nm, Epot= -1.48590e+05 Fmax= 8.92295e+02, atom= 75\n",
      "Step= 3104, Dmax= 2.1e-03 nm, Epot= -1.48590e+05 Fmax= 1.02804e+03, atom= 75\n",
      "Step= 3106, Dmax= 1.3e-03 nm, Epot= -1.48593e+05 Fmax= 1.28420e+02, atom= 72\n",
      "Step= 3107, Dmax= 1.5e-03 nm, Epot= -1.48595e+05 Fmax= 1.23973e+03, atom= 75\n",
      "Step= 3108, Dmax= 1.8e-03 nm, Epot= -1.48599e+05 Fmax= 4.22927e+02, atom= 72\n",
      "Step= 3110, Dmax= 1.1e-03 nm, Epot= -1.48600e+05 Fmax= 5.69066e+02, atom= 75\n",
      "Step= 3111, Dmax= 1.3e-03 nm, Epot= -1.48601e+05 Fmax= 6.20942e+02, atom= 72\n",
      "Step= 3112, Dmax= 1.6e-03 nm, Epot= -1.48601e+05 Fmax= 8.08841e+02, atom= 75\n",
      "Step= 3113, Dmax= 1.9e-03 nm, Epot= -1.48602e+05 Fmax= 9.04625e+02, atom= 72\n",
      "Step= 3115, Dmax= 1.1e-03 nm, Epot= -1.48604e+05 Fmax= 1.21580e+02, atom= 75\n",
      "Step= 3116, Dmax= 1.4e-03 nm, Epot= -1.48606e+05 Fmax= 1.08739e+03, atom= 75\n",
      "Step= 3117, Dmax= 1.6e-03 nm, Epot= -1.48610e+05 Fmax= 3.91790e+02, atom= 75\n",
      "Step= 3119, Dmax= 9.8e-04 nm, Epot= -1.48611e+05 Fmax= 4.94264e+02, atom= 72\n",
      "Step= 3120, Dmax= 1.2e-03 nm, Epot= -1.48612e+05 Fmax= 5.76422e+02, atom= 75\n",
      "Step= 3121, Dmax= 1.4e-03 nm, Epot= -1.48613e+05 Fmax= 6.99764e+02, atom= 72\n",
      "Step= 3122, Dmax= 1.7e-03 nm, Epot= -1.48613e+05 Fmax= 8.41924e+02, atom= 75\n",
      "Step= 3123, Dmax= 2.0e-03 nm, Epot= -1.48614e+05 Fmax= 9.96834e+02, atom= 75\n",
      "Step= 3125, Dmax= 1.2e-03 nm, Epot= -1.48617e+05 Fmax= 1.06414e+02, atom= 75\n",
      "Step= 3126, Dmax= 1.5e-03 nm, Epot= -1.48619e+05 Fmax= 1.18865e+03, atom= 75\n",
      "Step= 3127, Dmax= 1.7e-03 nm, Epot= -1.48623e+05 Fmax= 4.00765e+02, atom= 75\n",
      "Step= 3129, Dmax= 1.0e-03 nm, Epot= -1.48624e+05 Fmax= 5.50355e+02, atom= 75\n",
      "Step= 3130, Dmax= 1.3e-03 nm, Epot= -1.48625e+05 Fmax= 6.01481e+02, atom= 75\n",
      "Step= 3131, Dmax= 1.5e-03 nm, Epot= -1.48625e+05 Fmax= 7.69931e+02, atom= 75\n",
      "Step= 3132, Dmax= 1.8e-03 nm, Epot= -1.48626e+05 Fmax= 8.87080e+02, atom= 75\n",
      "Step= 3134, Dmax= 1.1e-03 nm, Epot= -1.48628e+05 Fmax= 1.09949e+02, atom= 72\n",
      "Step= 3135, Dmax= 1.3e-03 nm, Epot= -1.48631e+05 Fmax= 1.06799e+03, atom= 75\n",
      "Step= 3136, Dmax= 1.6e-03 nm, Epot= -1.48634e+05 Fmax= 3.64819e+02, atom= 72\n",
      "Step= 3138, Dmax= 9.4e-04 nm, Epot= -1.48635e+05 Fmax= 4.91625e+02, atom= 75\n",
      "Step= 3139, Dmax= 1.1e-03 nm, Epot= -1.48636e+05 Fmax= 5.34015e+02, atom= 72\n",
      "Step= 3140, Dmax= 1.4e-03 nm, Epot= -1.48637e+05 Fmax= 7.00434e+02, atom= 75\n",
      "Step= 3141, Dmax= 1.6e-03 nm, Epot= -1.48638e+05 Fmax= 7.76356e+02, atom= 72\n",
      "Step= 3142, Dmax= 1.9e-03 nm, Epot= -1.48638e+05 Fmax= 1.00233e+03, atom= 75\n",
      "Step= 3143, Dmax= 2.3e-03 nm, Epot= -1.48638e+05 Fmax= 1.12389e+03, atom= 72\n",
      "Step= 3145, Dmax= 1.4e-03 nm, Epot= -1.48642e+05 Fmax= 1.49480e+02, atom= 75\n",
      "Step= 3146, Dmax= 1.7e-03 nm, Epot= -1.48643e+05 Fmax= 1.35473e+03, atom= 75\n",
      "Step= 3147, Dmax= 2.0e-03 nm, Epot= -1.48647e+05 Fmax= 4.80381e+02, atom= 75\n",
      "Step= 3149, Dmax= 1.2e-03 nm, Epot= -1.48648e+05 Fmax= 6.19699e+02, atom= 75\n",
      "Step= 3150, Dmax= 1.5e-03 nm, Epot= -1.48648e+05 Fmax= 7.10964e+02, atom= 75\n",
      "Step= 3151, Dmax= 1.7e-03 nm, Epot= -1.48649e+05 Fmax= 8.74596e+02, atom= 75\n",
      "Step= 3152, Dmax= 2.1e-03 nm, Epot= -1.48650e+05 Fmax= 1.03986e+03, atom= 75\n",
      "Step= 3154, Dmax= 1.3e-03 nm, Epot= -1.48653e+05 Fmax= 1.13114e+02, atom= 72\n",
      "Step= 3155, Dmax= 1.5e-03 nm, Epot= -1.48655e+05 Fmax= 1.24731e+03, atom= 75\n",
      "Step= 3156, Dmax= 1.8e-03 nm, Epot= -1.48659e+05 Fmax= 4.10185e+02, atom= 72\n",
      "Step= 3158, Dmax= 1.1e-03 nm, Epot= -1.48660e+05 Fmax= 5.78224e+02, atom= 75\n",
      "Step= 3159, Dmax= 1.3e-03 nm, Epot= -1.48661e+05 Fmax= 6.08275e+02, atom= 72\n",
      "Step= 3160, Dmax= 1.6e-03 nm, Epot= -1.48661e+05 Fmax= 8.16533e+02, atom= 75\n",
      "Step= 3161, Dmax= 1.9e-03 nm, Epot= -1.48662e+05 Fmax= 8.91742e+02, atom= 72\n",
      "Step= 3163, Dmax= 1.1e-03 nm, Epot= -1.48664e+05 Fmax= 1.31157e+02, atom= 75\n",
      "Step= 3164, Dmax= 1.4e-03 nm, Epot= -1.48666e+05 Fmax= 1.07580e+03, atom= 75\n",
      "Step= 3165, Dmax= 1.6e-03 nm, Epot= -1.48669e+05 Fmax= 3.98570e+02, atom= 75\n",
      "Step= 3167, Dmax= 9.7e-04 nm, Epot= -1.48670e+05 Fmax= 4.85126e+02, atom= 72\n",
      "Step= 3168, Dmax= 1.2e-03 nm, Epot= -1.48671e+05 Fmax= 5.81842e+02, atom= 75\n",
      "Step= 3169, Dmax= 1.4e-03 nm, Epot= -1.48672e+05 Fmax= 6.90747e+02, atom= 72\n",
      "Step= 3170, Dmax= 1.7e-03 nm, Epot= -1.48673e+05 Fmax= 8.45601e+02, atom= 75\n",
      "Step= 3171, Dmax= 2.0e-03 nm, Epot= -1.48673e+05 Fmax= 9.87442e+02, atom= 75\n",
      "Step= 3172, Dmax= 2.4e-03 nm, Epot= -1.48673e+05 Fmax= 1.22435e+03, atom= 75\n",
      "Step= 3174, Dmax= 1.5e-03 nm, Epot= -1.48677e+05 Fmax= 1.09517e+02, atom= 72\n",
      "Step= 3175, Dmax= 1.7e-03 nm, Epot= -1.48679e+05 Fmax= 1.46116e+03, atom= 72\n",
      "Step= 3176, Dmax= 2.1e-03 nm, Epot= -1.48685e+05 Fmax= 4.55970e+02, atom= 72\n",
      "Step= 3178, Dmax= 1.3e-03 nm, Epot= -1.48685e+05 Fmax= 6.83262e+02, atom= 75\n",
      "Step= 3179, Dmax= 1.5e-03 nm, Epot= -1.48686e+05 Fmax= 6.90937e+02, atom= 72\n",
      "Step= 3180, Dmax= 1.8e-03 nm, Epot= -1.48686e+05 Fmax= 9.52694e+02, atom= 72\n",
      "Step= 3181, Dmax= 2.2e-03 nm, Epot= -1.48687e+05 Fmax= 1.02448e+03, atom= 72\n",
      "Step= 3183, Dmax= 1.3e-03 nm, Epot= -1.48690e+05 Fmax= 1.55428e+02, atom= 75\n",
      "Step= 3184, Dmax= 1.6e-03 nm, Epot= -1.48691e+05 Fmax= 1.24348e+03, atom= 72\n",
      "Step= 3185, Dmax= 1.9e-03 nm, Epot= -1.48695e+05 Fmax= 4.58138e+02, atom= 75\n",
      "Step= 3187, Dmax= 1.1e-03 nm, Epot= -1.48695e+05 Fmax= 5.64742e+02, atom= 72\n",
      "Step= 3188, Dmax= 1.3e-03 nm, Epot= -1.48696e+05 Fmax= 6.66259e+02, atom= 75\n",
      "Step= 3189, Dmax= 1.6e-03 nm, Epot= -1.48697e+05 Fmax= 8.06474e+02, atom= 72\n",
      "Step= 3190, Dmax= 1.9e-03 nm, Epot= -1.48697e+05 Fmax= 9.65985e+02, atom= 75\n",
      "Step= 3192, Dmax= 1.2e-03 nm, Epot= -1.48700e+05 Fmax= 1.03582e+02, atom= 72\n",
      "Step= 3193, Dmax= 1.4e-03 nm, Epot= -1.48703e+05 Fmax= 1.15410e+03, atom= 72\n",
      "Step= 3194, Dmax= 1.7e-03 nm, Epot= -1.48706e+05 Fmax= 3.82928e+02, atom= 72\n",
      "Step= 3196, Dmax= 1.0e-03 nm, Epot= -1.48707e+05 Fmax= 5.31373e+02, atom= 75\n",
      "Step= 3197, Dmax= 1.2e-03 nm, Epot= -1.48708e+05 Fmax= 5.71317e+02, atom= 72\n",
      "Step= 3198, Dmax= 1.4e-03 nm, Epot= -1.48709e+05 Fmax= 7.46716e+02, atom= 72\n",
      "Step= 3199, Dmax= 1.7e-03 nm, Epot= -1.48709e+05 Fmax= 8.40531e+02, atom= 72\n",
      "Step= 3200, Dmax= 2.1e-03 nm, Epot= -1.48710e+05 Fmax= 1.05979e+03, atom= 72\n",
      "Step= 3201, Dmax= 2.5e-03 nm, Epot= -1.48710e+05 Fmax= 1.22371e+03, atom= 72\n",
      "Step= 3203, Dmax= 1.5e-03 nm, Epot= -1.48714e+05 Fmax= 1.38144e+02, atom= 75\n",
      "Step= 3204, Dmax= 1.8e-03 nm, Epot= -1.48714e+05 Fmax= 1.47288e+03, atom= 75\n",
      "Step= 3205, Dmax= 2.2e-03 nm, Epot= -1.48720e+05 Fmax= 4.91696e+02, atom= 75\n",
      "Step= 3207, Dmax= 1.3e-03 nm, Epot= -1.48720e+05 Fmax= 6.88367e+02, atom= 72\n",
      "Step= 3208, Dmax= 1.6e-03 nm, Epot= -1.48721e+05 Fmax= 7.35542e+02, atom= 75\n",
      "Step= 3209, Dmax= 1.9e-03 nm, Epot= -1.48722e+05 Fmax= 9.63809e+02, atom= 72\n",
      "Step= 3210, Dmax= 2.2e-03 nm, Epot= -1.48722e+05 Fmax= 1.08606e+03, atom= 75\n",
      "Step= 3212, Dmax= 1.3e-03 nm, Epot= -1.48725e+05 Fmax= 1.49778e+02, atom= 72\n",
      "Step= 3213, Dmax= 1.6e-03 nm, Epot= -1.48726e+05 Fmax= 1.31407e+03, atom= 72\n",
      "Step= 3214, Dmax= 1.9e-03 nm, Epot= -1.48730e+05 Fmax= 4.63051e+02, atom= 72\n",
      "Step= 3216, Dmax= 1.2e-03 nm, Epot= -1.48731e+05 Fmax= 5.94326e+02, atom= 75\n",
      "Step= 3217, Dmax= 1.4e-03 nm, Epot= -1.48732e+05 Fmax= 6.78750e+02, atom= 72\n",
      "Step= 3218, Dmax= 1.7e-03 nm, Epot= -1.48733e+05 Fmax= 8.45176e+02, atom= 75\n",
      "Step= 3219, Dmax= 2.0e-03 nm, Epot= -1.48733e+05 Fmax= 9.87730e+02, atom= 72\n",
      "Step= 3221, Dmax= 1.2e-03 nm, Epot= -1.48736e+05 Fmax= 1.06863e+02, atom= 75\n",
      "Step= 3222, Dmax= 1.4e-03 nm, Epot= -1.48739e+05 Fmax= 1.18300e+03, atom= 75\n",
      "Step= 3223, Dmax= 1.7e-03 nm, Epot= -1.48742e+05 Fmax= 3.95658e+02, atom= 75\n",
      "Step= 3225, Dmax= 1.0e-03 nm, Epot= -1.48743e+05 Fmax= 5.51705e+02, atom= 72\n",
      "Step= 3226, Dmax= 1.3e-03 nm, Epot= -1.48744e+05 Fmax= 5.90362e+02, atom= 75\n",
      "Step= 3227, Dmax= 1.5e-03 nm, Epot= -1.48744e+05 Fmax= 7.73872e+02, atom= 72\n",
      "Step= 3228, Dmax= 1.8e-03 nm, Epot= -1.48745e+05 Fmax= 8.70479e+02, atom= 75\n",
      "Step= 3230, Dmax= 1.1e-03 nm, Epot= -1.48747e+05 Fmax= 1.20550e+02, atom= 72\n",
      "Step= 3231, Dmax= 1.3e-03 nm, Epot= -1.48749e+05 Fmax= 1.04870e+03, atom= 75\n",
      "Step= 3232, Dmax= 1.6e-03 nm, Epot= -1.48752e+05 Fmax= 3.76429e+02, atom= 72\n",
      "Step= 3234, Dmax= 9.3e-04 nm, Epot= -1.48753e+05 Fmax= 4.72488e+02, atom= 75\n",
      "Step= 3235, Dmax= 1.1e-03 nm, Epot= -1.48754e+05 Fmax= 5.48597e+02, atom= 72\n",
      "Step= 3236, Dmax= 1.3e-03 nm, Epot= -1.48755e+05 Fmax= 6.74750e+02, atom= 75\n",
      "Step= 3237, Dmax= 1.6e-03 nm, Epot= -1.48756e+05 Fmax= 7.95594e+02, atom= 72\n",
      "Step= 3238, Dmax= 1.9e-03 nm, Epot= -1.48756e+05 Fmax= 9.66974e+02, atom= 75\n",
      "Step= 3240, Dmax= 1.2e-03 nm, Epot= -1.48759e+05 Fmax= 9.90422e+01, atom= 72\n",
      "Step= 3241, Dmax= 1.4e-03 nm, Epot= -1.48762e+05 Fmax= 1.15498e+03, atom= 72\n",
      "Step= 3242, Dmax= 1.7e-03 nm, Epot= -1.48765e+05 Fmax= 3.77449e+02, atom= 72\n",
      "Step= 3244, Dmax= 1.0e-03 nm, Epot= -1.48766e+05 Fmax= 5.33455e+02, atom= 72\n",
      "Step= 3245, Dmax= 1.2e-03 nm, Epot= -1.48767e+05 Fmax= 5.66167e+02, atom= 72\n",
      "Step= 3246, Dmax= 1.4e-03 nm, Epot= -1.48768e+05 Fmax= 7.47964e+02, atom= 72\n",
      "Step= 3247, Dmax= 1.7e-03 nm, Epot= -1.48768e+05 Fmax= 8.33902e+02, atom= 72\n",
      "Step= 3248, Dmax= 2.1e-03 nm, Epot= -1.48768e+05 Fmax= 1.06076e+03, atom= 72\n",
      "Step= 3250, Dmax= 1.2e-03 nm, Epot= -1.48771e+05 Fmax= 1.00279e+02, atom= 10398\n",
      "Step= 3251, Dmax= 1.5e-03 nm, Epot= -1.48776e+05 Fmax= 1.06452e+03, atom= 72\n",
      "Step= 3252, Dmax= 1.8e-03 nm, Epot= -1.48778e+05 Fmax= 5.78866e+02, atom= 72\n",
      "Step= 3254, Dmax= 1.1e-03 nm, Epot= -1.48779e+05 Fmax= 3.99784e+02, atom= 72\n",
      "Step= 3255, Dmax= 1.3e-03 nm, Epot= -1.48780e+05 Fmax= 7.80201e+02, atom= 72\n",
      "Step= 3256, Dmax= 1.6e-03 nm, Epot= -1.48781e+05 Fmax= 6.30871e+02, atom= 72\n",
      "Step= 3258, Dmax= 9.3e-04 nm, Epot= -1.48782e+05 Fmax= 2.22541e+02, atom= 72\n",
      "Step= 3259, Dmax= 1.1e-03 nm, Epot= -1.48783e+05 Fmax= 7.93438e+02, atom= 72\n",
      "Step= 3260, Dmax= 1.3e-03 nm, Epot= -1.48785e+05 Fmax= 4.34171e+02, atom= 72\n",
      "Step= 3262, Dmax= 8.1e-04 nm, Epot= -1.48786e+05 Fmax= 2.96559e+02, atom= 72\n",
      "Step= 3263, Dmax= 9.7e-04 nm, Epot= -1.48787e+05 Fmax= 5.85931e+02, atom= 72\n",
      "Step= 3264, Dmax= 1.2e-03 nm, Epot= -1.48788e+05 Fmax= 4.67445e+02, atom= 72\n",
      "Step= 3265, Dmax= 1.4e-03 nm, Epot= -1.48788e+05 Fmax= 8.01433e+02, atom= 72\n",
      "Step= 3266, Dmax= 1.7e-03 nm, Epot= -1.48790e+05 Fmax= 7.16682e+02, atom= 72\n",
      "Step= 3268, Dmax= 1.0e-03 nm, Epot= -1.48791e+05 Fmax= 2.01259e+02, atom= 72\n",
      "Step= 3269, Dmax= 1.2e-03 nm, Epot= -1.48792e+05 Fmax= 8.91276e+02, atom= 72\n",
      "Step= 3270, Dmax= 1.4e-03 nm, Epot= -1.48794e+05 Fmax= 4.28980e+02, atom= 72\n",
      "Step= 3272, Dmax= 8.7e-04 nm, Epot= -1.48795e+05 Fmax= 3.56819e+02, atom= 72\n",
      "Step= 3273, Dmax= 1.0e-03 nm, Epot= -1.48796e+05 Fmax= 5.91488e+02, atom= 72\n",
      "Step= 3274, Dmax= 1.2e-03 nm, Epot= -1.48797e+05 Fmax= 5.41315e+02, atom= 72\n",
      "Step= 3275, Dmax= 1.5e-03 nm, Epot= -1.48797e+05 Fmax= 8.22467e+02, atom= 72\n",
      "Step= 3276, Dmax= 1.8e-03 nm, Epot= -1.48798e+05 Fmax= 8.10235e+02, atom= 72\n",
      "Step= 3278, Dmax= 1.1e-03 nm, Epot= -1.48800e+05 Fmax= 1.76983e+02, atom= 72\n",
      "Step= 3279, Dmax= 1.3e-03 nm, Epot= -1.48802e+05 Fmax= 9.96863e+02, atom= 72\n",
      "Step= 3280, Dmax= 1.6e-03 nm, Epot= -1.48804e+05 Fmax= 4.22999e+02, atom= 72\n",
      "Step= 3282, Dmax= 9.3e-04 nm, Epot= -1.48805e+05 Fmax= 4.22009e+02, atom= 72\n",
      "Step= 3283, Dmax= 1.1e-03 nm, Epot= -1.48806e+05 Fmax= 5.97105e+02, atom= 72\n",
      "Step= 3284, Dmax= 1.3e-03 nm, Epot= -1.48807e+05 Fmax= 6.21181e+02, atom= 72\n",
      "Step= 3285, Dmax= 1.6e-03 nm, Epot= -1.48807e+05 Fmax= 8.44633e+02, atom= 72\n",
      "Step= 3286, Dmax= 1.9e-03 nm, Epot= -1.48808e+05 Fmax= 9.11334e+02, atom= 72\n",
      "Step= 3288, Dmax= 1.2e-03 nm, Epot= -1.48810e+05 Fmax= 1.50452e+02, atom= 72\n",
      "Step= 3289, Dmax= 1.4e-03 nm, Epot= -1.48811e+05 Fmax= 1.11085e+03, atom= 72\n",
      "Step= 3290, Dmax= 1.7e-03 nm, Epot= -1.48814e+05 Fmax= 4.16042e+02, atom= 72\n",
      "Step= 3292, Dmax= 1.0e-03 nm, Epot= -1.48815e+05 Fmax= 4.92607e+02, atom= 72\n",
      "Step= 3293, Dmax= 1.2e-03 nm, Epot= -1.48816e+05 Fmax= 6.02510e+02, atom= 72\n",
      "Step= 3294, Dmax= 1.4e-03 nm, Epot= -1.48817e+05 Fmax= 7.07662e+02, atom= 72\n",
      "Step= 3295, Dmax= 1.7e-03 nm, Epot= -1.48817e+05 Fmax= 8.68054e+02, atom= 72\n",
      "Step= 3296, Dmax= 2.1e-03 nm, Epot= -1.48818e+05 Fmax= 1.02050e+03, atom= 72\n",
      "Step= 3298, Dmax= 1.2e-03 nm, Epot= -1.48821e+05 Fmax= 1.21654e+02, atom= 72\n",
      "Step= 3299, Dmax= 1.5e-03 nm, Epot= -1.48822e+05 Fmax= 1.23210e+03, atom= 72\n",
      "Step= 3300, Dmax= 1.8e-03 nm, Epot= -1.48826e+05 Fmax= 4.09814e+02, atom= 72\n",
      "Step= 3302, Dmax= 1.1e-03 nm, Epot= -1.48827e+05 Fmax= 5.67260e+02, atom= 72\n",
      "Step= 3303, Dmax= 1.3e-03 nm, Epot= -1.48827e+05 Fmax= 6.09782e+02, atom= 72\n",
      "Step= 3304, Dmax= 1.5e-03 nm, Epot= -1.48828e+05 Fmax= 7.99384e+02, atom= 72\n",
      "Step= 3305, Dmax= 1.9e-03 nm, Epot= -1.48828e+05 Fmax= 8.94343e+02, atom= 72\n",
      "Step= 3306, Dmax= 2.2e-03 nm, Epot= -1.48829e+05 Fmax= 1.13697e+03, atom= 72\n",
      "Step= 3308, Dmax= 1.3e-03 nm, Epot= -1.48832e+05 Fmax= 9.19418e+01, atom= 6675\n",
      "Step= 3309, Dmax= 1.6e-03 nm, Epot= -1.48835e+05 Fmax= 1.35488e+03, atom= 72\n",
      "Step= 3310, Dmax= 1.9e-03 nm, Epot= -1.48840e+05 Fmax= 4.10214e+02, atom= 72\n",
      "Step= 3312, Dmax= 1.2e-03 nm, Epot= -1.48840e+05 Fmax= 6.40660e+02, atom= 72\n",
      "Step= 3313, Dmax= 1.4e-03 nm, Epot= -1.48841e+05 Fmax= 6.24479e+02, atom= 72\n",
      "Step= 3314, Dmax= 1.7e-03 nm, Epot= -1.48841e+05 Fmax= 8.91075e+02, atom= 72\n",
      "Step= 3315, Dmax= 2.0e-03 nm, Epot= -1.48842e+05 Fmax= 9.29687e+02, atom= 72\n",
      "Step= 3317, Dmax= 1.2e-03 nm, Epot= -1.48845e+05 Fmax= 1.55415e+02, atom= 75\n",
      "Step= 3318, Dmax= 1.4e-03 nm, Epot= -1.48845e+05 Fmax= 1.15195e+03, atom= 72\n",
      "Step= 3319, Dmax= 1.7e-03 nm, Epot= -1.48849e+05 Fmax= 4.12211e+02, atom= 72\n",
      "Step= 3321, Dmax= 1.0e-03 nm, Epot= -1.48850e+05 Fmax= 5.33587e+02, atom= 72\n",
      "Step= 3322, Dmax= 1.2e-03 nm, Epot= -1.48850e+05 Fmax= 5.97327e+02, atom= 72\n",
      "Step= 3323, Dmax= 1.5e-03 nm, Epot= -1.48851e+05 Fmax= 7.62742e+02, atom= 72\n",
      "Step= 3324, Dmax= 1.8e-03 nm, Epot= -1.48851e+05 Fmax= 8.66696e+02, atom= 72\n",
      "Step= 3326, Dmax= 1.1e-03 nm, Epot= -1.48854e+05 Fmax= 1.18141e+02, atom= 72\n",
      "Step= 3327, Dmax= 1.3e-03 nm, Epot= -1.48856e+05 Fmax= 1.04876e+03, atom= 72\n",
      "Step= 3328, Dmax= 1.5e-03 nm, Epot= -1.48858e+05 Fmax= 3.66728e+02, atom= 72\n",
      "Step= 3330, Dmax= 9.3e-04 nm, Epot= -1.48859e+05 Fmax= 4.76072e+02, atom= 72\n",
      "Step= 3331, Dmax= 1.1e-03 nm, Epot= -1.48860e+05 Fmax= 5.39550e+02, atom= 72\n",
      "Step= 3332, Dmax= 1.3e-03 nm, Epot= -1.48861e+05 Fmax= 6.75531e+02, atom= 72\n",
      "Step= 3333, Dmax= 1.6e-03 nm, Epot= -1.48861e+05 Fmax= 7.85790e+02, atom= 72\n",
      "Step= 3334, Dmax= 1.9e-03 nm, Epot= -1.48862e+05 Fmax= 9.65792e+02, atom= 72\n",
      "Step= 3335, Dmax= 2.3e-03 nm, Epot= -1.48862e+05 Fmax= 1.13679e+03, atom= 72\n",
      "Step= 3337, Dmax= 1.4e-03 nm, Epot= -1.48865e+05 Fmax= 1.16808e+02, atom= 75\n",
      "Step= 3338, Dmax= 1.7e-03 nm, Epot= -1.48867e+05 Fmax= 1.37899e+03, atom= 72\n",
      "Step= 3339, Dmax= 2.0e-03 nm, Epot= -1.48871e+05 Fmax= 4.27559e+02, atom= 75\n",
      "Step= 3341, Dmax= 1.2e-03 nm, Epot= -1.48872e+05 Fmax= 6.65000e+02, atom= 72\n",
      "Step= 3342, Dmax= 1.4e-03 nm, Epot= -1.48873e+05 Fmax= 6.41783e+02, atom= 72\n",
      "Step= 3344, Dmax= 8.6e-04 nm, Epot= -1.48874e+05 Fmax= 1.47939e+02, atom= 72\n",
      "Step= 3345, Dmax= 1.0e-03 nm, Epot= -1.48876e+05 Fmax= 7.89149e+02, atom= 72\n",
      "Step= 3346, Dmax= 1.2e-03 nm, Epot= -1.48878e+05 Fmax= 3.46132e+02, atom= 72\n",
      "Step= 3348, Dmax= 7.4e-04 nm, Epot= -1.48878e+05 Fmax= 3.29636e+02, atom= 72\n",
      "Step= 3349, Dmax= 8.9e-04 nm, Epot= -1.48879e+05 Fmax= 4.86027e+02, atom= 72\n",
      "Step= 3350, Dmax= 1.1e-03 nm, Epot= -1.48880e+05 Fmax= 4.88199e+02, atom= 72\n",
      "Step= 3351, Dmax= 1.3e-03 nm, Epot= -1.48881e+05 Fmax= 6.85141e+02, atom= 72\n",
      "Step= 3352, Dmax= 1.5e-03 nm, Epot= -1.48881e+05 Fmax= 7.19044e+02, atom= 72\n",
      "Step= 3353, Dmax= 1.9e-03 nm, Epot= -1.48882e+05 Fmax= 9.68779e+02, atom= 72\n",
      "Step= 3354, Dmax= 2.2e-03 nm, Epot= -1.48882e+05 Fmax= 1.05458e+03, atom= 72\n",
      "Step= 3356, Dmax= 1.3e-03 nm, Epot= -1.48885e+05 Fmax= 1.69110e+02, atom= 72\n",
      "Step= 3357, Dmax= 1.6e-03 nm, Epot= -1.48885e+05 Fmax= 1.28707e+03, atom= 72\n",
      "Step= 3358, Dmax= 1.9e-03 nm, Epot= -1.48889e+05 Fmax= 4.72345e+02, atom= 72\n",
      "Step= 3360, Dmax= 1.2e-03 nm, Epot= -1.48889e+05 Fmax= 5.74904e+02, atom= 72\n",
      "Step= 3361, Dmax= 1.4e-03 nm, Epot= -1.48890e+05 Fmax= 6.85808e+02, atom= 72\n",
      "Step= 3362, Dmax= 1.7e-03 nm, Epot= -1.48891e+05 Fmax= 8.24167e+02, atom= 72\n",
      "Step= 3363, Dmax= 2.0e-03 nm, Epot= -1.48891e+05 Fmax= 9.89916e+02, atom= 72\n",
      "Step= 3364, Dmax= 2.4e-03 nm, Epot= -1.48891e+05 Fmax= 1.18622e+03, atom= 72\n",
      "Step= 3366, Dmax= 1.4e-03 nm, Epot= -1.48895e+05 Fmax= 1.30137e+02, atom= 72\n",
      "Step= 3367, Dmax= 1.7e-03 nm, Epot= -1.48895e+05 Fmax= 1.43353e+03, atom= 72\n",
      "Step= 3368, Dmax= 2.1e-03 nm, Epot= -1.48900e+05 Fmax= 4.58707e+02, atom= 72\n",
      "Step= 3370, Dmax= 1.2e-03 nm, Epot= -1.48900e+05 Fmax= 6.67715e+02, atom= 72\n",
      "Step= 3371, Dmax= 1.5e-03 nm, Epot= -1.48901e+05 Fmax= 6.87437e+02, atom= 72\n",
      "Step= 3373, Dmax= 8.9e-04 nm, Epot= -1.48903e+05 Fmax= 1.21352e+02, atom= 75\n",
      "Step= 3374, Dmax= 1.1e-03 nm, Epot= -1.48905e+05 Fmax= 8.50742e+02, atom= 72\n",
      "Step= 3375, Dmax= 1.3e-03 nm, Epot= -1.48907e+05 Fmax= 3.14300e+02, atom= 72\n",
      "Step= 3377, Dmax= 7.7e-04 nm, Epot= -1.48908e+05 Fmax= 3.89898e+02, atom= 72\n",
      "Step= 3378, Dmax= 9.2e-04 nm, Epot= -1.48908e+05 Fmax= 4.50992e+02, atom= 72\n",
      "Step= 3379, Dmax= 1.1e-03 nm, Epot= -1.48909e+05 Fmax= 5.61739e+02, atom= 72\n",
      "Step= 3380, Dmax= 1.3e-03 nm, Epot= -1.48910e+05 Fmax= 6.50031e+02, atom= 72\n",
      "Step= 3381, Dmax= 1.6e-03 nm, Epot= -1.48910e+05 Fmax= 8.06827e+02, atom= 72\n",
      "Step= 3382, Dmax= 1.9e-03 nm, Epot= -1.48911e+05 Fmax= 9.39256e+02, atom= 72\n",
      "Step= 3384, Dmax= 1.2e-03 nm, Epot= -1.48913e+05 Fmax= 1.16126e+02, atom= 72\n",
      "Step= 3385, Dmax= 1.4e-03 nm, Epot= -1.48915e+05 Fmax= 1.13506e+03, atom= 72\n",
      "Step= 3386, Dmax= 1.7e-03 nm, Epot= -1.48918e+05 Fmax= 3.81863e+02, atom= 72\n",
      "Step= 3388, Dmax= 9.9e-04 nm, Epot= -1.48919e+05 Fmax= 5.21538e+02, atom= 72\n",
      "Step= 3389, Dmax= 1.2e-03 nm, Epot= -1.48919e+05 Fmax= 5.66354e+02, atom= 72\n",
      "Step= 3390, Dmax= 1.4e-03 nm, Epot= -1.48919e+05 Fmax= 7.36203e+02, atom= 72\n",
      "Step= 3391, Dmax= 1.7e-03 nm, Epot= -1.48920e+05 Fmax= 8.29280e+02, atom= 72\n",
      "Step= 3392, Dmax= 2.1e-03 nm, Epot= -1.48920e+05 Fmax= 1.04826e+03, atom= 72\n",
      "Step= 3394, Dmax= 1.2e-03 nm, Epot= -1.48923e+05 Fmax= 8.67795e+01, atom= 72\n",
      "Step= 3395, Dmax= 1.5e-03 nm, Epot= -1.48926e+05 Fmax= 1.25346e+03, atom= 72\n",
      "Step= 3396, Dmax= 1.8e-03 nm, Epot= -1.48930e+05 Fmax= 3.77595e+02, atom= 72\n",
      "Step= 3398, Dmax= 1.1e-03 nm, Epot= -1.48930e+05 Fmax= 5.94006e+02, atom= 72\n",
      "Step= 3399, Dmax= 1.3e-03 nm, Epot= -1.48931e+05 Fmax= 5.75349e+02, atom= 72\n",
      "Step= 3400, Dmax= 1.5e-03 nm, Epot= -1.48932e+05 Fmax= 8.25638e+02, atom= 72\n",
      "Step= 3401, Dmax= 1.8e-03 nm, Epot= -1.48932e+05 Fmax= 8.57226e+02, atom= 72\n",
      "Step= 3403, Dmax= 1.1e-03 nm, Epot= -1.48935e+05 Fmax= 1.46191e+02, atom= 75\n",
      "Step= 3404, Dmax= 1.3e-03 nm, Epot= -1.48935e+05 Fmax= 1.06278e+03, atom= 72\n",
      "Step= 3405, Dmax= 1.6e-03 nm, Epot= -1.48938e+05 Fmax= 3.83730e+02, atom= 72\n",
      "Step= 3407, Dmax= 9.6e-04 nm, Epot= -1.48939e+05 Fmax= 4.90229e+02, atom= 72\n",
      "Step= 3408, Dmax= 1.1e-03 nm, Epot= -1.48939e+05 Fmax= 5.55190e+02, atom= 72\n",
      "Step= 3409, Dmax= 1.4e-03 nm, Epot= -1.48940e+05 Fmax= 7.01861e+02, atom= 72\n",
      "Step= 3410, Dmax= 1.7e-03 nm, Epot= -1.48940e+05 Fmax= 8.04376e+02, atom= 72\n",
      "Step= 3411, Dmax= 2.0e-03 nm, Epot= -1.48941e+05 Fmax= 1.00407e+03, atom= 72\n",
      "Step= 3412, Dmax= 2.4e-03 nm, Epot= -1.48941e+05 Fmax= 1.16601e+03, atom= 72\n",
      "Step= 3414, Dmax= 1.4e-03 nm, Epot= -1.48944e+05 Fmax= 1.46101e+02, atom= 72\n",
      "Step= 3416, Dmax= 8.6e-04 nm, Epot= -1.48946e+05 Fmax= 6.31238e+02, atom= 72\n",
      "Step= 3417, Dmax= 1.0e-03 nm, Epot= -1.48947e+05 Fmax= 3.08641e+02, atom= 72\n",
      "Step= 3419, Dmax= 6.2e-04 nm, Epot= -1.48948e+05 Fmax= 2.51788e+02, atom= 72\n",
      "Step= 3420, Dmax= 7.4e-04 nm, Epot= -1.48948e+05 Fmax= 4.24082e+02, atom= 72\n",
      "Step= 3421, Dmax= 8.9e-04 nm, Epot= -1.48949e+05 Fmax= 3.83824e+02, atom= 72\n",
      "Step= 3422, Dmax= 1.1e-03 nm, Epot= -1.48950e+05 Fmax= 5.88691e+02, atom= 72\n",
      "Step= 3423, Dmax= 1.3e-03 nm, Epot= -1.48951e+05 Fmax= 5.75622e+02, atom= 72\n",
      "Step= 3424, Dmax= 1.5e-03 nm, Epot= -1.48951e+05 Fmax= 8.23587e+02, atom= 72\n",
      "Step= 3425, Dmax= 1.8e-03 nm, Epot= -1.48951e+05 Fmax= 8.54100e+02, atom= 72\n",
      "Step= 3427, Dmax= 1.1e-03 nm, Epot= -1.48953e+05 Fmax= 1.59450e+02, atom= 72\n",
      "Step= 3428, Dmax= 1.3e-03 nm, Epot= -1.48954e+05 Fmax= 1.04833e+03, atom= 72\n",
      "Step= 3429, Dmax= 1.6e-03 nm, Epot= -1.48957e+05 Fmax= 4.09415e+02, atom= 72\n",
      "Step= 3431, Dmax= 9.6e-04 nm, Epot= -1.48958e+05 Fmax= 4.59310e+02, atom= 72\n",
      "Step= 3432, Dmax= 1.1e-03 nm, Epot= -1.48958e+05 Fmax= 5.85987e+02, atom= 72\n",
      "Step= 3433, Dmax= 1.4e-03 nm, Epot= -1.48959e+05 Fmax= 6.66083e+02, atom= 72\n",
      "Step= 3434, Dmax= 1.7e-03 nm, Epot= -1.48959e+05 Fmax= 8.38290e+02, atom= 72\n",
      "Step= 3435, Dmax= 2.0e-03 nm, Epot= -1.48960e+05 Fmax= 9.66081e+02, atom= 72\n",
      "Step= 3437, Dmax= 1.2e-03 nm, Epot= -1.48962e+05 Fmax= 1.24226e+02, atom= 72\n",
      "Step= 3438, Dmax= 1.4e-03 nm, Epot= -1.48963e+05 Fmax= 1.17243e+03, atom= 72\n",
      "Step= 3439, Dmax= 1.7e-03 nm, Epot= -1.48967e+05 Fmax= 3.95268e+02, atom= 72\n",
      "Step= 3441, Dmax= 1.0e-03 nm, Epot= -1.48967e+05 Fmax= 5.38891e+02, atom= 72\n",
      "Step= 3442, Dmax= 1.2e-03 nm, Epot= -1.48968e+05 Fmax= 5.84820e+02, atom= 72\n",
      "Step= 3443, Dmax= 1.5e-03 nm, Epot= -1.48968e+05 Fmax= 7.61966e+02, atom= 72\n",
      "Step= 3444, Dmax= 1.8e-03 nm, Epot= -1.48968e+05 Fmax= 8.55334e+02, atom= 72\n",
      "Step= 3445, Dmax= 2.1e-03 nm, Epot= -1.48968e+05 Fmax= 1.08550e+03, atom= 72\n",
      "Step= 3446, Dmax= 2.6e-03 nm, Epot= -1.48969e+05 Fmax= 1.24200e+03, atom= 72\n",
      "Step= 3448, Dmax= 1.5e-03 nm, Epot= -1.48973e+05 Fmax= 1.44568e+02, atom= 75\n",
      "Step= 3450, Dmax= 9.2e-04 nm, Epot= -1.48974e+05 Fmax= 6.92112e+02, atom= 72\n",
      "Step= 3451, Dmax= 1.1e-03 nm, Epot= -1.48976e+05 Fmax= 3.11623e+02, atom= 72\n",
      "Step= 3453, Dmax= 6.6e-04 nm, Epot= -1.48976e+05 Fmax= 2.94183e+02, atom= 72\n",
      "Step= 3454, Dmax= 7.9e-04 nm, Epot= -1.48977e+05 Fmax= 4.29181e+02, atom= 72\n",
      "Step= 3455, Dmax= 9.5e-04 nm, Epot= -1.48978e+05 Fmax= 4.42036e+02, atom= 72\n",
      "Step= 3456, Dmax= 1.1e-03 nm, Epot= -1.48978e+05 Fmax= 6.00416e+02, atom= 72\n",
      "Step= 3457, Dmax= 1.4e-03 nm, Epot= -1.48979e+05 Fmax= 6.53031e+02, atom= 72\n",
      "Step= 3458, Dmax= 1.6e-03 nm, Epot= -1.48979e+05 Fmax= 8.49149e+02, atom= 72\n",
      "Step= 3459, Dmax= 2.0e-03 nm, Epot= -1.48979e+05 Fmax= 9.54197e+02, atom= 72\n",
      "Step= 3461, Dmax= 1.2e-03 nm, Epot= -1.48982e+05 Fmax= 1.21820e+02, atom= 75\n",
      "Step= 3462, Dmax= 1.4e-03 nm, Epot= -1.48983e+05 Fmax= 1.16397e+03, atom= 72\n",
      "Step= 3463, Dmax= 1.7e-03 nm, Epot= -1.48987e+05 Fmax= 3.85957e+02, atom= 75\n",
      "Step= 3465, Dmax= 1.0e-03 nm, Epot= -1.48987e+05 Fmax= 5.49971e+02, atom= 72\n",
      "Step= 3466, Dmax= 1.2e-03 nm, Epot= -1.48988e+05 Fmax= 5.70322e+02, atom= 72\n",
      "Step= 3467, Dmax= 1.5e-03 nm, Epot= -1.48988e+05 Fmax= 7.76337e+02, atom= 72\n",
      "Step= 3468, Dmax= 1.8e-03 nm, Epot= -1.48989e+05 Fmax= 8.37454e+02, atom= 72\n",
      "Step= 3470, Dmax= 1.1e-03 nm, Epot= -1.48991e+05 Fmax= 1.37476e+02, atom= 72\n",
      "Step= 3471, Dmax= 1.3e-03 nm, Epot= -1.48992e+05 Fmax= 1.02132e+03, atom= 72\n",
      "Step= 3472, Dmax= 1.5e-03 nm, Epot= -1.48995e+05 Fmax= 3.80196e+02, atom= 72\n",
      "Step= 3474, Dmax= 9.2e-04 nm, Epot= -1.48995e+05 Fmax= 4.54799e+02, atom= 72\n",
      "Step= 3475, Dmax= 1.1e-03 nm, Epot= -1.48996e+05 Fmax= 5.50578e+02, atom= 72\n",
      "Step= 3476, Dmax= 1.3e-03 nm, Epot= -1.48997e+05 Fmax= 6.53198e+02, atom= 72\n",
      "Step= 3477, Dmax= 1.6e-03 nm, Epot= -1.48997e+05 Fmax= 7.93578e+02, atom= 72\n",
      "Step= 3478, Dmax= 1.9e-03 nm, Epot= -1.48997e+05 Fmax= 9.41261e+02, atom= 72\n",
      "Step= 3480, Dmax= 1.1e-03 nm, Epot= -1.48999e+05 Fmax= 1.07006e+02, atom= 72\n",
      "Step= 3481, Dmax= 1.4e-03 nm, Epot= -1.49001e+05 Fmax= 1.13666e+03, atom= 72\n",
      "Step= 3482, Dmax= 1.6e-03 nm, Epot= -1.49004e+05 Fmax= 3.70333e+02, atom= 72\n",
      "Step= 3484, Dmax= 9.9e-04 nm, Epot= -1.49005e+05 Fmax= 5.27698e+02, atom= 72\n",
      "Step= 3485, Dmax= 1.2e-03 nm, Epot= -1.49006e+05 Fmax= 5.52922e+02, atom= 72\n",
      "Step= 3486, Dmax= 1.4e-03 nm, Epot= -1.49006e+05 Fmax= 7.41837e+02, atom= 72\n",
      "Step= 3487, Dmax= 1.7e-03 nm, Epot= -1.49007e+05 Fmax= 8.13406e+02, atom= 72\n",
      "Step= 3489, Dmax= 1.0e-03 nm, Epot= -1.49008e+05 Fmax= 1.15034e+02, atom= 75\n",
      "Step= 3490, Dmax= 1.2e-03 nm, Epot= -1.49010e+05 Fmax= 9.97719e+02, atom= 72\n",
      "Step= 3491, Dmax= 1.5e-03 nm, Epot= -1.49013e+05 Fmax= 3.39716e+02, atom= 72\n",
      "Step= 3493, Dmax= 8.8e-04 nm, Epot= -1.49013e+05 Fmax= 4.68024e+02, atom= 72\n",
      "Step= 3494, Dmax= 1.1e-03 nm, Epot= -1.49014e+05 Fmax= 4.98247e+02, atom= 72\n",
      "Step= 3495, Dmax= 1.3e-03 nm, Epot= -1.49014e+05 Fmax= 6.63680e+02, atom= 72\n",
      "Step= 3496, Dmax= 1.5e-03 nm, Epot= -1.49015e+05 Fmax= 7.28309e+02, atom= 72\n",
      "Step= 3497, Dmax= 1.8e-03 nm, Epot= -1.49015e+05 Fmax= 9.43191e+02, atom= 72\n",
      "Step= 3498, Dmax= 2.2e-03 nm, Epot= -1.49016e+05 Fmax= 1.06229e+03, atom= 72\n",
      "Step= 3500, Dmax= 1.3e-03 nm, Epot= -1.49018e+05 Fmax= 1.49677e+02, atom= 72\n",
      "Step= 3501, Dmax= 1.6e-03 nm, Epot= -1.49019e+05 Fmax= 1.29409e+03, atom= 72\n",
      "Step= 3502, Dmax= 1.9e-03 nm, Epot= -1.49023e+05 Fmax= 4.47945e+02, atom= 72\n",
      "Step= 3504, Dmax= 1.1e-03 nm, Epot= -1.49023e+05 Fmax= 5.90260e+02, atom= 72\n",
      "Step= 3505, Dmax= 1.4e-03 nm, Epot= -1.49023e+05 Fmax= 6.57767e+02, atom= 72\n",
      "Step= 3506, Dmax= 1.6e-03 nm, Epot= -1.49024e+05 Fmax= 8.38666e+02, atom= 72\n",
      "Step= 3507, Dmax= 2.0e-03 nm, Epot= -1.49024e+05 Fmax= 9.57678e+02, atom= 72\n",
      "Step= 3509, Dmax= 1.2e-03 nm, Epot= -1.49027e+05 Fmax= 1.14285e+02, atom= 75\n",
      "Step= 3510, Dmax= 1.4e-03 nm, Epot= -1.49028e+05 Fmax= 1.16830e+03, atom= 72\n",
      "Step= 3511, Dmax= 1.7e-03 nm, Epot= -1.49031e+05 Fmax= 3.76782e+02, atom= 75\n",
      "Step= 3513, Dmax= 1.0e-03 nm, Epot= -1.49032e+05 Fmax= 5.56059e+02, atom= 72\n",
      "Step= 3514, Dmax= 1.2e-03 nm, Epot= -1.49033e+05 Fmax= 5.60879e+02, atom= 72\n",
      "Step= 3516, Dmax= 7.4e-04 nm, Epot= -1.49034e+05 Fmax= 1.13354e+02, atom= 72\n",
      "Step= 3517, Dmax= 8.8e-04 nm, Epot= -1.49036e+05 Fmax= 6.86681e+02, atom= 72\n",
      "Step= 3518, Dmax= 1.1e-03 nm, Epot= -1.49037e+05 Fmax= 2.82624e+02, atom= 72\n",
      "Step= 3520, Dmax= 6.4e-04 nm, Epot= -1.49038e+05 Fmax= 2.95103e+02, atom= 72\n",
      "Step= 3521, Dmax= 7.6e-04 nm, Epot= -1.49038e+05 Fmax= 4.01285e+02, atom= 72\n",
      "Step= 3522, Dmax= 9.2e-04 nm, Epot= -1.49039e+05 Fmax= 4.31474e+02, atom= 72\n",
      "Step= 3523, Dmax= 1.1e-03 nm, Epot= -1.49040e+05 Fmax= 5.70661e+02, atom= 72\n",
      "Step= 3524, Dmax= 1.3e-03 nm, Epot= -1.49040e+05 Fmax= 6.29611e+02, atom= 72\n",
      "Step= 3525, Dmax= 1.6e-03 nm, Epot= -1.49041e+05 Fmax= 8.12250e+02, atom= 72\n",
      "Step= 3526, Dmax= 1.9e-03 nm, Epot= -1.49041e+05 Fmax= 9.17138e+02, atom= 72\n",
      "Step= 3528, Dmax= 1.1e-03 nm, Epot= -1.49044e+05 Fmax= 1.27421e+02, atom= 72\n",
      "Step= 3529, Dmax= 1.4e-03 nm, Epot= -1.49044e+05 Fmax= 1.11559e+03, atom= 72\n",
      "Step= 3530, Dmax= 1.6e-03 nm, Epot= -1.49048e+05 Fmax= 3.86246e+02, atom= 72\n",
      "Step= 3532, Dmax= 9.8e-04 nm, Epot= -1.49048e+05 Fmax= 5.09054e+02, atom= 72\n",
      "Step= 3533, Dmax= 1.2e-03 nm, Epot= -1.49049e+05 Fmax= 5.67843e+02, atom= 72\n",
      "Step= 3534, Dmax= 1.4e-03 nm, Epot= -1.49049e+05 Fmax= 7.22916e+02, atom= 72\n",
      "Step= 3535, Dmax= 1.7e-03 nm, Epot= -1.49049e+05 Fmax= 8.27004e+02, atom= 72\n",
      "Step= 3537, Dmax= 1.0e-03 nm, Epot= -1.49052e+05 Fmax= 9.85757e+01, atom= 75\n",
      "Step= 3538, Dmax= 1.2e-03 nm, Epot= -1.49054e+05 Fmax= 1.00739e+03, atom= 72\n",
      "Step= 3539, Dmax= 1.5e-03 nm, Epot= -1.49057e+05 Fmax= 3.26155e+02, atom= 75\n",
      "Step= 3541, Dmax= 8.8e-04 nm, Epot= -1.49057e+05 Fmax= 4.78725e+02, atom= 72\n",
      "Step= 3542, Dmax= 1.1e-03 nm, Epot= -1.49058e+05 Fmax= 4.84531e+02, atom= 72\n",
      "Step= 3543, Dmax= 1.3e-03 nm, Epot= -1.49058e+05 Fmax= 6.73351e+02, atom= 72\n",
      "Step= 3544, Dmax= 1.5e-03 nm, Epot= -1.49059e+05 Fmax= 7.14228e+02, atom= 72\n",
      "Step= 3546, Dmax= 9.1e-04 nm, Epot= -1.49061e+05 Fmax= 1.23469e+02, atom= 72\n",
      "Step= 3547, Dmax= 1.1e-03 nm, Epot= -1.49062e+05 Fmax= 8.72771e+02, atom= 72\n",
      "Step= 3548, Dmax= 1.3e-03 nm, Epot= -1.49064e+05 Fmax= 3.31557e+02, atom= 72\n",
      "Step= 3550, Dmax= 7.9e-04 nm, Epot= -1.49065e+05 Fmax= 3.86615e+02, atom= 72\n",
      "Step= 3551, Dmax= 9.5e-04 nm, Epot= -1.49065e+05 Fmax= 4.77827e+02, atom= 72\n",
      "Step= 3552, Dmax= 1.1e-03 nm, Epot= -1.49066e+05 Fmax= 5.57314e+02, atom= 72\n",
      "Step= 3553, Dmax= 1.4e-03 nm, Epot= -1.49067e+05 Fmax= 6.86629e+02, atom= 72\n",
      "Step= 3554, Dmax= 1.6e-03 nm, Epot= -1.49067e+05 Fmax= 8.05142e+02, atom= 72\n",
      "Step= 3555, Dmax= 2.0e-03 nm, Epot= -1.49067e+05 Fmax= 9.85171e+02, atom= 72\n",
      "Step= 3557, Dmax= 1.2e-03 nm, Epot= -1.49070e+05 Fmax= 8.38131e+01, atom= 75\n",
      "Step= 3558, Dmax= 1.4e-03 nm, Epot= -1.49072e+05 Fmax= 1.18500e+03, atom= 75\n",
      "Step= 3559, Dmax= 1.7e-03 nm, Epot= -1.49076e+05 Fmax= 3.56884e+02, atom= 75\n",
      "Step= 3561, Dmax= 1.0e-03 nm, Epot= -1.49077e+05 Fmax= 5.70766e+02, atom= 72\n",
      "Step= 3562, Dmax= 1.2e-03 nm, Epot= -1.49077e+05 Fmax= 5.44052e+02, atom= 75\n",
      "Step= 3563, Dmax= 1.5e-03 nm, Epot= -1.49078e+05 Fmax= 7.91428e+02, atom= 72\n",
      "Step= 3564, Dmax= 1.8e-03 nm, Epot= -1.49078e+05 Fmax= 8.13491e+02, atom= 75\n",
      "Step= 3566, Dmax= 1.1e-03 nm, Epot= -1.49080e+05 Fmax= 1.54391e+02, atom= 72\n",
      "Step= 3567, Dmax= 1.3e-03 nm, Epot= -1.49081e+05 Fmax= 9.99481e+02, atom= 72\n",
      "Step= 3568, Dmax= 1.5e-03 nm, Epot= -1.49083e+05 Fmax= 3.92680e+02, atom= 72\n",
      "Step= 3570, Dmax= 9.1e-04 nm, Epot= -1.49084e+05 Fmax= 4.37365e+02, atom= 72\n",
      "Step= 3571, Dmax= 1.1e-03 nm, Epot= -1.49084e+05 Fmax= 5.61319e+02, atom= 72\n",
      "Step= 3572, Dmax= 1.3e-03 nm, Epot= -1.49085e+05 Fmax= 6.35012e+02, atom= 72\n",
      "Step= 3574, Dmax= 7.9e-04 nm, Epot= -1.49086e+05 Fmax= 8.71540e+01, atom= 72\n",
      "Step= 3575, Dmax= 9.5e-04 nm, Epot= -1.49089e+05 Fmax= 7.68439e+02, atom= 72\n",
      "Step= 3576, Dmax= 1.1e-03 nm, Epot= -1.49091e+05 Fmax= 2.70349e+02, atom= 72\n",
      "Step= 3578, Dmax= 6.8e-04 nm, Epot= -1.49091e+05 Fmax= 3.49016e+02, atom= 72\n",
      "Step= 3579, Dmax= 8.2e-04 nm, Epot= -1.49092e+05 Fmax= 3.96796e+02, atom= 72\n",
      "Step= 3580, Dmax= 9.8e-04 nm, Epot= -1.49093e+05 Fmax= 4.96045e+02, atom= 72\n",
      "Step= 3581, Dmax= 1.2e-03 nm, Epot= -1.49093e+05 Fmax= 5.77397e+02, atom= 72\n",
      "Step= 3582, Dmax= 1.4e-03 nm, Epot= -1.49094e+05 Fmax= 7.09318e+02, atom= 72\n",
      "Step= 3583, Dmax= 1.7e-03 nm, Epot= -1.49094e+05 Fmax= 8.35627e+02, atom= 72\n",
      "Step= 3585, Dmax= 1.0e-03 nm, Epot= -1.49096e+05 Fmax= 8.73385e+01, atom= 75\n",
      "Step= 3586, Dmax= 1.2e-03 nm, Epot= -1.49099e+05 Fmax= 1.01190e+03, atom= 72\n",
      "Step= 3587, Dmax= 1.5e-03 nm, Epot= -1.49101e+05 Fmax= 3.18499e+02, atom= 75\n",
      "Step= 3589, Dmax= 8.8e-04 nm, Epot= -1.49102e+05 Fmax= 4.82010e+02, atom= 72\n",
      "Step= 3590, Dmax= 1.1e-03 nm, Epot= -1.49103e+05 Fmax= 4.79146e+02, atom= 75\n",
      "Step= 3591, Dmax= 1.3e-03 nm, Epot= -1.49103e+05 Fmax= 6.73751e+02, atom= 72\n",
      "Step= 3592, Dmax= 1.5e-03 nm, Epot= -1.49104e+05 Fmax= 7.10031e+02, atom= 75\n",
      "Step= 3594, Dmax= 9.1e-04 nm, Epot= -1.49106e+05 Fmax= 1.24738e+02, atom= 72\n",
      "Step= 3595, Dmax= 1.1e-03 nm, Epot= -1.49107e+05 Fmax= 8.68847e+02, atom= 72\n",
      "Step= 3596, Dmax= 1.3e-03 nm, Epot= -1.49109e+05 Fmax= 3.31460e+02, atom= 72\n",
      "Step= 3598, Dmax= 7.9e-04 nm, Epot= -1.49110e+05 Fmax= 3.84652e+02, atom= 72\n",
      "Step= 3599, Dmax= 9.4e-04 nm, Epot= -1.49110e+05 Fmax= 4.76898e+02, atom= 72\n",
      "Step= 3600, Dmax= 1.1e-03 nm, Epot= -1.49111e+05 Fmax= 5.55174e+02, atom= 72\n",
      "Step= 3601, Dmax= 1.4e-03 nm, Epot= -1.49112e+05 Fmax= 6.84672e+02, atom= 72\n",
      "Step= 3602, Dmax= 1.6e-03 nm, Epot= -1.49112e+05 Fmax= 8.02416e+02, atom= 72\n",
      "Step= 3603, Dmax= 2.0e-03 nm, Epot= -1.49112e+05 Fmax= 9.82001e+02, atom= 72\n",
      "Step= 3605, Dmax= 1.2e-03 nm, Epot= -1.49115e+05 Fmax= 8.37171e+01, atom= 75\n",
      "Step= 3606, Dmax= 1.4e-03 nm, Epot= -1.49117e+05 Fmax= 1.18281e+03, atom= 75\n",
      "Step= 3607, Dmax= 1.7e-03 nm, Epot= -1.49120e+05 Fmax= 3.54052e+02, atom= 75\n",
      "Step= 3609, Dmax= 1.0e-03 nm, Epot= -1.49121e+05 Fmax= 5.69458e+02, atom= 75\n",
      "Step= 3610, Dmax= 1.2e-03 nm, Epot= -1.49122e+05 Fmax= 5.42872e+02, atom= 75\n",
      "Step= 3612, Dmax= 7.3e-04 nm, Epot= -1.49123e+05 Fmax= 1.26163e+02, atom= 72\n",
      "Step= 3613, Dmax= 8.8e-04 nm, Epot= -1.49125e+05 Fmax= 6.71290e+02, atom= 75\n",
      "Step= 3614, Dmax= 1.1e-03 nm, Epot= -1.49126e+05 Fmax= 2.91216e+02, atom= 72\n",
      "Step= 3616, Dmax= 6.3e-04 nm, Epot= -1.49127e+05 Fmax= 2.83903e+02, atom= 75\n",
      "Step= 3617, Dmax= 7.6e-04 nm, Epot= -1.49127e+05 Fmax= 4.06541e+02, atom= 72\n",
      "Step= 3618, Dmax= 9.1e-04 nm, Epot= -1.49128e+05 Fmax= 4.22055e+02, atom= 75\n",
      "Step= 3619, Dmax= 1.1e-03 nm, Epot= -1.49129e+05 Fmax= 5.72162e+02, atom= 72\n",
      "Step= 3620, Dmax= 1.3e-03 nm, Epot= -1.49129e+05 Fmax= 6.21246e+02, atom= 75\n",
      "Step= 3621, Dmax= 1.6e-03 nm, Epot= -1.49129e+05 Fmax= 8.10403e+02, atom= 72\n",
      "Step= 3622, Dmax= 1.9e-03 nm, Epot= -1.49130e+05 Fmax= 9.08506e+02, atom= 75\n",
      "Step= 3624, Dmax= 1.1e-03 nm, Epot= -1.49132e+05 Fmax= 1.29060e+02, atom= 72\n",
      "Step= 3625, Dmax= 1.4e-03 nm, Epot= -1.49133e+05 Fmax= 1.10751e+03, atom= 72\n",
      "Step= 3626, Dmax= 1.6e-03 nm, Epot= -1.49136e+05 Fmax= 3.84436e+02, atom= 72\n",
      "Step= 3628, Dmax= 9.8e-04 nm, Epot= -1.49137e+05 Fmax= 5.05592e+02, atom= 72\n",
      "Step= 3629, Dmax= 1.2e-03 nm, Epot= -1.49138e+05 Fmax= 5.64050e+02, atom= 72\n",
      "Step= 3630, Dmax= 1.4e-03 nm, Epot= -1.49138e+05 Fmax= 7.18676e+02, atom= 72\n",
      "Step= 3631, Dmax= 1.7e-03 nm, Epot= -1.49138e+05 Fmax= 8.20987e+02, atom= 72\n",
      "Step= 3633, Dmax= 1.0e-03 nm, Epot= -1.49140e+05 Fmax= 9.89915e+01, atom= 75\n",
      "Step= 3634, Dmax= 1.2e-03 nm, Epot= -1.49142e+05 Fmax= 9.97561e+02, atom= 72\n",
      "Step= 3635, Dmax= 1.5e-03 nm, Epot= -1.49145e+05 Fmax= 3.28841e+02, atom= 75\n",
      "Step= 3637, Dmax= 8.8e-04 nm, Epot= -1.49146e+05 Fmax= 4.69195e+02, atom= 72\n",
      "Step= 3638, Dmax= 1.1e-03 nm, Epot= -1.49146e+05 Fmax= 4.89215e+02, atom= 75\n",
      "Step= 3639, Dmax= 1.3e-03 nm, Epot= -1.49146e+05 Fmax= 6.59740e+02, atom= 72\n",
      "Step= 3640, Dmax= 1.5e-03 nm, Epot= -1.49147e+05 Fmax= 7.20226e+02, atom= 75\n",
      "Step= 3642, Dmax= 9.1e-04 nm, Epot= -1.49149e+05 Fmax= 1.11711e+02, atom= 72\n",
      "Step= 3643, Dmax= 1.1e-03 nm, Epot= -1.49150e+05 Fmax= 8.78768e+02, atom= 72\n",
      "Step= 3644, Dmax= 1.3e-03 nm, Epot= -1.49152e+05 Fmax= 3.17652e+02, atom= 72\n",
      "Step= 3646, Dmax= 7.8e-04 nm, Epot= -1.49153e+05 Fmax= 3.96277e+02, atom= 72\n",
      "Step= 3647, Dmax= 9.4e-04 nm, Epot= -1.49153e+05 Fmax= 4.62277e+02, atom= 72\n",
      "Step= 3648, Dmax= 1.1e-03 nm, Epot= -1.49154e+05 Fmax= 5.66767e+02, atom= 72\n",
      "Step= 3649, Dmax= 1.4e-03 nm, Epot= -1.49154e+05 Fmax= 6.69059e+02, atom= 72\n",
      "Step= 3650, Dmax= 1.6e-03 nm, Epot= -1.49155e+05 Fmax= 8.13719e+02, atom= 72\n",
      "Step= 3651, Dmax= 2.0e-03 nm, Epot= -1.49155e+05 Fmax= 9.64845e+02, atom= 72\n",
      "Step= 3653, Dmax= 1.2e-03 nm, Epot= -1.49158e+05 Fmax= 9.75004e+01, atom= 75\n",
      "Step= 3654, Dmax= 1.4e-03 nm, Epot= -1.49159e+05 Fmax= 1.16907e+03, atom= 75\n",
      "Step= 3655, Dmax= 1.7e-03 nm, Epot= -1.49163e+05 Fmax= 3.62660e+02, atom= 75\n",
      "Step= 3657, Dmax= 1.0e-03 nm, Epot= -1.49163e+05 Fmax= 5.58129e+02, atom= 75\n",
      "Step= 3658, Dmax= 1.2e-03 nm, Epot= -1.49164e+05 Fmax= 5.50409e+02, atom= 75\n",
      "Step= 3659, Dmax= 1.5e-03 nm, Epot= -1.49164e+05 Fmax= 7.75728e+02, atom= 75\n",
      "Step= 3660, Dmax= 1.7e-03 nm, Epot= -1.49165e+05 Fmax= 8.19880e+02, atom= 75\n",
      "Step= 3662, Dmax= 1.0e-03 nm, Epot= -1.49167e+05 Fmax= 1.41468e+02, atom= 72\n",
      "Step= 3663, Dmax= 1.3e-03 nm, Epot= -1.49167e+05 Fmax= 1.00622e+03, atom= 72\n",
      "Step= 3664, Dmax= 1.5e-03 nm, Epot= -1.49170e+05 Fmax= 3.76665e+02, atom= 72\n",
      "Step= 3666, Dmax= 9.1e-04 nm, Epot= -1.49170e+05 Fmax= 4.48590e+02, atom= 72\n",
      "Step= 3667, Dmax= 1.1e-03 nm, Epot= -1.49171e+05 Fmax= 5.43175e+02, atom= 72\n",
      "Step= 3668, Dmax= 1.3e-03 nm, Epot= -1.49172e+05 Fmax= 6.46122e+02, atom= 72\n",
      "Step= 3669, Dmax= 1.6e-03 nm, Epot= -1.49172e+05 Fmax= 7.81424e+02, atom= 72\n",
      "Step= 3670, Dmax= 1.9e-03 nm, Epot= -1.49172e+05 Fmax= 9.32183e+02, atom= 72\n",
      "Step= 3672, Dmax= 1.1e-03 nm, Epot= -1.49174e+05 Fmax= 1.02094e+02, atom= 72\n",
      "Step= 3673, Dmax= 1.4e-03 nm, Epot= -1.49176e+05 Fmax= 1.13014e+03, atom= 72\n",
      "Step= 3674, Dmax= 1.6e-03 nm, Epot= -1.49179e+05 Fmax= 3.56872e+02, atom= 72\n",
      "Step= 3676, Dmax= 9.7e-04 nm, Epot= -1.49180e+05 Fmax= 5.30720e+02, atom= 72\n",
      "Step= 3677, Dmax= 1.2e-03 nm, Epot= -1.49180e+05 Fmax= 5.35417e+02, atom= 72\n",
      "Step= 3678, Dmax= 1.4e-03 nm, Epot= -1.49181e+05 Fmax= 7.43912e+02, atom= 72\n",
      "Step= 3679, Dmax= 1.7e-03 nm, Epot= -1.49181e+05 Fmax= 7.90703e+02, atom= 72\n",
      "Step= 3681, Dmax= 1.0e-03 nm, Epot= -1.49183e+05 Fmax= 1.26033e+02, atom= 75\n",
      "Step= 3682, Dmax= 1.2e-03 nm, Epot= -1.49184e+05 Fmax= 9.73517e+02, atom= 72\n",
      "Step= 3683, Dmax= 1.5e-03 nm, Epot= -1.49186e+05 Fmax= 3.47590e+02, atom= 72\n",
      "Step= 3685, Dmax= 8.7e-04 nm, Epot= -1.49187e+05 Fmax= 4.48816e+02, atom= 72\n",
      "Step= 3686, Dmax= 1.0e-03 nm, Epot= -1.49187e+05 Fmax= 5.06077e+02, atom= 72\n",
      "Step= 3687, Dmax= 1.3e-03 nm, Epot= -1.49188e+05 Fmax= 6.40008e+02, atom= 72\n",
      "Step= 3688, Dmax= 1.5e-03 nm, Epot= -1.49188e+05 Fmax= 7.35341e+02, atom= 72\n",
      "Step= 3690, Dmax= 9.1e-04 nm, Epot= -1.49190e+05 Fmax= 9.40243e+01, atom= 72\n",
      "Step= 3691, Dmax= 1.1e-03 nm, Epot= -1.49192e+05 Fmax= 8.93364e+02, atom= 72\n",
      "Step= 3692, Dmax= 1.3e-03 nm, Epot= -1.49194e+05 Fmax= 2.98922e+02, atom= 72\n",
      "Step= 3694, Dmax= 7.8e-04 nm, Epot= -1.49194e+05 Fmax= 4.13262e+02, atom= 72\n",
      "Step= 3695, Dmax= 9.4e-04 nm, Epot= -1.49195e+05 Fmax= 4.42198e+02, atom= 72\n",
      "Step= 3696, Dmax= 1.1e-03 nm, Epot= -1.49196e+05 Fmax= 5.84122e+02, atom= 72\n",
      "Step= 3697, Dmax= 1.4e-03 nm, Epot= -1.49196e+05 Fmax= 6.47405e+02, atom= 72\n",
      "Step= 3698, Dmax= 1.6e-03 nm, Epot= -1.49196e+05 Fmax= 8.31298e+02, atom= 72\n",
      "Step= 3700, Dmax= 9.7e-04 nm, Epot= -1.49198e+05 Fmax= 7.65253e+01, atom= 6227\n",
      "Step= 3701, Dmax= 1.2e-03 nm, Epot= -1.49202e+05 Fmax= 7.75212e+02, atom= 72\n",
      "Step= 3702, Dmax= 1.4e-03 nm, Epot= -1.49203e+05 Fmax= 5.03225e+02, atom= 72\n",
      "Step= 3704, Dmax= 8.4e-04 nm, Epot= -1.49204e+05 Fmax= 2.60961e+02, atom= 72\n",
      "Step= 3705, Dmax= 1.0e-03 nm, Epot= -1.49204e+05 Fmax= 6.56344e+02, atom= 72\n",
      "Step= 3706, Dmax= 1.2e-03 nm, Epot= -1.49206e+05 Fmax= 4.44869e+02, atom= 72\n",
      "Step= 3708, Dmax= 7.3e-04 nm, Epot= -1.49207e+05 Fmax= 2.18450e+02, atom= 72\n",
      "Step= 3709, Dmax= 8.7e-04 nm, Epot= -1.49207e+05 Fmax= 5.76711e+02, atom= 72\n",
      "Step= 3710, Dmax= 1.0e-03 nm, Epot= -1.49208e+05 Fmax= 3.78031e+02, atom= 72\n",
      "Step= 3711, Dmax= 1.3e-03 nm, Epot= -1.49208e+05 Fmax= 7.67981e+02, atom= 72\n",
      "Step= 3712, Dmax= 1.5e-03 nm, Epot= -1.49209e+05 Fmax= 6.06358e+02, atom= 72\n",
      "Step= 3714, Dmax= 9.0e-04 nm, Epot= -1.49210e+05 Fmax= 2.15044e+02, atom= 72\n",
      "Step= 3715, Dmax= 1.1e-03 nm, Epot= -1.49211e+05 Fmax= 7.69909e+02, atom= 72\n",
      "Step= 3716, Dmax= 1.3e-03 nm, Epot= -1.49212e+05 Fmax= 4.13209e+02, atom= 72\n",
      "Step= 3718, Dmax= 7.8e-04 nm, Epot= -1.49213e+05 Fmax= 2.99413e+02, atom= 72\n",
      "Step= 3719, Dmax= 9.4e-04 nm, Epot= -1.49214e+05 Fmax= 5.55573e+02, atom= 72\n",
      "Step= 3720, Dmax= 1.1e-03 nm, Epot= -1.49215e+05 Fmax= 4.70189e+02, atom= 72\n",
      "Step= 3722, Dmax= 6.7e-04 nm, Epot= -1.49215e+05 Fmax= 1.43336e+02, atom= 72\n",
      "Step= 3723, Dmax= 8.1e-04 nm, Epot= -1.49216e+05 Fmax= 5.92400e+02, atom= 72\n",
      "Step= 3724, Dmax= 9.7e-04 nm, Epot= -1.49218e+05 Fmax= 2.91257e+02, atom= 72\n",
      "Step= 3725, Dmax= 1.2e-03 nm, Epot= -1.49218e+05 Fmax= 7.68581e+02, atom= 72\n",
      "Step= 3726, Dmax= 1.4e-03 nm, Epot= -1.49219e+05 Fmax= 5.04107e+02, atom= 72\n",
      "Step= 3728, Dmax= 8.4e-04 nm, Epot= -1.49220e+05 Fmax= 2.62677e+02, atom= 72\n",
      "Step= 3729, Dmax= 1.0e-03 nm, Epot= -1.49220e+05 Fmax= 6.56835e+02, atom= 72\n",
      "Step= 3730, Dmax= 1.2e-03 nm, Epot= -1.49221e+05 Fmax= 4.46647e+02, atom= 72\n",
      "Step= 3732, Dmax= 7.3e-04 nm, Epot= -1.49222e+05 Fmax= 2.13129e+02, atom= 72\n",
      "Step= 3733, Dmax= 8.7e-04 nm, Epot= -1.49222e+05 Fmax= 5.78365e+02, atom= 72\n",
      "Step= 3734, Dmax= 1.0e-03 nm, Epot= -1.49223e+05 Fmax= 3.71946e+02, atom= 72\n",
      "Step= 3735, Dmax= 1.3e-03 nm, Epot= -1.49223e+05 Fmax= 7.67852e+02, atom= 72\n",
      "Step= 3736, Dmax= 1.5e-03 nm, Epot= -1.49225e+05 Fmax= 6.00878e+02, atom= 72\n",
      "Step= 3738, Dmax= 9.0e-04 nm, Epot= -1.49226e+05 Fmax= 2.24004e+02, atom= 72\n",
      "Step= 3739, Dmax= 1.1e-03 nm, Epot= -1.49226e+05 Fmax= 7.65004e+02, atom= 72\n",
      "Step= 3740, Dmax= 1.3e-03 nm, Epot= -1.49228e+05 Fmax= 4.21918e+02, atom= 72\n",
      "Step= 3742, Dmax= 7.8e-04 nm, Epot= -1.49229e+05 Fmax= 2.87668e+02, atom= 72\n",
      "Step= 3743, Dmax= 9.4e-04 nm, Epot= -1.49229e+05 Fmax= 5.63600e+02, atom= 72\n",
      "Step= 3744, Dmax= 1.1e-03 nm, Epot= -1.49230e+05 Fmax= 4.58472e+02, atom= 72\n",
      "Step= 3745, Dmax= 1.3e-03 nm, Epot= -1.49230e+05 Fmax= 7.67315e+02, atom= 72\n",
      "Step= 3746, Dmax= 1.6e-03 nm, Epot= -1.49231e+05 Fmax= 7.04932e+02, atom= 72\n",
      "Step= 3748, Dmax= 9.7e-04 nm, Epot= -1.49232e+05 Fmax= 1.82438e+02, atom= 72\n",
      "Step= 3749, Dmax= 1.2e-03 nm, Epot= -1.49233e+05 Fmax= 8.81212e+02, atom= 72\n",
      "Step= 3750, Dmax= 1.4e-03 nm, Epot= -1.49235e+05 Fmax= 3.95655e+02, atom= 72\n",
      "Step= 3752, Dmax= 8.4e-04 nm, Epot= -1.49235e+05 Fmax= 3.67436e+02, atom= 72\n",
      "Step= 3753, Dmax= 1.0e-03 nm, Epot= -1.49236e+05 Fmax= 5.48064e+02, atom= 72\n",
      "Step= 3754, Dmax= 1.2e-03 nm, Epot= -1.49236e+05 Fmax= 5.51264e+02, atom= 72\n",
      "Step= 3755, Dmax= 1.4e-03 nm, Epot= -1.49236e+05 Fmax= 7.66813e+02, atom= 72\n",
      "Step= 3756, Dmax= 1.7e-03 nm, Epot= -1.49237e+05 Fmax= 8.16722e+02, atom= 72\n",
      "Step= 3758, Dmax= 1.0e-03 nm, Epot= -1.49239e+05 Fmax= 1.38055e+02, atom= 72\n",
      "Step= 3759, Dmax= 1.3e-03 nm, Epot= -1.49240e+05 Fmax= 1.00561e+03, atom= 72\n",
      "Step= 3760, Dmax= 1.5e-03 nm, Epot= -1.49242e+05 Fmax= 3.67889e+02, atom= 72\n",
      "Step= 3762, Dmax= 9.0e-04 nm, Epot= -1.49242e+05 Fmax= 4.52866e+02, atom= 72\n",
      "Step= 3763, Dmax= 1.1e-03 nm, Epot= -1.49243e+05 Fmax= 5.31568e+02, atom= 72\n",
      "Step= 3764, Dmax= 1.3e-03 nm, Epot= -1.49243e+05 Fmax= 6.50877e+02, atom= 72\n",
      "Step= 3765, Dmax= 1.6e-03 nm, Epot= -1.49244e+05 Fmax= 7.66572e+02, atom= 72\n",
      "Step= 3767, Dmax= 9.3e-04 nm, Epot= -1.49246e+05 Fmax= 8.10047e+01, atom= 72\n",
      "Step= 3768, Dmax= 1.1e-03 nm, Epot= -1.49248e+05 Fmax= 9.31142e+02, atom= 72\n",
      "Step= 3769, Dmax= 1.3e-03 nm, Epot= -1.49250e+05 Fmax= 2.90494e+02, atom= 72\n",
      "Step= 3771, Dmax= 8.1e-04 nm, Epot= -1.49251e+05 Fmax= 4.44974e+02, atom= 72\n",
      "Step= 3772, Dmax= 9.7e-04 nm, Epot= -1.49251e+05 Fmax= 4.37784e+02, atom= 72\n",
      "Step= 3773, Dmax= 1.2e-03 nm, Epot= -1.49252e+05 Fmax= 6.20736e+02, atom= 72\n",
      "Step= 3774, Dmax= 1.4e-03 nm, Epot= -1.49252e+05 Fmax= 6.50449e+02, atom= 72\n",
      "Step= 3776, Dmax= 8.4e-04 nm, Epot= -1.49254e+05 Fmax= 1.15305e+02, atom= 72\n",
      "Step= 3777, Dmax= 1.0e-03 nm, Epot= -1.49255e+05 Fmax= 8.00758e+02, atom= 72\n",
      "Step= 3778, Dmax= 1.2e-03 nm, Epot= -1.49256e+05 Fmax= 3.00689e+02, atom= 72\n",
      "Step= 3780, Dmax= 7.2e-04 nm, Epot= -1.49257e+05 Fmax= 3.57871e+02, atom= 72\n",
      "Step= 3781, Dmax= 8.7e-04 nm, Epot= -1.49258e+05 Fmax= 4.32249e+02, atom= 72\n",
      "Step= 3782, Dmax= 1.0e-03 nm, Epot= -1.49258e+05 Fmax= 5.16545e+02, atom= 72\n",
      "Step= 3783, Dmax= 1.2e-03 nm, Epot= -1.49259e+05 Fmax= 6.21162e+02, atom= 72\n",
      "Step= 3785, Dmax= 7.5e-04 nm, Epot= -1.49260e+05 Fmax= 5.97903e+01, atom= 72\n",
      "Step= 3786, Dmax= 9.0e-04 nm, Epot= -1.49263e+05 Fmax= 7.50549e+02, atom= 72\n",
      "Step= 3787, Dmax= 1.1e-03 nm, Epot= -1.49265e+05 Fmax= 2.30573e+02, atom= 72\n",
      "Step= 3789, Dmax= 6.5e-04 nm, Epot= -1.49265e+05 Fmax= 3.59621e+02, atom= 72\n",
      "Step= 3790, Dmax= 7.8e-04 nm, Epot= -1.49266e+05 Fmax= 3.48709e+02, atom= 72\n",
      "Step= 3791, Dmax= 9.3e-04 nm, Epot= -1.49266e+05 Fmax= 5.00809e+02, atom= 72\n",
      "Step= 3792, Dmax= 1.1e-03 nm, Epot= -1.49267e+05 Fmax= 5.19095e+02, atom= 72\n",
      "Step= 3793, Dmax= 1.3e-03 nm, Epot= -1.49267e+05 Fmax= 7.03889e+02, atom= 72\n",
      "Step= 3794, Dmax= 1.6e-03 nm, Epot= -1.49268e+05 Fmax= 7.65012e+02, atom= 72\n",
      "Step= 3796, Dmax= 9.7e-04 nm, Epot= -1.49270e+05 Fmax= 1.20254e+02, atom= 72\n",
      "Step= 3797, Dmax= 1.2e-03 nm, Epot= -1.49271e+05 Fmax= 9.39231e+02, atom= 72\n",
      "Step= 3798, Dmax= 1.4e-03 nm, Epot= -1.49273e+05 Fmax= 3.34186e+02, atom= 72\n",
      "Step= 3800, Dmax= 8.4e-04 nm, Epot= -1.49273e+05 Fmax= 4.26908e+02, atom= 72\n",
      "Step= 3801, Dmax= 1.0e-03 nm, Epot= -1.49274e+05 Fmax= 4.86018e+02, atom= 72\n",
      "Step= 3802, Dmax= 1.2e-03 nm, Epot= -1.49274e+05 Fmax= 6.10524e+02, atom= 72\n",
      "Step= 3803, Dmax= 1.4e-03 nm, Epot= -1.49275e+05 Fmax= 7.04071e+02, atom= 72\n",
      "Step= 3804, Dmax= 1.7e-03 nm, Epot= -1.49275e+05 Fmax= 8.75591e+02, atom= 72\n",
      "Step= 3805, Dmax= 2.1e-03 nm, Epot= -1.49275e+05 Fmax= 1.01680e+03, atom= 72\n",
      "Step= 3807, Dmax= 1.2e-03 nm, Epot= -1.49278e+05 Fmax= 1.13117e+02, atom= 72\n",
      "Step= 3808, Dmax= 1.5e-03 nm, Epot= -1.49278e+05 Fmax= 1.23922e+03, atom= 75\n",
      "Step= 3809, Dmax= 1.8e-03 nm, Epot= -1.49282e+05 Fmax= 3.90201e+02, atom= 75\n",
      "Step= 3811, Dmax= 1.1e-03 nm, Epot= -1.49282e+05 Fmax= 5.91450e+02, atom= 72\n",
      "Step= 3812, Dmax= 1.3e-03 nm, Epot= -1.49283e+05 Fmax= 5.87512e+02, atom= 72\n",
      "Step= 3814, Dmax= 7.8e-04 nm, Epot= -1.49284e+05 Fmax= 1.22439e+02, atom= 72\n",
      "Step= 3815, Dmax= 9.3e-04 nm, Epot= -1.49285e+05 Fmax= 7.27034e+02, atom= 72\n",
      "Step= 3816, Dmax= 1.1e-03 nm, Epot= -1.49286e+05 Fmax= 2.94011e+02, atom= 72\n",
      "Step= 3818, Dmax= 6.7e-04 nm, Epot= -1.49287e+05 Fmax= 3.16645e+02, atom= 72\n",
      "Step= 3819, Dmax= 8.0e-04 nm, Epot= -1.49288e+05 Fmax= 4.16096e+02, atom= 72\n",
      "Step= 3820, Dmax= 9.7e-04 nm, Epot= -1.49288e+05 Fmax= 4.63528e+02, atom= 72\n",
      "Step= 3821, Dmax= 1.2e-03 nm, Epot= -1.49289e+05 Fmax= 5.91344e+02, atom= 72\n",
      "Step= 3822, Dmax= 1.4e-03 nm, Epot= -1.49290e+05 Fmax= 6.75717e+02, atom= 72\n",
      "Step= 3824, Dmax= 8.3e-04 nm, Epot= -1.49291e+05 Fmax= 8.77064e+01, atom= 72\n",
      "Step= 3825, Dmax= 1.0e-03 nm, Epot= -1.49293e+05 Fmax= 8.24079e+02, atom= 72\n",
      "Step= 3826, Dmax= 1.2e-03 nm, Epot= -1.49294e+05 Fmax= 2.73832e+02, atom= 72\n",
      "Step= 3828, Dmax= 7.2e-04 nm, Epot= -1.49295e+05 Fmax= 3.82779e+02, atom= 72\n",
      "Step= 3829, Dmax= 8.6e-04 nm, Epot= -1.49296e+05 Fmax= 4.04848e+02, atom= 72\n",
      "Step= 3830, Dmax= 1.0e-03 nm, Epot= -1.49296e+05 Fmax= 5.41202e+02, atom= 72\n",
      "Step= 3831, Dmax= 1.2e-03 nm, Epot= -1.49296e+05 Fmax= 5.92892e+02, atom= 72\n",
      "Step= 3832, Dmax= 1.5e-03 nm, Epot= -1.49297e+05 Fmax= 7.69881e+02, atom= 72\n",
      "Step= 3833, Dmax= 1.8e-03 nm, Epot= -1.49297e+05 Fmax= 8.62895e+02, atom= 72\n",
      "Step= 3835, Dmax= 1.1e-03 nm, Epot= -1.49299e+05 Fmax= 1.12753e+02, atom= 72\n",
      "Step= 3836, Dmax= 1.3e-03 nm, Epot= -1.49300e+05 Fmax= 1.05453e+03, atom= 72\n",
      "Step= 3837, Dmax= 1.5e-03 nm, Epot= -1.49303e+05 Fmax= 3.51887e+02, atom= 72\n",
      "Step= 3839, Dmax= 9.3e-04 nm, Epot= -1.49303e+05 Fmax= 4.95038e+02, atom= 72\n",
      "Step= 3840, Dmax= 1.1e-03 nm, Epot= -1.49304e+05 Fmax= 5.22141e+02, atom= 72\n",
      "Step= 3841, Dmax= 1.3e-03 nm, Epot= -1.49304e+05 Fmax= 6.96886e+02, atom= 72\n",
      "Step= 3842, Dmax= 1.6e-03 nm, Epot= -1.49304e+05 Fmax= 7.67721e+02, atom= 72\n",
      "Step= 3844, Dmax= 9.6e-04 nm, Epot= -1.49306e+05 Fmax= 1.14806e+02, atom= 72\n",
      "Step= 3845, Dmax= 1.2e-03 nm, Epot= -1.49307e+05 Fmax= 9.41701e+02, atom= 72\n",
      "Step= 3846, Dmax= 1.4e-03 nm, Epot= -1.49309e+05 Fmax= 3.27350e+02, atom= 72\n",
      "Step= 3848, Dmax= 8.3e-04 nm, Epot= -1.49310e+05 Fmax= 4.31562e+02, atom= 72\n",
      "Step= 3849, Dmax= 1.0e-03 nm, Epot= -1.49311e+05 Fmax= 4.78375e+02, atom= 72\n",
      "Step= 3850, Dmax= 1.2e-03 nm, Epot= -1.49311e+05 Fmax= 6.14918e+02, atom= 72\n",
      "Step= 3851, Dmax= 1.4e-03 nm, Epot= -1.49312e+05 Fmax= 6.95296e+02, atom= 72\n",
      "Step= 3853, Dmax= 8.6e-04 nm, Epot= -1.49313e+05 Fmax= 8.86064e+01, atom= 72\n",
      "Step= 3854, Dmax= 1.0e-03 nm, Epot= -1.49315e+05 Fmax= 8.47508e+02, atom= 72\n",
      "Step= 3855, Dmax= 1.2e-03 nm, Epot= -1.49317e+05 Fmax= 2.82052e+02, atom= 72\n",
      "Step= 3857, Dmax= 7.5e-04 nm, Epot= -1.49317e+05 Fmax= 3.97534e+02, atom= 72\n",
      "Step= 3858, Dmax= 8.9e-04 nm, Epot= -1.49318e+05 Fmax= 4.18632e+02, atom= 72\n",
      "Step= 3859, Dmax= 1.1e-03 nm, Epot= -1.49318e+05 Fmax= 5.59681e+02, atom= 72\n",
      "Step= 3860, Dmax= 1.3e-03 nm, Epot= -1.49319e+05 Fmax= 6.15470e+02, atom= 72\n",
      "Step= 3861, Dmax= 1.5e-03 nm, Epot= -1.49319e+05 Fmax= 7.92889e+02, atom= 72\n",
      "Step= 3862, Dmax= 1.9e-03 nm, Epot= -1.49319e+05 Fmax= 8.99658e+02, atom= 72\n",
      "Step= 3864, Dmax= 1.1e-03 nm, Epot= -1.49322e+05 Fmax= 1.20697e+02, atom= 72\n",
      "Step= 3866, Dmax= 6.7e-04 nm, Epot= -1.49323e+05 Fmax= 4.88437e+02, atom= 72\n",
      "Step= 3867, Dmax= 8.0e-04 nm, Epot= -1.49324e+05 Fmax= 2.42971e+02, atom= 72\n",
      "Step= 3868, Dmax= 9.6e-04 nm, Epot= -1.49324e+05 Fmax= 6.35468e+02, atom= 72\n",
      "Step= 3869, Dmax= 1.2e-03 nm, Epot= -1.49325e+05 Fmax= 4.17757e+02, atom= 72\n",
      "Step= 3871, Dmax= 6.9e-04 nm, Epot= -1.49326e+05 Fmax= 2.12724e+02, atom= 72\n",
      "Step= 3872, Dmax= 8.3e-04 nm, Epot= -1.49326e+05 Fmax= 5.42565e+02, atom= 72\n",
      "Step= 3873, Dmax= 1.0e-03 nm, Epot= -1.49327e+05 Fmax= 3.65517e+02, atom= 72\n",
      "Step= 3874, Dmax= 1.2e-03 nm, Epot= -1.49328e+05 Fmax= 7.22590e+02, atom= 72\n",
      "Step= 3875, Dmax= 1.4e-03 nm, Epot= -1.49328e+05 Fmax= 5.85399e+02, atom= 72\n",
      "Step= 3877, Dmax= 8.6e-04 nm, Epot= -1.49330e+05 Fmax= 2.02198e+02, atom= 72\n",
      "Step= 3878, Dmax= 1.0e-03 nm, Epot= -1.49330e+05 Fmax= 7.43282e+02, atom= 72\n",
      "Step= 3879, Dmax= 1.2e-03 nm, Epot= -1.49331e+05 Fmax= 3.90194e+02, atom= 72\n",
      "Step= 3881, Dmax= 7.4e-04 nm, Epot= -1.49332e+05 Fmax= 2.87957e+02, atom= 72\n",
      "Step= 3882, Dmax= 8.9e-04 nm, Epot= -1.49333e+05 Fmax= 5.24691e+02, atom= 72\n",
      "Step= 3883, Dmax= 1.1e-03 nm, Epot= -1.49333e+05 Fmax= 4.52202e+02, atom= 72\n",
      "Step= 3884, Dmax= 1.3e-03 nm, Epot= -1.49333e+05 Fmax= 7.18262e+02, atom= 72\n",
      "Step= 3885, Dmax= 1.5e-03 nm, Epot= -1.49334e+05 Fmax= 6.88745e+02, atom= 72\n",
      "Step= 3887, Dmax= 9.3e-04 nm, Epot= -1.49336e+05 Fmax= 1.58683e+02, atom= 72\n",
      "Step= 3888, Dmax= 1.1e-03 nm, Epot= -1.49336e+05 Fmax= 8.58338e+02, atom= 72\n",
      "Step= 3889, Dmax= 1.3e-03 nm, Epot= -1.49338e+05 Fmax= 3.60902e+02, atom= 72\n",
      "Step= 3891, Dmax= 8.0e-04 nm, Epot= -1.49338e+05 Fmax= 3.68629e+02, atom= 72\n",
      "Step= 3892, Dmax= 9.6e-04 nm, Epot= -1.49339e+05 Fmax= 5.05437e+02, atom= 72\n",
      "Step= 3893, Dmax= 1.2e-03 nm, Epot= -1.49339e+05 Fmax= 5.45203e+02, atom= 72\n",
      "Step= 3894, Dmax= 1.4e-03 nm, Epot= -1.49340e+05 Fmax= 7.13601e+02, atom= 72\n",
      "Step= 3896, Dmax= 8.3e-04 nm, Epot= -1.49341e+05 Fmax= 5.12990e+01, atom= 9746\n",
      "Step= 3897, Dmax= 1.0e-03 nm, Epot= -1.49346e+05 Fmax= 6.55151e+02, atom= 75\n",
      "Step= 3898, Dmax= 1.2e-03 nm, Epot= -1.49347e+05 Fmax= 4.33691e+02, atom= 72\n",
      "Step= 3900, Dmax= 7.2e-04 nm, Epot= -1.49348e+05 Fmax= 2.21555e+02, atom= 72\n",
      "Step= 3901, Dmax= 8.6e-04 nm, Epot= -1.49348e+05 Fmax= 5.64641e+02, atom= 72\n",
      "Step= 3902, Dmax= 1.0e-03 nm, Epot= -1.49349e+05 Fmax= 3.78003e+02, atom= 72\n",
      "Step= 3903, Dmax= 1.2e-03 nm, Epot= -1.49349e+05 Fmax= 7.54165e+02, atom= 72\n",
      "Step= 3904, Dmax= 1.5e-03 nm, Epot= -1.49350e+05 Fmax= 6.02445e+02, atom= 72\n",
      "Step= 3906, Dmax= 8.9e-04 nm, Epot= -1.49352e+05 Fmax= 2.08760e+02, atom= 72\n",
      "Step= 3907, Dmax= 1.1e-03 nm, Epot= -1.49352e+05 Fmax= 7.62795e+02, atom= 72\n",
      "Step= 3908, Dmax= 1.3e-03 nm, Epot= -1.49353e+05 Fmax= 4.05654e+02, atom= 72\n",
      "Step= 3910, Dmax= 7.7e-04 nm, Epot= -1.49354e+05 Fmax= 2.97564e+02, atom= 72\n",
      "Step= 3911, Dmax= 9.2e-04 nm, Epot= -1.49354e+05 Fmax= 5.46952e+02, atom= 72\n",
      "Step= 3912, Dmax= 1.1e-03 nm, Epot= -1.49355e+05 Fmax= 4.65257e+02, atom= 72\n",
      "Step= 3913, Dmax= 1.3e-03 nm, Epot= -1.49355e+05 Fmax= 7.50808e+02, atom= 72\n",
      "Step= 3914, Dmax= 1.6e-03 nm, Epot= -1.49356e+05 Fmax= 7.06237e+02, atom= 72\n",
      "Step= 3916, Dmax= 9.6e-04 nm, Epot= -1.49357e+05 Fmax= 1.64845e+02, atom= 72\n",
      "Step= 3917, Dmax= 1.2e-03 nm, Epot= -1.49357e+05 Fmax= 8.78060e+02, atom= 72\n",
      "Step= 3918, Dmax= 1.4e-03 nm, Epot= -1.49359e+05 Fmax= 3.76981e+02, atom= 72\n",
      "Step= 3920, Dmax= 8.3e-04 nm, Epot= -1.49360e+05 Fmax= 3.78452e+02, atom= 72\n",
      "Step= 3921, Dmax= 9.9e-04 nm, Epot= -1.49361e+05 Fmax= 5.28850e+02, atom= 72\n",
      "Step= 3922, Dmax= 1.2e-03 nm, Epot= -1.49361e+05 Fmax= 5.58519e+02, atom= 72\n",
      "Step= 3923, Dmax= 1.4e-03 nm, Epot= -1.49361e+05 Fmax= 7.48098e+02, atom= 72\n",
      "Step= 3924, Dmax= 1.7e-03 nm, Epot= -1.49362e+05 Fmax= 8.17258e+02, atom= 72\n",
      "Step= 3926, Dmax= 1.0e-03 nm, Epot= -1.49364e+05 Fmax= 1.18368e+02, atom= 72\n",
      "Step= 3927, Dmax= 1.2e-03 nm, Epot= -1.49364e+05 Fmax= 1.00267e+03, atom= 75\n",
      "Step= 3928, Dmax= 1.5e-03 nm, Epot= -1.49367e+05 Fmax= 3.45322e+02, atom= 75\n",
      "Step= 3930, Dmax= 8.9e-04 nm, Epot= -1.49367e+05 Fmax= 4.66226e+02, atom= 75\n",
      "Step= 3931, Dmax= 1.1e-03 nm, Epot= -1.49368e+05 Fmax= 5.08296e+02, atom= 75\n",
      "Step= 3932, Dmax= 1.3e-03 nm, Epot= -1.49368e+05 Fmax= 6.60115e+02, atom= 75\n",
      "Step= 3933, Dmax= 1.5e-03 nm, Epot= -1.49368e+05 Fmax= 7.43176e+02, atom= 75\n",
      "Step= 3935, Dmax= 9.2e-04 nm, Epot= -1.49370e+05 Fmax= 1.02173e+02, atom= 72\n",
      "Step= 3936, Dmax= 1.1e-03 nm, Epot= -1.49372e+05 Fmax= 9.10251e+02, atom= 72\n",
      "Step= 3937, Dmax= 1.3e-03 nm, Epot= -1.49374e+05 Fmax= 3.05697e+02, atom= 72\n",
      "Step= 3939, Dmax= 8.0e-04 nm, Epot= -1.49374e+05 Fmax= 4.21624e+02, atom= 72\n",
      "Step= 3940, Dmax= 9.6e-04 nm, Epot= -1.49375e+05 Fmax= 4.50249e+02, atom= 72\n",
      "Step= 3941, Dmax= 1.1e-03 nm, Epot= -1.49375e+05 Fmax= 5.97545e+02, atom= 72\n",
      "Step= 3942, Dmax= 1.4e-03 nm, Epot= -1.49376e+05 Fmax= 6.58070e+02, atom= 72\n",
      "Step= 3943, Dmax= 1.7e-03 nm, Epot= -1.49376e+05 Fmax= 8.51199e+02, atom= 72\n",
      "Step= 3944, Dmax= 2.0e-03 nm, Epot= -1.49376e+05 Fmax= 9.56512e+02, atom= 72\n",
      "Step= 3946, Dmax= 1.2e-03 nm, Epot= -1.49379e+05 Fmax= 1.23394e+02, atom= 72\n",
      "Step= 3947, Dmax= 1.4e-03 nm, Epot= -1.49379e+05 Fmax= 1.17141e+03, atom= 75\n",
      "Step= 3948, Dmax= 1.7e-03 nm, Epot= -1.49382e+05 Fmax= 3.85198e+02, atom= 75\n",
      "Step= 3950, Dmax= 1.0e-03 nm, Epot= -1.49383e+05 Fmax= 5.52628e+02, atom= 75\n",
      "Step= 3951, Dmax= 1.2e-03 nm, Epot= -1.49383e+05 Fmax= 5.73353e+02, atom= 75\n",
      "Step= 3952, Dmax= 1.5e-03 nm, Epot= -1.49383e+05 Fmax= 7.76611e+02, atom= 75\n",
      "Step= 3953, Dmax= 1.8e-03 nm, Epot= -1.49384e+05 Fmax= 8.44710e+02, atom= 75\n",
      "Step= 3955, Dmax= 1.1e-03 nm, Epot= -1.49386e+05 Fmax= 1.32430e+02, atom= 72\n",
      "Step= 3956, Dmax= 1.3e-03 nm, Epot= -1.49386e+05 Fmax= 1.03947e+03, atom= 72\n",
      "Step= 3957, Dmax= 1.5e-03 nm, Epot= -1.49389e+05 Fmax= 3.66154e+02, atom= 72\n",
      "Step= 3959, Dmax= 9.2e-04 nm, Epot= -1.49389e+05 Fmax= 4.74323e+02, atom= 72\n",
      "Step= 3960, Dmax= 1.1e-03 nm, Epot= -1.49390e+05 Fmax= 5.33001e+02, atom= 72\n",
      "Step= 3961, Dmax= 1.3e-03 nm, Epot= -1.49390e+05 Fmax= 6.77736e+02, atom= 72\n",
      "Step= 3962, Dmax= 1.6e-03 nm, Epot= -1.49391e+05 Fmax= 7.72808e+02, atom= 72\n",
      "Step= 3964, Dmax= 9.6e-04 nm, Epot= -1.49392e+05 Fmax= 9.47179e+01, atom= 72\n",
      "Step= 3965, Dmax= 1.1e-03 nm, Epot= -1.49393e+05 Fmax= 9.42811e+02, atom= 75\n",
      "Step= 3966, Dmax= 1.4e-03 nm, Epot= -1.49396e+05 Fmax= 3.07157e+02, atom= 75\n",
      "Step= 3968, Dmax= 8.3e-04 nm, Epot= -1.49396e+05 Fmax= 4.45570e+02, atom= 75\n",
      "Step= 3969, Dmax= 9.9e-04 nm, Epot= -1.49397e+05 Fmax= 4.57784e+02, atom= 75\n",
      "Step= 3970, Dmax= 1.2e-03 nm, Epot= -1.49398e+05 Fmax= 6.25655e+02, atom= 75\n",
      "Step= 3971, Dmax= 1.4e-03 nm, Epot= -1.49398e+05 Fmax= 6.75197e+02, atom= 75\n",
      "Step= 3972, Dmax= 1.7e-03 nm, Epot= -1.49398e+05 Fmax= 8.84420e+02, atom= 75\n",
      "Step= 3973, Dmax= 2.1e-03 nm, Epot= -1.49398e+05 Fmax= 9.89095e+02, atom= 75\n",
      "Step= 3975, Dmax= 1.2e-03 nm, Epot= -1.49401e+05 Fmax= 1.41094e+02, atom= 72\n",
      "Step= 3977, Dmax= 7.4e-04 nm, Epot= -1.49401e+05 Fmax= 5.34120e+02, atom= 72\n",
      "Step= 3978, Dmax= 8.9e-04 nm, Epot= -1.49403e+05 Fmax= 2.75619e+02, atom= 72\n",
      "Step= 3979, Dmax= 1.1e-03 nm, Epot= -1.49403e+05 Fmax= 6.97579e+02, atom= 72\n",
      "Step= 3980, Dmax= 1.3e-03 nm, Epot= -1.49404e+05 Fmax= 4.68548e+02, atom= 72\n",
      "Step= 3982, Dmax= 7.7e-04 nm, Epot= -1.49405e+05 Fmax= 2.29529e+02, atom= 72\n",
      "Step= 3983, Dmax= 9.2e-04 nm, Epot= -1.49405e+05 Fmax= 6.06297e+02, atom= 72\n",
      "Step= 3984, Dmax= 1.1e-03 nm, Epot= -1.49406e+05 Fmax= 3.99064e+02, atom= 72\n",
      "Step= 3986, Dmax= 6.6e-04 nm, Epot= -1.49407e+05 Fmax= 2.05621e+02, atom= 72\n",
      "Step= 3987, Dmax= 8.0e-04 nm, Epot= -1.49408e+05 Fmax= 5.20652e+02, atom= 72\n",
      "Step= 3988, Dmax= 9.5e-04 nm, Epot= -1.49409e+05 Fmax= 3.49913e+02, atom= 72\n",
      "Step= 3989, Dmax= 1.1e-03 nm, Epot= -1.49409e+05 Fmax= 6.96150e+02, atom= 72\n",
      "Step= 3990, Dmax= 1.4e-03 nm, Epot= -1.49410e+05 Fmax= 5.57144e+02, atom= 72\n",
      "Step= 3992, Dmax= 8.2e-04 nm, Epot= -1.49411e+05 Fmax= 1.92736e+02, atom= 72\n",
      "Step= 3993, Dmax= 9.9e-04 nm, Epot= -1.49411e+05 Fmax= 7.04973e+02, atom= 72\n",
      "Step= 3994, Dmax= 1.2e-03 nm, Epot= -1.49412e+05 Fmax= 3.75215e+02, atom= 72\n",
      "Step= 3996, Dmax= 7.1e-04 nm, Epot= -1.49413e+05 Fmax= 2.74395e+02, atom= 72\n",
      "Step= 3997, Dmax= 8.5e-04 nm, Epot= -1.49414e+05 Fmax= 5.06239e+02, atom= 72\n",
      "Step= 3998, Dmax= 1.0e-03 nm, Epot= -1.49414e+05 Fmax= 4.29001e+02, atom= 72\n",
      "Step= 3999, Dmax= 1.2e-03 nm, Epot= -1.49415e+05 Fmax= 6.95061e+02, atom= 72\n",
      "Step= 4000, Dmax= 1.5e-03 nm, Epot= -1.49415e+05 Fmax= 6.51415e+02, atom= 72\n",
      "Step= 4002, Dmax= 8.9e-04 nm, Epot= -1.49417e+05 Fmax= 1.54110e+02, atom= 72\n",
      "Step= 4003, Dmax= 1.1e-03 nm, Epot= -1.49417e+05 Fmax= 8.09334e+02, atom= 72\n",
      "Step= 4004, Dmax= 1.3e-03 nm, Epot= -1.49419e+05 Fmax= 3.50941e+02, atom= 72\n",
      "Step= 4006, Dmax= 7.7e-04 nm, Epot= -1.49419e+05 Fmax= 3.47034e+02, atom= 72\n",
      "Step= 4007, Dmax= 9.2e-04 nm, Epot= -1.49420e+05 Fmax= 4.91716e+02, atom= 72\n",
      "Step= 4008, Dmax= 1.1e-03 nm, Epot= -1.49420e+05 Fmax= 5.13179e+02, atom= 72\n",
      "Step= 4009, Dmax= 1.3e-03 nm, Epot= -1.49421e+05 Fmax= 6.94479e+02, atom= 72\n",
      "Step= 4010, Dmax= 1.6e-03 nm, Epot= -1.49421e+05 Fmax= 7.52140e+02, atom= 72\n",
      "Step= 4012, Dmax= 9.5e-04 nm, Epot= -1.49423e+05 Fmax= 1.13047e+02, atom= 72\n",
      "Step= 4013, Dmax= 1.1e-03 nm, Epot= -1.49424e+05 Fmax= 9.22484e+02, atom= 75\n",
      "Step= 4014, Dmax= 1.4e-03 nm, Epot= -1.49426e+05 Fmax= 3.23614e+02, atom= 75\n",
      "Step= 4016, Dmax= 8.2e-04 nm, Epot= -1.49427e+05 Fmax= 4.26838e+02, atom= 75\n",
      "Step= 4017, Dmax= 9.9e-04 nm, Epot= -1.49427e+05 Fmax= 4.73602e+02, atom= 75\n",
      "Step= 4018, Dmax= 1.2e-03 nm, Epot= -1.49428e+05 Fmax= 6.06538e+02, atom= 75\n",
      "Step= 4019, Dmax= 1.4e-03 nm, Epot= -1.49428e+05 Fmax= 6.90142e+02, atom= 75\n",
      "Step= 4020, Dmax= 1.7e-03 nm, Epot= -1.49428e+05 Fmax= 8.64770e+02, atom= 75\n",
      "Step= 4022, Dmax= 1.0e-03 nm, Epot= -1.49430e+05 Fmax= 6.45187e+01, atom= 72\n",
      "Step= 4023, Dmax= 1.2e-03 nm, Epot= -1.49433e+05 Fmax= 1.04878e+03, atom= 75\n",
      "Step= 4024, Dmax= 1.5e-03 nm, Epot= -1.49436e+05 Fmax= 2.89911e+02, atom= 75\n",
      "Step= 4026, Dmax= 8.8e-04 nm, Epot= -1.49436e+05 Fmax= 5.16382e+02, atom= 75\n",
      "Step= 4027, Dmax= 1.1e-03 nm, Epot= -1.49437e+05 Fmax= 4.51266e+02, atom= 75\n",
      "Step= 4029, Dmax= 6.4e-04 nm, Epot= -1.49438e+05 Fmax= 1.30747e+02, atom= 75\n",
      "Step= 4030, Dmax= 7.6e-04 nm, Epot= -1.49439e+05 Fmax= 5.67092e+02, atom= 75\n",
      "Step= 4031, Dmax= 9.2e-04 nm, Epot= -1.49440e+05 Fmax= 2.70640e+02, atom= 75\n",
      "Step= 4033, Dmax= 5.5e-04 nm, Epot= -1.49441e+05 Fmax= 2.30726e+02, atom= 75\n",
      "Step= 4034, Dmax= 6.6e-04 nm, Epot= -1.49441e+05 Fmax= 3.71059e+02, atom= 75\n",
      "Step= 4035, Dmax= 7.9e-04 nm, Epot= -1.49442e+05 Fmax= 3.51092e+02, atom= 75\n",
      "Step= 4036, Dmax= 9.5e-04 nm, Epot= -1.49443e+05 Fmax= 5.15264e+02, atom= 75\n",
      "Step= 4037, Dmax= 1.1e-03 nm, Epot= -1.49443e+05 Fmax= 5.24615e+02, atom= 75\n",
      "Step= 4038, Dmax= 1.4e-03 nm, Epot= -1.49443e+05 Fmax= 7.22807e+02, atom= 75\n",
      "Step= 4039, Dmax= 1.6e-03 nm, Epot= -1.49444e+05 Fmax= 7.75089e+02, atom= 75\n",
      "Step= 4041, Dmax= 9.9e-04 nm, Epot= -1.49446e+05 Fmax= 1.27177e+02, atom= 72\n",
      "Step= 4042, Dmax= 1.2e-03 nm, Epot= -1.49446e+05 Fmax= 9.55510e+02, atom= 72\n",
      "Step= 4043, Dmax= 1.4e-03 nm, Epot= -1.49449e+05 Fmax= 3.43209e+02, atom= 72\n",
      "Step= 4045, Dmax= 8.5e-04 nm, Epot= -1.49449e+05 Fmax= 4.33481e+02, atom= 72\n",
      "Step= 4046, Dmax= 1.0e-03 nm, Epot= -1.49449e+05 Fmax= 4.97515e+02, atom= 72\n",
      "Step= 4047, Dmax= 1.2e-03 nm, Epot= -1.49450e+05 Fmax= 6.21460e+02, atom= 72\n",
      "Step= 4048, Dmax= 1.5e-03 nm, Epot= -1.49450e+05 Fmax= 7.19175e+02, atom= 72\n",
      "Step= 4050, Dmax= 8.8e-04 nm, Epot= -1.49452e+05 Fmax= 8.30091e+01, atom= 72\n",
      "Step= 4051, Dmax= 1.1e-03 nm, Epot= -1.49454e+05 Fmax= 8.76879e+02, atom= 75\n",
      "Step= 4052, Dmax= 1.3e-03 nm, Epot= -1.49456e+05 Fmax= 2.78951e+02, atom= 75\n",
      "Step= 4054, Dmax= 7.6e-04 nm, Epot= -1.49457e+05 Fmax= 4.16826e+02, atom= 75\n",
      "Step= 4055, Dmax= 9.2e-04 nm, Epot= -1.49457e+05 Fmax= 4.17944e+02, atom= 75\n",
      "Step= 4056, Dmax= 1.1e-03 nm, Epot= -1.49458e+05 Fmax= 5.83523e+02, atom= 75\n",
      "Step= 4057, Dmax= 1.3e-03 nm, Epot= -1.49458e+05 Fmax= 6.18599e+02, atom= 75\n",
      "Step= 4059, Dmax= 7.9e-04 nm, Epot= -1.49460e+05 Fmax= 1.05181e+02, atom= 72\n",
      "Step= 4060, Dmax= 9.5e-04 nm, Epot= -1.49461e+05 Fmax= 7.62592e+02, atom= 72\n",
      "Step= 4061, Dmax= 1.1e-03 nm, Epot= -1.49462e+05 Fmax= 2.78872e+02, atom= 72\n",
      "Step= 4063, Dmax= 6.8e-04 nm, Epot= -1.49463e+05 Fmax= 3.44471e+02, atom= 72\n",
      "Step= 4064, Dmax= 8.2e-04 nm, Epot= -1.49464e+05 Fmax= 4.02600e+02, atom= 72\n",
      "Step= 4065, Dmax= 9.8e-04 nm, Epot= -1.49464e+05 Fmax= 4.95334e+02, atom= 72\n",
      "Step= 4066, Dmax= 1.2e-03 nm, Epot= -1.49465e+05 Fmax= 5.80410e+02, atom= 72\n",
      "Step= 4067, Dmax= 1.4e-03 nm, Epot= -1.49465e+05 Fmax= 7.12797e+02, atom= 72\n",
      "Step= 4068, Dmax= 1.7e-03 nm, Epot= -1.49465e+05 Fmax= 8.36303e+02, atom= 72\n",
      "Step= 4070, Dmax= 1.0e-03 nm, Epot= -1.49468e+05 Fmax= 9.00222e+01, atom= 72\n",
      "Step= 4071, Dmax= 1.2e-03 nm, Epot= -1.49469e+05 Fmax= 1.02036e+03, atom= 75\n",
      "Step= 4072, Dmax= 1.5e-03 nm, Epot= -1.49472e+05 Fmax= 3.14159e+02, atom= 75\n",
      "Step= 4074, Dmax= 8.8e-04 nm, Epot= -1.49472e+05 Fmax= 4.89761e+02, atom= 75\n",
      "Step= 4075, Dmax= 1.1e-03 nm, Epot= -1.49473e+05 Fmax= 4.74851e+02, atom= 75\n",
      "Step= 4076, Dmax= 1.3e-03 nm, Epot= -1.49473e+05 Fmax= 6.82092e+02, atom= 75\n",
      "Step= 4077, Dmax= 1.5e-03 nm, Epot= -1.49473e+05 Fmax= 7.06909e+02, atom= 75\n",
      "Step= 4079, Dmax= 9.1e-04 nm, Epot= -1.49475e+05 Fmax= 1.29527e+02, atom= 72\n",
      "Step= 4080, Dmax= 1.1e-03 nm, Epot= -1.49476e+05 Fmax= 8.74164e+02, atom= 72\n",
      "Step= 4081, Dmax= 1.3e-03 nm, Epot= -1.49478e+05 Fmax= 3.29500e+02, atom= 72\n",
      "Step= 4083, Dmax= 7.9e-04 nm, Epot= -1.49478e+05 Fmax= 3.90729e+02, atom= 72\n",
      "Step= 4084, Dmax= 9.5e-04 nm, Epot= -1.49479e+05 Fmax= 4.72504e+02, atom= 75\n",
      "Step= 4085, Dmax= 1.1e-03 nm, Epot= -1.49480e+05 Fmax= 5.64869e+02, atom= 72\n",
      "Step= 4086, Dmax= 1.4e-03 nm, Epot= -1.49480e+05 Fmax= 6.78107e+02, atom= 75\n",
      "Step= 4087, Dmax= 1.6e-03 nm, Epot= -1.49480e+05 Fmax= 8.16107e+02, atom= 72\n",
      "Step= 4089, Dmax= 9.8e-04 nm, Epot= -1.49482e+05 Fmax= 8.45818e+01, atom= 7730\n",
      "Step= 4090, Dmax= 1.2e-03 nm, Epot= -1.49484e+05 Fmax= 9.87596e+02, atom= 72\n",
      "Step= 4091, Dmax= 1.4e-03 nm, Epot= -1.49486e+05 Fmax= 3.06960e+02, atom= 72\n",
      "Step= 4093, Dmax= 8.5e-04 nm, Epot= -1.49487e+05 Fmax= 4.67633e+02, atom= 72\n",
      "Step= 4094, Dmax= 1.0e-03 nm, Epot= -1.49488e+05 Fmax= 4.60456e+02, atom= 72\n",
      "Step= 4095, Dmax= 1.2e-03 nm, Epot= -1.49488e+05 Fmax= 6.55292e+02, atom= 72\n",
      "Step= 4096, Dmax= 1.5e-03 nm, Epot= -1.49489e+05 Fmax= 6.81218e+02, atom= 72\n",
      "Step= 4098, Dmax= 8.8e-04 nm, Epot= -1.49490e+05 Fmax= 1.18672e+02, atom= 72\n",
      "Step= 4099, Dmax= 1.1e-03 nm, Epot= -1.49491e+05 Fmax= 8.36857e+02, atom= 72\n",
      "Step= 4100, Dmax= 1.3e-03 nm, Epot= -1.49493e+05 Fmax= 3.15662e+02, atom= 72\n",
      "Step= 4102, Dmax= 7.6e-04 nm, Epot= -1.49494e+05 Fmax= 3.77371e+02, atom= 72\n",
      "Step= 4103, Dmax= 9.1e-04 nm, Epot= -1.49494e+05 Fmax= 4.55654e+02, atom= 72\n",
      "Step= 4104, Dmax= 1.1e-03 nm, Epot= -1.49495e+05 Fmax= 5.42108e+02, atom= 72\n",
      "Step= 4105, Dmax= 1.3e-03 nm, Epot= -1.49495e+05 Fmax= 6.57461e+02, atom= 72\n",
      "Step= 4106, Dmax= 1.6e-03 nm, Epot= -1.49496e+05 Fmax= 7.79117e+02, atom= 72\n",
      "Step= 4108, Dmax= 9.5e-04 nm, Epot= -1.49497e+05 Fmax= 9.48472e+01, atom= 7730\n",
      "Step= 4109, Dmax= 1.1e-03 nm, Epot= -1.49499e+05 Fmax= 7.89857e+02, atom= 75\n",
      "Step= 4110, Dmax= 1.4e-03 nm, Epot= -1.49501e+05 Fmax= 4.49849e+02, atom= 75\n",
      "Step= 4112, Dmax= 8.2e-04 nm, Epot= -1.49502e+05 Fmax= 2.96867e+02, atom= 75\n",
      "Step= 4113, Dmax= 9.8e-04 nm, Epot= -1.49502e+05 Fmax= 5.98728e+02, atom= 72\n",
      "Step= 4114, Dmax= 1.2e-03 nm, Epot= -1.49503e+05 Fmax= 4.75973e+02, atom= 75\n",
      "Step= 4116, Dmax= 7.1e-04 nm, Epot= -1.49504e+05 Fmax= 1.66937e+02, atom= 72\n",
      "Step= 4117, Dmax= 8.5e-04 nm, Epot= -1.49505e+05 Fmax= 6.03590e+02, atom= 75\n",
      "Step= 4118, Dmax= 1.0e-03 nm, Epot= -1.49506e+05 Fmax= 3.22054e+02, atom= 72\n",
      "Step= 4120, Dmax= 6.1e-04 nm, Epot= -1.49506e+05 Fmax= 2.35088e+02, atom= 75\n",
      "Step= 4121, Dmax= 7.3e-04 nm, Epot= -1.49507e+05 Fmax= 4.33030e+02, atom= 72\n",
      "Step= 4122, Dmax= 8.8e-04 nm, Epot= -1.49508e+05 Fmax= 3.68791e+02, atom= 75\n",
      "Step= 4123, Dmax= 1.1e-03 nm, Epot= -1.49508e+05 Fmax= 5.93756e+02, atom= 72\n",
      "Step= 4124, Dmax= 1.3e-03 nm, Epot= -1.49509e+05 Fmax= 5.60317e+02, atom= 75\n",
      "Step= 4125, Dmax= 1.5e-03 nm, Epot= -1.49509e+05 Fmax= 8.26225e+02, atom= 72\n",
      "Step= 4126, Dmax= 1.8e-03 nm, Epot= -1.49509e+05 Fmax= 8.34948e+02, atom= 75\n",
      "Step= 4128, Dmax= 1.1e-03 nm, Epot= -1.49512e+05 Fmax= 1.57824e+02, atom= 72\n",
      "Step= 4130, Dmax= 6.6e-04 nm, Epot= -1.49512e+05 Fmax= 4.39680e+02, atom= 75\n",
      "Step= 4131, Dmax= 7.9e-04 nm, Epot= -1.49513e+05 Fmax= 2.77156e+02, atom= 75\n",
      "Step= 4132, Dmax= 9.4e-04 nm, Epot= -1.49514e+05 Fmax= 5.83442e+02, atom= 75\n",
      "Step= 4133, Dmax= 1.1e-03 nm, Epot= -1.49514e+05 Fmax= 4.49086e+02, atom= 75\n",
      "Step= 4134, Dmax= 1.4e-03 nm, Epot= -1.49514e+05 Fmax= 7.89528e+02, atom= 75\n",
      "Step= 4135, Dmax= 1.6e-03 nm, Epot= -1.49515e+05 Fmax= 6.97550e+02, atom= 75\n",
      "Step= 4137, Dmax= 9.8e-04 nm, Epot= -1.49517e+05 Fmax= 1.98348e+02, atom= 75\n",
      "Step= 4138, Dmax= 1.2e-03 nm, Epot= -1.49517e+05 Fmax= 8.77153e+02, atom= 72\n",
      "Step= 4139, Dmax= 1.4e-03 nm, Epot= -1.49519e+05 Fmax= 4.12106e+02, atom= 72\n",
      "Step= 4141, Dmax= 8.5e-04 nm, Epot= -1.49519e+05 Fmax= 3.59127e+02, atom= 72\n",
      "Step= 4142, Dmax= 1.0e-03 nm, Epot= -1.49520e+05 Fmax= 5.65001e+02, atom= 75\n",
      "Step= 4143, Dmax= 1.2e-03 nm, Epot= -1.49521e+05 Fmax= 5.45848e+02, atom= 72\n",
      "Step= 4145, Dmax= 7.3e-04 nm, Epot= -1.49522e+05 Fmax= 1.22509e+02, atom= 72\n",
      "Step= 4146, Dmax= 8.8e-04 nm, Epot= -1.49523e+05 Fmax= 6.79965e+02, atom= 72\n",
      "Step= 4147, Dmax= 1.1e-03 nm, Epot= -1.49525e+05 Fmax= 2.81920e+02, atom= 72\n",
      "Step= 4149, Dmax= 6.3e-04 nm, Epot= -1.49525e+05 Fmax= 2.94106e+02, atom= 72\n",
      "Step= 4150, Dmax= 7.6e-04 nm, Epot= -1.49526e+05 Fmax= 3.96011e+02, atom= 72\n",
      "Step= 4151, Dmax= 9.1e-04 nm, Epot= -1.49527e+05 Fmax= 4.33670e+02, atom= 72\n",
      "Step= 4152, Dmax= 1.1e-03 nm, Epot= -1.49527e+05 Fmax= 5.60344e+02, atom= 72\n",
      "Step= 4153, Dmax= 1.3e-03 nm, Epot= -1.49528e+05 Fmax= 6.34666e+02, atom= 72\n",
      "Step= 4154, Dmax= 1.6e-03 nm, Epot= -1.49528e+05 Fmax= 7.96547e+02, atom= 72\n",
      "Step= 4155, Dmax= 1.9e-03 nm, Epot= -1.49528e+05 Fmax= 9.24571e+02, atom= 72\n",
      "Step= 4157, Dmax= 1.1e-03 nm, Epot= -1.49530e+05 Fmax= 1.12606e+02, atom= 72\n",
      "Step= 4158, Dmax= 1.4e-03 nm, Epot= -1.49531e+05 Fmax= 1.13272e+03, atom= 72\n",
      "Step= 4159, Dmax= 1.6e-03 nm, Epot= -1.49534e+05 Fmax= 3.59058e+02, atom= 72\n",
      "Step= 4161, Dmax= 9.8e-04 nm, Epot= -1.49535e+05 Fmax= 5.33253e+02, atom= 72\n",
      "Step= 4162, Dmax= 1.2e-03 nm, Epot= -1.49535e+05 Fmax= 5.35521e+02, atom= 72\n",
      "Step= 4163, Dmax= 1.4e-03 nm, Epot= -1.49536e+05 Fmax= 7.49754e+02, atom= 72\n",
      "Step= 4164, Dmax= 1.7e-03 nm, Epot= -1.49536e+05 Fmax= 7.89307e+02, atom= 72\n",
      "Step= 4165, Dmax= 2.0e-03 nm, Epot= -1.49536e+05 Fmax= 1.06207e+03, atom= 72\n",
      "Step= 4167, Dmax= 1.2e-03 nm, Epot= -1.49539e+05 Fmax= 1.14895e+02, atom= 7730\n",
      "Step= 4168, Dmax= 1.5e-03 nm, Epot= -1.49542e+05 Fmax= 5.72565e+02, atom= 72\n",
      "Step= 4170, Dmax= 8.8e-04 nm, Epot= -1.49543e+05 Fmax= 2.26125e+02, atom= 72\n",
      "Step= 4171, Dmax= 1.1e-03 nm, Epot= -1.49543e+05 Fmax= 7.35333e+02, atom= 72\n",
      "Step= 4172, Dmax= 1.3e-03 nm, Epot= -1.49545e+05 Fmax= 4.15699e+02, atom= 72\n",
      "Step= 4174, Dmax= 7.6e-04 nm, Epot= -1.49545e+05 Fmax= 2.73780e+02, atom= 72\n",
      "Step= 4175, Dmax= 9.1e-04 nm, Epot= -1.49546e+05 Fmax= 5.51129e+02, atom= 72\n",
      "Step= 4176, Dmax= 1.1e-03 nm, Epot= -1.49547e+05 Fmax= 4.41945e+02, atom= 72\n",
      "Step= 4177, Dmax= 1.3e-03 nm, Epot= -1.49547e+05 Fmax= 7.46870e+02, atom= 72\n",
      "Step= 4178, Dmax= 1.6e-03 nm, Epot= -1.49548e+05 Fmax= 6.83439e+02, atom= 72\n",
      "Step= 4180, Dmax= 9.4e-04 nm, Epot= -1.49549e+05 Fmax= 1.77520e+02, atom= 72\n",
      "Step= 4181, Dmax= 1.1e-03 nm, Epot= -1.49550e+05 Fmax= 8.58072e+02, atom= 72\n",
      "Step= 4182, Dmax= 1.4e-03 nm, Epot= -1.49552e+05 Fmax= 3.81103e+02, atom= 72\n",
      "Step= 4184, Dmax= 8.1e-04 nm, Epot= -1.49552e+05 Fmax= 3.60834e+02, atom= 72\n",
      "Step= 4185, Dmax= 9.8e-04 nm, Epot= -1.49553e+05 Fmax= 5.27005e+02, atom= 72\n",
      "Step= 4186, Dmax= 1.2e-03 nm, Epot= -1.49553e+05 Fmax= 5.41500e+02, atom= 72\n",
      "Step= 4187, Dmax= 1.4e-03 nm, Epot= -1.49553e+05 Fmax= 7.37542e+02, atom= 72\n",
      "Step= 4188, Dmax= 1.7e-03 nm, Epot= -1.49554e+05 Fmax= 8.01246e+02, atom= 72\n",
      "Step= 4190, Dmax= 1.0e-03 nm, Epot= -1.49556e+05 Fmax= 1.25264e+02, atom= 72\n",
      "Step= 4191, Dmax= 1.2e-03 nm, Epot= -1.49557e+05 Fmax= 9.89379e+02, atom= 72\n",
      "Step= 4192, Dmax= 1.5e-03 nm, Epot= -1.49559e+05 Fmax= 3.43925e+02, atom= 72\n",
      "Step= 4194, Dmax= 8.7e-04 nm, Epot= -1.49560e+05 Fmax= 4.54116e+02, atom= 72\n",
      "Step= 4195, Dmax= 1.0e-03 nm, Epot= -1.49560e+05 Fmax= 5.01131e+02, atom= 72\n",
      "Step= 4196, Dmax= 1.3e-03 nm, Epot= -1.49561e+05 Fmax= 6.48323e+02, atom= 72\n",
      "Step= 4197, Dmax= 1.5e-03 nm, Epot= -1.49561e+05 Fmax= 7.27463e+02, atom= 72\n",
      "Step= 4198, Dmax= 1.8e-03 nm, Epot= -1.49562e+05 Fmax= 9.27983e+02, atom= 72\n",
      "Step= 4200, Dmax= 1.1e-03 nm, Epot= -1.49564e+05 Fmax= 1.14724e+02, atom= 7730\n",
      "Step= 4201, Dmax= 1.3e-03 nm, Epot= -1.49567e+05 Fmax= 6.52561e+02, atom= 72\n",
      "Step= 4203, Dmax= 7.8e-04 nm, Epot= -1.49568e+05 Fmax= 1.13669e+02, atom= 7730\n",
      "Step= 4204, Dmax= 9.4e-04 nm, Epot= -1.49570e+05 Fmax= 4.16917e+02, atom= 72\n",
      "Step= 4205, Dmax= 1.1e-03 nm, Epot= -1.49570e+05 Fmax= 6.09245e+02, atom= 72\n",
      "Step= 4206, Dmax= 1.4e-03 nm, Epot= -1.49571e+05 Fmax= 6.25503e+02, atom= 72\n",
      "Step= 4208, Dmax= 8.1e-04 nm, Epot= -1.49572e+05 Fmax= 1.17153e+02, atom= 72\n",
      "Step= 4209, Dmax= 9.7e-04 nm, Epot= -1.49573e+05 Fmax= 7.76390e+02, atom= 72\n",
      "Step= 4210, Dmax= 1.2e-03 nm, Epot= -1.49575e+05 Fmax= 2.92305e+02, atom= 72\n",
      "Step= 4212, Dmax= 7.0e-04 nm, Epot= -1.49576e+05 Fmax= 3.48170e+02, atom= 72\n",
      "Step= 4213, Dmax= 8.4e-04 nm, Epot= -1.49577e+05 Fmax= 4.18102e+02, atom= 72\n",
      "Step= 4214, Dmax= 1.0e-03 nm, Epot= -1.49577e+05 Fmax= 5.04138e+02, atom= 72\n",
      "Step= 4215, Dmax= 1.2e-03 nm, Epot= -1.49578e+05 Fmax= 5.99625e+02, atom= 72\n",
      "Step= 4216, Dmax= 1.5e-03 nm, Epot= -1.49578e+05 Fmax= 7.28495e+02, atom= 72\n",
      "Step= 4217, Dmax= 1.7e-03 nm, Epot= -1.49578e+05 Fmax= 8.60972e+02, atom= 72\n",
      "Step= 4219, Dmax= 1.0e-03 nm, Epot= -1.49580e+05 Fmax= 1.08794e+02, atom= 7730\n",
      "Step= 4220, Dmax= 1.3e-03 nm, Epot= -1.49582e+05 Fmax= 8.45512e+02, atom= 72\n",
      "Step= 4221, Dmax= 1.5e-03 nm, Epot= -1.49584e+05 Fmax= 5.28861e+02, atom= 72\n",
      "Step= 4223, Dmax= 9.1e-04 nm, Epot= -1.49585e+05 Fmax= 2.97874e+02, atom= 72\n",
      "Step= 4224, Dmax= 1.1e-03 nm, Epot= -1.49585e+05 Fmax= 6.96288e+02, atom= 72\n",
      "Step= 4225, Dmax= 1.3e-03 nm, Epot= -1.49586e+05 Fmax= 4.93481e+02, atom= 72\n",
      "Step= 4227, Dmax= 7.8e-04 nm, Epot= -1.49587e+05 Fmax= 2.18897e+02, atom= 72\n",
      "Step= 4228, Dmax= 9.4e-04 nm, Epot= -1.49588e+05 Fmax= 6.32977e+02, atom= 72\n",
      "Step= 4229, Dmax= 1.1e-03 nm, Epot= -1.49589e+05 Fmax= 3.92773e+02, atom= 72\n",
      "Step= 4231, Dmax= 6.8e-04 nm, Epot= -1.49589e+05 Fmax= 2.23608e+02, atom= 72\n",
      "Step= 4232, Dmax= 8.1e-04 nm, Epot= -1.49590e+05 Fmax= 5.18042e+02, atom= 72\n",
      "Step= 4233, Dmax= 9.7e-04 nm, Epot= -1.49591e+05 Fmax= 3.69360e+02, atom= 72\n",
      "Step= 4234, Dmax= 1.2e-03 nm, Epot= -1.49591e+05 Fmax= 6.98205e+02, atom= 72\n",
      "Step= 4235, Dmax= 1.4e-03 nm, Epot= -1.49592e+05 Fmax= 5.79579e+02, atom= 72\n",
      "Step= 4237, Dmax= 8.4e-04 nm, Epot= -1.49593e+05 Fmax= 1.85350e+02, atom= 72\n",
      "Step= 4238, Dmax= 1.0e-03 nm, Epot= -1.49594e+05 Fmax= 7.29105e+02, atom= 72\n",
      "Step= 4239, Dmax= 1.2e-03 nm, Epot= -1.49595e+05 Fmax= 3.72628e+02, atom= 72\n",
      "Step= 4241, Dmax= 7.3e-04 nm, Epot= -1.49596e+05 Fmax= 2.89621e+02, atom= 72\n",
      "Step= 4242, Dmax= 8.7e-04 nm, Epot= -1.49596e+05 Fmax= 5.07081e+02, atom= 72\n",
      "Step= 4243, Dmax= 1.0e-03 nm, Epot= -1.49597e+05 Fmax= 4.46358e+02, atom= 72\n",
      "Step= 4244, Dmax= 1.3e-03 nm, Epot= -1.49598e+05 Fmax= 7.00587e+02, atom= 72\n",
      "Step= 4245, Dmax= 1.5e-03 nm, Epot= -1.49598e+05 Fmax= 6.72347e+02, atom= 72\n",
      "Step= 4247, Dmax= 9.0e-04 nm, Epot= -1.49600e+05 Fmax= 1.49236e+02, atom= 72\n",
      "Step= 4248, Dmax= 1.1e-03 nm, Epot= -1.49601e+05 Fmax= 8.32513e+02, atom= 72\n",
      "Step= 4249, Dmax= 1.3e-03 nm, Epot= -1.49602e+05 Fmax= 3.50925e+02, atom= 72\n",
      "Step= 4251, Dmax= 7.8e-04 nm, Epot= -1.49603e+05 Fmax= 3.60636e+02, atom= 72\n",
      "Step= 4252, Dmax= 9.4e-04 nm, Epot= -1.49604e+05 Fmax= 4.95146e+02, atom= 72\n",
      "Step= 4253, Dmax= 1.1e-03 nm, Epot= -1.49604e+05 Fmax= 5.29379e+02, atom= 72\n",
      "Step= 4254, Dmax= 1.3e-03 nm, Epot= -1.49604e+05 Fmax= 7.02750e+02, atom= 72\n",
      "Step= 4255, Dmax= 1.6e-03 nm, Epot= -1.49605e+05 Fmax= 7.72327e+02, atom= 72\n",
      "Step= 4257, Dmax= 9.7e-04 nm, Epot= -1.49607e+05 Fmax= 1.09948e+02, atom= 72\n",
      "Step= 4258, Dmax= 1.2e-03 nm, Epot= -1.49608e+05 Fmax= 9.43242e+02, atom= 72\n",
      "Step= 4259, Dmax= 1.4e-03 nm, Epot= -1.49610e+05 Fmax= 3.28059e+02, atom= 72\n",
      "Step= 4261, Dmax= 8.4e-04 nm, Epot= -1.49611e+05 Fmax= 4.36522e+02, atom= 72\n",
      "Step= 4262, Dmax= 1.0e-03 nm, Epot= -1.49612e+05 Fmax= 4.82991e+02, atom= 72\n",
      "Step= 4263, Dmax= 1.2e-03 nm, Epot= -1.49612e+05 Fmax= 6.17934e+02, atom= 72\n",
      "Step= 4264, Dmax= 1.5e-03 nm, Epot= -1.49612e+05 Fmax= 7.05744e+02, atom= 72\n",
      "Step= 4265, Dmax= 1.7e-03 nm, Epot= -1.49613e+05 Fmax= 8.79163e+02, atom= 72\n",
      "Step= 4267, Dmax= 1.0e-03 nm, Epot= -1.49615e+05 Fmax= 8.72663e+01, atom= 7730\n",
      "Step= 4268, Dmax= 1.3e-03 nm, Epot= -1.49617e+05 Fmax= 8.21871e+02, atom= 75\n",
      "Step= 4269, Dmax= 1.5e-03 nm, Epot= -1.49619e+05 Fmax= 5.46798e+02, atom= 75\n",
      "Step= 4271, Dmax= 9.0e-04 nm, Epot= -1.49620e+05 Fmax= 2.77906e+02, atom= 75\n",
      "Step= 4272, Dmax= 1.1e-03 nm, Epot= -1.49621e+05 Fmax= 7.11331e+02, atom= 72\n",
      "Step= 4273, Dmax= 1.3e-03 nm, Epot= -1.49621e+05 Fmax= 4.75380e+02, atom= 75\n",
      "Step= 4275, Dmax= 7.8e-04 nm, Epot= -1.49622e+05 Fmax= 2.34557e+02, atom= 72\n",
      "Step= 4276, Dmax= 9.4e-04 nm, Epot= -1.49623e+05 Fmax= 6.16098e+02, atom= 75\n",
      "Step= 4277, Dmax= 1.1e-03 nm, Epot= -1.49624e+05 Fmax= 4.05985e+02, atom= 72\n",
      "Step= 4279, Dmax= 6.7e-04 nm, Epot= -1.49624e+05 Fmax= 2.09124e+02, atom= 75\n",
      "Step= 4280, Dmax= 8.1e-04 nm, Epot= -1.49625e+05 Fmax= 5.29064e+02, atom= 72\n",
      "Step= 4281, Dmax= 9.7e-04 nm, Epot= -1.49626e+05 Fmax= 3.56035e+02, atom= 75\n",
      "Step= 4282, Dmax= 1.2e-03 nm, Epot= -1.49626e+05 Fmax= 7.07563e+02, atom= 72\n",
      "Step= 4283, Dmax= 1.4e-03 nm, Epot= -1.49627e+05 Fmax= 5.66615e+02, atom= 72\n",
      "Step= 4285, Dmax= 8.4e-04 nm, Epot= -1.49628e+05 Fmax= 1.95823e+02, atom= 72\n",
      "Step= 4286, Dmax= 1.0e-03 nm, Epot= -1.49629e+05 Fmax= 7.17264e+02, atom= 75\n",
      "Step= 4287, Dmax= 1.2e-03 nm, Epot= -1.49630e+05 Fmax= 3.80626e+02, atom= 72\n",
      "Step= 4289, Dmax= 7.2e-04 nm, Epot= -1.49631e+05 Fmax= 2.80118e+02, atom= 75\n",
      "Step= 4290, Dmax= 8.7e-04 nm, Epot= -1.49632e+05 Fmax= 5.13120e+02, atom= 72\n",
      "Step= 4291, Dmax= 1.0e-03 nm, Epot= -1.49632e+05 Fmax= 4.37762e+02, atom= 75\n",
      "Step= 4292, Dmax= 1.3e-03 nm, Epot= -1.49633e+05 Fmax= 7.04952e+02, atom= 72\n",
      "Step= 4293, Dmax= 1.5e-03 nm, Epot= -1.49633e+05 Fmax= 6.64003e+02, atom= 72\n",
      "Step= 4295, Dmax= 9.0e-04 nm, Epot= -1.49634e+05 Fmax= 1.54833e+02, atom= 72\n",
      "Step= 4296, Dmax= 1.1e-03 nm, Epot= -1.49635e+05 Fmax= 8.26329e+02, atom= 75\n",
      "Step= 4297, Dmax= 1.3e-03 nm, Epot= -1.49637e+05 Fmax= 3.52788e+02, atom= 75\n",
      "Step= 4299, Dmax= 7.8e-04 nm, Epot= -1.49638e+05 Fmax= 3.57423e+02, atom= 75\n",
      "Step= 4300, Dmax= 9.3e-04 nm, Epot= -1.49638e+05 Fmax= 4.94439e+02, atom= 72\n",
      "Step= 4301, Dmax= 1.1e-03 nm, Epot= -1.49639e+05 Fmax= 5.27643e+02, atom= 75\n",
      "Step= 4303, Dmax= 6.7e-04 nm, Epot= -1.49640e+05 Fmax= 8.40713e+01, atom= 72\n",
      "Step= 4304, Dmax= 8.1e-04 nm, Epot= -1.49642e+05 Fmax= 6.48421e+02, atom= 75\n",
      "Step= 4305, Dmax= 9.7e-04 nm, Epot= -1.49643e+05 Fmax= 2.31993e+02, atom= 75\n",
      "Step= 4307, Dmax= 5.8e-04 nm, Epot= -1.49644e+05 Fmax= 2.98331e+02, atom= 75\n",
      "Step= 4308, Dmax= 7.0e-04 nm, Epot= -1.49644e+05 Fmax= 3.36940e+02, atom= 75\n",
      "Step= 4309, Dmax= 8.4e-04 nm, Epot= -1.49645e+05 Fmax= 4.26190e+02, atom= 75\n",
      "Step= 4310, Dmax= 1.0e-03 nm, Epot= -1.49646e+05 Fmax= 4.88922e+02, atom= 75\n",
      "Step= 4311, Dmax= 1.2e-03 nm, Epot= -1.49646e+05 Fmax= 6.09438e+02, atom= 75\n",
      "Step= 4312, Dmax= 1.4e-03 nm, Epot= -1.49646e+05 Fmax= 7.08644e+02, atom= 75\n",
      "Step= 4313, Dmax= 1.7e-03 nm, Epot= -1.49647e+05 Fmax= 8.72460e+02, atom= 75\n",
      "Step= 4315, Dmax= 1.0e-03 nm, Epot= -1.49649e+05 Fmax= 7.20604e+01, atom= 75\n",
      "Step= 4316, Dmax= 1.2e-03 nm, Epot= -1.49652e+05 Fmax= 1.06360e+03, atom= 75\n",
      "Step= 4317, Dmax= 1.5e-03 nm, Epot= -1.49655e+05 Fmax= 2.97146e+02, atom= 75\n",
      "Step= 4319, Dmax= 9.0e-04 nm, Epot= -1.49655e+05 Fmax= 5.23084e+02, atom= 75\n",
      "Step= 4320, Dmax= 1.1e-03 nm, Epot= -1.49656e+05 Fmax= 4.60574e+02, atom= 75\n",
      "Step= 4322, Dmax= 6.5e-04 nm, Epot= -1.49656e+05 Fmax= 1.31323e+02, atom= 75\n",
      "Step= 4323, Dmax= 7.8e-04 nm, Epot= -1.49657e+05 Fmax= 5.77734e+02, atom= 75\n",
      "Step= 4324, Dmax= 9.3e-04 nm, Epot= -1.49659e+05 Fmax= 2.74333e+02, atom= 75\n",
      "Step= 4326, Dmax= 5.6e-04 nm, Epot= -1.49659e+05 Fmax= 2.35126e+02, atom= 75\n",
      "Step= 4327, Dmax= 6.7e-04 nm, Epot= -1.49660e+05 Fmax= 3.77029e+02, atom= 75\n",
      "Step= 4328, Dmax= 8.1e-04 nm, Epot= -1.49661e+05 Fmax= 3.56824e+02, atom= 75\n",
      "Step= 4329, Dmax= 9.7e-04 nm, Epot= -1.49661e+05 Fmax= 5.24387e+02, atom= 75\n",
      "Step= 4330, Dmax= 1.2e-03 nm, Epot= -1.49662e+05 Fmax= 5.32678e+02, atom= 75\n",
      "Step= 4331, Dmax= 1.4e-03 nm, Epot= -1.49662e+05 Fmax= 7.35728e+02, atom= 75\n",
      "Step= 4332, Dmax= 1.7e-03 nm, Epot= -1.49662e+05 Fmax= 7.86839e+02, atom= 75\n",
      "Step= 4334, Dmax= 1.0e-03 nm, Epot= -1.49664e+05 Fmax= 1.30567e+02, atom= 75\n",
      "Step= 4335, Dmax= 1.2e-03 nm, Epot= -1.49665e+05 Fmax= 9.69841e+02, atom= 72\n",
      "Step= 4336, Dmax= 1.4e-03 nm, Epot= -1.49667e+05 Fmax= 3.50586e+02, atom= 75\n",
      "Step= 4338, Dmax= 8.7e-04 nm, Epot= -1.49668e+05 Fmax= 4.39091e+02, atom= 72\n",
      "Step= 4339, Dmax= 1.0e-03 nm, Epot= -1.49669e+05 Fmax= 5.07554e+02, atom= 75\n",
      "Step= 4340, Dmax= 1.2e-03 nm, Epot= -1.49669e+05 Fmax= 6.29742e+02, atom= 72\n",
      "Step= 4341, Dmax= 1.5e-03 nm, Epot= -1.49669e+05 Fmax= 7.33601e+02, atom= 75\n",
      "Step= 4342, Dmax= 1.8e-03 nm, Epot= -1.49669e+05 Fmax= 9.04427e+02, atom= 72\n",
      "Step= 4343, Dmax= 2.2e-03 nm, Epot= -1.49669e+05 Fmax= 1.05861e+03, atom= 75\n",
      "Step= 4345, Dmax= 1.3e-03 nm, Epot= -1.49672e+05 Fmax= 1.13413e+02, atom= 75\n",
      "Step= 4346, Dmax= 1.6e-03 nm, Epot= -1.49672e+05 Fmax= 1.29449e+03, atom= 75\n",
      "Step= 4347, Dmax= 1.9e-03 nm, Epot= -1.49676e+05 Fmax= 3.94493e+02, atom= 75\n",
      "Step= 4349, Dmax= 1.1e-03 nm, Epot= -1.49677e+05 Fmax= 6.24107e+02, atom= 75\n",
      "Step= 4350, Dmax= 1.3e-03 nm, Epot= -1.49677e+05 Fmax= 5.97910e+02, atom= 75\n",
      "Step= 4352, Dmax= 8.0e-04 nm, Epot= -1.49679e+05 Fmax= 1.37814e+02, atom= 75\n",
      "Step= 4353, Dmax= 9.7e-04 nm, Epot= -1.49679e+05 Fmax= 7.43658e+02, atom= 75\n",
      "Step= 4354, Dmax= 1.2e-03 nm, Epot= -1.49681e+05 Fmax= 3.15195e+02, atom= 75\n",
      "Step= 4356, Dmax= 7.0e-04 nm, Epot= -1.49682e+05 Fmax= 3.17930e+02, atom= 75\n",
      "Step= 4357, Dmax= 8.3e-04 nm, Epot= -1.49682e+05 Fmax= 4.42255e+02, atom= 75\n",
      "Step= 4358, Dmax= 1.0e-03 nm, Epot= -1.49683e+05 Fmax= 4.69553e+02, atom= 75\n",
      "Step= 4359, Dmax= 1.2e-03 nm, Epot= -1.49683e+05 Fmax= 6.24819e+02, atom= 75\n",
      "Step= 4360, Dmax= 1.4e-03 nm, Epot= -1.49684e+05 Fmax= 6.88565e+02, atom= 75\n",
      "Step= 4361, Dmax= 1.7e-03 nm, Epot= -1.49684e+05 Fmax= 8.86908e+02, atom= 75\n",
      "Step= 4362, Dmax= 2.1e-03 nm, Epot= -1.49684e+05 Fmax= 1.00501e+03, atom= 75\n",
      "Step= 4364, Dmax= 1.2e-03 nm, Epot= -1.49687e+05 Fmax= 1.35909e+02, atom= 72\n",
      "Step= 4366, Dmax= 7.5e-04 nm, Epot= -1.49688e+05 Fmax= 5.46881e+02, atom= 72\n",
      "Step= 4367, Dmax= 9.0e-04 nm, Epot= -1.49688e+05 Fmax= 2.70980e+02, atom= 72\n",
      "Step= 4368, Dmax= 1.1e-03 nm, Epot= -1.49689e+05 Fmax= 7.12362e+02, atom= 72\n",
      "Step= 4369, Dmax= 1.3e-03 nm, Epot= -1.49690e+05 Fmax= 4.65565e+02, atom= 72\n",
      "Step= 4371, Dmax= 7.7e-04 nm, Epot= -1.49691e+05 Fmax= 2.39623e+02, atom= 72\n",
      "Step= 4372, Dmax= 9.3e-04 nm, Epot= -1.49691e+05 Fmax= 6.04848e+02, atom= 75\n",
      "Step= 4373, Dmax= 1.1e-03 nm, Epot= -1.49692e+05 Fmax= 4.10895e+02, atom= 72\n",
      "Step= 4375, Dmax= 6.7e-04 nm, Epot= -1.49693e+05 Fmax= 1.99985e+02, atom= 75\n",
      "Step= 4376, Dmax= 8.0e-04 nm, Epot= -1.49694e+05 Fmax= 5.33475e+02, atom= 72\n",
      "Step= 4377, Dmax= 9.6e-04 nm, Epot= -1.49695e+05 Fmax= 3.45824e+02, atom= 72\n",
      "Step= 4378, Dmax= 1.2e-03 nm, Epot= -1.49695e+05 Fmax= 7.11069e+02, atom= 72\n",
      "Step= 4379, Dmax= 1.4e-03 nm, Epot= -1.49696e+05 Fmax= 5.54785e+02, atom= 72\n",
      "Step= 4381, Dmax= 8.3e-04 nm, Epot= -1.49697e+05 Fmax= 2.02708e+02, atom= 72\n",
      "Step= 4382, Dmax= 1.0e-03 nm, Epot= -1.49698e+05 Fmax= 7.04424e+02, atom= 75\n",
      "Step= 4383, Dmax= 1.2e-03 nm, Epot= -1.49699e+05 Fmax= 3.86401e+02, atom= 72\n",
      "Step= 4385, Dmax= 7.2e-04 nm, Epot= -1.49699e+05 Fmax= 2.70076e+02, atom= 75\n",
      "Step= 4386, Dmax= 8.6e-04 nm, Epot= -1.49700e+05 Fmax= 5.18135e+02, atom= 72\n",
      "Step= 4387, Dmax= 1.0e-03 nm, Epot= -1.49701e+05 Fmax= 4.26719e+02, atom= 75\n",
      "Step= 4388, Dmax= 1.2e-03 nm, Epot= -1.49701e+05 Fmax= 7.08527e+02, atom= 72\n",
      "Step= 4389, Dmax= 1.5e-03 nm, Epot= -1.49702e+05 Fmax= 6.51622e+02, atom= 72\n",
      "Step= 4391, Dmax= 9.0e-04 nm, Epot= -1.49703e+05 Fmax= 1.62052e+02, atom= 72\n",
      "Step= 4392, Dmax= 1.1e-03 nm, Epot= -1.49703e+05 Fmax= 8.12757e+02, atom= 75\n",
      "Step= 4393, Dmax= 1.3e-03 nm, Epot= -1.49705e+05 Fmax= 3.58735e+02, atom= 75\n",
      "Step= 4395, Dmax= 7.7e-04 nm, Epot= -1.49706e+05 Fmax= 3.47022e+02, atom= 75\n",
      "Step= 4396, Dmax= 9.3e-04 nm, Epot= -1.49707e+05 Fmax= 4.99170e+02, atom= 72\n",
      "Step= 4397, Dmax= 1.1e-03 nm, Epot= -1.49707e+05 Fmax= 5.16519e+02, atom= 75\n",
      "Step= 4398, Dmax= 1.3e-03 nm, Epot= -1.49708e+05 Fmax= 7.02279e+02, atom= 72\n",
      "Step= 4399, Dmax= 1.6e-03 nm, Epot= -1.49708e+05 Fmax= 7.59769e+02, atom= 75\n",
      "Step= 4401, Dmax= 9.6e-04 nm, Epot= -1.49710e+05 Fmax= 1.13809e+02, atom= 72\n",
      "Step= 4402, Dmax= 1.2e-03 nm, Epot= -1.49710e+05 Fmax= 9.34740e+02, atom= 75\n",
      "Step= 4403, Dmax= 1.4e-03 nm, Epot= -1.49713e+05 Fmax= 3.23806e+02, atom= 75\n",
      "Step= 4405, Dmax= 8.3e-04 nm, Epot= -1.49713e+05 Fmax= 4.34376e+02, atom= 75\n",
      "Step= 4406, Dmax= 1.0e-03 nm, Epot= -1.49714e+05 Fmax= 4.74843e+02, atom= 75\n",
      "Step= 4407, Dmax= 1.2e-03 nm, Epot= -1.49714e+05 Fmax= 6.16419e+02, atom= 75\n",
      "Step= 4408, Dmax= 1.4e-03 nm, Epot= -1.49715e+05 Fmax= 6.92982e+02, atom= 75\n",
      "Step= 4409, Dmax= 1.7e-03 nm, Epot= -1.49715e+05 Fmax= 8.77732e+02, atom= 75\n",
      "Step= 4410, Dmax= 2.1e-03 nm, Epot= -1.49715e+05 Fmax= 1.00840e+03, atom= 75\n",
      "Step= 4412, Dmax= 1.2e-03 nm, Epot= -1.49718e+05 Fmax= 1.29002e+02, atom= 72\n",
      "Step= 4414, Dmax= 7.4e-04 nm, Epot= -1.49719e+05 Fmax= 5.51819e+02, atom= 72\n",
      "Step= 4415, Dmax= 8.9e-04 nm, Epot= -1.49720e+05 Fmax= 2.63447e+02, atom= 72\n",
      "Step= 4416, Dmax= 1.1e-03 nm, Epot= -1.49720e+05 Fmax= 7.16916e+02, atom= 72\n",
      "Step= 4417, Dmax= 1.3e-03 nm, Epot= -1.49721e+05 Fmax= 4.57229e+02, atom= 72\n",
      "Step= 4419, Dmax= 7.7e-04 nm, Epot= -1.49722e+05 Fmax= 2.45625e+02, atom= 72\n",
      "Step= 4421, Dmax= 4.6e-04 nm, Epot= -1.49722e+05 Fmax= 1.76592e+02, atom= 75\n",
      "Step= 4422, Dmax= 5.6e-04 nm, Epot= -1.49723e+05 Fmax= 3.30856e+02, atom= 72\n",
      "Step= 4423, Dmax= 6.7e-04 nm, Epot= -1.49724e+05 Fmax= 2.77052e+02, atom= 75\n",
      "Step= 4424, Dmax= 8.0e-04 nm, Epot= -1.49725e+05 Fmax= 4.53795e+02, atom= 72\n",
      "Step= 4425, Dmax= 9.6e-04 nm, Epot= -1.49725e+05 Fmax= 4.21603e+02, atom= 72\n",
      "Step= 4426, Dmax= 1.2e-03 nm, Epot= -1.49725e+05 Fmax= 6.30868e+02, atom= 72\n",
      "Step= 4427, Dmax= 1.4e-03 nm, Epot= -1.49726e+05 Fmax= 6.29589e+02, atom= 72\n",
      "Step= 4429, Dmax= 8.3e-04 nm, Epot= -1.49727e+05 Fmax= 1.24834e+02, atom= 72\n",
      "Step= 4430, Dmax= 1.0e-03 nm, Epot= -1.49728e+05 Fmax= 7.78556e+02, atom= 75\n",
      "Step= 4431, Dmax= 1.2e-03 nm, Epot= -1.49730e+05 Fmax= 3.07758e+02, atom= 72\n",
      "Step= 4433, Dmax= 7.2e-04 nm, Epot= -1.49731e+05 Fmax= 3.46319e+02, atom= 75\n",
      "Step= 4434, Dmax= 8.6e-04 nm, Epot= -1.49731e+05 Fmax= 4.38237e+02, atom= 72\n",
      "Step= 4435, Dmax= 1.0e-03 nm, Epot= -1.49732e+05 Fmax= 5.03224e+02, atom= 75\n",
      "Step= 4436, Dmax= 1.2e-03 nm, Epot= -1.49732e+05 Fmax= 6.26725e+02, atom= 72\n",
      "Step= 4437, Dmax= 1.5e-03 nm, Epot= -1.49733e+05 Fmax= 7.28364e+02, atom= 75\n",
      "Step= 4438, Dmax= 1.8e-03 nm, Epot= -1.49733e+05 Fmax= 8.99188e+02, atom= 72\n",
      "Step= 4439, Dmax= 2.1e-03 nm, Epot= -1.49733e+05 Fmax= 1.05145e+03, atom= 75\n",
      "Step= 4441, Dmax= 1.3e-03 nm, Epot= -1.49736e+05 Fmax= 1.12899e+02, atom= 75\n",
      "Step= 4443, Dmax= 7.7e-04 nm, Epot= -1.49737e+05 Fmax= 5.89439e+02, atom= 75\n",
      "Step= 4444, Dmax= 9.3e-04 nm, Epot= -1.49738e+05 Fmax= 2.52192e+02, atom= 75\n",
      "Step= 4446, Dmax= 5.6e-04 nm, Epot= -1.49739e+05 Fmax= 2.54414e+02, atom= 75\n",
      "Step= 4447, Dmax= 6.7e-04 nm, Epot= -1.49739e+05 Fmax= 3.52586e+02, atom= 75\n",
      "Step= 4448, Dmax= 8.0e-04 nm, Epot= -1.49740e+05 Fmax= 3.76619e+02, atom= 75\n",
      "Step= 4449, Dmax= 9.6e-04 nm, Epot= -1.49740e+05 Fmax= 4.97697e+02, atom= 75\n",
      "Step= 4450, Dmax= 1.2e-03 nm, Epot= -1.49741e+05 Fmax= 5.51880e+02, atom= 75\n",
      "Step= 4451, Dmax= 1.4e-03 nm, Epot= -1.49742e+05 Fmax= 7.07460e+02, atom= 75\n",
      "Step= 4452, Dmax= 1.7e-03 nm, Epot= -1.49742e+05 Fmax= 8.03280e+02, atom= 75\n",
      "Step= 4454, Dmax= 9.9e-04 nm, Epot= -1.49744e+05 Fmax= 9.91976e+01, atom= 75\n",
      "Step= 4455, Dmax= 1.2e-03 nm, Epot= -1.49745e+05 Fmax= 9.85801e+02, atom= 75\n",
      "Step= 4456, Dmax= 1.4e-03 nm, Epot= -1.49748e+05 Fmax= 3.14390e+02, atom= 75\n",
      "Step= 4458, Dmax= 8.6e-04 nm, Epot= -1.49748e+05 Fmax= 4.69128e+02, atom= 75\n",
      "Step= 4459, Dmax= 1.0e-03 nm, Epot= -1.49749e+05 Fmax= 4.70405e+02, atom= 75\n",
      "Step= 4460, Dmax= 1.2e-03 nm, Epot= -1.49749e+05 Fmax= 6.57210e+02, atom= 75\n",
      "Step= 4461, Dmax= 1.5e-03 nm, Epot= -1.49750e+05 Fmax= 6.95763e+02, atom= 75\n",
      "Step= 4462, Dmax= 1.8e-03 nm, Epot= -1.49750e+05 Fmax= 9.27266e+02, atom= 75\n",
      "Step= 4463, Dmax= 2.1e-03 nm, Epot= -1.49750e+05 Fmax= 1.02150e+03, atom= 75\n",
      "Step= 4465, Dmax= 1.3e-03 nm, Epot= -1.49753e+05 Fmax= 1.53645e+02, atom= 75\n",
      "Step= 4467, Dmax= 7.7e-04 nm, Epot= -1.49753e+05 Fmax= 5.48534e+02, atom= 72\n",
      "Step= 4468, Dmax= 9.2e-04 nm, Epot= -1.49755e+05 Fmax= 2.94502e+02, atom= 75\n",
      "Step= 4470, Dmax= 5.5e-04 nm, Epot= -1.49755e+05 Fmax= 2.09953e+02, atom= 72\n",
      "Step= 4471, Dmax= 6.7e-04 nm, Epot= -1.49756e+05 Fmax= 3.95696e+02, atom= 75\n",
      "Step= 4472, Dmax= 8.0e-04 nm, Epot= -1.49757e+05 Fmax= 3.30712e+02, atom= 75\n",
      "Step= 4473, Dmax= 9.6e-04 nm, Epot= -1.49757e+05 Fmax= 5.41737e+02, atom= 75\n",
      "Step= 4474, Dmax= 1.1e-03 nm, Epot= -1.49758e+05 Fmax= 5.04649e+02, atom= 75\n",
      "Step= 4475, Dmax= 1.4e-03 nm, Epot= -1.49758e+05 Fmax= 7.51345e+02, atom= 75\n",
      "Step= 4476, Dmax= 1.7e-03 nm, Epot= -1.49758e+05 Fmax= 7.55961e+02, atom= 75\n",
      "Step= 4478, Dmax= 9.9e-04 nm, Epot= -1.49760e+05 Fmax= 1.52437e+02, atom= 75\n",
      "Step= 4479, Dmax= 1.2e-03 nm, Epot= -1.49761e+05 Fmax= 9.37558e+02, atom= 72\n",
      "Step= 4480, Dmax= 1.4e-03 nm, Epot= -1.49762e+05 Fmax= 3.69494e+02, atom= 75\n",
      "Step= 4482, Dmax= 8.6e-04 nm, Epot= -1.49763e+05 Fmax= 4.12551e+02, atom= 72\n",
      "Step= 4483, Dmax= 1.0e-03 nm, Epot= -1.49764e+05 Fmax= 5.24526e+02, atom= 75\n",
      "Step= 4484, Dmax= 1.2e-03 nm, Epot= -1.49764e+05 Fmax= 6.01683e+02, atom= 72\n",
      "Step= 4485, Dmax= 1.5e-03 nm, Epot= -1.49765e+05 Fmax= 7.47799e+02, atom= 75\n",
      "Step= 4487, Dmax= 8.9e-04 nm, Epot= -1.49766e+05 Fmax= 1.01409e+02, atom= 9915\n",
      "Step= 4488, Dmax= 1.1e-03 nm, Epot= -1.49769e+05 Fmax= 5.09530e+02, atom= 75\n",
      "Step= 4489, Dmax= 1.3e-03 nm, Epot= -1.49769e+05 Fmax= 6.58569e+02, atom= 75\n",
      "Step= 4490, Dmax= 1.5e-03 nm, Epot= -1.49770e+05 Fmax= 7.43026e+02, atom= 75\n",
      "Step= 4492, Dmax= 9.2e-04 nm, Epot= -1.49771e+05 Fmax= 1.04122e+02, atom= 9915\n",
      "Step= 4493, Dmax= 1.1e-03 nm, Epot= -1.49773e+05 Fmax= 8.18978e+02, atom= 75\n",
      "Step= 4494, Dmax= 1.3e-03 nm, Epot= -1.49775e+05 Fmax= 3.88015e+02, atom= 75\n",
      "Step= 4496, Dmax= 8.0e-04 nm, Epot= -1.49776e+05 Fmax= 3.39117e+02, atom= 75\n",
      "Step= 4497, Dmax= 9.6e-04 nm, Epot= -1.49776e+05 Fmax= 5.32506e+02, atom= 75\n",
      "Step= 4498, Dmax= 1.1e-03 nm, Epot= -1.49777e+05 Fmax= 5.14126e+02, atom= 75\n",
      "Step= 4499, Dmax= 1.4e-03 nm, Epot= -1.49777e+05 Fmax= 7.41431e+02, atom= 75\n",
      "Step= 4500, Dmax= 1.7e-03 nm, Epot= -1.49778e+05 Fmax= 7.64993e+02, atom= 75\n",
      "Step= 4502, Dmax= 9.9e-04 nm, Epot= -1.49780e+05 Fmax= 1.34966e+02, atom= 75\n",
      "Step= 4503, Dmax= 1.2e-03 nm, Epot= -1.49780e+05 Fmax= 9.46605e+02, atom= 75\n",
      "Step= 4504, Dmax= 1.4e-03 nm, Epot= -1.49783e+05 Fmax= 3.49809e+02, atom= 75\n",
      "Step= 4506, Dmax= 8.6e-04 nm, Epot= -1.49783e+05 Fmax= 4.31347e+02, atom= 75\n",
      "Step= 4507, Dmax= 1.0e-03 nm, Epot= -1.49784e+05 Fmax= 5.05325e+02, atom= 75\n",
      "Step= 4508, Dmax= 1.2e-03 nm, Epot= -1.49784e+05 Fmax= 6.18939e+02, atom= 75\n",
      "Step= 4509, Dmax= 1.5e-03 nm, Epot= -1.49785e+05 Fmax= 7.29998e+02, atom= 75\n",
      "Step= 4510, Dmax= 1.8e-03 nm, Epot= -1.49785e+05 Fmax= 8.88275e+02, atom= 75\n",
      "Step= 4512, Dmax= 1.1e-03 nm, Epot= -1.49787e+05 Fmax= 1.12540e+02, atom= 9915\n",
      "Step= 4513, Dmax= 1.3e-03 nm, Epot= -1.49789e+05 Fmax= 7.32972e+02, atom= 75\n",
      "Step= 4514, Dmax= 1.5e-03 nm, Epot= -1.49790e+05 Fmax= 6.64481e+02, atom= 75\n",
      "Step= 4516, Dmax= 9.2e-04 nm, Epot= -1.49792e+05 Fmax= 1.77452e+02, atom= 75\n",
      "Step= 4517, Dmax= 1.1e-03 nm, Epot= -1.49792e+05 Fmax= 8.31489e+02, atom= 75\n",
      "Step= 4518, Dmax= 1.3e-03 nm, Epot= -1.49794e+05 Fmax= 3.80317e+02, atom= 75\n",
      "Step= 4520, Dmax= 8.0e-04 nm, Epot= -1.49794e+05 Fmax= 3.43887e+02, atom= 75\n",
      "Step= 4521, Dmax= 9.5e-04 nm, Epot= -1.49795e+05 Fmax= 5.25882e+02, atom= 75\n",
      "Step= 4522, Dmax= 1.1e-03 nm, Epot= -1.49796e+05 Fmax= 5.17186e+02, atom= 75\n",
      "Step= 4523, Dmax= 1.4e-03 nm, Epot= -1.49796e+05 Fmax= 7.34806e+02, atom= 75\n",
      "Step= 4524, Dmax= 1.6e-03 nm, Epot= -1.49797e+05 Fmax= 7.67802e+02, atom= 75\n",
      "Step= 4526, Dmax= 9.9e-04 nm, Epot= -1.49799e+05 Fmax= 1.37577e+02, atom= 75\n",
      "Step= 4527, Dmax= 1.2e-03 nm, Epot= -1.49799e+05 Fmax= 9.47076e+02, atom= 75\n",
      "Step= 4528, Dmax= 1.4e-03 nm, Epot= -1.49802e+05 Fmax= 3.56311e+02, atom= 75\n",
      "Step= 4530, Dmax= 8.6e-04 nm, Epot= -1.49802e+05 Fmax= 4.22431e+02, atom= 75\n",
      "Step= 4531, Dmax= 1.0e-03 nm, Epot= -1.49802e+05 Fmax= 5.12738e+02, atom= 75\n",
      "Step= 4532, Dmax= 1.2e-03 nm, Epot= -1.49803e+05 Fmax= 6.08926e+02, atom= 75\n",
      "Step= 4533, Dmax= 1.5e-03 nm, Epot= -1.49803e+05 Fmax= 7.37369e+02, atom= 75\n",
      "Step= 4534, Dmax= 1.8e-03 nm, Epot= -1.49804e+05 Fmax= 8.78606e+02, atom= 75\n",
      "Step= 4536, Dmax= 1.1e-03 nm, Epot= -1.49806e+05 Fmax= 1.23216e+02, atom= 9915\n",
      "Step= 4537, Dmax= 1.3e-03 nm, Epot= -1.49808e+05 Fmax= 8.08905e+02, atom= 72\n",
      "Step= 4538, Dmax= 1.5e-03 nm, Epot= -1.49809e+05 Fmax= 5.87706e+02, atom= 72\n",
      "Step= 4540, Dmax= 9.2e-04 nm, Epot= -1.49810e+05 Fmax= 2.47960e+02, atom= 72\n",
      "Step= 4541, Dmax= 1.1e-03 nm, Epot= -1.49810e+05 Fmax= 7.53680e+02, atom= 75\n",
      "Step= 4542, Dmax= 1.3e-03 nm, Epot= -1.49812e+05 Fmax= 4.50042e+02, atom= 72\n",
      "Step= 4544, Dmax= 7.9e-04 nm, Epot= -1.49813e+05 Fmax= 2.74849e+02, atom= 75\n",
      "Step= 4545, Dmax= 9.5e-04 nm, Epot= -1.49813e+05 Fmax= 5.94782e+02, atom= 72\n",
      "Step= 4546, Dmax= 1.1e-03 nm, Epot= -1.49814e+05 Fmax= 4.48538e+02, atom= 75\n",
      "Step= 4548, Dmax= 6.9e-04 nm, Epot= -1.49815e+05 Fmax= 1.75864e+02, atom= 72\n",
      "Step= 4549, Dmax= 8.2e-04 nm, Epot= -1.49816e+05 Fmax= 5.72518e+02, atom= 75\n",
      "Step= 4550, Dmax= 9.9e-04 nm, Epot= -1.49817e+05 Fmax= 3.26322e+02, atom= 72\n",
      "Step= 4551, Dmax= 1.2e-03 nm, Epot= -1.49817e+05 Fmax= 7.52478e+02, atom= 75\n",
      "Step= 4552, Dmax= 1.4e-03 nm, Epot= -1.49818e+05 Fmax= 5.42002e+02, atom= 75\n",
      "Step= 4554, Dmax= 8.5e-04 nm, Epot= -1.49819e+05 Fmax= 2.38063e+02, atom= 75\n",
      "Step= 4555, Dmax= 1.0e-03 nm, Epot= -1.49820e+05 Fmax= 6.96915e+02, atom= 72\n",
      "Step= 4556, Dmax= 1.2e-03 nm, Epot= -1.49821e+05 Fmax= 4.25524e+02, atom= 75\n",
      "Step= 4558, Dmax= 7.4e-04 nm, Epot= -1.49822e+05 Fmax= 2.45830e+02, atom= 72\n",
      "Step= 4559, Dmax= 8.9e-04 nm, Epot= -1.49823e+05 Fmax= 5.59451e+02, atom= 75\n",
      "Step= 4560, Dmax= 1.1e-03 nm, Epot= -1.49823e+05 Fmax= 4.07288e+02, atom= 72\n",
      "Step= 4561, Dmax= 1.3e-03 nm, Epot= -1.49823e+05 Fmax= 7.52708e+02, atom= 75\n",
      "Step= 4562, Dmax= 1.5e-03 nm, Epot= -1.49824e+05 Fmax= 6.39521e+02, atom= 75\n",
      "Step= 4564, Dmax= 9.2e-04 nm, Epot= -1.49826e+05 Fmax= 1.99356e+02, atom= 75\n",
      "Step= 4565, Dmax= 1.1e-03 nm, Epot= -1.49826e+05 Fmax= 8.07204e+02, atom= 72\n",
      "Step= 4566, Dmax= 1.3e-03 nm, Epot= -1.49827e+05 Fmax= 3.99982e+02, atom= 75\n",
      "Step= 4568, Dmax= 7.9e-04 nm, Epot= -1.49828e+05 Fmax= 3.22396e+02, atom= 72\n",
      "Step= 4569, Dmax= 9.5e-04 nm, Epot= -1.49829e+05 Fmax= 5.43146e+02, atom= 75\n",
      "Step= 4570, Dmax= 1.1e-03 nm, Epot= -1.49830e+05 Fmax= 4.97019e+02, atom= 72\n",
      "Step= 4572, Dmax= 6.9e-04 nm, Epot= -1.49831e+05 Fmax= 1.36755e+02, atom= 9915\n",
      "Step= 4573, Dmax= 8.2e-04 nm, Epot= -1.49832e+05 Fmax= 5.78282e+02, atom= 72\n",
      "Step= 4574, Dmax= 9.9e-04 nm, Epot= -1.49833e+05 Fmax= 3.21823e+02, atom= 75\n",
      "Step= 4575, Dmax= 1.2e-03 nm, Epot= -1.49833e+05 Fmax= 7.60208e+02, atom= 72\n",
      "Step= 4576, Dmax= 1.4e-03 nm, Epot= -1.49835e+05 Fmax= 5.35586e+02, atom= 72\n",
      "Step= 4578, Dmax= 8.5e-04 nm, Epot= -1.49835e+05 Fmax= 2.39999e+02, atom= 72\n",
      "Step= 4579, Dmax= 1.0e-03 nm, Epot= -1.49836e+05 Fmax= 6.88520e+02, atom= 75\n",
      "Step= 4580, Dmax= 1.2e-03 nm, Epot= -1.49837e+05 Fmax= 4.28367e+02, atom= 72\n",
      "Step= 4582, Dmax= 7.4e-04 nm, Epot= -1.49838e+05 Fmax= 2.43684e+02, atom= 75\n",
      "Step= 4583, Dmax= 8.8e-04 nm, Epot= -1.49839e+05 Fmax= 5.63065e+02, atom= 72\n",
      "Step= 4584, Dmax= 1.1e-03 nm, Epot= -1.49839e+05 Fmax= 4.04081e+02, atom= 75\n",
      "Step= 4585, Dmax= 1.3e-03 nm, Epot= -1.49839e+05 Fmax= 7.58467e+02, atom= 72\n",
      "Step= 4586, Dmax= 1.5e-03 nm, Epot= -1.49840e+05 Fmax= 6.33654e+02, atom= 72\n",
      "Step= 4588, Dmax= 9.2e-04 nm, Epot= -1.49842e+05 Fmax= 1.99217e+02, atom= 72\n",
      "Step= 4589, Dmax= 1.1e-03 nm, Epot= -1.49842e+05 Fmax= 7.98332e+02, atom= 75\n",
      "Step= 4590, Dmax= 1.3e-03 nm, Epot= -1.49844e+05 Fmax= 4.01191e+02, atom= 72\n",
      "Step= 4592, Dmax= 7.9e-04 nm, Epot= -1.49844e+05 Fmax= 3.20986e+02, atom= 75\n",
      "Step= 4593, Dmax= 9.5e-04 nm, Epot= -1.49845e+05 Fmax= 5.45731e+02, atom= 72\n",
      "Step= 4594, Dmax= 1.1e-03 nm, Epot= -1.49846e+05 Fmax= 4.93515e+02, atom= 75\n",
      "Step= 4595, Dmax= 1.4e-03 nm, Epot= -1.49846e+05 Fmax= 7.55037e+02, atom= 72\n",
      "Step= 4596, Dmax= 1.6e-03 nm, Epot= -1.49847e+05 Fmax= 7.40894e+02, atom= 75\n",
      "Step= 4598, Dmax= 9.8e-04 nm, Epot= -1.49848e+05 Fmax= 1.53552e+02, atom= 72\n",
      "Step= 4599, Dmax= 1.2e-03 nm, Epot= -1.49849e+05 Fmax= 9.19094e+02, atom= 75\n",
      "Step= 4600, Dmax= 1.4e-03 nm, Epot= -1.49851e+05 Fmax= 3.68739e+02, atom= 75\n",
      "Step= 4602, Dmax= 8.5e-04 nm, Epot= -1.49852e+05 Fmax= 4.07578e+02, atom= 75\n",
      "Step= 4603, Dmax= 1.0e-03 nm, Epot= -1.49852e+05 Fmax= 5.22948e+02, atom= 75\n",
      "Step= 4604, Dmax= 1.2e-03 nm, Epot= -1.49853e+05 Fmax= 5.94394e+02, atom= 75\n",
      "Step= 4605, Dmax= 1.5e-03 nm, Epot= -1.49853e+05 Fmax= 7.46006e+02, atom= 75\n",
      "Step= 4606, Dmax= 1.8e-03 nm, Epot= -1.49853e+05 Fmax= 8.62124e+02, atom= 75\n",
      "Step= 4608, Dmax= 1.1e-03 nm, Epot= -1.49856e+05 Fmax= 1.46652e+02, atom= 9915\n",
      "Step= 4609, Dmax= 1.3e-03 nm, Epot= -1.49857e+05 Fmax= 6.76466e+02, atom= 75\n",
      "Step= 4610, Dmax= 1.5e-03 nm, Epot= -1.49858e+05 Fmax= 7.12664e+02, atom= 75\n",
      "Step= 4612, Dmax= 9.1e-04 nm, Epot= -1.49860e+05 Fmax= 1.47553e+02, atom= 9915\n",
      "Step= 4613, Dmax= 1.1e-03 nm, Epot= -1.49860e+05 Fmax= 7.20076e+02, atom= 72\n",
      "Step= 4614, Dmax= 1.3e-03 nm, Epot= -1.49862e+05 Fmax= 4.82235e+02, atom= 75\n",
      "Step= 4616, Dmax= 7.9e-04 nm, Epot= -1.49862e+05 Fmax= 2.36655e+02, atom= 72\n",
      "Step= 4617, Dmax= 9.5e-04 nm, Epot= -1.49863e+05 Fmax= 6.26090e+02, atom= 75\n",
      "Step= 4618, Dmax= 1.1e-03 nm, Epot= -1.49864e+05 Fmax= 4.08989e+02, atom= 72\n",
      "Step= 4620, Dmax= 6.8e-04 nm, Epot= -1.49865e+05 Fmax= 2.14568e+02, atom= 75\n",
      "Step= 4621, Dmax= 8.2e-04 nm, Epot= -1.49866e+05 Fmax= 5.32302e+02, atom= 72\n",
      "Step= 4622, Dmax= 9.8e-04 nm, Epot= -1.49867e+05 Fmax= 3.65217e+02, atom= 75\n",
      "Step= 4624, Dmax= 5.9e-04 nm, Epot= -1.49867e+05 Fmax= 1.71680e+02, atom= 72\n",
      "Step= 4625, Dmax= 7.1e-04 nm, Epot= -1.49868e+05 Fmax= 4.72605e+02, atom= 75\n",
      "Step= 4626, Dmax= 8.5e-04 nm, Epot= -1.49869e+05 Fmax= 3.00481e+02, atom= 72\n",
      "Step= 4627, Dmax= 1.0e-03 nm, Epot= -1.49869e+05 Fmax= 6.27888e+02, atom= 75\n",
      "Step= 4628, Dmax= 1.2e-03 nm, Epot= -1.49871e+05 Fmax= 4.85390e+02, atom= 75\n",
      "Step= 4630, Dmax= 7.3e-04 nm, Epot= -1.49871e+05 Fmax= 1.85292e+02, atom= 75\n",
      "Step= 4631, Dmax= 8.8e-04 nm, Epot= -1.49872e+05 Fmax= 6.18145e+02, atom= 72\n",
      "Step= 4632, Dmax= 1.1e-03 nm, Epot= -1.49873e+05 Fmax= 3.47094e+02, atom= 75\n",
      "Step= 4634, Dmax= 6.3e-04 nm, Epot= -1.49874e+05 Fmax= 2.30318e+02, atom= 72\n",
      "Step= 4635, Dmax= 7.6e-04 nm, Epot= -1.49874e+05 Fmax= 4.62338e+02, atom= 75\n",
      "Step= 4636, Dmax= 9.1e-04 nm, Epot= -1.49875e+05 Fmax= 3.69049e+02, atom= 72\n",
      "Step= 4637, Dmax= 1.1e-03 nm, Epot= -1.49876e+05 Fmax= 6.28683e+02, atom= 75\n",
      "Step= 4638, Dmax= 1.3e-03 nm, Epot= -1.49876e+05 Fmax= 5.68534e+02, atom= 72\n",
      "Step= 4640, Dmax= 7.9e-04 nm, Epot= -1.49878e+05 Fmax= 1.52809e+02, atom= 75\n",
      "Step= 4641, Dmax= 9.5e-04 nm, Epot= -1.49878e+05 Fmax= 7.11770e+02, atom= 72\n",
      "Step= 4642, Dmax= 1.1e-03 nm, Epot= -1.49880e+05 Fmax= 3.26071e+02, atom= 75\n",
      "Step= 4644, Dmax= 6.8e-04 nm, Epot= -1.49880e+05 Fmax= 2.95067e+02, atom= 72\n",
      "Step= 4645, Dmax= 8.2e-04 nm, Epot= -1.49881e+05 Fmax= 4.49353e+02, atom= 75\n",
      "Step= 4646, Dmax= 9.8e-04 nm, Epot= -1.49882e+05 Fmax= 4.45212e+02, atom= 72\n",
      "Step= 4647, Dmax= 1.2e-03 nm, Epot= -1.49882e+05 Fmax= 6.27019e+02, atom= 75\n",
      "Step= 4648, Dmax= 1.4e-03 nm, Epot= -1.49882e+05 Fmax= 6.61255e+02, atom= 72\n",
      "Step= 4649, Dmax= 1.7e-03 nm, Epot= -1.49882e+05 Fmax= 8.82583e+02, atom= 75\n",
      "Step= 4650, Dmax= 2.0e-03 nm, Epot= -1.49883e+05 Fmax= 9.72794e+02, atom= 72\n",
      "Step= 4652, Dmax= 1.2e-03 nm, Epot= -1.49885e+05 Fmax= 1.46463e+02, atom= 9915\n",
      "Step= 4654, Dmax= 7.3e-04 nm, Epot= -1.49886e+05 Fmax= 5.21831e+02, atom= 72\n",
      "Step= 4655, Dmax= 8.8e-04 nm, Epot= -1.49887e+05 Fmax= 2.79840e+02, atom= 72\n",
      "Step= 4656, Dmax= 1.1e-03 nm, Epot= -1.49887e+05 Fmax= 6.85012e+02, atom= 72\n",
      "Step= 4657, Dmax= 1.3e-03 nm, Epot= -1.49888e+05 Fmax= 4.69633e+02, atom= 72\n",
      "Step= 4659, Dmax= 7.6e-04 nm, Epot= -1.49889e+05 Fmax= 2.21987e+02, atom= 72\n",
      "Step= 4660, Dmax= 9.1e-04 nm, Epot= -1.49890e+05 Fmax= 6.05388e+02, atom= 72\n",
      "Step= 4661, Dmax= 1.1e-03 nm, Epot= -1.49891e+05 Fmax= 3.90674e+02, atom= 72\n",
      "Step= 4663, Dmax= 6.6e-04 nm, Epot= -1.49891e+05 Fmax= 2.08168e+02, atom= 75\n",
      "Step= 4664, Dmax= 7.9e-04 nm, Epot= -1.49892e+05 Fmax= 5.11475e+02, atom= 72\n",
      "Step= 4665, Dmax= 9.5e-04 nm, Epot= -1.49893e+05 Fmax= 3.50303e+02, atom= 72\n",
      "Step= 4666, Dmax= 1.1e-03 nm, Epot= -1.49893e+05 Fmax= 6.86521e+02, atom= 72\n",
      "Step= 4667, Dmax= 1.4e-03 nm, Epot= -1.49894e+05 Fmax= 5.54344e+02, atom= 72\n",
      "Step= 4669, Dmax= 8.2e-04 nm, Epot= -1.49895e+05 Fmax= 1.88546e+02, atom= 72\n",
      "Step= 4670, Dmax= 9.8e-04 nm, Epot= -1.49896e+05 Fmax= 7.00055e+02, atom= 72\n",
      "Step= 4671, Dmax= 1.2e-03 nm, Epot= -1.49897e+05 Fmax= 3.70194e+02, atom= 72\n",
      "Step= 4673, Dmax= 7.1e-04 nm, Epot= -1.49898e+05 Fmax= 2.73314e+02, atom= 75\n",
      "Step= 4674, Dmax= 8.5e-04 nm, Epot= -1.49898e+05 Fmax= 4.99800e+02, atom= 72\n",
      "Step= 4675, Dmax= 1.0e-03 nm, Epot= -1.49899e+05 Fmax= 4.26302e+02, atom= 75\n",
      "Step= 4676, Dmax= 1.2e-03 nm, Epot= -1.49899e+05 Fmax= 6.87471e+02, atom= 72\n",
      "Step= 4677, Dmax= 1.5e-03 nm, Epot= -1.49900e+05 Fmax= 6.45801e+02, atom= 72\n",
      "Step= 4679, Dmax= 8.8e-04 nm, Epot= -1.49901e+05 Fmax= 1.52175e+02, atom= 72\n",
      "Step= 4680, Dmax= 1.1e-03 nm, Epot= -1.49902e+05 Fmax= 8.02691e+02, atom= 75\n",
      "Step= 4681, Dmax= 1.3e-03 nm, Epot= -1.49904e+05 Fmax= 3.46454e+02, atom= 72\n",
      "Step= 4683, Dmax= 7.6e-04 nm, Epot= -1.49904e+05 Fmax= 3.45230e+02, atom= 75\n",
      "Step= 4684, Dmax= 9.1e-04 nm, Epot= -1.49905e+05 Fmax= 4.84872e+02, atom= 72\n",
      "Step= 4685, Dmax= 1.1e-03 nm, Epot= -1.49905e+05 Fmax= 5.10690e+02, atom= 75\n",
      "Step= 4686, Dmax= 1.3e-03 nm, Epot= -1.49905e+05 Fmax= 6.85103e+02, atom= 72\n",
      "Step= 4687, Dmax= 1.6e-03 nm, Epot= -1.49906e+05 Fmax= 7.47935e+02, atom= 75\n",
      "Step= 4689, Dmax= 9.4e-04 nm, Epot= -1.49908e+05 Fmax= 1.32838e+02, atom= 9915\n",
      "Step= 4690, Dmax= 1.1e-03 nm, Epot= -1.49909e+05 Fmax= 7.34926e+02, atom= 75\n",
      "Step= 4691, Dmax= 1.4e-03 nm, Epot= -1.49910e+05 Fmax= 5.01452e+02, atom= 75\n",
      "Step= 4693, Dmax= 8.2e-04 nm, Epot= -1.49911e+05 Fmax= 2.43651e+02, atom= 75\n",
      "Step= 4694, Dmax= 9.8e-04 nm, Epot= -1.49911e+05 Fmax= 6.48817e+02, atom= 72\n",
      "Step= 4695, Dmax= 1.2e-03 nm, Epot= -1.49912e+05 Fmax= 4.23432e+02, atom= 75\n",
      "Step= 4697, Dmax= 7.0e-04 nm, Epot= -1.49913e+05 Fmax= 2.17686e+02, atom= 72\n",
      "Step= 4698, Dmax= 8.5e-04 nm, Epot= -1.49913e+05 Fmax= 5.51418e+02, atom= 75\n",
      "Step= 4699, Dmax= 1.0e-03 nm, Epot= -1.49914e+05 Fmax= 3.71701e+02, atom= 72\n",
      "Step= 4700, Dmax= 1.2e-03 nm, Epot= -1.49914e+05 Fmax= 7.36389e+02, atom= 75\n",
      "Step= 4701, Dmax= 1.5e-03 nm, Epot= -1.49916e+05 Fmax= 5.92991e+02, atom= 75\n",
      "Step= 4703, Dmax= 8.8e-04 nm, Epot= -1.49917e+05 Fmax= 2.08245e+02, atom= 75\n",
      "Step= 4704, Dmax= 1.1e-03 nm, Epot= -1.49917e+05 Fmax= 7.52167e+02, atom= 72\n",
      "Step= 4705, Dmax= 1.3e-03 nm, Epot= -1.49918e+05 Fmax= 4.00722e+02, atom= 75\n",
      "Step= 4707, Dmax= 7.6e-04 nm, Epot= -1.49919e+05 Fmax= 2.88857e+02, atom= 72\n",
      "Step= 4708, Dmax= 9.1e-04 nm, Epot= -1.49919e+05 Fmax= 5.37946e+02, atom= 75\n",
      "Step= 4709, Dmax= 1.1e-03 nm, Epot= -1.49920e+05 Fmax= 4.55113e+02, atom= 72\n",
      "Step= 4710, Dmax= 1.3e-03 nm, Epot= -1.49920e+05 Fmax= 7.35875e+02, atom= 75\n",
      "Step= 4711, Dmax= 1.6e-03 nm, Epot= -1.49921e+05 Fmax= 6.94247e+02, atom= 72\n",
      "Step= 4713, Dmax= 9.4e-04 nm, Epot= -1.49922e+05 Fmax= 1.67557e+02, atom= 75\n",
      "Step= 4714, Dmax= 1.1e-03 nm, Epot= -1.49923e+05 Fmax= 8.66412e+02, atom= 72\n",
      "Step= 4715, Dmax= 1.4e-03 nm, Epot= -1.49924e+05 Fmax= 3.73193e+02, atom= 75\n",
      "Step= 4717, Dmax= 8.1e-04 nm, Epot= -1.49925e+05 Fmax= 3.69106e+02, atom= 72\n",
      "Step= 4718, Dmax= 9.8e-04 nm, Epot= -1.49926e+05 Fmax= 5.19208e+02, atom= 75\n",
      "Step= 4719, Dmax= 1.2e-03 nm, Epot= -1.49926e+05 Fmax= 5.49723e+02, atom= 72\n",
      "Step= 4720, Dmax= 1.4e-03 nm, Epot= -1.49926e+05 Fmax= 7.29988e+02, atom= 75\n",
      "Step= 4721, Dmax= 1.7e-03 nm, Epot= -1.49927e+05 Fmax= 8.09479e+02, atom= 72\n",
      "Step= 4723, Dmax= 1.0e-03 nm, Epot= -1.49929e+05 Fmax= 1.17570e+02, atom= 75\n",
      "Step= 4724, Dmax= 1.2e-03 nm, Epot= -1.49929e+05 Fmax= 9.96438e+02, atom= 72\n",
      "Step= 4725, Dmax= 1.5e-03 nm, Epot= -1.49932e+05 Fmax= 3.36981e+02, atom= 72\n",
      "Step= 4727, Dmax= 8.8e-04 nm, Epot= -1.49932e+05 Fmax= 4.61635e+02, atom= 72\n",
      "Step= 4728, Dmax= 1.1e-03 nm, Epot= -1.49932e+05 Fmax= 4.93919e+02, atom= 72\n",
      "Step= 4729, Dmax= 1.3e-03 nm, Epot= -1.49933e+05 Fmax= 6.56165e+02, atom= 72\n",
      "Step= 4730, Dmax= 1.5e-03 nm, Epot= -1.49933e+05 Fmax= 7.20099e+02, atom= 72\n",
      "Step= 4732, Dmax= 9.1e-04 nm, Epot= -1.49935e+05 Fmax= 1.03769e+02, atom= 72\n",
      "Step= 4733, Dmax= 1.1e-03 nm, Epot= -1.49936e+05 Fmax= 8.80779e+02, atom= 75\n",
      "Step= 4734, Dmax= 1.3e-03 nm, Epot= -1.49938e+05 Fmax= 3.06252e+02, atom= 72\n",
      "Step= 4736, Dmax= 7.8e-04 nm, Epot= -1.49938e+05 Fmax= 4.08039e+02, atom= 75\n",
      "Step= 4737, Dmax= 9.4e-04 nm, Epot= -1.49939e+05 Fmax= 4.49630e+02, atom= 72\n",
      "Step= 4738, Dmax= 1.1e-03 nm, Epot= -1.49939e+05 Fmax= 5.78587e+02, atom= 75\n",
      "Step= 4739, Dmax= 1.4e-03 nm, Epot= -1.49940e+05 Fmax= 6.56612e+02, atom= 72\n",
      "Step= 4740, Dmax= 1.6e-03 nm, Epot= -1.49940e+05 Fmax= 8.23418e+02, atom= 75\n",
      "Step= 4741, Dmax= 2.0e-03 nm, Epot= -1.49940e+05 Fmax= 9.55620e+02, atom= 72\n",
      "Step= 4743, Dmax= 1.2e-03 nm, Epot= -1.49942e+05 Fmax= 1.16701e+02, atom= 75\n",
      "Step= 4744, Dmax= 1.4e-03 nm, Epot= -1.49942e+05 Fmax= 1.17218e+03, atom= 72\n",
      "Step= 4745, Dmax= 1.7e-03 nm, Epot= -1.49946e+05 Fmax= 3.69949e+02, atom= 72\n",
      "Step= 4747, Dmax= 1.0e-03 nm, Epot= -1.49946e+05 Fmax= 5.52873e+02, atom= 72\n",
      "Step= 4748, Dmax= 1.2e-03 nm, Epot= -1.49947e+05 Fmax= 5.51556e+02, atom= 72\n",
      "Step= 4750, Dmax= 7.3e-04 nm, Epot= -1.49947e+05 Fmax= 1.10263e+02, atom= 72\n",
      "Step= 4751, Dmax= 8.7e-04 nm, Epot= -1.49949e+05 Fmax= 6.79763e+02, atom= 72\n",
      "Step= 4752, Dmax= 1.0e-03 nm, Epot= -1.49950e+05 Fmax= 2.74045e+02, atom= 72\n",
      "Step= 4754, Dmax= 6.3e-04 nm, Epot= -1.49950e+05 Fmax= 2.98604e+02, atom= 75\n",
      "Step= 4755, Dmax= 7.5e-04 nm, Epot= -1.49951e+05 Fmax= 3.90438e+02, atom= 72\n",
      "Step= 4756, Dmax= 9.1e-04 nm, Epot= -1.49951e+05 Fmax= 4.34087e+02, atom= 72\n",
      "Step= 4757, Dmax= 1.1e-03 nm, Epot= -1.49952e+05 Fmax= 5.58374e+02, atom= 72\n",
      "Step= 4758, Dmax= 1.3e-03 nm, Epot= -1.49952e+05 Fmax= 6.29157e+02, atom= 72\n",
      "Step= 4759, Dmax= 1.6e-03 nm, Epot= -1.49952e+05 Fmax= 7.99702e+02, atom= 72\n",
      "Step= 4761, Dmax= 9.4e-04 nm, Epot= -1.49954e+05 Fmax= 7.96008e+01, atom= 9915\n",
      "Step= 4762, Dmax= 1.1e-03 nm, Epot= -1.49957e+05 Fmax= 7.19592e+02, atom= 72\n",
      "Step= 4763, Dmax= 1.4e-03 nm, Epot= -1.49958e+05 Fmax= 5.12485e+02, atom= 72\n",
      "Step= 4765, Dmax= 8.1e-04 nm, Epot= -1.49959e+05 Fmax= 2.25588e+02, atom= 72\n",
      "Step= 4766, Dmax= 9.7e-04 nm, Epot= -1.49959e+05 Fmax= 6.57303e+02, atom= 72\n",
      "Step= 4767, Dmax= 1.2e-03 nm, Epot= -1.49960e+05 Fmax= 4.06227e+02, atom= 72\n",
      "Step= 4769, Dmax= 7.0e-04 nm, Epot= -1.49961e+05 Fmax= 2.32686e+02, atom= 72\n",
      "Step= 4770, Dmax= 8.4e-04 nm, Epot= -1.49961e+05 Fmax= 5.36889e+02, atom= 72\n",
      "Step= 4771, Dmax= 1.0e-03 nm, Epot= -1.49962e+05 Fmax= 3.83164e+02, atom= 72\n",
      "Step= 4773, Dmax= 6.1e-04 nm, Epot= -1.49963e+05 Fmax= 1.68637e+02, atom= 72\n",
      "Step= 4774, Dmax= 7.3e-04 nm, Epot= -1.49963e+05 Fmax= 4.90669e+02, atom= 72\n",
      "Step= 4775, Dmax= 8.7e-04 nm, Epot= -1.49964e+05 Fmax= 3.03963e+02, atom= 72\n",
      "Step= 4777, Dmax= 5.2e-04 nm, Epot= -1.49965e+05 Fmax= 1.72974e+02, atom= 75\n",
      "Step= 4778, Dmax= 6.3e-04 nm, Epot= -1.49965e+05 Fmax= 4.01147e+02, atom= 72\n",
      "Step= 4779, Dmax= 7.5e-04 nm, Epot= -1.49966e+05 Fmax= 2.85429e+02, atom= 72\n",
      "Step= 4780, Dmax= 9.0e-04 nm, Epot= -1.49966e+05 Fmax= 5.41348e+02, atom= 72\n",
      "Step= 4781, Dmax= 1.1e-03 nm, Epot= -1.49967e+05 Fmax= 4.47413e+02, atom= 72\n",
      "Step= 4782, Dmax= 1.3e-03 nm, Epot= -1.49967e+05 Fmax= 7.42572e+02, atom= 72\n",
      "Step= 4783, Dmax= 1.6e-03 nm, Epot= -1.49968e+05 Fmax= 6.81286e+02, atom= 72\n",
      "Step= 4785, Dmax= 9.4e-04 nm, Epot= -1.49969e+05 Fmax= 1.70830e+02, atom= 72\n",
      "Step= 4786, Dmax= 1.1e-03 nm, Epot= -1.49969e+05 Fmax= 8.47436e+02, atom= 72\n",
      "Step= 4787, Dmax= 1.4e-03 nm, Epot= -1.49971e+05 Fmax= 3.80214e+02, atom= 72\n",
      "Step= 4789, Dmax= 8.1e-04 nm, Epot= -1.49972e+05 Fmax= 3.57673e+02, atom= 75\n",
      "Step= 4790, Dmax= 9.7e-04 nm, Epot= -1.49972e+05 Fmax= 5.30372e+02, atom= 72\n",
      "Step= 4791, Dmax= 1.2e-03 nm, Epot= -1.49972e+05 Fmax= 5.32071e+02, atom= 72\n",
      "Step= 4793, Dmax= 7.0e-04 nm, Epot= -1.49973e+05 Fmax= 1.04722e+02, atom= 72\n",
      "Step= 4794, Dmax= 8.4e-04 nm, Epot= -1.49975e+05 Fmax= 6.55010e+02, atom= 75\n",
      "Step= 4795, Dmax= 1.0e-03 nm, Epot= -1.49976e+05 Fmax= 2.62056e+02, atom= 72\n",
      "Step= 4797, Dmax= 6.0e-04 nm, Epot= -1.49976e+05 Fmax= 2.88772e+02, atom= 75\n",
      "Step= 4798, Dmax= 7.3e-04 nm, Epot= -1.49977e+05 Fmax= 3.73406e+02, atom= 72\n",
      "Step= 4799, Dmax= 8.7e-04 nm, Epot= -1.49977e+05 Fmax= 4.19587e+02, atom= 75\n",
      "Step= 4800, Dmax= 1.0e-03 nm, Epot= -1.49977e+05 Fmax= 5.34136e+02, atom= 72\n",
      "Step= 4801, Dmax= 1.3e-03 nm, Epot= -1.49978e+05 Fmax= 6.07421e+02, atom= 75\n",
      "Step= 4803, Dmax= 7.5e-04 nm, Epot= -1.49979e+05 Fmax= 7.65556e+01, atom= 72\n",
      "Step= 4804, Dmax= 9.0e-04 nm, Epot= -1.49981e+05 Fmax= 7.39030e+02, atom= 75\n",
      "Step= 4805, Dmax= 1.1e-03 nm, Epot= -1.49982e+05 Fmax= 2.45756e+02, atom= 72\n",
      "Step= 4807, Dmax= 6.5e-04 nm, Epot= -1.49983e+05 Fmax= 3.46998e+02, atom= 75\n",
      "Step= 4808, Dmax= 7.8e-04 nm, Epot= -1.49983e+05 Fmax= 3.63772e+02, atom= 72\n",
      "Step= 4809, Dmax= 9.4e-04 nm, Epot= -1.49984e+05 Fmax= 4.89304e+02, atom= 75\n",
      "Step= 4810, Dmax= 1.1e-03 nm, Epot= -1.49984e+05 Fmax= 5.34373e+02, atom= 72\n",
      "Step= 4811, Dmax= 1.3e-03 nm, Epot= -1.49984e+05 Fmax= 6.93689e+02, atom= 75\n",
      "Step= 4812, Dmax= 1.6e-03 nm, Epot= -1.49985e+05 Fmax= 7.80663e+02, atom= 72\n",
      "Step= 4814, Dmax= 9.7e-04 nm, Epot= -1.49986e+05 Fmax= 1.07854e+02, atom= 75\n",
      "Step= 4815, Dmax= 1.2e-03 nm, Epot= -1.49987e+05 Fmax= 9.57928e+02, atom= 72\n",
      "Step= 4816, Dmax= 1.4e-03 nm, Epot= -1.49989e+05 Fmax= 3.19726e+02, atom= 72\n",
      "Step= 4818, Dmax= 8.4e-04 nm, Epot= -1.49990e+05 Fmax= 4.45804e+02, atom= 72\n",
      "Step= 4819, Dmax= 1.0e-03 nm, Epot= -1.49990e+05 Fmax= 4.69712e+02, atom= 72\n",
      "Step= 4820, Dmax= 1.2e-03 nm, Epot= -1.49990e+05 Fmax= 6.32503e+02, atom= 72\n",
      "Step= 4821, Dmax= 1.4e-03 nm, Epot= -1.49991e+05 Fmax= 6.86367e+02, atom= 72\n",
      "Step= 4822, Dmax= 1.7e-03 nm, Epot= -1.49991e+05 Fmax= 9.00992e+02, atom= 72\n",
      "Step= 4823, Dmax= 2.1e-03 nm, Epot= -1.49991e+05 Fmax= 9.98161e+02, atom= 72\n",
      "Step= 4825, Dmax= 1.3e-03 nm, Epot= -1.49994e+05 Fmax= 1.36744e+02, atom= 72\n",
      "Step= 4827, Dmax= 7.5e-04 nm, Epot= -1.49994e+05 Fmax= 5.45813e+02, atom= 75\n",
      "Step= 4828, Dmax= 9.0e-04 nm, Epot= -1.49996e+05 Fmax= 2.74707e+02, atom= 72\n",
      "Step= 4830, Dmax= 5.4e-04 nm, Epot= -1.49996e+05 Fmax= 2.18882e+02, atom= 75\n",
      "Step= 4831, Dmax= 6.5e-04 nm, Epot= -1.49996e+05 Fmax= 3.72880e+02, atom= 72\n",
      "Step= 4832, Dmax= 7.8e-04 nm, Epot= -1.49997e+05 Fmax= 3.37424e+02, atom= 75\n",
      "Step= 4833, Dmax= 9.3e-04 nm, Epot= -1.49997e+05 Fmax= 5.15070e+02, atom= 72\n",
      "Step= 4834, Dmax= 1.1e-03 nm, Epot= -1.49998e+05 Fmax= 5.07180e+02, atom= 75\n",
      "Step= 4836, Dmax= 6.7e-04 nm, Epot= -1.49998e+05 Fmax= 1.04959e+02, atom= 72\n",
      "Step= 4837, Dmax= 8.1e-04 nm, Epot= -1.50000e+05 Fmax= 6.26765e+02, atom= 75\n",
      "Step= 4838, Dmax= 9.7e-04 nm, Epot= -1.50001e+05 Fmax= 2.54441e+02, atom= 72\n",
      "Step= 4840, Dmax= 5.8e-04 nm, Epot= -1.50001e+05 Fmax= 2.75700e+02, atom= 75\n",
      "Step= 4841, Dmax= 7.0e-04 nm, Epot= -1.50002e+05 Fmax= 3.60186e+02, atom= 72\n",
      "Step= 4842, Dmax= 8.4e-04 nm, Epot= -1.50003e+05 Fmax= 4.02961e+02, atom= 75\n",
      "Step= 4843, Dmax= 1.0e-03 nm, Epot= -1.50003e+05 Fmax= 5.12753e+02, atom= 72\n",
      "Step= 4844, Dmax= 1.2e-03 nm, Epot= -1.50003e+05 Fmax= 5.85993e+02, atom= 75\n",
      "Step= 4845, Dmax= 1.4e-03 nm, Epot= -1.50003e+05 Fmax= 7.33003e+02, atom= 72\n",
      "Step= 4847, Dmax= 8.7e-04 nm, Epot= -1.50005e+05 Fmax= 6.16735e+01, atom= 75\n",
      "Step= 4848, Dmax= 1.0e-03 nm, Epot= -1.50007e+05 Fmax= 8.89426e+02, atom= 72\n",
      "Step= 4849, Dmax= 1.2e-03 nm, Epot= -1.50010e+05 Fmax= 2.52685e+02, atom= 75\n",
      "Step= 4851, Dmax= 7.5e-04 nm, Epot= -1.50010e+05 Fmax= 4.32502e+02, atom= 72\n",
      "Step= 4852, Dmax= 9.0e-04 nm, Epot= -1.50011e+05 Fmax= 3.86528e+02, atom= 72\n",
      "Step= 4853, Dmax= 1.1e-03 nm, Epot= -1.50011e+05 Fmax= 5.99773e+02, atom= 72\n",
      "Step= 4854, Dmax= 1.3e-03 nm, Epot= -1.50011e+05 Fmax= 5.80045e+02, atom= 72\n",
      "Step= 4856, Dmax= 7.8e-04 nm, Epot= -1.50012e+05 Fmax= 1.26905e+02, atom= 72\n",
      "Step= 4857, Dmax= 9.3e-04 nm, Epot= -1.50013e+05 Fmax= 7.16671e+02, atom= 75\n",
      "Step= 4858, Dmax= 1.1e-03 nm, Epot= -1.50014e+05 Fmax= 3.01900e+02, atom= 72\n",
      "Step= 4860, Dmax= 6.7e-04 nm, Epot= -1.50015e+05 Fmax= 3.10126e+02, atom= 75\n",
      "Step= 4861, Dmax= 8.1e-04 nm, Epot= -1.50015e+05 Fmax= 4.25474e+02, atom= 72\n",
      "Step= 4862, Dmax= 9.7e-04 nm, Epot= -1.50015e+05 Fmax= 4.55526e+02, atom= 75\n",
      "Step= 4863, Dmax= 1.2e-03 nm, Epot= -1.50016e+05 Fmax= 6.04087e+02, atom= 72\n",
      "Step= 4864, Dmax= 1.4e-03 nm, Epot= -1.50016e+05 Fmax= 6.64172e+02, atom= 75\n",
      "Step= 4865, Dmax= 1.7e-03 nm, Epot= -1.50016e+05 Fmax= 8.62058e+02, atom= 72\n",
      "Step= 4867, Dmax= 1.0e-03 nm, Epot= -1.50018e+05 Fmax= 5.68861e+01, atom= 75\n",
      "Step= 4868, Dmax= 1.2e-03 nm, Epot= -1.50021e+05 Fmax= 1.04489e+03, atom= 72\n",
      "Step= 4869, Dmax= 1.4e-03 nm, Epot= -1.50024e+05 Fmax= 2.75466e+02, atom= 72\n",
      "Step= 4871, Dmax= 8.7e-04 nm, Epot= -1.50024e+05 Fmax= 5.16233e+02, atom= 72\n",
      "Step= 4872, Dmax= 1.0e-03 nm, Epot= -1.50025e+05 Fmax= 4.30267e+02, atom= 72\n",
      "Step= 4874, Dmax= 6.2e-04 nm, Epot= -1.50025e+05 Fmax= 1.37714e+02, atom= 72\n",
      "Step= 4875, Dmax= 7.5e-04 nm, Epot= -1.50026e+05 Fmax= 5.39780e+02, atom= 72\n",
      "Step= 4876, Dmax= 9.0e-04 nm, Epot= -1.50027e+05 Fmax= 2.78445e+02, atom= 72\n",
      "Step= 4877, Dmax= 1.1e-03 nm, Epot= -1.50027e+05 Fmax= 6.99449e+02, atom= 72\n",
      "Step= 4878, Dmax= 1.3e-03 nm, Epot= -1.50028e+05 Fmax= 4.78906e+02, atom= 72\n",
      "Step= 4880, Dmax= 7.8e-04 nm, Epot= -1.50029e+05 Fmax= 2.29060e+02, atom= 75\n",
      "Step= 4881, Dmax= 9.3e-04 nm, Epot= -1.50029e+05 Fmax= 6.23794e+02, atom= 72\n",
      "Step= 4882, Dmax= 1.1e-03 nm, Epot= -1.50030e+05 Fmax= 3.95547e+02, atom= 72\n",
      "Step= 4884, Dmax= 6.7e-04 nm, Epot= -1.50031e+05 Fmax= 2.15811e+02, atom= 72\n",
      "Step= 4885, Dmax= 8.0e-04 nm, Epot= -1.50031e+05 Fmax= 5.14291e+02, atom= 72\n",
      "Step= 4886, Dmax= 9.7e-04 nm, Epot= -1.50032e+05 Fmax= 3.65962e+02, atom= 72\n",
      "Step= 4887, Dmax= 1.2e-03 nm, Epot= -1.50032e+05 Fmax= 6.86543e+02, atom= 72\n",
      "Step= 4888, Dmax= 1.4e-03 nm, Epot= -1.50033e+05 Fmax= 5.81068e+02, atom= 72\n",
      "Step= 4890, Dmax= 8.3e-04 nm, Epot= -1.50034e+05 Fmax= 1.81077e+02, atom= 75\n",
      "Step= 4891, Dmax= 1.0e-03 nm, Epot= -1.50034e+05 Fmax= 7.36184e+02, atom= 72\n",
      "Step= 4892, Dmax= 1.2e-03 nm, Epot= -1.50036e+05 Fmax= 3.60488e+02, atom= 72\n",
      "Step= 4894, Dmax= 7.2e-04 nm, Epot= -1.50036e+05 Fmax= 2.97167e+02, atom= 72\n",
      "Step= 4895, Dmax= 8.7e-04 nm, Epot= -1.50036e+05 Fmax= 4.88677e+02, atom= 72\n",
      "Step= 4896, Dmax= 1.0e-03 nm, Epot= -1.50037e+05 Fmax= 4.58246e+02, atom= 72\n",
      "Step= 4897, Dmax= 1.2e-03 nm, Epot= -1.50037e+05 Fmax= 6.74067e+02, atom= 72\n",
      "Step= 4898, Dmax= 1.5e-03 nm, Epot= -1.50038e+05 Fmax= 6.89498e+02, atom= 72\n",
      "Step= 4900, Dmax= 9.0e-04 nm, Epot= -1.50039e+05 Fmax= 1.30713e+02, atom= 75\n",
      "Step= 4902, Dmax= 5.4e-04 nm, Epot= -1.50040e+05 Fmax= 3.61286e+02, atom= 72\n",
      "Step= 4903, Dmax= 6.5e-04 nm, Epot= -1.50040e+05 Fmax= 2.26681e+02, atom= 72\n",
      "Step= 4904, Dmax= 7.8e-04 nm, Epot= -1.50040e+05 Fmax= 4.82488e+02, atom= 72\n",
      "Step= 4905, Dmax= 9.3e-04 nm, Epot= -1.50041e+05 Fmax= 3.64556e+02, atom= 72\n",
      "Step= 4906, Dmax= 1.1e-03 nm, Epot= -1.50041e+05 Fmax= 6.55734e+02, atom= 72\n",
      "Step= 4907, Dmax= 1.3e-03 nm, Epot= -1.50042e+05 Fmax= 5.64137e+02, atom= 72\n",
      "Step= 4909, Dmax= 8.0e-04 nm, Epot= -1.50043e+05 Fmax= 1.66896e+02, atom= 72\n",
      "Step= 4910, Dmax= 9.6e-04 nm, Epot= -1.50043e+05 Fmax= 7.05501e+02, atom= 72\n",
      "Step= 4911, Dmax= 1.2e-03 nm, Epot= -1.50045e+05 Fmax= 3.47496e+02, atom= 72\n",
      "Step= 4913, Dmax= 6.9e-04 nm, Epot= -1.50045e+05 Fmax= 2.84718e+02, atom= 75\n",
      "Step= 4914, Dmax= 8.3e-04 nm, Epot= -1.50046e+05 Fmax= 4.76990e+02, atom= 72\n",
      "Step= 4915, Dmax= 1.0e-03 nm, Epot= -1.50046e+05 Fmax= 4.33288e+02, atom= 72\n",
      "Step= 4917, Dmax= 6.0e-04 nm, Epot= -1.50047e+05 Fmax= 1.13027e+02, atom= 72\n",
      "Step= 4918, Dmax= 7.2e-04 nm, Epot= -1.50048e+05 Fmax= 5.37440e+02, atom= 72\n",
      "Step= 4919, Dmax= 8.6e-04 nm, Epot= -1.50049e+05 Fmax= 2.49252e+02, atom= 72\n",
      "Step= 4921, Dmax= 5.2e-04 nm, Epot= -1.50049e+05 Fmax= 2.22717e+02, atom= 75\n",
      "Step= 4922, Dmax= 6.2e-04 nm, Epot= -1.50050e+05 Fmax= 3.45136e+02, atom= 72\n",
      "Step= 4923, Dmax= 7.5e-04 nm, Epot= -1.50050e+05 Fmax= 3.34180e+02, atom= 75\n",
      "Step= 4924, Dmax= 9.0e-04 nm, Epot= -1.50051e+05 Fmax= 4.83869e+02, atom= 72\n",
      "Step= 4925, Dmax= 1.1e-03 nm, Epot= -1.50051e+05 Fmax= 4.94368e+02, atom= 72\n",
      "Step= 4926, Dmax= 1.3e-03 nm, Epot= -1.50051e+05 Fmax= 6.83632e+02, atom= 72\n",
      "Step= 4927, Dmax= 1.5e-03 nm, Epot= -1.50052e+05 Fmax= 7.25140e+02, atom= 72\n",
      "Step= 4929, Dmax= 9.3e-04 nm, Epot= -1.50053e+05 Fmax= 1.18415e+02, atom= 72\n",
      "Step= 4930, Dmax= 1.1e-03 nm, Epot= -1.50053e+05 Fmax= 8.87992e+02, atom= 75\n",
      "Step= 4931, Dmax= 1.3e-03 nm, Epot= -1.50056e+05 Fmax= 3.27025e+02, atom= 72\n",
      "Step= 4933, Dmax= 8.0e-04 nm, Epot= -1.50056e+05 Fmax= 4.03929e+02, atom= 75\n",
      "Step= 4934, Dmax= 9.6e-04 nm, Epot= -1.50056e+05 Fmax= 4.74086e+02, atom= 72\n",
      "Step= 4935, Dmax= 1.2e-03 nm, Epot= -1.50057e+05 Fmax= 5.77865e+02, atom= 75\n",
      "Step= 4936, Dmax= 1.4e-03 nm, Epot= -1.50057e+05 Fmax= 6.86829e+02, atom= 72\n",
      "Step= 4937, Dmax= 1.7e-03 nm, Epot= -1.50057e+05 Fmax= 8.27491e+02, atom= 75\n",
      "Step= 4939, Dmax= 1.0e-03 nm, Epot= -1.50059e+05 Fmax= 7.84636e+01, atom= 72\n",
      "Step= 4940, Dmax= 1.2e-03 nm, Epot= -1.50060e+05 Fmax= 1.00382e+03, atom= 75\n",
      "Step= 4941, Dmax= 1.4e-03 nm, Epot= -1.50063e+05 Fmax= 3.00401e+02, atom= 72\n",
      "Step= 4943, Dmax= 8.6e-04 nm, Epot= -1.50063e+05 Fmax= 4.86493e+02, atom= 75\n",
      "Step= 4944, Dmax= 1.0e-03 nm, Epot= -1.50064e+05 Fmax= 4.55578e+02, atom= 75\n",
      "Step= 4945, Dmax= 1.2e-03 nm, Epot= -1.50064e+05 Fmax= 6.76902e+02, atom= 75\n",
      "Step= 4946, Dmax= 1.5e-03 nm, Epot= -1.50064e+05 Fmax= 6.80061e+02, atom= 75\n",
      "Step= 4948, Dmax= 8.9e-04 nm, Epot= -1.50066e+05 Fmax= 1.38205e+02, atom= 75\n",
      "Step= 4949, Dmax= 1.1e-03 nm, Epot= -1.50066e+05 Fmax= 8.40358e+02, atom= 72\n",
      "Step= 4950, Dmax= 1.3e-03 nm, Epot= -1.50068e+05 Fmax= 3.36667e+02, atom= 75\n",
      "Step= 4952, Dmax= 7.7e-04 nm, Epot= -1.50068e+05 Fmax= 3.67344e+02, atom= 72\n",
      "Step= 4953, Dmax= 9.3e-04 nm, Epot= -1.50069e+05 Fmax= 4.76428e+02, atom= 75\n",
      "Step= 4954, Dmax= 1.1e-03 nm, Epot= -1.50069e+05 Fmax= 5.37532e+02, atom= 72\n",
      "Step= 4955, Dmax= 1.3e-03 nm, Epot= -1.50069e+05 Fmax= 6.77678e+02, atom= 75\n",
      "Step= 4956, Dmax= 1.6e-03 nm, Epot= -1.50070e+05 Fmax= 7.82723e+02, atom= 72\n",
      "Step= 4958, Dmax= 9.6e-04 nm, Epot= -1.50071e+05 Fmax= 9.71820e+01, atom= 75\n",
      "Step= 4959, Dmax= 1.2e-03 nm, Epot= -1.50072e+05 Fmax= 9.57096e+02, atom= 72\n",
      "Step= 4960, Dmax= 1.4e-03 nm, Epot= -1.50074e+05 Fmax= 3.08060e+02, atom= 75\n",
      "Step= 4962, Dmax= 8.3e-04 nm, Epot= -1.50075e+05 Fmax= 4.50191e+02, atom= 72\n",
      "Step= 4963, Dmax= 1.0e-03 nm, Epot= -1.50075e+05 Fmax= 4.56212e+02, atom= 72\n",
      "Step= 4964, Dmax= 1.2e-03 nm, Epot= -1.50075e+05 Fmax= 6.35803e+02, atom= 72\n",
      "Step= 4965, Dmax= 1.4e-03 nm, Epot= -1.50076e+05 Fmax= 6.69988e+02, atom= 72\n",
      "Step= 4967, Dmax= 8.6e-04 nm, Epot= -1.50077e+05 Fmax= 1.12291e+02, atom= 72\n",
      "Step= 4968, Dmax= 1.0e-03 nm, Epot= -1.50078e+05 Fmax= 8.21041e+02, atom= 75\n",
      "Step= 4969, Dmax= 1.2e-03 nm, Epot= -1.50079e+05 Fmax= 3.05950e+02, atom= 72\n",
      "Step= 4971, Dmax= 7.4e-04 nm, Epot= -1.50080e+05 Fmax= 3.71921e+02, atom= 75\n",
      "Step= 4972, Dmax= 8.9e-04 nm, Epot= -1.50080e+05 Fmax= 4.42102e+02, atom= 72\n",
      "Step= 4973, Dmax= 1.1e-03 nm, Epot= -1.50081e+05 Fmax= 5.33653e+02, atom= 75\n",
      "Step= 4974, Dmax= 1.3e-03 nm, Epot= -1.50081e+05 Fmax= 6.38874e+02, atom= 72\n",
      "Step= 4976, Dmax= 7.7e-04 nm, Epot= -1.50083e+05 Fmax= 7.77988e+01, atom= 10050\n",
      "Step= 4977, Dmax= 9.3e-04 nm, Epot= -1.50084e+05 Fmax= 6.58153e+02, atom= 72\n",
      "Step= 4978, Dmax= 1.1e-03 nm, Epot= -1.50085e+05 Fmax= 3.54570e+02, atom= 75\n",
      "Step= 4980, Dmax= 6.7e-04 nm, Epot= -1.50086e+05 Fmax= 2.53019e+02, atom= 72\n",
      "Step= 4981, Dmax= 8.0e-04 nm, Epot= -1.50086e+05 Fmax= 4.72705e+02, atom= 75\n",
      "Step= 4982, Dmax= 9.6e-04 nm, Epot= -1.50087e+05 Fmax= 4.02205e+02, atom= 72\n",
      "Step= 4983, Dmax= 1.2e-03 nm, Epot= -1.50087e+05 Fmax= 6.43749e+02, atom= 72\n",
      "Step= 4984, Dmax= 1.4e-03 nm, Epot= -1.50088e+05 Fmax= 6.16364e+02, atom= 72\n",
      "Step= 4986, Dmax= 8.3e-04 nm, Epot= -1.50089e+05 Fmax= 1.41462e+02, atom= 75\n",
      "Step= 4988, Dmax= 5.0e-04 nm, Epot= -1.50090e+05 Fmax= 3.12652e+02, atom= 72\n",
      "Step= 4989, Dmax= 6.0e-04 nm, Epot= -1.50090e+05 Fmax= 2.30888e+02, atom= 75\n",
      "Step= 4990, Dmax= 7.2e-04 nm, Epot= -1.50090e+05 Fmax= 4.23370e+02, atom= 72\n",
      "Step= 4991, Dmax= 8.6e-04 nm, Epot= -1.50091e+05 Fmax= 3.59189e+02, atom= 75\n",
      "Step= 4992, Dmax= 1.0e-03 nm, Epot= -1.50091e+05 Fmax= 5.83480e+02, atom= 72\n",
      "Step= 4993, Dmax= 1.2e-03 nm, Epot= -1.50092e+05 Fmax= 5.43483e+02, atom= 72\n",
      "Step= 4995, Dmax= 7.4e-04 nm, Epot= -1.50093e+05 Fmax= 1.32228e+02, atom= 72\n",
      "Step= 4996, Dmax= 8.9e-04 nm, Epot= -1.50093e+05 Fmax= 6.73083e+02, atom= 75\n",
      "Step= 4997, Dmax= 1.1e-03 nm, Epot= -1.50094e+05 Fmax= 3.00255e+02, atom= 72\n",
      "Step= 4999, Dmax= 6.4e-04 nm, Epot= -1.50095e+05 Fmax= 2.84360e+02, atom= 75\n",
      "Step= 5000, Dmax= 7.7e-04 nm, Epot= -1.50096e+05 Fmax= 4.18424e+02, atom= 72\n",
      "Step= 5001, Dmax= 9.2e-04 nm, Epot= -1.50096e+05 Fmax= 4.23030e+02, atom= 75\n",
      "Step= 5002, Dmax= 1.1e-03 nm, Epot= -1.50096e+05 Fmax= 5.89364e+02, atom= 72\n",
      "Step= 5003, Dmax= 1.3e-03 nm, Epot= -1.50097e+05 Fmax= 6.21955e+02, atom= 75\n",
      "Step= 5005, Dmax= 8.0e-04 nm, Epot= -1.50098e+05 Fmax= 1.03854e+02, atom= 72\n",
      "Step= 5006, Dmax= 9.6e-04 nm, Epot= -1.50099e+05 Fmax= 7.61651e+02, atom= 75\n",
      "Step= 5007, Dmax= 1.1e-03 nm, Epot= -1.50101e+05 Fmax= 2.83477e+02, atom= 72\n",
      "Step= 5009, Dmax= 6.9e-04 nm, Epot= -1.50101e+05 Fmax= 3.45278e+02, atom= 75\n",
      "Step= 5010, Dmax= 8.3e-04 nm, Epot= -1.50101e+05 Fmax= 4.09356e+02, atom= 72\n",
      "Step= 5011, Dmax= 9.9e-04 nm, Epot= -1.50102e+05 Fmax= 4.95639e+02, atom= 75\n",
      "Step= 5012, Dmax= 1.2e-03 nm, Epot= -1.50102e+05 Fmax= 5.91125e+02, atom= 72\n",
      "Step= 5013, Dmax= 1.4e-03 nm, Epot= -1.50102e+05 Fmax= 7.11651e+02, atom= 75\n",
      "Step= 5014, Dmax= 1.7e-03 nm, Epot= -1.50102e+05 Fmax= 8.53664e+02, atom= 72\n",
      "Step= 5016, Dmax= 1.0e-03 nm, Epot= -1.50104e+05 Fmax= 8.97440e+01, atom= 75\n",
      "Step= 5017, Dmax= 1.2e-03 nm, Epot= -1.50105e+05 Fmax= 1.03964e+03, atom= 72\n",
      "Step= 5018, Dmax= 1.5e-03 nm, Epot= -1.50108e+05 Fmax= 3.16082e+02, atom= 72\n",
      "Step= 5020, Dmax= 8.9e-04 nm, Epot= -1.50108e+05 Fmax= 4.96833e+02, atom= 72\n",
      "Step= 5021, Dmax= 1.1e-03 nm, Epot= -1.50109e+05 Fmax= 4.74469e+02, atom= 72\n",
      "Step= 5023, Dmax= 6.4e-04 nm, Epot= -1.50110e+05 Fmax= 1.08537e+02, atom= 72\n",
      "Step= 5024, Dmax= 7.7e-04 nm, Epot= -1.50110e+05 Fmax= 5.85258e+02, atom= 75\n",
      "Step= 5025, Dmax= 9.2e-04 nm, Epot= -1.50111e+05 Fmax= 2.54689e+02, atom= 72\n",
      "Step= 5026, Dmax= 1.1e-03 nm, Epot= -1.50112e+05 Fmax= 7.48489e+02, atom= 75\n",
      "Step= 5027, Dmax= 1.3e-03 nm, Epot= -1.50113e+05 Fmax= 4.61120e+02, atom= 72\n",
      "Step= 5029, Dmax= 8.0e-04 nm, Epot= -1.50113e+05 Fmax= 2.66162e+02, atom= 75\n",
      "Step= 5030, Dmax= 9.6e-04 nm, Epot= -1.50114e+05 Fmax= 6.07706e+02, atom= 72\n",
      "Step= 5031, Dmax= 1.1e-03 nm, Epot= -1.50114e+05 Fmax= 4.38585e+02, atom= 75\n",
      "Step= 5033, Dmax= 6.9e-04 nm, Epot= -1.50115e+05 Fmax= 1.88830e+02, atom= 72\n",
      "Step= 5034, Dmax= 8.3e-04 nm, Epot= -1.50116e+05 Fmax= 5.60140e+02, atom= 75\n",
      "Step= 5035, Dmax= 9.9e-04 nm, Epot= -1.50117e+05 Fmax= 3.43184e+02, atom= 72\n",
      "Step= 5037, Dmax= 6.0e-04 nm, Epot= -1.50117e+05 Fmax= 1.99626e+02, atom= 75\n",
      "Step= 5038, Dmax= 7.1e-04 nm, Epot= -1.50118e+05 Fmax= 4.52168e+02, atom= 72\n",
      "Step= 5039, Dmax= 8.6e-04 nm, Epot= -1.50118e+05 Fmax= 3.28815e+02, atom= 75\n",
      "Step= 5040, Dmax= 1.0e-03 nm, Epot= -1.50118e+05 Fmax= 6.10336e+02, atom= 72\n",
      "Step= 5041, Dmax= 1.2e-03 nm, Epot= -1.50119e+05 Fmax= 5.13649e+02, atom= 75\n",
      "Step= 5043, Dmax= 7.4e-04 nm, Epot= -1.50120e+05 Fmax= 1.60290e+02, atom= 72\n",
      "Step= 5044, Dmax= 8.9e-04 nm, Epot= -1.50120e+05 Fmax= 6.43827e+02, atom= 75\n",
      "Step= 5045, Dmax= 1.1e-03 nm, Epot= -1.50122e+05 Fmax= 3.26448e+02, atom= 72\n",
      "Step= 5047, Dmax= 6.4e-04 nm, Epot= -1.50122e+05 Fmax= 2.56720e+02, atom= 75\n",
      "Step= 5048, Dmax= 7.7e-04 nm, Epot= -1.50123e+05 Fmax= 4.43616e+02, atom= 72\n",
      "Step= 5049, Dmax= 9.2e-04 nm, Epot= -1.50123e+05 Fmax= 3.95668e+02, atom= 75\n",
      "Step= 5051, Dmax= 5.5e-04 nm, Epot= -1.50124e+05 Fmax= 1.07791e+02, atom= 72\n",
      "Step= 5052, Dmax= 6.6e-04 nm, Epot= -1.50125e+05 Fmax= 4.92255e+02, atom= 75\n",
      "Step= 5053, Dmax= 8.0e-04 nm, Epot= -1.50126e+05 Fmax= 2.32323e+02, atom= 72\n",
      "Step= 5054, Dmax= 9.5e-04 nm, Epot= -1.50126e+05 Fmax= 6.34553e+02, atom= 75\n",
      "Step= 5055, Dmax= 1.1e-03 nm, Epot= -1.50127e+05 Fmax= 4.08633e+02, atom= 72\n",
      "Step= 5057, Dmax= 6.9e-04 nm, Epot= -1.50128e+05 Fmax= 2.19026e+02, atom= 75\n",
      "Step= 5058, Dmax= 8.3e-04 nm, Epot= -1.50128e+05 Fmax= 5.33715e+02, atom= 72\n",
      "Step= 5059, Dmax= 9.9e-04 nm, Epot= -1.50128e+05 Fmax= 3.69395e+02, atom= 75\n",
      "Step= 5060, Dmax= 1.2e-03 nm, Epot= -1.50128e+05 Fmax= 7.15630e+02, atom= 72\n",
      "Step= 5061, Dmax= 1.4e-03 nm, Epot= -1.50129e+05 Fmax= 5.84103e+02, atom= 75\n",
      "Step= 5063, Dmax= 8.6e-04 nm, Epot= -1.50130e+05 Fmax= 1.94147e+02, atom= 72\n",
      "Step= 5065, Dmax= 5.1e-04 nm, Epot= -1.50131e+05 Fmax= 2.73038e+02, atom= 75\n",
      "Step= 5066, Dmax= 6.2e-04 nm, Epot= -1.50131e+05 Fmax= 2.88448e+02, atom= 72\n",
      "Step= 5067, Dmax= 7.4e-04 nm, Epot= -1.50132e+05 Fmax= 3.84286e+02, atom= 75\n",
      "Step= 5068, Dmax= 8.9e-04 nm, Epot= -1.50133e+05 Fmax= 4.24294e+02, atom= 72\n",
      "Step= 5069, Dmax= 1.1e-03 nm, Epot= -1.50133e+05 Fmax= 5.44549e+02, atom= 75\n",
      "Step= 5070, Dmax= 1.3e-03 nm, Epot= -1.50133e+05 Fmax= 6.19904e+02, atom= 72\n",
      "Step= 5071, Dmax= 1.5e-03 nm, Epot= -1.50133e+05 Fmax= 7.74996e+02, atom= 75\n",
      "Step= 5072, Dmax= 1.8e-03 nm, Epot= -1.50134e+05 Fmax= 9.02354e+02, atom= 72\n",
      "Step= 5074, Dmax= 1.1e-03 nm, Epot= -1.50136e+05 Fmax= 1.08521e+02, atom= 75\n",
      "Step= 5075, Dmax= 1.3e-03 nm, Epot= -1.50136e+05 Fmax= 1.10338e+03, atom= 72\n",
      "Step= 5076, Dmax= 1.6e-03 nm, Epot= -1.50139e+05 Fmax= 3.49547e+02, atom= 72\n",
      "Step= 5078, Dmax= 9.5e-04 nm, Epot= -1.50139e+05 Fmax= 5.21418e+02, atom= 72\n",
      "Step= 5079, Dmax= 1.1e-03 nm, Epot= -1.50139e+05 Fmax= 5.19139e+02, atom= 72\n",
      "Step= 5081, Dmax= 6.9e-04 nm, Epot= -1.50140e+05 Fmax= 1.05405e+02, atom= 72\n",
      "Step= 5082, Dmax= 8.2e-04 nm, Epot= -1.50141e+05 Fmax= 6.37071e+02, atom= 72\n",
      "Step= 5083, Dmax= 9.9e-04 nm, Epot= -1.50142e+05 Fmax= 2.62794e+02, atom= 72\n",
      "Step= 5085, Dmax= 5.9e-04 nm, Epot= -1.50143e+05 Fmax= 2.77192e+02, atom= 75\n",
      "Step= 5086, Dmax= 7.1e-04 nm, Epot= -1.50143e+05 Fmax= 3.72366e+02, atom= 72\n",
      "Step= 5087, Dmax= 8.5e-04 nm, Epot= -1.50144e+05 Fmax= 4.04935e+02, atom= 75\n",
      "Step= 5088, Dmax= 1.0e-03 nm, Epot= -1.50144e+05 Fmax= 5.30673e+02, atom= 72\n",
      "Step= 5089, Dmax= 1.2e-03 nm, Epot= -1.50144e+05 Fmax= 5.88433e+02, atom= 75\n",
      "Step= 5090, Dmax= 1.5e-03 nm, Epot= -1.50144e+05 Fmax= 7.59138e+02, atom= 72\n",
      "Step= 5091, Dmax= 1.8e-03 nm, Epot= -1.50145e+05 Fmax= 8.52268e+02, atom= 72\n",
      "Step= 5093, Dmax= 1.1e-03 nm, Epot= -1.50146e+05 Fmax= 1.12339e+02, atom= 72\n",
      "Step= 5094, Dmax= 1.3e-03 nm, Epot= -1.50147e+05 Fmax= 1.03766e+03, atom= 75\n",
      "Step= 5095, Dmax= 1.5e-03 nm, Epot= -1.50149e+05 Fmax= 3.51276e+02, atom= 72\n",
      "Step= 5097, Dmax= 9.2e-04 nm, Epot= -1.50150e+05 Fmax= 4.85724e+02, atom= 75\n",
      "Step= 5098, Dmax= 1.1e-03 nm, Epot= -1.50150e+05 Fmax= 5.18042e+02, atom= 72\n",
      "Step= 5099, Dmax= 1.3e-03 nm, Epot= -1.50150e+05 Fmax= 6.86513e+02, atom= 75\n",
      "Step= 5100, Dmax= 1.6e-03 nm, Epot= -1.50150e+05 Fmax= 7.59093e+02, atom= 72\n",
      "Step= 5102, Dmax= 9.5e-04 nm, Epot= -1.50153e+05 Fmax= 1.12532e+02, atom= 75\n",
      "Step= 5103, Dmax= 1.1e-03 nm, Epot= -1.50153e+05 Fmax= 9.30534e+02, atom= 72\n",
      "Step= 5104, Dmax= 1.4e-03 nm, Epot= -1.50155e+05 Fmax= 3.22294e+02, atom= 75\n",
      "Step= 5106, Dmax= 8.2e-04 nm, Epot= -1.50156e+05 Fmax= 4.28006e+02, atom= 72\n",
      "Step= 5107, Dmax= 9.9e-04 nm, Epot= -1.50156e+05 Fmax= 4.69492e+02, atom= 75\n",
      "Step= 5108, Dmax= 1.2e-03 nm, Epot= -1.50156e+05 Fmax= 6.11558e+02, atom= 72\n",
      "Step= 5109, Dmax= 1.4e-03 nm, Epot= -1.50156e+05 Fmax= 6.80849e+02, atom= 75\n",
      "Step= 5111, Dmax= 8.5e-04 nm, Epot= -1.50158e+05 Fmax= 9.40303e+01, atom= 72\n",
      "Step= 5112, Dmax= 1.0e-03 nm, Epot= -1.50159e+05 Fmax= 8.28321e+02, atom= 75\n",
      "Step= 5113, Dmax= 1.2e-03 nm, Epot= -1.50160e+05 Fmax= 2.87539e+02, atom= 72\n",
      "Step= 5115, Dmax= 7.4e-04 nm, Epot= -1.50161e+05 Fmax= 3.83887e+02, atom= 75\n",
      "Step= 5116, Dmax= 8.8e-04 nm, Epot= -1.50161e+05 Fmax= 4.21763e+02, atom= 72\n",
      "Step= 5117, Dmax= 1.1e-03 nm, Epot= -1.50162e+05 Fmax= 5.44732e+02, atom= 75\n",
      "Step= 5118, Dmax= 1.3e-03 nm, Epot= -1.50162e+05 Fmax= 6.15525e+02, atom= 72\n",
      "Step= 5120, Dmax= 7.6e-04 nm, Epot= -1.50163e+05 Fmax= 9.15816e+01, atom= 10050\n",
      "Step= 5121, Dmax= 9.2e-04 nm, Epot= -1.50164e+05 Fmax= 6.76745e+02, atom= 72\n",
      "Step= 5122, Dmax= 1.1e-03 nm, Epot= -1.50166e+05 Fmax= 3.27018e+02, atom= 75\n",
      "Step= 5124, Dmax= 6.6e-04 nm, Epot= -1.50166e+05 Fmax= 2.74776e+02, atom= 72\n",
      "Step= 5125, Dmax= 7.9e-04 nm, Epot= -1.50167e+05 Fmax= 4.44585e+02, atom= 75\n",
      "Step= 5126, Dmax= 9.5e-04 nm, Epot= -1.50167e+05 Fmax= 4.21886e+02, atom= 72\n",
      "Step= 5128, Dmax= 5.7e-04 nm, Epot= -1.50168e+05 Fmax= 9.91622e+01, atom= 75\n",
      "Step= 5129, Dmax= 6.8e-04 nm, Epot= -1.50169e+05 Fmax= 5.23515e+02, atom= 72\n",
      "Step= 5130, Dmax= 8.2e-04 nm, Epot= -1.50170e+05 Fmax= 2.25897e+02, atom= 75\n",
      "Step= 5131, Dmax= 9.9e-04 nm, Epot= -1.50170e+05 Fmax= 6.74444e+02, atom= 72\n",
      "Step= 5132, Dmax= 1.2e-03 nm, Epot= -1.50171e+05 Fmax= 4.03862e+02, atom= 75\n",
      "Step= 5134, Dmax= 7.1e-04 nm, Epot= -1.50171e+05 Fmax= 2.42866e+02, atom= 72\n",
      "Step= 5135, Dmax= 8.5e-04 nm, Epot= -1.50172e+05 Fmax= 5.29022e+02, atom= 75\n",
      "Step= 5136, Dmax= 1.0e-03 nm, Epot= -1.50173e+05 Fmax= 4.02262e+02, atom= 72\n",
      "Step= 5138, Dmax= 6.1e-04 nm, Epot= -1.50173e+05 Fmax= 1.57274e+02, atom= 75\n",
      "Step= 5139, Dmax= 7.4e-04 nm, Epot= -1.50174e+05 Fmax= 5.14052e+02, atom= 72\n",
      "Step= 5140, Dmax= 8.8e-04 nm, Epot= -1.50175e+05 Fmax= 2.90887e+02, atom= 75\n",
      "Step= 5142, Dmax= 5.3e-04 nm, Epot= -1.50175e+05 Fmax= 1.92190e+02, atom= 72\n",
      "Step= 5143, Dmax= 6.4e-04 nm, Epot= -1.50176e+05 Fmax= 3.84323e+02, atom= 75\n",
      "Step= 5144, Dmax= 7.6e-04 nm, Epot= -1.50176e+05 Fmax= 3.11165e+02, atom= 72\n",
      "Step= 5145, Dmax= 9.2e-04 nm, Epot= -1.50177e+05 Fmax= 5.19836e+02, atom= 75\n",
      "Step= 5146, Dmax= 1.1e-03 nm, Epot= -1.50177e+05 Fmax= 4.81713e+02, atom= 72\n",
      "Step= 5148, Dmax= 6.6e-04 nm, Epot= -1.50178e+05 Fmax= 1.20426e+02, atom= 75\n",
      "Step= 5149, Dmax= 7.9e-04 nm, Epot= -1.50179e+05 Fmax= 6.00713e+02, atom= 72\n",
      "Step= 5150, Dmax= 9.5e-04 nm, Epot= -1.50180e+05 Fmax= 2.65046e+02, atom= 75\n",
      "Step= 5152, Dmax= 5.7e-04 nm, Epot= -1.50180e+05 Fmax= 2.54463e+02, atom= 72\n",
      "Step= 5153, Dmax= 6.8e-04 nm, Epot= -1.50181e+05 Fmax= 3.65979e+02, atom= 75\n",
      "Step= 5154, Dmax= 8.2e-04 nm, Epot= -1.50181e+05 Fmax= 3.82114e+02, atom= 72\n",
      "Step= 5155, Dmax= 9.8e-04 nm, Epot= -1.50182e+05 Fmax= 5.11701e+02, atom= 75\n",
      "Step= 5156, Dmax= 1.2e-03 nm, Epot= -1.50182e+05 Fmax= 5.65720e+02, atom= 72\n",
      "Step= 5157, Dmax= 1.4e-03 nm, Epot= -1.50182e+05 Fmax= 7.21887e+02, atom= 72\n",
      "Step= 5158, Dmax= 1.7e-03 nm, Epot= -1.50182e+05 Fmax= 8.29708e+02, atom= 72\n",
      "Step= 5160, Dmax= 1.0e-03 nm, Epot= -1.50184e+05 Fmax= 1.04237e+02, atom= 75\n",
      "Step= 5161, Dmax= 1.2e-03 nm, Epot= -1.50184e+05 Fmax= 1.01530e+03, atom= 72\n",
      "Step= 5162, Dmax= 1.5e-03 nm, Epot= -1.50187e+05 Fmax= 3.26848e+02, atom= 72\n",
      "Step= 5164, Dmax= 8.8e-04 nm, Epot= -1.50187e+05 Fmax= 4.78520e+02, atom= 72\n",
      "Step= 5165, Dmax= 1.1e-03 nm, Epot= -1.50188e+05 Fmax= 4.82740e+02, atom= 72\n",
      "Step= 5166, Dmax= 1.3e-03 nm, Epot= -1.50188e+05 Fmax= 6.76521e+02, atom= 72\n",
      "Step= 5167, Dmax= 1.5e-03 nm, Epot= -1.50188e+05 Fmax= 7.08449e+02, atom= 72\n",
      "Step= 5169, Dmax= 9.1e-04 nm, Epot= -1.50189e+05 Fmax= 1.21712e+02, atom= 72\n",
      "Step= 5170, Dmax= 1.1e-03 nm, Epot= -1.50190e+05 Fmax= 8.64997e+02, atom= 72\n",
      "Step= 5171, Dmax= 1.3e-03 nm, Epot= -1.50192e+05 Fmax= 3.31324e+02, atom= 72\n",
      "Step= 5173, Dmax= 7.9e-04 nm, Epot= -1.50192e+05 Fmax= 3.86924e+02, atom= 75\n",
      "Step= 5174, Dmax= 9.5e-04 nm, Epot= -1.50192e+05 Fmax= 4.78058e+02, atom= 72\n",
      "Step= 5175, Dmax= 1.1e-03 nm, Epot= -1.50193e+05 Fmax= 5.55933e+02, atom= 75\n",
      "Step= 5176, Dmax= 1.4e-03 nm, Epot= -1.50193e+05 Fmax= 6.89791e+02, atom= 72\n",
      "Step= 5177, Dmax= 1.6e-03 nm, Epot= -1.50193e+05 Fmax= 7.99134e+02, atom= 72\n",
      "Step= 5179, Dmax= 9.8e-04 nm, Epot= -1.50195e+05 Fmax= 9.27625e+01, atom= 72\n",
      "Step= 5180, Dmax= 1.2e-03 nm, Epot= -1.50196e+05 Fmax= 9.67727e+02, atom= 75\n",
      "Step= 5181, Dmax= 1.4e-03 nm, Epot= -1.50198e+05 Fmax= 3.16741e+02, atom= 72\n",
      "Step= 5183, Dmax= 8.5e-04 nm, Epot= -1.50199e+05 Fmax= 4.56301e+02, atom= 75\n",
      "Step= 5184, Dmax= 1.0e-03 nm, Epot= -1.50199e+05 Fmax= 4.71672e+02, atom= 72\n",
      "Step= 5185, Dmax= 1.2e-03 nm, Epot= -1.50199e+05 Fmax= 6.41177e+02, atom= 75\n",
      "Step= 5186, Dmax= 1.5e-03 nm, Epot= -1.50199e+05 Fmax= 6.95153e+02, atom= 72\n",
      "Step= 5188, Dmax= 8.8e-04 nm, Epot= -1.50201e+05 Fmax= 1.10168e+02, atom= 75\n",
      "Step= 5189, Dmax= 1.1e-03 nm, Epot= -1.50201e+05 Fmax= 8.52528e+02, atom= 72\n",
      "Step= 5190, Dmax= 1.3e-03 nm, Epot= -1.50203e+05 Fmax= 3.05184e+02, atom= 75\n",
      "Step= 5192, Dmax= 7.6e-04 nm, Epot= -1.50203e+05 Fmax= 3.88501e+02, atom= 72\n",
      "Step= 5193, Dmax= 9.1e-04 nm, Epot= -1.50203e+05 Fmax= 4.40758e+02, atom= 75\n",
      "Step= 5194, Dmax= 1.1e-03 nm, Epot= -1.50204e+05 Fmax= 5.58457e+02, atom= 72\n",
      "Step= 5195, Dmax= 1.3e-03 nm, Epot= -1.50204e+05 Fmax= 6.35821e+02, atom= 75\n",
      "Step= 5197, Dmax= 7.9e-04 nm, Epot= -1.50206e+05 Fmax= 8.09294e+01, atom= 3218\n",
      "Step= 5198, Dmax= 9.5e-04 nm, Epot= -1.50207e+05 Fmax= 7.66543e+02, atom= 75\n",
      "Step= 5199, Dmax= 1.1e-03 nm, Epot= -1.50208e+05 Fmax= 2.65215e+02, atom= 72\n",
      "Step= 5201, Dmax= 6.8e-04 nm, Epot= -1.50209e+05 Fmax= 3.55251e+02, atom= 75\n",
      "Step= 5202, Dmax= 8.2e-04 nm, Epot= -1.50209e+05 Fmax= 3.89531e+02, atom= 72\n",
      "Step= 5203, Dmax= 9.8e-04 nm, Epot= -1.50209e+05 Fmax= 5.03607e+02, atom= 75\n",
      "Step= 5204, Dmax= 1.2e-03 nm, Epot= -1.50210e+05 Fmax= 5.69006e+02, atom= 72\n",
      "Step= 5206, Dmax= 7.1e-04 nm, Epot= -1.50211e+05 Fmax= 8.12260e+01, atom= 3218\n",
      "Step= 5207, Dmax= 8.5e-04 nm, Epot= -1.50212e+05 Fmax= 6.52722e+02, atom= 72\n",
      "Step= 5208, Dmax= 1.0e-03 nm, Epot= -1.50213e+05 Fmax= 2.75313e+02, atom= 75\n",
      "Step= 5210, Dmax= 6.1e-04 nm, Epot= -1.50214e+05 Fmax= 2.81011e+02, atom= 72\n",
      "Step= 5211, Dmax= 7.3e-04 nm, Epot= -1.50214e+05 Fmax= 3.84263e+02, atom= 75\n",
      "Step= 5212, Dmax= 8.8e-04 nm, Epot= -1.50215e+05 Fmax= 4.16882e+02, atom= 72\n",
      "Step= 5213, Dmax= 1.1e-03 nm, Epot= -1.50215e+05 Fmax= 5.41392e+02, atom= 75\n",
      "Step= 5214, Dmax= 1.3e-03 nm, Epot= -1.50215e+05 Fmax= 6.12533e+02, atom= 72\n",
      "Step= 5216, Dmax= 7.6e-04 nm, Epot= -1.50216e+05 Fmax= 8.17398e+01, atom= 75\n",
      "Step= 5217, Dmax= 9.1e-04 nm, Epot= -1.50217e+05 Fmax= 7.47433e+02, atom= 72\n",
      "Step= 5218, Dmax= 1.1e-03 nm, Epot= -1.50219e+05 Fmax= 2.50636e+02, atom= 75\n",
      "Step= 5220, Dmax= 6.6e-04 nm, Epot= -1.50219e+05 Fmax= 3.47951e+02, atom= 72\n",
      "Step= 5221, Dmax= 7.9e-04 nm, Epot= -1.50220e+05 Fmax= 3.67250e+02, atom= 75\n",
      "Step= 5222, Dmax= 9.4e-04 nm, Epot= -1.50220e+05 Fmax= 4.95235e+02, atom= 72\n",
      "Step= 5223, Dmax= 1.1e-03 nm, Epot= -1.50220e+05 Fmax= 5.34813e+02, atom= 72\n",
      "Step= 5224, Dmax= 1.4e-03 nm, Epot= -1.50221e+05 Fmax= 7.07390e+02, atom= 72\n",
      "Step= 5225, Dmax= 1.6e-03 nm, Epot= -1.50221e+05 Fmax= 7.76478e+02, atom= 72\n",
      "Step= 5227, Dmax= 9.8e-04 nm, Epot= -1.50222e+05 Fmax= 1.12623e+02, atom= 72\n",
      "Step= 5228, Dmax= 1.2e-03 nm, Epot= -1.50223e+05 Fmax= 9.45260e+02, atom= 75\n",
      "Step= 5229, Dmax= 1.4e-03 nm, Epot= -1.50225e+05 Fmax= 3.35541e+02, atom= 72\n",
      "Step= 5231, Dmax= 8.5e-04 nm, Epot= -1.50225e+05 Fmax= 4.34827e+02, atom= 75\n",
      "Step= 5232, Dmax= 1.0e-03 nm, Epot= -1.50226e+05 Fmax= 4.90744e+02, atom= 72\n",
      "Step= 5234, Dmax= 6.1e-04 nm, Epot= -1.50226e+05 Fmax= 8.10014e+01, atom= 3218\n",
      "Step= 5235, Dmax= 7.3e-04 nm, Epot= -1.50228e+05 Fmax= 4.77190e+02, atom= 72\n",
      "Step= 5236, Dmax= 8.8e-04 nm, Epot= -1.50229e+05 Fmax= 3.21781e+02, atom= 75\n",
      "Step= 5238, Dmax= 5.3e-04 nm, Epot= -1.50229e+05 Fmax= 1.58015e+02, atom= 72\n",
      "Step= 5239, Dmax= 6.3e-04 nm, Epot= -1.50230e+05 Fmax= 4.13889e+02, atom= 75\n",
      "Step= 5240, Dmax= 7.6e-04 nm, Epot= -1.50230e+05 Fmax= 2.76766e+02, atom= 72\n",
      "Step= 5241, Dmax= 9.1e-04 nm, Epot= -1.50230e+05 Fmax= 5.48360e+02, atom= 75\n",
      "Step= 5242, Dmax= 1.1e-03 nm, Epot= -1.50231e+05 Fmax= 4.45969e+02, atom= 72\n",
      "Step= 5244, Dmax= 6.5e-04 nm, Epot= -1.50232e+05 Fmax= 1.52041e+02, atom= 75\n",
      "Step= 5245, Dmax= 7.9e-04 nm, Epot= -1.50232e+05 Fmax= 5.64197e+02, atom= 72\n",
      "Step= 5246, Dmax= 9.4e-04 nm, Epot= -1.50233e+05 Fmax= 2.95852e+02, atom= 75\n",
      "Step= 5248, Dmax= 5.7e-04 nm, Epot= -1.50234e+05 Fmax= 2.19996e+02, atom= 72\n",
      "Step= 5249, Dmax= 6.8e-04 nm, Epot= -1.50234e+05 Fmax= 3.96081e+02, atom= 75\n",
      "Step= 5250, Dmax= 8.1e-04 nm, Epot= -1.50234e+05 Fmax= 3.46722e+02, atom= 72\n",
      "Step= 5251, Dmax= 9.8e-04 nm, Epot= -1.50234e+05 Fmax= 5.41178e+02, atom= 75\n",
      "Step= 5252, Dmax= 1.2e-03 nm, Epot= -1.50235e+05 Fmax= 5.28473e+02, atom= 72\n",
      "Step= 5254, Dmax= 7.0e-04 nm, Epot= -1.50236e+05 Fmax= 1.14862e+02, atom= 75\n",
      "Step= 5255, Dmax= 8.4e-04 nm, Epot= -1.50237e+05 Fmax= 6.54700e+02, atom= 72\n",
      "Step= 5256, Dmax= 1.0e-03 nm, Epot= -1.50238e+05 Fmax= 2.70306e+02, atom= 75\n",
      "Step= 5258, Dmax= 6.1e-04 nm, Epot= -1.50238e+05 Fmax= 2.84574e+02, atom= 72\n",
      "Step= 5260, Dmax= 3.6e-04 nm, Epot= -1.50239e+05 Fmax= 7.93837e+01, atom= 3218\n",
      "Step= 5261, Dmax= 4.4e-04 nm, Epot= -1.50240e+05 Fmax= 1.94989e+02, atom= 72\n",
      "Step= 5262, Dmax= 5.3e-04 nm, Epot= -1.50240e+05 Fmax= 2.81728e+02, atom= 75\n",
      "Step= 5263, Dmax= 6.3e-04 nm, Epot= -1.50241e+05 Fmax= 2.93724e+02, atom= 72\n",
      "Step= 5265, Dmax= 3.8e-04 nm, Epot= -1.50241e+05 Fmax= 7.88731e+01, atom= 3218\n",
      "Step= 5266, Dmax= 4.5e-04 nm, Epot= -1.50242e+05 Fmax= 2.19010e+02, atom= 72\n",
      "Step= 5267, Dmax= 5.4e-04 nm, Epot= -1.50243e+05 Fmax= 2.75571e+02, atom= 75\n",
      "Step= 5268, Dmax= 6.5e-04 nm, Epot= -1.50243e+05 Fmax= 3.21150e+02, atom= 72\n",
      "Step= 5269, Dmax= 7.8e-04 nm, Epot= -1.50244e+05 Fmax= 3.91350e+02, atom= 75\n",
      "Step= 5270, Dmax= 9.4e-04 nm, Epot= -1.50244e+05 Fmax= 4.68099e+02, atom= 72\n",
      "Step= 5271, Dmax= 1.1e-03 nm, Epot= -1.50244e+05 Fmax= 5.58212e+02, atom= 75\n",
      "Step= 5272, Dmax= 1.4e-03 nm, Epot= -1.50244e+05 Fmax= 6.79669e+02, atom= 72\n",
      "Step= 5273, Dmax= 1.6e-03 nm, Epot= -1.50244e+05 Fmax= 7.98949e+02, atom= 72\n",
      "Step= 5275, Dmax= 9.8e-04 nm, Epot= -1.50246e+05 Fmax= 8.70835e+01, atom= 72\n",
      "Step= 5276, Dmax= 1.2e-03 nm, Epot= -1.50246e+05 Fmax= 9.65342e+02, atom= 75\n",
      "Step= 5277, Dmax= 1.4e-03 nm, Epot= -1.50249e+05 Fmax= 3.10983e+02, atom= 72\n",
      "Step= 5279, Dmax= 8.4e-04 nm, Epot= -1.50249e+05 Fmax= 4.56858e+02, atom= 75\n",
      "Step= 5280, Dmax= 1.0e-03 nm, Epot= -1.50249e+05 Fmax= 4.65235e+02, atom= 72\n",
      "Step= 5281, Dmax= 1.2e-03 nm, Epot= -1.50250e+05 Fmax= 6.40214e+02, atom= 75\n",
      "Step= 5282, Dmax= 1.5e-03 nm, Epot= -1.50250e+05 Fmax= 6.87561e+02, atom= 72\n",
      "Step= 5284, Dmax= 8.7e-04 nm, Epot= -1.50251e+05 Fmax= 1.12612e+02, atom= 75\n",
      "Step= 5285, Dmax= 1.0e-03 nm, Epot= -1.50252e+05 Fmax= 8.43075e+02, atom= 72\n",
      "Step= 5286, Dmax= 1.3e-03 nm, Epot= -1.50253e+05 Fmax= 3.07076e+02, atom= 75\n",
      "Step= 5288, Dmax= 7.6e-04 nm, Epot= -1.50253e+05 Fmax= 3.82059e+02, atom= 72\n",
      "Step= 5289, Dmax= 9.1e-04 nm, Epot= -1.50254e+05 Fmax= 4.41857e+02, atom= 75\n",
      "Step= 5290, Dmax= 1.1e-03 nm, Epot= -1.50254e+05 Fmax= 5.50553e+02, atom= 72\n",
      "Step= 5291, Dmax= 1.3e-03 nm, Epot= -1.50255e+05 Fmax= 6.36137e+02, atom= 75\n",
      "Step= 5293, Dmax= 7.8e-04 nm, Epot= -1.50256e+05 Fmax= 7.57283e+01, atom= 72\n",
      "Step= 5294, Dmax= 9.4e-04 nm, Epot= -1.50257e+05 Fmax= 7.68056e+02, atom= 75\n",
      "Step= 5295, Dmax= 1.1e-03 nm, Epot= -1.50258e+05 Fmax= 2.56961e+02, atom= 72\n",
      "Step= 5297, Dmax= 6.8e-04 nm, Epot= -1.50259e+05 Fmax= 3.59388e+02, atom= 75\n",
      "Step= 5298, Dmax= 8.1e-04 nm, Epot= -1.50259e+05 Fmax= 3.80357e+02, atom= 72\n",
      "Step= 5299, Dmax= 9.7e-04 nm, Epot= -1.50259e+05 Fmax= 5.07021e+02, atom= 75\n",
      "Step= 5300, Dmax= 1.2e-03 nm, Epot= -1.50260e+05 Fmax= 5.58304e+02, atom= 72\n",
      "Step= 5301, Dmax= 1.4e-03 nm, Epot= -1.50260e+05 Fmax= 7.19026e+02, atom= 75\n",
      "Step= 5302, Dmax= 1.7e-03 nm, Epot= -1.50260e+05 Fmax= 8.15343e+02, atom= 72\n",
      "Step= 5304, Dmax= 1.0e-03 nm, Epot= -1.50262e+05 Fmax= 1.09859e+02, atom= 75\n",
      "Step= 5306, Dmax= 6.1e-04 nm, Epot= -1.50262e+05 Fmax= 4.41619e+02, atom= 72\n",
      "Step= 5307, Dmax= 7.3e-04 nm, Epot= -1.50263e+05 Fmax= 2.21542e+02, atom= 75\n",
      "Step= 5308, Dmax= 8.7e-04 nm, Epot= -1.50263e+05 Fmax= 5.75007e+02, atom= 72\n",
      "Step= 5309, Dmax= 1.0e-03 nm, Epot= -1.50264e+05 Fmax= 3.79376e+02, atom= 75\n",
      "Step= 5311, Dmax= 6.3e-04 nm, Epot= -1.50264e+05 Fmax= 1.93419e+02, atom= 72\n",
      "Step= 5312, Dmax= 7.5e-04 nm, Epot= -1.50265e+05 Fmax= 4.89500e+02, atom= 75\n",
      "Step= 5313, Dmax= 9.0e-04 nm, Epot= -1.50265e+05 Fmax= 3.35141e+02, atom= 72\n",
      "Step= 5315, Dmax= 5.4e-04 nm, Epot= -1.50266e+05 Fmax= 1.60262e+02, atom= 75\n",
      "Step= 5316, Dmax= 6.5e-04 nm, Epot= -1.50266e+05 Fmax= 4.33606e+02, atom= 72\n",
      "Step= 5317, Dmax= 7.8e-04 nm, Epot= -1.50267e+05 Fmax= 2.79070e+02, atom= 75\n",
      "Step= 5319, Dmax= 4.7e-04 nm, Epot= -1.50267e+05 Fmax= 1.48824e+02, atom= 72\n",
      "Step= 5320, Dmax= 5.6e-04 nm, Epot= -1.50268e+05 Fmax= 3.61245e+02, atom= 75\n",
      "Step= 5321, Dmax= 6.8e-04 nm, Epot= -1.50268e+05 Fmax= 2.54615e+02, atom= 72\n",
      "Step= 5322, Dmax= 8.1e-04 nm, Epot= -1.50269e+05 Fmax= 4.81237e+02, atom= 75\n",
      "Step= 5323, Dmax= 9.7e-04 nm, Epot= -1.50269e+05 Fmax= 4.05509e+02, atom= 72\n",
      "Step= 5325, Dmax= 5.8e-04 nm, Epot= -1.50270e+05 Fmax= 1.27596e+02, atom= 75\n",
      "Step= 5326, Dmax= 7.0e-04 nm, Epot= -1.50270e+05 Fmax= 5.10242e+02, atom= 72\n",
      "Step= 5327, Dmax= 8.4e-04 nm, Epot= -1.50271e+05 Fmax= 2.56609e+02, atom= 75\n",
      "Step= 5329, Dmax= 5.0e-04 nm, Epot= -1.50271e+05 Fmax= 2.03397e+02, atom= 72\n",
      "Step= 5330, Dmax= 6.0e-04 nm, Epot= -1.50272e+05 Fmax= 3.45913e+02, atom= 75\n",
      "Step= 5331, Dmax= 7.3e-04 nm, Epot= -1.50272e+05 Fmax= 3.16293e+02, atom= 72\n",
      "Step= 5332, Dmax= 8.7e-04 nm, Epot= -1.50272e+05 Fmax= 4.75284e+02, atom= 75\n",
      "Step= 5333, Dmax= 1.0e-03 nm, Epot= -1.50273e+05 Fmax= 4.78436e+02, atom= 72\n",
      "Step= 5335, Dmax= 6.3e-04 nm, Epot= -1.50273e+05 Fmax= 9.50969e+01, atom= 75\n",
      "Step= 5336, Dmax= 7.5e-04 nm, Epot= -1.50274e+05 Fmax= 5.89540e+02, atom= 72\n",
      "Step= 5337, Dmax= 9.0e-04 nm, Epot= -1.50275e+05 Fmax= 2.34984e+02, atom= 75\n",
      "Step= 5339, Dmax= 5.4e-04 nm, Epot= -1.50275e+05 Fmax= 2.59667e+02, atom= 72\n",
      "Step= 5340, Dmax= 6.5e-04 nm, Epot= -1.50276e+05 Fmax= 3.31162e+02, atom= 75\n",
      "Step= 5341, Dmax= 7.8e-04 nm, Epot= -1.50276e+05 Fmax= 3.81245e+02, atom= 72\n",
      "Step= 5343, Dmax= 4.7e-04 nm, Epot= -1.50277e+05 Fmax= 6.40969e+01, atom= 3218\n",
      "Step= 5344, Dmax= 5.6e-04 nm, Epot= -1.50278e+05 Fmax= 3.24733e+02, atom= 72\n",
      "Step= 5345, Dmax= 6.7e-04 nm, Epot= -1.50278e+05 Fmax= 2.88540e+02, atom= 75\n",
      "Step= 5346, Dmax= 8.1e-04 nm, Epot= -1.50279e+05 Fmax= 4.50757e+02, atom= 72\n",
      "Step= 5347, Dmax= 9.7e-04 nm, Epot= -1.50279e+05 Fmax= 4.32372e+02, atom= 75\n",
      "Step= 5348, Dmax= 1.2e-03 nm, Epot= -1.50279e+05 Fmax= 6.32747e+02, atom= 72\n",
      "Step= 5349, Dmax= 1.4e-03 nm, Epot= -1.50280e+05 Fmax= 6.39024e+02, atom= 72\n",
      "Step= 5351, Dmax= 8.4e-04 nm, Epot= -1.50281e+05 Fmax= 1.24005e+02, atom= 72\n",
      "Step= 5352, Dmax= 1.0e-03 nm, Epot= -1.50281e+05 Fmax= 7.82355e+02, atom= 75\n",
      "Step= 5353, Dmax= 1.2e-03 nm, Epot= -1.50283e+05 Fmax= 3.16662e+02, atom= 72\n",
      "Step= 5355, Dmax= 7.2e-04 nm, Epot= -1.50283e+05 Fmax= 3.43293e+02, atom= 75\n",
      "Step= 5356, Dmax= 8.7e-04 nm, Epot= -1.50283e+05 Fmax= 4.50653e+02, atom= 72\n",
      "Step= 5357, Dmax= 1.0e-03 nm, Epot= -1.50284e+05 Fmax= 4.99325e+02, atom= 75\n",
      "Step= 5358, Dmax= 1.3e-03 nm, Epot= -1.50284e+05 Fmax= 6.44158e+02, atom= 72\n",
      "Step= 5359, Dmax= 1.5e-03 nm, Epot= -1.50284e+05 Fmax= 7.23290e+02, atom= 75\n",
      "Step= 5361, Dmax= 9.0e-04 nm, Epot= -1.50285e+05 Fmax= 9.63834e+01, atom= 72\n",
      "Step= 5362, Dmax= 1.1e-03 nm, Epot= -1.50286e+05 Fmax= 8.76834e+02, atom= 75\n",
      "Step= 5363, Dmax= 1.3e-03 nm, Epot= -1.50287e+05 Fmax= 3.03208e+02, atom= 72\n",
      "Step= 5365, Dmax= 7.8e-04 nm, Epot= -1.50287e+05 Fmax= 4.06796e+02, atom= 75\n",
      "Step= 5366, Dmax= 9.3e-04 nm, Epot= -1.50288e+05 Fmax= 4.45357e+02, atom= 72\n",
      "Step= 5367, Dmax= 1.1e-03 nm, Epot= -1.50288e+05 Fmax= 5.76445e+02, atom= 75\n",
      "Step= 5368, Dmax= 1.3e-03 nm, Epot= -1.50288e+05 Fmax= 6.50934e+02, atom= 72\n",
      "Step= 5370, Dmax= 8.1e-04 nm, Epot= -1.50289e+05 Fmax= 8.86634e+01, atom= 75\n",
      "Step= 5371, Dmax= 9.7e-04 nm, Epot= -1.50290e+05 Fmax= 7.92202e+02, atom= 72\n",
      "Step= 5372, Dmax= 1.2e-03 nm, Epot= -1.50292e+05 Fmax= 2.70755e+02, atom= 75\n",
      "Step= 5374, Dmax= 7.0e-04 nm, Epot= -1.50292e+05 Fmax= 3.66276e+02, atom= 72\n",
      "Step= 5375, Dmax= 8.4e-04 nm, Epot= -1.50292e+05 Fmax= 3.95236e+02, atom= 75\n",
      "Step= 5376, Dmax= 1.0e-03 nm, Epot= -1.50292e+05 Fmax= 5.22330e+02, atom= 72\n",
      "Step= 5377, Dmax= 1.2e-03 nm, Epot= -1.50293e+05 Fmax= 5.74400e+02, atom= 75\n",
      "Step= 5378, Dmax= 1.4e-03 nm, Epot= -1.50293e+05 Fmax= 7.47313e+02, atom= 72\n",
      "Step= 5380, Dmax= 8.7e-04 nm, Epot= -1.50294e+05 Fmax= 5.39711e+01, atom= 3218\n",
      "Step= 5381, Dmax= 1.0e-03 nm, Epot= -1.50296e+05 Fmax= 7.90168e+02, atom= 72\n",
      "Step= 5382, Dmax= 1.3e-03 nm, Epot= -1.50298e+05 Fmax= 3.49958e+02, atom= 72\n",
      "Step= 5384, Dmax= 7.5e-04 nm, Epot= -1.50298e+05 Fmax= 3.35283e+02, atom= 72\n",
      "Step= 5386, Dmax= 4.5e-04 nm, Epot= -1.50299e+05 Fmax= 7.57392e+01, atom= 75\n",
      "Step= 5387, Dmax= 5.4e-04 nm, Epot= -1.50299e+05 Fmax= 4.15238e+02, atom= 72\n",
      "Step= 5388, Dmax= 6.5e-04 nm, Epot= -1.50300e+05 Fmax= 1.75889e+02, atom= 75\n",
      "Step= 5389, Dmax= 7.8e-04 nm, Epot= -1.50300e+05 Fmax= 5.35372e+02, atom= 72\n",
      "Step= 5390, Dmax= 9.3e-04 nm, Epot= -1.50301e+05 Fmax= 3.14783e+02, atom= 75\n",
      "Step= 5392, Dmax= 5.6e-04 nm, Epot= -1.50301e+05 Fmax= 1.96657e+02, atom= 72\n",
      "Step= 5393, Dmax= 6.7e-04 nm, Epot= -1.50301e+05 Fmax= 4.11453e+02, atom= 72\n",
      "Step= 5394, Dmax= 8.1e-04 nm, Epot= -1.50302e+05 Fmax= 3.25002e+02, atom= 72\n",
      "Step= 5395, Dmax= 9.7e-04 nm, Epot= -1.50302e+05 Fmax= 5.52566e+02, atom= 72\n",
      "Step= 5396, Dmax= 1.2e-03 nm, Epot= -1.50302e+05 Fmax= 5.07493e+02, atom= 72\n",
      "Step= 5398, Dmax= 7.0e-04 nm, Epot= -1.50303e+05 Fmax= 1.29182e+02, atom= 75\n",
      "Step= 5399, Dmax= 8.4e-04 nm, Epot= -1.50304e+05 Fmax= 6.34491e+02, atom= 72\n",
      "Step= 5400, Dmax= 1.0e-03 nm, Epot= -1.50305e+05 Fmax= 2.80755e+02, atom= 75\n",
      "Step= 5402, Dmax= 6.0e-04 nm, Epot= -1.50305e+05 Fmax= 2.69385e+02, atom= 72\n",
      "Step= 5403, Dmax= 7.2e-04 nm, Epot= -1.50305e+05 Fmax= 3.85577e+02, atom= 75\n",
      "Step= 5404, Dmax= 8.7e-04 nm, Epot= -1.50306e+05 Fmax= 4.06684e+02, atom= 72\n",
      "Step= 5405, Dmax= 1.0e-03 nm, Epot= -1.50306e+05 Fmax= 5.37787e+02, atom= 72\n",
      "Step= 5406, Dmax= 1.2e-03 nm, Epot= -1.50306e+05 Fmax= 6.02558e+02, atom= 72\n",
      "Step= 5408, Dmax= 7.5e-04 nm, Epot= -1.50307e+05 Fmax= 8.26285e+01, atom= 75\n",
      "Step= 5409, Dmax= 9.0e-04 nm, Epot= -1.50308e+05 Fmax= 7.36370e+02, atom= 72\n",
      "Step= 5410, Dmax= 1.1e-03 nm, Epot= -1.50309e+05 Fmax= 2.48207e+02, atom= 75\n",
      "Step= 5412, Dmax= 6.5e-04 nm, Epot= -1.50309e+05 Fmax= 3.43645e+02, atom= 72\n",
      "Step= 5413, Dmax= 7.8e-04 nm, Epot= -1.50309e+05 Fmax= 3.61449e+02, atom= 72\n",
      "Step= 5414, Dmax= 9.3e-04 nm, Epot= -1.50310e+05 Fmax= 4.90912e+02, atom= 72\n",
      "Step= 5415, Dmax= 1.1e-03 nm, Epot= -1.50310e+05 Fmax= 5.25451e+02, atom= 72\n",
      "Step= 5416, Dmax= 1.3e-03 nm, Epot= -1.50310e+05 Fmax= 7.01167e+02, atom= 72\n",
      "Step= 5417, Dmax= 1.6e-03 nm, Epot= -1.50310e+05 Fmax= 7.63131e+02, atom= 72\n",
      "Step= 5419, Dmax= 9.7e-04 nm, Epot= -1.50312e+05 Fmax= 1.14771e+02, atom= 72\n",
      "Step= 5421, Dmax= 5.8e-04 nm, Epot= -1.50312e+05 Fmax= 4.08277e+02, atom= 75\n",
      "Step= 5422, Dmax= 7.0e-04 nm, Epot= -1.50313e+05 Fmax= 2.26602e+02, atom= 72\n",
      "Step= 5423, Dmax= 8.3e-04 nm, Epot= -1.50313e+05 Fmax= 5.29272e+02, atom= 75\n",
      "Step= 5424, Dmax= 1.0e-03 nm, Epot= -1.50314e+05 Fmax= 3.84879e+02, atom= 72\n",
      "Step= 5426, Dmax= 6.0e-04 nm, Epot= -1.50314e+05 Fmax= 1.63692e+02, atom= 75\n",
      "Step= 5427, Dmax= 7.2e-04 nm, Epot= -1.50315e+05 Fmax= 4.95082e+02, atom= 72\n",
      "Step= 5428, Dmax= 8.7e-04 nm, Epot= -1.50315e+05 Fmax= 2.93805e+02, atom= 75\n",
      "Step= 5430, Dmax= 5.2e-04 nm, Epot= -1.50316e+05 Fmax= 1.80459e+02, atom= 72\n",
      "Step= 5431, Dmax= 6.2e-04 nm, Epot= -1.50316e+05 Fmax= 3.83607e+02, atom= 75\n",
      "Step= 5432, Dmax= 7.5e-04 nm, Epot= -1.50316e+05 Fmax= 2.99083e+02, atom= 72\n",
      "Step= 5434, Dmax= 4.5e-04 nm, Epot= -1.50317e+05 Fmax= 1.10550e+02, atom= 75\n",
      "Step= 5435, Dmax= 5.4e-04 nm, Epot= -1.50317e+05 Fmax= 3.79833e+02, atom= 72\n",
      "Step= 5436, Dmax= 6.5e-04 nm, Epot= -1.50318e+05 Fmax= 2.09099e+02, atom= 75\n",
      "Step= 5437, Dmax= 7.8e-04 nm, Epot= -1.50318e+05 Fmax= 4.99498e+02, atom= 72\n",
      "Step= 5438, Dmax= 9.3e-04 nm, Epot= -1.50318e+05 Fmax= 3.47678e+02, atom= 75\n",
      "Step= 5440, Dmax= 5.6e-04 nm, Epot= -1.50319e+05 Fmax= 1.61806e+02, atom= 72\n",
      "Step= 5441, Dmax= 6.7e-04 nm, Epot= -1.50319e+05 Fmax= 4.43519e+02, atom= 75\n",
      "Step= 5442, Dmax= 8.0e-04 nm, Epot= -1.50320e+05 Fmax= 2.89968e+02, atom= 72\n",
      "Step= 5443, Dmax= 9.6e-04 nm, Epot= -1.50320e+05 Fmax= 5.84025e+02, atom= 72\n",
      "Step= 5444, Dmax= 1.2e-03 nm, Epot= -1.50321e+05 Fmax= 4.72072e+02, atom= 72\n",
      "Step= 5446, Dmax= 6.9e-04 nm, Epot= -1.50321e+05 Fmax= 1.62188e+02, atom= 75\n",
      "Step= 5448, Dmax= 4.2e-04 nm, Epot= -1.50322e+05 Fmax= 2.18275e+02, atom= 72\n",
      "Step= 5449, Dmax= 5.0e-04 nm, Epot= -1.50322e+05 Fmax= 2.36190e+02, atom= 75\n",
      "Step= 5450, Dmax= 6.0e-04 nm, Epot= -1.50322e+05 Fmax= 3.11933e+02, atom= 72\n",
      "Step= 5451, Dmax= 7.2e-04 nm, Epot= -1.50323e+05 Fmax= 3.42459e+02, atom= 75\n",
      "Step= 5452, Dmax= 8.6e-04 nm, Epot= -1.50323e+05 Fmax= 4.47036e+02, atom= 72\n",
      "Step= 5453, Dmax= 1.0e-03 nm, Epot= -1.50323e+05 Fmax= 4.95361e+02, atom= 75\n",
      "Step= 5454, Dmax= 1.2e-03 nm, Epot= -1.50323e+05 Fmax= 6.41940e+02, atom= 72\n",
      "Step= 5455, Dmax= 1.5e-03 nm, Epot= -1.50323e+05 Fmax= 7.15714e+02, atom= 72\n",
      "Step= 5457, Dmax= 9.0e-04 nm, Epot= -1.50325e+05 Fmax= 9.87081e+01, atom= 72\n",
      "Step= 5458, Dmax= 1.1e-03 nm, Epot= -1.50325e+05 Fmax= 8.66180e+02, atom= 75\n",
      "Step= 5459, Dmax= 1.3e-03 nm, Epot= -1.50327e+05 Fmax= 3.06934e+02, atom= 72\n",
      "Step= 5461, Dmax= 7.7e-04 nm, Epot= -1.50327e+05 Fmax= 3.97706e+02, atom= 75\n",
      "Step= 5462, Dmax= 9.3e-04 nm, Epot= -1.50327e+05 Fmax= 4.49765e+02, atom= 72\n",
      "Step= 5464, Dmax= 5.6e-04 nm, Epot= -1.50328e+05 Fmax= 6.03434e+01, atom= 75\n",
      "Step= 5465, Dmax= 6.7e-04 nm, Epot= -1.50329e+05 Fmax= 5.43812e+02, atom= 72\n",
      "Step= 5466, Dmax= 8.0e-04 nm, Epot= -1.50330e+05 Fmax= 1.88930e+02, atom= 75\n",
      "Step= 5468, Dmax= 4.8e-04 nm, Epot= -1.50330e+05 Fmax= 2.50575e+02, atom= 72\n",
      "Step= 5469, Dmax= 5.8e-04 nm, Epot= -1.50330e+05 Fmax= 2.74671e+02, atom= 75\n",
      "Step= 5470, Dmax= 6.9e-04 nm, Epot= -1.50331e+05 Fmax= 3.58534e+02, atom= 72\n",
      "Step= 5471, Dmax= 8.3e-04 nm, Epot= -1.50331e+05 Fmax= 3.97849e+02, atom= 75\n",
      "Step= 5472, Dmax= 1.0e-03 nm, Epot= -1.50331e+05 Fmax= 5.14115e+02, atom= 72\n",
      "Step= 5473, Dmax= 1.2e-03 nm, Epot= -1.50332e+05 Fmax= 5.75271e+02, atom= 75\n",
      "Step= 5475, Dmax= 7.2e-04 nm, Epot= -1.50333e+05 Fmax= 7.89654e+01, atom= 72\n",
      "Step= 5476, Dmax= 8.6e-04 nm, Epot= -1.50333e+05 Fmax= 6.94643e+02, atom= 75\n",
      "Step= 5477, Dmax= 1.0e-03 nm, Epot= -1.50334e+05 Fmax= 2.47321e+02, atom= 72\n",
      "Step= 5479, Dmax= 6.2e-04 nm, Epot= -1.50335e+05 Fmax= 3.18123e+02, atom= 75\n",
      "Step= 5480, Dmax= 7.5e-04 nm, Epot= -1.50335e+05 Fmax= 3.61678e+02, atom= 72\n",
      "Step= 5481, Dmax= 8.9e-04 nm, Epot= -1.50335e+05 Fmax= 4.52507e+02, atom= 75\n",
      "Step= 5482, Dmax= 1.1e-03 nm, Epot= -1.50335e+05 Fmax= 5.26635e+02, atom= 72\n",
      "Step= 5483, Dmax= 1.3e-03 nm, Epot= -1.50336e+05 Fmax= 6.45463e+02, atom= 75\n",
      "Step= 5485, Dmax= 7.7e-04 nm, Epot= -1.50337e+05 Fmax= 5.72899e+01, atom= 72\n",
      "Step= 5486, Dmax= 9.3e-04 nm, Epot= -1.50338e+05 Fmax= 7.71677e+02, atom= 75\n",
      "Step= 5487, Dmax= 1.1e-03 nm, Epot= -1.50340e+05 Fmax= 2.39929e+02, atom= 72\n",
      "Step= 5490, Dmax= 3.3e-04 nm, Epot= -1.50340e+05 Fmax= 6.57233e+01, atom= 75\n",
      "Step= 5491, Dmax= 4.0e-04 nm, Epot= -1.50341e+05 Fmax= 2.95783e+02, atom= 72\n",
      "Step= 5492, Dmax= 4.8e-04 nm, Epot= -1.50341e+05 Fmax= 1.43436e+02, atom= 75\n",
      "Step= 5493, Dmax= 5.8e-04 nm, Epot= -1.50342e+05 Fmax= 3.80951e+02, atom= 72\n",
      "Step= 5494, Dmax= 6.9e-04 nm, Epot= -1.50343e+05 Fmax= 2.50967e+02, atom= 75\n",
      "Step= 5496, Dmax= 4.2e-04 nm, Epot= -1.50343e+05 Fmax= 1.27816e+02, atom= 72\n",
      "Step= 5497, Dmax= 5.0e-04 nm, Epot= -1.50343e+05 Fmax= 3.24221e+02, atom= 75\n",
      "Step= 5498, Dmax= 6.0e-04 nm, Epot= -1.50343e+05 Fmax= 2.20729e+02, atom= 72\n",
      "Step= 5499, Dmax= 7.2e-04 nm, Epot= -1.50344e+05 Fmax= 4.31844e+02, atom= 75\n",
      "Step= 5500, Dmax= 8.6e-04 nm, Epot= -1.50344e+05 Fmax= 3.52663e+02, atom= 72\n",
      "Step= 5501, Dmax= 1.0e-03 nm, Epot= -1.50344e+05 Fmax= 5.87683e+02, atom= 75\n",
      "Step= 5502, Dmax= 1.2e-03 nm, Epot= -1.50344e+05 Fmax= 5.41831e+02, atom= 72\n",
      "Step= 5504, Dmax= 7.4e-04 nm, Epot= -1.50345e+05 Fmax= 1.38889e+02, atom= 75\n",
      "Step= 5505, Dmax= 8.9e-04 nm, Epot= -1.50346e+05 Fmax= 6.73813e+02, atom= 72\n",
      "Step= 5506, Dmax= 1.1e-03 nm, Epot= -1.50347e+05 Fmax= 3.05097e+02, atom= 75\n",
      "Step= 5509, Dmax= 3.2e-04 nm, Epot= -1.50347e+05 Fmax= 4.96423e+01, atom= 1182\n",
      "Step= 5510, Dmax= 3.9e-04 nm, Epot= -1.50348e+05 Fmax= 7.84910e+01, atom= 72\n",
      "Step= 5511, Dmax= 4.6e-04 nm, Epot= -1.50349e+05 Fmax= 3.36657e+02, atom= 75\n",
      "Step= 5512, Dmax= 5.6e-04 nm, Epot= -1.50349e+05 Fmax= 1.69719e+02, atom= 72\n",
      "Step= 5513, Dmax= 6.7e-04 nm, Epot= -1.50349e+05 Fmax= 4.33344e+02, atom= 75\n",
      "Step= 5514, Dmax= 8.0e-04 nm, Epot= -1.50350e+05 Fmax= 2.95868e+02, atom= 72\n",
      "Step= 5516, Dmax= 4.8e-04 nm, Epot= -1.50351e+05 Fmax= 1.42126e+02, atom= 75\n",
      "Step= 5517, Dmax= 5.8e-04 nm, Epot= -1.50351e+05 Fmax= 3.82419e+02, atom= 72\n",
      "Step= 5518, Dmax= 6.9e-04 nm, Epot= -1.50351e+05 Fmax= 2.47717e+02, atom= 75\n",
      "Step= 5519, Dmax= 8.3e-04 nm, Epot= -1.50352e+05 Fmax= 5.09385e+02, atom= 72\n",
      "Step= 5520, Dmax= 1.0e-03 nm, Epot= -1.50352e+05 Fmax= 3.97367e+02, atom= 75\n",
      "Step= 5522, Dmax= 6.0e-04 nm, Epot= -1.50353e+05 Fmax= 1.46980e+02, atom= 72\n",
      "Step= 5523, Dmax= 7.2e-04 nm, Epot= -1.50353e+05 Fmax= 5.00871e+02, atom= 75\n",
      "Step= 5524, Dmax= 8.6e-04 nm, Epot= -1.50353e+05 Fmax= 2.82555e+02, atom= 72\n",
      "Step= 5526, Dmax= 5.2e-04 nm, Epot= -1.50354e+05 Fmax= 1.88059e+02, atom= 75\n",
      "Step= 5527, Dmax= 6.2e-04 nm, Epot= -1.50355e+05 Fmax= 3.76376e+02, atom= 72\n",
      "Step= 5528, Dmax= 7.4e-04 nm, Epot= -1.50355e+05 Fmax= 3.00672e+02, atom= 75\n",
      "Step= 5529, Dmax= 8.9e-04 nm, Epot= -1.50355e+05 Fmax= 5.13058e+02, atom= 72\n",
      "Step= 5530, Dmax= 1.1e-03 nm, Epot= -1.50356e+05 Fmax= 4.61355e+02, atom= 75\n",
      "Step= 5532, Dmax= 6.4e-04 nm, Epot= -1.50356e+05 Fmax= 1.23410e+02, atom= 72\n",
      "Step= 5533, Dmax= 7.7e-04 nm, Epot= -1.50356e+05 Fmax= 5.72004e+02, atom= 75\n",
      "Step= 5534, Dmax= 9.2e-04 nm, Epot= -1.50357e+05 Fmax= 2.69647e+02, atom= 72\n",
      "Step= 5536, Dmax= 5.5e-04 nm, Epot= -1.50358e+05 Fmax= 2.36005e+02, atom= 75\n",
      "Step= 5537, Dmax= 6.7e-04 nm, Epot= -1.50358e+05 Fmax= 3.70787e+02, atom= 72\n",
      "Step= 5538, Dmax= 8.0e-04 nm, Epot= -1.50358e+05 Fmax= 3.56855e+02, atom= 75\n",
      "Step= 5540, Dmax= 4.8e-04 nm, Epot= -1.50359e+05 Fmax= 8.00050e+01, atom= 72\n",
      "Step= 5541, Dmax= 5.8e-04 nm, Epot= -1.50360e+05 Fmax= 4.37892e+02, atom= 75\n",
      "Step= 5542, Dmax= 6.9e-04 nm, Epot= -1.50360e+05 Fmax= 1.90659e+02, atom= 72\n",
      "Step= 5543, Dmax= 8.3e-04 nm, Epot= -1.50360e+05 Fmax= 5.60445e+02, atom= 75\n",
      "Step= 5544, Dmax= 9.9e-04 nm, Epot= -1.50361e+05 Fmax= 3.44208e+02, atom= 72\n",
      "Step= 5546, Dmax= 6.0e-04 nm, Epot= -1.50361e+05 Fmax= 2.00191e+02, atom= 75\n",
      "Step= 5547, Dmax= 7.2e-04 nm, Epot= -1.50361e+05 Fmax= 4.51491e+02, atom= 72\n",
      "Step= 5548, Dmax= 8.6e-04 nm, Epot= -1.50362e+05 Fmax= 3.31701e+02, atom= 75\n",
      "Step= 5550, Dmax= 5.2e-04 nm, Epot= -1.50362e+05 Fmax= 1.37775e+02, atom= 72\n",
      "Step= 5551, Dmax= 6.2e-04 nm, Epot= -1.50363e+05 Fmax= 4.22365e+02, atom= 75\n",
      "Step= 5552, Dmax= 7.4e-04 nm, Epot= -1.50364e+05 Fmax= 2.53371e+02, atom= 72\n",
      "Step= 5554, Dmax= 4.5e-04 nm, Epot= -1.50364e+05 Fmax= 1.52989e+02, atom= 75\n",
      "Step= 5555, Dmax= 5.3e-04 nm, Epot= -1.50364e+05 Fmax= 3.33094e+02, atom= 72\n",
      "Step= 5556, Dmax= 6.4e-04 nm, Epot= -1.50364e+05 Fmax= 2.51310e+02, atom= 75\n",
      "Step= 5557, Dmax= 7.7e-04 nm, Epot= -1.50365e+05 Fmax= 4.49865e+02, atom= 72\n",
      "Step= 5558, Dmax= 9.2e-04 nm, Epot= -1.50365e+05 Fmax= 3.91284e+02, atom= 75\n",
      "Step= 5560, Dmax= 5.5e-04 nm, Epot= -1.50366e+05 Fmax= 1.13231e+02, atom= 72\n",
      "Step= 5561, Dmax= 6.6e-04 nm, Epot= -1.50366e+05 Fmax= 4.87393e+02, atom= 75\n",
      "Step= 5562, Dmax= 8.0e-04 nm, Epot= -1.50367e+05 Fmax= 2.38690e+02, atom= 72\n",
      "Step= 5563, Dmax= 9.6e-04 nm, Epot= -1.50367e+05 Fmax= 6.29847e+02, atom= 75\n",
      "Step= 5564, Dmax= 1.1e-03 nm, Epot= -1.50368e+05 Fmax= 4.15263e+02, atom= 72\n",
      "Step= 5566, Dmax= 6.9e-04 nm, Epot= -1.50368e+05 Fmax= 2.14121e+02, atom= 75\n",
      "Step= 5568, Dmax= 4.1e-04 nm, Epot= -1.50369e+05 Fmax= 1.62701e+02, atom= 72\n",
      "Step= 5569, Dmax= 5.0e-04 nm, Epot= -1.50369e+05 Fmax= 2.88204e+02, atom= 75\n",
      "Step= 5570, Dmax= 6.0e-04 nm, Epot= -1.50369e+05 Fmax= 2.54156e+02, atom= 72\n",
      "Step= 5571, Dmax= 7.1e-04 nm, Epot= -1.50369e+05 Fmax= 3.95784e+02, atom= 75\n",
      "Step= 5572, Dmax= 8.6e-04 nm, Epot= -1.50370e+05 Fmax= 3.85166e+02, atom= 72\n",
      "Step= 5573, Dmax= 1.0e-03 nm, Epot= -1.50370e+05 Fmax= 5.50912e+02, atom= 75\n",
      "Step= 5574, Dmax= 1.2e-03 nm, Epot= -1.50370e+05 Fmax= 5.73773e+02, atom= 72\n",
      "Step= 5576, Dmax= 7.4e-04 nm, Epot= -1.50371e+05 Fmax= 1.03852e+02, atom= 75\n",
      "Step= 5577, Dmax= 8.9e-04 nm, Epot= -1.50371e+05 Fmax= 7.04020e+02, atom= 72\n",
      "Step= 5578, Dmax= 1.1e-03 nm, Epot= -1.50373e+05 Fmax= 2.70310e+02, atom= 75\n",
      "Step= 5580, Dmax= 6.4e-04 nm, Epot= -1.50373e+05 Fmax= 3.13119e+02, atom= 72\n",
      "Step= 5581, Dmax= 7.7e-04 nm, Epot= -1.50373e+05 Fmax= 3.85164e+02, atom= 75\n",
      "Step= 5582, Dmax= 9.2e-04 nm, Epot= -1.50373e+05 Fmax= 4.55259e+02, atom= 72\n",
      "Step= 5583, Dmax= 1.1e-03 nm, Epot= -1.50374e+05 Fmax= 5.50509e+02, atom= 75\n",
      "Step= 5584, Dmax= 1.3e-03 nm, Epot= -1.50374e+05 Fmax= 6.59852e+02, atom= 72\n",
      "Step= 5586, Dmax= 8.0e-04 nm, Epot= -1.50375e+05 Fmax= 6.89913e+01, atom= 75\n",
      "Step= 5587, Dmax= 9.6e-04 nm, Epot= -1.50376e+05 Fmax= 7.96531e+02, atom= 72\n",
      "Step= 5588, Dmax= 1.1e-03 nm, Epot= -1.50377e+05 Fmax= 2.50749e+02, atom= 75\n",
      "Step= 5590, Dmax= 6.9e-04 nm, Epot= -1.50378e+05 Fmax= 3.77364e+02, atom= 72\n",
      "Step= 5591, Dmax= 8.3e-04 nm, Epot= -1.50378e+05 Fmax= 3.72912e+02, atom= 75\n",
      "Step= 5592, Dmax= 9.9e-04 nm, Epot= -1.50378e+05 Fmax= 5.32027e+02, atom= 72\n",
      "Step= 5593, Dmax= 1.2e-03 nm, Epot= -1.50379e+05 Fmax= 5.48521e+02, atom= 72\n",
      "Step= 5595, Dmax= 7.1e-04 nm, Epot= -1.50379e+05 Fmax= 1.00566e+02, atom= 72\n",
      "Step= 5596, Dmax= 8.6e-04 nm, Epot= -1.50380e+05 Fmax= 6.68946e+02, atom= 75\n",
      "Step= 5597, Dmax= 1.0e-03 nm, Epot= -1.50381e+05 Fmax= 2.65735e+02, atom= 72\n",
      "Step= 5599, Dmax= 6.2e-04 nm, Epot= -1.50381e+05 Fmax= 2.95283e+02, atom= 75\n",
      "Step= 5600, Dmax= 7.4e-04 nm, Epot= -1.50382e+05 Fmax= 3.79175e+02, atom= 72\n",
      "Step= 5601, Dmax= 8.9e-04 nm, Epot= -1.50382e+05 Fmax= 4.28329e+02, atom= 75\n",
      "Step= 5603, Dmax= 5.3e-04 nm, Epot= -1.50383e+05 Fmax= 6.42353e+01, atom= 1182\n",
      "Step= 5604, Dmax= 6.4e-04 nm, Epot= -1.50384e+05 Fmax= 4.48521e+02, atom= 75\n",
      "Step= 5605, Dmax= 7.7e-04 nm, Epot= -1.50384e+05 Fmax= 2.49790e+02, atom= 72\n",
      "Step= 5607, Dmax= 4.6e-04 nm, Epot= -1.50385e+05 Fmax= 1.69893e+02, atom= 75\n",
      "Step= 5608, Dmax= 5.5e-04 nm, Epot= -1.50385e+05 Fmax= 3.32778e+02, atom= 72\n",
      "Step= 5609, Dmax= 6.6e-04 nm, Epot= -1.50385e+05 Fmax= 2.71087e+02, atom= 75\n",
      "Step= 5610, Dmax= 7.9e-04 nm, Epot= -1.50385e+05 Fmax= 4.53799e+02, atom= 72\n",
      "Step= 5611, Dmax= 9.5e-04 nm, Epot= -1.50386e+05 Fmax= 4.15241e+02, atom= 75\n",
      "Step= 5613, Dmax= 5.7e-04 nm, Epot= -1.50386e+05 Fmax= 1.06158e+02, atom= 72\n",
      "Step= 5614, Dmax= 6.9e-04 nm, Epot= -1.50387e+05 Fmax= 5.13940e+02, atom= 75\n",
      "Step= 5615, Dmax= 8.2e-04 nm, Epot= -1.50387e+05 Fmax= 2.36275e+02, atom= 72\n",
      "Step= 5617, Dmax= 4.9e-04 nm, Epot= -1.50388e+05 Fmax= 2.14628e+02, atom= 75\n",
      "Step= 5618, Dmax= 5.9e-04 nm, Epot= -1.50388e+05 Fmax= 3.25917e+02, atom= 72\n",
      "Step= 5619, Dmax= 7.1e-04 nm, Epot= -1.50389e+05 Fmax= 3.22915e+02, atom= 75\n",
      "Step= 5620, Dmax= 8.5e-04 nm, Epot= -1.50389e+05 Fmax= 4.56095e+02, atom= 72\n",
      "Step= 5621, Dmax= 1.0e-03 nm, Epot= -1.50389e+05 Fmax= 4.77749e+02, atom= 75\n",
      "Step= 5622, Dmax= 1.2e-03 nm, Epot= -1.50389e+05 Fmax= 6.44436e+02, atom= 72\n",
      "Step= 5624, Dmax= 7.4e-04 nm, Epot= -1.50390e+05 Fmax= 6.73290e+01, atom= 1182\n",
      "Step= 5625, Dmax= 8.9e-04 nm, Epot= -1.50392e+05 Fmax= 3.40754e+02, atom= 72\n",
      "Step= 5627, Dmax= 5.3e-04 nm, Epot= -1.50393e+05 Fmax= 1.43441e+02, atom= 75\n",
      "Step= 5628, Dmax= 6.4e-04 nm, Epot= -1.50393e+05 Fmax= 4.38193e+02, atom= 72\n",
      "Step= 5629, Dmax= 7.7e-04 nm, Epot= -1.50394e+05 Fmax= 2.58618e+02, atom= 75\n",
      "Step= 5630, Dmax= 9.2e-04 nm, Epot= -1.50394e+05 Fmax= 5.81427e+02, atom= 72\n",
      "Step= 5631, Dmax= 1.1e-03 nm, Epot= -1.50394e+05 Fmax= 4.21665e+02, atom= 72\n",
      "Step= 5633, Dmax= 6.6e-04 nm, Epot= -1.50395e+05 Fmax= 1.81206e+02, atom= 72\n",
      "Step= 5634, Dmax= 7.9e-04 nm, Epot= -1.50395e+05 Fmax= 5.35959e+02, atom= 72\n",
      "Step= 5635, Dmax= 9.5e-04 nm, Epot= -1.50396e+05 Fmax= 3.32036e+02, atom= 72\n",
      "Step= 5637, Dmax= 5.7e-04 nm, Epot= -1.50397e+05 Fmax= 1.88718e+02, atom= 75\n",
      "Step= 5638, Dmax= 6.9e-04 nm, Epot= -1.50397e+05 Fmax= 4.37441e+02, atom= 72\n",
      "Step= 5639, Dmax= 8.2e-04 nm, Epot= -1.50397e+05 Fmax= 3.11756e+02, atom= 75\n",
      "Step= 5641, Dmax= 4.9e-04 nm, Epot= -1.50397e+05 Fmax= 1.38749e+02, atom= 72\n",
      "Step= 5642, Dmax= 5.9e-04 nm, Epot= -1.50398e+05 Fmax= 3.96647e+02, atom= 75\n",
      "Step= 5643, Dmax= 7.1e-04 nm, Epot= -1.50398e+05 Fmax= 2.51663e+02, atom= 72\n",
      "Step= 5644, Dmax= 8.5e-04 nm, Epot= -1.50399e+05 Fmax= 5.21477e+02, atom= 75\n",
      "Step= 5645, Dmax= 1.0e-03 nm, Epot= -1.50399e+05 Fmax= 4.12237e+02, atom= 72\n",
      "Step= 5646, Dmax= 1.2e-03 nm, Epot= -1.50399e+05 Fmax= 7.02303e+02, atom= 72\n",
      "Step= 5647, Dmax= 1.5e-03 nm, Epot= -1.50399e+05 Fmax= 6.42124e+02, atom= 72\n",
      "Step= 5649, Dmax= 8.8e-04 nm, Epot= -1.50400e+05 Fmax= 1.66453e+02, atom= 75\n",
      "Step= 5651, Dmax= 5.3e-04 nm, Epot= -1.50401e+05 Fmax= 3.17901e+02, atom= 72\n",
      "Step= 5652, Dmax= 6.4e-04 nm, Epot= -1.50401e+05 Fmax= 2.61545e+02, atom= 75\n",
      "Step= 5653, Dmax= 7.6e-04 nm, Epot= -1.50402e+05 Fmax= 4.36406e+02, atom= 72\n",
      "Step= 5654, Dmax= 9.2e-04 nm, Epot= -1.50402e+05 Fmax= 3.97786e+02, atom= 75\n",
      "Step= 5655, Dmax= 1.1e-03 nm, Epot= -1.50402e+05 Fmax= 6.07661e+02, atom= 72\n",
      "Step= 5656, Dmax= 1.3e-03 nm, Epot= -1.50402e+05 Fmax= 5.93571e+02, atom= 72\n",
      "Step= 5658, Dmax= 7.9e-04 nm, Epot= -1.50403e+05 Fmax= 1.27246e+02, atom= 72\n",
      "Step= 5660, Dmax= 4.8e-04 nm, Epot= -1.50404e+05 Fmax= 3.03331e+02, atom= 75\n",
      "Step= 5661, Dmax= 5.7e-04 nm, Epot= -1.50404e+05 Fmax= 2.17017e+02, atom= 72\n",
      "Step= 5662, Dmax= 6.8e-04 nm, Epot= -1.50404e+05 Fmax= 4.04259e+02, atom= 75\n",
      "Step= 5663, Dmax= 8.2e-04 nm, Epot= -1.50405e+05 Fmax= 3.44938e+02, atom= 72\n",
      "Step= 5665, Dmax= 4.9e-04 nm, Epot= -1.50405e+05 Fmax= 1.05291e+02, atom= 75\n",
      "Step= 5666, Dmax= 5.9e-04 nm, Epot= -1.50406e+05 Fmax= 4.32932e+02, atom= 72\n",
      "Step= 5667, Dmax= 7.1e-04 nm, Epot= -1.50406e+05 Fmax= 2.14469e+02, atom= 75\n",
      "Step= 5668, Dmax= 8.5e-04 nm, Epot= -1.50407e+05 Fmax= 5.63075e+02, atom= 72\n",
      "Step= 5669, Dmax= 1.0e-03 nm, Epot= -1.50407e+05 Fmax= 3.68298e+02, atom= 75\n",
      "Step= 5671, Dmax= 6.1e-04 nm, Epot= -1.50408e+05 Fmax= 1.90854e+02, atom= 72\n",
      "Step= 5672, Dmax= 7.4e-04 nm, Epot= -1.50408e+05 Fmax= 4.75353e+02, atom= 75\n",
      "Step= 5673, Dmax= 8.8e-04 nm, Epot= -1.50409e+05 Fmax= 3.29623e+02, atom= 72\n",
      "Step= 5675, Dmax= 5.3e-04 nm, Epot= -1.50409e+05 Fmax= 1.53765e+02, atom= 75\n",
      "Step= 5676, Dmax= 6.4e-04 nm, Epot= -1.50409e+05 Fmax= 4.25936e+02, atom= 72\n",
      "Step= 5677, Dmax= 7.6e-04 nm, Epot= -1.50410e+05 Fmax= 2.69339e+02, atom= 75\n",
      "Step= 5679, Dmax= 4.6e-04 nm, Epot= -1.50410e+05 Fmax= 1.48234e+02, atom= 72\n",
      "Step= 5680, Dmax= 5.5e-04 nm, Epot= -1.50411e+05 Fmax= 3.49426e+02, atom= 75\n",
      "Step= 5681, Dmax= 6.6e-04 nm, Epot= -1.50411e+05 Fmax= 2.51670e+02, atom= 72\n",
      "Step= 5682, Dmax= 7.9e-04 nm, Epot= -1.50411e+05 Fmax= 4.66236e+02, atom= 75\n",
      "Step= 5683, Dmax= 9.5e-04 nm, Epot= -1.50412e+05 Fmax= 3.99299e+02, atom= 72\n",
      "Step= 5685, Dmax= 5.7e-04 nm, Epot= -1.50413e+05 Fmax= 1.20910e+02, atom= 75\n",
      "Step= 5686, Dmax= 6.8e-04 nm, Epot= -1.50413e+05 Fmax= 5.01553e+02, atom= 72\n",
      "Step= 5687, Dmax= 8.2e-04 nm, Epot= -1.50413e+05 Fmax= 2.46537e+02, atom= 75\n",
      "Step= 5689, Dmax= 4.9e-04 nm, Epot= -1.50414e+05 Fmax= 2.02416e+02, atom= 72\n",
      "Step= 5690, Dmax= 5.9e-04 nm, Epot= -1.50414e+05 Fmax= 3.33466e+02, atom= 75\n",
      "Step= 5691, Dmax= 7.1e-04 nm, Epot= -1.50414e+05 Fmax= 3.12931e+02, atom= 72\n",
      "Step= 5692, Dmax= 8.5e-04 nm, Epot= -1.50414e+05 Fmax= 4.59433e+02, atom= 75\n",
      "Step= 5693, Dmax= 1.0e-03 nm, Epot= -1.50415e+05 Fmax= 4.71411e+02, atom= 72\n",
      "Step= 5694, Dmax= 1.2e-03 nm, Epot= -1.50415e+05 Fmax= 6.41001e+02, atom= 75\n",
      "Step= 5696, Dmax= 7.3e-04 nm, Epot= -1.50416e+05 Fmax= 7.25998e+01, atom= 1182\n",
      "Step= 5697, Dmax= 8.8e-04 nm, Epot= -1.50418e+05 Fmax= 2.61013e+02, atom= 75\n",
      "Step= 5699, Dmax= 5.3e-04 nm, Epot= -1.50419e+05 Fmax= 2.20123e+02, atom= 72\n",
      "Step= 5700, Dmax= 6.3e-04 nm, Epot= -1.50419e+05 Fmax= 3.59046e+02, atom= 75\n",
      "Step= 5701, Dmax= 7.6e-04 nm, Epot= -1.50419e+05 Fmax= 3.34306e+02, atom= 72\n",
      "Step= 5702, Dmax= 9.1e-04 nm, Epot= -1.50419e+05 Fmax= 4.99098e+02, atom= 75\n",
      "Step= 5703, Dmax= 1.1e-03 nm, Epot= -1.50420e+05 Fmax= 4.99237e+02, atom= 72\n",
      "Step= 5705, Dmax= 6.6e-04 nm, Epot= -1.50420e+05 Fmax= 1.02979e+02, atom= 75\n",
      "Step= 5706, Dmax= 7.9e-04 nm, Epot= -1.50421e+05 Fmax= 6.13607e+02, atom= 72\n",
      "Step= 5707, Dmax= 9.5e-04 nm, Epot= -1.50422e+05 Fmax= 2.52144e+02, atom= 75\n",
      "Step= 5709, Dmax= 5.7e-04 nm, Epot= -1.50422e+05 Fmax= 2.65901e+02, atom= 72\n",
      "Step= 5710, Dmax= 6.8e-04 nm, Epot= -1.50422e+05 Fmax= 3.55067e+02, atom= 75\n",
      "Step= 5711, Dmax= 8.2e-04 nm, Epot= -1.50423e+05 Fmax= 3.90861e+02, atom= 72\n",
      "Step= 5712, Dmax= 9.8e-04 nm, Epot= -1.50423e+05 Fmax= 5.03442e+02, atom= 75\n",
      "Step= 5713, Dmax= 1.2e-03 nm, Epot= -1.50423e+05 Fmax= 5.71050e+02, atom= 72\n",
      "Step= 5715, Dmax= 7.1e-04 nm, Epot= -1.50424e+05 Fmax= 7.61969e+01, atom= 75\n",
      "Step= 5716, Dmax= 8.5e-04 nm, Epot= -1.50425e+05 Fmax= 6.93663e+02, atom= 72\n",
      "Step= 5717, Dmax= 1.0e-03 nm, Epot= -1.50426e+05 Fmax= 2.36831e+02, atom= 75\n",
      "Step= 5719, Dmax= 6.1e-04 nm, Epot= -1.50427e+05 Fmax= 3.20699e+02, atom= 72\n",
      "Step= 5720, Dmax= 7.3e-04 nm, Epot= -1.50427e+05 Fmax= 3.46305e+02, atom= 75\n",
      "Step= 5722, Dmax= 4.4e-04 nm, Epot= -1.50427e+05 Fmax= 7.15141e+01, atom= 1182\n",
      "Step= 5723, Dmax= 5.3e-04 nm, Epot= -1.50428e+05 Fmax= 3.08334e+02, atom= 75\n",
      "Step= 5724, Dmax= 6.3e-04 nm, Epot= -1.50429e+05 Fmax= 2.69105e+02, atom= 72\n",
      "Step= 5725, Dmax= 7.6e-04 nm, Epot= -1.50429e+05 Fmax= 4.22460e+02, atom= 75\n",
      "Step= 5726, Dmax= 9.1e-04 nm, Epot= -1.50430e+05 Fmax= 4.09186e+02, atom= 72\n",
      "Step= 5728, Dmax= 5.5e-04 nm, Epot= -1.50430e+05 Fmax= 9.13988e+01, atom= 75\n",
      "Step= 5729, Dmax= 6.6e-04 nm, Epot= -1.50431e+05 Fmax= 5.05003e+02, atom= 72\n",
      "Step= 5730, Dmax= 7.9e-04 nm, Epot= -1.50431e+05 Fmax= 2.14799e+02, atom= 75\n",
      "Step= 5732, Dmax= 4.7e-04 nm, Epot= -1.50432e+05 Fmax= 2.16466e+02, atom= 72\n",
      "Step= 5733, Dmax= 5.7e-04 nm, Epot= -1.50432e+05 Fmax= 2.99673e+02, atom= 75\n",
      "Step= 5734, Dmax= 6.8e-04 nm, Epot= -1.50433e+05 Fmax= 3.21371e+02, atom= 72\n",
      "Step= 5735, Dmax= 8.2e-04 nm, Epot= -1.50433e+05 Fmax= 4.22115e+02, atom= 75\n",
      "Step= 5736, Dmax= 9.8e-04 nm, Epot= -1.50433e+05 Fmax= 4.72306e+02, atom= 72\n",
      "Step= 5738, Dmax= 5.9e-04 nm, Epot= -1.50434e+05 Fmax= 6.97967e+01, atom= 1182\n",
      "Step= 5739, Dmax= 7.1e-04 nm, Epot= -1.50435e+05 Fmax= 5.39158e+02, atom= 72\n",
      "Step= 5740, Dmax= 8.5e-04 nm, Epot= -1.50436e+05 Fmax= 2.34031e+02, atom= 75\n",
      "Step= 5742, Dmax= 5.1e-04 nm, Epot= -1.50436e+05 Fmax= 2.29789e+02, atom= 72\n",
      "Step= 5745, Dmax= 1.5e-04 nm, Epot= -1.50436e+05 Fmax= 9.10511e+01, atom= 7282\n",
      "Step= 5746, Dmax= 1.8e-04 nm, Epot= -1.50436e+05 Fmax= 7.57212e+01, atom= 75\n",
      "Step= 5747, Dmax= 2.2e-04 nm, Epot= -1.50437e+05 Fmax= 1.24175e+02, atom= 72\n",
      "Step= 5748, Dmax= 2.6e-04 nm, Epot= -1.50437e+05 Fmax= 1.15744e+02, atom= 75\n",
      "Step= 5749, Dmax= 3.2e-04 nm, Epot= -1.50438e+05 Fmax= 1.72539e+02, atom= 72\n",
      "Step= 5750, Dmax= 3.8e-04 nm, Epot= -1.50438e+05 Fmax= 1.72964e+02, atom= 75\n",
      "Step= 5751, Dmax= 4.6e-04 nm, Epot= -1.50439e+05 Fmax= 2.42433e+02, atom= 72\n",
      "Step= 5752, Dmax= 5.5e-04 nm, Epot= -1.50439e+05 Fmax= 2.55015e+02, atom= 75\n",
      "Step= 5753, Dmax= 6.6e-04 nm, Epot= -1.50439e+05 Fmax= 3.43344e+02, atom= 72\n",
      "Step= 5754, Dmax= 7.9e-04 nm, Epot= -1.50439e+05 Fmax= 3.72751e+02, atom= 75\n",
      "Step= 5755, Dmax= 9.4e-04 nm, Epot= -1.50440e+05 Fmax= 4.89342e+02, atom= 72\n",
      "Step= 5756, Dmax= 1.1e-03 nm, Epot= -1.50440e+05 Fmax= 5.41633e+02, atom= 75\n",
      "Step= 5757, Dmax= 1.4e-03 nm, Epot= -1.50440e+05 Fmax= 7.00073e+02, atom= 72\n",
      "Step= 5759, Dmax= 8.2e-04 nm, Epot= -1.50442e+05 Fmax= 6.68520e+01, atom= 1182\n",
      "Step= 5760, Dmax= 9.8e-04 nm, Epot= -1.50443e+05 Fmax= 5.78074e+02, atom= 72\n",
      "Step= 5761, Dmax= 1.2e-03 nm, Epot= -1.50444e+05 Fmax= 4.90672e+02, atom= 72\n",
      "Step= 5763, Dmax= 7.1e-04 nm, Epot= -1.50445e+05 Fmax= 1.50790e+02, atom= 72\n",
      "Step= 5765, Dmax= 4.2e-04 nm, Epot= -1.50445e+05 Fmax= 2.32860e+02, atom= 75\n",
      "Step= 5766, Dmax= 5.1e-04 nm, Epot= -1.50445e+05 Fmax= 2.30706e+02, atom= 72\n",
      "Step= 5767, Dmax= 6.1e-04 nm, Epot= -1.50446e+05 Fmax= 3.22291e+02, atom= 75\n",
      "Step= 5768, Dmax= 7.3e-04 nm, Epot= -1.50446e+05 Fmax= 3.45117e+02, atom= 72\n",
      "Step= 5769, Dmax= 8.8e-04 nm, Epot= -1.50446e+05 Fmax= 4.51813e+02, atom= 72\n",
      "Step= 5770, Dmax= 1.1e-03 nm, Epot= -1.50447e+05 Fmax= 5.09130e+02, atom= 72\n",
      "Step= 5772, Dmax= 6.3e-04 nm, Epot= -1.50447e+05 Fmax= 6.83357e+01, atom= 75\n",
      "Step= 5773, Dmax= 7.6e-04 nm, Epot= -1.50448e+05 Fmax= 6.21146e+02, atom= 72\n",
      "Step= 5774, Dmax= 9.1e-04 nm, Epot= -1.50449e+05 Fmax= 2.08769e+02, atom= 75\n",
      "Step= 5776, Dmax= 5.5e-04 nm, Epot= -1.50449e+05 Fmax= 2.89743e+02, atom= 72\n",
      "Step= 5777, Dmax= 6.5e-04 nm, Epot= -1.50450e+05 Fmax= 3.05214e+02, atom= 72\n",
      "Step= 5778, Dmax= 7.9e-04 nm, Epot= -1.50450e+05 Fmax= 4.12711e+02, atom= 72\n",
      "Step= 5779, Dmax= 9.4e-04 nm, Epot= -1.50451e+05 Fmax= 4.44623e+02, atom= 72\n",
      "Step= 5781, Dmax= 5.7e-04 nm, Epot= -1.50451e+05 Fmax= 7.04058e+01, atom= 72\n",
      "Step= 5782, Dmax= 6.8e-04 nm, Epot= -1.50452e+05 Fmax= 5.39799e+02, atom= 72\n",
      "Step= 5783, Dmax= 8.1e-04 nm, Epot= -1.50453e+05 Fmax= 2.01994e+02, atom= 72\n",
      "Step= 5784, Dmax= 9.8e-04 nm, Epot= -1.50453e+05 Fmax= 6.83241e+02, atom= 72\n",
      "Step= 5785, Dmax= 1.2e-03 nm, Epot= -1.50454e+05 Fmax= 3.84969e+02, atom= 72\n",
      "Step= 5787, Dmax= 7.0e-04 nm, Epot= -1.50454e+05 Fmax= 2.56839e+02, atom= 75\n",
      "Step= 5788, Dmax= 8.4e-04 nm, Epot= -1.50454e+05 Fmax= 5.14664e+02, atom= 72\n",
      "Step= 5789, Dmax= 1.0e-03 nm, Epot= -1.50455e+05 Fmax= 4.08658e+02, atom= 75\n",
      "Step= 5791, Dmax= 6.1e-04 nm, Epot= -1.50456e+05 Fmax= 1.45404e+02, atom= 72\n",
      "Step= 5792, Dmax= 7.3e-04 nm, Epot= -1.50456e+05 Fmax= 5.15212e+02, atom= 75\n",
      "Step= 5793, Dmax= 8.8e-04 nm, Epot= -1.50457e+05 Fmax= 2.82422e+02, atom= 72\n",
      "Step= 5795, Dmax= 5.3e-04 nm, Epot= -1.50457e+05 Fmax= 1.96620e+02, atom= 75\n",
      "Step= 5796, Dmax= 6.3e-04 nm, Epot= -1.50457e+05 Fmax= 3.78618e+02, atom= 72\n",
      "Step= 5797, Dmax= 7.6e-04 nm, Epot= -1.50458e+05 Fmax= 3.10655e+02, atom= 75\n",
      "Step= 5799, Dmax= 4.5e-04 nm, Epot= -1.50458e+05 Fmax= 1.03175e+02, atom= 72\n",
      "Step= 5800, Dmax= 5.4e-04 nm, Epot= -1.50459e+05 Fmax= 3.89847e+02, atom= 75\n",
      "Step= 5801, Dmax= 6.5e-04 nm, Epot= -1.50459e+05 Fmax= 2.05801e+02, atom= 72\n",
      "Step= 5802, Dmax= 7.8e-04 nm, Epot= -1.50460e+05 Fmax= 5.06102e+02, atom= 75\n",
      "Step= 5803, Dmax= 9.4e-04 nm, Epot= -1.50460e+05 Fmax= 3.51503e+02, atom= 72\n",
      "Step= 5805, Dmax= 5.6e-04 nm, Epot= -1.50461e+05 Fmax= 1.63981e+02, atom= 75\n",
      "Step= 5806, Dmax= 6.8e-04 nm, Epot= -1.50461e+05 Fmax= 4.54222e+02, atom= 72\n",
      "Step= 5807, Dmax= 8.1e-04 nm, Epot= -1.50462e+05 Fmax= 2.87433e+02, atom= 75\n",
      "Step= 5809, Dmax= 4.9e-04 nm, Epot= -1.50462e+05 Fmax= 1.57506e+02, atom= 72\n",
      "Step= 5810, Dmax= 5.9e-04 nm, Epot= -1.50462e+05 Fmax= 3.73758e+02, atom= 75\n",
      "Step= 5811, Dmax= 7.0e-04 nm, Epot= -1.50463e+05 Fmax= 2.66635e+02, atom= 72\n",
      "Step= 5812, Dmax= 8.4e-04 nm, Epot= -1.50463e+05 Fmax= 4.99531e+02, atom= 75\n",
      "Step= 5813, Dmax= 1.0e-03 nm, Epot= -1.50463e+05 Fmax= 4.22645e+02, atom= 72\n",
      "Step= 5814, Dmax= 1.2e-03 nm, Epot= -1.50463e+05 Fmax= 6.80916e+02, atom= 75\n",
      "Step= 5815, Dmax= 1.5e-03 nm, Epot= -1.50464e+05 Fmax= 6.47242e+02, atom= 72\n",
      "Step= 5817, Dmax= 8.7e-04 nm, Epot= -1.50465e+05 Fmax= 1.52251e+02, atom= 75\n",
      "Step= 5819, Dmax= 5.2e-04 nm, Epot= -1.50465e+05 Fmax= 3.26106e+02, atom= 72\n",
      "Step= 5820, Dmax= 6.3e-04 nm, Epot= -1.50466e+05 Fmax= 2.47260e+02, atom= 75\n",
      "Step= 5822, Dmax= 3.8e-04 nm, Epot= -1.50466e+05 Fmax= 9.71194e+01, atom= 72\n",
      "Step= 5823, Dmax= 4.5e-04 nm, Epot= -1.50467e+05 Fmax= 3.13217e+02, atom= 75\n",
      "Step= 5824, Dmax= 5.4e-04 nm, Epot= -1.50467e+05 Fmax= 1.82478e+02, atom= 72\n",
      "Step= 5825, Dmax= 6.5e-04 nm, Epot= -1.50467e+05 Fmax= 4.10117e+02, atom= 75\n",
      "Step= 5826, Dmax= 7.8e-04 nm, Epot= -1.50468e+05 Fmax= 3.03495e+02, atom= 72\n",
      "Step= 5827, Dmax= 9.4e-04 nm, Epot= -1.50468e+05 Fmax= 5.50582e+02, atom= 75\n",
      "Step= 5828, Dmax= 1.1e-03 nm, Epot= -1.50468e+05 Fmax= 4.77158e+02, atom= 72\n",
      "Step= 5829, Dmax= 1.4e-03 nm, Epot= -1.50468e+05 Fmax= 7.53065e+02, atom= 75\n",
      "Step= 5830, Dmax= 1.6e-03 nm, Epot= -1.50469e+05 Fmax= 7.27005e+02, atom= 72\n",
      "Step= 5832, Dmax= 9.7e-04 nm, Epot= -1.50470e+05 Fmax= 1.64303e+02, atom= 75\n",
      "Step= 5834, Dmax= 5.8e-04 nm, Epot= -1.50471e+05 Fmax= 3.69038e+02, atom= 72\n",
      "Step= 5835, Dmax= 7.0e-04 nm, Epot= -1.50471e+05 Fmax= 2.69935e+02, atom= 75\n",
      "Step= 5837, Dmax= 4.2e-04 nm, Epot= -1.50471e+05 Fmax= 1.13741e+02, atom= 72\n",
      "Step= 5838, Dmax= 5.1e-04 nm, Epot= -1.50472e+05 Fmax= 3.44067e+02, atom= 75\n",
      "Step= 5839, Dmax= 6.1e-04 nm, Epot= -1.50472e+05 Fmax= 2.08333e+02, atom= 72\n",
      "Step= 5840, Dmax= 7.3e-04 nm, Epot= -1.50472e+05 Fmax= 4.52243e+02, atom= 75\n",
      "Step= 5841, Dmax= 8.7e-04 nm, Epot= -1.50473e+05 Fmax= 3.43042e+02, atom= 72\n",
      "Step= 5842, Dmax= 1.0e-03 nm, Epot= -1.50473e+05 Fmax= 6.08939e+02, atom= 75\n",
      "Step= 5843, Dmax= 1.3e-03 nm, Epot= -1.50473e+05 Fmax= 5.36300e+02, atom= 72\n",
      "Step= 5845, Dmax= 7.5e-04 nm, Epot= -1.50474e+05 Fmax= 1.52857e+02, atom= 75\n",
      "Step= 5847, Dmax= 4.5e-04 nm, Epot= -1.50475e+05 Fmax= 2.59681e+02, atom= 72\n",
      "Step= 5848, Dmax= 5.4e-04 nm, Epot= -1.50475e+05 Fmax= 2.34787e+02, atom= 75\n",
      "Step= 5849, Dmax= 6.5e-04 nm, Epot= -1.50475e+05 Fmax= 3.59512e+02, atom= 72\n",
      "Step= 5850, Dmax= 7.8e-04 nm, Epot= -1.50476e+05 Fmax= 3.52506e+02, atom= 75\n",
      "Step= 5851, Dmax= 9.4e-04 nm, Epot= -1.50476e+05 Fmax= 5.03535e+02, atom= 72\n",
      "Step= 5852, Dmax= 1.1e-03 nm, Epot= -1.50476e+05 Fmax= 5.21418e+02, atom= 75\n",
      "Step= 5854, Dmax= 6.8e-04 nm, Epot= -1.50477e+05 Fmax= 9.28873e+01, atom= 72\n",
      "Step= 5855, Dmax= 8.1e-04 nm, Epot= -1.50478e+05 Fmax= 6.40705e+02, atom= 75\n",
      "Step= 5856, Dmax= 9.7e-04 nm, Epot= -1.50478e+05 Fmax= 2.43986e+02, atom= 72\n",
      "Step= 5858, Dmax= 5.8e-04 nm, Epot= -1.50479e+05 Fmax= 2.87973e+02, atom= 75\n",
      "Step= 5860, Dmax= 3.5e-04 nm, Epot= -1.50479e+05 Fmax= 6.80362e+01, atom= 9662\n",
      "Step= 5861, Dmax= 4.2e-04 nm, Epot= -1.50480e+05 Fmax= 1.42040e+02, atom= 75\n",
      "Step= 5862, Dmax= 5.0e-04 nm, Epot= -1.50481e+05 Fmax= 3.17030e+02, atom= 72\n",
      "Step= 5863, Dmax= 6.1e-04 nm, Epot= -1.50481e+05 Fmax= 2.35107e+02, atom= 75\n",
      "Step= 5864, Dmax= 7.3e-04 nm, Epot= -1.50481e+05 Fmax= 4.26573e+02, atom= 72\n",
      "Step= 5865, Dmax= 8.7e-04 nm, Epot= -1.50482e+05 Fmax= 3.68143e+02, atom= 75\n",
      "Step= 5866, Dmax= 1.0e-03 nm, Epot= -1.50482e+05 Fmax= 5.85314e+02, atom= 72\n",
      "Step= 5867, Dmax= 1.3e-03 nm, Epot= -1.50482e+05 Fmax= 5.58535e+02, atom= 75\n",
      "Step= 5869, Dmax= 7.5e-04 nm, Epot= -1.50483e+05 Fmax= 1.25929e+02, atom= 72\n",
      "Step= 5871, Dmax= 4.5e-04 nm, Epot= -1.50483e+05 Fmax= 2.85417e+02, atom= 75\n",
      "Step= 5872, Dmax= 5.4e-04 nm, Epot= -1.50484e+05 Fmax= 2.08135e+02, atom= 72\n",
      "Step= 5873, Dmax= 6.5e-04 nm, Epot= -1.50484e+05 Fmax= 3.84315e+02, atom= 75\n",
      "Step= 5874, Dmax= 7.8e-04 nm, Epot= -1.50485e+05 Fmax= 3.26350e+02, atom= 72\n",
      "Step= 5876, Dmax= 4.7e-04 nm, Epot= -1.50485e+05 Fmax= 1.01674e+02, atom= 75\n",
      "Step= 5877, Dmax= 5.6e-04 nm, Epot= -1.50485e+05 Fmax= 4.09209e+02, atom= 72\n",
      "Step= 5878, Dmax= 6.7e-04 nm, Epot= -1.50486e+05 Fmax= 2.06446e+02, atom= 75\n",
      "Step= 5879, Dmax= 8.1e-04 nm, Epot= -1.50486e+05 Fmax= 5.31214e+02, atom= 72\n",
      "Step= 5880, Dmax= 9.7e-04 nm, Epot= -1.50487e+05 Fmax= 3.54942e+02, atom= 75\n",
      "Step= 5882, Dmax= 5.8e-04 nm, Epot= -1.50487e+05 Fmax= 1.75445e+02, atom= 72\n",
      "Step= 5883, Dmax= 7.0e-04 nm, Epot= -1.50487e+05 Fmax= 4.60302e+02, atom= 75\n",
      "Step= 5884, Dmax= 8.4e-04 nm, Epot= -1.50488e+05 Fmax= 3.03389e+02, atom= 72\n",
      "Step= 5885, Dmax= 1.0e-03 nm, Epot= -1.50488e+05 Fmax= 6.12517e+02, atom= 75\n",
      "Step= 5886, Dmax= 1.2e-03 nm, Epot= -1.50489e+05 Fmax= 4.87219e+02, atom= 72\n",
      "Step= 5888, Dmax= 7.3e-04 nm, Epot= -1.50489e+05 Fmax= 1.75337e+02, atom= 75\n",
      "Step= 5890, Dmax= 4.4e-04 nm, Epot= -1.50490e+05 Fmax= 2.20774e+02, atom= 72\n",
      "Step= 5891, Dmax= 5.2e-04 nm, Epot= -1.50490e+05 Fmax= 2.54926e+02, atom= 75\n",
      "Step= 5892, Dmax= 6.3e-04 nm, Epot= -1.50490e+05 Fmax= 3.15690e+02, atom= 72\n",
      "Step= 5893, Dmax= 7.5e-04 nm, Epot= -1.50491e+05 Fmax= 3.69190e+02, atom= 75\n",
      "Step= 5895, Dmax= 4.5e-04 nm, Epot= -1.50491e+05 Fmax= 7.01548e+01, atom= 5211\n",
      "Step= 5896, Dmax= 5.4e-04 nm, Epot= -1.50492e+05 Fmax= 2.46871e+02, atom= 75\n",
      "Step= 5897, Dmax= 6.5e-04 nm, Epot= -1.50493e+05 Fmax= 3.44285e+02, atom= 72\n",
      "Step= 5898, Dmax= 7.8e-04 nm, Epot= -1.50493e+05 Fmax= 3.66730e+02, atom= 75\n",
      "Step= 5899, Dmax= 9.4e-04 nm, Epot= -1.50494e+05 Fmax= 4.84943e+02, atom= 72\n",
      "Step= 5901, Dmax= 5.6e-04 nm, Epot= -1.50494e+05 Fmax= 7.07689e+01, atom= 5211\n",
      "Step= 5902, Dmax= 6.7e-04 nm, Epot= -1.50495e+05 Fmax= 2.14287e+02, atom= 72\n",
      "Step= 5903, Dmax= 8.1e-04 nm, Epot= -1.50495e+05 Fmax= 5.18440e+02, atom= 72\n",
      "Step= 5904, Dmax= 9.7e-04 nm, Epot= -1.50496e+05 Fmax= 3.64139e+02, atom= 72\n",
      "Step= 5906, Dmax= 5.8e-04 nm, Epot= -1.50496e+05 Fmax= 1.66480e+02, atom= 75\n",
      "Step= 5907, Dmax= 7.0e-04 nm, Epot= -1.50497e+05 Fmax= 4.70285e+02, atom= 72\n",
      "Step= 5908, Dmax= 8.4e-04 nm, Epot= -1.50498e+05 Fmax= 2.93595e+02, atom= 75\n",
      "Step= 5910, Dmax= 5.0e-04 nm, Epot= -1.50498e+05 Fmax= 1.64199e+02, atom= 72\n",
      "Step= 5911, Dmax= 6.0e-04 nm, Epot= -1.50498e+05 Fmax= 3.83679e+02, atom= 75\n",
      "Step= 5912, Dmax= 7.2e-04 nm, Epot= -1.50499e+05 Fmax= 2.75662e+02, atom= 72\n",
      "Step= 5914, Dmax= 4.3e-04 nm, Epot= -1.50499e+05 Fmax= 1.20812e+02, atom= 75\n",
      "Step= 5915, Dmax= 5.2e-04 nm, Epot= -1.50500e+05 Fmax= 3.53755e+02, atom= 72\n",
      "Step= 5916, Dmax= 6.3e-04 nm, Epot= -1.50500e+05 Fmax= 2.16663e+02, atom= 75\n",
      "Step= 5917, Dmax= 7.5e-04 nm, Epot= -1.50500e+05 Fmax= 4.67836e+02, atom= 72\n",
      "Step= 5918, Dmax= 9.0e-04 nm, Epot= -1.50501e+05 Fmax= 3.53062e+02, atom= 75\n",
      "Step= 5919, Dmax= 1.1e-03 nm, Epot= -1.50501e+05 Fmax= 6.33375e+02, atom= 72\n",
      "Step= 5920, Dmax= 1.3e-03 nm, Epot= -1.50501e+05 Fmax= 5.48225e+02, atom= 75\n",
      "Step= 5922, Dmax= 7.8e-04 nm, Epot= -1.50502e+05 Fmax= 1.59293e+02, atom= 72\n",
      "Step= 5924, Dmax= 4.7e-04 nm, Epot= -1.50502e+05 Fmax= 2.65613e+02, atom= 75\n",
      "Step= 5926, Dmax= 2.8e-04 nm, Epot= -1.50503e+05 Fmax= 7.23541e+01, atom= 5211\n",
      "Step= 5927, Dmax= 3.4e-04 nm, Epot= -1.50503e+05 Fmax= 7.24711e+01, atom= 5211\n",
      "Step= 5928, Dmax= 4.0e-04 nm, Epot= -1.50504e+05 Fmax= 1.42120e+02, atom= 75\n",
      "Step= 5929, Dmax= 4.8e-04 nm, Epot= -1.50505e+05 Fmax= 2.99456e+02, atom= 72\n",
      "Step= 5930, Dmax= 5.8e-04 nm, Epot= -1.50505e+05 Fmax= 2.29628e+02, atom= 75\n",
      "Step= 5931, Dmax= 7.0e-04 nm, Epot= -1.50505e+05 Fmax= 4.06522e+02, atom= 72\n",
      "Step= 5932, Dmax= 8.4e-04 nm, Epot= -1.50506e+05 Fmax= 3.54973e+02, atom= 72\n",
      "Step= 5933, Dmax= 1.0e-03 nm, Epot= -1.50506e+05 Fmax= 5.61607e+02, atom= 72\n",
      "Step= 5934, Dmax= 1.2e-03 nm, Epot= -1.50506e+05 Fmax= 5.35216e+02, atom= 72\n",
      "Step= 5936, Dmax= 7.2e-04 nm, Epot= -1.50507e+05 Fmax= 1.21890e+02, atom= 72\n",
      "Step= 5937, Dmax= 8.7e-04 nm, Epot= -1.50507e+05 Fmax= 6.63523e+02, atom= 75\n",
      "Step= 5938, Dmax= 1.0e-03 nm, Epot= -1.50508e+05 Fmax= 2.82877e+02, atom= 72\n",
      "Step= 5940, Dmax= 6.2e-04 nm, Epot= -1.50509e+05 Fmax= 2.86103e+02, atom= 75\n",
      "Step= 5941, Dmax= 7.5e-04 nm, Epot= -1.50509e+05 Fmax= 3.97160e+02, atom= 72\n",
      "Step= 5942, Dmax= 9.0e-04 nm, Epot= -1.50509e+05 Fmax= 4.21808e+02, atom= 75\n",
      "Step= 5943, Dmax= 1.1e-03 nm, Epot= -1.50509e+05 Fmax= 5.62344e+02, atom= 72\n",
      "Step= 5944, Dmax= 1.3e-03 nm, Epot= -1.50510e+05 Fmax= 6.16462e+02, atom= 75\n",
      "Step= 5946, Dmax= 7.8e-04 nm, Epot= -1.50511e+05 Fmax= 8.93158e+01, atom= 72\n",
      "Step= 5948, Dmax= 4.7e-04 nm, Epot= -1.50511e+05 Fmax= 3.34401e+02, atom= 75\n",
      "Step= 5949, Dmax= 5.6e-04 nm, Epot= -1.50512e+05 Fmax= 1.74843e+02, atom= 72\n",
      "Step= 5950, Dmax= 6.7e-04 nm, Epot= -1.50512e+05 Fmax= 4.35749e+02, atom= 75\n",
      "Step= 5951, Dmax= 8.1e-04 nm, Epot= -1.50512e+05 Fmax= 2.97474e+02, atom= 72\n",
      "Step= 5952, Dmax= 9.7e-04 nm, Epot= -1.50512e+05 Fmax= 5.82187e+02, atom= 75\n",
      "Step= 5953, Dmax= 1.2e-03 nm, Epot= -1.50513e+05 Fmax= 4.73434e+02, atom= 72\n",
      "Step= 5955, Dmax= 7.0e-04 nm, Epot= -1.50514e+05 Fmax= 1.62430e+02, atom= 75\n",
      "Step= 5957, Dmax= 4.2e-04 nm, Epot= -1.50514e+05 Fmax= 2.17778e+02, atom= 72\n",
      "Step= 5958, Dmax= 5.0e-04 nm, Epot= -1.50514e+05 Fmax= 2.38879e+02, atom= 75\n",
      "Step= 5959, Dmax= 6.0e-04 nm, Epot= -1.50515e+05 Fmax= 3.08742e+02, atom= 72\n",
      "Step= 5960, Dmax= 7.2e-04 nm, Epot= -1.50515e+05 Fmax= 3.48583e+02, atom= 75\n",
      "Step= 5961, Dmax= 8.7e-04 nm, Epot= -1.50515e+05 Fmax= 4.40248e+02, atom= 72\n",
      "Step= 5962, Dmax= 1.0e-03 nm, Epot= -1.50515e+05 Fmax= 5.06234e+02, atom= 75\n",
      "Step= 5963, Dmax= 1.2e-03 nm, Epot= -1.50515e+05 Fmax= 6.30019e+02, atom= 72\n",
      "Step= 5964, Dmax= 1.5e-03 nm, Epot= -1.50516e+05 Fmax= 7.32402e+02, atom= 75\n",
      "Step= 5966, Dmax= 9.0e-04 nm, Epot= -1.50517e+05 Fmax= 8.22008e+01, atom= 72\n",
      "Step= 5967, Dmax= 1.1e-03 nm, Epot= -1.50517e+05 Fmax= 8.95833e+02, atom= 75\n",
      "Step= 5968, Dmax= 1.3e-03 nm, Epot= -1.50519e+05 Fmax= 2.77435e+02, atom= 75\n",
      "Step= 5970, Dmax= 7.8e-04 nm, Epot= -1.50520e+05 Fmax= 4.30221e+02, atom= 75\n",
      "Step= 5971, Dmax= 9.3e-04 nm, Epot= -1.50520e+05 Fmax= 4.16983e+02, atom= 75\n",
      "Step= 5973, Dmax= 5.6e-04 nm, Epot= -1.50520e+05 Fmax= 9.34590e+01, atom= 75\n",
      "Step= 5974, Dmax= 6.7e-04 nm, Epot= -1.50521e+05 Fmax= 5.15530e+02, atom= 75\n",
      "Step= 5975, Dmax= 8.0e-04 nm, Epot= -1.50522e+05 Fmax= 2.19044e+02, atom= 75\n",
      "Step= 5976, Dmax= 9.6e-04 nm, Epot= -1.50522e+05 Fmax= 6.60160e+02, atom= 75\n",
      "Step= 5977, Dmax= 1.2e-03 nm, Epot= -1.50522e+05 Fmax= 3.97276e+02, atom= 75\n",
      "Step= 5979, Dmax= 6.9e-04 nm, Epot= -1.50523e+05 Fmax= 2.34703e+02, atom= 72\n",
      "Step= 5980, Dmax= 8.3e-04 nm, Epot= -1.50523e+05 Fmax= 5.24251e+02, atom= 75\n",
      "Step= 5981, Dmax= 1.0e-03 nm, Epot= -1.50523e+05 Fmax= 3.85644e+02, atom= 72\n",
      "Step= 5983, Dmax= 6.0e-04 nm, Epot= -1.50524e+05 Fmax= 1.62635e+02, atom= 75\n",
      "Step= 5984, Dmax= 7.2e-04 nm, Epot= -1.50524e+05 Fmax= 4.93215e+02, atom= 72\n",
      "Step= 5985, Dmax= 8.6e-04 nm, Epot= -1.50525e+05 Fmax= 2.95797e+02, atom= 75\n",
      "Step= 5987, Dmax= 5.2e-04 nm, Epot= -1.50525e+05 Fmax= 1.76134e+02, atom= 72\n",
      "Step= 5988, Dmax= 6.2e-04 nm, Epot= -1.50526e+05 Fmax= 3.90492e+02, atom= 75\n",
      "Step= 5989, Dmax= 7.5e-04 nm, Epot= -1.50526e+05 Fmax= 2.88913e+02, atom= 72\n",
      "Step= 5991, Dmax= 4.5e-04 nm, Epot= -1.50526e+05 Fmax= 1.20345e+02, atom= 75\n",
      "Step= 5992, Dmax= 5.4e-04 nm, Epot= -1.50527e+05 Fmax= 3.68714e+02, atom= 72\n",
      "Step= 5993, Dmax= 6.5e-04 nm, Epot= -1.50527e+05 Fmax= 2.20234e+02, atom= 75\n",
      "Step= 5994, Dmax= 7.7e-04 nm, Epot= -1.50527e+05 Fmax= 4.85147e+02, atom= 72\n",
      "Step= 5995, Dmax= 9.3e-04 nm, Epot= -1.50528e+05 Fmax= 3.62449e+02, atom= 75\n",
      "Step= 5997, Dmax= 5.6e-04 nm, Epot= -1.50528e+05 Fmax= 1.44696e+02, atom= 72\n",
      "Step= 5998, Dmax= 6.7e-04 nm, Epot= -1.50528e+05 Fmax= 4.63918e+02, atom= 75\n",
      "Step= 5999, Dmax= 8.0e-04 nm, Epot= -1.50529e+05 Fmax= 2.66207e+02, atom= 72\n",
      "Step= 6001, Dmax= 4.8e-04 nm, Epot= -1.50529e+05 Fmax= 1.73544e+02, atom= 75\n",
      "Step= 6002, Dmax= 5.8e-04 nm, Epot= -1.50530e+05 Fmax= 3.52485e+02, atom= 72\n",
      "Step= 6003, Dmax= 6.9e-04 nm, Epot= -1.50530e+05 Fmax= 2.80371e+02, atom= 75\n",
      "Step= 6004, Dmax= 8.3e-04 nm, Epot= -1.50530e+05 Fmax= 4.77753e+02, atom= 72\n",
      "Step= 6005, Dmax= 1.0e-03 nm, Epot= -1.50531e+05 Fmax= 4.33271e+02, atom= 75\n",
      "Step= 6007, Dmax= 6.0e-04 nm, Epot= -1.50531e+05 Fmax= 1.11606e+02, atom= 72\n",
      "Step= 6008, Dmax= 7.2e-04 nm, Epot= -1.50532e+05 Fmax= 5.42541e+02, atom= 75\n",
      "Step= 6009, Dmax= 8.6e-04 nm, Epot= -1.50533e+05 Fmax= 2.41823e+02, atom= 72\n",
      "Step= 6011, Dmax= 5.2e-04 nm, Epot= -1.50533e+05 Fmax= 2.30819e+02, atom= 75\n",
      "Step= 6012, Dmax= 6.2e-04 nm, Epot= -1.50533e+05 Fmax= 3.34615e+02, atom= 75\n",
      "Step= 6014, Dmax= 3.7e-04 nm, Epot= -1.50534e+05 Fmax= 7.18798e+01, atom= 5211\n",
      "Step= 6015, Dmax= 4.5e-04 nm, Epot= -1.50535e+05 Fmax= 7.16836e+01, atom= 5211\n",
      "Step= 6016, Dmax= 5.4e-04 nm, Epot= -1.50536e+05 Fmax= 1.57295e+02, atom= 72\n",
      "Step= 6017, Dmax= 6.4e-04 nm, Epot= -1.50536e+05 Fmax= 4.29829e+02, atom= 72\n",
      "Step= 6018, Dmax= 7.7e-04 nm, Epot= -1.50536e+05 Fmax= 2.73225e+02, atom= 72\n",
      "Step= 6020, Dmax= 4.6e-04 nm, Epot= -1.50537e+05 Fmax= 1.48725e+02, atom= 72\n",
      "Step= 6021, Dmax= 5.6e-04 nm, Epot= -1.50537e+05 Fmax= 3.56355e+02, atom= 72\n",
      "Step= 6022, Dmax= 6.7e-04 nm, Epot= -1.50537e+05 Fmax= 2.51756e+02, atom= 72\n",
      "Step= 6023, Dmax= 8.0e-04 nm, Epot= -1.50538e+05 Fmax= 4.76358e+02, atom= 72\n",
      "Step= 6024, Dmax= 9.6e-04 nm, Epot= -1.50538e+05 Fmax= 3.99466e+02, atom= 72\n",
      "Step= 6026, Dmax= 5.8e-04 nm, Epot= -1.50538e+05 Fmax= 1.27168e+02, atom= 75\n",
      "Step= 6027, Dmax= 6.9e-04 nm, Epot= -1.50539e+05 Fmax= 5.05030e+02, atom= 72\n",
      "Step= 6028, Dmax= 8.3e-04 nm, Epot= -1.50540e+05 Fmax= 2.52706e+02, atom= 72\n",
      "Step= 6030, Dmax= 5.0e-04 nm, Epot= -1.50540e+05 Fmax= 2.01659e+02, atom= 72\n",
      "Step= 6031, Dmax= 6.0e-04 nm, Epot= -1.50541e+05 Fmax= 3.42323e+02, atom= 72\n",
      "Step= 6033, Dmax= 3.6e-04 nm, Epot= -1.50541e+05 Fmax= 7.01256e+01, atom= 5211\n",
      "Step= 6034, Dmax= 4.3e-04 nm, Epot= -1.50542e+05 Fmax= 7.41046e+01, atom= 72\n",
      "Step= 6035, Dmax= 5.2e-04 nm, Epot= -1.50542e+05 Fmax= 3.93985e+02, atom= 72\n",
      "Step= 6036, Dmax= 6.2e-04 nm, Epot= -1.50543e+05 Fmax= 1.70293e+02, atom= 72\n",
      "Step= 6037, Dmax= 7.4e-04 nm, Epot= -1.50543e+05 Fmax= 5.05196e+02, atom= 72\n",
      "Step= 6038, Dmax= 8.9e-04 nm, Epot= -1.50544e+05 Fmax= 3.07686e+02, atom= 72\n",
      "Step= 6040, Dmax= 5.4e-04 nm, Epot= -1.50544e+05 Fmax= 1.80632e+02, atom= 72\n",
      "Step= 6041, Dmax= 6.4e-04 nm, Epot= -1.50544e+05 Fmax= 4.06783e+02, atom= 72\n",
      "Step= 6042, Dmax= 7.7e-04 nm, Epot= -1.50545e+05 Fmax= 2.96364e+02, atom= 72\n",
      "Step= 6043, Dmax= 9.3e-04 nm, Epot= -1.50545e+05 Fmax= 5.49186e+02, atom= 72\n",
      "Step= 6044, Dmax= 1.1e-03 nm, Epot= -1.50545e+05 Fmax= 4.63334e+02, atom= 72\n",
      "Step= 6046, Dmax= 6.7e-04 nm, Epot= -1.50546e+05 Fmax= 1.43131e+02, atom= 72\n",
      "Step= 6048, Dmax= 4.0e-04 nm, Epot= -1.50546e+05 Fmax= 2.20650e+02, atom= 72\n",
      "Step= 6049, Dmax= 4.8e-04 nm, Epot= -1.50546e+05 Fmax= 2.17261e+02, atom= 72\n",
      "Step= 6050, Dmax= 5.8e-04 nm, Epot= -1.50547e+05 Fmax= 3.06916e+02, atom= 72\n",
      "Step= 6051, Dmax= 6.9e-04 nm, Epot= -1.50547e+05 Fmax= 3.23417e+02, atom= 72\n",
      "Step= 6052, Dmax= 8.3e-04 nm, Epot= -1.50547e+05 Fmax= 4.31374e+02, atom= 72\n",
      "Step= 6053, Dmax= 1.0e-03 nm, Epot= -1.50548e+05 Fmax= 4.76332e+02, atom= 72\n",
      "Step= 6055, Dmax= 6.0e-04 nm, Epot= -1.50548e+05 Fmax= 6.94234e+01, atom= 75\n",
      "Step= 6056, Dmax= 7.2e-04 nm, Epot= -1.50549e+05 Fmax= 5.85041e+02, atom= 72\n",
      "Step= 6057, Dmax= 8.6e-04 nm, Epot= -1.50550e+05 Fmax= 1.99960e+02, atom= 72\n",
      "Step= 6059, Dmax= 5.2e-04 nm, Epot= -1.50550e+05 Fmax= 2.70813e+02, atom= 72\n",
      "Step= 6060, Dmax= 6.2e-04 nm, Epot= -1.50551e+05 Fmax= 2.92712e+02, atom= 72\n",
      "Step= 6061, Dmax= 7.4e-04 nm, Epot= -1.50551e+05 Fmax= 3.85068e+02, atom= 72\n",
      "Step= 6062, Dmax= 8.9e-04 nm, Epot= -1.50551e+05 Fmax= 4.26683e+02, atom= 72\n",
      "Step= 6063, Dmax= 1.1e-03 nm, Epot= -1.50551e+05 Fmax= 5.49276e+02, atom= 72\n",
      "Step= 6064, Dmax= 1.3e-03 nm, Epot= -1.50552e+05 Fmax= 6.19582e+02, atom= 72\n",
      "Step= 6066, Dmax= 7.7e-04 nm, Epot= -1.50553e+05 Fmax= 8.01591e+01, atom= 72\n",
      "Step= 6067, Dmax= 9.2e-04 nm, Epot= -1.50553e+05 Fmax= 7.56478e+02, atom= 72\n",
      "Step= 6068, Dmax= 1.1e-03 nm, Epot= -1.50555e+05 Fmax= 2.51668e+02, atom= 72\n",
      "Step= 6070, Dmax= 6.7e-04 nm, Epot= -1.50555e+05 Fmax= 3.54703e+02, atom= 75\n",
      "Step= 6071, Dmax= 8.0e-04 nm, Epot= -1.50555e+05 Fmax= 3.73333e+02, atom= 72\n",
      "Step= 6072, Dmax= 9.6e-04 nm, Epot= -1.50555e+05 Fmax= 4.99467e+02, atom= 75\n",
      "Step= 6074, Dmax= 5.8e-04 nm, Epot= -1.50556e+05 Fmax= 6.45358e+01, atom= 5211\n",
      "Step= 6075, Dmax= 6.9e-04 nm, Epot= -1.50558e+05 Fmax= 2.02664e+02, atom= 75\n",
      "Step= 6076, Dmax= 8.3e-04 nm, Epot= -1.50558e+05 Fmax= 5.52040e+02, atom= 75\n",
      "Step= 6077, Dmax= 9.9e-04 nm, Epot= -1.50558e+05 Fmax= 3.55333e+02, atom= 75\n",
      "Step= 6079, Dmax= 6.0e-04 nm, Epot= -1.50558e+05 Fmax= 1.87049e+02, atom= 75\n",
      "Step= 6080, Dmax= 7.2e-04 nm, Epot= -1.50559e+05 Fmax= 4.65250e+02, atom= 75\n",
      "Step= 6081, Dmax= 8.6e-04 nm, Epot= -1.50559e+05 Fmax= 3.15792e+02, atom= 75\n",
      "Step= 6083, Dmax= 5.2e-04 nm, Epot= -1.50560e+05 Fmax= 1.54710e+02, atom= 75\n",
      "Step= 6084, Dmax= 6.2e-04 nm, Epot= -1.50560e+05 Fmax= 4.08137e+02, atom= 75\n",
      "Step= 6085, Dmax= 7.4e-04 nm, Epot= -1.50560e+05 Fmax= 2.68978e+02, atom= 75\n",
      "Step= 6086, Dmax= 8.9e-04 nm, Epot= -1.50561e+05 Fmax= 5.42228e+02, atom= 75\n",
      "Step= 6087, Dmax= 1.1e-03 nm, Epot= -1.50561e+05 Fmax= 4.32503e+02, atom= 75\n",
      "Step= 6089, Dmax= 6.4e-04 nm, Epot= -1.50561e+05 Fmax= 1.50235e+02, atom= 72\n",
      "Step= 6090, Dmax= 7.7e-04 nm, Epot= -1.50562e+05 Fmax= 5.50099e+02, atom= 75\n",
      "Step= 6091, Dmax= 9.2e-04 nm, Epot= -1.50562e+05 Fmax= 2.89151e+02, atom= 75\n",
      "Step= 6093, Dmax= 5.5e-04 nm, Epot= -1.50563e+05 Fmax= 2.16306e+02, atom= 75\n",
      "Step= 6094, Dmax= 6.6e-04 nm, Epot= -1.50563e+05 Fmax= 3.88918e+02, atom= 75\n",
      "Step= 6095, Dmax= 8.0e-04 nm, Epot= -1.50563e+05 Fmax= 3.38605e+02, atom= 75\n",
      "Step= 6097, Dmax= 4.8e-04 nm, Epot= -1.50564e+05 Fmax= 9.66159e+01, atom= 72\n",
      "Step= 6098, Dmax= 5.7e-04 nm, Epot= -1.50564e+05 Fmax= 4.26469e+02, atom= 75\n",
      "Step= 6099, Dmax= 6.9e-04 nm, Epot= -1.50565e+05 Fmax= 2.00019e+02, atom= 75\n",
      "Step= 6100, Dmax= 8.3e-04 nm, Epot= -1.50565e+05 Fmax= 5.53326e+02, atom= 75\n",
      "Step= 6101, Dmax= 9.9e-04 nm, Epot= -1.50566e+05 Fmax= 3.49143e+02, atom= 75\n",
      "Step= 6103, Dmax= 6.0e-04 nm, Epot= -1.50566e+05 Fmax= 1.94371e+02, atom= 75\n",
      "Step= 6109, Dmax= 2.2e-05 nm, Epot= -1.50566e+05 Fmax= 1.74138e+02, atom= 7511\n",
      "Step= 6112, Dmax= 6.7e-06 nm, Epot= -1.50566e+05 Fmax= 1.68084e+02, atom= 75\n",
      "Step= 6116, Dmax= 1.0e-06 nm, Epot= -1.50566e+05 Fmax= 1.67158e+02, atom= 75\n",
      "Energy minimization has stopped, but the forces have not converged to the\n",
      "requested precision Fmax < 10 (which may not be possible for your system). It\n",
      "stopped because the algorithm tried to make a new step whose size was too\n",
      "small, or there was no change in the energy since last step. Either way, we\n",
      "regard the minimization as converged to within the available machine\n",
      "precision, given your starting configuration and EM parameters.\n",
      "\n",
      "Double precision normally gives you higher accuracy, but this is often not\n",
      "needed for preparing to run molecular dynamics.\n",
      "You might need to increase your constraint accuracy, or turn\n",
      "off constraints altogether (set constraints = none in mdp file)\n",
      "\n",
      "writing lowest energy coordinates.\n",
      "\n",
      "Steepest Descents converged to machine precision in 6117 steps,\n",
      "but did not reach the requested Fmax < 10.\n",
      "Potential Energy  = -1.5056622e+05\n",
      "Maximum force     =  1.6808356e+02 on atom 75\n",
      "Norm of force     =  4.7511979e+00\n",
      "\n",
      "GROMACS reminds you: \"Nothing shocks me. I'm a scientist.\" (Harrison Ford as Indiana Jones)\n",
      "\n"
     ]
    }
   ],
   "source": [
    "!gmx_2024 mdrun -v -deffnm em"
   ]
  },
  {
   "cell_type": "markdown",
   "metadata": {
    "nbpresent": {
     "id": "65593f21-7e6d-426e-a48e-847cd9faa631"
    }
   },
   "source": [
    "The -v flag is for the impatient: it makes `gmx mdrun` verbose, such that it prints its progress to the screen at every step. Never use this flag if run in background, on a HPC center or on a local cluster, it prints unnecessary data in the standard output file. \n",
    "The -deffnm flag will define the file names of the input and output. So, if you did not name your grompp output \"em.tpr,\" you will have to explicitly specify its name with the `gmx mdrun` -s flag."
   ]
  },
  {
   "cell_type": "markdown",
   "metadata": {},
   "source": [
    "*Note: if you do not want to wait, but look at some of the results directly, copy the data from the /reference directory into the current directory. To do this from within this notebook, remove the comment characters (#) in the following cell*  "
   ]
  },
  {
   "cell_type": "code",
   "execution_count": 25,
   "metadata": {},
   "outputs": [],
   "source": [
    "## ONLY execute the lines below if you do not want to run and wait for the simulation to finish\n",
    "#!cp reference/em_charmm.edr em.edr\n",
    "#!cp reference/em_charmm.gro em.gro"
   ]
  },
  {
   "cell_type": "markdown",
   "metadata": {
    "nbpresent": {
     "id": "0274fdde-8eaf-4df7-b0da-f7744035566f"
    }
   },
   "source": [
    "## Determining if the run was successful"
   ]
  },
  {
   "cell_type": "markdown",
   "metadata": {
    "nbpresent": {
     "id": "a1ca837f-1179-4518-a425-cd9ad733cd73"
    }
   },
   "source": [
    "There are two very important factors to evaluate to determine if EM was successful. \n",
    "\n",
    "The first is the potential energy (printed at the end of the EM process, even without -v). Epot should be negative and (for a simple protein in water) on the order of 100000 kJ/mol, depending on the system size and number of water molecules\n",
    "\n",
    "The second important feature is the maximum force, Fmax, the target for which was set in minim.mdp - \"emtol = 1000.0\" - indicating a target Fmax of no greater than 1000 kJ/(mol nm). It is possible to arrive at a reasonable Epot with Fmax > emtol. If this happens, your system may not be stable enough for simulation. Evaluate why it may be happening, and perhaps change your minimization parameters (integrator, emstep, etc).\n",
    "\n"
   ]
  },
  {
   "cell_type": "markdown",
   "metadata": {
    "nbpresent": {
     "id": "08ee3d6c-ad7d-42be-9622-f43d9ab3d1e7"
    }
   },
   "source": [
    "## Analysing the run results"
   ]
  },
  {
   "cell_type": "markdown",
   "metadata": {
    "nbpresent": {
     "id": "e4c99f39-4127-487f-b3fe-fbe5b3595316"
    }
   },
   "source": [
    "Let's do a bit of analysis. The em.edr file contains all of the energy terms that GROMACS collects during EM. You can analyze any .edr file using the GROMACS energy module."
   ]
  },
  {
   "cell_type": "markdown",
   "metadata": {
    "nbpresent": {
     "id": "4c87141e-8583-497a-8c8c-22ca7e149a3f"
    }
   },
   "source": [
    "To analyse or visualize simulation data in python or jupyter notebooks, we can output a simplified xvg format from gmx-analysis tools with the option `-xvg none`"
   ]
  },
  {
   "cell_type": "code",
   "execution_count": 103,
   "metadata": {
    "nbpresent": {
     "id": "9ebad872-0589-4675-a240-b89c396a35c1"
    },
    "scrolled": true
   },
   "outputs": [
    {
     "name": "stdout",
     "output_type": "stream",
     "text": [
      "                      :-) GROMACS - gmx energy, 2024.2 (-:\n",
      "\n",
      "Executable:   /home/saeed/.local/gromacs_2024/bin/gmx_2024\n",
      "Data prefix:  /home/saeed/.local/gromacs_2024\n",
      "Working dir:  /media/saeed/Expansion/ASU/results/1,6HD/wat_1.6HD_dens/thirtytwo_1.6HD/minimize\n",
      "Command line:\n",
      "  gmx_2024 energy -f em.edr -o potential.xvg -xvg none\n",
      "\n",
      "Opened em.edr as single precision energy file\n",
      "\n",
      "Select the terms you want from the following list by\n",
      "selecting either (part of) the name or the number or a combination.\n",
      "End your selection with an empty line or a zero.\n",
      "-------------------------------------------------------------------\n",
      "  1  Bond             2  Angle            3  Proper-Dih.      4  LJ-14         \n",
      "  5  Coulomb-14       6  LJ-(SR)          7  Coulomb-(SR)     8  Coul.-recip.  \n",
      "  9  Potential       10  Pressure        11  Vir-XX          12  Vir-XY        \n",
      " 13  Vir-XZ          14  Vir-YX          15  Vir-YY          16  Vir-YZ        \n",
      " 17  Vir-ZX          18  Vir-ZY          19  Vir-ZZ          20  Pres-XX       \n",
      " 21  Pres-XY         22  Pres-XZ         23  Pres-YX         24  Pres-YY       \n",
      " 25  Pres-YZ         26  Pres-ZX         27  Pres-ZY         28  Pres-ZZ       \n",
      " 29  #Surf*SurfTen   30  T-rest        \n",
      "\n",
      "Last energy frame read 4831 time 6112.000         \n",
      "\n",
      "Statistics over 6113 steps [ 0.0000 through 6112.0000 ps ], 1 data sets\n",
      "All statistics are over 4832 points (frames)\n",
      "\n",
      "Energy                      Average   Err.Est.       RMSD  Tot-Drift\n",
      "-------------------------------------------------------------------------------\n",
      "Potential                   10851.8     160000 7.32246e+06    -959521  (kJ/mol)\n",
      "\n",
      "GROMACS reminds you: \"Rub It Right Across Your Eyes\" (F. Zappa)\n",
      "\n"
     ]
    }
   ],
   "source": [
    "!printf \"Potential\\n0\\n\" | gmx_2024 energy -f em.edr -o potential.xvg -xvg none"
   ]
  },
  {
   "cell_type": "markdown",
   "metadata": {
    "nbpresent": {
     "id": "a4591650-99ca-436f-a572-7e254adb454e"
    }
   },
   "source": [
    "You will be shown the average of Epot, and a file called \"potential.xvg\" will be written. To plot this data file, you can use the script below. The resulting plot should show a steady convergence of Epot."
   ]
  },
  {
   "cell_type": "code",
   "execution_count": 104,
   "metadata": {
    "nbpresent": {
     "id": "4ce04079-a188-4372-ac3f-10665cd8b1a5"
    },
    "scrolled": true
   },
   "outputs": [
    {
     "name": "stderr",
     "output_type": "stream",
     "text": [
      "<>:4: SyntaxWarning: invalid escape sequence '\\s'\n",
      "<>:4: SyntaxWarning: invalid escape sequence '\\s'\n",
      "/tmp/ipykernel_12336/1276374451.py:4: SyntaxWarning: invalid escape sequence '\\s'\n",
      "  df = pd.read_csv('potential.xvg', sep='\\s+', header=None, names=['step','energy'])\n"
     ]
    },
    {
     "data": {
      "image/png": "[encoded data removed]",
      "text/plain": [
       "<Figure size 640x480 with 1 Axes>"
      ]
     },
     "metadata": {},
     "output_type": "display_data"
    }
   ],
   "source": [
    "import pandas as pd\n",
    "import matplotlib.pyplot as plt\n",
    "\n",
    "df = pd.read_csv('potential.xvg', sep='\\s+', header=None, names=['step','energy'])\n",
    "df.plot('step')\n",
    "plt.savefig('potential.png')"
   ]
  },
  {
   "cell_type": "markdown",
   "metadata": {
    "nbpresent": {
     "id": "ca79195b-10c4-4c90-8d1c-b4706aeba797"
    }
   },
   "source": [
    "In alternative you can plot data file using Xmgrace plotting tool by directly output xvg format from the analysis tools. To use xmgrace from this notebook, remove the comment character (#) in the following cells: "
   ]
  },
  {
   "cell_type": "code",
   "execution_count": 28,
   "metadata": {
    "nbpresent": {
     "id": "1b4235fe-77e5-4874-8519-aaacde0dcacb"
    },
    "scrolled": true
   },
   "outputs": [],
   "source": [
    "#!printf \"Potential\\n0\\n\" | gmx_2024 energy -f em.edr -o potential.xvg"
   ]
  },
  {
   "cell_type": "markdown",
   "metadata": {
    "nbpresent": {
     "id": "ca79195b-10c4-4c90-8d1c-b4706aeba797"
    }
   },
   "source": [
    "To plot this data file, now you will need the Xmgrace plotting tool. "
   ]
  },
  {
   "cell_type": "code",
   "execution_count": 24,
   "metadata": {
    "nbpresent": {
     "id": "ecd1a98a-daa7-4f2e-9825-824bee8578ad"
    },
    "scrolled": true
   },
   "outputs": [],
   "source": [
    "#!xmgrace potential.xvg"
   ]
  },
  {
   "cell_type": "markdown",
   "metadata": {
    "nbpresent": {
     "id": "e6db598c-b3ac-4a16-8044-1662a0646b15"
    }
   },
   "source": [
    "Now that our system is at an energy minimum, we can begin real dynamics."
   ]
  },
  {
   "cell_type": "markdown",
   "metadata": {
    "jp-MarkdownHeadingCollapsed": true,
    "nbpresent": {
     "id": "4c85e968-f181-42fb-a3b3-ab42facdb15a"
    }
   },
   "source": [
    "# Position restraints "
   ]
  },
  {
   "cell_type": "markdown",
   "metadata": {
    "nbpresent": {
     "id": "2b10cf65-f4fd-4244-bb0b-612e4aa3ade8"
    }
   },
   "source": [
    "EM ensured that we have a reasonable starting structure, in terms of geometry and solvent orientation. To begin real dynamics, we must equilibrate the solvent and ions around the protein. If we were to attempt unrestrained dynamics at this point, the system may collapse. The reason is that the solvent is mostly optimized within itself, and not necessarily with the solute, and ions are randomly placed by replacing water molecules."
   ]
  },
  {
   "cell_type": "markdown",
   "metadata": {
    "nbpresent": {
     "id": "2b10cf65-f4fd-4244-bb0b-612e4aa3ade8"
    }
   },
   "source": [
    "Remember that posre.itp file that pdb2gmx generated a long time ago? We're going to use it now. The purpose of posre.itp is to apply a position restraining force on the heavy atoms of the protein (anything that is not a hydrogen). Movement is permitted, but only after overcoming a substantial energy penalty. The utility of position restraints is that they allow us to relax our solvent and ions around our protein, without the added variable of structural changes in the protein. The origin of the position restraints (the coordinates at which the restraint potential is zero) is provided via a coordinate file passed to the -r option of grompp. Depending from the protein and ion types, this process may also be in the order nanoseconds."
   ]
  },
  {
   "cell_type": "markdown",
   "metadata": {
    "nbpresent": {
     "id": "2b10cf65-f4fd-4244-bb0b-612e4aa3ade8"
    }
   },
   "source": [
    "To use position restraints we need to add \\\"define = -DPOSRES\\\" to the simulation parameter file, .mdp, (more details on the simulation parameters below). Have a look at the .mdp file for this run:"
   ]
  },
  {
   "cell_type": "code",
   "execution_count": null,
   "metadata": {},
   "outputs": [],
   "source": [
    "!head -5 input/nvt-charmm.mdp "
   ]
  },
  {
   "cell_type": "markdown",
   "metadata": {},
   "source": [
    "When using position restraints, a file with restraint coordinates must be supplied with -r to gmx grompp (see below). It can be the same file as supplied for -c. "
   ]
  },
  {
   "cell_type": "markdown",
   "metadata": {
    "nbpresent": {
     "id": "4c85e968-f181-42fb-a3b3-ab42facdb15a"
    }
   },
   "source": [
    "# Equilibration run - temperature"
   ]
  },
  {
   "cell_type": "markdown",
   "metadata": {
    "nbpresent": {
     "id": "2b10cf65-f4fd-4244-bb0b-612e4aa3ade8"
    }
   },
   "source": [
    "EM ensured that we have a reasonable starting structure, in terms of geometry and solvent orientation. Now the system needs to be brought to the temperature we wish to simulate and establish the proper orientation about the solute (the protein). After we arrive at the correct temperature (based on kinetic energies), we will apply pressure to the system until it reaches the proper density."
   ]
  },
  {
   "cell_type": "markdown",
   "metadata": {
    "nbpresent": {
     "id": "2b10cf65-f4fd-4244-bb0b-612e4aa3ade8"
    }
   },
   "source": [
    "Equilibration is often conducted in two phases. The first phase is conducted under an NVT ensemble (constant Number of particles, Volume, and Temperature). This ensemble is also referred to as \"isothermal-isochoric\" or \"canonical.\" The timeframe for such a procedure is dependent upon the contents of the system. Typically, 100-200 ps should suffice, and we will conduct a 100-ps NVT equilibration for this exercise. Depending on your machine, this may take a while (just under an hour if run in parallel on 16 cores or so)."
   ]
  },
  {
   "cell_type": "markdown",
   "metadata": {
    "nbpresent": {
     "id": "2b10cf65-f4fd-4244-bb0b-612e4aa3ade8"
    }
   },
   "source": [
    "We will call grompp and mdrun just as we did at the EM step, but this time with the energy minimised structure as input and a different .mdp file for the run. Have a look at the input file for this run:"
   ]
  },
  {
   "cell_type": "code",
   "execution_count": 117,
   "metadata": {
    "nbpresent": {
     "id": "cf4e0e9a-6503-430f-8c60-815a9ae22616"
    }
   },
   "outputs": [
    {
     "name": "stdout",
     "output_type": "stream",
     "text": [
      "/media/saeed/Expansion/ASU/results/1,6HD/wat_1.6HD_dens/thirtytwo_1.6HD/equilib1_nvt/20ns\n"
     ]
    }
   ],
   "source": [
    "# Change to the data directory\n",
    "# Note that executing this command twice will result in an error you can ignore\n",
    "%cd /media/saeed/Expansion/ASU/results/1,6HD/wat_1.6HD_dens/thirtytwo_1.6HD/equilib1_nvt/20ns/"
   ]
  },
  {
   "cell_type": "code",
   "execution_count": 118,
   "metadata": {},
   "outputs": [
    {
     "name": "stdout",
     "output_type": "stream",
     "text": [
      "title                   = 1-6HD-water nvt simulation for equilibrium\n",
      "; Run parameters\n",
      "integrator              = md        ; leap-frog integrator\n",
      "nsteps                  = 5000000   ; 2 * 10,000,000 = 20,000,000 fs= 20,000 ps ( 20ns)\n",
      "dt                      = 0.002     ; 2 fs\n",
      "\n",
      "; Output control\n",
      "nstenergy               = 50000      ; save energies every 10.0 ps\n",
      "nstlog                  = 50000      ; update log file every 10.0 ps\n",
      "nstxout-compressed      = 50000      ; save coordinates every 10.0 ps\n",
      "\n",
      "; Bond parameters\n",
      "continuation            = no       ; first dynamic run \n",
      "constraint_algorithm    = lincs     ; holonomic constraints \n",
      "constraints             = all-bonds   ; bonds to H are constrained\n",
      "lincs_iter              = 1         ; accuracy of LINCS\n",
      "lincs_order             = 4         ; also related to accuracy\n",
      "\n",
      "; Neighbor searching and vdW\n",
      "cutoff-scheme           = Verlet\n",
      "ns_type                 = grid      ; search neighboring grid cells\n",
      "nstlist                 = 20        ; largely irrelevant with Verlet\n",
      "rlist                   = 1.2       ; Cut-off distance for the short-range neighbor list\n",
      "vdwtype                 = cutoff\n",
      "vdw-modifier            = Potential-shift-Verlet\n",
      "rvdw-switch             = 0\n",
      "rvdw                    = 1.0      ; short-range van der Waals cutoff (in nm)\n",
      "\n",
      "; Electrostatics\n",
      "coulombtype             = PME       ; Particle Mesh Ewald for long-range electrostatics\n",
      "coulomb-modifier         = Potential-shift-Verlet\n",
      "rcoulomb                = 1.0\n",
      "pme_order               = 4         ; cubic interpolation\n",
      "fourierspacing          = 0.12      ; grid spacing for FFT\n",
      "\n",
      "; Temperature coupling\n",
      "tcoupl                  = V-rescale                     ; modified Berendsen thermostat. Temperature coupling using velocity rescaling with a stochastic term\n",
      "tc-grps                 = System                        ; groups to couple to separate temperature baths\n",
      "tau_t                   = 1                          ; time constant for coupling, in ps\n",
      "ref_t                   = 298.15                        ; reference temperature, in K\n",
      "\n",
      "; Pressure coupling \n",
      "pcoupl                  = no             ; pressure coupling is off for nvt\n",
      "pcoupltype              = isotropic                     ; uniform scaling of box vectors\n",
      "tau_p                   = 1.0                           ; time constant, in ps\n",
      "ref_p                   = 1.0                           ; reference pressure, in bar\n",
      "compressibility         = 4.5e-5                        ; isothermal compressibility of water, bar^-1\n",
      "\n",
      "; Periodic boundary conditions\n",
      "pbc                     = xyz       ; 3-D PBC\n",
      "\n",
      "; Dispersion correction \n",
      "DispCorr                = EnerPres     ;apply long range dispersion corrections for Energy and Pressure\n",
      "\n",
      "; Velocity generation\n",
      "gen_vel                  = yes        ; after minimization temp is 0 and velocity is 0 so we need to generate velocity\n",
      "gen_temp                 = 5.0\n",
      "gen_seed                 =1234567\n",
      "\n"
     ]
    }
   ],
   "source": [
    "!cat nvt.mdp"
   ]
  },
  {
   "cell_type": "markdown",
   "metadata": {
    "nbpresent": {
     "id": "cc6aa785-2b71-44bc-8a86-0c95e3b65c82"
    }
   },
   "source": [
    "Instead of energy tolerance, we now give time a step size and a number of steps. Furthermore, we need to set a temperature. Now, we're good to run. Take note of a few parameters in the .mdp file:\n",
    "\n",
    "- `gen_vel = yes`: Initiates velocity generation. Using different random seeds (gen_seed) gives different initial velocities, and thus multiple (different) simulations can be conducted from the same starting structure.\n",
    "- `tcoupl = V-rescale`: The velocity rescaling thermostat is an improvement upon the Berendsen weak coupling method, which did not reproduce a correct kinetic ensemble.\n",
    "- `pcoupl = no`: Pressure coupling is not applied. \n",
    "\n",
    "A full explanation of the parameters used can be found in the GROMACS [manual](http://manual.gromacs.org/documentation/current/user-guide/mdp-options.html), in addition to the comments provided. "
   ]
  },
  {
   "cell_type": "markdown",
   "metadata": {},
   "source": [
    "Now, we're good to run."
   ]
  },
  {
   "cell_type": "code",
   "execution_count": 119,
   "metadata": {
    "nbpresent": {
     "id": "2b413eeb-b4a1-4499-b977-156c6a0b4566"
    },
    "scrolled": true
   },
   "outputs": [
    {
     "name": "stdout",
     "output_type": "stream",
     "text": [
      "                      :-) GROMACS - gmx grompp, 2024.2 (-:\n",
      "\n",
      "Executable:   /home/saeed/.local/gromacs_2024/bin/gmx_2024\n",
      "Data prefix:  /home/saeed/.local/gromacs_2024\n",
      "Working dir:  /media/saeed/Expansion/ASU/results/1,6HD/wat_1.6HD_dens/thirtytwo_1.6HD/equilib1_nvt/20ns\n",
      "Command line:\n",
      "  gmx_2024 grompp -f nvt.mdp -c em.gro -r em.gro -p complex3.top -o nvt.tpr\n",
      "\n",
      "Ignoring obsolete mdp entry 'title'\n",
      "Ignoring obsolete mdp entry 'ns_type'\n",
      "\n",
      "NOTE 1 [file nvt.mdp]:\n",
      "  You have set rlist larger than the interaction cut-off, but you also have\n",
      "  verlet-buffer-tolerance > 0. Will set rlist using\n",
      "  verlet-buffer-tolerance.\n",
      "\n",
      "Setting the LD random seed to 1860009200\n",
      "\n",
      "Generated 2999 of the 3003 non-bonded parameter combinations\n",
      "Generating 1-4 interactions: fudge = 0.5\n",
      "\n",
      "Generated 3003 of the 3003 1-4 parameter combinations\n",
      "\n",
      "Excluding 3 bonded neighbours molecule type 'HEZ'\n",
      "\n",
      "turning all bonds into constraints...\n",
      "\n",
      "Excluding 3 bonded neighbours molecule type 'HEZ'\n",
      "\n",
      "Excluding 1 bonded neighbours molecule type 'SOL'\n",
      "\n",
      "turning all bonds into constraints...\n",
      "\n",
      "NOTE 2 [file unknown]:\n",
      "  You are using constraints on all bonds, whereas the forcefield has been\n",
      "  parametrized only with constraints involving hydrogen atoms. We suggest\n",
      "  using constraints = h-bonds instead, this will also improve performance.\n",
      "\n",
      "\n",
      "Velocities were taken from a Maxwell distribution at 5 K\n",
      "\n",
      "Cleaning up constraints and constant bonded interactions with virtual sites\n",
      "Analysing residue names:\n",
      "There are:    32      Other residues\n",
      "There are:  2824      Water residues\n",
      "Analysing residues not classified as Protein/DNA/RNA/Water and splitting into groups...\n",
      "Number of degrees of freedom in T-Coupling group System is 18381.00\n",
      "\n",
      "The largest distance between excluded atoms is 0.395 nm between atom 376 and 386\n",
      "\n",
      "Determining Verlet buffer for a tolerance of 0.005 kJ/mol/ps at 298.15 K\n",
      "\n",
      "Calculated rlist for 1x1 atom pair-list as 1.101 nm, buffer size 0.101 nm\n",
      "\n",
      "Set rlist, assuming 4x4 atom pair-list, to 1.032 nm, buffer size 0.032 nm\n",
      "\n",
      "Note that mdrun will redetermine rlist based on the actual pair-list setup\n",
      "Calculating fourier grid dimensions for X Y Z\n",
      "Using a fourier grid of 96x96x96, spacing 0.113 0.118 0.119\n",
      "\n",
      "Estimate for the relative computational load of the PME mesh part: 0.90\n",
      "\n",
      "NOTE 3 [file nvt.mdp]:\n",
      "  The optimal PME mesh load for parallel simulations is below 0.5\n",
      "  and for highly parallel simulations between 0.25 and 0.33,\n",
      "  for higher performance, increase the cut-off and the PME grid spacing.\n",
      "\n",
      "\n",
      "\n",
      "This run will generate roughly 7 Mb of data\n",
      "\n",
      "There were 3 NOTEs\n",
      "\n",
      "GROMACS reminds you: \"Can't You Make This Thing Go Faster ?\" (Black Crowes)\n",
      "\n",
      "                      :-) GROMACS - gmx mdrun, 2024.2 (-:\n",
      "\n",
      "Executable:   /home/saeed/.local/gromacs_2024/bin/gmx_2024\n",
      "Data prefix:  /home/saeed/.local/gromacs_2024\n",
      "Working dir:  /media/saeed/Expansion/ASU/results/1,6HD/wat_1.6HD_dens/thirtytwo_1.6HD/equilib1_nvt/20ns\n",
      "Command line:\n",
      "  gmx_2024 mdrun -ntmpi 1 -v -deffnm nvt\n",
      "\n",
      "Reading file nvt.tpr, VERSION 2024.2 (single precision)\n",
      "Changing nstlist from 20 to 100, rlist from 1.032 to 1.173\n",
      "\n",
      "Update groups can not be used for this system because there are three or more consecutively coupled constraints\n",
      "\n",
      "1 GPU selected for this run.\n",
      "Mapping of GPU IDs to the 2 GPU tasks in the 1 rank on this node:\n",
      "  PP:0,PME:0\n",
      "PP tasks will do (non-perturbed) short-ranged interactions on the GPU\n",
      "PP task will update and constrain coordinates on the CPU\n",
      "PME tasks will do all aspects on the GPU\n",
      "Using 1 MPI thread\n",
      "Using 24 OpenMP threads \n",
      "\n",
      "starting mdrun 'three 1.6HD in water'\n",
      "5000000 steps,  10000.0 ps.\n",
      "step 7500: timed with pme grid 96 96 96, coulomb cutoff 1.000: 219.2 M-cycles\n",
      "step 7700: timed with pme grid 80 84 84, coulomb cutoff 1.134: 195.7 M-cycles\n",
      "step 7900: timed with pme grid 72 72 72, coulomb cutoff 1.317: 196.3 M-cycles\n",
      "step 8100: timed with pme grid 64 64 64, coulomb cutoff 1.482: 221.9 M-cycles\n",
      "step 8300: timed with pme grid 64 72 72, coulomb cutoff 1.418: 198.2 M-cycles\n",
      "step 8500: timed with pme grid 72 72 72, coulomb cutoff 1.317: 196.1 M-cycles\n",
      "step 8700: timed with pme grid 72 80 80, coulomb cutoff 1.261: 195.4 M-cycles\n",
      "step 8900: timed with pme grid 80 80 80, coulomb cutoff 1.186: 260.7 M-cycles\n",
      "step 9100: timed with pme grid 80 84 84, coulomb cutoff 1.134: 209.5 M-cycles\n",
      "step 9300: timed with pme grid 84 96 96, coulomb cutoff 1.080: 195.8 M-cycles\n",
      "              optimal pme grid 72 80 80, coulomb cutoff 1.261\n",
      "step 4999900, remaining wall clock time:     0 s          ish Fri Aug  2 12:17:01 2024, will finish Fri Aug  2 12:07:35 2024, will finish Fri Aug  2 12:05:10 2024, will finish Fri Aug  2 12:04:47 2024Fri Aug  2 12:04:41 2024Fri Aug  2 12:04:28 2024Fri Aug  2 12:04:23 2024, will finish Fri Aug  2 12:04:06 2024, will finish Fri Aug  2 12:04:06 2024, will finish Fri Aug  2 12:04:06 2024, will finish Fri Aug  2 12:04:03 2024, will finish Fri Aug  2 12:04:01 2024, will finish Fri Aug  2 12:04:00 2024, will finish Fri Aug  2 12:04:01 2024, will finish Fri Aug  2 12:04:16 2024, will finish Fri Aug  2 12:04:28 2024, will finish Fri Aug  2 12:04:32 2024, will finish Fri Aug  2 12:04:32 2024, will finish Fri Aug  2 12:04:32 2024, will finish Fri Aug  2 12:04:33 2024, will finish Fri Aug  2 12:04:33 2024\n",
      "Writing final coordinates.\n",
      "step 5000000, remaining wall clock time:     0 s          \n",
      "               Core t (s)   Wall t (s)        (%)\n",
      "       Time:    79514.185     3313.098     2400.0\n",
      "                         55:13\n",
      "                 (ns/day)    (hour/ns)\n",
      "Performance:      260.783        0.092\n",
      "\n",
      "GROMACS reminds you: \"Do the Dog On the Ground\" (Red Hot Chili Peppers)\n",
      "\n"
     ]
    }
   ],
   "source": [
    "!gmx_2024 grompp -f nvt.mdp -c em.gro -r em.gro -p complex3.top -o nvt.tpr \n",
    "!gmx_2024 mdrun -ntmpi 1 -v -deffnm nvt"
   ]
  },
  {
   "cell_type": "markdown",
   "metadata": {
    "nbpresent": {
     "id": "828a3d07-e09e-44a3-8c97-350bb3a42a84"
    }
   },
   "source": [
    "Your computer should be working at full speed now to finish this simulation; it should be done in 5 to 10 minutes. "
   ]
  },
  {
   "cell_type": "markdown",
   "metadata": {},
   "source": [
    "*Note: if you do not want to wait, but look at some of the results directly, copy the data from the /reference directory into the current directory. To do this from within this notebook, remove the comment characters (#) in the following cell*  "
   ]
  },
  {
   "cell_type": "code",
   "execution_count": null,
   "metadata": {},
   "outputs": [],
   "source": [
    "## ONLY execute the lines below if you do not want to run and wait for the simulation to finish\n",
    "#!cp reference/nvt_charmm.edr nvt.edr\n",
    "#!cp reference/nvt_charmm.gro nvt.gro\n",
    "#!cp reference/nvt_charmm.cpt nvt.cpt"
   ]
  },
  {
   "cell_type": "markdown",
   "metadata": {
    "nbpresent": {
     "id": "cc6aa785-2b71-44bc-8a86-0c95e3b65c82"
    }
   },
   "source": [
    "Let's analyze the temperature progression, again using gmx energy:"
   ]
  },
  {
   "cell_type": "code",
   "execution_count": 120,
   "metadata": {
    "nbpresent": {
     "id": "a414818c-cb67-4514-a983-5322d9d388b0"
    },
    "scrolled": true
   },
   "outputs": [
    {
     "name": "stdout",
     "output_type": "stream",
     "text": [
      "                      :-) GROMACS - gmx energy, 2024.2 (-:\n",
      "\n",
      "Executable:   /home/saeed/.local/gromacs_2024/bin/gmx_2024\n",
      "Data prefix:  /home/saeed/.local/gromacs_2024\n",
      "Working dir:  /media/saeed/Expansion/ASU/results/1,6HD/wat_1.6HD_dens/thirtytwo_1.6HD/equilib1_nvt/20ns\n",
      "Command line:\n",
      "  gmx_2024 energy -f nvt.edr -o temperature.xvg -xvg none -b 20\n",
      "\n",
      "Opened nvt.edr as single precision energy file\n",
      "\n",
      "Select the terms you want from the following list by\n",
      "selecting either (part of) the name or the number or a combination.\n",
      "End your selection with an empty line or a zero.\n",
      "-------------------------------------------------------------------\n",
      "  1  Angle            2  Proper-Dih.      3  LJ-14            4  Coulomb-14    \n",
      "  5  LJ-(SR)          6  Disper.-corr.    7  Coulomb-(SR)     8  Coul.-recip.  \n",
      "  9  Potential       10  Kinetic-En.     11  Total-Energy    12  Conserved-En. \n",
      " 13  Temperature     14  Pres.-DC        15  Pressure        16  Constr.-rmsd  \n",
      " 17  Vir-XX          18  Vir-XY          19  Vir-XZ          20  Vir-YX        \n",
      " 21  Vir-YY          22  Vir-YZ          23  Vir-ZX          24  Vir-ZY        \n",
      " 25  Vir-ZZ          26  Pres-XX         27  Pres-XY         28  Pres-XZ       \n",
      " 29  Pres-YX         30  Pres-YY         31  Pres-YZ         32  Pres-ZX       \n",
      " 33  Pres-ZY         34  Pres-ZZ         35  #Surf*SurfTen   36  T-System      \n",
      " 37  Lamb-System   \n",
      "\n",
      "Last energy frame read 100 time 10000.000          \n",
      "\n",
      "Statistics over 4950001 steps [ 100.0000 through 10000.0000 ps ], 1 data sets\n",
      "All statistics are over 49501 points\n",
      "\n",
      "Energy                      Average   Err.Est.       RMSD  Tot-Drift\n",
      "-------------------------------------------------------------------------------\n",
      "Temperature                  298.15      0.033    3.08218   -0.24814  (K)\n",
      "\n",
      "GROMACS reminds you: \"A Man Needs a Maid\" (N. Young)\n",
      "\n"
     ]
    }
   ],
   "source": [
    "!echo \"Temperature\" | gmx_2024 energy -f nvt.edr -o temperature.xvg -xvg none -b 20"
   ]
  },
  {
   "cell_type": "code",
   "execution_count": 121,
   "metadata": {
    "nbpresent": {
     "id": "4ce04079-a188-4372-ac3f-10665cd8b1a5"
    }
   },
   "outputs": [
    {
     "name": "stderr",
     "output_type": "stream",
     "text": [
      "<>:4: SyntaxWarning: invalid escape sequence '\\s'\n",
      "<>:4: SyntaxWarning: invalid escape sequence '\\s'\n",
      "/tmp/ipykernel_12336/4106920760.py:4: SyntaxWarning: invalid escape sequence '\\s'\n",
      "  df = pd.read_csv('temperature.xvg', sep='\\s+', header=None, names=['time','temperature'])\n"
     ]
    },
    {
     "data": {
      "image/png": "[encoded data removed]",
      "text/plain": [
       "<Figure size 640x480 with 1 Axes>"
      ]
     },
     "metadata": {},
     "output_type": "display_data"
    }
   ],
   "source": [
    "import pandas as pd\n",
    "import matplotlib.pyplot as plt\n",
    "\n",
    "df = pd.read_csv('temperature.xvg', sep='\\s+', header=None, names=['time','temperature'])\n",
    "df.plot('time')\n",
    "plt.savefig('temperature.png')"
   ]
  },
  {
   "cell_type": "markdown",
   "metadata": {},
   "source": [
    "Or for alterantive visualization, remove the comment characters (#) in the following cells:"
   ]
  },
  {
   "cell_type": "code",
   "execution_count": null,
   "metadata": {
    "nbpresent": {
     "id": "a414818c-cb67-4514-a983-5322d9d388b0"
    },
    "scrolled": true
   },
   "outputs": [],
   "source": [
    "#!echo \"Temperature\" | gmx energy -f nvt.edr -o temperature.xvg -b 20"
   ]
  },
  {
   "cell_type": "code",
   "execution_count": null,
   "metadata": {
    "nbpresent": {
     "id": "e44de384-42ac-4813-9a45-cc496b28a4d7"
    },
    "scrolled": true
   },
   "outputs": [],
   "source": [
    "#!xmgrace temperature.xvg"
   ]
  },
  {
   "cell_type": "markdown",
   "metadata": {
    "nbpresent": {
     "id": "00806afa-b604-4964-9616-edc3ff3d046d"
    }
   },
   "source": [
    "From the plot, it is clear that the temperature of the system quickly reaches the target value (300 K), and remains stable over the remainder of the equilibration. For this system, an equilibration period (on the order of 50 ps) may be adequate."
   ]
  },
  {
   "cell_type": "markdown",
   "metadata": {
    "nbpresent": {
     "id": "82f60247-efd9-4559-9b40-ddc31d78b0cf"
    }
   },
   "source": [
    "# Equilibration run - pressure"
   ]
  },
  {
   "cell_type": "markdown",
   "metadata": {
    "nbpresent": {
     "id": "d420cdd6-a94d-49a4-8776-c5ceee7b3cb4"
    }
   },
   "source": [
    "The previous step, NVT equilibration, stabilized the temperature of the system. Prior to data collection, we must also stabilize the pressure (and thus also the density) of the system. Equilibration of pressure is conducted under an NPT ensemble, wherein the Number of particles, Pressure, and Temperature are all constant. The ensemble is also called the \"isothermal-isobaric\" ensemble, and most closely resembles experimental conditions.\n",
    "\n",
    "The .mdp file used for a 100-ps NPT equilibration can be found here. It is not drastically different from the parameter file used for NVT equilibration. Note the addition of the pressure coupling section. Berendsen barostat is used for this equilibation phase."
   ]
  },
  {
   "cell_type": "code",
   "execution_count": 66,
   "metadata": {
    "nbpresent": {
     "id": "cf4e0e9a-6503-430f-8c60-815a9ae22616"
    }
   },
   "outputs": [
    {
     "name": "stdout",
     "output_type": "stream",
     "text": [
      "/media/saeed/Expansion/ASU/results/1,6HD/wat_1.6HD_dens/eleven_1.6HD/antechamber/equilib_npt/3000water/new_itp/both_dispCorr_vdwModif/2nd\n"
     ]
    }
   ],
   "source": [
    "# Change to the data directory\n",
    "# Note that executing this command twice will result in an error you can ignore\n",
    "%cd /media/saeed/Expansion/ASU/results/1,6HD/wat_1.6HD_dens/eleven_1.6HD/antechamber/equilib_npt/3000water/new_itp/both_dispCorr_vdwModif/2nd"
   ]
  },
  {
   "cell_type": "code",
   "execution_count": null,
   "metadata": {},
   "outputs": [],
   "source": [
    "!cat npt.mdp"
   ]
  },
  {
   "cell_type": "markdown",
   "metadata": {
    "nbpresent": {
     "id": "d420cdd6-a94d-49a4-8776-c5ceee7b3cb4"
    }
   },
   "source": [
    "A few other changes:\n",
    "\n",
    "- `continuation = yes`: We are continuing the simulation from the NVT equilibration phase\n",
    "- `gen_vel = no`: Velocities are read from the trajectory (see below) \n",
    "\n",
    "We will call grompp and mdrun just as we did for NVT equilibration. Note that we are now including the -t flag to include the checkpoint file from the NVT equilibration; this file contains all the necessary state variables to continue our simulation. To conserve the velocities produced during NVT, we must include the final coordinate file (output) of the NVT simulation using the option (-c)."
   ]
  },
  {
   "cell_type": "markdown",
   "metadata": {
    "nbpresent": {
     "id": "6fd8fd4f-6972-4eed-91c9-805282079174"
    }
   },
   "source": [
    "Now we'll start an MD simulation just like before - this one will take a few minutes; that's why it is commented out. Go ahead run it if you want to generate your own data.   "
   ]
  },
  {
   "cell_type": "code",
   "execution_count": null,
   "metadata": {
    "nbpresent": {
     "id": "d0031438-f9e0-4d31-9c19-df4dc92d2d22"
    }
   },
   "outputs": [],
   "source": [
    "!gmx_2024 grompp -f npt.mdp -c nvt.gro -r nvt.gro -t nvt.cpt -p complex3.top -o npt.tpr\n",
    "!gmx_2024 mdrun -ntmpi 1 -v -deffnm npt -nb gpu"
   ]
  },
  {
   "cell_type": "markdown",
   "metadata": {
    "nbpresent": {
     "id": "d0acf72c-7b94-4864-89a4-84674b63a04e"
    }
   },
   "source": [
    "If the simulation takes too long to run for this tutorial, you may use the provided data by copying it to the current directory. But remember that you can always check/analyse the output files while the simulation is still running. "
   ]
  },
  {
   "cell_type": "code",
   "execution_count": null,
   "metadata": {
    "nbpresent": {
     "id": "cefe08a1-7c2d-4d1d-a575-50a07b1254d8"
    }
   },
   "outputs": [],
   "source": [
    "##ONLY execute the lines below if you do not want to run and wait for the simulation to finish\n",
    "#!cp reference/npt_charmm.edr npt.edr\n",
    "#!cp reference/npt_charmm.gro npt.gro\n",
    "#!cp reference/npt_charmm.cpt npt.cpt"
   ]
  },
  {
   "cell_type": "markdown",
   "metadata": {
    "nbpresent": {
     "id": "eb120f75-b472-4cb1-a3ee-21c580ca03e7"
    }
   },
   "source": [
    "Let's analyze the pressure progression, again using energy:"
   ]
  },
  {
   "cell_type": "code",
   "execution_count": null,
   "metadata": {
    "nbpresent": {
     "id": "dd41db3e-bcdb-4cad-a8c7-834ebd3b6078"
    }
   },
   "outputs": [],
   "source": [
    "!echo \"Pressure\" | gmx_2024 energy -f npt.edr -o pressure.xvg -xvg none"
   ]
  },
  {
   "cell_type": "code",
   "execution_count": null,
   "metadata": {
    "nbpresent": {
     "id": "4ce04079-a188-4372-ac3f-10665cd8b1a5"
    },
    "scrolled": true
   },
   "outputs": [],
   "source": [
    "import pandas as pd\n",
    "import matplotlib.pyplot as plt\n",
    "\n",
    "df = pd.read_csv('pressure.xvg', sep='\\s+', header=None, names=['time','pressure'])\n",
    "df.plot('time')\n",
    "plt.savefig('pressure.png')"
   ]
  },
  {
   "cell_type": "markdown",
   "metadata": {},
   "source": [
    "Or for alterantive visualization, remove the comment characters (#) in the following cells:"
   ]
  },
  {
   "cell_type": "code",
   "execution_count": 112,
   "metadata": {
    "nbpresent": {
     "id": "a414818c-cb67-4514-a983-5322d9d388b0"
    },
    "scrolled": true
   },
   "outputs": [],
   "source": [
    "#!echo \"Pressure\" | gmx energy -f npt.edr -o pressure.xvg"
   ]
  },
  {
   "cell_type": "code",
   "execution_count": 113,
   "metadata": {
    "nbpresent": {
     "id": "c1fd41ec-970c-46aa-abf9-23954d3eb887"
    },
    "scrolled": true
   },
   "outputs": [],
   "source": [
    "#!xmgrace pressure.xvg"
   ]
  },
  {
   "cell_type": "markdown",
   "metadata": {
    "nbpresent": {
     "id": "24293621-f825-48bb-8493-b42fbc65c616"
    }
   },
   "source": [
    "The pressure value fluctuates widely over the course of the 100-ps equilibration phase, but this behavior is not unexpected. The reference pressure was set to 1 bar, so is this outcome acceptable? Pressure is a quantity that fluctuates widely over the course of an MD simulation, as is clear from the large root-mean-square fluctuation (in the order of 100 bar), so statistically speaking, one cannot distinguish a difference between the obtained average and the target/reference value (1 bar). \n",
    "\n",
    "Let's take a look at density as well using energy."
   ]
  },
  {
   "cell_type": "code",
   "execution_count": 67,
   "metadata": {
    "nbpresent": {
     "id": "5f5636cc-2d8e-4fcb-b1a3-a6aa5e059be9"
    },
    "scrolled": true
   },
   "outputs": [
    {
     "name": "stdout",
     "output_type": "stream",
     "text": [
      "                      :-) GROMACS - gmx energy, 2024.2 (-:\n",
      "\n",
      "Executable:   /home/saeed/.local/gromacs_2024/bin/gmx_2024\n",
      "Data prefix:  /home/saeed/.local/gromacs_2024\n",
      "Working dir:  /media/saeed/Expansion/ASU/results/1,6HD/wat_1.6HD_dens/eleven_1.6HD/antechamber/equilib_npt/3000water/new_itp/both_dispCorr_vdwModif/2nd\n",
      "Command line:\n",
      "  gmx_2024 energy -f npt.edr -o density.xvg -xvg none\n",
      "\n",
      "Opened npt.edr as single precision energy file\n",
      "\n",
      "Select the terms you want from the following list by\n",
      "selecting either (part of) the name or the number or a combination.\n",
      "End your selection with an empty line or a zero.\n",
      "-------------------------------------------------------------------\n",
      "  1  Angle            2  Proper-Dih.      3  LJ-14            4  Coulomb-14    \n",
      "  5  LJ-(SR)          6  Disper.-corr.    7  Coulomb-(SR)     8  Coul.-recip.  \n",
      "  9  Potential       10  Kinetic-En.     11  Total-Energy    12  Temperature   \n",
      " 13  Pres.-DC        14  Pressure        15  Constr.-rmsd    16  Box-X         \n",
      " 17  Box-Y           18  Box-Z           19  Volume          20  Density       \n",
      " 21  pV              22  Enthalpy        23  Vir-XX          24  Vir-XY        \n",
      " 25  Vir-XZ          26  Vir-YX          27  Vir-YY          28  Vir-YZ        \n",
      " 29  Vir-ZX          30  Vir-ZY          31  Vir-ZZ          32  Pres-XX       \n",
      " 33  Pres-XY         34  Pres-XZ         35  Pres-YX         36  Pres-YY       \n",
      " 37  Pres-YZ         38  Pres-ZX         39  Pres-ZY         40  Pres-ZZ       \n",
      " 41  #Surf*SurfTen   42  Box-Vel-XX      43  Box-Vel-YY      44  Box-Vel-ZZ    \n",
      " 45  T-System      \n",
      "\n",
      "\n",
      "Back Off! I just backed up density.xvg to ./#density.xvg.1#\n",
      "Last energy frame read 250 time 10000.000         \n",
      "\n",
      "Statistics over 5000001 steps [ 0.0000 through 10000.0000 ps ], 1 data sets\n",
      "All statistics are over 500001 points\n",
      "\n",
      "Energy                      Average   Err.Est.       RMSD  Tot-Drift\n",
      "-------------------------------------------------------------------------------\n",
      "Density                     973.467         24    151.551    140.477  (kg/m^3)\n",
      "\n",
      "GROMACS reminds you: \"Is This the Right Room for an Argument ?\" (Monty Python)\n",
      "\n"
     ]
    }
   ],
   "source": [
    "!echo \"Density\" | gmx_2024 energy -f npt.edr -o density.xvg -xvg none"
   ]
  },
  {
   "cell_type": "code",
   "execution_count": 68,
   "metadata": {
    "nbpresent": {
     "id": "4ce04079-a188-4372-ac3f-10665cd8b1a5"
    }
   },
   "outputs": [
    {
     "data": {
      "image/png": "[encoded data removed]",
      "text/plain": [
       "<Figure size 640x480 with 1 Axes>"
      ]
     },
     "metadata": {},
     "output_type": "display_data"
    }
   ],
   "source": [
    "import numpy as np\n",
    "import matplotlib.pyplot as plt\n",
    "\n",
    "def read_xvg(filename):\n",
    "    data = []\n",
    "    \n",
    "    with open(filename, 'r') as file:\n",
    "        for line in file:\n",
    "            # Skip lines that start with '#' or '@' (comments or metadata)\n",
    "            if line.startswith('#') or line.startswith('@'):\n",
    "                continue\n",
    "            \n",
    "            # Split the line into values and convert to float\n",
    "            values = list(map(float, line.split()))\n",
    "            \n",
    "            # Append the values to the data list\n",
    "            data.append(values)\n",
    "\n",
    "    # Convert the list of lists into a NumPy array\n",
    "    return np.array(data)\n",
    "\n",
    "# Example usage\n",
    "filename = 'density.xvg'\n",
    "density_data = read_xvg(filename)\n",
    "\n",
    "# Now, you can access the data as a NumPy array\n",
    "#print(density_data)\n",
    "\n",
    "\n",
    "# Plot the first column against the second column\n",
    "#plt.plot(density_data[:, 0], density_data[:, 1])\n",
    "\n",
    "# Plot from row 201 (index 200) to the end\n",
    "plt.plot(density_data[10:, 0], density_data[10:, 1])\n",
    "\n",
    "#print(density_data[200:, 0])\n",
    "\n",
    "# Adding labels and a title\n",
    "plt.xlabel('Column 1')\n",
    "plt.ylabel('Column 2')\n",
    "plt.title('Plot of Column 1 vs Column 2')\n",
    "\n",
    "# Show the plot\n",
    "plt.show()"
   ]
  },
  {
   "cell_type": "code",
   "execution_count": 69,
   "metadata": {},
   "outputs": [
    {
     "name": "stdout",
     "output_type": "stream",
     "text": [
      "996.9945595145227\n"
     ]
    }
   ],
   "source": [
    "# Sum all elements of the second column (column index 1)\n",
    "sum_density=np.sum(density_data[10:, 1])\n",
    "# Compute the total number of elements in the second column\n",
    "num_element= density_data[10:, 1].shape[0]\n",
    "# Divide the sum by the total number of elements (mean of the second column)\n",
    "\n",
    "#average_density=np.divide(sum_density,num_element)  #eigther this or:\n",
    "average_density=sum_density/num_element\n",
    "print(average_density)"
   ]
  },
  {
   "cell_type": "code",
   "execution_count": null,
   "metadata": {},
   "outputs": [],
   "source": []
  },
  {
   "cell_type": "code",
   "execution_count": null,
   "metadata": {},
   "outputs": [],
   "source": []
  },
  {
   "cell_type": "code",
   "execution_count": 73,
   "metadata": {},
   "outputs": [
    {
     "name": "stdout",
     "output_type": "stream",
     "text": [
      "Average of first 20 rows: [  95.         1009.17646485]\n"
     ]
    }
   ],
   "source": [
    "import numpy as np\n",
    "\n",
    "def read_xvg(file_path):\n",
    "    data = []\n",
    "    with open(file_path, 'r') as file:\n",
    "        for line in file:\n",
    "            if line.startswith('#') or line.startswith('@'):\n",
    "                continue  # Skip header lines\n",
    "            values = line.split()\n",
    "            data.append([float(value) for value in values])\n",
    "    return np.array(data)\n",
    "\n",
    "def calculate_average_of_first_20_rows(data):\n",
    "    first_20_rows = data[:20, :]\n",
    "    return np.mean(first_20_rows, axis=0)\n",
    "\n",
    "def main():\n",
    "    file_path = 'density.xvg'  # Replace with your .xvg file path\n",
    "    data = read_xvg(file_path)\n",
    "    if len(data) < 20:\n",
    "        print(\"The file has less than 20 rows of data.\")\n",
    "        return\n",
    "    average = calculate_average_of_first_20_rows(data)\n",
    "    print(\"Average of first 20 rows:\", average)\n",
    "\n",
    "if __name__ == '__main__':\n",
    "    main()\n",
    "\n"
   ]
  },
  {
   "cell_type": "code",
   "execution_count": 75,
   "metadata": {},
   "outputs": [
    {
     "name": "stdout",
     "output_type": "stream",
     "text": [
      "Average of last 20 rows: [905.        998.1271972]\n"
     ]
    }
   ],
   "source": [
    "import numpy as np\n",
    "\n",
    "def read_xvg(file_path):\n",
    "    data = []\n",
    "    with open(file_path, 'r') as file:\n",
    "        for line in file:\n",
    "            if line.startswith('#') or line.startswith('@'):\n",
    "                continue  # Skip header lines\n",
    "            values = line.split()\n",
    "            data.append([float(value) for value in values])\n",
    "    return np.array(data)\n",
    "\n",
    "def calculate_average_of_last_20_rows(data):\n",
    "    last_20_rows = data[-20:, :]\n",
    "    return np.mean(last_20_rows, axis=0)\n",
    "\n",
    "def main():\n",
    "    file_path = 'density.xvg'  # Replace with your .xvg file name\n",
    "    data = read_xvg(file_path)\n",
    "    if len(data) < 20:\n",
    "        print(\"The file has less than 20 rows of data.\")\n",
    "        return\n",
    "    average = calculate_average_of_last_20_rows(data)\n",
    "    print(\"Average of last 20 rows:\", average)\n",
    "\n",
    "if __name__ == '__main__':\n",
    "    main()"
   ]
  },
  {
   "cell_type": "markdown",
   "metadata": {},
   "source": [
    "Or for alterantive visualization, remove the comment characters (#) in the following cells:"
   ]
  },
  {
   "cell_type": "code",
   "execution_count": null,
   "metadata": {
    "nbpresent": {
     "id": "a414818c-cb67-4514-a983-5322d9d388b0"
    },
    "scrolled": true
   },
   "outputs": [],
   "source": [
    "#!echo \"Density\" | gmx energy -f npt.edr -o density.xvg"
   ]
  },
  {
   "cell_type": "code",
   "execution_count": null,
   "metadata": {
    "nbpresent": {
     "id": "1b457711-eabc-471c-adff-b44c56fefca1"
    },
    "scrolled": true
   },
   "outputs": [],
   "source": [
    "#!xmgrace density.xvg"
   ]
  },
  {
   "cell_type": "markdown",
   "metadata": {
    "nbpresent": {
     "id": "55be45c5-3caa-472d-995e-9e9532ff4f86"
    }
   },
   "source": [
    "The average value is close to the experimental value of 1000 kg m-3 and the expected density of the TIP3P model of 1001 kg m-3. The parameters for the TIP3P water model closely replicate experimental values for water. The density values are very stable over time, indicating that the system is well-equilibrated now with respect to pressure and density.\n",
    "\n",
    "Please note: Pressure-related terms are slow to converge, and thus you may have to run NPT equilibration slightly longer than is specified here."
   ]
  },
  {
   "cell_type": "markdown",
   "metadata": {
    "nbpresent": {
     "id": "bcefd2f6-8318-40a7-98e0-dc89ecb9ca56"
    }
   },
   "source": [
    "# The \"production\" run"
   ]
  },
  {
   "cell_type": "markdown",
   "metadata": {
    "nbpresent": {
     "id": "f366f0c1-5bb1-47a1-a8af-e6f79e7eb2fc"
    }
   },
   "source": [
    "Upon completion of the two equilibration phases, the system is now well-equilibrated at the desired temperature and pressure. We are now ready to release the position restraints and run production MD for data collection. The process is just like we have seen before, as we will make use of the checkpoint file (which in this case now contains preserve pressure coupling information) to grompp. We will run a 1-ns MD simulation. Note we have explictly add a section that controls the output frequency in log file (.log), energy file (.edr), in the trajcotry file (.trr) and the compress trajectory file (.xtc)."
   ]
  },
  {
   "cell_type": "code",
   "execution_count": null,
   "metadata": {},
   "outputs": [],
   "source": [
    "!cat input/md-charmm.mdp"
   ]
  },
  {
   "cell_type": "markdown",
   "metadata": {
    "nbpresent": {
     "id": "f0ff0a16-ecdd-40e6-af2c-4234793043c1"
    }
   },
   "source": [
    "Here, we use velocity-rescaling temperature coupling as thermostat and stochastic cell rescaling as barostat. A full explanation of the available thermostats and barostats in GROMACS can be found in the manual (see [here](http://manual.gromacs.org/documentation/current/reference-manual/algorithms/molecular-dynamics.html#temperature-coupling) for thermostat and [here](http://manual.gromacs.org/documentation/current/reference-manual/algorithms/molecular-dynamics.html#pressure-coupling) for barostat). \n",
    "\n",
    "Note, for thermostats and barostats we need to compute temperature or pressure. This requires global communication and is currently not done on GPU. To reduce these computational cost, [nsttcouple](https://manual.gromacs.org/current/user-guide/mdp-options.html#mdp-nsttcouple) and [nstpcouple](https://manual.gromacs.org/current/user-guide/mdp-options.html#mdp-nstpcouple) (frequency for coupling temperature/pressure) are set to 100 by default in GROMACS 2023 (see the webinar [What's new in GROMACS2023](https://www.gromacs.org/tutorial_webinar.html). The recommendation is to use tau_t = 1 ps for V-rescale and tau_p = 5 ps for C-rescale. \n",
    "\n",
    "`gmx grompp` will print an estimate for generated data and PME load. PME load will dictate how many processors should be dedicated to the PME calculation, and how many for the PP (everything except for PME) calculations. Refer to the [manual](http://manual.gromacs.org/documentation/current/user-guide/mdrun-performance.html#parallelization-schemes) for details."
   ]
  },
  {
   "cell_type": "code",
   "execution_count": null,
   "metadata": {
    "nbpresent": {
     "id": "9749ba51-ceef-4d26-a92b-f056a3a4e4c1"
    },
    "scrolled": true
   },
   "outputs": [],
   "source": [
    "!gmx grompp -f input/md-charmm.mdp -c npt.gro -t npt.cpt -p topol.top -o md.tpr"
   ]
  },
  {
   "cell_type": "code",
   "execution_count": null,
   "metadata": {
    "nbpresent": {
     "id": "94034110-7553-4031-ab62-01022bce77b8"
    },
    "scrolled": true
   },
   "outputs": [],
   "source": [
    "!gmx mdrun -ntmpi 1 -v -deffnm md"
   ]
  },
  {
   "cell_type": "markdown",
   "metadata": {
    "nbpresent": {
     "id": "247e14a4-0892-4f32-9624-8402d0b7e070"
    }
   },
   "source": [
    "As before, this run will take some time - probably more than planned for going through this tutorial. As an alternative, use the data provided here"
   ]
  },
  {
   "cell_type": "code",
   "execution_count": null,
   "metadata": {
    "nbpresent": {
     "id": "cbf6faf8-a98c-464d-8e0f-aa2fd6ae36cb"
    }
   },
   "outputs": [],
   "source": [
    "##ONLY execute the lines below if you do not want to run and wait for the simulation to finish\n",
    "#!cp reference/md_charmm.log md.log\n",
    "#!cp reference/md_charmm.edr md.edr\n",
    "#!cp reference/md_charmm.gro md.gro\n",
    "#!cp reference/md_charmm.xtc md.xtc"
   ]
  },
  {
   "cell_type": "markdown",
   "metadata": {
    "nbpresent": {
     "id": "f5ecb43b-4d2f-44e7-85dd-62f9d2665a17"
    }
   },
   "source": [
    "# Analysis"
   ]
  },
  {
   "cell_type": "markdown",
   "metadata": {
    "nbpresent": {
     "id": "ef9d62ee-3df6-4b4e-ba99-0eb1e6374fb2"
    }
   },
   "source": [
    "Now that we have simulated our protein, we should run some analysis on the system. What types of data are important? This is an important question to ask before running the simulation, so you should have some ideas about the types of data you will want to collect in your own systems. For this tutorial, a few basic tools will be introduced."
   ]
  },
  {
   "cell_type": "markdown",
   "metadata": {
    "nbpresent": {
     "id": "ef9d62ee-3df6-4b4e-ba99-0eb1e6374fb2"
    }
   },
   "source": [
    "The first tool is [`gmx trjconv`](https://manual.gromacs.org/current/onlinehelp/gmx-trjconv.html), which is used as a post-processing tool to strip out coordinates, correct for periodicity, or manually alter the trajectory (time units, frame frequency, etc). Here you find a suggested workflow for `gmx trjconv` [link](https://manual.gromacs.org/2021/user-guide/terminology.html?highlight=periodic%20boundary). This exercise, we will use `gmx trjconv` to account for any periodicity in the system. The protein will diffuse through the unit cell, and may appear \"broken\" or may \"jump\" across to the other side of the box. To account for such actions, issue the following:"
   ]
  },
  {
   "cell_type": "code",
   "execution_count": null,
   "metadata": {
    "nbpresent": {
     "id": "49e846cb-4d93-4ff7-972e-2a01e68ffe13"
    },
    "scrolled": true
   },
   "outputs": [],
   "source": [
    "!printf \"1\\n1\\n\" | gmx trjconv -s md.tpr -f md.xtc -o md_center.xtc -center -pbc mol"
   ]
  },
  {
   "cell_type": "markdown",
   "metadata": {
    "nbpresent": {
     "id": "232962b5-46c5-460e-a6cd-d2c59ae98683"
    }
   },
   "source": [
    "Select 1 (\"Protein\") as the group to be centered and 1 (\"Protein\") for output. We will conduct all our analyses on this \"corrected\" trajectory. Let's look at so obtained trajcetory using nglview. "
   ]
  },
  {
   "cell_type": "code",
   "execution_count": null,
   "metadata": {
    "nbpresent": {
     "id": "f45c2308-0e74-4025-ac1e-200ba2869162"
    },
    "scrolled": true
   },
   "outputs": [],
   "source": [
    "import nglview as ng \n",
    "import mdtraj as md\n",
    "traj = md.load(\"md_center.xtc\", top=\"1fjs_newbox.gro\")\n",
    "view = ng.show_mdtraj(traj)\n",
    "view"
   ]
  },
  {
   "cell_type": "markdown",
   "metadata": {},
   "source": [
    "In alternative, remove the comment character (#) to use VMD "
   ]
  },
  {
   "cell_type": "code",
   "execution_count": null,
   "metadata": {
    "nbpresent": {
     "id": "f45c2308-0e74-4025-ac1e-200ba2869162"
    },
    "scrolled": true
   },
   "outputs": [],
   "source": [
    "#!vmd 1fjs_newbox.gro md_center.xtc"
   ]
  },
  {
   "cell_type": "markdown",
   "metadata": {
    "nbpresent": {
     "id": "ef9d62ee-3df6-4b4e-ba99-0eb1e6374fb2"
    }
   },
   "source": [
    "Note, the protein should never interact with its periodic image (minimum image convention), otherwise the forces calculated will be spurious. To calculate the distance between the protein and its periodic image, we use the tool [`gmx mindist`](https://manual.gromacs.org/current/onlinehelp/gmx-mindist.html) with the option -pi. "
   ]
  },
  {
   "cell_type": "code",
   "execution_count": null,
   "metadata": {
    "nbpresent": {
     "id": "49e846cb-4d93-4ff7-972e-2a01e68ffe13"
    },
    "scrolled": true
   },
   "outputs": [],
   "source": [
    "!printf \"1\\n\" | gmx mindist -s md.tpr -f md_center.xtc -pi -od mindist.xvg \n",
    "#!xmgrace mindist.xvg"
   ]
  },
  {
   "cell_type": "markdown",
   "metadata": {},
   "source": [
    "The distance between the protein and its periodic image should not be smaller than the cut-off used to describe non-bonded interactions."
   ]
  },
  {
   "cell_type": "markdown",
   "metadata": {
    "nbpresent": {
     "id": "232962b5-46c5-460e-a6cd-d2c59ae98683"
    }
   },
   "source": [
    "Now let's look at structural stability. GROMACS has a built-in utility for RMSD calculations called [`gmx rms`](https://manual.gromacs.org/current/onlinehelp/gmx-rms.html). To calculate RMSD relative to the crystal structure, issue this command:"
   ]
  },
  {
   "cell_type": "code",
   "execution_count": null,
   "metadata": {
    "nbpresent": {
     "id": "41a754a7-38be-4f22-b1af-838fefef505b"
    }
   },
   "outputs": [],
   "source": [
    "!printf \"4\\n1\\n\" | gmx rms -s em.tpr -f md_center.xtc -o rmsd_xray.xvg -tu ns -xvg none"
   ]
  },
  {
   "cell_type": "markdown",
   "metadata": {
    "nbpresent": {
     "id": "ca9b922f-429b-45f5-b118-aa633c85c2e6"
    }
   },
   "source": [
    "Choose 4 (\"Backbone\") for both the least-squares fit and the group for RMSD calculation. The -tu flag will output the results in terms of ns, even though the trajectory was written in ps. This is done for clarity of the output (especially if you have a long simulation - 1ns does not look as nice as 100 ns). The output plot will show the RMSD relative to the structure present in the original pdb file:\n"
   ]
  },
  {
   "cell_type": "code",
   "execution_count": null,
   "metadata": {
    "nbpresent": {
     "id": "4ce04079-a188-4372-ac3f-10665cd8b1a5"
    }
   },
   "outputs": [],
   "source": [
    "import pandas as pd\n",
    "df = pd.read_csv('rmsd_xray.xvg', sep='\\s+', header=None, names=['time','RMSD'])\n",
    "df.plot('time')"
   ]
  },
  {
   "cell_type": "markdown",
   "metadata": {},
   "source": [
    "Or for alterantive visualization, remove the comment characters (#) in the following cells:"
   ]
  },
  {
   "cell_type": "code",
   "execution_count": null,
   "metadata": {
    "nbpresent": {
     "id": "41a754a7-38be-4f22-b1af-838fefef505b"
    },
    "scrolled": true
   },
   "outputs": [],
   "source": [
    "#!printf \"4\\n1\\n\" | gmx rms -s em.tpr -f md_center.xtc -o rmsd_xray.xvg -tu ns"
   ]
  },
  {
   "cell_type": "code",
   "execution_count": null,
   "metadata": {
    "nbpresent": {
     "id": "0938839f-aaff-455f-a2e0-8e6e1c5f7e19"
    },
    "scrolled": true
   },
   "outputs": [],
   "source": [
    "#!xmgrace rmsd_xray.xvg "
   ]
  },
  {
   "cell_type": "markdown",
   "metadata": {
    "nbpresent": {
     "id": "e09ab1d9-4a3c-4f31-a309-524cafbea23f"
    }
   },
   "source": [
    "The time series shows the RMSD levels off to ~0.15 nm (1.5 Å), indicating that the structure is stable. \n",
    "\n",
    "The option `-h` provides help information for GROMACS tool. "
   ]
  },
  {
   "cell_type": "code",
   "execution_count": null,
   "metadata": {},
   "outputs": [],
   "source": [
    "!gmx rms -h"
   ]
  },
  {
   "cell_type": "markdown",
   "metadata": {
    "nbpresent": {
     "id": "0c6ed6c2-b327-4aa5-be30-5a34dda3fb00"
    }
   },
   "source": [
    "## Radius of gyration"
   ]
  },
  {
   "cell_type": "markdown",
   "metadata": {
    "nbpresent": {
     "id": "5e00cc55-3f22-419c-b7ec-12b1a1974c87"
    }
   },
   "source": [
    "The radius of gyration of a protein is a measure of its compactness. If a protein is stably folded, it will likely maintain a relatively steady value of Rg. If a protein unfolds, its Rg will change over time. Let's analyze the radius of gyration for the protein in our simulation using GROMACS [`gmx gyrate`](https://manual.gromacs.org/current/onlinehelp/gmx-gyrate.html) tool:"
   ]
  },
  {
   "cell_type": "code",
   "execution_count": null,
   "metadata": {
    "nbpresent": {
     "id": "d5801034-d329-48bd-9563-b59b3df88421"
    },
    "scrolled": true
   },
   "outputs": [],
   "source": [
    "!echo \"1\" | gmx gyrate -f md_center.xtc -s md.tpr -o gyrate.xvg -xvg none"
   ]
  },
  {
   "cell_type": "code",
   "execution_count": null,
   "metadata": {
    "nbpresent": {
     "id": "4ce04079-a188-4372-ac3f-10665cd8b1a5"
    }
   },
   "outputs": [],
   "source": [
    "import pandas as pd\n",
    "df = pd.read_csv('gyrate.xvg', sep='\\s+', header=None, names=['time','Rg'], usecols=[0, 1])\n",
    "df.plot('time')"
   ]
  },
  {
   "cell_type": "markdown",
   "metadata": {},
   "source": [
    "Or for alterantive visualization, remove the comment characters (#) in the following cells:"
   ]
  },
  {
   "cell_type": "code",
   "execution_count": null,
   "metadata": {
    "nbpresent": {
     "id": "d5801034-d329-48bd-9563-b59b3df88421"
    },
    "scrolled": true
   },
   "outputs": [],
   "source": [
    "#!echo \"1\" | gmx gyrate -f md_center.xtc -s md.tpr -o gyrate.xvg "
   ]
  },
  {
   "cell_type": "code",
   "execution_count": null,
   "metadata": {
    "nbpresent": {
     "id": "bacba8b7-de93-4e5f-a08b-5154ace5af43"
    },
    "scrolled": true
   },
   "outputs": [],
   "source": [
    "#!xmgrace gyrate.xvg"
   ]
  },
  {
   "cell_type": "markdown",
   "metadata": {
    "nbpresent": {
     "id": "ca31ca31-edde-434e-9757-96e683450f2b"
    }
   },
   "source": [
    "We can see from the reasonably invariant Rg values that the protein remains very stable, in its compact (folded) form over the course of 1 ns at 300 K. This result is not unexpected, but illustrates an advanced capacity of GROMACS analysis that comes built-in."
   ]
  },
  {
   "cell_type": "markdown",
   "metadata": {
    "nbpresent": {
     "id": "0c6ed6c2-b327-4aa5-be30-5a34dda3fb00"
    }
   },
   "source": [
    "## Index file"
   ]
  },
  {
   "cell_type": "markdown",
   "metadata": {},
   "source": [
    "Index groups are necessary for almost every GROMACS tools. All GROMACS tools can generate default index groups. If one needs special index groups, he/she can use gmx [gmx make_ndx](https://manual.gromacs.org/current/onlinehelp/gmx-make_ndx.html) to generate an index file (ndx). For example the command `splitch 1` splits the group 1 (Protein) in chains and the command `q`  close the tool.  "
   ]
  },
  {
   "cell_type": "code",
   "execution_count": null,
   "metadata": {
    "scrolled": true
   },
   "outputs": [],
   "source": [
    "!printf \"splitch 1\\nq\\n\" | gmx make_ndx -f nvt.tpr -o "
   ]
  },
  {
   "cell_type": "markdown",
   "metadata": {},
   "source": [
    "Now we can calculate the hydrogen bonds between the two protein chains using the tool [gmx hbond](https://manual.gromacs.org/current/onlinehelp/gmx-hbond.html). The option -num provide the number of hydrogen bond as a function of time.  "
   ]
  },
  {
   "cell_type": "code",
   "execution_count": null,
   "metadata": {},
   "outputs": [],
   "source": [
    "!printf \"17\\n18\\n\"| gmx hbond -f md.xtc -s md.tpr  -n index.ndx -num -xvg none"
   ]
  },
  {
   "cell_type": "code",
   "execution_count": null,
   "metadata": {
    "nbpresent": {
     "id": "4ce04079-a188-4372-ac3f-10665cd8b1a5"
    }
   },
   "outputs": [],
   "source": [
    "import pandas as pd\n",
    "df = pd.read_csv('hbnum.xvg', sep='\\s+', header=None, names=['time','H-bonds'], usecols=[0, 1])\n",
    "df.plot('time')"
   ]
  },
  {
   "cell_type": "markdown",
   "metadata": {},
   "source": [
    "Or for alterantive visualization, remove the comment characters (#) in the following cells:"
   ]
  },
  {
   "cell_type": "code",
   "execution_count": null,
   "metadata": {},
   "outputs": [],
   "source": [
    "#!printf \"17\\n18\\n\"| gmx hbond -f md.xtc -s md.tpr  -n index.ndx -num"
   ]
  },
  {
   "cell_type": "code",
   "execution_count": null,
   "metadata": {},
   "outputs": [],
   "source": [
    "#!xmgrace hbnum.xvg"
   ]
  },
  {
   "cell_type": "markdown",
   "metadata": {},
   "source": [
    "## Report time"
   ]
  },
  {
   "cell_type": "markdown",
   "metadata": {},
   "source": [
    "Now that we have runned the simulation, we should report or recall about what type of simulation we have per\n",
    "formed. The GROMACS tool (`gmx report-methods`)[https://manual.gromacs.org/current/onlinehelp/gmx-report-methods.\n",
    "html] can be useful for this purpose. gmx report-methods print out basic system information on a performed run. It can also provide an unformatted text (with the option -o) or a LaTeX formatted output file with the option -m. \n",
    "Let's try it."
   ]
  },
  {
   "cell_type": "code",
   "execution_count": null,
   "metadata": {},
   "outputs": [],
   "source": [
    "!gmx report-methods -s md.tpr"
   ]
  },
  {
   "cell_type": "markdown",
   "metadata": {},
   "source": [
    "## Do you have any questions? Have a look at the user discussions on [GROMACS forums](htttp://forums.gromacs.org)"
   ]
  },
  {
   "cell_type": "markdown",
   "metadata": {
    "nbpresent": {
     "id": "f71b256d-7af7-4fc5-aecf-3a7470134fb9"
    }
   },
   "source": [
    "## Excursion: Plotting gromacs data with \"pandas\" in python and notebooks"
   ]
  },
  {
   "cell_type": "markdown",
   "metadata": {
    "nbpresent": {
     "id": "4c87141e-8583-497a-8c8c-22ca7e149a3f"
    }
   },
   "source": [
    "To analyse or visualize simulation data in python or jupyter notebooks, we can output a simplified xvg format from gmx-analysis tools with the option `-xvg none`"
   ]
  },
  {
   "cell_type": "code",
   "execution_count": null,
   "metadata": {
    "nbpresent": {
     "id": "9ebad872-0589-4675-a240-b89c396a35c1"
    },
    "scrolled": true
   },
   "outputs": [],
   "source": [
    "!echo \"12\\n0\\n\" | gmx energy -f em.edr -o potential.xvg -xvg none"
   ]
  },
  {
   "cell_type": "markdown",
   "metadata": {
    "nbpresent": {
     "id": "a4591650-99ca-436f-a572-7e254adb454e"
    }
   },
   "source": [
    "And here is the plot.."
   ]
  },
  {
   "cell_type": "code",
   "execution_count": null,
   "metadata": {
    "nbpresent": {
     "id": "4ce04079-a188-4372-ac3f-10665cd8b1a5"
    },
    "scrolled": true
   },
   "outputs": [],
   "source": [
    "import pandas as pd\n",
    "df = pd.read_csv('potential.xvg', sep='\\s+', header=None, names=['time','energy'])\n",
    "df.plot('time')"
   ]
  },
  {
   "cell_type": "code",
   "execution_count": null,
   "metadata": {},
   "outputs": [],
   "source": []
  }
 ],
 "metadata": {
  "anaconda-cloud": {},
  "kernelspec": {
   "display_name": "Python 3 (ipykernel)",
   "language": "python",
   "name": "python3"
  },
  "language_info": {
   "codemirror_mode": {
    "name": "ipython",
    "version": 3
   },
   "file_extension": ".py",
   "mimetype": "text/x-python",
   "name": "python",
   "nbconvert_exporter": "python",
   "pygments_lexer": "ipython3",
   "version": "3.12.2"
  },
  "nbpresent": {
   "slides": {
    "5ee989b6-b87f-45b2-b186-0f81e2eb6c0e": {
     "id": "5ee989b6-b87f-45b2-b186-0f81e2eb6c0e",
     "prev": null,
     "regions": {
      "1099d9ed-4336-403d-8924-acb02ce1d7c0": {
       "attrs": {
        "height": 0.2,
        "width": 0.4,
        "x": 0.1,
        "y": 0.7
       },
       "id": "1099d9ed-4336-403d-8924-acb02ce1d7c0"
      },
      "159e8040-85d4-4abc-8f26-2cf90a0407d7": {
       "attrs": {
        "height": 0.6,
        "width": 0.8,
        "x": 0.1,
        "y": 0.1
       },
       "id": "159e8040-85d4-4abc-8f26-2cf90a0407d7"
      },
      "d9ecb908-45c1-485f-bb18-bbc91a1fd84e": {
       "attrs": {
        "height": 0.2,
        "width": 0.4,
        "x": 0.5,
        "y": 0.7
       },
       "id": "d9ecb908-45c1-485f-bb18-bbc91a1fd84e"
      }
     }
    }
   },
   "themes": {}
  }
 },
 "nbformat": 4,
 "nbformat_minor": 4
}
